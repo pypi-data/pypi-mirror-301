{
 "cells": [
  {
   "cell_type": "code",
   "execution_count": 1,
   "metadata": {},
   "outputs": [
    {
     "data": {
      "text/html": [
       "<pre style=\"white-space:pre;overflow-x:auto;line-height:normal;font-family:Menlo,'DejaVu Sans Mono',consolas,'Courier New',monospace\"><span style=\"font-style: italic\">                                     Available Models                                     </span>\n",
       "┏━━━━━━━━━━━━━━━━┳━━━━━━━━━━━━━━━━━━━━━━━━━━━━━━━━━━━━━━━━━━━━━━━━━┳━━━━━━━━━━━━━━━━━━━━━┓\n",
       "┃<span style=\"font-weight: bold\"> Implementation </span>┃<span style=\"font-weight: bold\"> Model ID                                        </span>┃<span style=\"font-weight: bold\"> Input --&gt; Output    </span>┃\n",
       "┡━━━━━━━━━━━━━━━━╇━━━━━━━━━━━━━━━━━━━━━━━━━━━━━━━━━━━━━━━━━━━━━━━━━╇━━━━━━━━━━━━━━━━━━━━━┩\n",
       "│<span style=\"color: #008080; text-decoration-color: #008080\"> timm           </span>│<span style=\"color: #800080; text-decoration-color: #800080\"> eva02_large_patch14_448.mim_m38m_ft_in22k_in1k  </span>│<span style=\"color: #008000; text-decoration-color: #008000\"> image --&gt; class     </span>│\n",
       "│<span style=\"color: #008080; text-decoration-color: #008080\"> timm           </span>│<span style=\"color: #800080; text-decoration-color: #800080\"> eva02_large_patch14_448.mim_m38m_ft_in1k        </span>│<span style=\"color: #008000; text-decoration-color: #008000\"> image --&gt; class     </span>│\n",
       "│<span style=\"color: #008080; text-decoration-color: #008080\"> timm           </span>│<span style=\"color: #800080; text-decoration-color: #800080\"> eva02_large_patch14_448.mim_in22k_ft_in22k_in1k </span>│<span style=\"color: #008000; text-decoration-color: #008000\"> image --&gt; class     </span>│\n",
       "│<span style=\"color: #008080; text-decoration-color: #008080\"> timm           </span>│<span style=\"color: #800080; text-decoration-color: #800080\"> eva02_large_patch14_448.mim_in22k_ft_in1k       </span>│<span style=\"color: #008000; text-decoration-color: #008000\"> image --&gt; class     </span>│\n",
       "│<span style=\"color: #008080; text-decoration-color: #008080\"> timm           </span>│<span style=\"color: #800080; text-decoration-color: #800080\"> eva02_base_patch14_448.mim_in22k_ft_in22k_in1k  </span>│<span style=\"color: #008000; text-decoration-color: #008000\"> image --&gt; class     </span>│\n",
       "│<span style=\"color: #008080; text-decoration-color: #008080\"> timm           </span>│<span style=\"color: #800080; text-decoration-color: #800080\"> eva02_base_patch14_448.mim_in22k_ft_in1k        </span>│<span style=\"color: #008000; text-decoration-color: #008000\"> image --&gt; class     </span>│\n",
       "│<span style=\"color: #008080; text-decoration-color: #008080\"> timm           </span>│<span style=\"color: #800080; text-decoration-color: #800080\"> eva02_small_patch14_336.mim_in22k_ft_in1k       </span>│<span style=\"color: #008000; text-decoration-color: #008000\"> image --&gt; class     </span>│\n",
       "│<span style=\"color: #008080; text-decoration-color: #008080\"> timm           </span>│<span style=\"color: #800080; text-decoration-color: #800080\"> eva02_tiny_patch14_336.mim_in22k_ft_in1k        </span>│<span style=\"color: #008000; text-decoration-color: #008000\"> image --&gt; class     </span>│\n",
       "│<span style=\"color: #008080; text-decoration-color: #008080\"> transformers   </span>│<span style=\"color: #800080; text-decoration-color: #800080\"> Salesforce/blip2-opt-6.7b-coco                  </span>│<span style=\"color: #008000; text-decoration-color: #008000\"> image-text --&gt; text </span>│\n",
       "│<span style=\"color: #008080; text-decoration-color: #008080\"> transformers   </span>│<span style=\"color: #800080; text-decoration-color: #800080\"> Salesforce/blip2-flan-t5-xxl                    </span>│<span style=\"color: #008000; text-decoration-color: #008000\"> image-text --&gt; text </span>│\n",
       "│<span style=\"color: #008080; text-decoration-color: #008080\"> transformers   </span>│<span style=\"color: #800080; text-decoration-color: #800080\"> Salesforce/blip2-opt-6.7b                       </span>│<span style=\"color: #008000; text-decoration-color: #008000\"> image-text --&gt; text </span>│\n",
       "│<span style=\"color: #008080; text-decoration-color: #008080\"> transformers   </span>│<span style=\"color: #800080; text-decoration-color: #800080\"> Salesforce/blip2-opt-2.7b                       </span>│<span style=\"color: #008000; text-decoration-color: #008000\"> image-text --&gt; text </span>│\n",
       "│<span style=\"color: #008080; text-decoration-color: #008080\"> transformers   </span>│<span style=\"color: #800080; text-decoration-color: #800080\"> vikhyatk/moondream2                             </span>│<span style=\"color: #008000; text-decoration-color: #008000\"> image-text --&gt; text </span>│\n",
       "│<span style=\"color: #008080; text-decoration-color: #008080\"> ultralytics    </span>│<span style=\"color: #800080; text-decoration-color: #800080\"> yolov8x                                         </span>│<span style=\"color: #008000; text-decoration-color: #008000\"> image --&gt; objects   </span>│\n",
       "│<span style=\"color: #008080; text-decoration-color: #008080\"> ultralytics    </span>│<span style=\"color: #800080; text-decoration-color: #800080\"> yolov8m                                         </span>│<span style=\"color: #008000; text-decoration-color: #008000\"> image --&gt; objects   </span>│\n",
       "│<span style=\"color: #008080; text-decoration-color: #008080\"> ultralytics    </span>│<span style=\"color: #800080; text-decoration-color: #800080\"> yolov8l                                         </span>│<span style=\"color: #008000; text-decoration-color: #008000\"> image --&gt; objects   </span>│\n",
       "│<span style=\"color: #008080; text-decoration-color: #008080\"> ultralytics    </span>│<span style=\"color: #800080; text-decoration-color: #800080\"> yolov8s                                         </span>│<span style=\"color: #008000; text-decoration-color: #008000\"> image --&gt; objects   </span>│\n",
       "│<span style=\"color: #008080; text-decoration-color: #008080\"> ultralytics    </span>│<span style=\"color: #800080; text-decoration-color: #800080\"> yolov8n                                         </span>│<span style=\"color: #008000; text-decoration-color: #008000\"> image --&gt; objects   </span>│\n",
       "│<span style=\"color: #008080; text-decoration-color: #008080\"> ultralytics    </span>│<span style=\"color: #800080; text-decoration-color: #800080\"> yolov10x                                        </span>│<span style=\"color: #008000; text-decoration-color: #008000\"> image --&gt; objects   </span>│\n",
       "│<span style=\"color: #008080; text-decoration-color: #008080\"> ultralytics    </span>│<span style=\"color: #800080; text-decoration-color: #800080\"> yolov10m                                        </span>│<span style=\"color: #008000; text-decoration-color: #008000\"> image --&gt; objects   </span>│\n",
       "│<span style=\"color: #008080; text-decoration-color: #008080\"> ...            </span>│<span style=\"color: #800080; text-decoration-color: #800080\"> ...                                             </span>│<span style=\"color: #008000; text-decoration-color: #008000\"> ...                 </span>│\n",
       "│<span style=\"color: #008080; text-decoration-color: #008080\"> ...            </span>│<span style=\"color: #800080; text-decoration-color: #800080\"> ...                                             </span>│<span style=\"color: #008000; text-decoration-color: #008000\"> ...                 </span>│\n",
       "└────────────────┴─────────────────────────────────────────────────┴─────────────────────┘\n",
       "</pre>\n"
      ],
      "text/plain": [
       "\u001b[3m                                     Available Models                                     \u001b[0m\n",
       "┏━━━━━━━━━━━━━━━━┳━━━━━━━━━━━━━━━━━━━━━━━━━━━━━━━━━━━━━━━━━━━━━━━━━┳━━━━━━━━━━━━━━━━━━━━━┓\n",
       "┃\u001b[1m \u001b[0m\u001b[1mImplementation\u001b[0m\u001b[1m \u001b[0m┃\u001b[1m \u001b[0m\u001b[1mModel ID                                       \u001b[0m\u001b[1m \u001b[0m┃\u001b[1m \u001b[0m\u001b[1mInput --> Output   \u001b[0m\u001b[1m \u001b[0m┃\n",
       "┡━━━━━━━━━━━━━━━━╇━━━━━━━━━━━━━━━━━━━━━━━━━━━━━━━━━━━━━━━━━━━━━━━━━╇━━━━━━━━━━━━━━━━━━━━━┩\n",
       "│\u001b[36m \u001b[0m\u001b[36mtimm          \u001b[0m\u001b[36m \u001b[0m│\u001b[35m \u001b[0m\u001b[35meva02_large_patch14_448.mim_m38m_ft_in22k_in1k \u001b[0m\u001b[35m \u001b[0m│\u001b[32m \u001b[0m\u001b[32mimage --> class    \u001b[0m\u001b[32m \u001b[0m│\n",
       "│\u001b[36m \u001b[0m\u001b[36mtimm          \u001b[0m\u001b[36m \u001b[0m│\u001b[35m \u001b[0m\u001b[35meva02_large_patch14_448.mim_m38m_ft_in1k       \u001b[0m\u001b[35m \u001b[0m│\u001b[32m \u001b[0m\u001b[32mimage --> class    \u001b[0m\u001b[32m \u001b[0m│\n",
       "│\u001b[36m \u001b[0m\u001b[36mtimm          \u001b[0m\u001b[36m \u001b[0m│\u001b[35m \u001b[0m\u001b[35meva02_large_patch14_448.mim_in22k_ft_in22k_in1k\u001b[0m\u001b[35m \u001b[0m│\u001b[32m \u001b[0m\u001b[32mimage --> class    \u001b[0m\u001b[32m \u001b[0m│\n",
       "│\u001b[36m \u001b[0m\u001b[36mtimm          \u001b[0m\u001b[36m \u001b[0m│\u001b[35m \u001b[0m\u001b[35meva02_large_patch14_448.mim_in22k_ft_in1k      \u001b[0m\u001b[35m \u001b[0m│\u001b[32m \u001b[0m\u001b[32mimage --> class    \u001b[0m\u001b[32m \u001b[0m│\n",
       "│\u001b[36m \u001b[0m\u001b[36mtimm          \u001b[0m\u001b[36m \u001b[0m│\u001b[35m \u001b[0m\u001b[35meva02_base_patch14_448.mim_in22k_ft_in22k_in1k \u001b[0m\u001b[35m \u001b[0m│\u001b[32m \u001b[0m\u001b[32mimage --> class    \u001b[0m\u001b[32m \u001b[0m│\n",
       "│\u001b[36m \u001b[0m\u001b[36mtimm          \u001b[0m\u001b[36m \u001b[0m│\u001b[35m \u001b[0m\u001b[35meva02_base_patch14_448.mim_in22k_ft_in1k       \u001b[0m\u001b[35m \u001b[0m│\u001b[32m \u001b[0m\u001b[32mimage --> class    \u001b[0m\u001b[32m \u001b[0m│\n",
       "│\u001b[36m \u001b[0m\u001b[36mtimm          \u001b[0m\u001b[36m \u001b[0m│\u001b[35m \u001b[0m\u001b[35meva02_small_patch14_336.mim_in22k_ft_in1k      \u001b[0m\u001b[35m \u001b[0m│\u001b[32m \u001b[0m\u001b[32mimage --> class    \u001b[0m\u001b[32m \u001b[0m│\n",
       "│\u001b[36m \u001b[0m\u001b[36mtimm          \u001b[0m\u001b[36m \u001b[0m│\u001b[35m \u001b[0m\u001b[35meva02_tiny_patch14_336.mim_in22k_ft_in1k       \u001b[0m\u001b[35m \u001b[0m│\u001b[32m \u001b[0m\u001b[32mimage --> class    \u001b[0m\u001b[32m \u001b[0m│\n",
       "│\u001b[36m \u001b[0m\u001b[36mtransformers  \u001b[0m\u001b[36m \u001b[0m│\u001b[35m \u001b[0m\u001b[35mSalesforce/blip2-opt-6.7b-coco                 \u001b[0m\u001b[35m \u001b[0m│\u001b[32m \u001b[0m\u001b[32mimage-text --> text\u001b[0m\u001b[32m \u001b[0m│\n",
       "│\u001b[36m \u001b[0m\u001b[36mtransformers  \u001b[0m\u001b[36m \u001b[0m│\u001b[35m \u001b[0m\u001b[35mSalesforce/blip2-flan-t5-xxl                   \u001b[0m\u001b[35m \u001b[0m│\u001b[32m \u001b[0m\u001b[32mimage-text --> text\u001b[0m\u001b[32m \u001b[0m│\n",
       "│\u001b[36m \u001b[0m\u001b[36mtransformers  \u001b[0m\u001b[36m \u001b[0m│\u001b[35m \u001b[0m\u001b[35mSalesforce/blip2-opt-6.7b                      \u001b[0m\u001b[35m \u001b[0m│\u001b[32m \u001b[0m\u001b[32mimage-text --> text\u001b[0m\u001b[32m \u001b[0m│\n",
       "│\u001b[36m \u001b[0m\u001b[36mtransformers  \u001b[0m\u001b[36m \u001b[0m│\u001b[35m \u001b[0m\u001b[35mSalesforce/blip2-opt-2.7b                      \u001b[0m\u001b[35m \u001b[0m│\u001b[32m \u001b[0m\u001b[32mimage-text --> text\u001b[0m\u001b[32m \u001b[0m│\n",
       "│\u001b[36m \u001b[0m\u001b[36mtransformers  \u001b[0m\u001b[36m \u001b[0m│\u001b[35m \u001b[0m\u001b[35mvikhyatk/moondream2                            \u001b[0m\u001b[35m \u001b[0m│\u001b[32m \u001b[0m\u001b[32mimage-text --> text\u001b[0m\u001b[32m \u001b[0m│\n",
       "│\u001b[36m \u001b[0m\u001b[36multralytics   \u001b[0m\u001b[36m \u001b[0m│\u001b[35m \u001b[0m\u001b[35myolov8x                                        \u001b[0m\u001b[35m \u001b[0m│\u001b[32m \u001b[0m\u001b[32mimage --> objects  \u001b[0m\u001b[32m \u001b[0m│\n",
       "│\u001b[36m \u001b[0m\u001b[36multralytics   \u001b[0m\u001b[36m \u001b[0m│\u001b[35m \u001b[0m\u001b[35myolov8m                                        \u001b[0m\u001b[35m \u001b[0m│\u001b[32m \u001b[0m\u001b[32mimage --> objects  \u001b[0m\u001b[32m \u001b[0m│\n",
       "│\u001b[36m \u001b[0m\u001b[36multralytics   \u001b[0m\u001b[36m \u001b[0m│\u001b[35m \u001b[0m\u001b[35myolov8l                                        \u001b[0m\u001b[35m \u001b[0m│\u001b[32m \u001b[0m\u001b[32mimage --> objects  \u001b[0m\u001b[32m \u001b[0m│\n",
       "│\u001b[36m \u001b[0m\u001b[36multralytics   \u001b[0m\u001b[36m \u001b[0m│\u001b[35m \u001b[0m\u001b[35myolov8s                                        \u001b[0m\u001b[35m \u001b[0m│\u001b[32m \u001b[0m\u001b[32mimage --> objects  \u001b[0m\u001b[32m \u001b[0m│\n",
       "│\u001b[36m \u001b[0m\u001b[36multralytics   \u001b[0m\u001b[36m \u001b[0m│\u001b[35m \u001b[0m\u001b[35myolov8n                                        \u001b[0m\u001b[35m \u001b[0m│\u001b[32m \u001b[0m\u001b[32mimage --> objects  \u001b[0m\u001b[32m \u001b[0m│\n",
       "│\u001b[36m \u001b[0m\u001b[36multralytics   \u001b[0m\u001b[36m \u001b[0m│\u001b[35m \u001b[0m\u001b[35myolov10x                                       \u001b[0m\u001b[35m \u001b[0m│\u001b[32m \u001b[0m\u001b[32mimage --> objects  \u001b[0m\u001b[32m \u001b[0m│\n",
       "│\u001b[36m \u001b[0m\u001b[36multralytics   \u001b[0m\u001b[36m \u001b[0m│\u001b[35m \u001b[0m\u001b[35myolov10m                                       \u001b[0m\u001b[35m \u001b[0m│\u001b[32m \u001b[0m\u001b[32mimage --> objects  \u001b[0m\u001b[32m \u001b[0m│\n",
       "│\u001b[36m \u001b[0m\u001b[36m...           \u001b[0m\u001b[36m \u001b[0m│\u001b[35m \u001b[0m\u001b[35m...                                            \u001b[0m\u001b[35m \u001b[0m│\u001b[32m \u001b[0m\u001b[32m...                \u001b[0m\u001b[32m \u001b[0m│\n",
       "│\u001b[36m \u001b[0m\u001b[36m...           \u001b[0m\u001b[36m \u001b[0m│\u001b[35m \u001b[0m\u001b[35m...                                            \u001b[0m\u001b[35m \u001b[0m│\u001b[32m \u001b[0m\u001b[32m...                \u001b[0m\u001b[32m \u001b[0m│\n",
       "└────────────────┴─────────────────────────────────────────────────┴─────────────────────┘\n"
      ]
     },
     "metadata": {},
     "output_type": "display_data"
    }
   ],
   "source": [
    "import xinfer\n",
    "\n",
    "xinfer.list_models()"
   ]
  },
  {
   "cell_type": "code",
   "execution_count": 2,
   "metadata": {},
   "outputs": [
    {
     "name": "stdout",
     "output_type": "stream",
     "text": [
      "\n",
      "0: 640x480 4 persons, 1 bus, 1 stop sign, 38.8ms\n",
      "1: 640x480 4 persons, 1 bus, 1 stop sign, 38.8ms\n",
      "Speed: 2.5ms preprocess, 38.8ms inference, 36.5ms postprocess per image at shape (1, 3, 640, 480)\n"
     ]
    }
   ],
   "source": [
    "model = xinfer.create_model(\"yolov8n\")\n",
    "\n",
    "results = model.inference(\n",
    "    [\n",
    "        \"https://ultralytics.com/images/bus.jpg\",\n",
    "        \"https://ultralytics.com/images/bus.jpg\",\n",
    "    ]\n",
    ")"
   ]
  },
  {
   "cell_type": "code",
   "execution_count": 3,
   "metadata": {},
   "outputs": [
    {
     "name": "stdout",
     "output_type": "stream",
     "text": [
      "\n",
      "0: 1280x960 4 persons, 1 bus, 1 stop sign, 1 skateboard, 37.1ms\n",
      "1: 1280x960 4 persons, 1 bus, 1 stop sign, 1 skateboard, 37.1ms\n",
      "Speed: 6.9ms preprocess, 37.1ms inference, 0.5ms postprocess per image at shape (1, 3, 1280, 960)\n"
     ]
    },
    {
     "data": {
      "text/plain": [
       "[[{'bbox': [668.71533203125,\n",
       "    393.4091491699219,\n",
       "    140.803466796875,\n",
       "    484.5495910644531],\n",
       "   'category_id': 0,\n",
       "   'score': 0.8844525814056396,\n",
       "   'class_name': 'person'},\n",
       "  {'bbox': [12.200489044189453,\n",
       "    231.1027374267578,\n",
       "    796.935863494873,\n",
       "    528.5777435302734],\n",
       "   'category_id': 5,\n",
       "   'score': 0.8735421895980835,\n",
       "   'class_name': 'bus'},\n",
       "  {'bbox': [49.56969451904297,\n",
       "    395.7327575683594,\n",
       "    199.42891693115234,\n",
       "    512.5367126464844],\n",
       "   'category_id': 0,\n",
       "   'score': 0.8593083024024963,\n",
       "   'class_name': 'person'},\n",
       "  {'bbox': [223.3479461669922,\n",
       "    407.3630676269531,\n",
       "    122.97657775878906,\n",
       "    451.2746276855469],\n",
       "   'category_id': 0,\n",
       "   'score': 0.8377725481987,\n",
       "   'class_name': 'person'},\n",
       "  {'bbox': [0.17731547355651855,\n",
       "    549.9255981445312,\n",
       "    72.87150502204895,\n",
       "    322.24151611328125],\n",
       "   'category_id': 0,\n",
       "   'score': 0.7013967037200928,\n",
       "   'class_name': 'person'},\n",
       "  {'bbox': [0.06789743900299072,\n",
       "    252.21136474609375,\n",
       "    33.46440923213959,\n",
       "    72.74008178710938],\n",
       "   'category_id': 11,\n",
       "   'score': 0.3793298900127411,\n",
       "   'class_name': 'stop sign'},\n",
       "  {'bbox': [668.7886962890625,\n",
       "    822.21875,\n",
       "    140.40936279296875,\n",
       "    62.7169189453125],\n",
       "   'category_id': 36,\n",
       "   'score': 0.2916756868362427,\n",
       "   'class_name': 'skateboard'}],\n",
       " [{'bbox': [668.71533203125,\n",
       "    393.4091491699219,\n",
       "    140.803466796875,\n",
       "    484.5495910644531],\n",
       "   'category_id': 0,\n",
       "   'score': 0.8844525814056396,\n",
       "   'class_name': 'person'},\n",
       "  {'bbox': [12.200489044189453,\n",
       "    231.1027374267578,\n",
       "    796.935863494873,\n",
       "    528.5777435302734],\n",
       "   'category_id': 5,\n",
       "   'score': 0.8735421895980835,\n",
       "   'class_name': 'bus'},\n",
       "  {'bbox': [49.56969451904297,\n",
       "    395.7327575683594,\n",
       "    199.42891693115234,\n",
       "    512.5367126464844],\n",
       "   'category_id': 0,\n",
       "   'score': 0.8593083024024963,\n",
       "   'class_name': 'person'},\n",
       "  {'bbox': [223.3479461669922,\n",
       "    407.3630676269531,\n",
       "    122.97657775878906,\n",
       "    451.2746276855469],\n",
       "   'category_id': 0,\n",
       "   'score': 0.8377725481987,\n",
       "   'class_name': 'person'},\n",
       "  {'bbox': [0.17731547355651855,\n",
       "    549.9255981445312,\n",
       "    72.87150502204895,\n",
       "    322.24151611328125],\n",
       "   'category_id': 0,\n",
       "   'score': 0.7013967037200928,\n",
       "   'class_name': 'person'},\n",
       "  {'bbox': [0.06789743900299072,\n",
       "    252.21136474609375,\n",
       "    33.46440923213959,\n",
       "    72.74008178710938],\n",
       "   'category_id': 11,\n",
       "   'score': 0.3793298900127411,\n",
       "   'class_name': 'stop sign'},\n",
       "  {'bbox': [668.7886962890625,\n",
       "    822.21875,\n",
       "    140.40936279296875,\n",
       "    62.7169189453125],\n",
       "   'category_id': 36,\n",
       "   'score': 0.2916756868362427,\n",
       "   'class_name': 'skateboard'}]]"
      ]
     },
     "execution_count": 3,
     "metadata": {},
     "output_type": "execute_result"
    }
   ],
   "source": [
    "from xinfer.ultralytics import UltralyticsModel\n",
    "\n",
    "model = UltralyticsModel(\"yolov5n6u\")\n",
    "\n",
    "model = xinfer.create_model(model)\n",
    "\n",
    "results = model.inference(\n",
    "    [\n",
    "        \"https://ultralytics.com/images/bus.jpg\",\n",
    "        \"https://ultralytics.com/images/bus.jpg\",\n",
    "    ]\n",
    ")\n",
    "results"
   ]
  },
  {
   "cell_type": "code",
   "execution_count": 4,
   "metadata": {},
   "outputs": [
    {
     "data": {
      "text/plain": [
       "<xinfer.ultralytics.ultralytics_model.UltralyticsModel at 0x7e96aa929ba0>"
      ]
     },
     "execution_count": 4,
     "metadata": {},
     "output_type": "execute_result"
    }
   ],
   "source": [
    "model\n"
   ]
  },
  {
   "cell_type": "code",
   "execution_count": 5,
   "metadata": {},
   "outputs": [],
   "source": [
    "from ultralytics import YOLO\n",
    "model.model = YOLO(\"yolov8n.pt\")"
   ]
  },
  {
   "cell_type": "code",
   "execution_count": 6,
   "metadata": {},
   "outputs": [
    {
     "data": {
      "text/plain": [
       "'yolov8n.pt'"
      ]
     },
     "execution_count": 6,
     "metadata": {},
     "output_type": "execute_result"
    }
   ],
   "source": [
    "model.model.model_name\n"
   ]
  },
  {
   "cell_type": "code",
   "execution_count": 7,
   "metadata": {},
   "outputs": [
    {
     "name": "stdout",
     "output_type": "stream",
     "text": [
      "\n",
      "0: 640x480 4 persons, 1 bus, 1 stop sign, 2.2ms\n",
      "1: 640x480 4 persons, 1 bus, 1 stop sign, 2.2ms\n",
      "Speed: 1.2ms preprocess, 2.2ms inference, 0.6ms postprocess per image at shape (1, 3, 640, 480)\n"
     ]
    }
   ],
   "source": [
    "results = model.inference(\n",
    "    [\n",
    "        \"https://ultralytics.com/images/bus.jpg\",\n",
    "        \"https://ultralytics.com/images/bus.jpg\",\n",
    "    ]\n",
    ")"
   ]
  },
  {
   "cell_type": "code",
   "execution_count": 8,
   "metadata": {},
   "outputs": [
    {
     "name": "stdout",
     "output_type": "stream",
     "text": [
      "\n",
      "0: 640x480 4 persons, 1 bus, 28.6ms\n",
      "1: 640x480 4 persons, 1 bus, 28.6ms\n",
      "Speed: 1.3ms preprocess, 28.6ms inference, 1.0ms postprocess per image at shape (1, 3, 640, 480)\n"
     ]
    },
    {
     "data": {
      "text/plain": [
       "[[{'bbox': [14.341226577758789,\n",
       "    226.99542236328125,\n",
       "    786.1995449066162,\n",
       "    512.1925048828125],\n",
       "   'category_id': 5,\n",
       "   'score': 0.9341458082199097,\n",
       "   'class_name': 'bus'},\n",
       "  {'bbox': [669.8107299804688,\n",
       "    389.3865966796875,\n",
       "    139.7796630859375,\n",
       "    490.1864013671875],\n",
       "   'category_id': 0,\n",
       "   'score': 0.8966956734657288,\n",
       "   'class_name': 'person'},\n",
       "  {'bbox': [52.16428756713867,\n",
       "    397.69012451171875,\n",
       "    196.18866348266602,\n",
       "    508.5714111328125],\n",
       "   'category_id': 0,\n",
       "   'score': 0.8806002140045166,\n",
       "   'class_name': 'person'},\n",
       "  {'bbox': [222.6332550048828,\n",
       "    405.97137451171875,\n",
       "    122.50297546386719,\n",
       "    453.43170166015625],\n",
       "   'category_id': 0,\n",
       "   'score': 0.8710922598838806,\n",
       "   'class_name': 'person'},\n",
       "  {'bbox': [0.2458341121673584,\n",
       "    552.0321044921875,\n",
       "    80.25353264808655,\n",
       "    326.6287841796875],\n",
       "   'category_id': 0,\n",
       "   'score': 0.6646071672439575,\n",
       "   'class_name': 'person'}],\n",
       " [{'bbox': [14.341226577758789,\n",
       "    226.99542236328125,\n",
       "    786.1995449066162,\n",
       "    512.1925048828125],\n",
       "   'category_id': 5,\n",
       "   'score': 0.9341458082199097,\n",
       "   'class_name': 'bus'},\n",
       "  {'bbox': [669.8107299804688,\n",
       "    389.3865966796875,\n",
       "    139.7796630859375,\n",
       "    490.1864013671875],\n",
       "   'category_id': 0,\n",
       "   'score': 0.8966956734657288,\n",
       "   'class_name': 'person'},\n",
       "  {'bbox': [52.16428756713867,\n",
       "    397.69012451171875,\n",
       "    196.18866348266602,\n",
       "    508.5714111328125],\n",
       "   'category_id': 0,\n",
       "   'score': 0.8806002140045166,\n",
       "   'class_name': 'person'},\n",
       "  {'bbox': [222.6332550048828,\n",
       "    405.97137451171875,\n",
       "    122.50297546386719,\n",
       "    453.43170166015625],\n",
       "   'category_id': 0,\n",
       "   'score': 0.8710922598838806,\n",
       "   'class_name': 'person'},\n",
       "  {'bbox': [0.2458341121673584,\n",
       "    552.0321044921875,\n",
       "    80.25353264808655,\n",
       "    326.6287841796875],\n",
       "   'category_id': 0,\n",
       "   'score': 0.6646071672439575,\n",
       "   'class_name': 'person'}]]"
      ]
     },
     "execution_count": 8,
     "metadata": {},
     "output_type": "execute_result"
    }
   ],
   "source": [
    "model = xinfer.create_model(\"yolov11s\")\n",
    "\n",
    "results = model.inference(\n",
    "    [\n",
    "        \"https://ultralytics.com/images/bus.jpg\",\n",
    "        \"https://ultralytics.com/images/bus.jpg\",\n",
    "    ]\n",
    ")\n",
    "\n",
    "results"
   ]
  },
  {
   "cell_type": "code",
   "execution_count": 9,
   "metadata": {},
   "outputs": [
    {
     "data": {
      "text/plain": [
       "PosixPath('yolo11s.pt')"
      ]
     },
     "execution_count": 9,
     "metadata": {},
     "output_type": "execute_result"
    }
   ],
   "source": [
    "model.model.model_name\n"
   ]
  },
  {
   "cell_type": "code",
   "execution_count": 10,
   "metadata": {},
   "outputs": [
    {
     "name": "stdout",
     "output_type": "stream",
     "text": [
      "\n",
      "0: 640x480 5 persons, 1 bus, 29.4ms\n",
      "1: 640x480 5 persons, 1 bus, 29.4ms\n",
      "Speed: 1.3ms preprocess, 29.4ms inference, 0.2ms postprocess per image at shape (1, 3, 640, 480)\n"
     ]
    },
    {
     "data": {
      "text/plain": [
       "PosixPath('yolov10l.pt')"
      ]
     },
     "execution_count": 10,
     "metadata": {},
     "output_type": "execute_result"
    }
   ],
   "source": [
    "model = xinfer.create_model(\"yolov10l\")\n",
    "\n",
    "results = model.inference(\n",
    "    [\n",
    "        \"https://ultralytics.com/images/bus.jpg\",\n",
    "        \"https://ultralytics.com/images/bus.jpg\",\n",
    "    ]\n",
    ")\n",
    "\n",
    "model.model.model_name\n"
   ]
  },
  {
   "cell_type": "code",
   "execution_count": null,
   "metadata": {},
   "outputs": [],
   "source": []
  },
  {
   "cell_type": "code",
   "execution_count": null,
   "metadata": {},
   "outputs": [],
   "source": []
  }
 ],
 "metadata": {
  "kernelspec": {
   "display_name": "xinfer",
   "language": "python",
   "name": "python3"
  },
  "language_info": {
   "codemirror_mode": {
    "name": "ipython",
    "version": 3
   },
   "file_extension": ".py",
   "mimetype": "text/x-python",
   "name": "python",
   "nbconvert_exporter": "python",
   "pygments_lexer": "ipython3",
   "version": "3.10.15"
  }
 },
 "nbformat": 4,
 "nbformat_minor": 2
}
