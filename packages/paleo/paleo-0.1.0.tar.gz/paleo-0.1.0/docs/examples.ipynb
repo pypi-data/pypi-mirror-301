{
 "cells": [
  {
   "cell_type": "markdown",
   "metadata": {},
   "source": [
    "## Get a more detailed change log for a root ID\n"
   ]
  },
  {
   "cell_type": "markdown",
   "metadata": {},
   "source": [
    "We provide a utility function for combining the output of a `CAVEclient`'s\n",
    "[`chunkedgraph.get_tabular_change_log`](https://caveconnectome.github.io/CAVEclient/client_api/chunkedgraph/#caveclient.chunkedgraph.ChunkedGraphClientV1.get_tabular_change_log) and [`chunkedgraph.get_operation_details`](https://caveconnectome.github.io/CAVEclient/client_api/chunkedgraph/#caveclient.chunkedgraph.ChunkedGraphClientV1.get_operation_details).\n",
    "\n",
    "!!! note\n",
    "\n",
    "      This probably belongs in `CAVEclient`\n"
   ]
  },
  {
   "cell_type": "code",
   "execution_count": 3,
   "metadata": {},
   "outputs": [
    {
     "data": {
      "text/html": [
       "<div>\n",
       "<style scoped>\n",
       "    .dataframe tbody tr th:only-of-type {\n",
       "        vertical-align: middle;\n",
       "    }\n",
       "\n",
       "    .dataframe tbody tr th {\n",
       "        vertical-align: top;\n",
       "    }\n",
       "\n",
       "    .dataframe thead th {\n",
       "        text-align: right;\n",
       "    }\n",
       "</style>\n",
       "<table border=\"1\" class=\"dataframe\">\n",
       "  <thead>\n",
       "    <tr style=\"text-align: right;\">\n",
       "      <th></th>\n",
       "      <th>user_id</th>\n",
       "      <th>before_root_ids</th>\n",
       "      <th>after_root_ids</th>\n",
       "      <th>is_merge</th>\n",
       "      <th>in_neuron</th>\n",
       "    </tr>\n",
       "    <tr>\n",
       "      <th>operation_id</th>\n",
       "      <th></th>\n",
       "      <th></th>\n",
       "      <th></th>\n",
       "      <th></th>\n",
       "      <th></th>\n",
       "    </tr>\n",
       "  </thead>\n",
       "  <tbody>\n",
       "    <tr>\n",
       "      <th>9028</th>\n",
       "      <td>161</td>\n",
       "      <td>[864691135338600033, 864691135349337074]</td>\n",
       "      <td>[864691134884740858]</td>\n",
       "      <td>True</td>\n",
       "      <td>False</td>\n",
       "    </tr>\n",
       "    <tr>\n",
       "      <th>14768</th>\n",
       "      <td>161</td>\n",
       "      <td>[864691135437585906, 864691136156871317]</td>\n",
       "      <td>[864691136272932030]</td>\n",
       "      <td>True</td>\n",
       "      <td>False</td>\n",
       "    </tr>\n",
       "    <tr>\n",
       "      <th>25672</th>\n",
       "      <td>161</td>\n",
       "      <td>[864691135190922026, 864691135566303299]</td>\n",
       "      <td>[864691135493963920]</td>\n",
       "      <td>True</td>\n",
       "      <td>False</td>\n",
       "    </tr>\n",
       "    <tr>\n",
       "      <th>26481</th>\n",
       "      <td>161</td>\n",
       "      <td>[864691134843526581, 864691135573183940]</td>\n",
       "      <td>[864691135415463098]</td>\n",
       "      <td>True</td>\n",
       "      <td>False</td>\n",
       "    </tr>\n",
       "    <tr>\n",
       "      <th>30000</th>\n",
       "      <td>161</td>\n",
       "      <td>[864691134975250238, 864691135587889860]</td>\n",
       "      <td>[864691135476114088]</td>\n",
       "      <td>True</td>\n",
       "      <td>False</td>\n",
       "    </tr>\n",
       "    <tr>\n",
       "      <th>...</th>\n",
       "      <td>...</td>\n",
       "      <td>...</td>\n",
       "      <td>...</td>\n",
       "      <td>...</td>\n",
       "      <td>...</td>\n",
       "    </tr>\n",
       "    <tr>\n",
       "      <th>532312</th>\n",
       "      <td>2378</td>\n",
       "      <td>[864691135475323712]</td>\n",
       "      <td>[864691137054392182]</td>\n",
       "      <td>False</td>\n",
       "      <td>True</td>\n",
       "    </tr>\n",
       "    <tr>\n",
       "      <th>532314</th>\n",
       "      <td>2378</td>\n",
       "      <td>[864691137054392182]</td>\n",
       "      <td>[864691136089721911]</td>\n",
       "      <td>False</td>\n",
       "      <td>True</td>\n",
       "    </tr>\n",
       "    <tr>\n",
       "      <th>532327</th>\n",
       "      <td>2378</td>\n",
       "      <td>[864691136089721911]</td>\n",
       "      <td>[864691135975162223]</td>\n",
       "      <td>False</td>\n",
       "      <td>True</td>\n",
       "    </tr>\n",
       "    <tr>\n",
       "      <th>532335</th>\n",
       "      <td>2378</td>\n",
       "      <td>[864691135975162223]</td>\n",
       "      <td>[864691135851270855]</td>\n",
       "      <td>False</td>\n",
       "      <td>True</td>\n",
       "    </tr>\n",
       "    <tr>\n",
       "      <th>532354</th>\n",
       "      <td>2378</td>\n",
       "      <td>[864691135614747083, 864691135851270855]</td>\n",
       "      <td>[864691135639556411]</td>\n",
       "      <td>True</td>\n",
       "      <td>True</td>\n",
       "    </tr>\n",
       "  </tbody>\n",
       "</table>\n",
       "<p>693 rows × 5 columns</p>\n",
       "</div>"
      ],
      "text/plain": [
       "             user_id                           before_root_ids  \\\n",
       "operation_id                                                     \n",
       "9028             161  [864691135338600033, 864691135349337074]   \n",
       "14768            161  [864691135437585906, 864691136156871317]   \n",
       "25672            161  [864691135190922026, 864691135566303299]   \n",
       "26481            161  [864691134843526581, 864691135573183940]   \n",
       "30000            161  [864691134975250238, 864691135587889860]   \n",
       "...              ...                                       ...   \n",
       "532312          2378                      [864691135475323712]   \n",
       "532314          2378                      [864691137054392182]   \n",
       "532327          2378                      [864691136089721911]   \n",
       "532335          2378                      [864691135975162223]   \n",
       "532354          2378  [864691135614747083, 864691135851270855]   \n",
       "\n",
       "                    after_root_ids  is_merge  in_neuron  \n",
       "operation_id                                             \n",
       "9028          [864691134884740858]      True      False  \n",
       "14768         [864691136272932030]      True      False  \n",
       "25672         [864691135493963920]      True      False  \n",
       "26481         [864691135415463098]      True      False  \n",
       "30000         [864691135476114088]      True      False  \n",
       "...                            ...       ...        ...  \n",
       "532312        [864691137054392182]     False       True  \n",
       "532314        [864691136089721911]     False       True  \n",
       "532327        [864691135975162223]     False       True  \n",
       "532335        [864691135851270855]     False       True  \n",
       "532354        [864691135639556411]      True       True  \n",
       "\n",
       "[693 rows x 5 columns]"
      ]
     },
     "execution_count": 3,
     "metadata": {},
     "output_type": "execute_result"
    }
   ],
   "source": [
    "from caveclient import CAVEclient\n",
    "from paleo import get_detailed_change_log\n",
    "\n",
    "root_id = 864691135639556411\n",
    "\n",
    "client = CAVEclient(\"minnie65_phase3_v1\")\n",
    "\n",
    "change_log = get_detailed_change_log(root_id, client, filtered=False)\n",
    "change_log.iloc[:, :5]"
   ]
  },
  {
   "cell_type": "markdown",
   "metadata": {},
   "source": [
    "## Get the changes to the level2 graph for a specific edit\n"
   ]
  },
  {
   "cell_type": "code",
   "execution_count": 4,
   "metadata": {},
   "outputs": [
    {
     "data": {
      "text/plain": [
       "9028"
      ]
     },
     "execution_count": 4,
     "metadata": {},
     "output_type": "execute_result"
    }
   ],
   "source": [
    "edit_id = change_log.index[0]\n",
    "edit_id"
   ]
  },
  {
   "cell_type": "code",
   "execution_count": 5,
   "metadata": {},
   "outputs": [
    {
     "name": "stdout",
     "output_type": "stream",
     "text": [
      "2.862 seconds elapsed.\n"
     ]
    }
   ],
   "source": [
    "import time\n",
    "from paleo import get_operation_level2_edit\n",
    "\n",
    "currtime = time.time()\n",
    "l2_edit = get_operation_level2_edit(edit_id, client)\n",
    "print(f\"{time.time() - currtime:.3f} seconds elapsed.\")"
   ]
  },
  {
   "cell_type": "markdown",
   "metadata": {},
   "source": [
    "This returns a [`paleo.NetworkDelta`][] object. This is a lightweight class for storing\n",
    "what edges/nodes are added/removed by an operation, as well as (optionally) a dictionary\n",
    "of arbitrary metadata.\n"
   ]
  },
  {
   "cell_type": "code",
   "execution_count": 6,
   "metadata": {},
   "outputs": [
    {
     "data": {
      "text/plain": [
       "NetworkDelta(\n",
       "   removed_nodes: 26,\n",
       "   added_nodes: 9,\n",
       "   removed_edges: 63,\n",
       "   added_edges: 33,\n",
       "   metadata: {}\n",
       ")"
      ]
     },
     "execution_count": 6,
     "metadata": {},
     "output_type": "execute_result"
    }
   ],
   "source": [
    "l2_edit"
   ]
  },
  {
   "cell_type": "code",
   "execution_count": 7,
   "metadata": {},
   "outputs": [
    {
     "data": {
      "text/html": [
       "<div>\n",
       "<style scoped>\n",
       "    .dataframe tbody tr th:only-of-type {\n",
       "        vertical-align: middle;\n",
       "    }\n",
       "\n",
       "    .dataframe tbody tr th {\n",
       "        vertical-align: top;\n",
       "    }\n",
       "\n",
       "    .dataframe thead th {\n",
       "        text-align: right;\n",
       "    }\n",
       "</style>\n",
       "<table border=\"1\" class=\"dataframe\">\n",
       "  <thead>\n",
       "    <tr style=\"text-align: right;\">\n",
       "      <th></th>\n",
       "      <th>source</th>\n",
       "      <th>target</th>\n",
       "    </tr>\n",
       "  </thead>\n",
       "  <tbody>\n",
       "    <tr>\n",
       "      <th>0</th>\n",
       "      <td>158131419313340589</td>\n",
       "      <td>158201788057519033</td>\n",
       "    </tr>\n",
       "    <tr>\n",
       "      <th>1</th>\n",
       "      <td>158131419313340611</td>\n",
       "      <td>158201788057519033</td>\n",
       "    </tr>\n",
       "    <tr>\n",
       "      <th>2</th>\n",
       "      <td>158131419313340649</td>\n",
       "      <td>158201788057519033</td>\n",
       "    </tr>\n",
       "    <tr>\n",
       "      <th>3</th>\n",
       "      <td>158131488032817362</td>\n",
       "      <td>158201856776995601</td>\n",
       "    </tr>\n",
       "    <tr>\n",
       "      <th>4</th>\n",
       "      <td>158131488032817395</td>\n",
       "      <td>158201856776995601</td>\n",
       "    </tr>\n",
       "    <tr>\n",
       "      <th>5</th>\n",
       "      <td>158131488032817400</td>\n",
       "      <td>158201856776995601</td>\n",
       "    </tr>\n",
       "    <tr>\n",
       "      <th>6</th>\n",
       "      <td>158131556752294056</td>\n",
       "      <td>158201925496472151</td>\n",
       "    </tr>\n",
       "    <tr>\n",
       "      <th>7</th>\n",
       "      <td>158131556752294080</td>\n",
       "      <td>158201925496472151</td>\n",
       "    </tr>\n",
       "    <tr>\n",
       "      <th>8</th>\n",
       "      <td>158201719338041544</td>\n",
       "      <td>158201788057519033</td>\n",
       "    </tr>\n",
       "    <tr>\n",
       "      <th>9</th>\n",
       "      <td>158201719338041606</td>\n",
       "      <td>158201788057519033</td>\n",
       "    </tr>\n",
       "    <tr>\n",
       "      <th>10</th>\n",
       "      <td>158201788057519033</td>\n",
       "      <td>158201856776995601</td>\n",
       "    </tr>\n",
       "    <tr>\n",
       "      <th>11</th>\n",
       "      <td>158201788057519033</td>\n",
       "      <td>158272156801696917</td>\n",
       "    </tr>\n",
       "    <tr>\n",
       "      <th>12</th>\n",
       "      <td>158201856776995601</td>\n",
       "      <td>158201925496472151</td>\n",
       "    </tr>\n",
       "    <tr>\n",
       "      <th>13</th>\n",
       "      <td>158201856776995601</td>\n",
       "      <td>158272225521173438</td>\n",
       "    </tr>\n",
       "    <tr>\n",
       "      <th>14</th>\n",
       "      <td>158201925496472151</td>\n",
       "      <td>158201994215948320</td>\n",
       "    </tr>\n",
       "    <tr>\n",
       "      <th>15</th>\n",
       "      <td>158201925496472151</td>\n",
       "      <td>158201994215948374</td>\n",
       "    </tr>\n",
       "    <tr>\n",
       "      <th>16</th>\n",
       "      <td>158201925496472151</td>\n",
       "      <td>158272294240649839</td>\n",
       "    </tr>\n",
       "    <tr>\n",
       "      <th>17</th>\n",
       "      <td>158272088082219177</td>\n",
       "      <td>158272156801696917</td>\n",
       "    </tr>\n",
       "    <tr>\n",
       "      <th>18</th>\n",
       "      <td>158272088082219212</td>\n",
       "      <td>158272156801696917</td>\n",
       "    </tr>\n",
       "    <tr>\n",
       "      <th>19</th>\n",
       "      <td>158272088082219248</td>\n",
       "      <td>158272156801696917</td>\n",
       "    </tr>\n",
       "    <tr>\n",
       "      <th>20</th>\n",
       "      <td>158272156801696917</td>\n",
       "      <td>158272225521173438</td>\n",
       "    </tr>\n",
       "    <tr>\n",
       "      <th>21</th>\n",
       "      <td>158272156801696917</td>\n",
       "      <td>158342525545874491</td>\n",
       "    </tr>\n",
       "    <tr>\n",
       "      <th>22</th>\n",
       "      <td>158272225521173438</td>\n",
       "      <td>158272294240649839</td>\n",
       "    </tr>\n",
       "    <tr>\n",
       "      <th>23</th>\n",
       "      <td>158272225521173438</td>\n",
       "      <td>158342594265351209</td>\n",
       "    </tr>\n",
       "    <tr>\n",
       "      <th>24</th>\n",
       "      <td>158272294240649839</td>\n",
       "      <td>158272362960125996</td>\n",
       "    </tr>\n",
       "    <tr>\n",
       "      <th>25</th>\n",
       "      <td>158272294240649839</td>\n",
       "      <td>158272362960126046</td>\n",
       "    </tr>\n",
       "    <tr>\n",
       "      <th>26</th>\n",
       "      <td>158272294240649839</td>\n",
       "      <td>158342662984827918</td>\n",
       "    </tr>\n",
       "    <tr>\n",
       "      <th>27</th>\n",
       "      <td>158342456826396893</td>\n",
       "      <td>158342525545874491</td>\n",
       "    </tr>\n",
       "    <tr>\n",
       "      <th>28</th>\n",
       "      <td>158342456826397005</td>\n",
       "      <td>158342525545874491</td>\n",
       "    </tr>\n",
       "    <tr>\n",
       "      <th>29</th>\n",
       "      <td>158342525545874491</td>\n",
       "      <td>158342594265351209</td>\n",
       "    </tr>\n",
       "    <tr>\n",
       "      <th>30</th>\n",
       "      <td>158342594265351209</td>\n",
       "      <td>158342662984827918</td>\n",
       "    </tr>\n",
       "    <tr>\n",
       "      <th>31</th>\n",
       "      <td>158342662984827918</td>\n",
       "      <td>158342731704303726</td>\n",
       "    </tr>\n",
       "    <tr>\n",
       "      <th>32</th>\n",
       "      <td>158342662984827918</td>\n",
       "      <td>158342731704303888</td>\n",
       "    </tr>\n",
       "  </tbody>\n",
       "</table>\n",
       "</div>"
      ],
      "text/plain": [
       "                source              target\n",
       "0   158131419313340589  158201788057519033\n",
       "1   158131419313340611  158201788057519033\n",
       "2   158131419313340649  158201788057519033\n",
       "3   158131488032817362  158201856776995601\n",
       "4   158131488032817395  158201856776995601\n",
       "5   158131488032817400  158201856776995601\n",
       "6   158131556752294056  158201925496472151\n",
       "7   158131556752294080  158201925496472151\n",
       "8   158201719338041544  158201788057519033\n",
       "9   158201719338041606  158201788057519033\n",
       "10  158201788057519033  158201856776995601\n",
       "11  158201788057519033  158272156801696917\n",
       "12  158201856776995601  158201925496472151\n",
       "13  158201856776995601  158272225521173438\n",
       "14  158201925496472151  158201994215948320\n",
       "15  158201925496472151  158201994215948374\n",
       "16  158201925496472151  158272294240649839\n",
       "17  158272088082219177  158272156801696917\n",
       "18  158272088082219212  158272156801696917\n",
       "19  158272088082219248  158272156801696917\n",
       "20  158272156801696917  158272225521173438\n",
       "21  158272156801696917  158342525545874491\n",
       "22  158272225521173438  158272294240649839\n",
       "23  158272225521173438  158342594265351209\n",
       "24  158272294240649839  158272362960125996\n",
       "25  158272294240649839  158272362960126046\n",
       "26  158272294240649839  158342662984827918\n",
       "27  158342456826396893  158342525545874491\n",
       "28  158342456826397005  158342525545874491\n",
       "29  158342525545874491  158342594265351209\n",
       "30  158342594265351209  158342662984827918\n",
       "31  158342662984827918  158342731704303726\n",
       "32  158342662984827918  158342731704303888"
      ]
     },
     "execution_count": 7,
     "metadata": {},
     "output_type": "execute_result"
    }
   ],
   "source": [
    "l2_edit.added_edges"
   ]
  },
  {
   "cell_type": "markdown",
   "metadata": {},
   "source": [
    "## Get the changes to the level2 graph for multiple edits\n",
    "\n",
    "With the current set of endpoints and design of the chunkedgraph, it is faster to get\n",
    "a list of changes using this function rather than putting [paleo.get_operation_level2_edit][]\n",
    "in a loop.\n"
   ]
  },
  {
   "cell_type": "code",
   "execution_count": 14,
   "metadata": {},
   "outputs": [
    {
     "data": {
      "application/vnd.jupyter.widget-view+json": {
       "model_id": "7c1af8848af3478c93ebed9f684e80f8",
       "version_major": 2,
       "version_minor": 0
      },
      "text/plain": [
       "Extracting level2 edits:   0%|          | 0/693 [00:00<?, ?it/s]"
      ]
     },
     "metadata": {},
     "output_type": "display_data"
    },
    {
     "name": "stdout",
     "output_type": "stream",
     "text": [
      "95.500 seconds elapsed.\n"
     ]
    }
   ],
   "source": [
    "from paleo import get_operations_level2_edits\n",
    "\n",
    "currtime = time.time()\n",
    "l2_edits = get_operations_level2_edits(change_log.index, client)\n",
    "print(f\"{time.time() - currtime:.3f} seconds elapsed.\")"
   ]
  },
  {
   "cell_type": "markdown",
   "metadata": {},
   "source": [
    "This returns a dictionary, where the keys are the operation IDs and the values are\n",
    "the corresponding [`paleo.NetworkDelta`][] objects.\n"
   ]
  },
  {
   "cell_type": "code",
   "execution_count": 15,
   "metadata": {},
   "outputs": [
    {
     "name": "stdout",
     "output_type": "stream",
     "text": [
      "<class 'dict'>\n",
      "693\n",
      "NetworkDelta(\n",
      "   removed_nodes: 26,\n",
      "   added_nodes: 9,\n",
      "   removed_edges: 63,\n",
      "   added_edges: 33,\n",
      "   metadata: {}\n",
      ")\n"
     ]
    }
   ],
   "source": [
    "print(type(l2_edits))\n",
    "print(len(l2_edits))\n",
    "print(l2_edits[9028])"
   ]
  },
  {
   "cell_type": "markdown",
   "metadata": {},
   "source": [
    "## Get the changes to the level2 graph for all edits to a root ID\n"
   ]
  },
  {
   "cell_type": "markdown",
   "metadata": {},
   "source": [
    "We get even more of a speedup if all of those changes are from the history of one root\n",
    "ID. Again, this is just because of the way current endpoints are structured (some of\n",
    "the information we need is available from [`CAVEclient.chunkedgraph.get_tabular_change_log`](https://caveconnectome.github.io/CAVEclient/client_api/chunkedgraph/#caveclient.chunkedgraph.ChunkedGraphClientV1.get_tabular_change_log)).\n"
   ]
  },
  {
   "cell_type": "code",
   "execution_count": 16,
   "metadata": {},
   "outputs": [
    {
     "data": {
      "application/vnd.jupyter.widget-view+json": {
       "model_id": "a57cf3be4c0648b7ae5484ec35aded02",
       "version_major": 2,
       "version_minor": 0
      },
      "text/plain": [
       "Extracting level2 edits:   0%|          | 0/693 [00:00<?, ?it/s]"
      ]
     },
     "metadata": {},
     "output_type": "display_data"
    },
    {
     "name": "stdout",
     "output_type": "stream",
     "text": [
      "50.932 seconds elapsed.\n"
     ]
    }
   ],
   "source": [
    "from paleo import get_root_level2_edits\n",
    "\n",
    "currtime = time.time()\n",
    "l2_edits = get_root_level2_edits(root_id, client)\n",
    "print(f\"{time.time() - currtime:.3f} seconds elapsed.\")"
   ]
  },
  {
   "cell_type": "markdown",
   "metadata": {},
   "source": [
    "## Combine edits that affect the same points on the level2 graph\n",
    "\n",
    "Often it is helpful to combine edits that affect the same points on the level2 graph.\n",
    "This can be useful for finding things like edits that were undone by later edits.\n",
    "\n",
    "Currently, this function defines metaedits as those that affect the same points on the\n",
    "level2 graph (more specifically, connected components in a graph where nodes are edits and\n",
    "edges are shared points on the level2 graph). In the future, this could support other\n",
    "schemes for defining metaedits.\n"
   ]
  },
  {
   "cell_type": "code",
   "execution_count": 20,
   "metadata": {},
   "outputs": [],
   "source": [
    "from paleo import get_metaedits\n",
    "\n",
    "metaedits, metaedit_mapping = get_metaedits(l2_edits)"
   ]
  },
  {
   "cell_type": "code",
   "execution_count": 21,
   "metadata": {},
   "outputs": [
    {
     "data": {
      "text/plain": [
       "NetworkDelta(\n",
       "   removed_nodes: 5,\n",
       "   added_nodes: 7,\n",
       "   removed_edges: 17,\n",
       "   added_edges: 19,\n",
       "   metadata: {}\n",
       ")"
      ]
     },
     "execution_count": 21,
     "metadata": {},
     "output_type": "execute_result"
    }
   ],
   "source": [
    "metaedits[23]"
   ]
  },
  {
   "cell_type": "code",
   "execution_count": 22,
   "metadata": {},
   "outputs": [
    {
     "name": "stdout",
     "output_type": "stream",
     "text": [
      "[161733831655687152]\n",
      "[161663462911509525, 161663462911509526, 161733831655687154, 161733831655687155]\n",
      "[161663462911509527, 161733831655687156]\n"
     ]
    }
   ],
   "source": [
    "member_edits = metaedit_mapping[23]\n",
    "for edit in member_edits:\n",
    "    print(list(l2_edits[edit].added_nodes.index))"
   ]
  },
  {
   "cell_type": "code",
   "execution_count": 23,
   "metadata": {},
   "outputs": [
    {
     "data": {
      "text/html": [
       "<div>\n",
       "<style scoped>\n",
       "    .dataframe tbody tr th:only-of-type {\n",
       "        vertical-align: middle;\n",
       "    }\n",
       "\n",
       "    .dataframe tbody tr th {\n",
       "        vertical-align: top;\n",
       "    }\n",
       "\n",
       "    .dataframe thead th {\n",
       "        text-align: right;\n",
       "    }\n",
       "</style>\n",
       "<table border=\"1\" class=\"dataframe\">\n",
       "  <thead>\n",
       "    <tr style=\"text-align: right;\">\n",
       "      <th></th>\n",
       "    </tr>\n",
       "  </thead>\n",
       "  <tbody>\n",
       "    <tr>\n",
       "      <th>161733831655687152</th>\n",
       "    </tr>\n",
       "    <tr>\n",
       "      <th>161663462911509525</th>\n",
       "    </tr>\n",
       "    <tr>\n",
       "      <th>161663462911509526</th>\n",
       "    </tr>\n",
       "    <tr>\n",
       "      <th>161733831655687154</th>\n",
       "    </tr>\n",
       "    <tr>\n",
       "      <th>161733831655687155</th>\n",
       "    </tr>\n",
       "    <tr>\n",
       "      <th>161663462911509527</th>\n",
       "    </tr>\n",
       "    <tr>\n",
       "      <th>161733831655687156</th>\n",
       "    </tr>\n",
       "  </tbody>\n",
       "</table>\n",
       "</div>"
      ],
      "text/plain": [
       "Empty DataFrame\n",
       "Columns: []\n",
       "Index: [161733831655687152, 161663462911509525, 161663462911509526, 161733831655687154, 161733831655687155, 161663462911509527, 161733831655687156]"
      ]
     },
     "execution_count": 23,
     "metadata": {},
     "output_type": "execute_result"
    }
   ],
   "source": [
    "metaedits[23].added_nodes"
   ]
  }
 ],
 "metadata": {
  "kernelspec": {
   "display_name": ".venv",
   "language": "python",
   "name": "python3"
  },
  "language_info": {
   "codemirror_mode": {
    "name": "ipython",
    "version": 3
   },
   "file_extension": ".py",
   "mimetype": "text/x-python",
   "name": "python",
   "nbconvert_exporter": "python",
   "pygments_lexer": "ipython3",
   "version": "3.12.5"
  }
 },
 "nbformat": 4,
 "nbformat_minor": 2
}
