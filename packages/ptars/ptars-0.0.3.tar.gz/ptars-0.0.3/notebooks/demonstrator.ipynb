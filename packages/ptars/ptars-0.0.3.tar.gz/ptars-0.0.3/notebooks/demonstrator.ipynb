{
 "cells": [
  {
   "cell_type": "code",
   "execution_count": 10,
   "id": "3e7e8195-a6da-4da0-bbdb-dfe5ae752e3e",
   "metadata": {},
   "outputs": [],
   "source": [
    "import random\n",
    "import secrets\n",
    "\n",
    "import protarrow\n",
    "from demonstartor_pb2 import SearchRequest\n",
    "\n",
    "import ptars"
   ]
  },
  {
   "cell_type": "code",
   "execution_count": 11,
   "id": "83c97629-5553-4760-b2f8-3c3b911d11bb",
   "metadata": {},
   "outputs": [],
   "source": [
    "pool = ptars.HandlerPool()\n",
    "handler = pool.get_for_message(SearchRequest.DESCRIPTOR)"
   ]
  },
  {
   "cell_type": "code",
   "execution_count": 12,
   "id": "34757cb6-9882-47d5-8689-68593f98415f",
   "metadata": {},
   "outputs": [],
   "source": [
    "MESSAGE_COUNT = 10_000\n",
    "STRING_SIZE = 10\n",
    "MIN_INT = -2147483648\n",
    "MAX_INT = 2147483647"
   ]
  },
  {
   "cell_type": "code",
   "execution_count": 13,
   "id": "a2192b04-19ee-4ed4-8937-c49b5cdbc6c0",
   "metadata": {},
   "outputs": [],
   "source": [
    "messages = [\n",
    "    SearchRequest(\n",
    "        query=secrets.token_urlsafe(random.randint(0, STRING_SIZE)),\n",
    "        page_number=random.randint(MIN_INT, MAX_INT),\n",
    "        result_per_page=random.randint(MIN_INT, MAX_INT),\n",
    "    )\n",
    "    for _ in range(MESSAGE_COUNT)\n",
    "]\n",
    "\n",
    "payloads = [m.SerializeToString() for m in messages]"
   ]
  },
  {
   "cell_type": "code",
   "execution_count": 14,
   "id": "7d200de8-f1d1-49bb-a7a6-2488a7c07c41",
   "metadata": {},
   "outputs": [
    {
     "name": "stdout",
     "output_type": "stream",
     "text": [
      "7.71 ms ± 148 μs per loop (mean ± std. dev. of 7 runs, 100 loops each)\n"
     ]
    }
   ],
   "source": [
    "%%timeit\n",
    "protarrow.messages_to_record_batch(\n",
    "    [SearchRequest.FromString(p) for p in payloads],\n",
    "    SearchRequest,\n",
    ")"
   ]
  },
  {
   "cell_type": "code",
   "execution_count": 15,
   "id": "5f986916-ff38-448d-a12a-2eca5e04254a",
   "metadata": {},
   "outputs": [
    {
     "name": "stdout",
     "output_type": "stream",
     "text": [
      "7.02 ms ± 20.7 μs per loop (mean ± std. dev. of 7 runs, 100 loops each)\n"
     ]
    }
   ],
   "source": [
    "%%timeit\n",
    "handler.list_to_record_batch(payloads)"
   ]
  },
  {
   "cell_type": "code",
   "execution_count": 16,
   "id": "c7dfa27d-c24a-4d34-90df-717dfd3bcc6d",
   "metadata": {},
   "outputs": [],
   "source": [
    "record_batch = handler.list_to_record_batch(payloads)"
   ]
  },
  {
   "cell_type": "code",
   "execution_count": 17,
   "id": "b881d056-0dc6-4790-8a91-a7d3ec5061ac",
   "metadata": {},
   "outputs": [
    {
     "name": "stdout",
     "output_type": "stream",
     "text": [
      "6.5 ms ± 22.7 μs per loop (mean ± std. dev. of 7 runs, 100 loops each)\n"
     ]
    }
   ],
   "source": [
    "%%timeit\n",
    "handler.record_batch_to_array(record_batch)"
   ]
  },
  {
   "cell_type": "code",
   "execution_count": 19,
   "id": "fc0d9019-3f4e-4df4-a083-47fb35807e8b",
   "metadata": {},
   "outputs": [
    {
     "name": "stdout",
     "output_type": "stream",
     "text": [
      "19.7 ms ± 125 μs per loop (mean ± std. dev. of 7 runs, 10 loops each)\n"
     ]
    }
   ],
   "source": [
    "%%timeit\n",
    "[\n",
    "    m.SerializeToString()\n",
    "    for m in protarrow.record_batch_to_messages(record_batch, SearchRequest)\n",
    "]"
   ]
  }
 ],
 "metadata": {
  "kernelspec": {
   "display_name": "Python 3 (ipykernel)",
   "language": "python",
   "name": "python3"
  },
  "language_info": {
   "codemirror_mode": {
    "name": "ipython",
    "version": 3
   },
   "file_extension": ".py",
   "mimetype": "text/x-python",
   "name": "python",
   "nbconvert_exporter": "python",
   "pygments_lexer": "ipython3",
   "version": "3.11.10"
  }
 },
 "nbformat": 4,
 "nbformat_minor": 5
}
