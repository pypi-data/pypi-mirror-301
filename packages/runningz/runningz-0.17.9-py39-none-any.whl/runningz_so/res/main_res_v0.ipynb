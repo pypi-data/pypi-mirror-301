{
 "cells": [
  {
   "cell_type": "markdown",
   "id": "77df0fd8",
   "metadata": {},
   "source": [
    "# TOP"
   ]
  },
  {
   "cell_type": "code",
   "execution_count": null,
   "id": "547f5681",
   "metadata": {
    "ExecuteTime": {
     "start_time": "2024-02-08T03:33:30.183Z"
    }
   },
   "outputs": [],
   "source": [
    "# full screen width of Jupyter notebook\n",
    "from IPython.display import display, HTML\n",
    "display(HTML(\"<style>.container {width:90%;} </style>\")) \n",
    "display(HTML(\"<style>.toc{ margin-top: 100px;} </style>\"))"
   ]
  },
  {
   "cell_type": "code",
   "execution_count": 2,
   "id": "494615c8",
   "metadata": {
    "ExecuteTime": {
     "end_time": "2024-02-08T03:33:03.532194Z",
     "start_time": "2024-02-08T03:33:03.529326Z"
    }
   },
   "outputs": [],
   "source": [
    "import os\n",
    "os.environ['rz_token'] = '5bc2502a20241231'"
   ]
  },
  {
   "cell_type": "code",
   "execution_count": 3,
   "id": "29a0ce15",
   "metadata": {
    "ExecuteTime": {
     "end_time": "2024-02-08T03:33:10.853241Z",
     "start_time": "2024-02-08T03:33:03.971059Z"
    }
   },
   "outputs": [
    {
     "name": "stdout",
     "output_type": "stream",
     "text": [
      "[+] cwd = /Users/runningz/project/runningz, __file__ = None\n",
      "[+] len(fm_config_list_TOP) = 18\n",
      "[+] len(fm_config_list_OPT) = 100\n",
      "[RZ][11:33:10] runningz/core/op/__init__.py:218-> [+] OP_DICT      = 377\n",
      "[RZ][11:33:10] runningz/core/op/__init__.py:219-> [+] OP_DICT_NOT  = 100\n",
      "[RZ][11:33:10] runningz/core/op/__init__.py:220-> [+] OP_DICT_YES  = 277\n",
      "[RZ][11:33:10] runningz/core/op/__init__.py:220-> x             0\n",
      "[RZ][11:33:10] runningz/core/op/__init__.py:220-> roll         10\n",
      "[RZ][11:33:10] runningz/core/op/__init__.py:220-> agg          24\n",
      "[RZ][11:33:10] runningz/core/op/__init__.py:220-> gp           19\n",
      "[RZ][11:33:10] runningz/core/op/__init__.py:220-> roll_2       12\n",
      "[RZ][11:33:10] runningz/core/op/__init__.py:220-> agg_2         9\n",
      "[RZ][11:33:10] runningz/core/op/__init__.py:220-> gp_2          9\n",
      "[RZ][11:33:10] runningz/core/op/__init__.py:220-> merge         5\n",
      "[RZ][11:33:10] runningz/core/op/__init__.py:220-> op_1         13\n",
      "[RZ][11:33:10] runningz/core/op/__init__.py:220-> op_1_v        5\n",
      "[RZ][11:33:10] runningz/core/op/__init__.py:220-> op_2        111\n",
      "[RZ][11:33:10] runningz/core/op/__init__.py:220-> op_2_v       26\n",
      "[RZ][11:33:10] runningz/core/op/__init__.py:220-> op_3         10\n",
      "[RZ][11:33:10] runningz/core/op/__init__.py:220-> op_3_v       10\n",
      "[RZ][11:33:10] runningz/core/op/__init__.py:220-> op_m         12\n",
      "[RZ][11:33:10] runningz/core/op/__init__.py:220-> op_other      2\n",
      "[RZ][11:33:10] runningz/core/op/__init__.py:220-> dtype: int64\n"
     ]
    }
   ],
   "source": [
    "import os\n",
    "os.chdir('../../')\n",
    "print(f'[+] cwd = {os.getcwd()}, __file__ = {__file__ if \"__file__\" in vars() else None}')\n",
    "\n",
    "import sys\n",
    "sys.path.insert(0, os.path.abspath('./'))\n",
    "import lightgbm as lgb\n",
    "import json\n",
    "import os\n",
    "import runningz as rz\n",
    "import numpy as np\n",
    "import pandas as pd\n",
    "from tqdm.notebook import tqdm\n",
    "from runningz.fe.util.util import subsample\n",
    "from runningz.fe.prepare_data.basic_data import *\n",
    "from runningz.fe.er import Typer\n",
    "from runningz.util.clss import get_subclass_by_name\n",
    "from runningz.util.const import CONST\n",
    "from runningz.util.util import my_print as print\n",
    "from runningz.util.util import dict_2_str\n",
    "from runningz.core.op import show_op_dict\n",
    "from runningz.fe.config.fm_config import fm_config_list_ALL, data_config\n",
    "from runningz.fe.util.util import print_history\n",
    "rz.seed_everything(42)\n",
    "OP_DICT, OP_DICT_NOT, OP_DICT_YES = show_op_dict()\n",
    "CONST.DEBUG = False\n",
    "CONST.MY_PRINT = False"
   ]
  },
  {
   "cell_type": "code",
   "execution_count": null,
   "id": "d494afb4",
   "metadata": {},
   "outputs": [],
   "source": []
  },
  {
   "cell_type": "code",
   "execution_count": null,
   "id": "59da2c5b",
   "metadata": {},
   "outputs": [],
   "source": []
  },
  {
   "cell_type": "code",
   "execution_count": null,
   "id": "b4a80f5e",
   "metadata": {
    "ExecuteTime": {
     "start_time": "2024-02-08T03:24:36.355Z"
    }
   },
   "outputs": [],
   "source": [
    "sys.argv = 'fe_main.py --task DEBUG --label twap 0 1'.split(' ')"
   ]
  },
  {
   "cell_type": "code",
   "execution_count": 1,
   "id": "ac2bf3ce",
   "metadata": {
    "ExecuteTime": {
     "end_time": "2024-02-08T03:26:19.322741Z",
     "start_time": "2024-02-08T03:26:19.292953Z"
    },
    "scrolled": true
   },
   "outputs": [
    {
     "name": "stderr",
     "output_type": "stream",
     "text": [
      "usage: ipykernel_launcher.py [-h] [--task TASK] [--label LABEL LABEL LABEL]\n",
      "                             [--debug [DEBUG ...]]\n",
      "ipykernel_launcher.py: error: unrecognized arguments: -f /Users/runningz/Library/Jupyter/runtime/kernel-70d0388d-e187-4789-8b74-c4ce5f3234d2.json\n"
     ]
    },
    {
     "ename": "SystemExit",
     "evalue": "2",
     "output_type": "error",
     "traceback": [
      "An exception has occurred, use %tb to see the full traceback.\n",
      "\u001b[0;31mSystemExit\u001b[0m\u001b[0;31m:\u001b[0m 2\n"
     ]
    },
    {
     "name": "stderr",
     "output_type": "stream",
     "text": [
      "/Users/runningz/anaconda3/envs/py39/lib/python3.9/site-packages/IPython/core/interactiveshell.py:3516: UserWarning: To exit: use 'exit', 'quit', or Ctrl-D.\n",
      "  warn(\"To exit: use 'exit', 'quit', or Ctrl-D.\", stacklevel=1)\n"
     ]
    }
   ],
   "source": [
    "import argparse\n",
    "parser = argparse.ArgumentParser()\n",
    "parser.add_argument('--task', type=str, default='DEBUG')  # str\n",
    "parser.add_argument('--label', nargs=3, default=['vwap', 0, 1], help='help info') # any number of\n",
    "parser.add_argument('--debug', nargs='*', default=None, help='help info') # any number of\n",
    "args = parser.parse_args()\n",
    "print(f'[+] args = {args}')\n",
    "\n",
    "CONST.DEBUG = (type(args.debug) is list)\n",
    "task = args.task\n",
    "data_config.other_info.col_label_args  = args.label\n",
    "data_config.other_info.col_label_shift = f'{args.label[0]}_ret'\n",
    "# data_config.other_info.col_label_from  = 'LABEL_{}_{}_{}'.format(*args.label)\n",
    "\n",
    "# path_output\n",
    "date = rz.time_str()[:10].replace('/', '')\n",
    "path_output = f'runningz/fe/_cache_/{date}/'\n",
    "os.makedirs(path_output, exist_ok = True)\n",
    "# import IPython; IPython.embed()\n",
    "\n",
    "# ------------------------------ read ------------------------------\n",
    "# read data\n",
    "print(dict_2_str(data_config))\n",
    "# rz.dump_json(data_config, f'{path_output}/{task}.data_config')        \n",
    "dm = get_subclass_by_name(BaseData, data_config.data_reader)().load(data_config)\n",
    "print('[init] <---------- mask_ALL  ----------> ')\n",
    "dm.set_mask_ALL(verbose = True) # for multi predict\n",
    "print(f'[+] dm.shape() = {dm.shape()}')\n",
    "if CONST.DEBUG: \n",
    "    print('[init] <---------- subsample  ---------> ')\n",
    "    subsample(dm, pct = 0.1)\n",
    "    print(f'[+] dm.shape() = {dm.shape()}')\n",
    "\n",
    "# ------------------------------ cols_dict_init ------------------------------\n",
    "col_id = data_config.cols_dict.col_id\n",
    "col_date = data_config.other_info.col_date\n",
    "col_label = data_config.cols_dict.col_label\n",
    "cols_tid = data_config.cols_dict.cols_tid\n",
    "col_label_shift = data_config.other_info.col_label_shift\n",
    "col_tid = data_config.cols_dict.col_tid\n",
    "\n",
    "cols_dict_init = {}\n",
    "history = []\n",
    "path = None\n",
    "if path is not None:\n",
    "    cols_dict_init = rz.load_json(path)\n",
    "    history = rz.load_json(f'{path[:-5]}.history')\n",
    "    print(f'[+] cache, dict = ')\n",
    "    print(pd.Series(cols_dict_init).apply(len).to_string())\n",
    "    print(f'[+] cache, history = ')\n",
    "    print_history(history)\n",
    "\n",
    "# ---------- basic ----------\n",
    "print('[init] <---------- fe_basic  ----------> ')\n",
    "dm.fe_go(cols_dict_init.get('name_list_basic', []))\n",
    "dm.fe_go(cols_dict_init.get('cols_fea', []))\n",
    "name_list_basic = []\n",
    "name_list = [\n",
    "    f'date_int = int32({col_date})',\n",
    "    f'date_t = to_datetime({col_date})',\n",
    "    f'ts = timestamp(date_t)',\n",
    "    f'dow = dow(date_t)',\n",
    "    f'x({col_id}, dow)',\n",
    "    f'is_holiday = holiday(date_t)',\n",
    "    f'ndays = days_diff(date_t, 2010-01-01)',\n",
    "    \n",
    "    f'date_shift_1 = roll(shift, {col_id}, {col_date}, {col_tid}, 1)',\n",
    "    f'date_diff_1 = dif({col_date}, date_shift_1)',\n",
    "    \n",
    "    f'date_shift_m1 = roll(shift, {col_id}, {col_date}, {col_tid}, -1)',\n",
    "    f'date_diff_m1 = dif({col_date}, date_shift_m1)',\n",
    "    \n",
    "    f'y_shift_1 = roll(shift, {col_id}, {col_label_shift}, {col_tid}, 1)',\n",
    "    f'y_shift_2 = roll(shift, {col_id}, {col_label_shift}, {col_tid}, 2)',\n",
    "    f'y_shift_3 = roll(shift, {col_id}, {col_label_shift}, {col_tid}, 3)',\n",
    "]\n",
    "dm.fe_go(name_list)\n",
    "name_list_basic += name_list\n",
    "cols_fix = []\n",
    "cols_dict_init['cols_fix'] = cols_fix\n",
    "\n",
    "# ------------------------------ cache ------------------------------\n",
    "typer_config = {\n",
    "    **dict(data_config.cols_dict),\n",
    "    'cols_num': [],\n",
    "    'cols_cat': [col_id, col_tid, f'x({col_id}, dow)'] +  (cols_tid if len(cols_tid) != 1 else []),\n",
    "    'cols_datetime': ['date_t'],\n",
    "    'cols_timestamp': ['ts'],\n",
    "    'cols_fix': cols_fix,\n",
    "    'name_list_basic': name_list_basic,\n",
    "    'cols_fea': [],\n",
    "}\n",
    "typer_config['data_config'] = dict(data_config)\n",
    "typer_config = {**typer_config, **cols_dict_init}  # insert data_config into cols_dict\n",
    "typer = Typer(typer_config)\n",
    "typer.update_cols_num(dm.head().columns)\n",
    "print('[init] <---------- typer_config ----------> ')\n",
    "print(pd.Series(typer.typer_config).apply(len).to_string())\n",
    "# import IPython; IPython.embed()\n",
    "\n",
    "# # ------------------------------ go ------------------------------\n",
    "fm_config_list = fm_config_list_ALL\n",
    "fm = rz.fe.FEMaster(dm, typer, history)\n",
    "# for i, fm_config in tqdm(enumerate(fm_config_list)):\n",
    "#     # if i <= 76: continue\n",
    "\n",
    "#     time_str = rz.time_str(fmt = '%Y%m%d_%H%M%S')\n",
    "#     print(f'{\">>\" * 50}, fm_config_i = {i:02d} / {len(fm_config_list):02d} | time_str = {time_str}')\n",
    "#     fm.run(fm_config_list[i: i + 1])\n",
    "\n",
    "#     if len(fm.history) > 0:\n",
    "#         cols_fea = fm.typer.get_cols_all('fea')\n",
    "#         score = pd.DataFrame(fm.history)['best'].iloc[-1]['a_score'][-1]\n",
    "#         path = f'{path_output}/{task}_{time_str}_{score:.4f}_{len(cols_fea)}.dict'\n",
    "#         fm.typer.dump_config(path)\n",
    "#         rz.dump_json(fm.history, f'{path[:-5]}.history')\n",
    "\n",
    "# # rz.dump_pickle(fm, f'{path_output}/fm.bin')\n",
    "print('[+] done!')"
   ]
  },
  {
   "cell_type": "code",
   "execution_count": 8,
   "id": "06bbc426",
   "metadata": {
    "ExecuteTime": {
     "end_time": "2024-02-07T17:15:53.092894Z",
     "start_time": "2024-02-07T17:15:53.081621Z"
    }
   },
   "outputs": [
    {
     "data": {
      "text/plain": [
       "{'T0': (1314259, 46), 'T0.ts_code': (3774, 1), 'T0.trade_date': (368, 1)}"
      ]
     },
     "execution_count": 8,
     "metadata": {},
     "output_type": "execute_result"
    }
   ],
   "source": [
    "dm.shape()"
   ]
  },
  {
   "cell_type": "code",
   "execution_count": null,
   "id": "7c9df0d9",
   "metadata": {
    "ExecuteTime": {
     "end_time": "2024-02-07T17:16:06.241797Z",
     "start_time": "2024-02-07T17:16:06.233550Z"
    }
   },
   "outputs": [],
   "source": []
  },
  {
   "cell_type": "code",
   "execution_count": null,
   "id": "6c1231c2",
   "metadata": {},
   "outputs": [],
   "source": []
  },
  {
   "cell_type": "markdown",
   "id": "9a1a8541",
   "metadata": {},
   "source": [
    "# pooler.py"
   ]
  },
  {
   "cell_type": "code",
   "execution_count": 10,
   "id": "f78eb6e0",
   "metadata": {
    "ExecuteTime": {
     "end_time": "2024-02-07T17:16:09.648296Z",
     "start_time": "2024-02-07T17:16:09.535160Z"
    }
   },
   "outputs": [],
   "source": [
    "import time\n",
    "import numpy as np\n",
    "import pandas as pd\n",
    "import json\n",
    "import optuna\n",
    "from tqdm.notebook import tqdm\n",
    "from runningz.core.op import OP_DICT_NOT, update_op_dict, op_dict_2_list\n",
    "from runningz.util.const import CONST\n",
    "from runningz.util.util import my_print as print\n",
    "from runningz.util.npy_numba import np_add_a_a, np_get, np_fill_v\n",
    "from runningz.metric.metrics_numba import corr_fast, cos_fast\n",
    "\n",
    "# op_dict[op_type] = op_list\n",
    "OP_DICT = update_op_dict(vervose=False)\n",
    "OP_DICT_YES = OP_DICT.copy()\n",
    "for key in OP_DICT_NOT.keys():\n",
    "    OP_DICT_YES[key] = [x for x in OP_DICT_YES[key] if x not in OP_DICT_NOT[key]]\n",
    "# print(f'[+] OP_DICT = {pd.Series(OP_DICT).apply(len).sum()}')\n",
    "# print(f'[+] OP_DICT_NOT  = {pd.Series(OP_DICT_NOT).apply(len).sum()}')\n",
    "# print(f'[+] OP_DICT_YES  = {pd.Series(OP_DICT_YES).apply(len).sum()}\\n{pd.Series(OP_DICT_YES).apply(len)}')\n",
    "s_all = set(op_dict_2_list(OP_DICT))\n",
    "s_not = set(op_dict_2_list(OP_DICT_NOT))\n",
    "s_yes = set(op_dict_2_list(OP_DICT_YES))\n",
    "assert s_all == (s_not | s_yes), f's_all = {len(s_all)}, s_not = {len(s_not)}, s_yes = {len(s_yes)}'\n",
    "\n",
    "def get_name_dict(agrs, name_type = 'count'):\n",
    "    if type(agrs[-1]) is optuna.trial._trial.Trial:\n",
    "        trial = agrs[-1]\n",
    "        agrs = agrs[:-1]\n",
    "    else:\n",
    "        trial = None\n",
    "        \n",
    "    if name_type in ['count']:\n",
    "        name = agrs[0]\n",
    "        name_x = name\n",
    "        name = f'agg(nonan, {name}, {name}, mask=hist)'\n",
    "        name_count = name\n",
    "        name = f'__TEMP__ = {name}'\n",
    "        return {\n",
    "            'name': name,\n",
    "            'name_count': name_count,\n",
    "            'name_x': name_x,\n",
    "            'trial': trial,\n",
    "        }\n",
    "    else:\n",
    "        name = agrs[0]\n",
    "        name = f'__TEMP__ = {name}'\n",
    "        return {\n",
    "            'name': name,\n",
    "            'trial': trial,\n",
    "        }\n",
    "    \n",
    "class Pooler:\n",
    "    def get_study(study_name = 'runningz', seed = 42):\n",
    "        study = optuna.create_study(study_name = study_name,\n",
    "                                    direction = 'maximize', \n",
    "                                    sampler = optuna.samplers.NSGAIISampler(seed = seed),\n",
    "                                    pruner = optuna.pruners.NopPruner()) # TODO\n",
    "        return study\n",
    "    \n",
    "    def __init__(self, study, cols_num, cols_cat):\n",
    "        self.study = study\n",
    "        self.cols_num = cols_num\n",
    "        self.cols_cat = cols_cat\n",
    "    \n",
    "    def run(self, fm, path_config, fm_config = None):\n",
    "        path_name = path_config['path_name']\n",
    "        op_type = path_config['op_type']\n",
    "        op_include = path_config.get('op_include', [])\n",
    "        op_exclude = path_config.get('op_exclude', [])\n",
    "        method = path_config.get('method', 'top')\n",
    "        params = path_config.get('params', {})\n",
    "        seed = path_config.get('seed', 42)\n",
    "\n",
    "        col_id = fm.typer.col_id\n",
    "        col_tid = fm.typer.col_tid\n",
    "        col_label = fm.typer.col_label\n",
    "        cols_num_top = self.cols_num\n",
    "        cols_cat_top = self.cols_cat\n",
    "\n",
    "        # ------------------------------------------------------------------------------------ path_config.params\n",
    "        # print(f'[+] path_config = {path_config}') \n",
    "        n_num = len(cols_num_top)\n",
    "        n_cat = len(cols_cat_top)\n",
    "        n_num = min(params.get('n_num', max(50, n_num // 4)), n_num)\n",
    "        n_cat = min(params.get('n_cat', max(20, n_cat // 4)), n_cat)\n",
    "        # print(f'[+] ----------> cols_num_top = {len(cols_num_top)}, n_num = {n_num}')\n",
    "        # print(f'[+] ----------> cols_cat_top = {len(cols_cat_top)}, n_cat = {n_cat}')\n",
    "\n",
    "        by_col_id = params.get('by_col_id', False)\n",
    "        by_col_tid = params.get('by_col_tid', False)\n",
    "        mask_pooler = params.get('mask_pooler', 'train')\n",
    "        if method == 'top':\n",
    "            # op_todo\n",
    "            if type(op_include) is list and len(op_include) > 0:\n",
    "                op_todo = op_include\n",
    "            else:\n",
    "                op_todo = [x for x in OP_DICT[op_type] if x not in op_exclude]\n",
    "\n",
    "            # cols_cat_top_2\n",
    "            if (by_col_id or (op_type == 'roll' and op_todo[0] == 'shift')):\n",
    "                cols_cat_top_2 = [f'x({fm.typer.col_id})']\n",
    "            else:\n",
    "                cols_cat_top_2 = cols_cat_top\n",
    "            if by_col_tid:\n",
    "                cols_cat_top_2 = [None]\n",
    "            n_cat_2 = len(cols_cat_top_2)\n",
    "        \n",
    "        params_bin_v_k = [10, 20, 50, 100, 200, 500, 1000]\n",
    "        params_bin_v_k = [10, 50, 100, 500, 1000]\n",
    "        window_dict = {\n",
    "            'all': [5, 10, 20, 30, 40, 50, 60, 120],\n",
    "            'short': [5, 10, 20, 30],\n",
    "            'long': [40, 50, 60, 120],\n",
    "            'shift': [1, 2, 3, 4, 5],\n",
    "        }\n",
    "        k_list = window_dict[params.get('window', 'all')]\n",
    "        if params.get('window_range', None) is not None: k_list = eval(params.get('window_range', None))\n",
    "\n",
    "        # ------------------------------------------------------------------------------------\n",
    "        if method in ['random', 'optuna']:\n",
    "            name_dict_list = []\n",
    "            name_set = set()\n",
    "            op_type_set = op_type\n",
    "            op_type_all =  ['op_1', 'op_1_v', 'op_2', 'op_2_v', 'op_3', 'op_3_v', 'op_m', 'agg', 'roll']\n",
    "            op_type_all += ['agg_comb_1', 'roll_comb_1']\n",
    "            op_type_all += ['agg_comb_2', 'roll_comb_2']\n",
    "            if fm_config is not None and fm_config.get('fm_config_i', None) is not None:\n",
    "                if fm_config['fm_config_i'] < 2:\n",
    "                    op_type_all =  ['op_1', 'op_1_v', 'op_2', 'op_2_v', 'op_3', 'op_3_v', 'op_m']\n",
    "                elif fm_config['fm_config_i'] < 4:\n",
    "                    op_type_all =  ['op_1', 'op_1_v', 'op_2', 'op_2_v', 'op_3', 'op_3_v', 'op_m', 'agg', 'roll']    \n",
    "            # op_type_all += ['agg_2', 'roll_2']\n",
    "            # print(f'[+] ----------> op_type_all = {op_type_all}')\n",
    "\n",
    "            sep_dict = {'first': '_BF_', 'after': '_AT_'} # for agg_comb and roll_comb\n",
    "            n_random_init = params.get('n_random_init', 500)\n",
    "            n_random_todo = params.get('n_random_todo', 1000)\n",
    "            n_total = n_random_todo if method == 'random' else n_random_init + n_random_todo\n",
    "            n_total = 1\n",
    "            \n",
    "            # study\n",
    "            study_name = f'{path_name} = {method}({op_type_set},{n_random_init},{n_random_todo},{seed})'\n",
    "            # study = Pooler.get_study(study_name = study_name, seed = seed)\n",
    "            study = self.study\n",
    "\n",
    "            t_guggest = 0\n",
    "            t_fe_go = 0\n",
    "            t_corr = 0\n",
    "            ti_list = []\n",
    "            df_time = []\n",
    "            s_op_type = []\n",
    "            s_op = []\n",
    "            col_tid_nunique = len(fm.dm.get_col_pandas(col_tid).value_counts())\n",
    "            for ri in range(n_total):\n",
    "                ti = 0\n",
    "                not_find = False\n",
    "                while True:\n",
    "                    ti += 1\n",
    "                    if ti >= 1000:\n",
    "                        ti_list.append(ti)\n",
    "                        not_find = True\n",
    "                        break\n",
    "                    t_guggest_begin = time.time()\n",
    "                    trial = study.ask()\n",
    "                    if op_type_set == 'all': \n",
    "                        op_type = trial.suggest_categorical('op_type', op_type_all) \n",
    "                    if op_type not in ['agg_comb_2', 'agg_comb_1', 'roll_comb_2', 'roll_comb_1']:\n",
    "                        op = trial.suggest_categorical(f'{op_type}.op', OP_DICT_YES[op_type])\n",
    "\n",
    "                    # ----------------------------------------\n",
    "                    if op_type in ['op_1']:\n",
    "                        col = trial.suggest_categorical(f'{op_type}.{op}.col', cols_num_top)\n",
    "                        name = f'{op}({col})'\n",
    "                        args = [name]\n",
    "                    # ----------------------------------------\n",
    "                    if op_type in ['op_1_v']:\n",
    "                        col = trial.suggest_categorical(f'{op_type}.{op}.col', cols_num_top)\n",
    "                        v = trial.suggest_categorical(f'{op_type}.{op}.v', [-1, 0, 1])\n",
    "                        name = f'{op}({col}, {v})'\n",
    "                        args = [name]\n",
    "                    # ----------------------------------------\n",
    "                    elif op_type in ['op_2']:\n",
    "                        c0 = trial.suggest_categorical(f'{op_type}.{op}.c0', cols_num_top)\n",
    "                        c1 = trial.suggest_categorical(f'{op_type}.{op}.c1', cols_num_top)\n",
    "                        if c0 == c1: continue\n",
    "                        name = f'{op}({c0}, {c1})'    \n",
    "                        args = [name]\n",
    "                    # ----------------------------------------\n",
    "                    elif op_type in ['op_2_v']:\n",
    "                        c0 = trial.suggest_categorical(f'{op_type}.{op}.c0', cols_num_top)\n",
    "                        c1 = trial.suggest_categorical(f'{op_type}.{op}.c1', cols_num_top)\n",
    "                        if c0 == c1: continue\n",
    "                        v = trial.suggest_float(f'{op_type}.{op}.v', 0, 1, step = 0.01)\n",
    "                        v = round(v, 2)\n",
    "                        name = f'{op}({c0}, {c1}, {v:.2f})'    \n",
    "                        args = [name]\n",
    "                    # ----------------------------------------\n",
    "                    elif op_type in ['op_3']:\n",
    "                        c0 = trial.suggest_categorical(f'{op_type}.{op}.c0', cols_num_top)\n",
    "                        c1 = trial.suggest_categorical(f'{op_type}.{op}.c1', cols_num_top)\n",
    "                        c2 = trial.suggest_categorical(f'{op_type}.{op}.c2', cols_num_top)\n",
    "                        if c0 == c1 or c0 == c2 or c1 == c2: continue\n",
    "                        name = f'{op}({c0}, {c1}, {c2})'    \n",
    "                        args = [name]\n",
    "                    # ----------------------------------------\n",
    "                    elif op_type in ['op_3_v']:\n",
    "                        c0 = trial.suggest_categorical(f'{op_type}.{op}.c0', cols_num_top)\n",
    "                        c1 = trial.suggest_categorical(f'{op_type}.{op}.c1', cols_num_top)\n",
    "                        c2 = trial.suggest_categorical(f'{op_type}.{op}.c2', cols_num_top)\n",
    "                        if c0 == c1 or c0 == c2 or c1 == c2: continue\n",
    "                        v = trial.suggest_float(f'{op_type}.{op}.v', 0, 1, step = 0.01)\n",
    "                        v = round(v, 2)\n",
    "                        name = f'{op}({c0}, {c1}, {c2}, {v:.2f})'    \n",
    "                        args = [name]\n",
    "                    # ----------------------------------------\n",
    "                    elif op_type in ['op_m']:\n",
    "                        m = trial.suggest_categorical(f'{op_type}.{op}.m', [3, 4, 5])\n",
    "                        if len(cols_num_top) < m: continue\n",
    "                        c_list = []\n",
    "                        for mi in range(m):\n",
    "                            c_list.append(trial.suggest_categorical(f'{op_type}.{op}.c{mi}', cols_num_top))\n",
    "                        if len(set(c_list)) != m: continue\n",
    "                        cs = ','.join(c_list)\n",
    "                        name = f'{op}({cs})'    \n",
    "                        args = [name]\n",
    "                    # ----------------------------------------\n",
    "                    elif op_type in ['agg']:\n",
    "                        keys = trial.suggest_categorical(f'{op_type}.{op}.keys', cols_cat_top + [None])\n",
    "                        if keys == col_tid or keys == f'x({col_tid})' or col_tid == f'x({keys})': continue\n",
    "                        if keys is None:\n",
    "                            keys = f'{col_tid}'\n",
    "                        else:\n",
    "                            keys_nunique = len(fm.dm.get_col_pandas(keys).value_counts())\n",
    "                            keys = f'x({col_tid}, {keys})'\n",
    "                            if len(fm.dm) / (col_tid_nunique * keys_nunique + 1) < 5: continue\n",
    "                        col = trial.suggest_categorical(f'{op_type}.{op}.col', cols_num_top)\n",
    "                        name = f'{op_type}({op}, {keys}, {col}, mask=mask)'\n",
    "                        args = [name]\n",
    "                    # ----------------------------------------\n",
    "                    elif op_type in ['roll']: \n",
    "                        keys = col_id\n",
    "                        col = trial.suggest_categorical(f'{op_type}.{op}.col', cols_num_top)\n",
    "                        if op == 'shift':\n",
    "                            k_shift_list = [1,2,3,4,5]\n",
    "                            k = trial.suggest_categorical(f'{op_type}.{op}.k_shift', k_shift_list)\n",
    "                        else:\n",
    "                            k = trial.suggest_categorical(f'{op_type}.{op}.k_all', k_list)\n",
    "                        name = f'{op_type}({op}, {keys}, {col}, {col_tid}, {k})'\n",
    "                        args = [name]\n",
    "                    # ----------------------------------------\n",
    "                    elif op_type in ['agg_comb_1']:\n",
    "                        op_type_2 = trial.suggest_categorical(f'{op_type}.op_type_2', ['first', 'after'])\n",
    "                        ops  = ['mean', 'std', 'min', 'max', 'sum', 'skew', 'kurt', 'firstv', 'lastv']\n",
    "                        _op = trial.suggest_categorical(f'{op_type}.{op_type_2}._op1', ops)\n",
    "                        op_1_list = ['isnan', 'nonan', 'sign', 'abs', 'inv', 'power', 'sqrt', 'log_abs', 'cutpos', 'cutneg', 'log1p']\n",
    "                        opx = trial.suggest_categorical(f'{op_type}.{op_type_2}.opx', op_1_list)\n",
    "                        op = f'{_op}{sep_dict[op_type_2]}{opx}'\n",
    "                        keys = trial.suggest_categorical(f'{op_type}.{op_type_2}.keys', cols_cat_top + [None])\n",
    "                        if keys == col_tid or keys == f'x({col_tid})' or col_tid == f'x({keys})': continue\n",
    "                        if keys is None:\n",
    "                            keys = f'{col_tid}'\n",
    "                        else:\n",
    "                            keys_nunique = len(fm.dm.get_col_pandas(keys).value_counts())\n",
    "                            keys = f'x({col_tid}, {keys})'\n",
    "                            if len(fm.dm) / (col_tid_nunique * keys_nunique + 1) < 5: continue\n",
    "                        col = trial.suggest_categorical(f'{op_type}.{op_type_2}.col', cols_num_top)\n",
    "                        name = f'{\"agg\"}({op}, {keys}, {col})'\n",
    "                        args = [name]\n",
    "                    # ----------------------------------------\n",
    "                    elif op_type in ['roll_comb_1']:\n",
    "                        op_type_2 = trial.suggest_categorical(f'{op_type}.op_type_2', ['first', 'after'])\n",
    "                        ops  = ['mean', 'std', 'min', 'max', 'sum', 'skew', 'kurt', 'argmin', 'argmax', 'shift']\n",
    "                        _op = trial.suggest_categorical(f'{op_type}.{op_type_2}._op', ops)\n",
    "                        op_1_list = ['isnan', 'nonan', 'sign', 'abs', 'inv', 'power', 'sqrt', 'log_abs', 'cutpos', 'cutneg']\n",
    "                        opx = trial.suggest_categorical(f'{op_type}.{op_type_2}.opx', op_1_list)\n",
    "                        op = f'{_op}{sep_dict[op_type_2]}{opx}'\n",
    "                        keys = col_id\n",
    "                        col = trial.suggest_categorical(f'{op_type}.{op_type_2}.col', cols_num_top)\n",
    "                        if op == 'shift':\n",
    "                            k_shift_list = [1,2,3,4,5]\n",
    "                            k = trial.suggest_categorical(f'{op_type}.{op_type_2}.k_shift', k_shift_list)\n",
    "                        else:\n",
    "                            k = trial.suggest_categorical(f'{op_type}.{op_type_2}.k_all', k_list)\n",
    "                        name = f'{\"roll\"}({op}, {keys}, {col}, {col_tid}, {k})'\n",
    "                        args = [name]    \n",
    "                    # ----------------------------------------\n",
    "                    elif op_type in ['agg_comb_2']:\n",
    "                        op_type_2 = trial.suggest_categorical(f'{op_type}.op_type_2', ['first', 'after'])\n",
    "                        if op_type_2 == 'first':\n",
    "                            ops  = ['o', 'mean', 'std', 'min', 'max', 'sum', 'skew', 'kurt', 'firstv', 'lastv']\n",
    "                            _op1 = trial.suggest_categorical(f'{op_type}.{op_type_2}._op1', ops)\n",
    "                            _op2 = trial.suggest_categorical(f'{op_type}.{op_type_2}._op2', ops)\n",
    "                            if _op1 == _op2: continue\n",
    "                            opx = trial.suggest_categorical(f'{op_type}.{op_type_2}.opx', OP_DICT_YES['op_2'])\n",
    "                            op = f'{_op1}__{opx}__{_op2}'\n",
    "                            keys = trial.suggest_categorical(f'{op_type}.{op_type_2}.keys', cols_cat_top + [None])\n",
    "                            if keys == col_tid or keys == f'x({col_tid})' or col_tid == f'x({keys})': continue\n",
    "                            if keys is None:\n",
    "                                keys = f'{col_tid}'\n",
    "                            else:\n",
    "                                keys_nunique = len(fm.dm.get_col_pandas(keys).value_counts())\n",
    "                                keys = f'x({col_tid}, {keys})'\n",
    "                                if len(fm.dm) / (col_tid_nunique * keys_nunique + 1) < 5: continue\n",
    "                            col = trial.suggest_categorical(f'{op_type}.{op_type_2}.col', cols_num_top)\n",
    "                            name = f'{\"agg\"}({op}, {keys}, {col})'\n",
    "                            args = [name]\n",
    "                        elif op_type_2 == 'after':\n",
    "                            ops  = ['mean', 'std', 'min', 'max', 'sum', 'skew', 'kurt', 'firstv', 'lastv']\n",
    "                            c0 = trial.suggest_categorical(f'{op_type}.{op_type_2}.c0', cols_num_top)\n",
    "                            c1 = trial.suggest_categorical(f'{op_type}.{op_type_2}.c1', cols_num_top)\n",
    "                            if c0 == c1: continue\n",
    "                            _op = trial.suggest_categorical(f'{op_type}.{op_type_2}._op', ops)\n",
    "                            opx = trial.suggest_categorical(f'{op_type}.{op_type_2}.opx', OP_DICT_YES['op_2'])\n",
    "                            op = f'{opx}__{_op}'\n",
    "                            keys = trial.suggest_categorical(f'{op_type}.{op_type_2}.{op}.keys', cols_cat_top + [None])\n",
    "                            if keys == col_tid or keys == f'x({col_tid})' or col_tid == f'x({keys})': continue\n",
    "                            if keys is None:\n",
    "                                keys = f'{col_tid}'\n",
    "                            else:\n",
    "                                keys_nunique = len(fm.dm.get_col_pandas(keys).value_counts())\n",
    "                                keys = f'x({col_tid}, {keys})'\n",
    "                                if len(fm.dm) / (col_tid_nunique * keys_nunique + 1) < 5: continue\n",
    "                            name = f'{\"agg\"}({op}, {keys}, {c0}, {c1})'\n",
    "                            args = [name]\n",
    "                    # ----------------------------------------\n",
    "                    elif op_type in ['roll_comb_2']:\n",
    "                        op_type_2 = trial.suggest_categorical(f'{op_type}.op_type_2', ['first', 'after'])\n",
    "                        if op_type_2 == 'first':\n",
    "                            ops  = ['o', 'mean', 'std', 'min', 'max', 'sum', 'skew', 'kurt', 'argmin', 'argmax']\n",
    "                            _op1 = trial.suggest_categorical(f'{op_type}.{op_type_2}._op1', ops)\n",
    "                            _op2 = trial.suggest_categorical(f'{op_type}.{op_type_2}._op2', ops)\n",
    "                            if _op1 == _op2: continue\n",
    "                            opx = trial.suggest_categorical(f'{op_type}.{op_type_2}.opx', OP_DICT_YES['op_2'])\n",
    "                            op = f'{_op1}__{opx}__{_op2}'\n",
    "                            keys = col_id\n",
    "                            # col = trial.suggest_categorical(f'{op_type}.{op}.col', cols_num_top) # TODO, .{op}.? @zhongrunxing\n",
    "                            col = trial.suggest_categorical(f'{op_type}.{op_type_2}.col', cols_num_top)\n",
    "                            if op == 'shift':\n",
    "                                k_shift_list = [1,2,3,4,5]\n",
    "                                k = trial.suggest_categorical(f'{op_type}.{op_type_2}.k_shift', k_shift_list)\n",
    "                            else:\n",
    "                                k = trial.suggest_categorical(f'{op_type}.{op_type_2}.k_all', k_list)\n",
    "                            name = f'{\"roll\"}({op}, {keys}, {col}, {col_tid}, {k})'\n",
    "                            args = [name]\n",
    "                        elif op_type_2 == 'after':\n",
    "                            ops  = ['mean', 'std', 'min', 'max', 'sum', 'skew', 'kurt', 'argmin', 'argmax', 'shift']\n",
    "                            c0 = trial.suggest_categorical(f'{op_type}.{op_type_2}.c0', cols_num_top)\n",
    "                            c1 = trial.suggest_categorical(f'{op_type}.{op_type_2}.c1', cols_num_top)\n",
    "                            if c0 == c1: continue\n",
    "                            _op = trial.suggest_categorical(f'{op_type}.{op_type_2}._op', ops)\n",
    "                            opx = trial.suggest_categorical(f'{op_type}{op_type_2}.opx', OP_DICT_YES['op_2'])\n",
    "                            op = f'{opx}__{_op}'\n",
    "                            keys = col_id\n",
    "                            if op == 'shift':\n",
    "                                k_shift_list = [1,2,3,4,5]\n",
    "                                k = trial.suggest_categorical(f'{op_type}.{op_type_2}.k_shift', k_shift_list)\n",
    "                            else:\n",
    "                                k = trial.suggest_categorical(f'{op_type}.{op_type_2}.k_all', k_list)\n",
    "                            name = f'{\"roll\"}({op}, {keys}, {c0}, {c1}, {col_tid}, {k})'\n",
    "                            args = [name]\n",
    "                    # ----------------------------------------\n",
    "                    elif op_type in ['agg_2']:\n",
    "                        c0 = trial.suggest_categorical(f'{op_type}.{op}.c0', cols_num_top)\n",
    "                        c1 = trial.suggest_categorical(f'{op_type}.{op}.c1', cols_num_top)\n",
    "                        if c0 == c1: continue\n",
    "                        keys = trial.suggest_categorical(f'{op_type}.{op}.keys', cols_cat_top + [None])\n",
    "                        if keys == col_tid or keys == f'x({col_tid})' or col_tid == f'x({keys})': continue\n",
    "                        if keys is None:\n",
    "                            keys = f'{col_tid}'\n",
    "                        else:\n",
    "                            keys_nunique = len(fm.dm.get_col_pandas(keys).value_counts())\n",
    "                            keys = f'x({col_tid}, {keys})'\n",
    "                            if len(fm.dm) / (col_tid_nunique * keys_nunique + 1) < 5: continue\n",
    "                        name = f'{\"agg\"}({op}, {keys}, {c0}, {c1})'\n",
    "                        args = [name]\n",
    "                    # ----------------------------------------\n",
    "                    elif op_type in ['roll_2']: \n",
    "                        c0 = trial.suggest_categorical(f'{op_type}.{op}.c0', cols_num_top)\n",
    "                        c1 = trial.suggest_categorical(f'{op_type}.{op}.c1', cols_num_top)\n",
    "                        if c0 == c1: continue\n",
    "                        keys = col_id\n",
    "                        k = trial.suggest_categorical(f'{op_type}.{op}.k_all', k_list)\n",
    "                        name = f'{\"roll\"}({op}, {keys}, {c0}, {c1}, {col_tid}, {k})'\n",
    "                        args = [name]\n",
    "                    \n",
    "                    t_guggest_end = time.time()\n",
    "                    t_guggest += (t_guggest_end - t_guggest_begin)\n",
    "\n",
    "                    if fm.dm.namer.get_deep(name) > 7: continue\n",
    "                    if fm.dm.exist(name): continue\n",
    "                    if name in name_set: continue\n",
    "                    name_set.add(name)    \n",
    "                    name_dict = get_name_dict(args + [trial], name_type = op_type)\n",
    "                    t1 = time.time()\n",
    "                    \n",
    "                    try:\n",
    "                        name_list = [name_dict['name']]\n",
    "                        fm.dm.fe_go(name_list, verbose = False, again = True) # \n",
    "                        # x = fm.dm.get_col_numpy('__TEMP__')\n",
    "                        # fm.dm.drop(name_list, verbose = False)\n",
    "                    except Exception as e:\n",
    "                        print(f'[+] {name_dict[\"name\"]}, ERROR, {e}')\n",
    "                        continue\n",
    "                    \n",
    "                    t2 = time.time()\n",
    "                    t_fe_go += (t2 - t1)\n",
    "                    df_time.append([name_dict['name'][len('__TEMP__ = '):], (t2 - t1)])\n",
    "\n",
    "                    # find a new one\n",
    "                    s_op_type.append(op_type)\n",
    "                    s_op.append((op_type, op))\n",
    "                    ti_list.append(ti)\n",
    "                    break \n",
    "                name_dict_list.append(name_dict)\n",
    "            n_unique = len(set([name_dict['name'] for name_dict in name_dict_list]))\n",
    "            assert len(name_dict_list) == n_unique, f'[+] name_dict_list = {len(name_dict_list)}, n_unique = {n_unique}'\n",
    "            return name_dict_list[-1 * n_random_todo:]"
   ]
  },
  {
   "cell_type": "code",
   "execution_count": null,
   "id": "9b675583",
   "metadata": {},
   "outputs": [],
   "source": []
  },
  {
   "cell_type": "markdown",
   "id": "65d5df41",
   "metadata": {},
   "source": [
    "# main"
   ]
  },
  {
   "cell_type": "code",
   "execution_count": 11,
   "id": "7e4b6f0a",
   "metadata": {
    "ExecuteTime": {
     "end_time": "2024-02-07T17:16:10.766680Z",
     "start_time": "2024-02-07T17:16:10.758379Z"
    }
   },
   "outputs": [
    {
     "name": "stdout",
     "output_type": "stream",
     "text": [
      "{\n",
      "    \"path_config_list\": [{\n",
      "        \"path_name\": \"opt_all_000\",\n",
      "        \"op_type\": \"all\",\n",
      "        \"method\": \"optuna\",\n",
      "        \"params\": {\n",
      "            \"n_random_init\": 200,\n",
      "            \"n_random_todo\": 500,\n",
      "            \"mask_pooler\": \"look\",\n",
      "            \"mask_ranker\": \"look\",\n",
      "            \"window_range\": \"range(5, 125, 5)\"\n",
      "        },\n",
      "        \"ranker\": [[\"true:ic,icpn\", 300], [\"imp:lgb\", 50]],\n",
      "        \"seed\": 777\n",
      "    }],\n",
      "    \"path_dict\": {},\n",
      "    \"mask_train\": \"train\",\n",
      "    \"mask_valid\": \"valid\",\n",
      "    \"metrics\": \"rz:ic,icpn,icpm\",\n",
      "    \"mask_valid_list\": [\"valid_1\", \"valid_2\", \"valid_3\", \"valid_4\", \"valid_5\", \"valid_6\", \"valid\"],\n",
      "    \"method\": \"mean,imp5\",\n",
      "    \"model\": {\"num_leaves\": 4, \"n_estimators\": 100},\n",
      "    \"k\": 5,\n",
      "    \"pot\": null,\n",
      "    \"mask_eval_list\": [\"eval_1\", \"eval_2\", \"eval\", \"eval_m1\", \"eval_m2\", \"eval_m3\", \"eval_m4\", \"eval_m5\", \"eval_m6\"],\n",
      "    \"fm_config_i\": 0\n",
      "}\n"
     ]
    }
   ],
   "source": [
    "print(rz.dict_2_str(fm_config_list[0]))"
   ]
  },
  {
   "cell_type": "code",
   "execution_count": 13,
   "id": "1d73a0dc",
   "metadata": {
    "ExecuteTime": {
     "end_time": "2024-02-07T17:16:35.570630Z",
     "start_time": "2024-02-07T17:16:35.564536Z"
    }
   },
   "outputs": [],
   "source": [
    "params_res = dict(\n",
    "    seed = 42,               # random seed\n",
    "    n_estimators = 10,     # n rounds\n",
    "    \n",
    "    learning_rate = 0.1,     # dy = (1 - lr) * dy + lr * (y - y')\n",
    "    num_leaves = 100,       # n trys in 1 round\n",
    "    max_depth = 5,\n",
    "    \n",
    "    bagging_freq = 1,        # rounds to bagging sample, sample to choose best try\n",
    "    bagging_fraction = 0.5,  # bagging ratio\n",
    "    feature_fraction = 0.5,  # feature sampling in each round\n",
    "\n",
    "    max_bin = 32,            # split into 16 bins, to calc follow metrics\n",
    "    lambda_l1 = 0.001,       # bins which ic_i < L1, set as 0\n",
    "    lambda_l2 = 0.1,         # mean(IC_bins) - L2 * std(IC_bins)\n",
    "    min_pos_bins = 0.5,      # mean(IC_bins > 0) >= \n",
    "    min_round_gain = 0.001,  # IC(y, y_pred_new) - IC(y, y_pred_old) >= \n",
    "    \n",
    "    early_stopping = 10,     # 10 rounds without better eval, than stop\n",
    "    extra = False,           # random pick op(args)\n",
    ")"
   ]
  },
  {
   "cell_type": "code",
   "execution_count": 14,
   "id": "246da278",
   "metadata": {
    "ExecuteTime": {
     "end_time": "2024-02-07T17:16:35.915303Z",
     "start_time": "2024-02-07T17:16:35.912519Z"
    }
   },
   "outputs": [],
   "source": [
    "fm.params_res = params_res"
   ]
  },
  {
   "cell_type": "code",
   "execution_count": null,
   "id": "3a46d221",
   "metadata": {},
   "outputs": [],
   "source": []
  },
  {
   "cell_type": "code",
   "execution_count": null,
   "id": "efbb75e3",
   "metadata": {},
   "outputs": [],
   "source": []
  },
  {
   "cell_type": "code",
   "execution_count": 15,
   "id": "61ace90c",
   "metadata": {
    "ExecuteTime": {
     "end_time": "2024-02-07T17:16:36.930345Z",
     "start_time": "2024-02-07T17:16:36.924734Z"
    }
   },
   "outputs": [],
   "source": []
  },
  {
   "cell_type": "code",
   "execution_count": 16,
   "id": "fec1d35e",
   "metadata": {
    "ExecuteTime": {
     "end_time": "2024-02-07T17:16:37.420542Z",
     "start_time": "2024-02-07T17:16:37.416422Z"
    }
   },
   "outputs": [],
   "source": [
    "# dm.get_col_numpy(col_label, mask_name='sample')"
   ]
  },
  {
   "cell_type": "code",
   "execution_count": 17,
   "id": "7bd748f0",
   "metadata": {
    "ExecuteTime": {
     "end_time": "2024-02-07T17:16:37.592298Z",
     "start_time": "2024-02-07T17:16:37.589691Z"
    }
   },
   "outputs": [],
   "source": []
  },
  {
   "cell_type": "code",
   "execution_count": 18,
   "id": "a6faecef",
   "metadata": {
    "ExecuteTime": {
     "end_time": "2024-02-07T17:16:37.765447Z",
     "start_time": "2024-02-07T17:16:37.759883Z"
    }
   },
   "outputs": [
    {
     "data": {
      "text/plain": [
       "{'T0': (1314259, 46), 'T0.ts_code': (3774, 1), 'T0.trade_date': (368, 1)}"
      ]
     },
     "execution_count": 18,
     "metadata": {},
     "output_type": "execute_result"
    }
   ],
   "source": [
    "cols_fea = []\n",
    "mask_look = 'look'\n",
    "dm.shape()"
   ]
  },
  {
   "cell_type": "code",
   "execution_count": 19,
   "id": "addc187a",
   "metadata": {
    "ExecuteTime": {
     "end_time": "2024-02-07T17:16:37.927500Z",
     "start_time": "2024-02-07T17:16:37.921881Z"
    }
   },
   "outputs": [
    {
     "data": {
      "text/plain": [
       "410673"
      ]
     },
     "execution_count": 19,
     "metadata": {},
     "output_type": "execute_result"
    }
   ],
   "source": [
    "dm.masker.mask_DICT['look'].sum(), dm.masker.mask_DICT['train'].sum()"
   ]
  },
  {
   "cell_type": "code",
   "execution_count": 20,
   "id": "3349c4b7",
   "metadata": {
    "ExecuteTime": {
     "end_time": "2024-02-07T17:16:38.184508Z",
     "start_time": "2024-02-07T17:16:38.177563Z"
    }
   },
   "outputs": [
    {
     "data": {
      "text/plain": [
       "407233"
      ]
     },
     "execution_count": 20,
     "metadata": {},
     "output_type": "execute_result"
    }
   ],
   "source": []
  },
  {
   "cell_type": "code",
   "execution_count": null,
   "id": "0d7a9bec",
   "metadata": {},
   "outputs": [],
   "source": []
  },
  {
   "cell_type": "code",
   "execution_count": 21,
   "id": "361d59d0",
   "metadata": {
    "ExecuteTime": {
     "end_time": "2024-02-07T17:16:39.146776Z",
     "start_time": "2024-02-07T17:16:39.142921Z"
    }
   },
   "outputs": [],
   "source": [
    "cols_fea = []"
   ]
  },
  {
   "cell_type": "code",
   "execution_count": 25,
   "id": "b3f7c4ea",
   "metadata": {
    "ExecuteTime": {
     "end_time": "2024-02-07T17:17:05.191375Z",
     "start_time": "2024-02-07T17:17:05.154313Z"
    }
   },
   "outputs": [],
   "source": [
    "for i_round in range(params_res['n_estimators']):\n",
    "    # -------------------------------------------------- bagging_fraction\n",
    "    if 0 < params_res['bagging_fraction'] < 1:\n",
    "        mask_sample = 'bagging_sample'\n",
    "        if i_round % params_res['bagging_freq'] == 0:\n",
    "            mask = dm.masker.mask_DICT[mask_look]\n",
    "            mask &= np.random.random(len(mask)) < params_res['bagging_fraction']\n",
    "            dm.set_mask(mask, mask_sample)\n",
    "    else:\n",
    "        mask_sample = mask_look\n",
    "    \n",
    "    # -------------------------------------------------- feature_fraction\n",
    "    cols_num = fm.typer.get_cols_all(dtype = 'num')\n",
    "    cols_cat = fm.typer.get_cols_all(dtype = 'cat')\n",
    "    if 0 < params_res['feature_fraction'] < 1:\n",
    "        cols_num = list(pd.Series(cols_num).sample(frac = params_res['feature_fraction']))\n",
    "        cols_cat = list(pd.Series(cols_cat).sample(frac = params_res['feature_fraction']))\n",
    "    \n",
    "    \n",
    "    # -------------------------------------------------- X, y\n",
    "    if len(cols_fea) == 0:\n",
    "        X = None\n",
    "    else:\n",
    "        X = dm.get_col_numpy(cols_fea, mask_name = mask_sample)\n",
    "    \n",
    "    y = dm.get_col_numpy(col_label, mask_name = mask_sample)\n",
    "    if i_round == 0: dy = y\n",
    "    \n",
    "    \n",
    "    \n",
    "    break\n",
    "    \n",
    "\n",
    "#     dy = get_y_pred(X, y, cols_fea)"
   ]
  },
  {
   "cell_type": "code",
   "execution_count": 50,
   "id": "aceec8fc",
   "metadata": {
    "ExecuteTime": {
     "end_time": "2024-02-07T17:29:19.935186Z",
     "start_time": "2024-02-07T17:29:19.929358Z"
    }
   },
   "outputs": [],
   "source": [
    "def get_a_bins(n, k):\n",
    "    a_bins = np.empty(n, dtype = np.int32)\n",
    "    get_p1p2_list = lambda n, k: [(i * n // k, (i + 1) * n // k) for i in range(k)]\n",
    "    for i, p1p2 in enumerate(get_p1p2_list(n, k)): a_bins[p1p2[0]:p1p2[1]] = i\n",
    "    return a_bins"
   ]
  },
  {
   "cell_type": "code",
   "execution_count": 51,
   "id": "b45718c4",
   "metadata": {
    "ExecuteTime": {
     "end_time": "2024-02-07T17:30:00.355168Z",
     "start_time": "2024-02-07T17:29:20.065755Z"
    },
    "scrolled": true
   },
   "outputs": [
    {
     "name": "stderr",
     "output_type": "stream",
     "text": [
      "\u001b[32m[I 2024-02-08 01:29:20,074]\u001b[0m A new study created in memory with name: round_0\u001b[0m\n"
     ]
    },
    {
     "data": {
      "application/vnd.jupyter.widget-view+json": {
       "model_id": "f1d9f7d31d5f4cd08b34c2fa8e8a3d95",
       "version_major": 2,
       "version_minor": 0
      },
      "text/plain": [
       "  0%|          | 0/100 [00:00<?, ?it/s]"
      ]
     },
     "metadata": {},
     "output_type": "display_data"
    }
   ],
   "source": [
    "df_name_score = []\n",
    "\n",
    "study = Pooler.get_study(study_name = f'round_{i_round}', seed = params_res['seed'] + 1)\n",
    "pooler = Pooler(study, cols_num, cols_cat)\n",
    "path_config = fm_config_list[0]['path_config_list'][0]\n",
    "fm_config = fm_config_list[0]\n",
    "\n",
    "dm_i = fm.dm.get_cols_pandas([col_tid, col_label], mask_name = mask_sample)\n",
    "mask = fm.dm.masker.mask_DICT[mask_sample][fm.dm.masker.idx_DICT[mask_sample]]\n",
    "dm_i = rz.DataMaster(dm_i)\n",
    "dm_i.set_mask(mask, mask_sample)\n",
    "dm_i.set_by_col('__LABEL__', dy)\n",
    "\n",
    "for i_try in tqdm(range(params_res['num_leaves'])):        \n",
    "    name_dict_list = pooler.run(fm, path_config, fm_config = None)    \n",
    "    dm_i.set_by_col('__PRED__', dm.get_col_numpy('__TEMP__', mask_name = mask_sample))\n",
    "    fm.dm.drop([name_dict_list[0]['name']], verbose = False)\n",
    "    \n",
    "    name_list = [f'ic = gp(ic, {col_tid}, __LABEL__, __PRED__, mask={mask_sample})']\n",
    "    dm_i.fe_go(name_list, verbose = False, again = True)\n",
    "    df_ic_i = dm_i.get_cols_pandas(df_name = f'T0.{col_tid}')\n",
    "    df_ic_i['i'] = np.arange(len(df_ic_i))\n",
    "    df_ic_i['i_bin'] = get_a_bins(len(df_ic_i), params_res['max_bin'])\n",
    "    df_ic_i = df_ic_i.groupby('i_bin')['ic'].mean()\n",
    "    ic_raw = df_ic_i.mean()\n",
    "    sign_ic = np.sign(ic_raw)\n",
    "    \n",
    "    # lambda_l1\n",
    "    s_ic = sign_ic * df_ic_i\n",
    "    s_ic[(s_ic >= 0) & (s_ic < params_res['lambda_l1'])] = 0\n",
    "    ic = s_ic.mean()\n",
    "    \n",
    "    # lambda_l2\n",
    "    ic_reg = params_res['lambda_l2'] * s_ic.std(ddof = 0)\n",
    "    score = ic - ic_reg\n",
    "    \n",
    "    # min_pos_bins\n",
    "    pos_bins = (s_ic > 0).mean()\n",
    "    \n",
    "    # extra\n",
    "    if not params_res['extra']:\n",
    "        pooler.study.tell(name_dict_list[0]['trial'], score)  \n",
    "    \n",
    "    name = name_dict_list[0]['name'][len('__TEMP__ = '):]\n",
    "    df_name_score.append([name, score, ic, ic_reg, pos_bins, ic_raw])\n",
    "    # break\n",
    "\n",
    "df_name_score = pd.DataFrame(df_name_score, columns = ['name', 'score', 'ic', 'ic_reg', 'pos_bins', 'ic_raw'])"
   ]
  },
  {
   "cell_type": "code",
   "execution_count": 209,
   "id": "655befba",
   "metadata": {
    "ExecuteTime": {
     "end_time": "2024-02-07T17:06:04.980632Z",
     "start_time": "2024-02-07T17:06:04.978570Z"
    }
   },
   "outputs": [],
   "source": [
    "# x = fm.dm.get_cols_numpy_cszscore([col_id], ['__TEMP__'], mask_name = mask_sample)"
   ]
  },
  {
   "cell_type": "code",
   "execution_count": 54,
   "id": "330caa55",
   "metadata": {
    "ExecuteTime": {
     "end_time": "2024-02-07T17:30:42.550318Z",
     "start_time": "2024-02-07T17:30:42.547142Z"
    }
   },
   "outputs": [],
   "source": [
    "# df_name_score.sort_values('score', ascending = False)"
   ]
  },
  {
   "cell_type": "code",
   "execution_count": 55,
   "id": "c6d9a716",
   "metadata": {
    "ExecuteTime": {
     "end_time": "2024-02-07T17:30:43.700031Z",
     "start_time": "2024-02-07T17:30:43.697025Z"
    }
   },
   "outputs": [],
   "source": [
    "# df_name_score.sort_values('ic', ascending = False)"
   ]
  },
  {
   "cell_type": "code",
   "execution_count": null,
   "id": "9ee03fd9",
   "metadata": {},
   "outputs": [],
   "source": []
  },
  {
   "cell_type": "code",
   "execution_count": 56,
   "id": "553e03e1",
   "metadata": {
    "ExecuteTime": {
     "end_time": "2024-02-07T17:30:45.256418Z",
     "start_time": "2024-02-07T17:30:45.251069Z"
    }
   },
   "outputs": [],
   "source": [
    "name = df_name_score.sort_values('score', ascending = False).iloc[0]['name']\n",
    "\n",
    "dm.fe_go([name], verbose = False, again = True)\n",
    "\n",
    "X_add = dm.get_cols_numpy_cszscore([col_tid], [name], mask_name = mask_sample)\n",
    "\n",
    "X_new = rz.util.npy_numba.np_hstack_F(X_add, X_add)\n",
    "\n",
    "X = X_new\n",
    "\n",
    "Model = rz.model.LRModel\n",
    "model = Model().train(dict(X_train = X, y_train = y))\n",
    "y_pred = model.predict(X)\n",
    "dy = y - y_pred"
   ]
  },
  {
   "cell_type": "code",
   "execution_count": null,
   "id": "632e1dce",
   "metadata": {},
   "outputs": [],
   "source": []
  },
  {
   "cell_type": "code",
   "execution_count": 59,
   "id": "19bb78c5",
   "metadata": {
    "ExecuteTime": {
     "end_time": "2024-02-07T17:30:49.734369Z",
     "start_time": "2024-02-07T17:30:49.730939Z"
    }
   },
   "outputs": [
    {
     "data": {
      "text/plain": [
       "(102668,)"
      ]
     },
     "execution_count": 59,
     "metadata": {},
     "output_type": "execute_result"
    }
   ],
   "source": [
    "dy.shape"
   ]
  },
  {
   "cell_type": "code",
   "execution_count": 60,
   "id": "fcba0073",
   "metadata": {
    "ExecuteTime": {
     "end_time": "2024-02-07T17:30:49.742366Z",
     "start_time": "2024-02-07T17:30:49.736898Z"
    }
   },
   "outputs": [
    {
     "data": {
      "text/plain": [
       "(102668, 1)"
      ]
     },
     "execution_count": 60,
     "metadata": {},
     "output_type": "execute_result"
    }
   ],
   "source": [
    "X_add.shape"
   ]
  },
  {
   "cell_type": "code",
   "execution_count": null,
   "id": "f9c7b6a0",
   "metadata": {},
   "outputs": [],
   "source": []
  },
  {
   "cell_type": "code",
   "execution_count": null,
   "id": "f04e97d7",
   "metadata": {},
   "outputs": [],
   "source": []
  },
  {
   "cell_type": "code",
   "execution_count": 66,
   "id": "046d5c70",
   "metadata": {
    "ExecuteTime": {
     "end_time": "2024-02-07T12:30:58.952387Z",
     "start_time": "2024-02-07T12:30:58.947921Z"
    }
   },
   "outputs": [],
   "source": [
    "# def update_dy(X, y, cols_fea):\n",
    "#     if len(cols_fea) == 0: return dy\n",
    "    \n",
    "#     X = \n",
    "#     Model = rz.model.LRModel\n",
    "#     model = Model().train(dict(X_train = X, y_train = y))\n",
    "#     y_pred = model.predict(X)\n",
    "#     dy = y - y_pred\n",
    "#     fm.params_res['learning_rate']"
   ]
  },
  {
   "cell_type": "code",
   "execution_count": 465,
   "id": "81a0694a",
   "metadata": {
    "ExecuteTime": {
     "end_time": "2024-02-09T06:20:23.805278Z",
     "start_time": "2024-02-09T06:20:23.802888Z"
    }
   },
   "outputs": [],
   "source": [
    "ic_cur = 0.08\n",
    "score_l2 = 0.02\n",
    "# max_corr = 0.145\n",
    "max_corr = 0.1\n",
    "# (ic_cur ** 2 + score_l2) / (ic_cur ** 2 + 1 + (0.5 ** -2) * 2 * max_corr) ** 0.5"
   ]
  },
  {
   "cell_type": "code",
   "execution_count": 488,
   "id": "80defbca",
   "metadata": {
    "ExecuteTime": {
     "end_time": "2024-02-09T06:23:49.352738Z",
     "start_time": "2024-02-09T06:23:49.344362Z"
    }
   },
   "outputs": [
    {
     "data": {
      "text/plain": [
       "0.08"
      ]
     },
     "execution_count": 488,
     "metadata": {},
     "output_type": "execute_result"
    }
   ],
   "source": [
    "def P2_from_p1Pz(ic_cur, score_l2, max_corr):\n",
    "    corr_a_b = ic_cur\n",
    "    corr_b_c = max_corr\n",
    "    pc = score_l2\n",
    "    \n",
    "    corr_a_c = 2 * pc * ((1 - corr_a_b ** 2) ** 0.5) # + corr_a_b * corr_b_c\n",
    "    u = ((0.0 + corr_a_c) / (0.0 + corr_a_b)) ** 4\n",
    "#     print(u)\n",
    "    u = 0\n",
    "    corr_a_bc = (corr_a_b + u * corr_a_c) / (1 + u ** 2 + 2 * u * corr_b_c) ** 0.5\n",
    "    return corr_a_bc\n",
    "\n",
    "P2_from_p1Pz(ic_cur, score_l2, max_corr)"
   ]
  },
  {
   "cell_type": "code",
   "execution_count": 489,
   "id": "03ea3f80",
   "metadata": {
    "ExecuteTime": {
     "end_time": "2024-02-09T06:23:50.303520Z",
     "start_time": "2024-02-09T06:23:50.112658Z"
    }
   },
   "outputs": [
    {
     "data": {
      "text/plain": [
       "[<matplotlib.lines.Line2D at 0x7fcf300d8f40>]"
      ]
     },
     "execution_count": 489,
     "metadata": {},
     "output_type": "execute_result"
    },
    {
     "data": {
      "image/png": "[encoded data removed]",
      "text/plain": [
       "<Figure size 432x288 with 1 Axes>"
      ]
     },
     "metadata": {
      "needs_background": "light"
     },
     "output_type": "display_data"
    }
   ],
   "source": [
    "import matplotlib.pyplot as plt\n",
    "plt.plot([P2_from_p1Pz(ic_cur, score_l2, x) for x in np.linspace(0, 1, 21)])"
   ]
  },
  {
   "cell_type": "code",
   "execution_count": null,
   "id": "58af12a6",
   "metadata": {},
   "outputs": [],
   "source": []
  },
  {
   "cell_type": "code",
   "execution_count": 490,
   "id": "a97ef900",
   "metadata": {
    "ExecuteTime": {
     "end_time": "2024-02-09T06:28:31.463766Z",
     "start_time": "2024-02-09T06:28:31.456752Z"
    }
   },
   "outputs": [],
   "source": [
    "import numpy as np\n",
    "\n",
    "def netu(y, x): # 返回残差\n",
    "    y = y - y.mean()\n",
    "    x = x - x.mean()\n",
    "    dy = y - (y * x).sum() / (x * x).sum() * x\n",
    "    return dy\n",
    "\n",
    "def cov(x, y):\n",
    "    return (x * y).mean() - x.mean() * y.mean()\n",
    "   \n",
    "def corr(x, y):\n",
    "    y = y - y.mean()\n",
    "    x = x - x.mean()\n",
    "    return (y * x).sum() / (x * x).sum() ** 0.5 / (y * y).sum() ** 0.5\n",
    "\n",
    "np.random.seed(777)\n",
    "a = np.random.random(100)\n",
    "b = np.random.random(100)\n",
    "c = np.random.random(100) + b * 0.5"
   ]
  },
  {
   "cell_type": "code",
   "execution_count": 491,
   "id": "bf12e8ae",
   "metadata": {
    "ExecuteTime": {
     "end_time": "2024-02-09T06:28:31.708115Z",
     "start_time": "2024-02-09T06:28:31.704549Z"
    }
   },
   "outputs": [],
   "source": [
    "a = (a - np.mean(a)) / np.std(a)\n",
    "b = (b - np.mean(b)) / np.std(b)\n",
    "c = (c - np.mean(c)) / np.std(c)"
   ]
  },
  {
   "cell_type": "code",
   "execution_count": 508,
   "id": "fb20ebc3",
   "metadata": {
    "ExecuteTime": {
     "end_time": "2024-02-09T06:33:44.943326Z",
     "start_time": "2024-02-09T06:33:44.936590Z"
    }
   },
   "outputs": [
    {
     "data": {
      "text/plain": [
       "0.5316974031167164"
      ]
     },
     "execution_count": 508,
     "metadata": {},
     "output_type": "execute_result"
    }
   ],
   "source": [
    "corr(b,c)"
   ]
  },
  {
   "cell_type": "code",
   "execution_count": 509,
   "id": "cb246475",
   "metadata": {
    "ExecuteTime": {
     "end_time": "2024-02-09T06:33:45.454090Z",
     "start_time": "2024-02-09T06:33:45.447654Z"
    }
   },
   "outputs": [
    {
     "data": {
      "text/plain": [
       "0.06521913483970342"
      ]
     },
     "execution_count": 509,
     "metadata": {},
     "output_type": "execute_result"
    }
   ],
   "source": [
    "corr(a, b + c)"
   ]
  },
  {
   "cell_type": "code",
   "execution_count": 510,
   "id": "87c14d7b",
   "metadata": {
    "ExecuteTime": {
     "end_time": "2024-02-09T06:33:45.664289Z",
     "start_time": "2024-02-09T06:33:45.658349Z"
    }
   },
   "outputs": [
    {
     "data": {
      "text/plain": [
       "0.06639470173826845"
      ]
     },
     "execution_count": 510,
     "metadata": {},
     "output_type": "execute_result"
    }
   ],
   "source": [
    "p2 = corr(a,a-netu(netu(a, b), netu(c, b)))\n",
    "p2 # 0.7070330543403667"
   ]
  },
  {
   "cell_type": "code",
   "execution_count": 511,
   "id": "ab4843ce",
   "metadata": {
    "ExecuteTime": {
     "end_time": "2024-02-09T06:33:46.271395Z",
     "start_time": "2024-02-09T06:33:46.263764Z"
    }
   },
   "outputs": [],
   "source": [
    "corr_a_b = corr(a,b)\n",
    "corr_b_c = corr(b,c)\n",
    "pc = corr(netu(a, b), c)\n",
    "\n",
    "# corr_a_b = 0.08\n",
    "# corr_b_c = 0.99\n",
    "# pc = 0.02"
   ]
  },
  {
   "cell_type": "code",
   "execution_count": 512,
   "id": "eb5f49d1",
   "metadata": {
    "ExecuteTime": {
     "end_time": "2024-02-09T06:33:47.557257Z",
     "start_time": "2024-02-09T06:33:47.550423Z"
    }
   },
   "outputs": [
    {
     "data": {
      "text/plain": [
       "0.06621482925296164"
      ]
     },
     "execution_count": 512,
     "metadata": {},
     "output_type": "execute_result"
    }
   ],
   "source": [
    "corr_a_c = pc * ((1 - corr_a_b ** 2) ** 0.5) + corr_a_b * corr_b_c\n",
    "u = ((0.0 + corr_a_c) / (0.0 + corr_a_b)) ** 2\n",
    "p2_ = (corr_a_b + u * corr_a_c) / (1 + u ** 2 + 2 * u * corr_b_c) ** 0.5\n",
    "p2_"
   ]
  },
  {
   "cell_type": "code",
   "execution_count": 522,
   "id": "e471872a",
   "metadata": {
    "ExecuteTime": {
     "end_time": "2024-02-09T06:34:50.298570Z",
     "start_time": "2024-02-09T06:34:50.291900Z"
    }
   },
   "outputs": [
    {
     "data": {
      "text/plain": [
       "1.0359946050048787"
      ]
     },
     "execution_count": 522,
     "metadata": {},
     "output_type": "execute_result"
    }
   ],
   "source": [
    "(1 + pc) "
   ]
  },
  {
   "cell_type": "code",
   "execution_count": 523,
   "id": "c0e9cb1a",
   "metadata": {
    "ExecuteTime": {
     "end_time": "2024-02-09T06:34:53.929031Z",
     "start_time": "2024-02-09T06:34:53.922433Z"
    }
   },
   "outputs": [
    {
     "data": {
      "text/plain": [
       "1.2376176320320895"
      ]
     },
     "execution_count": 523,
     "metadata": {},
     "output_type": "execute_result"
    }
   ],
   "source": [
    "(1 + corr_b_c) ** 0.5"
   ]
  },
  {
   "cell_type": "code",
   "execution_count": 537,
   "id": "cb9823c5",
   "metadata": {
    "ExecuteTime": {
     "end_time": "2024-02-09T06:37:30.178308Z",
     "start_time": "2024-02-09T06:37:30.171503Z"
    }
   },
   "outputs": [
    {
     "data": {
      "text/plain": [
       "0.03599460500487867"
      ]
     },
     "execution_count": 537,
     "metadata": {},
     "output_type": "execute_result"
    }
   ],
   "source": [
    "pc"
   ]
  },
  {
   "cell_type": "code",
   "execution_count": 538,
   "id": "c209ae6f",
   "metadata": {
    "ExecuteTime": {
     "end_time": "2024-02-09T06:37:30.289373Z",
     "start_time": "2024-02-09T06:37:30.284415Z"
    }
   },
   "outputs": [
    {
     "data": {
      "text/plain": [
       "0.04163209340339964"
      ]
     },
     "execution_count": 538,
     "metadata": {},
     "output_type": "execute_result"
    }
   ],
   "source": [
    "(2 * pc) / (1 + (corr_b_c) ** 0.5)"
   ]
  },
  {
   "cell_type": "code",
   "execution_count": null,
   "id": "dae951bc",
   "metadata": {},
   "outputs": [],
   "source": []
  },
  {
   "cell_type": "code",
   "execution_count": 546,
   "id": "b19ca1f8",
   "metadata": {
    "ExecuteTime": {
     "end_time": "2024-02-09T06:43:27.343035Z",
     "start_time": "2024-02-09T06:43:27.049450Z"
    }
   },
   "outputs": [
    {
     "data": {
      "text/plain": [
       "[<matplotlib.lines.Line2D at 0x7fcf52910df0>]"
      ]
     },
     "execution_count": 546,
     "metadata": {},
     "output_type": "execute_result"
    },
    {
     "data": {
      "image/png": "[encoded data removed]",
      "text/plain": [
       "<Figure size 432x288 with 1 Axes>"
      ]
     },
     "metadata": {
      "needs_background": "light"
     },
     "output_type": "display_data"
    }
   ],
   "source": [
    "x = np.linspace(0, 1, 101)\n",
    "y = (2 / (1 + x)) ** 0.25\n",
    "plt.plot(x, y)"
   ]
  },
  {
   "cell_type": "code",
   "execution_count": 543,
   "id": "ead2ba1d",
   "metadata": {
    "ExecuteTime": {
     "end_time": "2024-02-09T06:42:32.447301Z",
     "start_time": "2024-02-09T06:42:32.441247Z"
    }
   },
   "outputs": [
    {
     "data": {
      "text/plain": [
       "18"
      ]
     },
     "execution_count": 543,
     "metadata": {},
     "output_type": "execute_result"
    }
   ],
   "source": [
    "2 * 3 ** 2"
   ]
  },
  {
   "cell_type": "code",
   "execution_count": null,
   "id": "136a2260",
   "metadata": {},
   "outputs": [],
   "source": []
  },
  {
   "cell_type": "code",
   "execution_count": 507,
   "id": "cfd36ccc",
   "metadata": {
    "ExecuteTime": {
     "end_time": "2024-02-09T06:33:39.531368Z",
     "start_time": "2024-02-09T06:33:39.527911Z"
    }
   },
   "outputs": [],
   "source": [
    "# for corr_b_c in np.linspace(0, 1, 21):\n",
    "#     corr_a_c = pc * ((1 - corr_a_b ** 2) ** 0.5) + corr_a_b * corr_b_c\n",
    "#     u = ((0.0 + corr_a_c) / (0.0 + corr_a_b)) ** 2\n",
    "#     p2_ = (corr_a_b + u * corr_a_c) / (1 + u ** 2 + 2 * u * corr_b_c) ** 0.5\n",
    "    \n",
    "#     print(corr_a_c, corr(a, c), p2_)\n",
    "#     print()"
   ]
  },
  {
   "cell_type": "code",
   "execution_count": null,
   "id": "d33954da",
   "metadata": {},
   "outputs": [],
   "source": []
  },
  {
   "cell_type": "code",
   "execution_count": 457,
   "id": "8f7c3403",
   "metadata": {
    "ExecuteTime": {
     "end_time": "2024-02-09T06:15:30.833321Z",
     "start_time": "2024-02-09T06:15:30.827294Z"
    }
   },
   "outputs": [
    {
     "data": {
      "text/plain": [
       "(0.035947660364404325, 0.02714639663646507)"
      ]
     },
     "execution_count": 457,
     "metadata": {},
     "output_type": "execute_result"
    }
   ],
   "source": [
    "pc * ((1 - corr_a_b ** 2) ** 0.5), corr_a_b * corr_b_c"
   ]
  },
  {
   "cell_type": "code",
   "execution_count": 458,
   "id": "20e5bf36",
   "metadata": {
    "ExecuteTime": {
     "end_time": "2024-02-09T06:15:38.151017Z",
     "start_time": "2024-02-09T06:15:38.146481Z"
    }
   },
   "outputs": [
    {
     "data": {
      "text/plain": [
       "0.0630940570008694"
      ]
     },
     "execution_count": 458,
     "metadata": {},
     "output_type": "execute_result"
    }
   ],
   "source": [
    "corr_a_c"
   ]
  },
  {
   "cell_type": "code",
   "execution_count": null,
   "id": "0f4e9dc9",
   "metadata": {},
   "outputs": [],
   "source": []
  },
  {
   "cell_type": "code",
   "execution_count": 435,
   "id": "be813d03",
   "metadata": {
    "ExecuteTime": {
     "end_time": "2024-02-09T06:10:00.123871Z",
     "start_time": "2024-02-09T06:10:00.116939Z"
    }
   },
   "outputs": [
    {
     "data": {
      "text/plain": [
       "(0.05105610160466777, 0.0630940570008694)"
      ]
     },
     "execution_count": 435,
     "metadata": {},
     "output_type": "execute_result"
    }
   ],
   "source": [
    "corr_a_b, corr_a_c"
   ]
  },
  {
   "cell_type": "code",
   "execution_count": 439,
   "id": "f21fdf27",
   "metadata": {
    "ExecuteTime": {
     "end_time": "2024-02-09T06:11:01.662271Z",
     "start_time": "2024-02-09T06:11:01.657138Z"
    }
   },
   "outputs": [
    {
     "data": {
      "text/plain": [
       "0.03599460500487867"
      ]
     },
     "execution_count": 439,
     "metadata": {},
     "output_type": "execute_result"
    }
   ],
   "source": [
    "pc"
   ]
  },
  {
   "cell_type": "code",
   "execution_count": 437,
   "id": "faf8d6c0",
   "metadata": {
    "ExecuteTime": {
     "end_time": "2024-02-09T06:10:31.281706Z",
     "start_time": "2024-02-09T06:10:31.276913Z"
    }
   },
   "outputs": [
    {
     "data": {
      "text/plain": [
       "0.02714639663646507"
      ]
     },
     "execution_count": 437,
     "metadata": {},
     "output_type": "execute_result"
    }
   ],
   "source": [
    "corr_a_b * corr_b_c"
   ]
  },
  {
   "cell_type": "code",
   "execution_count": null,
   "id": "a97aeff7",
   "metadata": {},
   "outputs": [],
   "source": []
  },
  {
   "cell_type": "code",
   "execution_count": null,
   "id": "fb1b7d70",
   "metadata": {},
   "outputs": [],
   "source": [
    "corr_a_b, pc, corr_a_c"
   ]
  },
  {
   "cell_type": "code",
   "execution_count": null,
   "id": "35bd4d33",
   "metadata": {},
   "outputs": [],
   "source": []
  },
  {
   "cell_type": "code",
   "execution_count": 388,
   "id": "c0e6db9d",
   "metadata": {
    "ExecuteTime": {
     "end_time": "2024-02-09T06:01:27.941576Z",
     "start_time": "2024-02-09T06:01:27.935580Z"
    }
   },
   "outputs": [
    {
     "data": {
      "text/plain": [
       "(0.05105610160466777, 0.0630940570008694)"
      ]
     },
     "execution_count": 388,
     "metadata": {},
     "output_type": "execute_result"
    }
   ],
   "source": []
  },
  {
   "cell_type": "code",
   "execution_count": 389,
   "id": "4c2f29dd",
   "metadata": {
    "ExecuteTime": {
     "end_time": "2024-02-09T06:01:30.057690Z",
     "start_time": "2024-02-09T06:01:30.050430Z"
    }
   },
   "outputs": [
    {
     "data": {
      "text/plain": [
       "(0.05105610160466777, 0.06309405700086941)"
      ]
     },
     "execution_count": 389,
     "metadata": {},
     "output_type": "execute_result"
    }
   ],
   "source": [
    "corr(a, b), corr(a, c)"
   ]
  },
  {
   "cell_type": "code",
   "execution_count": 332,
   "id": "ed2aabdf",
   "metadata": {
    "ExecuteTime": {
     "end_time": "2024-02-09T05:52:50.952641Z",
     "start_time": "2024-02-09T05:52:50.948649Z"
    }
   },
   "outputs": [
    {
     "data": {
      "text/plain": [
       "0.5772751294656536"
      ]
     },
     "execution_count": 332,
     "metadata": {},
     "output_type": "execute_result"
    }
   ],
   "source": [
    "corr_b_c"
   ]
  },
  {
   "cell_type": "code",
   "execution_count": 239,
   "id": "01117cfd",
   "metadata": {
    "ExecuteTime": {
     "end_time": "2024-02-09T05:33:55.560432Z",
     "start_time": "2024-02-09T05:33:55.555229Z"
    }
   },
   "outputs": [
    {
     "data": {
      "text/plain": [
       "-0.07831787838453992"
      ]
     },
     "execution_count": 239,
     "metadata": {},
     "output_type": "execute_result"
    }
   ],
   "source": []
  },
  {
   "cell_type": "code",
   "execution_count": 240,
   "id": "7931c069",
   "metadata": {
    "ExecuteTime": {
     "end_time": "2024-02-09T05:34:24.670438Z",
     "start_time": "2024-02-09T05:34:24.665108Z"
    }
   },
   "outputs": [
    {
     "data": {
      "text/plain": [
       "-0.07831787838454006"
      ]
     },
     "execution_count": 240,
     "metadata": {},
     "output_type": "execute_result"
    }
   ],
   "source": [
    "(corr(a, c) - corr(a, b) * corr(b, c)) / (1 - cov(a, b) ** 2) ** 0.5"
   ]
  },
  {
   "cell_type": "code",
   "execution_count": null,
   "id": "dd3658c5",
   "metadata": {},
   "outputs": [],
   "source": []
  },
  {
   "cell_type": "code",
   "execution_count": 21,
   "id": "10c76928",
   "metadata": {
    "ExecuteTime": {
     "end_time": "2024-02-09T04:26:56.687411Z",
     "start_time": "2024-02-09T04:26:56.679129Z"
    }
   },
   "outputs": [
    {
     "data": {
      "text/plain": [
       "0.7070330543403669"
      ]
     },
     "execution_count": 21,
     "metadata": {},
     "output_type": "execute_result"
    }
   ],
   "source": [
    "p2_ = (p1**2 + corr(a,c)**2 - 2*p1*corr(a,c)*corr(b,c)) ** 0.5 / (1 - corr(b,c) ** 2) ** 0.5\n",
    "p2_"
   ]
  },
  {
   "cell_type": "code",
   "execution_count": 22,
   "id": "5f4d6903",
   "metadata": {
    "ExecuteTime": {
     "end_time": "2024-02-09T04:28:41.144727Z",
     "start_time": "2024-02-09T04:28:41.136125Z"
    }
   },
   "outputs": [
    {
     "data": {
      "text/plain": [
       "-0.07831787838453999"
      ]
     },
     "execution_count": 22,
     "metadata": {},
     "output_type": "execute_result"
    }
   ],
   "source": [
    "pc"
   ]
  },
  {
   "cell_type": "code",
   "execution_count": null,
   "id": "c28fa409",
   "metadata": {},
   "outputs": [],
   "source": []
  },
  {
   "cell_type": "code",
   "execution_count": 34,
   "id": "0a3d7b84",
   "metadata": {
    "ExecuteTime": {
     "end_time": "2024-02-09T04:30:40.477433Z",
     "start_time": "2024-02-09T04:30:40.472443Z"
    }
   },
   "outputs": [],
   "source": [
    "y,x,z = a,b,c"
   ]
  },
  {
   "cell_type": "code",
   "execution_count": 38,
   "id": "4f75f69b",
   "metadata": {
    "ExecuteTime": {
     "end_time": "2024-02-09T04:31:12.615544Z",
     "start_time": "2024-02-09T04:31:12.610955Z"
    }
   },
   "outputs": [
    {
     "data": {
      "text/plain": [
       "-0.07831787838453996"
      ]
     },
     "execution_count": 38,
     "metadata": {},
     "output_type": "execute_result"
    }
   ],
   "source": [
    "pc = corr(y - corr(y, x) * x, z)\n",
    "pc"
   ]
  },
  {
   "cell_type": "code",
   "execution_count": 39,
   "id": "3a40fe93",
   "metadata": {
    "ExecuteTime": {
     "end_time": "2024-02-09T04:31:27.093168Z",
     "start_time": "2024-02-09T04:31:27.084226Z"
    }
   },
   "outputs": [
    {
     "data": {
      "text/plain": [
       "-0.07831787838453996"
      ]
     },
     "execution_count": 39,
     "metadata": {},
     "output_type": "execute_result"
    }
   ],
   "source": [
    "pz = corr(y - corr(y, x) * x, z) #/ (1 - p1 ** 2) ** 0.5\n",
    "pz"
   ]
  },
  {
   "cell_type": "code",
   "execution_count": null,
   "id": "bec8f793",
   "metadata": {},
   "outputs": [],
   "source": []
  },
  {
   "cell_type": "code",
   "execution_count": null,
   "id": "2b91fe01",
   "metadata": {},
   "outputs": [],
   "source": [
    "\n",
    "\n",
    "\n",
    "\n",
    "pc = (cov(y, z) - p1 * cov(z, x)) / (1 - p1 ** 2) ** 0.5\n",
    "pc\n",
    "\n",
    "pz * (1 - p1 ** 2) ** 0.5 + p1 * cov(z, x)\n",
    "\n"
   ]
  },
  {
   "cell_type": "code",
   "execution_count": null,
   "id": "59220037",
   "metadata": {},
   "outputs": [],
   "source": []
  },
  {
   "cell_type": "code",
   "execution_count": null,
   "id": "39e20103",
   "metadata": {},
   "outputs": [],
   "source": []
  }
 ],
 "metadata": {
  "kernelspec": {
   "display_name": "Python 3",
   "language": "python",
   "name": "python3"
  },
  "language_info": {
   "codemirror_mode": {
    "name": "ipython",
    "version": 3
   },
   "file_extension": ".py",
   "mimetype": "text/x-python",
   "name": "python",
   "nbconvert_exporter": "python",
   "pygments_lexer": "ipython3",
   "version": "3.9.12"
  },
  "toc": {
   "base_numbering": 1,
   "nav_menu": {},
   "number_sections": true,
   "sideBar": true,
   "skip_h1_title": false,
   "title_cell": "Table of Contents",
   "title_sidebar": "Contents",
   "toc_cell": false,
   "toc_position": {
    "height": "calc(100% - 180px)",
    "left": "10px",
    "top": "150px",
    "width": "212px"
   },
   "toc_section_display": true,
   "toc_window_display": true
  }
 },
 "nbformat": 4,
 "nbformat_minor": 5
}
