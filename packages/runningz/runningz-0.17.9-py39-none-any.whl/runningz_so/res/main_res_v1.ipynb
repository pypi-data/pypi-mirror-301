{
 "cells": [
  {
   "cell_type": "markdown",
   "id": "bc98132e",
   "metadata": {},
   "source": [
    "# TOP"
   ]
  },
  {
   "cell_type": "code",
   "execution_count": 1,
   "id": "bfea6434",
   "metadata": {
    "ExecuteTime": {
     "end_time": "2024-02-11T14:51:18.118793Z",
     "start_time": "2024-02-11T14:51:18.091057Z"
    }
   },
   "outputs": [
    {
     "data": {
      "text/html": [
       "<style>.container {width:80%;} </style>"
      ],
      "text/plain": [
       "<IPython.core.display.HTML object>"
      ]
     },
     "metadata": {},
     "output_type": "display_data"
    },
    {
     "data": {
      "text/html": [
       "<style>.toc{ margin-top: 100px;} </style>"
      ],
      "text/plain": [
       "<IPython.core.display.HTML object>"
      ]
     },
     "metadata": {},
     "output_type": "display_data"
    }
   ],
   "source": [
    "# full screen width of Jupyter notebook\n",
    "from IPython.display import display, HTML\n",
    "display(HTML(\"<style>.container {width:80%;} </style>\")) \n",
    "display(HTML(\"<style>.toc{ margin-top: 100px;} </style>\"))"
   ]
  },
  {
   "cell_type": "code",
   "execution_count": 2,
   "id": "753715aa",
   "metadata": {
    "ExecuteTime": {
     "end_time": "2024-02-11T14:51:18.128298Z",
     "start_time": "2024-02-11T14:51:18.123700Z"
    }
   },
   "outputs": [],
   "source": [
    "import os\n",
    "os.environ['rz_token'] = '5bc2502a20241231'\n",
    "os.chdir('../../')"
   ]
  },
  {
   "cell_type": "code",
   "execution_count": 3,
   "id": "08a1ee6a",
   "metadata": {
    "ExecuteTime": {
     "end_time": "2024-02-11T14:51:25.604851Z",
     "start_time": "2024-02-11T14:51:18.132024Z"
    }
   },
   "outputs": [
    {
     "name": "stdout",
     "output_type": "stream",
     "text": [
      "[+] cwd = /Users/runningz/project/runningz, __file__ = None\n",
      "[+] len(fm_config_list_TOP) = 18\n",
      "[+] len(fm_config_list_OPT) = 100\n",
      "[RZ][22:51:25] runningz/core/op/__init__.py:218-> [+] OP_DICT      = 377\n",
      "[RZ][22:51:25] runningz/core/op/__init__.py:219-> [+] OP_DICT_NOT  = 100\n",
      "[RZ][22:51:25] runningz/core/op/__init__.py:220-> [+] OP_DICT_YES  = 277\n",
      "[RZ][22:51:25] runningz/core/op/__init__.py:220-> x             0\n",
      "[RZ][22:51:25] runningz/core/op/__init__.py:220-> roll         10\n",
      "[RZ][22:51:25] runningz/core/op/__init__.py:220-> agg          24\n",
      "[RZ][22:51:25] runningz/core/op/__init__.py:220-> gp           19\n",
      "[RZ][22:51:25] runningz/core/op/__init__.py:220-> roll_2       12\n",
      "[RZ][22:51:25] runningz/core/op/__init__.py:220-> agg_2         9\n",
      "[RZ][22:51:25] runningz/core/op/__init__.py:220-> gp_2          9\n",
      "[RZ][22:51:25] runningz/core/op/__init__.py:220-> merge         5\n",
      "[RZ][22:51:25] runningz/core/op/__init__.py:220-> op_1         13\n",
      "[RZ][22:51:25] runningz/core/op/__init__.py:220-> op_1_v        5\n",
      "[RZ][22:51:25] runningz/core/op/__init__.py:220-> op_2        111\n",
      "[RZ][22:51:25] runningz/core/op/__init__.py:220-> op_2_v       26\n",
      "[RZ][22:51:25] runningz/core/op/__init__.py:220-> op_3         10\n",
      "[RZ][22:51:25] runningz/core/op/__init__.py:220-> op_3_v       10\n",
      "[RZ][22:51:25] runningz/core/op/__init__.py:220-> op_m         12\n",
      "[RZ][22:51:25] runningz/core/op/__init__.py:220-> op_other      2\n",
      "[RZ][22:51:25] runningz/core/op/__init__.py:220-> dtype: int64\n"
     ]
    }
   ],
   "source": [
    "import os\n",
    "print(f'[+] cwd = {os.getcwd()}, __file__ = {__file__ if \"__file__\" in vars() else None}')\n",
    "\n",
    "import sys\n",
    "sys.path.insert(0, os.path.abspath('./'))\n",
    "import lightgbm as lgb\n",
    "import json\n",
    "import os\n",
    "import runningz as rz\n",
    "import numpy as np\n",
    "import pandas as pd\n",
    "from tqdm.notebook import tqdm\n",
    "from runningz.fe.util.util import subsample\n",
    "from runningz.fe.prepare_data.basic_data import *\n",
    "from runningz.fe.er import Typer\n",
    "from runningz.util.clss import get_subclass_by_name\n",
    "from runningz.util.const import CONST\n",
    "from runningz.util.util import my_print as print\n",
    "from runningz.util.util import dict_2_str\n",
    "from runningz.core.op import show_op_dict\n",
    "from runningz.fe.config.fm_config import fm_config_list_ALL, data_config\n",
    "from runningz.fe.util.util import print_history\n",
    "rz.seed_everything(42)\n",
    "OP_DICT, OP_DICT_NOT, OP_DICT_YES = show_op_dict()\n",
    "CONST.DEBUG = False\n",
    "CONST.MY_PRINT = False"
   ]
  },
  {
   "cell_type": "code",
   "execution_count": 4,
   "id": "44f72a44",
   "metadata": {
    "ExecuteTime": {
     "end_time": "2024-02-11T14:51:25.616096Z",
     "start_time": "2024-02-11T14:51:25.613888Z"
    }
   },
   "outputs": [],
   "source": [
    "# sys.argv = 'fe_main.py --task DEBUG --label twap 0 1'.split(' ')\n",
    "sys.argv = 'res_main.py --task DEBUG --label twap 0 1'.split(' ')"
   ]
  },
  {
   "cell_type": "code",
   "execution_count": null,
   "id": "43747433",
   "metadata": {},
   "outputs": [],
   "source": []
  },
  {
   "cell_type": "code",
   "execution_count": 5,
   "id": "0749de78",
   "metadata": {
    "ExecuteTime": {
     "end_time": "2024-02-11T14:51:52.009652Z",
     "start_time": "2024-02-11T14:51:25.620716Z"
    }
   },
   "outputs": [
    {
     "name": "stdout",
     "output_type": "stream",
     "text": [
      "[+] args = Namespace(task='DEBUG', label=['twap', '0', '1'], debug=None)\n",
      "{\n",
      "    \"data_reader\": \"BasicData\",\n",
      "    \"path_input\": \"/Users/runningz/workspace/data/tushare/daily\",\n",
      "    \"date_dict\": {\n",
      "        \"all\": [20190101, 20231231],\n",
      "        \"hist\": [20100101, 20191231],\n",
      "        \"train\": [20100101, 20191231],\n",
      "        \"test\": [20200101, 20221231],\n",
      "        \"valid\": [20200101, 20221231],\n",
      "        \"look\": [20200101, 20221231],\n",
      "        \"eval\": [20230101, 20231231]\n",
      "    },\n",
      "    \"cols_dict\": {\n",
      "        \"col_id\": \"ts_code\",\n",
      "        \"col_tid\": \"trade_date\",\n",
      "        \"col_label\": \"label\",\n",
      "        \"cols_tid\": [\"trade_date\"],\n",
      "        \"cols_not\": [\"mask\"],\n",
      "        \"cols_label\": [],\n",
      "        \"cols_mask\": []\n",
      "    },\n",
      "    \"other_info\": {\n",
      "        \"col_date\": \"trade_date\",\n",
      "        \"cols_ttt_list\": [],\n",
      "        \"col_label_args\": [\"twap\", \"0\", \"1\"],\n",
      "        \"col_label_shift\": \"twap_ret\",\n",
      "        \"col_label_from\": null,\n",
      "        \"f_label_pre\": \"cszscore\",\n",
      "        \"shift_i\": 1,\n",
      "        \"cols_shift_1_not\": []\n",
      "    },\n",
      "    \"n_jobs\": 4\n",
      "}\n",
      "[+] ndays = 1214\n"
     ]
    },
    {
     "name": "stderr",
     "output_type": "stream",
     "text": [
      "read_csv_list(): 100%|################################################| 1/1 [00:10<00:00, 10.75s/it]\n"
     ]
    },
    {
     "name": "stdout",
     "output_type": "stream",
     "text": [
      "[init] <---------- label ----------> \n",
      "[+] cols_label = ['LABEL_twap_0_1', 'LABEL_RAW']\n",
      "[+] f_label_pre = cszscore, col_label_from = LABEL_twap_0_1\n",
      "[+] total = 1\n"
     ]
    },
    {
     "data": {
      "application/vnd.jupyter.widget-view+json": {
       "model_id": "73a86d60e07f4c0e8179847ae2909668",
       "version_major": 2,
       "version_minor": 0
      },
      "text/plain": [
       "fe_generator:   0%|          | 0/1 [00:00<?, ?it/s]"
      ]
     },
     "metadata": {},
     "output_type": "display_data"
    },
    {
     "name": "stdout",
     "output_type": "stream",
     "text": [
      "[+] total = 1\n"
     ]
    },
    {
     "data": {
      "application/vnd.jupyter.widget-view+json": {
       "model_id": "e30aee2beba44a10ada49c4eeb44aabd",
       "version_major": 2,
       "version_minor": 0
      },
      "text/plain": [
       "fe_generator:   0%|          | 0/1 [00:00<?, ?it/s]"
      ]
     },
     "metadata": {},
     "output_type": "display_data"
    },
    {
     "name": "stdout",
     "output_type": "stream",
     "text": [
      "[init] <---------- mask  ----------> \n",
      "[+] path_db = /Users/runningz/workspace/data/tushare/rz.db\n",
      "[2024/02/11 22:51:46 DB>>>>>>] Connected to database successfully\n",
      "[+] ST, KJY, ZDT, MASK\n",
      "[+] df_mask['MASK_KJY'].sum() = 5115308\n",
      "[+] df_mask['MASK_KJY'].sum() = 5115308, after &= mask_kjy_tvr\n",
      "[+] df_mask['MASK_KJY'].sum() = 5041066, after &= mask_kjy_id\n",
      "[2024/02/11 22:51:49 DB>>>>>>] Connection closed\n",
      "[+] cols_mask = ['MASK_ST', 'MASK_KJY', 'MASK_ZDT', 'MASK']\n",
      "[+] kjy  = 5034343 / 5322190 = 0.9459156850845235\n",
      "[+] zdt  = 5175698 / 5322190 = 0.9724752404555268\n",
      "[+] mask = 4926414 / 5322190 = 0.9256366270275957\n",
      "[+] padding = 1, col_label_from = LABEL_twap_0_1\n",
      "[+] mask_name = all        | 20190102 -> 20231228 = 4926414\n",
      "[+] mask_name = hist       | 20190102 -> 20191230 = 832603\n",
      "[+] mask_name = train      | 20190102 -> 20191230 = 832603\n",
      "[+] mask_name = test       | 20200102 -> 20221230 = 3178600\n",
      "[+] mask_name = valid      | 20200102 -> 20221230 = 2934093\n",
      "[+] mask_name = look       | 20200102 -> 20221230 = 2934093\n",
      "[+] mask_name = eval       | 20230103 -> 20231228 = 1156171\n",
      "[init] <---------- shift_i ----------> \n",
      "[+] shift_i = 1\n",
      "[+] cols_shift_1_not = ['ts_code', 'trade_date', 'label', 'trade_date', 'LABEL_twap_0_1', 'LABEL_RAW', 'MASK_ST', 'MASK_KJY', 'MASK_ZDT', 'MASK', 'trade_date']\n",
      "[+] total = 21\n"
     ]
    },
    {
     "data": {
      "application/vnd.jupyter.widget-view+json": {
       "model_id": "b3098d42e86748d296935fb2efe1f974",
       "version_major": 2,
       "version_minor": 0
      },
      "text/plain": [
       "fe_generator:   0%|          | 0/21 [00:00<?, ?it/s]"
      ]
     },
     "metadata": {},
     "output_type": "display_data"
    },
    {
     "name": "stdout",
     "output_type": "stream",
     "text": [
      "[init] <---------- mask_ALL  ----------> \n",
      "[+] set_mask_ALL, n = 5322190, k = 10\n",
      "[+] p1p2_list = [(0, 532219), (532219, 1064438), (1064438, 1596657), (1596657, 2128876), (2128876, 2661095), (2661095, 3193314), (3193314, 3725533), (3725533, 4257752), (4257752, 4789971), (4789971, 5322190)]\n",
      "[+] dm.shape() = {'T0': (5322190, 30), 'T0.ts_code': (5469, 1), 'T0.trade_date': (1214, 1)}\n",
      "[init] <---------- fe_basic  ----------> \n",
      "[+] total = 0\n"
     ]
    },
    {
     "data": {
      "application/vnd.jupyter.widget-view+json": {
       "model_id": "c65d8a30d302488c841b88df2ea904e3",
       "version_major": 2,
       "version_minor": 0
      },
      "text/plain": [
       "fe_generator: 0it [00:00, ?it/s]"
      ]
     },
     "metadata": {},
     "output_type": "display_data"
    },
    {
     "name": "stdout",
     "output_type": "stream",
     "text": [
      "[+] total = 0\n"
     ]
    },
    {
     "data": {
      "application/vnd.jupyter.widget-view+json": {
       "model_id": "551a5356daa4480093e3d05488e28f79",
       "version_major": 2,
       "version_minor": 0
      },
      "text/plain": [
       "fe_generator: 0it [00:00, ?it/s]"
      ]
     },
     "metadata": {},
     "output_type": "display_data"
    },
    {
     "name": "stdout",
     "output_type": "stream",
     "text": [
      "[+] total = 3\n"
     ]
    },
    {
     "data": {
      "application/vnd.jupyter.widget-view+json": {
       "model_id": "429f967d3f8c45419a900d08173d6f0d",
       "version_major": 2,
       "version_minor": 0
      },
      "text/plain": [
       "fe_generator:   0%|          | 0/3 [00:00<?, ?it/s]"
      ]
     },
     "metadata": {},
     "output_type": "display_data"
    },
    {
     "name": "stdout",
     "output_type": "stream",
     "text": [
      "[0001] y_shift_1 = roll(shift, ts_code, twap_ret, trade_date, 1)                                 time = 0.03\n",
      "[0002] y_shift_2 = roll(shift, ts_code, twap_ret, trade_date, 2)                                 time = 0.03\n",
      "[0003] y_shift_3 = roll(shift, ts_code, twap_ret, trade_date, 3)                                 time = 0.03\n",
      "[init] <---------- typer_config ----------> \n",
      "col_id              7\n",
      "col_tid            10\n",
      "col_label           5\n",
      "cols_tid            1\n",
      "cols_not            1\n",
      "cols_label          2\n",
      "cols_mask           4\n",
      "cols_num           24\n",
      "cols_cat            2\n",
      "cols_datetime       0\n",
      "cols_timestamp      0\n",
      "cols_fix            0\n",
      "name_list_basic     3\n",
      "cols_fea            0\n",
      "data_config         6\n",
      "[+] total = 2\n"
     ]
    },
    {
     "data": {
      "application/vnd.jupyter.widget-view+json": {
       "model_id": "7fe42903cf1346709a67260f99b70caf",
       "version_major": 2,
       "version_minor": 0
      },
      "text/plain": [
       "fe_generator:   0%|          | 0/2 [00:00<?, ?it/s]"
      ]
     },
     "metadata": {},
     "output_type": "display_data"
    },
    {
     "name": "stdout",
     "output_type": "stream",
     "text": [
      "[0001] x(ts_code)                                                                                time = 0.24\n",
      "[0002] x(trade_date)                                                                             time = 0.00\n",
      "[+] fea = 26\n",
      "[+] history = 0\n",
      "[+] done!\n"
     ]
    }
   ],
   "source": [
    "import argparse\n",
    "parser = argparse.ArgumentParser()\n",
    "parser.add_argument('--task', type=str, default='DEBUG')  # str\n",
    "parser.add_argument('--label', nargs=3, default=['vwap', 0, 1], help='help info') # any number of\n",
    "parser.add_argument('--debug', nargs='*', default=None, help='help info') # any number of\n",
    "args = parser.parse_args()\n",
    "print(f'[+] args = {args}')\n",
    "\n",
    "CONST.DEBUG = (type(args.debug) is list)\n",
    "task = args.task\n",
    "data_config.other_info.col_label_args  = args.label\n",
    "data_config.other_info.col_label_shift = f'{args.label[0]}_ret'\n",
    "\n",
    "# path_output\n",
    "date = rz.time_str()[:10].replace('/', '')\n",
    "path_output = f'runningz/fe/_cache_/{date}/'\n",
    "os.makedirs(path_output, exist_ok = True)\n",
    "# import IPython; IPython.embed()\n",
    "\n",
    "# ------------------------------ read ------------------------------\n",
    "# read data\n",
    "print(dict_2_str(data_config))\n",
    "dm = get_subclass_by_name(BaseData, data_config.data_reader)().load(data_config)\n",
    "print('[init] <---------- mask_ALL  ----------> ')\n",
    "dm.set_mask_ALL(verbose = True) # for multi predict\n",
    "print(f'[+] dm.shape() = {dm.shape()}')\n",
    "if CONST.DEBUG: \n",
    "    print('[init] <---------- subsample  ---------> ')\n",
    "    subsample(dm, pct = 0.1)\n",
    "    print(f'[+] dm.shape() = {dm.shape()}')\n",
    "\n",
    "# ------------------------------ cols_dict_init ------------------------------\n",
    "col_id = data_config.cols_dict.col_id\n",
    "col_date = data_config.other_info.col_date\n",
    "col_label = data_config.cols_dict.col_label\n",
    "cols_tid = data_config.cols_dict.cols_tid\n",
    "col_label_shift = data_config.other_info.col_label_shift\n",
    "col_tid = data_config.cols_dict.col_tid\n",
    "\n",
    "cols_dict_init = {}\n",
    "history = []\n",
    "path = None\n",
    "if path is not None:\n",
    "    cols_dict_init = rz.load_json(path)\n",
    "    history = rz.load_json(f'{path[:-5]}.history')\n",
    "    print(f'[+] cache, dict = ')\n",
    "    print(pd.Series(cols_dict_init).apply(len).to_string())\n",
    "    print(f'[+] cache, history = ')\n",
    "    print_history(history)\n",
    "\n",
    "# ---------- basic ----------\n",
    "print('[init] <---------- fe_basic  ----------> ')\n",
    "dm.fe_go(cols_dict_init.get('name_list_basic', []))\n",
    "dm.fe_go(cols_dict_init.get('cols_fea', []))\n",
    "name_list_basic = []\n",
    "name_list = [\n",
    "    f'y_shift_1 = roll(shift, {col_id}, {col_label_shift}, {col_tid}, 1)',\n",
    "    f'y_shift_2 = roll(shift, {col_id}, {col_label_shift}, {col_tid}, 2)',\n",
    "    f'y_shift_3 = roll(shift, {col_id}, {col_label_shift}, {col_tid}, 3)',\n",
    "]\n",
    "dm.fe_go(name_list)\n",
    "name_list_basic += name_list\n",
    "cols_fix = []\n",
    "cols_dict_init['cols_fix'] = cols_fix\n",
    "\n",
    "# ------------------------------ cache ------------------------------\n",
    "typer_config = {\n",
    "    **dict(data_config.cols_dict),\n",
    "    'cols_num': [],\n",
    "    'cols_cat': [col_id, col_tid] +  (cols_tid if len(cols_tid) != 1 else []),\n",
    "    'cols_datetime': [],\n",
    "    'cols_timestamp': [],\n",
    "    'cols_fix': cols_fix,\n",
    "    'name_list_basic': name_list_basic,\n",
    "    'cols_fea': [],\n",
    "}\n",
    "typer_config['data_config'] = dict(data_config)\n",
    "typer_config = {**typer_config, **cols_dict_init}  # insert data_config into cols_dict\n",
    "typer = Typer(typer_config)\n",
    "typer.update_cols_num(dm.head().columns)\n",
    "print('[init] <---------- typer_config ----------> ')\n",
    "print(pd.Series(typer.typer_config).apply(len).to_string())\n",
    "# import IPython; IPython.embed()\n",
    "\n",
    "# # ------------------------------ go ------------------------------\n",
    "fm_config_list = fm_config_list_ALL\n",
    "fm = rz.fe.FEMaster(dm, typer, history)\n",
    "# for i, fm_config in tqdm(enumerate(fm_config_list)):\n",
    "#     # if i <= 76: continue\n",
    "\n",
    "#     time_str = rz.time_str(fmt = '%Y%m%d_%H%M%S')\n",
    "#     print(f'{\">>\" * 50}, fm_config_i = {i:02d} / {len(fm_config_list):02d} | time_str = {time_str}')\n",
    "#     fm.run(fm_config_list[i: i + 1])\n",
    "\n",
    "#     if len(fm.history) > 0:\n",
    "#         cols_fea = fm.typer.get_cols_all('fea')\n",
    "#         score = pd.DataFrame(fm.history)['best'].iloc[-1]['a_score'][-1]\n",
    "#         path = f'{path_output}/{task}_{time_str}_{score:.4f}_{len(cols_fea)}.dict'\n",
    "#         fm.typer.dump_config(path)\n",
    "#         rz.dump_json(fm.history, f'{path[:-5]}.history')\n",
    "\n",
    "# # rz.dump_pickle(fm, f'{path_output}/fm.bin')\n",
    "print('[+] done!')"
   ]
  },
  {
   "cell_type": "code",
   "execution_count": null,
   "id": "dfdfd684",
   "metadata": {},
   "outputs": [],
   "source": []
  },
  {
   "cell_type": "markdown",
   "id": "d22ebfa5",
   "metadata": {},
   "source": [
    "# Pool"
   ]
  },
  {
   "cell_type": "code",
   "execution_count": 6,
   "id": "51689679",
   "metadata": {
    "ExecuteTime": {
     "end_time": "2024-02-11T14:51:52.030766Z",
     "start_time": "2024-02-11T14:51:52.012259Z"
    }
   },
   "outputs": [],
   "source": [
    "from runningz.res.er.pooler import Pooler"
   ]
  },
  {
   "cell_type": "code",
   "execution_count": null,
   "id": "82574d0b",
   "metadata": {},
   "outputs": [],
   "source": []
  },
  {
   "cell_type": "markdown",
   "id": "a1fa8241",
   "metadata": {},
   "source": [
    "# main"
   ]
  },
  {
   "cell_type": "code",
   "execution_count": 7,
   "id": "5172d650",
   "metadata": {
    "ExecuteTime": {
     "end_time": "2024-02-11T14:51:52.041136Z",
     "start_time": "2024-02-11T14:51:52.033798Z"
    }
   },
   "outputs": [],
   "source": [
    "params_res = dict(\n",
    "    seed = 42,               # random seed\n",
    "    n_estimators = 1000,     # n rounds\n",
    "    \n",
    "    learning_rate = 1.0,     # dy = (1 - lr) * dy + lr * (y - y')\n",
    "    num_leaves = 200,        # n trys in 1 round\n",
    "    max_depth = 6,\n",
    "    \n",
    "    bagging_freq = 10,       # rounds to bagging sample, sample to choose best try\n",
    "    bagging_fraction = 0.5,  # bagging ratio\n",
    "    feature_fraction = 0.5,  # feature sampling in each round\n",
    "\n",
    "    max_bin = 32,            # split into 16 bins, to calc follow metrics\n",
    "    lambda_l1 = 0.001,       # bins which ic_i < L1, set as 0\n",
    "    lambda_l2 = 0.1,         # mean(IC_bins) - L2 * std(IC_bins)\n",
    "    min_pos_bins = 0.5,      # mean(IC_bins > 0) >= \n",
    "    min_gain_round = 0.0001, # IC(y, y_pred_new) - IC(y, y_pred_old) >= \n",
    "    \n",
    "    max_xi_std = 0.05,       # (xi_std - 1).abs() <= max_xi_std\n",
    "    max_corr = 0.8,          # corr(X_cur, X_add) <= 0.8\n",
    "    \n",
    "    early_stopping = -1,     # 10 rounds without better eval, than stop\n",
    "    extra = False,           # random pick op(args)\n",
    ")"
   ]
  },
  {
   "cell_type": "code",
   "execution_count": 8,
   "id": "0b9d6fca",
   "metadata": {
    "ExecuteTime": {
     "end_time": "2024-02-11T14:51:52.054688Z",
     "start_time": "2024-02-11T14:51:52.045931Z"
    }
   },
   "outputs": [
    {
     "data": {
      "text/plain": [
       "{'T0': (5322190, 35), 'T0.ts_code': (5469, 1), 'T0.trade_date': (1214, 1)}"
      ]
     },
     "execution_count": 8,
     "metadata": {},
     "output_type": "execute_result"
    }
   ],
   "source": [
    "cols_fea = []\n",
    "mask_look = 'look'\n",
    "dm.shape()"
   ]
  },
  {
   "cell_type": "code",
   "execution_count": 9,
   "id": "fcec5dc2",
   "metadata": {
    "ExecuteTime": {
     "end_time": "2024-02-11T14:51:52.083445Z",
     "start_time": "2024-02-11T14:51:52.062049Z"
    }
   },
   "outputs": [
    {
     "data": {
      "text/plain": [
       "(2934093, 832603)"
      ]
     },
     "execution_count": 9,
     "metadata": {},
     "output_type": "execute_result"
    }
   ],
   "source": [
    "dm.masker.mask_DICT['look'].sum(), dm.masker.mask_DICT['train'].sum()"
   ]
  },
  {
   "cell_type": "code",
   "execution_count": 10,
   "id": "2dfcb419",
   "metadata": {
    "ExecuteTime": {
     "end_time": "2024-02-11T14:51:52.095900Z",
     "start_time": "2024-02-11T14:51:52.087148Z"
    },
    "scrolled": true
   },
   "outputs": [
    {
     "name": "stdout",
     "output_type": "stream",
     "text": [
      "['x(ts_code)', 'x(trade_date)']\n"
     ]
    },
    {
     "data": {
      "text/plain": [
       "['open',\n",
       " 'high',\n",
       " 'low',\n",
       " 'close',\n",
       " 'pre_close',\n",
       " 'change',\n",
       " 'pct_chg',\n",
       " 'vol',\n",
       " 'amount',\n",
       " 'vwap',\n",
       " 'twap',\n",
       " 'mean',\n",
       " 'pre_twap',\n",
       " 'twap_ret',\n",
       " 'pre_vwap',\n",
       " 'vwap_ret',\n",
       " 'pre_open',\n",
       " 'open_ret',\n",
       " 'close_ret',\n",
       " 'pre_mean',\n",
       " 'mean_ret',\n",
       " 'y_shift_1',\n",
       " 'y_shift_2',\n",
       " 'y_shift_3']"
      ]
     },
     "execution_count": 10,
     "metadata": {},
     "output_type": "execute_result"
    }
   ],
   "source": [
    "cols_num = fm.typer.get_cols_all(dtype = 'num')\n",
    "fm.typer.typer_config['cols_num'] = cols_num[:24]\n",
    "\n",
    "cols_num = fm.typer.get_cols_all(dtype = 'num')\n",
    "cols_cat = fm.typer.get_cols_all(dtype = 'cat')\n",
    "print(cols_cat)\n",
    "cols_num"
   ]
  },
  {
   "cell_type": "code",
   "execution_count": 11,
   "id": "b48c1b30",
   "metadata": {
    "ExecuteTime": {
     "end_time": "2024-02-11T14:51:52.105091Z",
     "start_time": "2024-02-11T14:51:52.100550Z"
    }
   },
   "outputs": [
    {
     "data": {
      "text/plain": [
       "(0, 24)"
      ]
     },
     "execution_count": 11,
     "metadata": {},
     "output_type": "execute_result"
    }
   ],
   "source": [
    "len(cols_fea), len(fm.typer.get_cols_all(dtype = 'num'))"
   ]
  },
  {
   "cell_type": "code",
   "execution_count": 12,
   "id": "4033d019",
   "metadata": {
    "ExecuteTime": {
     "end_time": "2024-02-11T14:51:52.113773Z",
     "start_time": "2024-02-11T14:51:52.106976Z"
    }
   },
   "outputs": [
    {
     "name": "stdout",
     "output_type": "stream",
     "text": [
      "[2024/02/11 22:51:52] mem_cur = 3.91GB = 4,196,605,952\n",
      "[2024/02/11 22:51:52] mem_max = 3.95GB = 4,239,724,544\n"
     ]
    },
    {
     "data": {
      "text/plain": [
       "4239724544"
      ]
     },
     "execution_count": 12,
     "metadata": {},
     "output_type": "execute_result"
    }
   ],
   "source": [
    "rz.get_mem_cur(); rz.get_mem_max()"
   ]
  },
  {
   "cell_type": "code",
   "execution_count": null,
   "id": "aa452fb8",
   "metadata": {},
   "outputs": [],
   "source": []
  },
  {
   "cell_type": "code",
   "execution_count": 55,
   "id": "aac6f55a",
   "metadata": {
    "ExecuteTime": {
     "end_time": "2024-02-11T15:04:16.977207Z",
     "start_time": "2024-02-11T15:04:16.969851Z"
    }
   },
   "outputs": [
    {
     "name": "stderr",
     "output_type": "stream",
     "text": [
      "\u001b[32m[I 2024-02-11 23:04:16,972]\u001b[0m A new study created in memory with name: round_0\u001b[0m\n"
     ]
    }
   ],
   "source": [
    "i_round = 0\n",
    "study = Pooler.get_study(study_name = f'round_{i_round}', seed = params_res['seed'] + i_round) # ***seed***\n",
    "pooler = Pooler(study, cols_num, cols_cat, params_res['max_depth']) # ***max_depth***\n",
    "path_config = fm_config_list[0]['path_config_list'][0]\n",
    "fm_config = fm_config_list[0]"
   ]
  },
  {
   "cell_type": "code",
   "execution_count": 56,
   "id": "47524469",
   "metadata": {
    "ExecuteTime": {
     "end_time": "2024-02-11T15:04:18.225288Z",
     "start_time": "2024-02-11T15:04:17.575408Z"
    }
   },
   "outputs": [
    {
     "data": {
      "application/vnd.jupyter.widget-view+json": {
       "model_id": "c5cea055b77542cb8a20418271c9e4ff",
       "version_major": 2,
       "version_minor": 0
      },
      "text/plain": [
       "  0%|          | 0/10 [00:00<?, ?it/s]"
      ]
     },
     "metadata": {},
     "output_type": "display_data"
    },
    {
     "name": "stdout",
     "output_type": "stream",
     "text": [
      "<optuna.trial._trial.Trial object at 0x7ff59ca96130>\n",
      "<optuna.trial._trial.Trial object at 0x7ff57b78c370>\n",
      "<optuna.trial._trial.Trial object at 0x7ff59ca4df10>\n",
      "<optuna.trial._trial.Trial object at 0x7ff59ca96a30>\n",
      "<optuna.trial._trial.Trial object at 0x7ff59ca4d8e0>\n",
      "<optuna.trial._trial.Trial object at 0x7ff59ca4da60>\n",
      "<optuna.trial._trial.Trial object at 0x7ff59ca96c10>\n",
      "<optuna.trial._trial.Trial object at 0x7ff59ce1b670>\n",
      "<optuna.trial._trial.Trial object at 0x7ff59ca96a30>\n",
      "<optuna.trial._trial.Trial object at 0x7ff59ca4da90>\n"
     ]
    }
   ],
   "source": [
    "name_list = []\n",
    "np.random.seed(42)\n",
    "for i in tqdm(range(10)):\n",
    "    score = np.random.random()\n",
    "    name_dict_list = pooler.run(fm, path_config)\n",
    "    pooler.study.tell(name_dict_list[0]['trial'], score)\n",
    "    name_list.append(name_dict_list[0]['name'])\n",
    "    # print(study.best_value, score)\n",
    "    print(name_dict_list[0]['trial'])"
   ]
  },
  {
   "cell_type": "code",
   "execution_count": null,
   "id": "14a0e614",
   "metadata": {},
   "outputs": [],
   "source": []
  },
  {
   "cell_type": "code",
   "execution_count": 140,
   "id": "5b428ded",
   "metadata": {
    "ExecuteTime": {
     "end_time": "2024-02-11T15:48:36.734738Z",
     "start_time": "2024-02-11T15:41:30.516615Z"
    }
   },
   "outputs": [
    {
     "name": "stderr",
     "output_type": "stream",
     "text": [
      "\u001b[32m[I 2024-02-11 23:41:30,519]\u001b[0m A new study created in memory with name: no-name-947a1fde-919e-4c06-bafb-4bb25d729b9a\u001b[0m\n"
     ]
    },
    {
     "data": {
      "application/vnd.jupyter.widget-view+json": {
       "model_id": "c90286e3f7ae42d0967db2dfc149805c",
       "version_major": 2,
       "version_minor": 0
      },
      "text/plain": [
       "  0%|          | 0/1000 [00:00<?, ?it/s]"
      ]
     },
     "metadata": {},
     "output_type": "display_data"
    }
   ],
   "source": [
    "import optuna\n",
    "study = optuna.create_study(\n",
    "    direction = 'maximize', \n",
    "    sampler = optuna.samplers.TPESampler(seed = 42),\n",
    "    pruner = optuna.pruners.NopPruner(),\n",
    ")\n",
    "xs = np.zeros(1000)\n",
    "for i in tqdm(range(len(xs))):\n",
    "    trial = study.ask()\n",
    "    x = 0\n",
    "    x += trial.suggest_categorical(f'x0', range(100))\n",
    "    x += trial.suggest_categorical(f'x1', range(100))\n",
    "    x += trial.suggest_categorical(f'x2', range(100))\n",
    "    x += trial.suggest_categorical(f'x3', range(100))\n",
    "    study.tell(trial, x)\n",
    "    xs[i] = x"
   ]
  },
  {
   "cell_type": "code",
   "execution_count": 142,
   "id": "fc8c76a5",
   "metadata": {
    "ExecuteTime": {
     "end_time": "2024-02-11T15:53:46.815348Z",
     "start_time": "2024-02-11T15:53:46.780338Z"
    }
   },
   "outputs": [],
   "source": [
    "print(study.trials_dataframe())"
   ]
  },
  {
   "cell_type": "code",
   "execution_count": 2,
   "id": "0a985194",
   "metadata": {
    "ExecuteTime": {
     "end_time": "2024-02-11T16:23:40.117162Z",
     "start_time": "2024-02-11T16:23:39.645432Z"
    }
   },
   "outputs": [
    {
     "name": "stderr",
     "output_type": "stream",
     "text": [
      "<ipython-input-2-36da85319a25>:2: FutureWarning: MOTPESampler has been deprecated in v2.9.0. This feature will be removed in v4.0.0. See https://github.com/optuna/optuna/releases/tag/v2.9.0.\n",
      "  optuna.samplers.MOTPESampler()\n"
     ]
    },
    {
     "data": {
      "text/plain": [
       "<optuna.samplers._tpe.multi_objective_sampler.MOTPESampler at 0x7f97908bca90>"
      ]
     },
     "execution_count": 2,
     "metadata": {},
     "output_type": "execute_result"
    }
   ],
   "source": [
    "import optuna\n",
    "#optuna.samplers.NSGAIISampler()\n",
    "optuna.samplers.TPESampler()"
   ]
  },
  {
   "cell_type": "code",
   "execution_count": 132,
   "id": "5d560871",
   "metadata": {
    "ExecuteTime": {
     "end_time": "2024-02-11T15:26:14.094661Z",
     "start_time": "2024-02-11T15:26:14.091000Z"
    }
   },
   "outputs": [],
   "source": [
    "# xs2 = xs"
   ]
  },
  {
   "cell_type": "code",
   "execution_count": 135,
   "id": "2df0c980",
   "metadata": {
    "ExecuteTime": {
     "end_time": "2024-02-11T15:26:34.690018Z",
     "start_time": "2024-02-11T15:26:34.683227Z"
    }
   },
   "outputs": [
    {
     "data": {
      "text/plain": [
       "array([223., 244., 190., 178., 217., 222., 138., 217., 250., 266.])"
      ]
     },
     "execution_count": 135,
     "metadata": {},
     "output_type": "execute_result"
    }
   ],
   "source": [
    "xs[50:60]"
   ]
  },
  {
   "cell_type": "code",
   "execution_count": 134,
   "id": "233952e7",
   "metadata": {
    "ExecuteTime": {
     "end_time": "2024-02-11T15:26:22.974134Z",
     "start_time": "2024-02-11T15:26:22.968595Z"
    }
   },
   "outputs": [
    {
     "data": {
      "text/plain": [
       "array([   0.,    0.,    0.,    0.,    0.,    0.,    0.,    0.,    0.,    0.,    0.,    0.,    0.,    0.,    0.,    0.,    0.,    0.,    0.,    0.,    0.,    0.,    0.,    0.,    0.,    0.,    0.,\n",
       "          0.,    0.,    0.,    0.,    0.,    0.,    0.,    0.,    0.,    0.,    0.,    0.,    0.,    0.,    0.,    0.,    0.,    0.,    0.,    0.,    0.,    0.,    0.,    3.,  -55.,   24.,   55.,\n",
       "        -26.,    2.,   37.,  -20.,    6., -108.])"
      ]
     },
     "execution_count": 134,
     "metadata": {},
     "output_type": "execute_result"
    }
   ],
   "source": [
    "(xs2 - xs)[:60]"
   ]
  },
  {
   "cell_type": "code",
   "execution_count": 101,
   "id": "2ba3c1fd",
   "metadata": {
    "ExecuteTime": {
     "end_time": "2024-02-11T15:12:41.515412Z",
     "start_time": "2024-02-11T15:12:41.512137Z"
    }
   },
   "outputs": [],
   "source": [
    "# xs2"
   ]
  },
  {
   "cell_type": "code",
   "execution_count": 120,
   "id": "7efaf0a3",
   "metadata": {
    "ExecuteTime": {
     "end_time": "2024-02-11T15:22:55.043909Z",
     "start_time": "2024-02-11T15:22:55.040252Z"
    }
   },
   "outputs": [
    {
     "data": {
      "text/plain": [
       "25000"
      ]
     },
     "execution_count": 120,
     "metadata": {},
     "output_type": "execute_result"
    }
   ],
   "source": [
    "1000 * 25"
   ]
  },
  {
   "cell_type": "code",
   "execution_count": null,
   "id": "fa49876d",
   "metadata": {},
   "outputs": [],
   "source": []
  },
  {
   "cell_type": "code",
   "execution_count": 47,
   "id": "a0dd6e6e",
   "metadata": {
    "ExecuteTime": {
     "end_time": "2024-02-11T15:00:44.061116Z",
     "start_time": "2024-02-11T15:00:44.056850Z"
    }
   },
   "outputs": [],
   "source": [
    "# name_list_2 = name_list"
   ]
  },
  {
   "cell_type": "code",
   "execution_count": 50,
   "id": "82ae0f3a",
   "metadata": {
    "ExecuteTime": {
     "end_time": "2024-02-11T15:02:18.428652Z",
     "start_time": "2024-02-11T15:02:18.424274Z"
    }
   },
   "outputs": [
    {
     "data": {
      "text/plain": [
       "['__TEMP__ = log1p(pre_twap)',\n",
       " '__TEMP__ = amn(close_ret, change)',\n",
       " '__TEMP__ = agg(cov, trade_date, open_ret, close_ret)',\n",
       " '__TEMP__ = roll(mean_BF_cutpos, ts_code, y_shift_2, trade_date, 60)',\n",
       " '__TEMP__ = adt(change, amount)',\n",
       " '__TEMP__ = gmean_w_v(change, y_shift_2, pre_close, 0.54)',\n",
       " '__TEMP__ = std_m(high,pre_twap,pre_mean,twap,close_ret)',\n",
       " '__TEMP__ = invmean_w(pct_chg, vol, y_shift_1)',\n",
       " '__TEMP__ = roll(mean, ts_code, pre_close, trade_date, 115)',\n",
       " '__TEMP__ = roll(proj_diff, ts_code, close_ret, amount, trade_date, 45)']"
      ]
     },
     "execution_count": 50,
     "metadata": {},
     "output_type": "execute_result"
    }
   ],
   "source": [
    "name_list[-10:]"
   ]
  },
  {
   "cell_type": "code",
   "execution_count": 51,
   "id": "036a093b",
   "metadata": {
    "ExecuteTime": {
     "end_time": "2024-02-11T15:02:18.436019Z",
     "start_time": "2024-02-11T15:02:18.431845Z"
    }
   },
   "outputs": [
    {
     "data": {
      "text/plain": [
       "['__TEMP__ = log1p(pre_twap)',\n",
       " '__TEMP__ = amn(close_ret, change)',\n",
       " '__TEMP__ = agg(cov, trade_date, open_ret, close_ret)',\n",
       " '__TEMP__ = roll(mean_BF_cutpos, ts_code, y_shift_2, trade_date, 60)',\n",
       " '__TEMP__ = adt(change, amount)',\n",
       " '__TEMP__ = gmean_w_v(change, y_shift_2, pre_close, 0.54)',\n",
       " '__TEMP__ = std_m(high,pre_twap,pre_mean,twap,close_ret)',\n",
       " '__TEMP__ = invmean_w(pct_chg, vol, y_shift_1)',\n",
       " '__TEMP__ = roll(mean, ts_code, pre_close, trade_date, 115)',\n",
       " '__TEMP__ = roll(proj_diff, ts_code, close_ret, amount, trade_date, 45)']"
      ]
     },
     "execution_count": 51,
     "metadata": {},
     "output_type": "execute_result"
    }
   ],
   "source": [
    "name_list_2[-10:]"
   ]
  },
  {
   "cell_type": "code",
   "execution_count": null,
   "id": "a074b4f1",
   "metadata": {},
   "outputs": [],
   "source": []
  },
  {
   "cell_type": "code",
   "execution_count": 15,
   "id": "724bbf38",
   "metadata": {
    "ExecuteTime": {
     "end_time": "2024-02-11T03:56:49.750046Z",
     "start_time": "2024-02-11T02:52:45.371052Z"
    },
    "scrolled": true
   },
   "outputs": [
    {
     "name": "stderr",
     "output_type": "stream",
     "text": [
      "\u001b[32m[I 2024-02-11 10:52:45,577]\u001b[0m A new study created in memory with name: round_0\u001b[0m\n"
     ]
    },
    {
     "name": "stdout",
     "output_type": "stream",
     "text": [
      "{\n",
      "    \"seed\": 42,\n",
      "    \"n_estimators\": 1000,\n",
      "    \"learning_rate\": 1.0,\n",
      "    \"num_leaves\": 200,\n",
      "    \"max_depth\": 6,\n",
      "    \"bagging_freq\": 10,\n",
      "    \"bagging_fraction\": 0.5,\n",
      "    \"feature_fraction\": 0.5,\n",
      "    \"max_bin\": 32,\n",
      "    \"lambda_l1\": 0.001,\n",
      "    \"lambda_l2\": 0.1,\n",
      "    \"min_pos_bins\": 0.5,\n",
      "    \"min_gain_round\": 0.0001,\n",
      "    \"max_xi_std\": 0.05,\n",
      "    \"max_corr\": 0.8,\n",
      "    \"early_stopping\": -1,\n",
      "    \"extra\": false\n",
      "}\n"
     ]
    },
    {
     "data": {
      "application/vnd.jupyter.widget-view+json": {
       "model_id": "747eca4b62e247d0b91fb5d394abbee2",
       "version_major": 2,
       "version_minor": 0
      },
      "text/plain": [
       "  0%|          | 0/200 [00:00<?, ?it/s]"
      ]
     },
     "metadata": {},
     "output_type": "display_data"
    },
    {
     "name": "stdout",
     "output_type": "stream",
     "text": [
      "o=(200, 9), std=(139, 9), corr=(139, 9), pos=(129, 9)\n",
      "       score  score_l2       ic   ic_reg  pos_bins    ic_raw   xi_std  max_corr\n",
      "81  0.030709  0.021714 0.027556 0.005842  0.593750  0.027556 1.000000         0\n",
      "121 0.027892  0.019723 0.025880 0.006157  0.562500 -0.025880 1.000000         0\n",
      "133 0.025232  0.017842 0.020636 0.002795  0.781250 -0.020636 1.000000         0\n",
      "[+] None (1466746, 1) (1466746,) (1466746,) (129, 9)\n",
      "[+] mean_std, 0.000000, 1.000000\n",
      "[+] corr with res, min = -0.000000, max = -0.000000\n",
      "\u001b[32m[+] IC = 0.000000 -> 0.027556, +++, cols_fea = 1\u001b[0m\n",
      "\u001b[32m[+] ic_eval = 0.030950, i_try = 0\u001b[0m\n",
      "[+] name = roll(diff_sum, ts_code, close_ret, pct_chg, trade_date, 40)\n",
      "[+] i - argmax = 0 - 0 = 0, es = -1\n",
      "[2024/02/11 10:54:38] mem_cur = 4.36GB = 4,678,627,328\n",
      "[2024/02/11 10:54:38] mem_max = 4.36GB = 4,678,627,328\n"
     ]
    },
    {
     "name": "stderr",
     "output_type": "stream",
     "text": [
      "\u001b[32m[I 2024-02-11 10:54:38,149]\u001b[0m A new study created in memory with name: round_1\u001b[0m\n"
     ]
    },
    {
     "data": {
      "application/vnd.jupyter.widget-view+json": {
       "model_id": "587a484a97bd477788f39c49edd3a8b6",
       "version_major": 2,
       "version_minor": 0
      },
      "text/plain": [
       "  0%|          | 0/200 [00:00<?, ?it/s]"
      ]
     },
     "metadata": {},
     "output_type": "display_data"
    },
    {
     "name": "stdout",
     "output_type": "stream",
     "text": [
      "o=(200, 9), std=(142, 9), corr=(141, 9), pos=(122, 9)\n",
      "       score  score_l2       ic   ic_reg  pos_bins    ic_raw   xi_std  max_corr\n",
      "121 0.016974  0.013417 0.017400 0.003983  0.656250 -0.017400 1.000000  0.249526\n",
      "43  0.016784  0.012514 0.020046 0.007532  0.531250 -0.020073 1.000000  0.111885\n",
      "47  0.016601  0.012370 0.019902 0.007532  0.531250 -0.019931 1.000000  0.110534\n",
      "[+] (1466746, 1) (1466746, 2) (1466746,) (1466746,) (122, 9)\n",
      "[+] mean_std, -0.000000, 1.000000\n",
      "[+] corr with res, min = -0.000000, max = -0.000000\n",
      "\u001b[32m[+] IC = 0.027556 -> 0.033051, +++, cols_fea = 2\u001b[0m\n",
      "\u001b[32m[+] ic_eval = 0.039352, i_try = 0\u001b[0m\n",
      "[+] name = amq(vol, pre_close)\n",
      "[+] i - argmax = 1 - 1 = 0, es = -1\n",
      "[2024/02/11 10:55:33] mem_cur = 4.48GB = 4,812,513,280\n",
      "[2024/02/11 10:55:33] mem_max = 4.48GB = 4,812,513,280\n"
     ]
    },
    {
     "name": "stderr",
     "output_type": "stream",
     "text": [
      "\u001b[32m[I 2024-02-11 10:55:33,430]\u001b[0m A new study created in memory with name: round_2\u001b[0m\n"
     ]
    },
    {
     "data": {
      "application/vnd.jupyter.widget-view+json": {
       "model_id": "e8f71d9f4830439daa81271c167e89b2",
       "version_major": 2,
       "version_minor": 0
      },
      "text/plain": [
       "  0%|          | 0/200 [00:00<?, ?it/s]"
      ]
     },
     "metadata": {},
     "output_type": "display_data"
    },
    {
     "name": "stdout",
     "output_type": "stream",
     "text": [
      "o=(200, 9), std=(153, 9), corr=(153, 9), pos=(135, 9)\n",
      "      score  score_l2       ic   ic_reg  pos_bins    ic_raw   xi_std  max_corr\n",
      "68 0.017580  0.013129 0.020681 0.007553  0.562500 -0.020681 1.000000  0.115413\n",
      "58 0.017557  0.013108 0.020662 0.007554  0.562500 -0.020662 1.000000  0.114892\n",
      "60 0.017433  0.013003 0.020551 0.007548  0.562500 -0.020551 1.000000  0.112670\n",
      "[+] (1466746, 2) (1466746, 3) (1466746,) (1466746,) (135, 9)\n",
      "[+] mean_std, 0.000000, 1.000000\n",
      "[+] corr with res, min = -0.000000, max = 0.000000\n",
      "\u001b[32m[+] IC = 0.033051 -> 0.039560, +++, cols_fea = 3\u001b[0m\n",
      "\u001b[32m[+] ic_eval = 0.057669, i_try = 0\u001b[0m\n",
      "[+] name = sum_log_m(pre_twap,y_shift_1,close)\n",
      "[+] i - argmax = 2 - 2 = 0, es = -1\n",
      "[2024/02/11 10:56:08] mem_cur = 4.54GB = 4,870,926,336\n",
      "[2024/02/11 10:56:08] mem_max = 4.54GB = 4,870,926,336\n"
     ]
    },
    {
     "name": "stderr",
     "output_type": "stream",
     "text": [
      "\u001b[32m[I 2024-02-11 10:56:09,028]\u001b[0m A new study created in memory with name: round_3\u001b[0m\n"
     ]
    },
    {
     "data": {
      "application/vnd.jupyter.widget-view+json": {
       "model_id": "51ca37870f0648a4af4ca2c117d73dba",
       "version_major": 2,
       "version_minor": 0
      },
      "text/plain": [
       "  0%|          | 0/200 [00:00<?, ?it/s]"
      ]
     },
     "metadata": {},
     "output_type": "display_data"
    },
    {
     "name": "stdout",
     "output_type": "stream",
     "text": [
      "o=(200, 9), std=(133, 9), corr=(120, 9), pos=(107, 9)\n",
      "       score  score_l2       ic   ic_reg  pos_bins    ic_raw   xi_std  max_corr\n",
      "176 0.012736  0.009558 0.011517 0.001960  0.625000 -0.011548 1.000000  0.126287\n",
      "82  0.012435  0.009241 0.011423 0.002182  0.687500 -0.011423 1.000000  0.104490\n",
      "34  0.011188  0.008205 0.009859 0.001654  0.718750 -0.009860 1.000000  0.075689\n",
      "[+] (1466746, 3) (1466746, 4) (1466746,) (1466746,) (107, 9)\n",
      "[+] mean_std, 0.000000, 1.000000\n",
      "[+] corr with res, min = -0.000000, max = -0.000000\n",
      "\u001b[32m[+] IC = 0.039560 -> 0.040793, +++, cols_fea = 4\u001b[0m\n",
      "\u001b[32m[+] ic_eval = 0.058279, i_try = 0\u001b[0m\n",
      "[+] name = roll(corr, ts_code, close, pct_chg, trade_date, 95)\n",
      "[+] i - argmax = 3 - 3 = 0, es = -1\n",
      "[2024/02/11 10:56:49] mem_cur = 4.56GB = 4,900,810,752\n",
      "[2024/02/11 10:56:49] mem_max = 4.56GB = 4,900,810,752\n"
     ]
    },
    {
     "name": "stderr",
     "output_type": "stream",
     "text": [
      "\u001b[32m[I 2024-02-11 10:56:49,505]\u001b[0m A new study created in memory with name: round_4\u001b[0m\n"
     ]
    },
    {
     "data": {
      "application/vnd.jupyter.widget-view+json": {
       "model_id": "db3e5d8f682147698dac85c11158427b",
       "version_major": 2,
       "version_minor": 0
      },
      "text/plain": [
       "  0%|          | 0/200 [00:00<?, ?it/s]"
      ]
     },
     "metadata": {},
     "output_type": "display_data"
    },
    {
     "name": "stdout",
     "output_type": "stream",
     "text": [
      "o=(200, 9), std=(152, 9), corr=(130, 9), pos=(118, 9)\n",
      "       score  score_l2       ic   ic_reg  pos_bins    ic_raw   xi_std  max_corr\n",
      "102 0.010870  0.008524 0.011964 0.003441  0.562500 -0.011964 1.000000  0.229740\n",
      "49  0.010632  0.008389 0.011758 0.003368  0.656250 -0.011783 1.000000  0.245296\n",
      "7   0.008800  0.006437 0.009247 0.002810  0.562500 -0.009278 1.000000  0.070169\n",
      "[+] (1466746, 4) (1466746, 5) (1466746,) (1466746,) (118, 9)\n",
      "[+] mean_std, -0.000000, 1.000000\n",
      "[+] corr with res, min = -0.000000, max = 0.000000\n",
      "\u001b[32m[+] IC = 0.040793 -> 0.042232, +++, cols_fea = 5\u001b[0m\n",
      "\u001b[32m[+] ic_eval = 0.058231, i_try = 0\u001b[0m\n",
      "[+] name = roll(max, ts_code, open_ret, trade_date, 85)\n",
      "[+] i - argmax = 4 - 3 = 1, es = -1\n",
      "[2024/02/11 10:57:26] mem_cur = 4.58GB = 4,916,887,552\n",
      "[2024/02/11 10:57:26] mem_max = 4.58GB = 4,916,887,552\n"
     ]
    },
    {
     "name": "stderr",
     "output_type": "stream",
     "text": [
      "\u001b[32m[I 2024-02-11 10:57:26,626]\u001b[0m A new study created in memory with name: round_5\u001b[0m\n"
     ]
    },
    {
     "data": {
      "application/vnd.jupyter.widget-view+json": {
       "model_id": "bf09cf5c7c704e8f96b2f0d0b4d61b62",
       "version_major": 2,
       "version_minor": 0
      },
      "text/plain": [
       "  0%|          | 0/200 [00:00<?, ?it/s]"
      ]
     },
     "metadata": {},
     "output_type": "display_data"
    },
    {
     "name": "stdout",
     "output_type": "stream",
     "text": [
      "o=(200, 9), std=(128, 9), corr=(114, 9), pos=(94, 9)\n",
      "       score  score_l2       ic   ic_reg  pos_bins    ic_raw   xi_std  max_corr\n",
      "197 0.020890  0.015352 0.017081 0.001729  0.843750 -0.017105 1.000000  0.080140\n",
      "188 0.012619  0.009483 0.012871 0.003388  0.562500 -0.012888 1.000000  0.129420\n",
      "145 0.009445  0.007166 0.010464 0.003298  0.562500 -0.010468 1.000000  0.151313\n",
      "[+] (1466746, 5) (1466746, 6) (1466746,) (1466746,) (94, 9)\n",
      "[+] mean_std, 0.000000, 1.000000\n",
      "[+] corr with res, min = -0.000000, max = 0.000000\n",
      "\u001b[32m[+] IC = 0.042232 -> 0.044983, +++, cols_fea = 6\u001b[0m\n",
      "\u001b[32m[+] ic_eval = 0.053790, i_try = 0\u001b[0m\n",
      "[+] name = roll(logmean__skew, ts_code, vwap_ret, open, trade_date, 10)\n",
      "[+] i - argmax = 5 - 3 = 2, es = -1\n",
      "[2024/02/11 10:58:04] mem_cur = 4.59GB = 4,928,606,208\n",
      "[2024/02/11 10:58:04] mem_max = 4.59GB = 4,928,606,208\n"
     ]
    },
    {
     "name": "stderr",
     "output_type": "stream",
     "text": [
      "\u001b[32m[I 2024-02-11 10:58:04,785]\u001b[0m A new study created in memory with name: round_6\u001b[0m\n"
     ]
    },
    {
     "data": {
      "application/vnd.jupyter.widget-view+json": {
       "model_id": "70879c451b914b85b761221434821135",
       "version_major": 2,
       "version_minor": 0
      },
      "text/plain": [
       "  0%|          | 0/200 [00:00<?, ?it/s]"
      ]
     },
     "metadata": {},
     "output_type": "display_data"
    },
    {
     "name": "stdout",
     "output_type": "stream",
     "text": [
      "o=(200, 9), std=(140, 9), corr=(110, 9), pos=(94, 9)\n",
      "      score  score_l2       ic   ic_reg  pos_bins    ic_raw   xi_std  max_corr\n",
      "53 0.007384  0.005536 0.008104 0.002568  0.625000 -0.008104 1.000000  0.124157\n",
      "62 0.007148  0.005589 0.008393 0.002804  0.625000 -0.008393 1.000000  0.222754\n",
      "29 0.005644  0.004109 0.005714 0.001605  0.656250 -0.005714 1.000000  0.059925\n",
      "[+] (1466746, 6) (1466746, 7) (1466746,) (1466746,) (94, 9)\n",
      "[+] mean_std, -0.000000, 1.000000\n",
      "[+] corr with res, min = -0.000000, max = 0.000000\n",
      "\u001b[32m[+] IC = 0.044983 -> 0.046089, +++, cols_fea = 7\u001b[0m\n",
      "\u001b[32m[+] ic_eval = 0.055001, i_try = 0\u001b[0m\n",
      "[+] name = logmean_w(pre_twap, roll(max, ts_code, open_ret, trade_date, 85), pct_chg)\n",
      "[+] i - argmax = 6 - 3 = 3, es = -1\n",
      "[2024/02/11 10:58:41] mem_cur = 4.60GB = 4,942,098,432\n",
      "[2024/02/11 10:58:41] mem_max = 4.60GB = 4,942,098,432\n"
     ]
    },
    {
     "name": "stderr",
     "output_type": "stream",
     "text": [
      "\u001b[32m[I 2024-02-11 10:58:41,539]\u001b[0m A new study created in memory with name: round_7\u001b[0m\n"
     ]
    },
    {
     "data": {
      "application/vnd.jupyter.widget-view+json": {
       "model_id": "7683e0bd5d1549228d067dd63cc7a359",
       "version_major": 2,
       "version_minor": 0
      },
      "text/plain": [
       "  0%|          | 0/200 [00:00<?, ?it/s]"
      ]
     },
     "metadata": {},
     "output_type": "display_data"
    },
    {
     "name": "stdout",
     "output_type": "stream",
     "text": [
      "o=(200, 9), std=(139, 9), corr=(127, 9), pos=(92, 9)\n",
      "       score  score_l2       ic   ic_reg  pos_bins    ic_raw   xi_std  max_corr\n",
      "195 0.005944  0.004469 0.005882 0.001414  0.625000 -0.005887 1.000000  0.130342\n",
      "166 0.005756  0.004957 0.009154 0.004197  0.562500 -0.009175 1.000000  0.483051\n",
      "40  0.004961  0.004498 0.009504 0.005006  0.656250  0.009504 1.000000  0.644363\n",
      "[+] (1466746, 7) (1466746, 8) (1466746,) (1466746,) (92, 9)\n",
      "[+] mean_std, 0.000000, 1.000000\n",
      "[+] corr with res, min = -0.000000, max = -0.000000\n",
      "\u001b[32m[+] IC = 0.046089 -> 0.046331, +++, cols_fea = 8\u001b[0m\n",
      "\u001b[32m[+] ic_eval = 0.053886, i_try = 0\u001b[0m\n",
      "[+] name = roll(amx__argmin, ts_code, y_shift_2, pct_chg, trade_date, 10)\n",
      "[+] i - argmax = 7 - 3 = 4, es = -1\n",
      "[2024/02/11 10:59:17] mem_cur = 4.61GB = 4,946,976,768\n",
      "[2024/02/11 10:59:17] mem_max = 4.61GB = 4,946,976,768\n"
     ]
    },
    {
     "name": "stderr",
     "output_type": "stream",
     "text": [
      "\u001b[32m[I 2024-02-11 10:59:17,548]\u001b[0m A new study created in memory with name: round_8\u001b[0m\n"
     ]
    },
    {
     "data": {
      "application/vnd.jupyter.widget-view+json": {
       "model_id": "d04f03c16381446ea6a95090aa5f1408",
       "version_major": 2,
       "version_minor": 0
      },
      "text/plain": [
       "  0%|          | 0/200 [00:00<?, ?it/s]"
      ]
     },
     "metadata": {},
     "output_type": "display_data"
    },
    {
     "name": "stdout",
     "output_type": "stream",
     "text": [
      "o=(200, 9), std=(136, 9), corr=(119, 9), pos=(96, 9)\n",
      "       score  score_l2       ic   ic_reg  pos_bins    ic_raw   xi_std  max_corr\n",
      "166 0.011009  0.008250 0.010739 0.002489  0.656250 -0.010739 1.000000  0.123260\n",
      "102 0.010883  0.008097 0.010133 0.002036  0.656250 -0.010133 1.000000  0.107242\n",
      "107 0.007156  0.005299 0.007376 0.002077  0.656250  0.007376 1.000000  0.096997\n",
      "[+] (1466746, 8) (1466746, 9) (1466746,) (1466746,) (96, 9)\n",
      "[+] mean_std, -0.000000, 1.000000\n",
      "[+] corr with res, min = -0.000000, max = 0.000000\n",
      "\u001b[32m[+] IC = 0.046331 -> 0.047389, +++, cols_fea = 9\u001b[0m\n",
      "\u001b[32m[+] ic_eval = 0.054317, i_try = 0\u001b[0m\n",
      "[+] name = roll(max__powmean__argmin, ts_code, close_ret, trade_date, 60)\n",
      "[+] i - argmax = 8 - 3 = 5, es = -1\n",
      "[2024/02/11 10:59:51] mem_cur = 4.62GB = 4,963,004,416\n",
      "[2024/02/11 10:59:51] mem_max = 4.62GB = 4,963,004,416\n"
     ]
    },
    {
     "name": "stderr",
     "output_type": "stream",
     "text": [
      "\u001b[32m[I 2024-02-11 10:59:51,658]\u001b[0m A new study created in memory with name: round_9\u001b[0m\n"
     ]
    },
    {
     "data": {
      "application/vnd.jupyter.widget-view+json": {
       "model_id": "929966bcfb6a411092c1cf44876063ca",
       "version_major": 2,
       "version_minor": 0
      },
      "text/plain": [
       "  0%|          | 0/200 [00:00<?, ?it/s]"
      ]
     },
     "metadata": {},
     "output_type": "display_data"
    },
    {
     "name": "stdout",
     "output_type": "stream",
     "text": [
      "o=(200, 9), std=(134, 9), corr=(116, 9), pos=(96, 9)\n",
      "       score  score_l2       ic   ic_reg  pos_bins    ic_raw   xi_std  max_corr\n",
      "93  0.010273  0.007571 0.010054 0.002483  0.625000  0.010054 1.000000  0.086221\n",
      "146 0.007604  0.005909 0.008170 0.002261  0.656250 -0.008170 1.000000  0.207937\n",
      "111 0.004972  0.003975 0.006251 0.002276  0.562500 -0.006278 1.000000  0.278082\n",
      "[+] (1466746, 9) (1466746, 10) (1466746,) (1466746,) (96, 9)\n",
      "[+] mean_std, -0.000000, 1.000000\n",
      "[+] corr with res, min = -0.000000, max = 0.000000\n",
      "\u001b[32m[+] IC = 0.047389 -> 0.048114, +++, cols_fea = 10\u001b[0m\n",
      "\u001b[32m[+] ic_eval = 0.054835, i_try = 0\u001b[0m\n",
      "[+] name = roll(corr, ts_code, low, twap, trade_date, 35)\n",
      "[+] i - argmax = 9 - 3 = 6, es = -1\n",
      "[2024/02/11 11:00:28] mem_cur = 4.72GB = 5,065,826,304\n",
      "[2024/02/11 11:00:28] mem_max = 4.72GB = 5,065,826,304\n"
     ]
    },
    {
     "name": "stderr",
     "output_type": "stream",
     "text": [
      "\u001b[32m[I 2024-02-11 11:00:30,266]\u001b[0m A new study created in memory with name: round_10\u001b[0m\n"
     ]
    },
    {
     "data": {
      "application/vnd.jupyter.widget-view+json": {
       "model_id": "3334facf3326409b8aa974ab926d1cf4",
       "version_major": 2,
       "version_minor": 0
      },
      "text/plain": [
       "  0%|          | 0/200 [00:00<?, ?it/s]"
      ]
     },
     "metadata": {},
     "output_type": "display_data"
    },
    {
     "name": "stdout",
     "output_type": "stream",
     "text": [
      "o=(200, 9), std=(141, 9), corr=(123, 9), pos=(98, 9)\n",
      "      score  score_l2       ic   ic_reg  pos_bins    ic_raw   xi_std  max_corr\n",
      "45 0.009115  0.007948 0.012063 0.004114  0.531250  0.012063 1.000000  0.520715\n",
      "37 0.006723  0.005604 0.009060 0.003456  0.593750 -0.009060 1.000000  0.389528\n",
      "66 0.006669  0.005246 0.007159 0.001913  0.625000  0.007159 1.000000  0.237845\n",
      "[+] (1465181, 10) (1465181, 11) (1465181,) (1465181,) (98, 9)\n",
      "[+] mean_std, 0.000000, 1.000000\n",
      "[+] corr with res, min = -0.000000, max = 0.000000\n",
      "\u001b[32m[+] IC = 0.048114 -> 0.049482, +++, cols_fea = 11\u001b[0m\n",
      "\u001b[32m[+] ic_eval = 0.054013, i_try = 0\u001b[0m\n",
      "[+] name = roll(sxor__skew, ts_code, pre_twap, vwap_ret, trade_date, 30)\n",
      "[+] i - argmax = 10 - 10 = 0, es = -1\n",
      "[2024/02/11 11:01:04] mem_cur = 4.94GB = 5,302,824,960\n",
      "[2024/02/11 11:01:04] mem_max = 4.94GB = 5,302,824,960\n"
     ]
    },
    {
     "name": "stderr",
     "output_type": "stream",
     "text": [
      "\u001b[32m[I 2024-02-11 11:01:04,582]\u001b[0m A new study created in memory with name: round_11\u001b[0m\n"
     ]
    },
    {
     "data": {
      "application/vnd.jupyter.widget-view+json": {
       "model_id": "ddaa018424e7421abe28efda0a5499be",
       "version_major": 2,
       "version_minor": 0
      },
      "text/plain": [
       "  0%|          | 0/200 [00:00<?, ?it/s]"
      ]
     },
     "metadata": {},
     "output_type": "display_data"
    },
    {
     "name": "stdout",
     "output_type": "stream",
     "text": [
      "o=(200, 9), std=(134, 9), corr=(105, 9), pos=(82, 9)\n",
      "       score  score_l2       ic   ic_reg  pos_bins    ic_raw   xi_std  max_corr\n",
      "152 0.009487  0.007358 0.009014 0.001656  0.718750 -0.009040 1.000000  0.202982\n",
      "175 0.007267  0.005627 0.007936 0.002310  0.625000 -0.007936 1.000000  0.199040\n",
      "123 0.007266  0.005545 0.007648 0.002103  0.531250 -0.007648 1.000000  0.164532\n",
      "[+] (1465181, 11) (1465181, 12) (1465181,) (1465181,) (82, 9)\n",
      "[+] mean_std, -0.000000, 1.000000\n",
      "[+] corr with res, min = -0.000000, max = 0.000000\n",
      "\u001b[32m[+] IC = 0.049482 -> 0.050287, +++, cols_fea = 12\u001b[0m\n",
      "\u001b[32m[+] ic_eval = 0.054727, i_try = 0\u001b[0m\n",
      "[+] name = roll(skew_BF_power, ts_code, close, trade_date, 70)\n",
      "[+] i - argmax = 11 - 11 = 0, es = -1\n",
      "[2024/02/11 11:01:40] mem_cur = 5.02GB = 5,395,165,184\n",
      "[2024/02/11 11:01:40] mem_max = 5.02GB = 5,395,165,184\n"
     ]
    },
    {
     "name": "stderr",
     "output_type": "stream",
     "text": [
      "\u001b[32m[I 2024-02-11 11:01:40,827]\u001b[0m A new study created in memory with name: round_12\u001b[0m\n"
     ]
    },
    {
     "data": {
      "application/vnd.jupyter.widget-view+json": {
       "model_id": "ba9bafb041524f19bb46a1414a25cde9",
       "version_major": 2,
       "version_minor": 0
      },
      "text/plain": [
       "  0%|          | 0/200 [00:00<?, ?it/s]"
      ]
     },
     "metadata": {},
     "output_type": "display_data"
    },
    {
     "name": "stdout",
     "output_type": "stream",
     "text": [
      "o=(200, 9), std=(140, 9), corr=(117, 9), pos=(97, 9)\n",
      "       score  score_l2       ic   ic_reg  pos_bins    ic_raw   xi_std  max_corr\n",
      "190 0.007458  0.005787 0.008291 0.002503  0.593750 -0.008316 1.000000  0.204252\n",
      "134 0.007298  0.005405 0.007404 0.001999  0.656250  0.007404 1.000068  0.096794\n",
      "99  0.006703  0.005353 0.007763 0.002410  0.656250  0.007763 1.000000  0.275674\n",
      "[+] (1465181, 12) (1465181, 13) (1465181,) (1465181,) (97, 9)\n",
      "[+] mean_std, -0.000000, 1.000000\n",
      "[+] corr with res, min = -0.000000, max = 0.000000\n",
      "\u001b[32m[+] IC = 0.050287 -> 0.050712, +++, cols_fea = 13\u001b[0m\n",
      "\u001b[32m[+] ic_eval = 0.054349, i_try = 0\u001b[0m\n",
      "[+] name = absmean_w(logmean_w(pre_twap, roll(max, ts_code, open_ret, trade_date, 85), pct_chg), roll(diff_sum, ts_code, close_ret, pct_chg, trade_date, 40), twap)\n",
      "[+] i - argmax = 12 - 11 = 1, es = -1\n",
      "[2024/02/11 11:02:16] mem_cur = 5.17GB = 5,549,088,768\n",
      "[2024/02/11 11:02:16] mem_max = 5.17GB = 5,549,092,864\n"
     ]
    },
    {
     "name": "stderr",
     "output_type": "stream",
     "text": [
      "\u001b[32m[I 2024-02-11 11:02:17,037]\u001b[0m A new study created in memory with name: round_13\u001b[0m\n"
     ]
    },
    {
     "data": {
      "application/vnd.jupyter.widget-view+json": {
       "model_id": "736b10fe271e4ade854181e9a82d214d",
       "version_major": 2,
       "version_minor": 0
      },
      "text/plain": [
       "  0%|          | 0/200 [00:00<?, ?it/s]"
      ]
     },
     "metadata": {},
     "output_type": "display_data"
    },
    {
     "name": "stdout",
     "output_type": "stream",
     "text": [
      "o=(200, 9), std=(154, 9), corr=(134, 9), pos=(114, 9)\n",
      "       score  score_l2       ic   ic_reg  pos_bins    ic_raw   xi_std  max_corr\n",
      "126 0.007146  0.005358 0.007012 0.001654  0.593750  0.007031 1.000000  0.124597\n",
      "169 0.006089  0.005010 0.007466 0.002456  0.625000  0.007470 1.000002  0.354253\n",
      "167 0.005482  0.004058 0.005001 0.000942  0.625000 -0.005016 1.000000  0.096144\n",
      "[+] (1465181, 13) (1465181, 14) (1465181,) (1465181,) (114, 9)\n",
      "[+] mean_std, 0.000000, 1.000000\n",
      "[+] corr with res, min = -0.000000, max = 0.000000\n",
      "\u001b[32m[+] IC = 0.050712 -> 0.051288, +++, cols_fea = 14\u001b[0m\n",
      "\u001b[32m[+] ic_eval = 0.052974, i_try = 0\u001b[0m\n",
      "[+] name = roll(argmax_BF_sqrt, ts_code, open_ret, trade_date, 5)\n",
      "[+] i - argmax = 13 - 11 = 2, es = -1\n",
      "[2024/02/11 11:02:53] mem_cur = 5.26GB = 5,643,759,616\n",
      "[2024/02/11 11:02:53] mem_max = 5.26GB = 5,643,759,616\n"
     ]
    },
    {
     "name": "stderr",
     "output_type": "stream",
     "text": [
      "\u001b[32m[I 2024-02-11 11:02:53,881]\u001b[0m A new study created in memory with name: round_14\u001b[0m\n"
     ]
    },
    {
     "data": {
      "application/vnd.jupyter.widget-view+json": {
       "model_id": "d9e1239af3b64b88ac2119c9b8c7d541",
       "version_major": 2,
       "version_minor": 0
      },
      "text/plain": [
       "  0%|          | 0/200 [00:00<?, ?it/s]"
      ]
     },
     "metadata": {},
     "output_type": "display_data"
    },
    {
     "name": "stdout",
     "output_type": "stream",
     "text": [
      "o=(200, 9), std=(135, 9), corr=(114, 9), pos=(91, 9)\n",
      "       score  score_l2       ic   ic_reg  pos_bins    ic_raw   xi_std  max_corr\n",
      "145 0.009700  0.007646 0.010243 0.002597  0.656250  0.010261 1.000000  0.242810\n",
      "2   0.006072  0.005106 0.008550 0.003444  0.593750  0.008550 1.000000  0.414315\n",
      "42  0.004935  0.003651 0.005018 0.001367  0.687500 -0.005018 1.000000  0.094567\n",
      "[+] (1465181, 14) (1465181, 15) (1465181,) (1465181,) (91, 9)\n",
      "[+] mean_std, 0.000000, 1.000000\n",
      "[+] corr with res, min = -0.000000, max = 0.000000\n",
      "\u001b[32m[+] IC = 0.051288 -> 0.052576, +++, cols_fea = 15\u001b[0m\n",
      "\u001b[32m[+] ic_eval = 0.053925, i_try = 0\u001b[0m\n",
      "[+] name = roll(beta, ts_code, roll(corr, ts_code, close, pct_chg, trade_date, 95), change, trade_date, 85)\n",
      "[+] i - argmax = 14 - 11 = 3, es = -1\n",
      "[2024/02/11 11:03:31] mem_cur = 5.37GB = 5,766,123,520\n",
      "[2024/02/11 11:03:31] mem_max = 5.37GB = 5,766,123,520\n"
     ]
    },
    {
     "name": "stderr",
     "output_type": "stream",
     "text": [
      "\u001b[32m[I 2024-02-11 11:03:31,745]\u001b[0m A new study created in memory with name: round_15\u001b[0m\n"
     ]
    },
    {
     "data": {
      "application/vnd.jupyter.widget-view+json": {
       "model_id": "7c0d4b9bf6a24e28804a897495b619a9",
       "version_major": 2,
       "version_minor": 0
      },
      "text/plain": [
       "  0%|          | 0/200 [00:00<?, ?it/s]"
      ]
     },
     "metadata": {},
     "output_type": "display_data"
    },
    {
     "name": "stdout",
     "output_type": "stream",
     "text": [
      "o=(200, 9), std=(146, 9), corr=(128, 9), pos=(93, 9)\n",
      "       score  score_l2       ic   ic_reg  pos_bins   ic_raw   xi_std  max_corr\n",
      "88  0.008152  0.007013 0.010929 0.003916  0.562500 0.010946 1.000000  0.480097\n",
      "178 0.006028  0.004960 0.008664 0.003703  0.593750 0.008664 1.000000  0.354212\n",
      "22  0.004533  0.003621 0.007050 0.003429  0.562500 0.007050 1.000000  0.276396\n",
      "[+] (1465181, 15) (1465181, 16) (1465181,) (1465181,) (93, 9)\n",
      "[+] mean_std, 0.000000, 1.000000\n",
      "[+] corr with res, min = -0.000000, max = 0.000000\n",
      "\u001b[32m[+] IC = 0.052576 -> 0.054469, +++, cols_fea = 16\u001b[0m\n",
      "\u001b[32m[+] ic_eval = 0.051119, i_try = 0\u001b[0m\n",
      "[+] name = roll(max__invmeant__argmin, ts_code, close, trade_date, 120)\n",
      "[+] i - argmax = 15 - 11 = 4, es = -1\n",
      "[2024/02/11 11:04:07] mem_cur = 5.58GB = 5,990,678,528\n",
      "[2024/02/11 11:04:07] mem_max = 5.58GB = 5,990,678,528\n"
     ]
    },
    {
     "name": "stderr",
     "output_type": "stream",
     "text": [
      "\u001b[32m[I 2024-02-11 11:04:07,656]\u001b[0m A new study created in memory with name: round_16\u001b[0m\n"
     ]
    },
    {
     "data": {
      "application/vnd.jupyter.widget-view+json": {
       "model_id": "d1436180a2ca4678835dc3c13eda08e4",
       "version_major": 2,
       "version_minor": 0
      },
      "text/plain": [
       "  0%|          | 0/200 [00:00<?, ?it/s]"
      ]
     },
     "metadata": {},
     "output_type": "display_data"
    },
    {
     "name": "stdout",
     "output_type": "stream",
     "text": [
      "o=(200, 9), std=(137, 9), corr=(121, 9), pos=(92, 9)\n",
      "       score  score_l2       ic   ic_reg  pos_bins    ic_raw   xi_std  max_corr\n",
      "70  0.007062  0.005391 0.007796 0.002405  0.500000 -0.007796 1.000000  0.165387\n",
      "161 0.005410  0.004555 0.006698 0.002143  0.593750  0.006698 1.000000  0.417544\n",
      "132 0.005046  0.003893 0.006202 0.002309  0.562500 -0.006214 1.000000  0.190170\n",
      "[+] (1465181, 16) (1465181, 17) (1465181,) (1465181,) (92, 9)\n",
      "[+] mean_std, -0.000000, 1.000000\n",
      "[+] corr with res, min = -0.000000, max = 0.000000\n",
      "\u001b[32m[+] IC = 0.054469 -> 0.054987, +++, cols_fea = 17\u001b[0m\n",
      "\u001b[32m[+] ic_eval = 0.051729, i_try = 0\u001b[0m\n",
      "[+] name = roll(negpos__skew, ts_code, roll(beta, ts_code, roll(corr, ts_code, close, pct_chg, trade_date, 95), change, trade_date, 85), sum_log_m(pre_twap,y_shift_1,close), trade_date, 70)\n",
      "[+] i - argmax = 16 - 11 = 5, es = -1\n",
      "[2024/02/11 11:04:42] mem_cur = 5.62GB = 6,034,472,960\n",
      "[2024/02/11 11:04:42] mem_max = 5.62GB = 6,034,472,960\n"
     ]
    },
    {
     "name": "stderr",
     "output_type": "stream",
     "text": [
      "\u001b[32m[I 2024-02-11 11:04:42,122]\u001b[0m A new study created in memory with name: round_17\u001b[0m\n"
     ]
    },
    {
     "data": {
      "application/vnd.jupyter.widget-view+json": {
       "model_id": "020793e1cd954f8ea0652613abe8df2b",
       "version_major": 2,
       "version_minor": 0
      },
      "text/plain": [
       "  0%|          | 0/200 [00:00<?, ?it/s]"
      ]
     },
     "metadata": {},
     "output_type": "display_data"
    },
    {
     "name": "stdout",
     "output_type": "stream",
     "text": [
      "o=(200, 9), std=(140, 9), corr=(121, 9), pos=(90, 9)\n",
      "       score  score_l2       ic   ic_reg  pos_bins    ic_raw   xi_std  max_corr\n",
      "122 0.005647  0.004182 0.006164 0.001982  0.625000 -0.006182 1.000000  0.096884\n",
      "14  0.003629  0.002618 0.003871 0.001253  0.656250 -0.003871 1.000000  0.040970\n",
      "140 0.003329  0.002944 0.005787 0.002844  0.625000 -0.005787 1.000000  0.563911\n",
      "[+] (1465181, 17) (1465181, 18) (1465181,) (1465181,) (90, 9)\n",
      "[+] mean_std, 0.000000, 1.000000\n",
      "[+] corr with res, min = -0.000000, max = 0.000000\n",
      "\u001b[32m[+] IC = 0.054987 -> 0.055255, +++, cols_fea = 18\u001b[0m\n",
      "\u001b[32m[+] ic_eval = 0.051219, i_try = 0\u001b[0m\n",
      "[+] name = odt(y_shift_3, pre_mean)\n",
      "[+] i - argmax = 17 - 11 = 6, es = -1\n",
      "[2024/02/11 11:05:19] mem_cur = 5.76GB = 6,184,349,696\n",
      "[2024/02/11 11:05:19] mem_max = 5.76GB = 6,184,349,696\n"
     ]
    },
    {
     "name": "stderr",
     "output_type": "stream",
     "text": [
      "\u001b[32m[I 2024-02-11 11:05:19,495]\u001b[0m A new study created in memory with name: round_18\u001b[0m\n"
     ]
    },
    {
     "data": {
      "application/vnd.jupyter.widget-view+json": {
       "model_id": "c27221a3e45a4dd2a4189c80041d95aa",
       "version_major": 2,
       "version_minor": 0
      },
      "text/plain": [
       "  0%|          | 0/200 [00:00<?, ?it/s]"
      ]
     },
     "metadata": {},
     "output_type": "display_data"
    },
    {
     "name": "stdout",
     "output_type": "stream",
     "text": [
      "o=(200, 9), std=(143, 9), corr=(117, 9), pos=(89, 9)\n",
      "       score  score_l2       ic   ic_reg  pos_bins    ic_raw   xi_std  max_corr\n",
      "187 0.005531  0.004208 0.006043 0.001835  0.625000 -0.006070 1.000000  0.157589\n",
      "28  0.004754  0.003587 0.004869 0.001282  0.656250  0.004898 1.000000  0.138352\n",
      "83  0.004423  0.003687 0.006001 0.002315  0.593750 -0.006001 1.000000  0.389270\n",
      "[+] (1465181, 18) (1465181, 19) (1465181,) (1465181,) (89, 9)\n",
      "[+] mean_std, 0.000000, 1.000000\n",
      "[+] corr with res, min = -0.000000, max = 0.000000\n",
      "\u001b[32m[+] IC = 0.055255 -> 0.055638, +++, cols_fea = 19\u001b[0m\n",
      "\u001b[32m[+] ic_eval = 0.051550, i_try = 0\u001b[0m\n",
      "[+] name = powmean_w(pct_chg, open, mean)\n",
      "[+] i - argmax = 18 - 11 = 7, es = -1\n",
      "[2024/02/11 11:05:57] mem_cur = 5.89GB = 6,329,667,584\n",
      "[2024/02/11 11:05:57] mem_max = 5.89GB = 6,329,667,584\n"
     ]
    },
    {
     "name": "stderr",
     "output_type": "stream",
     "text": [
      "\u001b[32m[I 2024-02-11 11:05:57,249]\u001b[0m A new study created in memory with name: round_19\u001b[0m\n"
     ]
    },
    {
     "data": {
      "application/vnd.jupyter.widget-view+json": {
       "model_id": "28bf60f90bb748739ea2212ed12acdeb",
       "version_major": 2,
       "version_minor": 0
      },
      "text/plain": [
       "  0%|          | 0/200 [00:00<?, ?it/s]"
      ]
     },
     "metadata": {},
     "output_type": "display_data"
    },
    {
     "name": "stdout",
     "output_type": "stream",
     "text": [
      "o=(200, 9), std=(153, 9), corr=(136, 9), pos=(105, 9)\n",
      "       score  score_l2       ic   ic_reg  pos_bins    ic_raw   xi_std  max_corr\n",
      "113 0.008190  0.006558 0.009372 0.002815  0.625000  0.009388 1.000000  0.282213\n",
      "161 0.005918  0.004433 0.005383 0.000950  0.687500 -0.005398 1.000000  0.122182\n",
      "18  0.005363  0.004330 0.006417 0.002087  0.562500 -0.006429 1.000000  0.303487\n",
      "[+] (1465181, 19) (1465181, 20) (1465181,) (1465181,) (105, 9)\n",
      "[+] mean_std, -0.000000, 1.000000\n",
      "[+] corr with res, min = -0.000000, max = 0.000000\n",
      "\u001b[32m[+] IC = 0.055638 -> 0.056325, +++, cols_fea = 20\u001b[0m\n",
      "\u001b[32m[+] ic_eval = 0.051117, i_try = 0\u001b[0m\n",
      "[+] name = roll(alpha, ts_code, roll(beta, ts_code, roll(corr, ts_code, close, pct_chg, trade_date, 95), change, trade_date, 85), roll(corr, ts_code, close, pct_chg, trade_date, 95), trade_date, 110)\n",
      "[+] i - argmax = 19 - 11 = 8, es = -1\n",
      "[2024/02/11 11:06:33] mem_cur = 6.04GB = 6,481,141,760\n",
      "[2024/02/11 11:06:33] mem_max = 6.04GB = 6,481,141,760\n"
     ]
    },
    {
     "name": "stderr",
     "output_type": "stream",
     "text": [
      "\u001b[32m[I 2024-02-11 11:06:36,553]\u001b[0m A new study created in memory with name: round_20\u001b[0m\n"
     ]
    },
    {
     "data": {
      "application/vnd.jupyter.widget-view+json": {
       "model_id": "fafdf5f98ffc450b8c9f510e5acb25eb",
       "version_major": 2,
       "version_minor": 0
      },
      "text/plain": [
       "  0%|          | 0/200 [00:00<?, ?it/s]"
      ]
     },
     "metadata": {},
     "output_type": "display_data"
    },
    {
     "name": "stdout",
     "output_type": "stream",
     "text": [
      "o=(200, 9), std=(139, 9), corr=(115, 9), pos=(92, 9)\n",
      "       score  score_l2       ic   ic_reg  pos_bins    ic_raw   xi_std  max_corr\n",
      "193 0.004584  0.003667 0.005992 0.002325  0.593750  0.005992 1.000000  0.279510\n",
      "124 0.003987  0.003103 0.005539 0.002436  0.531250  0.005544 1.000000  0.211354\n",
      "34  0.003320  0.002582 0.004581 0.001999  0.531250 -0.004626 0.996430  0.209099\n",
      "[+] (1465778, 20) (1465778, 21) (1465778,) (1465778,) (92, 9)\n",
      "[+] mean_std, -0.000000, 1.000000\n",
      "[+] corr with res, min = -0.000000, max = 0.000000\n",
      "\u001b[31m[+] IC = 0.056325 -> 0.055218, ---, cols_fea = 20\u001b[0m\n",
      "[+] mean_std, -0.000000, 1.000000\n",
      "[+] corr with res, min = -0.000000, max = 0.000000\n",
      "\u001b[31m[+] IC = 0.056325 -> 0.055231, ---, cols_fea = 20\u001b[0m\n",
      "[+] mean_std, -0.000000, 0.996430\n",
      "[+] corr with res, min = -0.000000, max = 0.000000\n",
      "\u001b[31m[+] IC = 0.056325 -> 0.055082, ---, cols_fea = 20\u001b[0m\n",
      "[+] mean_std, -0.000000, 1.000000\n",
      "[+] corr with res, min = -0.000000, max = 0.000001\n",
      "\u001b[31m[+] IC = 0.056325 -> 0.055229, ---, cols_fea = 20\u001b[0m\n",
      "[+] mean_std, -0.000000, 1.000000\n",
      "[+] corr with res, min = -0.000000, max = 0.000000\n",
      "\u001b[31m[+] IC = 0.056325 -> 0.055141, ---, cols_fea = 20\u001b[0m\n",
      "[+] mean_std, -0.000000, 1.000000\n",
      "[+] corr with res, min = -0.000000, max = 0.000000\n",
      "\u001b[31m[+] IC = 0.056325 -> 0.055048, ---, cols_fea = 20\u001b[0m\n",
      "[+] mean_std, -0.000000, 1.000000\n",
      "[+] corr with res, min = -0.000000, max = 0.000000\n",
      "\u001b[31m[+] IC = 0.056325 -> 0.055080, ---, cols_fea = 20\u001b[0m\n",
      "[+] mean_std, 0.000000, 1.000000\n",
      "[+] corr with res, min = -0.000000, max = 0.000000\n",
      "\u001b[31m[+] IC = 0.056325 -> 0.055108, ---, cols_fea = 20\u001b[0m\n",
      "[+] mean_std, 0.000000, 1.000000\n",
      "[+] corr with res, min = -0.000000, max = 0.000000\n",
      "\u001b[31m[+] IC = 0.056325 -> 0.055115, ---, cols_fea = 20\u001b[0m\n",
      "[+] mean_std, -0.000000, 1.000000\n",
      "[+] corr with res, min = -0.000000, max = 0.000000\n",
      "\u001b[31m[+] IC = 0.056325 -> 0.055073, ---, cols_fea = 20\u001b[0m\n",
      "\u001b[32m[+] IC = 0.055073 -> 0.055073, ===, cols_fea = 20\u001b[0m\n",
      "[+] i - argmax = 20 - 20 = 0, es = -1\n",
      "[2024/02/11 11:07:31] mem_cur = 6.29GB = 6,757,982,208\n",
      "[2024/02/11 11:07:31] mem_max = 6.29GB = 6,757,982,208\n"
     ]
    },
    {
     "name": "stderr",
     "output_type": "stream",
     "text": [
      "\u001b[32m[I 2024-02-11 11:07:31,752]\u001b[0m A new study created in memory with name: round_21\u001b[0m\n"
     ]
    },
    {
     "data": {
      "application/vnd.jupyter.widget-view+json": {
       "model_id": "cfe61faa46f44f6da4b247c8f1d48e8a",
       "version_major": 2,
       "version_minor": 0
      },
      "text/plain": [
       "  0%|          | 0/200 [00:00<?, ?it/s]"
      ]
     },
     "metadata": {},
     "output_type": "display_data"
    },
    {
     "name": "stdout",
     "output_type": "stream",
     "text": [
      "o=(200, 9), std=(149, 9), corr=(132, 9), pos=(113, 9)\n",
      "       score  score_l2       ic   ic_reg  pos_bins    ic_raw   xi_std  max_corr\n",
      "117 0.007175  0.005467 0.007113 0.001645  0.656250 -0.007129 0.987917  0.161119\n",
      "26  0.005559  0.004067 0.005190 0.001123  0.625000  0.005190 1.000000  0.070632\n",
      "141 0.005132  0.004115 0.006445 0.002329  0.593750 -0.006466 1.000000  0.286236\n",
      "[+] (1465778, 20) (1465778, 21) (1465778,) (1465778,) (113, 9)\n",
      "[+] mean_std, 0.000000, 0.987917\n",
      "[+] corr with res, min = -0.000000, max = 0.000000\n",
      "\u001b[32m[+] IC = 0.055073 -> 0.055373, +++, cols_fea = 21\u001b[0m\n",
      "\u001b[32m[+] ic_eval = 0.051450, i_try = 0\u001b[0m\n",
      "[+] name = eq_v(roll(max__invmeant__argmin, ts_code, close, trade_date, 120), 0)\n",
      "[+] i - argmax = 21 - 21 = 0, es = -1\n",
      "[2024/02/11 11:08:11] mem_cur = 6.29GB = 6,759,194,624\n",
      "[2024/02/11 11:08:11] mem_max = 6.29GB = 6,759,194,624\n"
     ]
    },
    {
     "name": "stderr",
     "output_type": "stream",
     "text": [
      "\u001b[32m[I 2024-02-11 11:08:11,588]\u001b[0m A new study created in memory with name: round_22\u001b[0m\n"
     ]
    },
    {
     "data": {
      "application/vnd.jupyter.widget-view+json": {
       "model_id": "7bf5acd7be024ebf948835ab2be2ec35",
       "version_major": 2,
       "version_minor": 0
      },
      "text/plain": [
       "  0%|          | 0/200 [00:00<?, ?it/s]"
      ]
     },
     "metadata": {},
     "output_type": "display_data"
    },
    {
     "name": "stdout",
     "output_type": "stream",
     "text": [
      "o=(200, 9), std=(144, 9), corr=(110, 9), pos=(84, 9)\n",
      "       score  score_l2       ic   ic_reg  pos_bins    ic_raw   xi_std  max_corr\n",
      "57  0.007308  0.005615 0.007573 0.001958  0.500000  0.007594 1.000000  0.180806\n",
      "106 0.005601  0.004281 0.006015 0.001734  0.625000  0.006015 1.000000  0.168105\n",
      "172 0.005152  0.004208 0.006582 0.002374  0.656250 -0.006589 1.000000  0.334408\n",
      "[+] (1465778, 21) (1465778, 22) (1465778,) (1465778,) (84, 9)\n",
      "[+] mean_std, 0.000000, 1.000000\n",
      "[+] corr with res, min = -0.000000, max = 0.000000\n",
      "\u001b[32m[+] IC = 0.055373 -> 0.055709, +++, cols_fea = 22\u001b[0m\n",
      "\u001b[32m[+] ic_eval = 0.051284, i_try = 0\u001b[0m\n",
      "[+] name = roll(beta, ts_code, y_shift_1, change, trade_date, 45)\n",
      "[+] i - argmax = 22 - 21 = 1, es = -1\n",
      "[2024/02/11 11:08:49] mem_cur = 6.33GB = 6,793,818,112\n",
      "[2024/02/11 11:08:49] mem_max = 6.33GB = 6,793,818,112\n"
     ]
    },
    {
     "name": "stderr",
     "output_type": "stream",
     "text": [
      "\u001b[32m[I 2024-02-11 11:08:49,647]\u001b[0m A new study created in memory with name: round_23\u001b[0m\n"
     ]
    },
    {
     "data": {
      "application/vnd.jupyter.widget-view+json": {
       "model_id": "1b01fbc2aa214949b5f34d63d6a06450",
       "version_major": 2,
       "version_minor": 0
      },
      "text/plain": [
       "  0%|          | 0/200 [00:00<?, ?it/s]"
      ]
     },
     "metadata": {},
     "output_type": "display_data"
    },
    {
     "name": "stdout",
     "output_type": "stream",
     "text": [
      "o=(200, 9), std=(148, 9), corr=(119, 9), pos=(94, 9)\n",
      "       score  score_l2       ic   ic_reg  pos_bins    ic_raw   xi_std  max_corr\n",
      "136 0.007294  0.005412 0.007025 0.001613  0.656250 -0.007025 1.000000  0.101266\n",
      "120 0.004197  0.003231 0.004391 0.001159  0.562500 -0.004458 0.987300  0.185257\n",
      "16  0.003151  0.002925 0.004528 0.001604  0.656250 -0.004528 1.000000  0.723459\n",
      "[+] (1465778, 22) (1465778, 23) (1465778,) (1465778,) (94, 9)\n",
      "[+] mean_std, 0.000000, 1.000000\n",
      "[+] corr with res, min = -0.000000, max = 0.000000\n",
      "\u001b[32m[+] IC = 0.055709 -> 0.056107, +++, cols_fea = 23\u001b[0m\n",
      "\u001b[32m[+] ic_eval = 0.049568, i_try = 0\u001b[0m\n",
      "[+] name = roll(argmax__mdx__argmin, ts_code, roll(corr, ts_code, close, pct_chg, trade_date, 95), trade_date, 120)\n",
      "[+] i - argmax = 23 - 21 = 2, es = -1\n",
      "[2024/02/11 11:09:31] mem_cur = 6.49GB = 6,965,645,312\n",
      "[2024/02/11 11:09:31] mem_max = 6.49GB = 6,965,645,312\n"
     ]
    },
    {
     "name": "stderr",
     "output_type": "stream",
     "text": [
      "\u001b[32m[I 2024-02-11 11:09:31,197]\u001b[0m A new study created in memory with name: round_24\u001b[0m\n"
     ]
    },
    {
     "data": {
      "application/vnd.jupyter.widget-view+json": {
       "model_id": "09f25bd7effa45eab4f47db8d852882e",
       "version_major": 2,
       "version_minor": 0
      },
      "text/plain": [
       "  0%|          | 0/200 [00:00<?, ?it/s]"
      ]
     },
     "metadata": {},
     "output_type": "display_data"
    },
    {
     "name": "stdout",
     "output_type": "stream",
     "text": [
      "o=(200, 9), std=(141, 9), corr=(106, 9), pos=(79, 9)\n",
      "       score  score_l2       ic   ic_reg  pos_bins    ic_raw   xi_std  max_corr\n",
      "31  0.004924  0.003877 0.005295 0.001418  0.625000 -0.005295 1.000000  0.240186\n",
      "101 0.004103  0.003281 0.005500 0.002219  0.562500 -0.005502 1.000000  0.278834\n",
      "119 0.003423  0.002487 0.003738 0.001251  0.562500 -0.003753 1.000000  0.055442\n",
      "[+] (1465778, 23) (1465778, 24) (1465778,) (1465778,) (79, 9)\n",
      "[+] mean_std, 0.000000, 1.000000\n",
      "[+] corr with res, min = -0.000000, max = 0.000000\n",
      "\u001b[32m[+] IC = 0.056107 -> 0.056397, +++, cols_fea = 24\u001b[0m\n",
      "\u001b[32m[+] ic_eval = 0.049550, i_try = 0\u001b[0m\n",
      "[+] name = roll(kurt_BF_power, ts_code, absmean_w(logmean_w(pre_twap, roll(max, ts_code, open_ret, trade_date, 85), pct_chg), roll(diff_sum, ts_code, close_ret, pct_chg, trade_date, 40), twap), trade_date, 75)\n",
      "[+] i - argmax = 24 - 21 = 3, es = -1\n",
      "[2024/02/11 11:10:11] mem_cur = 6.65GB = 7,143,309,312\n",
      "[2024/02/11 11:10:11] mem_max = 6.65GB = 7,143,309,312\n"
     ]
    },
    {
     "name": "stderr",
     "output_type": "stream",
     "text": [
      "\u001b[32m[I 2024-02-11 11:10:11,348]\u001b[0m A new study created in memory with name: round_25\u001b[0m\n"
     ]
    },
    {
     "data": {
      "application/vnd.jupyter.widget-view+json": {
       "model_id": "58042081c433474b85060205e81e5eff",
       "version_major": 2,
       "version_minor": 0
      },
      "text/plain": [
       "  0%|          | 0/200 [00:00<?, ?it/s]"
      ]
     },
     "metadata": {},
     "output_type": "display_data"
    },
    {
     "name": "stdout",
     "output_type": "stream",
     "text": [
      "o=(200, 9), std=(131, 9), corr=(100, 9), pos=(79, 9)\n",
      "       score  score_l2       ic   ic_reg  pos_bins    ic_raw   xi_std  max_corr\n",
      "119 0.008494  0.006406 0.007922 0.001516  0.656250 -0.007922 1.000000  0.137752\n",
      "134 0.005552  0.004143 0.005160 0.001017  0.656250  0.005160 1.000000  0.113908\n",
      "192 0.004593  0.003735 0.004853 0.001118  0.625000  0.004853 1.000000  0.322413\n",
      "[+] (1465778, 24) (1465778, 25) (1465778,) (1465778,) (79, 9)\n",
      "[+] mean_std, 0.000000, 1.000000\n",
      "[+] corr with res, min = -0.000000, max = 0.000000\n",
      "\u001b[32m[+] IC = 0.056397 -> 0.056779, +++, cols_fea = 25\u001b[0m\n",
      "\u001b[32m[+] ic_eval = 0.049136, i_try = 0\u001b[0m\n",
      "[+] name = roll(proj, ts_code, roll(argmax_BF_sqrt, ts_code, open_ret, trade_date, 5), odt(y_shift_3, pre_mean), trade_date, 15)\n",
      "[+] i - argmax = 25 - 21 = 4, es = -1\n",
      "[2024/02/11 11:10:47] mem_cur = 6.82GB = 7,324,151,808\n",
      "[2024/02/11 11:10:47] mem_max = 6.82GB = 7,324,151,808\n"
     ]
    },
    {
     "name": "stderr",
     "output_type": "stream",
     "text": [
      "\u001b[32m[I 2024-02-11 11:10:47,537]\u001b[0m A new study created in memory with name: round_26\u001b[0m\n"
     ]
    },
    {
     "data": {
      "application/vnd.jupyter.widget-view+json": {
       "model_id": "7a97250efaa14ae5890105adee8792ad",
       "version_major": 2,
       "version_minor": 0
      },
      "text/plain": [
       "  0%|          | 0/200 [00:00<?, ?it/s]"
      ]
     },
     "metadata": {},
     "output_type": "display_data"
    },
    {
     "name": "stdout",
     "output_type": "stream",
     "text": [
      "o=(200, 9), std=(142, 9), corr=(114, 9), pos=(91, 9)\n",
      "       score  score_l2       ic   ic_reg  pos_bins    ic_raw   xi_std  max_corr\n",
      "17  0.004131  0.003584 0.005278 0.001694  0.531250  0.005297 1.000000  0.505131\n",
      "36  0.003859  0.002934 0.004727 0.001794  0.625000  0.004727 1.000000  0.156004\n",
      "146 0.003730  0.002917 0.003842 0.000926  0.500000 -0.003926 1.000000  0.222877\n",
      "[+] (1465778, 25) (1465778, 26) (1465778,) (1465778,) (91, 9)\n",
      "[+] mean_std, -0.000000, 1.000000\n",
      "[+] corr with res, min = -0.000000, max = 0.000000\n",
      "\u001b[32m[+] IC = 0.056779 -> 0.056985, +++, cols_fea = 26\u001b[0m\n",
      "\u001b[32m[+] ic_eval = 0.048923, i_try = 0\u001b[0m\n",
      "[+] name = roll(max, ts_code, roll(skew_BF_power, ts_code, close, trade_date, 70), trade_date, 35)\n",
      "[+] i - argmax = 26 - 21 = 5, es = -1\n",
      "[2024/02/11 11:11:25] mem_cur = 7.00GB = 7,511,949,312\n",
      "[2024/02/11 11:11:25] mem_max = 7.00GB = 7,511,949,312\n"
     ]
    },
    {
     "name": "stderr",
     "output_type": "stream",
     "text": [
      "\u001b[32m[I 2024-02-11 11:11:25,074]\u001b[0m A new study created in memory with name: round_27\u001b[0m\n"
     ]
    },
    {
     "data": {
      "application/vnd.jupyter.widget-view+json": {
       "model_id": "2ac0088e961e49fe8abb5983f7a0fca9",
       "version_major": 2,
       "version_minor": 0
      },
      "text/plain": [
       "  0%|          | 0/200 [00:00<?, ?it/s]"
      ]
     },
     "metadata": {},
     "output_type": "display_data"
    },
    {
     "name": "stdout",
     "output_type": "stream",
     "text": [
      "o=(200, 9), std=(139, 9), corr=(107, 9), pos=(78, 9)\n",
      "       score  score_l2       ic   ic_reg  pos_bins    ic_raw   xi_std  max_corr\n",
      "66  0.006416  0.004726 0.005768 0.001042  0.687500 -0.005782 1.000000  0.085093\n",
      "182 0.004296  0.003361 0.005490 0.002128  0.625000 -0.005516 1.000000  0.224348\n",
      "69  0.003784  0.002779 0.004061 0.001282  0.687500 -0.004061 1.000000  0.078583\n",
      "[+] (1465778, 26) (1465778, 27) (1465778,) (1465778,) (78, 9)\n",
      "[+] mean_std, 0.000000, 1.000000\n",
      "[+] corr with res, min = -0.000000, max = 0.000000\n",
      "\u001b[32m[+] IC = 0.056985 -> 0.057259, +++, cols_fea = 27\u001b[0m\n",
      "\u001b[32m[+] ic_eval = 0.048989, i_try = 0\u001b[0m\n",
      "[+] name = roll(kurt_BF_cutneg, ts_code, twap, trade_date, 20)\n",
      "[+] i - argmax = 27 - 21 = 6, es = -1\n",
      "[2024/02/11 11:12:04] mem_cur = 7.18GB = 7,704,543,232\n",
      "[2024/02/11 11:12:04] mem_max = 7.18GB = 7,704,543,232\n"
     ]
    },
    {
     "name": "stderr",
     "output_type": "stream",
     "text": [
      "\u001b[32m[I 2024-02-11 11:12:04,716]\u001b[0m A new study created in memory with name: round_28\u001b[0m\n"
     ]
    },
    {
     "data": {
      "application/vnd.jupyter.widget-view+json": {
       "model_id": "f10d87a54d5040a78eb45cfa69694d91",
       "version_major": 2,
       "version_minor": 0
      },
      "text/plain": [
       "  0%|          | 0/200 [00:00<?, ?it/s]"
      ]
     },
     "metadata": {},
     "output_type": "display_data"
    },
    {
     "name": "stdout",
     "output_type": "stream",
     "text": [
      "o=(200, 9), std=(125, 9), corr=(106, 9), pos=(84, 9)\n",
      "       score  score_l2       ic   ic_reg  pos_bins    ic_raw   xi_std  max_corr\n",
      "146 0.005646  0.004407 0.005898 0.001491  0.625000  0.005903 1.000000  0.218559\n",
      "64  0.005483  0.004677 0.006739 0.002062  0.562500 -0.006739 1.000000  0.455536\n",
      "53  0.004554  0.003363 0.004559 0.001196  0.625000  0.004570 1.000000  0.090604\n",
      "[+] (1465778, 27) (1465778, 28) (1465778,) (1465778,) (84, 9)\n",
      "[+] mean_std, -0.000000, 1.000000\n",
      "[+] corr with res, min = -0.000000, max = 0.000000\n",
      "\u001b[32m[+] IC = 0.057259 -> 0.057624, +++, cols_fea = 28\u001b[0m\n",
      "\u001b[32m[+] ic_eval = 0.048442, i_try = 0\u001b[0m\n",
      "[+] name = roll(kurt, ts_code, close_ret, trade_date, 55)\n",
      "[+] i - argmax = 28 - 21 = 7, es = -1\n",
      "[2024/02/11 11:12:42] mem_cur = 7.36GB = 7,907,020,800\n",
      "[2024/02/11 11:12:42] mem_max = 7.36GB = 7,907,020,800\n"
     ]
    },
    {
     "name": "stderr",
     "output_type": "stream",
     "text": [
      "\u001b[32m[I 2024-02-11 11:12:42,305]\u001b[0m A new study created in memory with name: round_29\u001b[0m\n"
     ]
    },
    {
     "data": {
      "application/vnd.jupyter.widget-view+json": {
       "model_id": "d73959ef35bd4fe0b3ac6f1233a08de8",
       "version_major": 2,
       "version_minor": 0
      },
      "text/plain": [
       "  0%|          | 0/200 [00:00<?, ?it/s]"
      ]
     },
     "metadata": {},
     "output_type": "display_data"
    },
    {
     "name": "stdout",
     "output_type": "stream",
     "text": [
      "o=(200, 9), std=(138, 9), corr=(103, 9), pos=(88, 9)\n",
      "       score  score_l2       ic   ic_reg  pos_bins   ic_raw   xi_std  max_corr\n",
      "20  0.006302  0.004719 0.005706 0.000987  0.687500 0.005744 1.000000  0.121342\n",
      "108 0.004251  0.003522 0.006096 0.002574  0.625000 0.006116 1.000000  0.373172\n",
      "13  0.003971  0.003453 0.007334 0.003881  0.593750 0.007334 1.000000  0.512057\n",
      "[+] (1465778, 28) (1465778, 29) (1465778,) (1465778,) (88, 9)\n",
      "[+] mean_std, -0.000000, 1.000000\n",
      "[+] corr with res, min = -0.000000, max = 0.000000\n",
      "\u001b[32m[+] IC = 0.057624 -> 0.057880, +++, cols_fea = 29\u001b[0m\n",
      "\u001b[32m[+] ic_eval = 0.048287, i_try = 0\u001b[0m\n",
      "[+] name = prod_m(roll(kurt_BF_power, ts_code, absmean_w(logmean_w(pre_twap, roll(max, ts_code, open_ret, trade_date, 85), pct_chg), roll(diff_sum, ts_code, close_ret, pct_chg, trade_date, 40), twap), trade_date, 75),roll(beta, ts_code, roll(corr, ts_code, close, pct_chg, trade_date, 95), change, trade_date, 85),roll(proj, ts_code, roll(argmax_BF_sqrt, ts_code, open_ret, trade_date, 5), odt(y_shift_3, pre_mean), trade_date, 15))\n",
      "[+] i - argmax = 29 - 21 = 8, es = -1\n",
      "[2024/02/11 11:13:21] mem_cur = 7.55GB = 8,111,546,368\n",
      "[2024/02/11 11:13:21] mem_max = 7.55GB = 8,111,546,368\n"
     ]
    },
    {
     "name": "stderr",
     "output_type": "stream",
     "text": [
      "\u001b[32m[I 2024-02-11 11:13:25,460]\u001b[0m A new study created in memory with name: round_30\u001b[0m\n"
     ]
    },
    {
     "data": {
      "application/vnd.jupyter.widget-view+json": {
       "model_id": "f52fc00ad6374563ba04f08b46286757",
       "version_major": 2,
       "version_minor": 0
      },
      "text/plain": [
       "  0%|          | 0/200 [00:00<?, ?it/s]"
      ]
     },
     "metadata": {},
     "output_type": "display_data"
    },
    {
     "name": "stdout",
     "output_type": "stream",
     "text": [
      "o=(200, 9), std=(134, 9), corr=(111, 9), pos=(83, 9)\n",
      "       score  score_l2       ic   ic_reg  pos_bins    ic_raw   xi_std  max_corr\n",
      "149 0.005775  0.004617 0.006714 0.002097  0.625000  0.006736 1.000000  0.278377\n",
      "35  0.005167  0.004179 0.006508 0.002328  0.593750  0.006531 1.000000  0.308186\n",
      "89  0.003791  0.003122 0.006401 0.003279  0.625000 -0.006401 1.000000  0.356724\n",
      "[+] (1464049, 29) (1464049, 30) (1464049,) (1464049,) (83, 9)\n",
      "[+] mean_std, -0.000000, 1.000000\n",
      "[+] corr with res, min = -0.000000, max = 0.000000\n",
      "\u001b[32m[+] IC = 0.057880 -> 0.058604, +++, cols_fea = 30\u001b[0m\n",
      "\u001b[32m[+] ic_eval = 0.048784, i_try = 0\u001b[0m\n",
      "[+] name = posneg_w(vwap, roll(corr, ts_code, low, twap, trade_date, 35), amount)\n",
      "[+] i - argmax = 30 - 30 = 0, es = -1\n",
      "[2024/02/11 11:14:03] mem_cur = 7.73GB = 8,301,871,104\n",
      "[2024/02/11 11:14:03] mem_max = 7.73GB = 8,301,871,104\n"
     ]
    },
    {
     "name": "stderr",
     "output_type": "stream",
     "text": [
      "\u001b[32m[I 2024-02-11 11:14:03,265]\u001b[0m A new study created in memory with name: round_31\u001b[0m\n"
     ]
    },
    {
     "data": {
      "application/vnd.jupyter.widget-view+json": {
       "model_id": "3823159f37d1454c9aa0e6b0c658ab4a",
       "version_major": 2,
       "version_minor": 0
      },
      "text/plain": [
       "  0%|          | 0/200 [00:00<?, ?it/s]"
      ]
     },
     "metadata": {},
     "output_type": "display_data"
    },
    {
     "name": "stdout",
     "output_type": "stream",
     "text": [
      "o=(200, 9), std=(149, 9), corr=(132, 9), pos=(95, 9)\n",
      "       score  score_l2       ic   ic_reg  pos_bins    ic_raw   xi_std  max_corr\n",
      "169 0.006623  0.005112 0.007104 0.001992  0.625000 -0.007121 1.000000  0.191484\n",
      "104 0.005870  0.004722 0.006069 0.001347  0.687500 -0.006085 1.000000  0.294075\n",
      "80  0.004418  0.003289 0.004999 0.001710  0.562500  0.004999 1.000000  0.108286\n",
      "[+] (1464049, 30) (1464049, 31) (1464049,) (1464049,) (95, 9)\n",
      "[+] mean_std, -0.000000, 1.000000\n",
      "[+] corr with res, min = -0.000000, max = 0.000000\n",
      "\u001b[32m[+] IC = 0.058604 -> 0.059083, +++, cols_fea = 31\u001b[0m\n",
      "\u001b[32m[+] ic_eval = 0.049551, i_try = 0\u001b[0m\n",
      "[+] name = roll(sum_BF_power, ts_code, pct_chg, trade_date, 15)\n",
      "[+] i - argmax = 31 - 31 = 0, es = -1\n",
      "[2024/02/11 11:14:41] mem_cur = 8.12GB = 8,721,235,968\n",
      "[2024/02/11 11:14:41] mem_max = 8.12GB = 8,721,235,968\n"
     ]
    },
    {
     "name": "stderr",
     "output_type": "stream",
     "text": [
      "\u001b[32m[I 2024-02-11 11:14:41,445]\u001b[0m A new study created in memory with name: round_32\u001b[0m\n"
     ]
    },
    {
     "data": {
      "application/vnd.jupyter.widget-view+json": {
       "model_id": "8fe16d83e2974513a5341cd0f85d2e89",
       "version_major": 2,
       "version_minor": 0
      },
      "text/plain": [
       "  0%|          | 0/200 [00:00<?, ?it/s]"
      ]
     },
     "metadata": {},
     "output_type": "display_data"
    },
    {
     "name": "stdout",
     "output_type": "stream",
     "text": [
      "o=(200, 9), std=(139, 9), corr=(107, 9), pos=(71, 9)\n",
      "       score  score_l2       ic   ic_reg  pos_bins    ic_raw   xi_std  max_corr\n",
      "151 0.005025  0.004408 0.006073 0.001665  0.593750 -0.006073 1.000000  0.538760\n",
      "121 0.003722  0.003143 0.004426 0.001283  0.656250  0.004451 0.990627  0.425921\n",
      "122 0.003281  0.002672 0.004695 0.002023  0.531250 -0.004695 1.000000  0.326148\n",
      "[+] (1464049, 31) (1464049, 32) (1464049,) (1464049,) (71, 9)\n",
      "[+] mean_std, 0.000000, 1.000000\n",
      "[+] corr with res, min = -0.000000, max = 0.000000\n",
      "\u001b[32m[+] IC = 0.059083 -> 0.059434, +++, cols_fea = 32\u001b[0m\n",
      "\u001b[32m[+] ic_eval = 0.048900, i_try = 0\u001b[0m\n",
      "[+] name = roll(argmin_AT_sign, ts_code, roll(logmean__skew, ts_code, vwap_ret, open, trade_date, 10), trade_date, 15)\n",
      "[+] i - argmax = 32 - 31 = 1, es = -1\n",
      "[2024/02/11 11:15:19] mem_cur = 8.33GB = 8,943,243,264\n",
      "[2024/02/11 11:15:19] mem_max = 8.33GB = 8,943,243,264\n"
     ]
    },
    {
     "name": "stderr",
     "output_type": "stream",
     "text": [
      "\u001b[32m[I 2024-02-11 11:15:19,219]\u001b[0m A new study created in memory with name: round_33\u001b[0m\n"
     ]
    },
    {
     "data": {
      "application/vnd.jupyter.widget-view+json": {
       "model_id": "3fcfdcb623de481fb8f48a654eb1de88",
       "version_major": 2,
       "version_minor": 0
      },
      "text/plain": [
       "  0%|          | 0/200 [00:00<?, ?it/s]"
      ]
     },
     "metadata": {},
     "output_type": "display_data"
    },
    {
     "name": "stdout",
     "output_type": "stream",
     "text": [
      "o=(200, 9), std=(141, 9), corr=(120, 9), pos=(82, 9)\n",
      "       score  score_l2       ic   ic_reg  pos_bins    ic_raw   xi_std  max_corr\n",
      "190 0.005070  0.003893 0.005864 0.001971  0.562500 -0.005864 1.000000  0.179105\n",
      "18  0.004669  0.003564 0.005524 0.001961  0.656250  0.005539 1.000000  0.165120\n",
      "26  0.003965  0.003053 0.004612 0.001559  0.687500 -0.004612 0.993056  0.185730\n",
      "[+] (1464049, 32) (1464049, 33) (1464049,) (1464049,) (82, 9)\n",
      "[+] mean_std, 0.000000, 1.000000\n",
      "[+] corr with res, min = -0.000000, max = 0.000000\n",
      "\u001b[32m[+] IC = 0.059434 -> 0.059654, +++, cols_fea = 33\u001b[0m\n",
      "\u001b[32m[+] ic_eval = 0.049005, i_try = 0\u001b[0m\n",
      "[+] name = absmean_w_v(roll(proj, ts_code, roll(argmax_BF_sqrt, ts_code, open_ret, trade_date, 5), odt(y_shift_3, pre_mean), trade_date, 15), roll(skew_BF_power, ts_code, close, trade_date, 70), twap, 0.20)\n",
      "[+] i - argmax = 33 - 31 = 2, es = -1\n",
      "[2024/02/11 11:15:56] mem_cur = 8.72GB = 9,363,841,024\n",
      "[2024/02/11 11:15:56] mem_max = 8.72GB = 9,363,841,024\n"
     ]
    },
    {
     "name": "stderr",
     "output_type": "stream",
     "text": [
      "\u001b[32m[I 2024-02-11 11:15:57,019]\u001b[0m A new study created in memory with name: round_34\u001b[0m\n"
     ]
    },
    {
     "data": {
      "application/vnd.jupyter.widget-view+json": {
       "model_id": "d05dc2bca90746db9c6aa8606c9dac31",
       "version_major": 2,
       "version_minor": 0
      },
      "text/plain": [
       "  0%|          | 0/200 [00:00<?, ?it/s]"
      ]
     },
     "metadata": {},
     "output_type": "display_data"
    },
    {
     "name": "stdout",
     "output_type": "stream",
     "text": [
      "o=(200, 9), std=(134, 9), corr=(109, 9), pos=(70, 9)\n",
      "       score  score_l2       ic   ic_reg  pos_bins    ic_raw   xi_std  max_corr\n",
      "158 0.004322  0.003546 0.005326 0.001780  0.625000 -0.005332 1.000000  0.346630\n",
      "134 0.003887  0.003292 0.005887 0.002595  0.531250 -0.005887 1.000000  0.434754\n",
      "170 0.003604  0.002816 0.003891 0.001075  0.625000  0.003891 1.000000  0.221009\n",
      "[+] (1464049, 33) (1464049, 34) (1464049,) (1464049,) (70, 9)\n",
      "[+] mean_std, 0.000000, 1.000000\n",
      "[+] corr with res, min = -0.000000, max = 0.000000\n",
      "\u001b[32m[+] IC = 0.059654 -> 0.059950, +++, cols_fea = 34\u001b[0m\n",
      "\u001b[32m[+] ic_eval = 0.049179, i_try = 0\u001b[0m\n",
      "[+] name = gmean_w_v(roll(sum_BF_power, ts_code, pct_chg, trade_date, 15), roll(max__powmean__argmin, ts_code, close_ret, trade_date, 60), absmean_w(logmean_w(pre_twap, roll(max, ts_code, open_ret, trade_date, 85), pct_chg), roll(diff_sum, ts_code, close_ret, pct_chg, trade_date, 40), twap), 0.32)\n",
      "[+] i - argmax = 34 - 31 = 3, es = -1\n",
      "[2024/02/11 11:16:37] mem_cur = 9.10GB = 9,765,883,904\n",
      "[2024/02/11 11:16:37] mem_max = 9.10GB = 9,774,747,648\n"
     ]
    },
    {
     "name": "stderr",
     "output_type": "stream",
     "text": [
      "\u001b[32m[I 2024-02-11 11:16:37,920]\u001b[0m A new study created in memory with name: round_35\u001b[0m\n"
     ]
    },
    {
     "data": {
      "application/vnd.jupyter.widget-view+json": {
       "model_id": "122fdfbc250048f8912c5677aef3a1d9",
       "version_major": 2,
       "version_minor": 0
      },
      "text/plain": [
       "  0%|          | 0/200 [00:00<?, ?it/s]"
      ]
     },
     "metadata": {},
     "output_type": "display_data"
    },
    {
     "name": "stdout",
     "output_type": "stream",
     "text": [
      "o=(200, 9), std=(136, 9), corr=(114, 9), pos=(78, 9)\n",
      "       score  score_l2       ic   ic_reg  pos_bins    ic_raw   xi_std  max_corr\n",
      "0   0.006311  0.004983 0.006324 0.001341  0.718750  0.006324 1.000000  0.246972\n",
      "109 0.004547  0.003893 0.006312 0.002419  0.500000  0.006321 1.000000  0.465947\n",
      "33  0.004327  0.003182 0.004635 0.001452  0.656250 -0.004651 1.000000  0.081425\n",
      "[+] (1464049, 34) (1464049, 35) (1464049,) (1464049,) (78, 9)\n",
      "[+] mean_std, 0.000000, 1.000000\n",
      "[+] corr with res, min = -0.000000, max = 0.000000\n",
      "\u001b[32m[+] IC = 0.059950 -> 0.060330, +++, cols_fea = 35\u001b[0m\n",
      "\u001b[32m[+] ic_eval = 0.048104, i_try = 0\u001b[0m\n",
      "[+] name = cutpos(roll(kurt, ts_code, close_ret, trade_date, 55))\n",
      "[+] i - argmax = 35 - 31 = 4, es = -1\n",
      "[2024/02/11 11:17:17] mem_cur = 9.51GB = 10,214,502,400\n",
      "[2024/02/11 11:17:17] mem_max = 9.53GB = 10,232,111,104\n"
     ]
    },
    {
     "name": "stderr",
     "output_type": "stream",
     "text": [
      "\u001b[32m[I 2024-02-11 11:17:17,886]\u001b[0m A new study created in memory with name: round_36\u001b[0m\n"
     ]
    },
    {
     "data": {
      "application/vnd.jupyter.widget-view+json": {
       "model_id": "8a94ab3d5162460cbaade2c8401424c3",
       "version_major": 2,
       "version_minor": 0
      },
      "text/plain": [
       "  0%|          | 0/200 [00:00<?, ?it/s]"
      ]
     },
     "metadata": {},
     "output_type": "display_data"
    },
    {
     "name": "stdout",
     "output_type": "stream",
     "text": [
      "o=(200, 9), std=(137, 9), corr=(103, 9), pos=(66, 9)\n",
      "       score  score_l2       ic   ic_reg  pos_bins    ic_raw   xi_std  max_corr\n",
      "32  0.005289  0.003881 0.004955 0.001075  0.718750 -0.004964 1.000000  0.076761\n",
      "147 0.004885  0.004001 0.005407 0.001405  0.562500 -0.005436 1.000000  0.341795\n",
      "149 0.004053  0.003269 0.005362 0.002093  0.656250 -0.005362 1.000000  0.301285\n",
      "[+] (1464049, 35) (1464049, 36) (1464049,) (1464049,) (66, 9)\n",
      "[+] mean_std, -0.000000, 1.000000\n",
      "[+] corr with res, min = -0.000000, max = 0.000000\n",
      "\u001b[32m[+] IC = 0.060330 -> 0.060515, +++, cols_fea = 36\u001b[0m\n",
      "\u001b[32m[+] ic_eval = 0.048111, i_try = 0\u001b[0m\n",
      "[+] name = prod_m(cutpos(roll(kurt, ts_code, close_ret, trade_date, 55)),odt(y_shift_3, pre_mean),roll(sum_BF_power, ts_code, pct_chg, trade_date, 15),mean_ret)\n",
      "[+] i - argmax = 36 - 31 = 5, es = -1\n",
      "[2024/02/11 11:17:57] mem_cur = 9.86GB = 10,588,631,040\n",
      "[2024/02/11 11:17:57] mem_max = 9.94GB = 10,673,786,880\n"
     ]
    },
    {
     "name": "stderr",
     "output_type": "stream",
     "text": [
      "\u001b[32m[I 2024-02-11 11:17:57,444]\u001b[0m A new study created in memory with name: round_37\u001b[0m\n"
     ]
    },
    {
     "data": {
      "application/vnd.jupyter.widget-view+json": {
       "model_id": "e9deda2522d648e6bd847ab7ac6adb13",
       "version_major": 2,
       "version_minor": 0
      },
      "text/plain": [
       "  0%|          | 0/200 [00:00<?, ?it/s]"
      ]
     },
     "metadata": {},
     "output_type": "display_data"
    },
    {
     "name": "stdout",
     "output_type": "stream",
     "text": [
      "o=(200, 9), std=(139, 9), corr=(115, 9), pos=(84, 9)\n",
      "       score  score_l2       ic   ic_reg  pos_bins    ic_raw   xi_std  max_corr\n",
      "45  0.006799  0.005480 0.008242 0.002763  0.625000 -0.008242 1.000101  0.299175\n",
      "70  0.005751  0.004664 0.008990 0.004326  0.531250  0.009021 1.000000  0.315177\n",
      "127 0.005144  0.004366 0.006267 0.001901  0.656250 -0.006267 1.000000  0.441158\n",
      "[+] (1464049, 36) (1464049, 37) (1464049,) (1464049,) (84, 9)\n",
      "[+] mean_std, -0.000000, 1.000101\n",
      "[+] corr with res, min = -0.000000, max = 0.000000\n",
      "\u001b[32m[+] IC = 0.060515 -> 0.061072, +++, cols_fea = 37\u001b[0m\n",
      "\u001b[32m[+] ic_eval = 0.047767, i_try = 0\u001b[0m\n",
      "[+] name = xdt(mean_ret, close)\n",
      "[+] i - argmax = 37 - 31 = 6, es = -1\n",
      "[2024/02/11 11:18:36] mem_cur = 10.22GB = 10,969,198,592\n",
      "[2024/02/11 11:18:36] mem_max = 10.30GB = 11,056,017,408\n"
     ]
    },
    {
     "name": "stderr",
     "output_type": "stream",
     "text": [
      "\u001b[32m[I 2024-02-11 11:18:36,317]\u001b[0m A new study created in memory with name: round_38\u001b[0m\n"
     ]
    },
    {
     "data": {
      "application/vnd.jupyter.widget-view+json": {
       "model_id": "9700f6a8550b499d81494c9163cdfc0b",
       "version_major": 2,
       "version_minor": 0
      },
      "text/plain": [
       "  0%|          | 0/200 [00:00<?, ?it/s]"
      ]
     },
     "metadata": {},
     "output_type": "display_data"
    },
    {
     "name": "stdout",
     "output_type": "stream",
     "text": [
      "o=(200, 9), std=(148, 9), corr=(116, 9), pos=(72, 9)\n",
      "       score  score_l2       ic   ic_reg  pos_bins    ic_raw   xi_std  max_corr\n",
      "184 0.004796  0.004245 0.005664 0.001418  0.687500 -0.005664 1.000000  0.567190\n",
      "127 0.003339  0.002572 0.003827 0.001255  0.562500 -0.003851 1.000000  0.186863\n",
      "165 0.003192  0.002344 0.003242 0.000897  0.562500  0.003266 1.000000  0.079175\n",
      "[+] (1464049, 37) (1464049, 38) (1464049,) (1464049,) (72, 9)\n",
      "[+] mean_std, -0.000000, 1.000000\n",
      "[+] corr with res, min = -0.000000, max = 0.000000\n",
      "\u001b[32m[+] IC = 0.061072 -> 0.061520, +++, cols_fea = 38\u001b[0m\n",
      "\u001b[32m[+] ic_eval = 0.047390, i_try = 0\u001b[0m\n",
      "[+] name = logmean_w_v(roll(argmin_AT_sign, ts_code, roll(logmean__skew, ts_code, vwap_ret, open, trade_date, 10), trade_date, 15), roll(kurt_BF_cutneg, ts_code, twap, trade_date, 20), roll(max, ts_code, open_ret, trade_date, 85), 0.18)\n",
      "[+] i - argmax = 38 - 31 = 7, es = -1\n",
      "[2024/02/11 11:19:19] mem_cur = 10.49GB = 11,265,110,016\n",
      "[2024/02/11 11:19:19] mem_max = 10.59GB = 11,367,493,632\n"
     ]
    },
    {
     "name": "stderr",
     "output_type": "stream",
     "text": [
      "\u001b[32m[I 2024-02-11 11:19:19,753]\u001b[0m A new study created in memory with name: round_39\u001b[0m\n"
     ]
    },
    {
     "data": {
      "application/vnd.jupyter.widget-view+json": {
       "model_id": "026d783af0de480998a8a3fc48250156",
       "version_major": 2,
       "version_minor": 0
      },
      "text/plain": [
       "  0%|          | 0/200 [00:00<?, ?it/s]"
      ]
     },
     "metadata": {},
     "output_type": "display_data"
    },
    {
     "name": "stdout",
     "output_type": "stream",
     "text": [
      "o=(200, 9), std=(145, 9), corr=(116, 9), pos=(83, 9)\n",
      "       score  score_l2       ic   ic_reg  pos_bins    ic_raw   xi_std  max_corr\n",
      "14  0.005362  0.004018 0.005563 0.001545  0.625000 -0.005563 1.000000  0.123068\n",
      "159 0.004276  0.003705 0.006090 0.002385  0.625000 -0.006090 1.000000  0.501141\n",
      "105 0.003301  0.002518 0.004478 0.001959  0.531250 -0.004478 1.000000  0.163819\n",
      "[+] (1464049, 38) (1464049, 39) (1464049,) (1464049,) (83, 9)\n",
      "[+] mean_std, -0.000000, 1.000000\n",
      "[+] corr with res, min = -0.000000, max = 0.000000\n",
      "\u001b[32m[+] IC = 0.061520 -> 0.061720, +++, cols_fea = 39\u001b[0m\n",
      "\u001b[32m[+] ic_eval = 0.047298, i_try = 0\u001b[0m\n",
      "[+] name = roll(beta, ts_code, roll(corr, ts_code, low, twap, trade_date, 35), posneg_w(vwap, roll(corr, ts_code, low, twap, trade_date, 35), amount), trade_date, 60)\n",
      "[+] i - argmax = 39 - 31 = 8, es = -1\n",
      "[2024/02/11 11:20:00] mem_cur = 10.49GB = 11,262,439,424\n",
      "[2024/02/11 11:20:00] mem_max = 10.60GB = 11,379,662,848\n"
     ]
    },
    {
     "name": "stderr",
     "output_type": "stream",
     "text": [
      "\u001b[32m[I 2024-02-11 11:20:05,507]\u001b[0m A new study created in memory with name: round_40\u001b[0m\n"
     ]
    },
    {
     "data": {
      "application/vnd.jupyter.widget-view+json": {
       "model_id": "5601cb3092874c7799576a839d6deacb",
       "version_major": 2,
       "version_minor": 0
      },
      "text/plain": [
       "  0%|          | 0/200 [00:00<?, ?it/s]"
      ]
     },
     "metadata": {},
     "output_type": "display_data"
    },
    {
     "name": "stdout",
     "output_type": "stream",
     "text": [
      "o=(200, 9), std=(141, 9), corr=(118, 9), pos=(88, 9)\n",
      "       score  score_l2       ic   ic_reg  pos_bins    ic_raw   xi_std  max_corr\n",
      "162 0.004481  0.003372 0.004321 0.000949  0.656250 -0.004321 1.000000  0.132537\n",
      "194 0.002008  0.001481 0.002300 0.000819  0.625000 -0.002300 1.000000  0.087619\n",
      "167 0.001974  0.001451 0.002099 0.000649  0.593750 -0.002099 1.000000  0.080739\n",
      "[+] (1466102, 39) (1466102, 40) (1466102,) (1466102,) (88, 9)\n",
      "[+] mean_std, 0.000000, 1.000000\n",
      "[+] corr with res, min = -0.000000, max = 0.000000\n",
      "\u001b[31m[+] IC = 0.061720 -> 0.060222, ---, cols_fea = 39\u001b[0m\n",
      "[+] mean_std, -0.000000, 1.000000\n",
      "[+] corr with res, min = -0.000000, max = 0.000000\n",
      "\u001b[31m[+] IC = 0.061720 -> 0.060101, ---, cols_fea = 39\u001b[0m\n",
      "[+] mean_std, -0.000000, 1.000000\n",
      "[+] corr with res, min = -0.000000, max = 0.000000\n",
      "\u001b[31m[+] IC = 0.061720 -> 0.060098, ---, cols_fea = 39\u001b[0m\n",
      "[+] mean_std, -0.000000, 1.000000\n",
      "[+] corr with res, min = -0.000000, max = 0.000000\n",
      "\u001b[31m[+] IC = 0.061720 -> 0.060373, ---, cols_fea = 39\u001b[0m\n",
      "[+] mean_std, 0.000000, 1.000000\n",
      "[+] corr with res, min = -0.000000, max = 0.000000\n",
      "\u001b[31m[+] IC = 0.061720 -> 0.060095, ---, cols_fea = 39\u001b[0m\n",
      "[+] mean_std, -0.000000, 1.000000\n",
      "[+] corr with res, min = -0.000000, max = 0.000000\n",
      "\u001b[31m[+] IC = 0.061720 -> 0.060087, ---, cols_fea = 39\u001b[0m\n",
      "[+] mean_std, 0.000000, 1.000000\n",
      "[+] corr with res, min = -0.000000, max = 0.000000\n",
      "\u001b[31m[+] IC = 0.061720 -> 0.060091, ---, cols_fea = 39\u001b[0m\n",
      "[+] mean_std, 0.000000, 1.000000\n",
      "[+] corr with res, min = -0.000000, max = 0.000000\n",
      "\u001b[31m[+] IC = 0.061720 -> 0.060107, ---, cols_fea = 39\u001b[0m\n",
      "[+] mean_std, -0.000000, 1.000000\n",
      "[+] corr with res, min = -0.000000, max = 0.000000\n",
      "\u001b[31m[+] IC = 0.061720 -> 0.060151, ---, cols_fea = 39\u001b[0m\n",
      "[+] mean_std, -0.000000, 1.000000\n",
      "[+] corr with res, min = -0.000000, max = 0.000000\n",
      "\u001b[31m[+] IC = 0.061720 -> 0.060113, ---, cols_fea = 39\u001b[0m\n",
      "\u001b[32m[+] IC = 0.060113 -> 0.060113, ===, cols_fea = 39\u001b[0m\n",
      "[+] i - argmax = 40 - 40 = 0, es = -1\n",
      "[2024/02/11 11:21:13] mem_cur = 10.38GB = 11,141,267,456\n",
      "[2024/02/11 11:21:13] mem_max = 10.60GB = 11,379,662,848\n"
     ]
    },
    {
     "name": "stderr",
     "output_type": "stream",
     "text": [
      "\u001b[32m[I 2024-02-11 11:21:13,149]\u001b[0m A new study created in memory with name: round_41\u001b[0m\n"
     ]
    },
    {
     "data": {
      "application/vnd.jupyter.widget-view+json": {
       "model_id": "7478e1be420e45e79f9cc61faf78d91a",
       "version_major": 2,
       "version_minor": 0
      },
      "text/plain": [
       "  0%|          | 0/200 [00:00<?, ?it/s]"
      ]
     },
     "metadata": {},
     "output_type": "display_data"
    },
    {
     "name": "stdout",
     "output_type": "stream",
     "text": [
      "o=(200, 9), std=(139, 9), corr=(109, 9), pos=(80, 9)\n",
      "       score  score_l2       ic   ic_reg  pos_bins    ic_raw   xi_std  max_corr\n",
      "99  0.004957  0.003955 0.006489 0.002534  0.625000 -0.006489 1.000000  0.272682\n",
      "197 0.003939  0.003074 0.004125 0.001050  0.500000 -0.004180 1.000000  0.218343\n",
      "135 0.003353  0.002527 0.005159 0.002632  0.531250  0.005186 1.000000  0.135900\n",
      "[+] (1466102, 39) (1466102, 40) (1466102,) (1466102,) (80, 9)\n",
      "[+] mean_std, -0.000000, 1.000000\n",
      "[+] corr with res, min = -0.000000, max = 0.000000\n",
      "\u001b[32m[+] IC = 0.060113 -> 0.060459, +++, cols_fea = 40\u001b[0m\n",
      "\u001b[32m[+] ic_eval = 0.045859, i_try = 0\u001b[0m\n",
      "[+] name = roll(argmin, ts_code, roll(beta, ts_code, roll(corr, ts_code, close, pct_chg, trade_date, 95), change, trade_date, 85), trade_date, 70)\n",
      "[+] i - argmax = 41 - 40 = 1, es = -1\n",
      "[2024/02/11 11:21:53] mem_cur = 10.44GB = 11,210,436,608\n",
      "[2024/02/11 11:21:53] mem_max = 10.60GB = 11,379,662,848\n"
     ]
    },
    {
     "name": "stderr",
     "output_type": "stream",
     "text": [
      "\u001b[32m[I 2024-02-11 11:21:53,730]\u001b[0m A new study created in memory with name: round_42\u001b[0m\n"
     ]
    },
    {
     "data": {
      "application/vnd.jupyter.widget-view+json": {
       "model_id": "25f8ec1edc33441ab111bf908c5e4c72",
       "version_major": 2,
       "version_minor": 0
      },
      "text/plain": [
       "  0%|          | 0/200 [00:00<?, ?it/s]"
      ]
     },
     "metadata": {},
     "output_type": "display_data"
    },
    {
     "name": "stdout",
     "output_type": "stream",
     "text": [
      "o=(200, 9), std=(143, 9), corr=(116, 9), pos=(81, 9)\n",
      "       score  score_l2       ic   ic_reg  pos_bins    ic_raw   xi_std  max_corr\n",
      "102 0.004858  0.003847 0.005038 0.001191  0.593750 -0.005038 1.000000  0.254560\n",
      "59  0.003286  0.002491 0.003520 0.001029  0.625000 -0.003545 1.000000  0.149691\n",
      "107 0.002923  0.002226 0.003664 0.001438  0.562500 -0.003664 1.000000  0.160273\n",
      "[+] (1466102, 40) (1466102, 41) (1466102,) (1466102,) (81, 9)\n",
      "[+] mean_std, 0.000000, 1.000000\n",
      "[+] corr with res, min = -0.000000, max = 0.000000\n",
      "\u001b[32m[+] IC = 0.060459 -> 0.060672, +++, cols_fea = 41\u001b[0m\n",
      "\u001b[32m[+] ic_eval = 0.045941, i_try = 0\u001b[0m\n",
      "[+] name = prod_m(y_shift_3,mean_ret,pct_chg)\n",
      "[+] i - argmax = 42 - 40 = 2, es = -1\n",
      "[2024/02/11 11:22:34] mem_cur = 10.41GB = 11,178,221,568\n",
      "[2024/02/11 11:22:34] mem_max = 10.60GB = 11,379,662,848\n"
     ]
    },
    {
     "name": "stderr",
     "output_type": "stream",
     "text": [
      "\u001b[32m[I 2024-02-11 11:22:34,423]\u001b[0m A new study created in memory with name: round_43\u001b[0m\n"
     ]
    },
    {
     "data": {
      "application/vnd.jupyter.widget-view+json": {
       "model_id": "6a8c0c1d6b9e41eeaeac6201beb207e3",
       "version_major": 2,
       "version_minor": 0
      },
      "text/plain": [
       "  0%|          | 0/200 [00:00<?, ?it/s]"
      ]
     },
     "metadata": {},
     "output_type": "display_data"
    },
    {
     "name": "stdout",
     "output_type": "stream",
     "text": [
      "o=(200, 9), std=(148, 9), corr=(115, 9), pos=(76, 9)\n",
      "       score  score_l2       ic   ic_reg  pos_bins    ic_raw   xi_std  max_corr\n",
      "173 0.003464  0.002614 0.003976 0.001362  0.625000 -0.003976 1.000000  0.139350\n",
      "106 0.002893  0.002623 0.005451 0.002828  0.562500  0.005451 1.000000  0.644600\n",
      "105 0.002445  0.001848 0.002701 0.000852  0.500000  0.002702 0.999294  0.143381\n",
      "[+] (1466102, 41) (1466102, 42) (1466102,) (1466102,) (76, 9)\n",
      "[+] mean_std, 0.000000, 1.000000\n",
      "[+] corr with res, min = -0.000000, max = 0.000000\n",
      "\u001b[32m[+] IC = 0.060672 -> 0.060808, +++, cols_fea = 42\u001b[0m\n",
      "\u001b[32m[+] ic_eval = 0.045986, i_try = 0\u001b[0m\n",
      "[+] name = prod_m(mean_ret,high,roll(beta, ts_code, y_shift_1, change, trade_date, 45))\n",
      "[+] i - argmax = 43 - 40 = 3, es = -1\n",
      "[2024/02/11 11:23:15] mem_cur = 10.27GB = 11,022,286,848\n",
      "[2024/02/11 11:23:15] mem_max = 10.60GB = 11,379,662,848\n"
     ]
    },
    {
     "name": "stderr",
     "output_type": "stream",
     "text": [
      "\u001b[32m[I 2024-02-11 11:23:15,793]\u001b[0m A new study created in memory with name: round_44\u001b[0m\n"
     ]
    },
    {
     "data": {
      "application/vnd.jupyter.widget-view+json": {
       "model_id": "fadfb7be8cde4f97ac64f16eaf11adcd",
       "version_major": 2,
       "version_minor": 0
      },
      "text/plain": [
       "  0%|          | 0/200 [00:00<?, ?it/s]"
      ]
     },
     "metadata": {},
     "output_type": "display_data"
    },
    {
     "name": "stdout",
     "output_type": "stream",
     "text": [
      "o=(200, 9), std=(140, 9), corr=(120, 9), pos=(91, 9)\n",
      "       score  score_l2       ic   ic_reg  pos_bins   ic_raw   xi_std  max_corr\n",
      "182 0.006432  0.005144 0.007685 0.002541  0.531250 0.007698 1.000000  0.279173\n",
      "51  0.004278  0.003747 0.006014 0.002268  0.593750 0.006014 1.000000  0.534207\n",
      "173 0.003983  0.003299 0.004692 0.001393  0.718750 0.004692 1.000000  0.371649\n",
      "[+] (1466102, 42) (1466102, 43) (1466102,) (1466102,) (91, 9)\n",
      "[+] mean_std, 0.000000, 1.000000\n",
      "[+] corr with res, min = -0.000000, max = 0.000000\n",
      "\u001b[32m[+] IC = 0.060808 -> 0.061292, +++, cols_fea = 43\u001b[0m\n",
      "\u001b[32m[+] ic_eval = 0.046144, i_try = 0\u001b[0m\n",
      "[+] name = roll(skew_AT_cutneg, ts_code, odt(y_shift_3, pre_mean), trade_date, 20)\n",
      "[+] i - argmax = 44 - 40 = 4, es = -1\n",
      "[2024/02/11 11:23:58] mem_cur = 10.12GB = 10,864,271,360\n",
      "[2024/02/11 11:23:58] mem_max = 10.60GB = 11,379,662,848\n"
     ]
    },
    {
     "name": "stderr",
     "output_type": "stream",
     "text": [
      "\u001b[32m[I 2024-02-11 11:23:58,935]\u001b[0m A new study created in memory with name: round_45\u001b[0m\n"
     ]
    },
    {
     "data": {
      "application/vnd.jupyter.widget-view+json": {
       "model_id": "ccb686b13255471ba24adb166bd413a9",
       "version_major": 2,
       "version_minor": 0
      },
      "text/plain": [
       "  0%|          | 0/200 [00:00<?, ?it/s]"
      ]
     },
     "metadata": {},
     "output_type": "display_data"
    },
    {
     "name": "stdout",
     "output_type": "stream",
     "text": [
      "o=(200, 9), std=(136, 9), corr=(107, 9), pos=(74, 9)\n",
      "      score  score_l2       ic   ic_reg  pos_bins    ic_raw   xi_std  max_corr\n",
      "28 0.005481  0.003925 0.004925 0.001000  0.656250 -0.004949 0.999259  0.025794\n",
      "59 0.004440  0.003751 0.005889 0.002138  0.625000 -0.005889 1.000000  0.427047\n",
      "93 0.002138  0.001745 0.003935 0.002190  0.562500 -0.003935 1.000000  0.332304\n",
      "[+] (1466102, 43) (1466102, 44) (1466102,) (1466102,) (74, 9)\n",
      "[+] mean_std, 0.000000, 0.999259\n",
      "[+] corr with res, min = -0.000000, max = 0.000000\n",
      "\u001b[32m[+] IC = 0.061292 -> 0.061529, +++, cols_fea = 44\u001b[0m\n",
      "\u001b[32m[+] ic_eval = 0.045806, i_try = 0\u001b[0m\n",
      "[+] name = roll(kurt, ts_code, xdt(mean_ret, close), trade_date, 105)\n",
      "[+] i - argmax = 45 - 40 = 5, es = -1\n",
      "[2024/02/11 11:24:42] mem_cur = 10.01GB = 10,748,223,488\n",
      "[2024/02/11 11:24:42] mem_max = 10.60GB = 11,379,662,848\n"
     ]
    },
    {
     "name": "stderr",
     "output_type": "stream",
     "text": [
      "\u001b[32m[I 2024-02-11 11:24:42,200]\u001b[0m A new study created in memory with name: round_46\u001b[0m\n"
     ]
    },
    {
     "data": {
      "application/vnd.jupyter.widget-view+json": {
       "model_id": "08f46cd9324441b1a8a081931ca297e3",
       "version_major": 2,
       "version_minor": 0
      },
      "text/plain": [
       "  0%|          | 0/200 [00:00<?, ?it/s]"
      ]
     },
     "metadata": {},
     "output_type": "display_data"
    },
    {
     "name": "stdout",
     "output_type": "stream",
     "text": [
      "o=(200, 9), std=(145, 9), corr=(116, 9), pos=(82, 9)\n",
      "       score  score_l2       ic   ic_reg  pos_bins    ic_raw   xi_std  max_corr\n",
      "34  0.003296  0.002717 0.006193 0.003476  0.593750 -0.006194 1.000000  0.358889\n",
      "167 0.003273  0.002743 0.004821 0.002078  0.531250  0.004821 1.000000  0.404145\n",
      "105 0.002932  0.002485 0.004454 0.001969  0.562500 -0.004454 1.000000  0.437204\n",
      "[+] (1466102, 44) (1466102, 45) (1466102,) (1466102,) (82, 9)\n",
      "[+] mean_std, -0.000000, 1.000000\n",
      "[+] corr with res, min = -0.000000, max = 0.000000\n",
      "\u001b[32m[+] IC = 0.061529 -> 0.062029, +++, cols_fea = 45\u001b[0m\n",
      "\u001b[32m[+] ic_eval = 0.045489, i_try = 0\u001b[0m\n",
      "[+] name = roll(argmin_BF_power, ts_code, roll(diff_sum, ts_code, close_ret, pct_chg, trade_date, 40), trade_date, 70)\n",
      "[+] i - argmax = 46 - 40 = 6, es = -1\n",
      "[2024/02/11 11:25:27] mem_cur = 9.95GB = 10,685,497,344\n",
      "[2024/02/11 11:25:27] mem_max = 10.60GB = 11,379,662,848\n"
     ]
    },
    {
     "name": "stderr",
     "output_type": "stream",
     "text": [
      "\u001b[32m[I 2024-02-11 11:25:27,593]\u001b[0m A new study created in memory with name: round_47\u001b[0m\n"
     ]
    },
    {
     "data": {
      "application/vnd.jupyter.widget-view+json": {
       "model_id": "ea436af600b646898906c048e0f709c2",
       "version_major": 2,
       "version_minor": 0
      },
      "text/plain": [
       "  0%|          | 0/200 [00:00<?, ?it/s]"
      ]
     },
     "metadata": {},
     "output_type": "display_data"
    },
    {
     "name": "stdout",
     "output_type": "stream",
     "text": [
      "o=(200, 9), std=(152, 9), corr=(120, 9), pos=(87, 9)\n",
      "       score  score_l2       ic   ic_reg  pos_bins   ic_raw   xi_std  max_corr\n",
      "144 0.004751  0.003580 0.004632 0.001052  0.656250 0.004632 1.000000  0.135555\n",
      "153 0.004242  0.003573 0.006663 0.003091  0.593750 0.006663 1.000000  0.418570\n",
      "67  0.003987  0.003048 0.004695 0.001647  0.593750 0.004702 1.000000  0.168871\n",
      "[+] (1466102, 45) (1466102, 46) (1466102,) (1466102,) (87, 9)\n",
      "[+] mean_std, -0.000000, 1.000000\n",
      "[+] corr with res, min = -0.000000, max = 0.000000\n",
      "\u001b[32m[+] IC = 0.062029 -> 0.062211, +++, cols_fea = 46\u001b[0m\n",
      "\u001b[32m[+] ic_eval = 0.045515, i_try = 0\u001b[0m\n",
      "[+] name = roll(proj, ts_code, cutpos(roll(kurt, ts_code, close_ret, trade_date, 55)), pre_open, trade_date, 55)\n",
      "[+] i - argmax = 47 - 40 = 7, es = -1\n",
      "[2024/02/11 11:26:11] mem_cur = 10.64GB = 11,425,464,320\n",
      "[2024/02/11 11:26:11] mem_max = 10.66GB = 11,442,450,432\n"
     ]
    },
    {
     "name": "stderr",
     "output_type": "stream",
     "text": [
      "\u001b[32m[I 2024-02-11 11:26:11,714]\u001b[0m A new study created in memory with name: round_48\u001b[0m\n"
     ]
    },
    {
     "data": {
      "application/vnd.jupyter.widget-view+json": {
       "model_id": "8aab67b12c494da2a50d2e5e28bcc215",
       "version_major": 2,
       "version_minor": 0
      },
      "text/plain": [
       "  0%|          | 0/200 [00:00<?, ?it/s]"
      ]
     },
     "metadata": {},
     "output_type": "display_data"
    },
    {
     "name": "stdout",
     "output_type": "stream",
     "text": [
      "o=(200, 9), std=(148, 9), corr=(117, 9), pos=(76, 9)\n",
      "       score  score_l2       ic   ic_reg  pos_bins    ic_raw   xi_std  max_corr\n",
      "162 0.003086  0.002546 0.004495 0.001949  0.625000  0.004495 1.000000  0.362010\n",
      "112 0.002967  0.002589 0.007086 0.004497  0.531250 -0.007086 1.000000  0.522087\n",
      "1   0.002912  0.002441 0.005975 0.003534  0.593750  0.005975 1.000000  0.404863\n",
      "[+] (1466102, 46) (1466102, 47) (1466102,) (1466102,) (76, 9)\n",
      "[+] mean_std, -0.000000, 1.000000\n",
      "[+] corr with res, min = -0.000000, max = 0.000000\n",
      "\u001b[31m[+] IC = 0.062211 -> 0.062310, ---, cols_fea = 46\u001b[0m\n",
      "[+] mean_std, -0.000000, 1.000000\n",
      "[+] corr with res, min = -0.000000, max = 0.000000\n",
      "\u001b[32m[+] IC = 0.062211 -> 0.062758, +++, cols_fea = 47\u001b[0m\n",
      "\u001b[32m[+] ic_eval = 0.048878, i_try = 1\u001b[0m\n",
      "[+] name = roll(min_AT_log_abs, ts_code, vol, trade_date, 55)\n",
      "[+] i - argmax = 48 - 48 = 0, es = -1\n",
      "[2024/02/11 11:26:59] mem_cur = 10.82GB = 11,614,941,184\n",
      "[2024/02/11 11:26:59] mem_max = 10.82GB = 11,614,941,184\n"
     ]
    },
    {
     "name": "stderr",
     "output_type": "stream",
     "text": [
      "\u001b[32m[I 2024-02-11 11:26:59,384]\u001b[0m A new study created in memory with name: round_49\u001b[0m\n"
     ]
    },
    {
     "data": {
      "application/vnd.jupyter.widget-view+json": {
       "model_id": "3a99a9204e1a46d7a05267a9089f3952",
       "version_major": 2,
       "version_minor": 0
      },
      "text/plain": [
       "  0%|          | 0/200 [00:00<?, ?it/s]"
      ]
     },
     "metadata": {},
     "output_type": "display_data"
    },
    {
     "name": "stdout",
     "output_type": "stream",
     "text": [
      "o=(200, 9), std=(147, 9), corr=(116, 9), pos=(86, 9)\n",
      "       score  score_l2       ic   ic_reg  pos_bins    ic_raw   xi_std  max_corr\n",
      "57  0.003654  0.002941 0.005233 0.002292  0.531250  0.005233 1.000000  0.295567\n",
      "109 0.002915  0.002291 0.003295 0.001004  0.531250  0.003330 1.000000  0.235138\n",
      "88  0.002759  0.002052 0.003132 0.001080  0.625000 -0.003132 1.000000  0.106205\n",
      "[+] (1466102, 47) (1466102, 48) (1466102,) (1466102,) (86, 9)\n",
      "[+] mean_std, -0.000000, 1.000000\n",
      "[+] corr with res, min = -0.000000, max = 0.000000\n",
      "\u001b[32m[+] IC = 0.062758 -> 0.062947, +++, cols_fea = 48\u001b[0m\n",
      "\u001b[32m[+] ic_eval = 0.048612, i_try = 0\u001b[0m\n",
      "[+] name = argmin_m(roll(alpha, ts_code, roll(beta, ts_code, roll(corr, ts_code, close, pct_chg, trade_date, 95), change, trade_date, 85), roll(corr, ts_code, close, pct_chg, trade_date, 95), trade_date, 110),pct_chg,roll(proj, ts_code, roll(argmax_BF_sqrt, ts_code, open_ret, trade_date, 5), odt(y_shift_3, pre_mean), trade_date, 15),roll(max, ts_code, roll(skew_BF_power, ts_code, close, trade_date, 70), trade_date, 35))\n",
      "[+] i - argmax = 49 - 48 = 1, es = -1\n",
      "[2024/02/11 11:27:41] mem_cur = 11.13GB = 11,951,964,160\n",
      "[2024/02/11 11:27:41] mem_max = 11.22GB = 12,048,973,824\n"
     ]
    },
    {
     "name": "stderr",
     "output_type": "stream",
     "text": [
      "\u001b[32m[I 2024-02-11 11:27:47,638]\u001b[0m A new study created in memory with name: round_50\u001b[0m\n"
     ]
    },
    {
     "data": {
      "application/vnd.jupyter.widget-view+json": {
       "model_id": "9e04f08387cc40adb10368d2d222e506",
       "version_major": 2,
       "version_minor": 0
      },
      "text/plain": [
       "  0%|          | 0/200 [00:00<?, ?it/s]"
      ]
     },
     "metadata": {},
     "output_type": "display_data"
    },
    {
     "name": "stdout",
     "output_type": "stream",
     "text": [
      "o=(200, 9), std=(144, 9), corr=(117, 9), pos=(81, 9)\n",
      "       score  score_l2       ic   ic_reg  pos_bins    ic_raw   xi_std  max_corr\n",
      "14  0.006528  0.005015 0.006448 0.001433  0.656250  0.006448 1.000000  0.180134\n",
      "77  0.004151  0.003640 0.004990 0.001350  0.593750 -0.005011 1.000000  0.538463\n",
      "101 0.003573  0.003044 0.005126 0.002082  0.531250 -0.005128 1.000000  0.451183\n",
      "[+] (1466557, 48) (1466557, 49) (1466557,) (1466557,) (81, 9)\n",
      "[+] mean_std, 0.000000, 1.000000\n",
      "[+] corr with res, min = -0.000000, max = 0.000000\n",
      "\u001b[32m[+] IC = 0.062947 -> 0.064235, +++, cols_fea = 49\u001b[0m\n",
      "\u001b[32m[+] ic_eval = 0.049088, i_try = 0\u001b[0m\n",
      "[+] name = roll(skew__ndx__max, ts_code, pct_chg, trade_date, 45)\n",
      "[+] i - argmax = 50 - 50 = 0, es = -1\n",
      "[2024/02/11 11:28:34] mem_cur = 10.89GB = 11,691,216,896\n",
      "[2024/02/11 11:28:34] mem_max = 11.22GB = 12,048,973,824\n"
     ]
    },
    {
     "name": "stderr",
     "output_type": "stream",
     "text": [
      "\u001b[32m[I 2024-02-11 11:28:34,152]\u001b[0m A new study created in memory with name: round_51\u001b[0m\n"
     ]
    },
    {
     "data": {
      "application/vnd.jupyter.widget-view+json": {
       "model_id": "d3931e53896f48f98955431aad54e24e",
       "version_major": 2,
       "version_minor": 0
      },
      "text/plain": [
       "  0%|          | 0/200 [00:00<?, ?it/s]"
      ]
     },
     "metadata": {},
     "output_type": "display_data"
    },
    {
     "name": "stdout",
     "output_type": "stream",
     "text": [
      "o=(200, 9), std=(148, 9), corr=(116, 9), pos=(79, 9)\n",
      "       score  score_l2       ic   ic_reg  pos_bins    ic_raw   xi_std  max_corr\n",
      "162 0.004369  0.003840 0.005653 0.001813  0.687500  0.005653 1.000000  0.544735\n",
      "182 0.003967  0.002902 0.004240 0.001338  0.656250 -0.004240 1.000000  0.069976\n",
      "23  0.003255  0.002797 0.005132 0.002335  0.562500 -0.005137 1.000000  0.476761\n",
      "[+] (1466557, 49) (1466557, 50) (1466557,) (1466557,) (79, 9)\n",
      "[+] mean_std, -0.000000, 1.000000\n",
      "[+] corr with res, min = -0.000000, max = 0.000000\n",
      "\u001b[32m[+] IC = 0.064235 -> 0.064550, +++, cols_fea = 50\u001b[0m\n",
      "\u001b[32m[+] ic_eval = 0.049245, i_try = 0\u001b[0m\n",
      "[+] name = roll(min_BF_power, ts_code, amq(vol, pre_close), trade_date, 110)\n",
      "[+] i - argmax = 51 - 51 = 0, es = -1\n",
      "[2024/02/11 11:29:17] mem_cur = 11.00GB = 11,814,535,168\n",
      "[2024/02/11 11:29:17] mem_max = 11.22GB = 12,048,973,824\n"
     ]
    },
    {
     "name": "stderr",
     "output_type": "stream",
     "text": [
      "\u001b[32m[I 2024-02-11 11:29:17,334]\u001b[0m A new study created in memory with name: round_52\u001b[0m\n"
     ]
    },
    {
     "data": {
      "application/vnd.jupyter.widget-view+json": {
       "model_id": "6c87bb98c784466ea7b21ad56813c088",
       "version_major": 2,
       "version_minor": 0
      },
      "text/plain": [
       "  0%|          | 0/200 [00:00<?, ?it/s]"
      ]
     },
     "metadata": {},
     "output_type": "display_data"
    },
    {
     "name": "stdout",
     "output_type": "stream",
     "text": [
      "o=(200, 9), std=(140, 9), corr=(108, 9), pos=(73, 9)\n",
      "       score  score_l2       ic   ic_reg  pos_bins   ic_raw   xi_std  max_corr\n",
      "165 0.005831  0.004808 0.008022 0.003215  0.562500 0.008022 1.000000  0.359755\n",
      "68  0.004718  0.003460 0.004662 0.001202  0.593750 0.004662 0.988539  0.075562\n",
      "189 0.004617  0.003842 0.006133 0.002291  0.593750 0.006133 1.000000  0.384778\n",
      "[+] (1466557, 50) (1466557, 51) (1466557,) (1466557,) (73, 9)\n",
      "[+] mean_std, 0.000000, 1.000000\n",
      "[+] corr with res, min = -0.000000, max = 0.000000\n",
      "\u001b[32m[+] IC = 0.064550 -> 0.065148, +++, cols_fea = 51\u001b[0m\n",
      "\u001b[32m[+] ic_eval = 0.048660, i_try = 0\u001b[0m\n",
      "[+] name = sqrtmean_w(logmean_w_v(roll(argmin_AT_sign, ts_code, roll(logmean__skew, ts_code, vwap_ret, open, trade_date, 10), trade_date, 15), roll(kurt_BF_cutneg, ts_code, twap, trade_date, 20), roll(max, ts_code, open_ret, trade_date, 85), 0.18), vwap, pct_chg)\n",
      "[+] i - argmax = 52 - 51 = 1, es = -1\n",
      "[2024/02/11 11:30:09] mem_cur = 11.64GB = 12,495,663,104\n",
      "[2024/02/11 11:30:09] mem_max = 11.64GB = 12,495,663,104\n"
     ]
    },
    {
     "name": "stderr",
     "output_type": "stream",
     "text": [
      "\u001b[32m[I 2024-02-11 11:30:09,065]\u001b[0m A new study created in memory with name: round_53\u001b[0m\n"
     ]
    },
    {
     "data": {
      "application/vnd.jupyter.widget-view+json": {
       "model_id": "3c2f27c72f134f3ca6157f7a42cd4943",
       "version_major": 2,
       "version_minor": 0
      },
      "text/plain": [
       "  0%|          | 0/200 [00:00<?, ?it/s]"
      ]
     },
     "metadata": {},
     "output_type": "display_data"
    },
    {
     "name": "stdout",
     "output_type": "stream",
     "text": [
      "o=(200, 9), std=(147, 9), corr=(116, 9), pos=(84, 9)\n",
      "       score  score_l2       ic   ic_reg  pos_bins    ic_raw   xi_std  max_corr\n",
      "33  0.006814  0.005328 0.007521 0.002193  0.625000  0.007521 1.000000  0.222672\n",
      "150 0.006784  0.005389 0.006122 0.000733  0.781250 -0.006122 1.000000  0.261903\n",
      "39  0.004690  0.004072 0.006152 0.002079  0.562500 -0.006199 1.000000  0.508038\n",
      "[+] (1466557, 51) (1466557, 52) (1466557,) (1466557,) (84, 9)\n",
      "[+] mean_std, -0.000000, 1.000000\n",
      "[+] corr with res, min = -0.000000, max = 0.000000\n",
      "\u001b[32m[+] IC = 0.065148 -> 0.065608, +++, cols_fea = 52\u001b[0m\n",
      "\u001b[32m[+] ic_eval = 0.049300, i_try = 0\u001b[0m\n",
      "[+] name = roll(corr, ts_code, twap_ret, roll(diff_sum, ts_code, close_ret, pct_chg, trade_date, 40), trade_date, 110)\n",
      "[+] i - argmax = 53 - 53 = 0, es = -1\n",
      "[2024/02/11 11:30:54] mem_cur = 11.73GB = 12,591,976,448\n",
      "[2024/02/11 11:30:54] mem_max = 11.77GB = 12,638,273,536\n"
     ]
    },
    {
     "name": "stderr",
     "output_type": "stream",
     "text": [
      "\u001b[32m[I 2024-02-11 11:30:54,869]\u001b[0m A new study created in memory with name: round_54\u001b[0m\n"
     ]
    },
    {
     "data": {
      "application/vnd.jupyter.widget-view+json": {
       "model_id": "6c03131372c7484a9a4444b79696a764",
       "version_major": 2,
       "version_minor": 0
      },
      "text/plain": [
       "  0%|          | 0/200 [00:00<?, ?it/s]"
      ]
     },
     "metadata": {},
     "output_type": "display_data"
    },
    {
     "name": "stdout",
     "output_type": "stream",
     "text": [
      "o=(200, 9), std=(150, 9), corr=(110, 9), pos=(72, 9)\n",
      "       score  score_l2       ic   ic_reg  pos_bins    ic_raw   xi_std  max_corr\n",
      "139 0.005560  0.004418 0.006770 0.002352  0.625000  0.006770 1.000000  0.262610\n",
      "39  0.002637  0.002174 0.004092 0.001918  0.531250  0.004092 1.000000  0.358841\n",
      "199 0.001762  0.001280 0.002146 0.000865  0.531250 -0.002158 1.000000  0.055514\n",
      "[+] (1466557, 52) (1466557, 53) (1466557,) (1466557,) (72, 9)\n",
      "[+] mean_std, 0.000000, 1.000000\n",
      "[+] corr with res, min = -0.000000, max = 0.000000\n",
      "\u001b[32m[+] IC = 0.065608 -> 0.066006, +++, cols_fea = 53\u001b[0m\n",
      "\u001b[32m[+] ic_eval = 0.049983, i_try = 0\u001b[0m\n",
      "[+] name = gmean_v(vwap, roll(alpha, ts_code, roll(beta, ts_code, roll(corr, ts_code, close, pct_chg, trade_date, 95), change, trade_date, 85), roll(corr, ts_code, close, pct_chg, trade_date, 95), trade_date, 110), 1.00)\n",
      "[+] i - argmax = 54 - 54 = 0, es = -1\n",
      "[2024/02/11 11:31:42] mem_cur = 11.87GB = 12,748,124,160\n",
      "[2024/02/11 11:31:42] mem_max = 11.92GB = 12,803,457,024\n"
     ]
    },
    {
     "name": "stderr",
     "output_type": "stream",
     "text": [
      "\u001b[32m[I 2024-02-11 11:31:42,742]\u001b[0m A new study created in memory with name: round_55\u001b[0m\n"
     ]
    },
    {
     "data": {
      "application/vnd.jupyter.widget-view+json": {
       "model_id": "117782a6a2274e23bf6993b6f0147e14",
       "version_major": 2,
       "version_minor": 0
      },
      "text/plain": [
       "  0%|          | 0/200 [00:00<?, ?it/s]"
      ]
     },
     "metadata": {},
     "output_type": "display_data"
    },
    {
     "name": "stdout",
     "output_type": "stream",
     "text": [
      "o=(200, 9), std=(138, 9), corr=(101, 9), pos=(70, 9)\n",
      "       score  score_l2       ic   ic_reg  pos_bins    ic_raw   xi_std  max_corr\n",
      "68  0.004827  0.004003 0.005372 0.001369  0.562500 -0.005372 1.000000  0.375043\n",
      "93  0.004129  0.003209 0.004186 0.000977  0.718750 -0.004236 1.000000  0.208519\n",
      "124 0.003888  0.003147 0.004842 0.001695  0.625000 -0.004856 1.000000  0.310563\n",
      "[+] (1466557, 53) (1466557, 54) (1466557,) (1466557,) (70, 9)\n",
      "[+] mean_std, -0.000000, 1.000000\n",
      "[+] corr with res, min = -0.000000, max = 0.000000\n",
      "\u001b[32m[+] IC = 0.066006 -> 0.066252, +++, cols_fea = 54\u001b[0m\n",
      "\u001b[32m[+] ic_eval = 0.050055, i_try = 0\u001b[0m\n",
      "[+] name = powmean_w(mean, roll(beta, ts_code, y_shift_1, change, trade_date, 45), roll(corr, ts_code, twap_ret, roll(diff_sum, ts_code, close_ret, pct_chg, trade_date, 40), trade_date, 110))\n",
      "[+] i - argmax = 55 - 55 = 0, es = -1\n",
      "[2024/02/11 11:32:26] mem_cur = 11.97GB = 12,848,082,944\n",
      "[2024/02/11 11:32:26] mem_max = 12.06GB = 12,947,279,872\n"
     ]
    },
    {
     "name": "stderr",
     "output_type": "stream",
     "text": [
      "\u001b[32m[I 2024-02-11 11:32:26,308]\u001b[0m A new study created in memory with name: round_56\u001b[0m\n"
     ]
    },
    {
     "data": {
      "application/vnd.jupyter.widget-view+json": {
       "model_id": "bbc64606ba0c4b4cbd04b91b8b432b10",
       "version_major": 2,
       "version_minor": 0
      },
      "text/plain": [
       "  0%|          | 0/200 [00:00<?, ?it/s]"
      ]
     },
     "metadata": {},
     "output_type": "display_data"
    },
    {
     "name": "stdout",
     "output_type": "stream",
     "text": [
      "o=(200, 9), std=(137, 9), corr=(101, 9), pos=(68, 9)\n",
      "       score  score_l2       ic   ic_reg  pos_bins   ic_raw   xi_std  max_corr\n",
      "101 0.003757  0.002681 0.003440 0.000759  0.625000 0.003481 1.000000  0.018232\n",
      "161 0.003341  0.002737 0.005461 0.002724  0.562500 0.005461 1.000000  0.342647\n",
      "152 0.003039  0.002441 0.004356 0.001914  0.562500 0.004379 0.999941  0.291110\n",
      "[+] (1466557, 54) (1466557, 55) (1466557,) (1466557,) (68, 9)\n",
      "[+] mean_std, -0.000000, 1.000000\n",
      "[+] corr with res, min = -0.000000, max = 0.000000\n",
      "\u001b[31m[+] IC = 0.066252 -> 0.066340, ---, cols_fea = 54\u001b[0m\n",
      "[+] mean_std, 0.000000, 1.000000\n",
      "[+] corr with res, min = -0.000000, max = 0.000000\n",
      "\u001b[32m[+] IC = 0.066252 -> 0.066386, +++, cols_fea = 55\u001b[0m\n",
      "\u001b[32m[+] ic_eval = 0.049582, i_try = 1\u001b[0m\n",
      "[+] name = roll(corr, ts_code, pre_open, mean_ret, trade_date, 70)\n",
      "[+] i - argmax = 56 - 55 = 1, es = -1\n",
      "[2024/02/11 11:33:15] mem_cur = 12.06GB = 12,945,993,728\n",
      "[2024/02/11 11:33:15] mem_max = 12.08GB = 12,975,828,992\n"
     ]
    },
    {
     "name": "stderr",
     "output_type": "stream",
     "text": [
      "\u001b[32m[I 2024-02-11 11:33:15,748]\u001b[0m A new study created in memory with name: round_57\u001b[0m\n"
     ]
    },
    {
     "data": {
      "application/vnd.jupyter.widget-view+json": {
       "model_id": "a80a9d004d77447895329a7a5d0b17e3",
       "version_major": 2,
       "version_minor": 0
      },
      "text/plain": [
       "  0%|          | 0/200 [00:00<?, ?it/s]"
      ]
     },
     "metadata": {},
     "output_type": "display_data"
    },
    {
     "name": "stdout",
     "output_type": "stream",
     "text": [
      "o=(200, 9), std=(143, 9), corr=(109, 9), pos=(71, 9)\n",
      "       score  score_l2       ic   ic_reg  pos_bins    ic_raw   xi_std  max_corr\n",
      "192 0.002803  0.002219 0.002868 0.000649  0.593750  0.002883 1.000000  0.252997\n",
      "28  0.002231  0.001793 0.003638 0.001846  0.562500 -0.003638 0.999941  0.291153\n",
      "163 0.002181  0.001892 0.002791 0.000899  0.531250 -0.002811 1.000000  0.505579\n",
      "[+] (1466557, 55) (1466557, 56) (1466557,) (1466557,) (71, 9)\n",
      "[+] mean_std, 0.000000, 1.000000\n",
      "[+] corr with res, min = -0.000000, max = 0.000000\n",
      "\u001b[31m[+] IC = 0.066386 -> 0.066465, ---, cols_fea = 55\u001b[0m\n",
      "[+] mean_std, 0.000000, 0.999941\n",
      "[+] corr with res, min = -0.000000, max = 0.000000\n",
      "\u001b[32m[+] IC = 0.066386 -> 0.066525, +++, cols_fea = 56\u001b[0m\n",
      "\u001b[32m[+] ic_eval = 0.049627, i_try = 1\u001b[0m\n",
      "[+] name = roll(argmin_AT_nonan, ts_code, twap, trade_date, 30)\n",
      "[+] i - argmax = 57 - 55 = 2, es = -1\n",
      "[2024/02/11 11:34:07] mem_cur = 11.88GB = 12,756,340,736\n",
      "[2024/02/11 11:34:07] mem_max = 12.08GB = 12,975,828,992\n"
     ]
    },
    {
     "name": "stderr",
     "output_type": "stream",
     "text": [
      "\u001b[32m[I 2024-02-11 11:34:07,128]\u001b[0m A new study created in memory with name: round_58\u001b[0m\n"
     ]
    },
    {
     "data": {
      "application/vnd.jupyter.widget-view+json": {
       "model_id": "33089a8842264927b22d91c8531607f3",
       "version_major": 2,
       "version_minor": 0
      },
      "text/plain": [
       "  0%|          | 0/200 [00:00<?, ?it/s]"
      ]
     },
     "metadata": {},
     "output_type": "display_data"
    },
    {
     "name": "stdout",
     "output_type": "stream",
     "text": [
      "o=(200, 9), std=(138, 9), corr=(110, 9), pos=(69, 9)\n",
      "       score  score_l2       ic   ic_reg  pos_bins    ic_raw   xi_std  max_corr\n",
      "45  0.003940  0.003278 0.005919 0.002642  0.562500  0.005929 1.000000  0.383764\n",
      "158 0.003245  0.002485 0.003407 0.000923  0.687500  0.003437 1.000000  0.172952\n",
      "199 0.003218  0.002407 0.003993 0.001586  0.531250 -0.003993 1.000000  0.119534\n",
      "[+] (1466557, 56) (1466557, 57) (1466557,) (1466557,) (69, 9)\n",
      "[+] mean_std, 0.000000, 1.000000\n",
      "[+] corr with res, min = -0.000000, max = 0.000000\n",
      "\u001b[32m[+] IC = 0.066525 -> 0.066702, +++, cols_fea = 57\u001b[0m\n",
      "\u001b[32m[+] ic_eval = 0.049445, i_try = 0\u001b[0m\n",
      "[+] name = roll(gmean__max, ts_code, roll(corr, ts_code, pre_open, mean_ret, trade_date, 70), roll(argmax_BF_sqrt, ts_code, open_ret, trade_date, 5), trade_date, 35)\n",
      "[+] i - argmax = 58 - 55 = 3, es = -1\n",
      "[2024/02/11 11:34:54] mem_cur = 11.81GB = 12,677,853,184\n",
      "[2024/02/11 11:34:54] mem_max = 12.08GB = 12,975,828,992\n"
     ]
    },
    {
     "name": "stderr",
     "output_type": "stream",
     "text": [
      "\u001b[32m[I 2024-02-11 11:34:54,135]\u001b[0m A new study created in memory with name: round_59\u001b[0m\n"
     ]
    },
    {
     "data": {
      "application/vnd.jupyter.widget-view+json": {
       "model_id": "4ef86d1e42b547cf9477413e9cfe80c7",
       "version_major": 2,
       "version_minor": 0
      },
      "text/plain": [
       "  0%|          | 0/200 [00:00<?, ?it/s]"
      ]
     },
     "metadata": {},
     "output_type": "display_data"
    },
    {
     "name": "stdout",
     "output_type": "stream",
     "text": [
      "o=(200, 9), std=(145, 9), corr=(120, 9), pos=(84, 9)\n",
      "       score  score_l2       ic   ic_reg  pos_bins    ic_raw   xi_std  max_corr\n",
      "53  0.003096  0.002653 0.005905 0.003251  0.531250 -0.005924 1.000000  0.468967\n",
      "196 0.002229  0.001663 0.002255 0.000592  0.625000  0.002257 1.000000  0.113459\n",
      "41  0.002200  0.001740 0.003276 0.001536  0.593750  0.003294 1.000000  0.251291\n",
      "[+] (1466557, 57) (1466557, 58) (1466557,) (1466557,) (84, 9)\n",
      "[+] mean_std, 0.000000, 1.000000\n",
      "[+] corr with res, min = -0.000000, max = 0.000000\n",
      "\u001b[32m[+] IC = 0.066702 -> 0.067095, +++, cols_fea = 58\u001b[0m\n",
      "\u001b[32m[+] ic_eval = 0.049895, i_try = 0\u001b[0m\n",
      "[+] name = roll(mean_AT_log_abs, ts_code, odt(y_shift_3, pre_mean), trade_date, 70)\n",
      "[+] i - argmax = 59 - 55 = 4, es = -1\n",
      "[2024/02/11 11:35:44] mem_cur = 11.82GB = 12,691,980,288\n",
      "[2024/02/11 11:35:44] mem_max = 12.08GB = 12,975,828,992\n"
     ]
    },
    {
     "name": "stderr",
     "output_type": "stream",
     "text": [
      "\u001b[32m[I 2024-02-11 11:35:52,289]\u001b[0m A new study created in memory with name: round_60\u001b[0m\n"
     ]
    },
    {
     "data": {
      "application/vnd.jupyter.widget-view+json": {
       "model_id": "863adca2a4d4422587187ba4b2616da2",
       "version_major": 2,
       "version_minor": 0
      },
      "text/plain": [
       "  0%|          | 0/200 [00:00<?, ?it/s]"
      ]
     },
     "metadata": {},
     "output_type": "display_data"
    },
    {
     "name": "stdout",
     "output_type": "stream",
     "text": [
      "o=(200, 9), std=(156, 9), corr=(115, 9), pos=(78, 9)\n",
      "       score  score_l2       ic   ic_reg  pos_bins    ic_raw   xi_std  max_corr\n",
      "46  0.004974  0.003846 0.004717 0.000871  0.625000 -0.004720 1.000000  0.195502\n",
      "24  0.003115  0.002369 0.003159 0.000790  0.562500 -0.003159 1.000000  0.156833\n",
      "158 0.002384  0.001869 0.003718 0.001849  0.562500 -0.003718 1.000000  0.229283\n",
      "[+] (1464377, 58) (1464377, 59) (1464377,) (1464377,) (78, 9)\n",
      "[+] mean_std, -0.000000, 1.000000\n",
      "[+] corr with res, min = -0.000000, max = 0.000000\n",
      "\u001b[31m[+] IC = 0.067095 -> 0.065649, ---, cols_fea = 58\u001b[0m\n",
      "[+] mean_std, 0.000000, 1.000000\n",
      "[+] corr with res, min = -0.000000, max = 0.000000\n",
      "\u001b[31m[+] IC = 0.067095 -> 0.065525, ---, cols_fea = 58\u001b[0m\n",
      "[+] mean_std, 0.000000, 1.000000\n",
      "[+] corr with res, min = -0.000000, max = 0.000000\n",
      "\u001b[31m[+] IC = 0.067095 -> 0.065538, ---, cols_fea = 58\u001b[0m\n",
      "[+] mean_std, -0.000000, 0.961010\n",
      "[+] corr with res, min = -0.000000, max = 0.000000\n",
      "\u001b[31m[+] IC = 0.067095 -> 0.065531, ---, cols_fea = 58\u001b[0m\n",
      "[+] mean_std, 0.000000, 1.000000\n",
      "[+] corr with res, min = -0.000000, max = 0.000000\n",
      "\u001b[31m[+] IC = 0.067095 -> 0.065498, ---, cols_fea = 58\u001b[0m\n",
      "[+] mean_std, -0.000000, 1.000000\n",
      "[+] corr with res, min = -0.000000, max = 0.000000\n",
      "\u001b[31m[+] IC = 0.067095 -> 0.065496, ---, cols_fea = 58\u001b[0m\n",
      "[+] mean_std, 0.000000, 1.000000\n",
      "[+] corr with res, min = -0.000000, max = 0.000000\n",
      "\u001b[31m[+] IC = 0.067095 -> 0.065491, ---, cols_fea = 58\u001b[0m\n",
      "[+] mean_std, 0.000000, 1.000000\n",
      "[+] corr with res, min = -0.000000, max = 0.000000\n",
      "\u001b[31m[+] IC = 0.067095 -> 0.065479, ---, cols_fea = 58\u001b[0m\n",
      "[+] mean_std, 0.000000, 1.000000\n",
      "[+] corr with res, min = -0.000000, max = 0.000000\n",
      "\u001b[31m[+] IC = 0.067095 -> 0.065530, ---, cols_fea = 58\u001b[0m\n",
      "[+] mean_std, 0.000000, 1.000000\n",
      "[+] corr with res, min = -0.000000, max = 0.000000\n",
      "\u001b[31m[+] IC = 0.067095 -> 0.065477, ---, cols_fea = 58\u001b[0m\n",
      "\u001b[32m[+] IC = 0.065477 -> 0.065477, ===, cols_fea = 58\u001b[0m\n",
      "[+] i - argmax = 60 - 60 = 0, es = -1\n",
      "[2024/02/11 11:37:17] mem_cur = 11.72GB = 12,588,371,968\n",
      "[2024/02/11 11:37:17] mem_max = 12.08GB = 12,975,828,992\n"
     ]
    },
    {
     "name": "stderr",
     "output_type": "stream",
     "text": [
      "\u001b[32m[I 2024-02-11 11:37:17,461]\u001b[0m A new study created in memory with name: round_61\u001b[0m\n"
     ]
    },
    {
     "data": {
      "application/vnd.jupyter.widget-view+json": {
       "model_id": "2103fa7b69dc44e2b7677b2532d113f4",
       "version_major": 2,
       "version_minor": 0
      },
      "text/plain": [
       "  0%|          | 0/200 [00:00<?, ?it/s]"
      ]
     },
     "metadata": {},
     "output_type": "display_data"
    },
    {
     "name": "stdout",
     "output_type": "stream",
     "text": [
      "o=(200, 9), std=(152, 9), corr=(115, 9), pos=(77, 9)\n",
      "       score  score_l2       ic   ic_reg  pos_bins    ic_raw   xi_std  max_corr\n",
      "1   0.007483  0.005838 0.007750 0.001912  0.687500 -0.007750 1.000000  0.217369\n",
      "23  0.004995  0.003673 0.005206 0.001534  0.593750 -0.005236 1.000000  0.081510\n",
      "130 0.002860  0.002355 0.006347 0.003992  0.531250 -0.006355 1.000000  0.355912\n",
      "[+] (1464377, 58) (1464377, 59) (1464377,) (1464377,) (77, 9)\n",
      "[+] mean_std, 0.000000, 1.000000\n",
      "[+] corr with res, min = -0.000000, max = 0.000000\n",
      "\u001b[32m[+] IC = 0.065477 -> 0.065881, +++, cols_fea = 59\u001b[0m\n",
      "\u001b[32m[+] ic_eval = 0.053264, i_try = 0\u001b[0m\n",
      "[+] name = roll(skew_BF_sqrt, ts_code, low, trade_date, 35)\n",
      "[+] i - argmax = 61 - 61 = 0, es = -1\n",
      "[2024/02/11 11:38:03] mem_cur = 11.84GB = 12,710,387,712\n",
      "[2024/02/11 11:38:03] mem_max = 12.08GB = 12,975,828,992\n"
     ]
    },
    {
     "name": "stderr",
     "output_type": "stream",
     "text": [
      "\u001b[32m[I 2024-02-11 11:38:03,334]\u001b[0m A new study created in memory with name: round_62\u001b[0m\n"
     ]
    },
    {
     "data": {
      "application/vnd.jupyter.widget-view+json": {
       "model_id": "065eb6d33f54486eb5f9ef25840f094b",
       "version_major": 2,
       "version_minor": 0
      },
      "text/plain": [
       "  0%|          | 0/200 [00:00<?, ?it/s]"
      ]
     },
     "metadata": {},
     "output_type": "display_data"
    },
    {
     "name": "stdout",
     "output_type": "stream",
     "text": [
      "o=(200, 9), std=(151, 9), corr=(103, 9), pos=(58, 9)\n",
      "       score  score_l2       ic   ic_reg  pos_bins    ic_raw   xi_std  max_corr\n",
      "121 0.005001  0.003902 0.006408 0.002506  0.625000 -0.006408 1.000000  0.217898\n",
      "139 0.003929  0.003155 0.005653 0.002499  0.531250  0.005653 1.000000  0.289306\n",
      "198 0.003262  0.002468 0.003580 0.001112  0.718750 -0.003580 1.000000  0.144464\n",
      "[+] (1464377, 59) (1464377, 60) (1464377,) (1464377,) (58, 9)\n",
      "[+] mean_std, -0.000000, 1.000000\n",
      "[+] corr with res, min = -0.000000, max = 0.000000\n",
      "\u001b[32m[+] IC = 0.065881 -> 0.066152, +++, cols_fea = 60\u001b[0m\n",
      "\u001b[32m[+] ic_eval = 0.052055, i_try = 0\u001b[0m\n",
      "[+] name = roll(proj, ts_code, roll(corr, ts_code, pre_open, mean_ret, trade_date, 70), logmean_w(pre_twap, roll(max, ts_code, open_ret, trade_date, 85), pct_chg), trade_date, 15)\n",
      "[+] i - argmax = 62 - 61 = 1, es = -1\n",
      "[2024/02/11 11:38:50] mem_cur = 12.02GB = 12,904,710,144\n",
      "[2024/02/11 11:38:50] mem_max = 12.08GB = 12,975,828,992\n"
     ]
    },
    {
     "name": "stderr",
     "output_type": "stream",
     "text": [
      "\u001b[32m[I 2024-02-11 11:38:50,083]\u001b[0m A new study created in memory with name: round_63\u001b[0m\n"
     ]
    },
    {
     "data": {
      "application/vnd.jupyter.widget-view+json": {
       "model_id": "41dc2eab142b47c79ce3da22616c2c83",
       "version_major": 2,
       "version_minor": 0
      },
      "text/plain": [
       "  0%|          | 0/200 [00:00<?, ?it/s]"
      ]
     },
     "metadata": {},
     "output_type": "display_data"
    },
    {
     "name": "stdout",
     "output_type": "stream",
     "text": [
      "o=(200, 9), std=(151, 9), corr=(122, 9), pos=(85, 9)\n",
      "       score  score_l2       ic   ic_reg  pos_bins    ic_raw   xi_std  max_corr\n",
      "147 0.003752  0.003099 0.004061 0.000962  0.625000  0.004082 1.000000  0.364710\n",
      "86  0.003056  0.002567 0.004791 0.002224  0.531250 -0.004827 1.000000  0.411630\n",
      "191 0.002831  0.002195 0.003233 0.001038  0.593750 -0.003233 1.000000  0.202310\n",
      "[+] (1464377, 60) (1464377, 61) (1464377,) (1464377,) (85, 9)\n",
      "[+] mean_std, 0.000000, 1.000000\n",
      "[+] corr with res, min = -0.000000, max = 0.000000\n",
      "\u001b[32m[+] IC = 0.066152 -> 0.066337, +++, cols_fea = 61\u001b[0m\n",
      "\u001b[32m[+] ic_eval = 0.051924, i_try = 0\u001b[0m\n",
      "[+] name = gmean_w_v(roll(skew__ndx__max, ts_code, pct_chg, trade_date, 45), roll(beta, ts_code, y_shift_1, change, trade_date, 45), mean_ret, 0.64)\n",
      "[+] i - argmax = 63 - 61 = 2, es = -1\n",
      "[2024/02/11 11:39:39] mem_cur = 11.97GB = 12,854,689,792\n",
      "[2024/02/11 11:39:39] mem_max = 12.08GB = 12,975,828,992\n"
     ]
    },
    {
     "name": "stderr",
     "output_type": "stream",
     "text": [
      "\u001b[32m[I 2024-02-11 11:39:39,164]\u001b[0m A new study created in memory with name: round_64\u001b[0m\n"
     ]
    },
    {
     "data": {
      "application/vnd.jupyter.widget-view+json": {
       "model_id": "c98c3fa92f3f4319a69d42dea609ed9d",
       "version_major": 2,
       "version_minor": 0
      },
      "text/plain": [
       "  0%|          | 0/200 [00:00<?, ?it/s]"
      ]
     },
     "metadata": {},
     "output_type": "display_data"
    },
    {
     "name": "stdout",
     "output_type": "stream",
     "text": [
      "o=(200, 9), std=(149, 9), corr=(123, 9), pos=(81, 9)\n",
      "       score  score_l2       ic   ic_reg  pos_bins    ic_raw   xi_std  max_corr\n",
      "45  0.011991  0.009665 0.014000 0.004335  0.593750 -0.014000 0.963690  0.299361\n",
      "60  0.003934  0.003209 0.005971 0.002762  0.562500 -0.006001 1.000000  0.330919\n",
      "150 0.003660  0.002679 0.004105 0.001426  0.593750  0.004111 1.000000  0.071573\n",
      "[+] (1464377, 61) (1464377, 62) (1464377,) (1464377,) (81, 9)\n",
      "[+] mean_std, 0.000000, 0.963691\n",
      "[+] corr with res, min = -0.000000, max = 0.000000\n",
      "\u001b[32m[+] IC = 0.066337 -> 0.066903, +++, cols_fea = 62\u001b[0m\n",
      "\u001b[32m[+] ic_eval = 0.051884, i_try = 0\u001b[0m\n",
      "[+] name = agg(firstv__amq__o, trade_date, roll(max__invmeant__argmin, ts_code, close, trade_date, 120))\n",
      "[+] i - argmax = 64 - 61 = 3, es = -1\n",
      "[2024/02/11 11:40:28] mem_cur = 11.94GB = 12,816,887,808\n",
      "[2024/02/11 11:40:28] mem_max = 12.22GB = 13,117,853,696\n"
     ]
    },
    {
     "name": "stderr",
     "output_type": "stream",
     "text": [
      "\u001b[32m[I 2024-02-11 11:40:28,244]\u001b[0m A new study created in memory with name: round_65\u001b[0m\n"
     ]
    },
    {
     "data": {
      "application/vnd.jupyter.widget-view+json": {
       "model_id": "efcfe3b794364526a5dbcd5627aed6b9",
       "version_major": 2,
       "version_minor": 0
      },
      "text/plain": [
       "  0%|          | 0/200 [00:00<?, ?it/s]"
      ]
     },
     "metadata": {},
     "output_type": "display_data"
    },
    {
     "name": "stdout",
     "output_type": "stream",
     "text": [
      "o=(200, 9), std=(145, 9), corr=(111, 9), pos=(80, 9)\n",
      "       score  score_l2       ic   ic_reg  pos_bins    ic_raw   xi_std  max_corr\n",
      "150 0.008478  0.006434 0.008820 0.002385  0.656250  0.008869 1.000000  0.151906\n",
      "86  0.004625  0.003810 0.005321 0.001511  0.656250 -0.005337 1.000000  0.356904\n",
      "165 0.004497  0.003501 0.005714 0.002213  0.562500  0.005714 1.000000  0.212666\n",
      "[+] (1464377, 62) (1464377, 63) (1464377,) (1464377,) (80, 9)\n",
      "[+] mean_std, -0.000000, 1.000000\n",
      "[+] corr with res, min = -0.000000, max = 0.000000\n",
      "\u001b[32m[+] IC = 0.066903 -> 0.067503, +++, cols_fea = 63\u001b[0m\n",
      "\u001b[32m[+] ic_eval = 0.052732, i_try = 0\u001b[0m\n",
      "[+] name = roll(shift_AT_sign, ts_code, roll(proj, ts_code, roll(corr, ts_code, pre_open, mean_ret, trade_date, 70), logmean_w(pre_twap, roll(max, ts_code, open_ret, trade_date, 85), pct_chg), trade_date, 15), trade_date, 70)\n",
      "[+] i - argmax = 65 - 61 = 4, es = -1\n",
      "[2024/02/11 11:41:19] mem_cur = 11.63GB = 12,486,426,624\n",
      "[2024/02/11 11:41:19] mem_max = 12.22GB = 13,117,853,696\n"
     ]
    },
    {
     "name": "stderr",
     "output_type": "stream",
     "text": [
      "\u001b[32m[I 2024-02-11 11:41:19,462]\u001b[0m A new study created in memory with name: round_66\u001b[0m\n"
     ]
    },
    {
     "data": {
      "application/vnd.jupyter.widget-view+json": {
       "model_id": "5805bfa6162d49afb409a70b1ab38974",
       "version_major": 2,
       "version_minor": 0
      },
      "text/plain": [
       "  0%|          | 0/200 [00:00<?, ?it/s]"
      ]
     },
     "metadata": {},
     "output_type": "display_data"
    },
    {
     "name": "stdout",
     "output_type": "stream",
     "text": [
      "o=(200, 9), std=(138, 9), corr=(111, 9), pos=(76, 9)\n",
      "       score  score_l2       ic   ic_reg  pos_bins    ic_raw   xi_std  max_corr\n",
      "168 0.003899  0.003042 0.005987 0.002945  0.625000 -0.005987 1.000000  0.217901\n",
      "96  0.003509  0.002681 0.004173 0.001492  0.562500 -0.004202 1.000000  0.167251\n",
      "26  0.002782  0.002040 0.002746 0.000707  0.687500 -0.002746 1.000000  0.074852\n",
      "[+] (1464377, 63) (1464377, 64) (1464377,) (1464377,) (76, 9)\n",
      "[+] mean_std, 0.000000, 1.000000\n",
      "[+] corr with res, min = -0.000000, max = 0.000000\n",
      "\u001b[32m[+] IC = 0.067503 -> 0.067871, +++, cols_fea = 64\u001b[0m\n",
      "\u001b[32m[+] ic_eval = 0.053316, i_try = 0\u001b[0m\n",
      "[+] name = roll(std, ts_code, roll(skew__ndx__max, ts_code, pct_chg, trade_date, 45), trade_date, 105)\n",
      "[+] i - argmax = 66 - 66 = 0, es = -1\n",
      "[2024/02/11 11:42:13] mem_cur = 11.57GB = 12,427,370,496\n",
      "[2024/02/11 11:42:13] mem_max = 12.22GB = 13,117,853,696\n"
     ]
    },
    {
     "name": "stderr",
     "output_type": "stream",
     "text": [
      "\u001b[32m[I 2024-02-11 11:42:13,609]\u001b[0m A new study created in memory with name: round_67\u001b[0m\n"
     ]
    },
    {
     "data": {
      "application/vnd.jupyter.widget-view+json": {
       "model_id": "18822b475d034a4d95a8f92867292588",
       "version_major": 2,
       "version_minor": 0
      },
      "text/plain": [
       "  0%|          | 0/200 [00:00<?, ?it/s]"
      ]
     },
     "metadata": {},
     "output_type": "display_data"
    },
    {
     "name": "stdout",
     "output_type": "stream",
     "text": [
      "o=(200, 9), std=(152, 9), corr=(122, 9), pos=(80, 9)\n",
      "       score  score_l2       ic   ic_reg  pos_bins    ic_raw   xi_std  max_corr\n",
      "111 0.003672  0.003061 0.005792 0.002731  0.593750  0.005811 1.000000  0.390083\n",
      "1   0.002992  0.002654 0.006687 0.004033  0.500000 -0.006689 1.000000  0.573196\n",
      "68  0.002249  0.001667 0.002737 0.001070  0.500000 -0.002749 1.000000  0.098334\n",
      "[+] (1464377, 64) (1464377, 65) (1464377,) (1464377,) (80, 9)\n",
      "[+] mean_std, -0.000000, 1.000000\n",
      "[+] corr with res, min = -0.000000, max = 0.000000\n",
      "\u001b[32m[+] IC = 0.067871 -> 0.068246, +++, cols_fea = 65\u001b[0m\n",
      "\u001b[32m[+] ic_eval = 0.053646, i_try = 0\u001b[0m\n",
      "[+] name = roll(max_BF_cutpos, ts_code, roll(max__invmeant__argmin, ts_code, close, trade_date, 120), trade_date, 20)\n",
      "[+] i - argmax = 67 - 67 = 0, es = -1\n",
      "[2024/02/11 11:43:02] mem_cur = 11.68GB = 12,539,109,376\n",
      "[2024/02/11 11:43:02] mem_max = 12.22GB = 13,117,853,696\n"
     ]
    },
    {
     "name": "stderr",
     "output_type": "stream",
     "text": [
      "\u001b[32m[I 2024-02-11 11:43:02,670]\u001b[0m A new study created in memory with name: round_68\u001b[0m\n"
     ]
    },
    {
     "data": {
      "application/vnd.jupyter.widget-view+json": {
       "model_id": "5c1d02cac41841cbbf935b442df8d6b0",
       "version_major": 2,
       "version_minor": 0
      },
      "text/plain": [
       "  0%|          | 0/200 [00:00<?, ?it/s]"
      ]
     },
     "metadata": {},
     "output_type": "display_data"
    },
    {
     "name": "stdout",
     "output_type": "stream",
     "text": [
      "o=(200, 9), std=(153, 9), corr=(109, 9), pos=(73, 9)\n",
      "       score  score_l2       ic   ic_reg  pos_bins   ic_raw   xi_std  max_corr\n",
      "154 0.005371  0.004483 0.006609 0.002126  0.562500 0.006659 1.000000  0.392933\n",
      "34  0.003047  0.002367 0.002899 0.000532  0.593750 0.002951 1.000000  0.206753\n",
      "78  0.002631  0.002261 0.003883 0.001622  0.625000 0.003883 1.000000  0.477027\n",
      "[+] (1464377, 65) (1464377, 66) (1464377,) (1464377,) (73, 9)\n",
      "[+] mean_std, 0.000000, 1.000000\n",
      "[+] corr with res, min = -0.000000, max = 0.000000\n",
      "\u001b[32m[+] IC = 0.068246 -> 0.068576, +++, cols_fea = 66\u001b[0m\n",
      "\u001b[32m[+] ic_eval = 0.053892, i_try = 0\u001b[0m\n",
      "[+] name = roll(argmax_AT_abs, ts_code, roll(skew_AT_cutneg, ts_code, odt(y_shift_3, pre_mean), trade_date, 20), trade_date, 50)\n",
      "[+] i - argmax = 68 - 68 = 0, es = -1\n",
      "[2024/02/11 11:43:52] mem_cur = 11.79GB = 12,655,407,104\n",
      "[2024/02/11 11:43:52] mem_max = 12.22GB = 13,117,853,696\n"
     ]
    },
    {
     "name": "stderr",
     "output_type": "stream",
     "text": [
      "\u001b[32m[I 2024-02-11 11:43:52,395]\u001b[0m A new study created in memory with name: round_69\u001b[0m\n"
     ]
    },
    {
     "data": {
      "application/vnd.jupyter.widget-view+json": {
       "model_id": "72f54154abe44c4398c06a3668cd1b72",
       "version_major": 2,
       "version_minor": 0
      },
      "text/plain": [
       "  0%|          | 0/200 [00:00<?, ?it/s]"
      ]
     },
     "metadata": {},
     "output_type": "display_data"
    },
    {
     "name": "stdout",
     "output_type": "stream",
     "text": [
      "o=(200, 9), std=(154, 9), corr=(120, 9), pos=(77, 9)\n",
      "       score  score_l2       ic   ic_reg  pos_bins   ic_raw   xi_std  max_corr\n",
      "165 0.003218  0.002379 0.003393 0.001014  0.625000 0.003393 0.979811  0.092907\n",
      "76  0.002921  0.002370 0.003971 0.001601  0.562500 0.003990 1.000000  0.316530\n",
      "25  0.002646  0.002293 0.004112 0.001819  0.500000 0.004128 1.000000  0.502001\n",
      "[+] (1464377, 66) (1464377, 67) (1464377,) (1464377,) (77, 9)\n",
      "[+] mean_std, 0.000000, 0.979811\n",
      "[+] corr with res, min = -0.000000, max = 0.000000\n",
      "\u001b[31m[+] IC = 0.068576 -> 0.068670, ---, cols_fea = 66\u001b[0m\n",
      "[+] mean_std, -0.000000, 1.000000\n",
      "[+] corr with res, min = -0.000000, max = 0.000000\n",
      "\u001b[31m[+] IC = 0.068576 -> 0.068660, ---, cols_fea = 66\u001b[0m\n",
      "[+] mean_std, 0.000000, 1.000000\n",
      "[+] corr with res, min = -0.000000, max = 0.000000\n",
      "\u001b[32m[+] IC = 0.068576 -> 0.068680, +++, cols_fea = 67\u001b[0m\n",
      "\u001b[32m[+] ic_eval = 0.053422, i_try = 2\u001b[0m\n",
      "[+] name = gt_v(roll(kurt, ts_code, close_ret, trade_date, 55), 1)\n",
      "[+] i - argmax = 69 - 68 = 1, es = -1\n",
      "[2024/02/11 11:44:52] mem_cur = 11.78GB = 12,650,115,072\n",
      "[2024/02/11 11:44:52] mem_max = 12.22GB = 13,117,853,696\n"
     ]
    },
    {
     "name": "stderr",
     "output_type": "stream",
     "text": [
      "\u001b[32m[I 2024-02-11 11:45:01,259]\u001b[0m A new study created in memory with name: round_70\u001b[0m\n"
     ]
    },
    {
     "data": {
      "application/vnd.jupyter.widget-view+json": {
       "model_id": "8fcb1fff63f046cfbc9dbf2821317863",
       "version_major": 2,
       "version_minor": 0
      },
      "text/plain": [
       "  0%|          | 0/200 [00:00<?, ?it/s]"
      ]
     },
     "metadata": {},
     "output_type": "display_data"
    },
    {
     "name": "stdout",
     "output_type": "stream",
     "text": [
      "o=(200, 9), std=(148, 9), corr=(103, 9), pos=(69, 9)\n",
      "       score  score_l2       ic   ic_reg  pos_bins    ic_raw   xi_std  max_corr\n",
      "174 0.004603  0.003718 0.005648 0.001930  0.625000 -0.005658 1.000000  0.305401\n",
      "119 0.001966  0.001608 0.004203 0.002595  0.500000  0.004207 1.000000  0.337546\n",
      "0   0.001950  0.001521 0.002370 0.000849  0.500000 -0.002409 1.000000  0.217462\n",
      "[+] (1466140, 67) (1466140, 68) (1466140,) (1466140,) (69, 9)\n",
      "[+] mean_std, -0.000000, 1.000000\n",
      "[+] corr with res, min = -0.000000, max = 0.000000\n",
      "\u001b[32m[+] IC = 0.068680 -> 0.069969, +++, cols_fea = 68\u001b[0m\n",
      "\u001b[32m[+] ic_eval = 0.052824, i_try = 0\u001b[0m\n",
      "[+] name = powmean_w_v(prod_m(y_shift_3,mean_ret,pct_chg), open, pre_open, 0.54)\n",
      "[+] i - argmax = 70 - 70 = 0, es = -1\n",
      "[2024/02/11 11:45:51] mem_cur = 12.01GB = 12,896,534,528\n",
      "[2024/02/11 11:45:51] mem_max = 12.22GB = 13,117,853,696\n"
     ]
    },
    {
     "name": "stderr",
     "output_type": "stream",
     "text": [
      "\u001b[32m[I 2024-02-11 11:45:51,343]\u001b[0m A new study created in memory with name: round_71\u001b[0m\n"
     ]
    },
    {
     "data": {
      "application/vnd.jupyter.widget-view+json": {
       "model_id": "6d7bf8167be5451c84208e356983a257",
       "version_major": 2,
       "version_minor": 0
      },
      "text/plain": [
       "  0%|          | 0/200 [00:00<?, ?it/s]"
      ]
     },
     "metadata": {},
     "output_type": "display_data"
    },
    {
     "name": "stdout",
     "output_type": "stream",
     "text": [
      "o=(200, 9), std=(146, 9), corr=(105, 9), pos=(66, 9)\n",
      "      score  score_l2       ic   ic_reg  pos_bins    ic_raw   xi_std  max_corr\n",
      "54 0.003204  0.002430 0.003700 0.001270  0.687500 -0.003700 1.000000  0.149879\n",
      "42 0.002684  0.002094 0.003527 0.001433  0.562500  0.003542 1.000000  0.217730\n",
      "81 0.002544  0.002259 0.003270 0.001011  0.593750 -0.003272 1.000000  0.577352\n",
      "[+] (1466140, 68) (1466140, 69) (1466140,) (1466140,) (66, 9)\n",
      "[+] mean_std, 0.000000, 1.000000\n",
      "[+] corr with res, min = -0.000000, max = 0.000000\n",
      "\u001b[32m[+] IC = 0.069969 -> 0.070073, +++, cols_fea = 69\u001b[0m\n",
      "\u001b[32m[+] ic_eval = 0.052627, i_try = 0\u001b[0m\n",
      "[+] name = roll(kurt, ts_code, roll(max__powmean__argmin, ts_code, close_ret, trade_date, 60), trade_date, 115)\n",
      "[+] i - argmax = 71 - 70 = 1, es = -1\n",
      "[2024/02/11 11:46:44] mem_cur = 11.99GB = 12,874,059,776\n",
      "[2024/02/11 11:46:44] mem_max = 12.22GB = 13,117,853,696\n"
     ]
    },
    {
     "name": "stderr",
     "output_type": "stream",
     "text": [
      "\u001b[32m[I 2024-02-11 11:46:44,772]\u001b[0m A new study created in memory with name: round_72\u001b[0m\n"
     ]
    },
    {
     "data": {
      "application/vnd.jupyter.widget-view+json": {
       "model_id": "1544074342c8422c88b8748db8aa4741",
       "version_major": 2,
       "version_minor": 0
      },
      "text/plain": [
       "  0%|          | 0/200 [00:00<?, ?it/s]"
      ]
     },
     "metadata": {},
     "output_type": "display_data"
    },
    {
     "name": "stdout",
     "output_type": "stream",
     "text": [
      "o=(200, 9), std=(137, 9), corr=(101, 9), pos=(57, 9)\n",
      "       score  score_l2       ic   ic_reg  pos_bins    ic_raw   xi_std  max_corr\n",
      "81  0.004087  0.003091 0.004593 0.001502  0.625000  0.004593 1.000000  0.143803\n",
      "117 0.001669  0.001240 0.002356 0.001115  0.562500 -0.002374 1.000000  0.104071\n",
      "113 0.001486  0.001215 0.003888 0.002673  0.500000 -0.003896 1.000000  0.337435\n",
      "[+] (1466140, 69) (1466140, 70) (1466140,) (1466140,) (57, 9)\n",
      "[+] mean_std, 0.000000, 1.000000\n",
      "[+] corr with res, min = -0.000000, max = 0.000000\n",
      "\u001b[32m[+] IC = 0.070073 -> 0.070224, +++, cols_fea = 70\u001b[0m\n",
      "\u001b[32m[+] ic_eval = 0.052813, i_try = 0\u001b[0m\n",
      "[+] name = roll(max__ndt__argmin, ts_code, prod_m(mean_ret,high,roll(beta, ts_code, y_shift_1, change, trade_date, 45)), trade_date, 110)\n",
      "[+] i - argmax = 72 - 70 = 2, es = -1\n",
      "[2024/02/11 11:47:37] mem_cur = 12.17GB = 13,065,928,704\n",
      "[2024/02/11 11:47:37] mem_max = 12.22GB = 13,117,853,696\n"
     ]
    },
    {
     "name": "stderr",
     "output_type": "stream",
     "text": [
      "\u001b[32m[I 2024-02-11 11:47:37,200]\u001b[0m A new study created in memory with name: round_73\u001b[0m\n"
     ]
    },
    {
     "data": {
      "application/vnd.jupyter.widget-view+json": {
       "model_id": "67046acf8a8a4ac2964b015b2251628c",
       "version_major": 2,
       "version_minor": 0
      },
      "text/plain": [
       "  0%|          | 0/200 [00:00<?, ?it/s]"
      ]
     },
     "metadata": {},
     "output_type": "display_data"
    },
    {
     "name": "stdout",
     "output_type": "stream",
     "text": [
      "o=(200, 9), std=(135, 9), corr=(106, 9), pos=(73, 9)\n",
      "       score  score_l2       ic   ic_reg  pos_bins    ic_raw   xi_std  max_corr\n",
      "6   0.003259  0.002419 0.003235 0.000816  0.656250  0.003235 1.000000  0.102350\n",
      "7   0.002570  0.001851 0.002358 0.000507  0.625000 -0.002384 1.000000  0.037623\n",
      "136 0.001874  0.001536 0.002854 0.001318  0.531250 -0.002879 1.000000  0.343932\n",
      "[+] (1466140, 70) (1466140, 71) (1466140,) (1466140,) (73, 9)\n",
      "[+] mean_std, -0.000000, 1.000000\n",
      "[+] corr with res, min = -0.000000, max = 0.000000\n",
      "\u001b[31m[+] IC = 0.070224 -> 0.070295, ---, cols_fea = 70\u001b[0m\n",
      "[+] mean_std, -0.000000, 1.000000\n",
      "[+] corr with res, min = -0.000000, max = 0.000000\n",
      "\u001b[31m[+] IC = 0.070224 -> 0.070269, ---, cols_fea = 70\u001b[0m\n",
      "[+] mean_std, -0.000000, 1.000000\n",
      "[+] corr with res, min = -0.000000, max = 0.000000\n",
      "\u001b[31m[+] IC = 0.070224 -> 0.070298, ---, cols_fea = 70\u001b[0m\n",
      "[+] mean_std, 0.000000, 1.000000\n",
      "[+] corr with res, min = -0.000000, max = 0.000000\n",
      "\u001b[32m[+] IC = 0.070224 -> 0.070436, +++, cols_fea = 71\u001b[0m\n",
      "\u001b[32m[+] ic_eval = 0.052916, i_try = 3\u001b[0m\n",
      "[+] name = roll(omg__std, ts_code, twap_ret, sqrtmean_w(logmean_w_v(roll(argmin_AT_sign, ts_code, roll(logmean__skew, ts_code, vwap_ret, open, trade_date, 10), trade_date, 15), roll(kurt_BF_cutneg, ts_code, twap, trade_date, 20), roll(max, ts_code, open_ret, trade_date, 85), 0.18), vwap, pct_chg), trade_date, 45)\n",
      "[+] i - argmax = 73 - 73 = 0, es = -1\n",
      "[2024/02/11 11:48:41] mem_cur = 12.54GB = 13,464,600,576\n",
      "[2024/02/11 11:48:41] mem_max = 12.75GB = 13,685,100,544\n"
     ]
    },
    {
     "name": "stderr",
     "output_type": "stream",
     "text": [
      "\u001b[32m[I 2024-02-11 11:48:42,029]\u001b[0m A new study created in memory with name: round_74\u001b[0m\n"
     ]
    },
    {
     "data": {
      "application/vnd.jupyter.widget-view+json": {
       "model_id": "14ac052049664a0499c7f30af71cbf98",
       "version_major": 2,
       "version_minor": 0
      },
      "text/plain": [
       "  0%|          | 0/200 [00:00<?, ?it/s]"
      ]
     },
     "metadata": {},
     "output_type": "display_data"
    },
    {
     "name": "stdout",
     "output_type": "stream",
     "text": [
      "o=(200, 9), std=(140, 9), corr=(109, 9), pos=(63, 9)\n",
      "       score  score_l2       ic   ic_reg  pos_bins    ic_raw   xi_std  max_corr\n",
      "154 0.002902  0.002439 0.003424 0.000984  0.562500 -0.003479 0.987162  0.412765\n",
      "184 0.002807  0.002458 0.004211 0.001753  0.625000 -0.004220 1.000000  0.534313\n",
      "156 0.002584  0.001983 0.003126 0.001143  0.593750  0.003144 1.000000  0.178661\n",
      "[+] (1466140, 71) (1466140, 72) (1466140,) (1466140,) (63, 9)\n",
      "[+] mean_std, -0.000000, 0.987162\n",
      "[+] corr with res, min = -0.000000, max = 0.000000\n",
      "\u001b[32m[+] IC = 0.070436 -> 0.070543, +++, cols_fea = 72\u001b[0m\n",
      "\u001b[32m[+] ic_eval = 0.052882, i_try = 0\u001b[0m\n",
      "[+] name = gmean_v(powmean_w(pct_chg, open, mean), prod_m(cutpos(roll(kurt, ts_code, close_ret, trade_date, 55)),odt(y_shift_3, pre_mean),roll(sum_BF_power, ts_code, pct_chg, trade_date, 15),mean_ret), 0.39)\n",
      "[+] i - argmax = 74 - 73 = 1, es = -1\n",
      "[2024/02/11 11:49:34] mem_cur = 12.68GB = 13,614,956,544\n",
      "[2024/02/11 11:49:34] mem_max = 12.75GB = 13,685,100,544\n"
     ]
    },
    {
     "name": "stderr",
     "output_type": "stream",
     "text": [
      "\u001b[32m[I 2024-02-11 11:49:34,485]\u001b[0m A new study created in memory with name: round_75\u001b[0m\n"
     ]
    },
    {
     "data": {
      "application/vnd.jupyter.widget-view+json": {
       "model_id": "3315dcfaa57243e58e248207ed760790",
       "version_major": 2,
       "version_minor": 0
      },
      "text/plain": [
       "  0%|          | 0/200 [00:00<?, ?it/s]"
      ]
     },
     "metadata": {},
     "output_type": "display_data"
    },
    {
     "name": "stdout",
     "output_type": "stream",
     "text": [
      "o=(200, 9), std=(158, 9), corr=(121, 9), pos=(82, 9)\n",
      "      score  score_l2       ic   ic_reg  pos_bins    ic_raw   xi_std  max_corr\n",
      "84 0.004843  0.003574 0.004810 0.001236  0.593750  0.004833 1.000000  0.089371\n",
      "32 0.004130  0.003203 0.004034 0.000831  0.625000 -0.004063 1.000000  0.202818\n",
      "20 0.002559  0.002272 0.003283 0.001010  0.562500 -0.003312 1.000000  0.577352\n",
      "[+] (1466140, 72) (1466140, 73) (1466140,) (1466140,) (82, 9)\n",
      "[+] mean_std, -0.000000, 1.000000\n",
      "[+] corr with res, min = -0.000000, max = 0.000000\n",
      "\u001b[32m[+] IC = 0.070543 -> 0.070717, +++, cols_fea = 73\u001b[0m\n",
      "\u001b[32m[+] ic_eval = 0.053191, i_try = 0\u001b[0m\n",
      "[+] name = gmean(y_shift_1, y_shift_2)\n",
      "[+] i - argmax = 75 - 75 = 0, es = -1\n",
      "[2024/02/11 11:50:25] mem_cur = 12.90GB = 13,849,370,624\n",
      "[2024/02/11 11:50:25] mem_max = 12.94GB = 13,889,462,272\n"
     ]
    },
    {
     "name": "stderr",
     "output_type": "stream",
     "text": [
      "\u001b[32m[I 2024-02-11 11:50:25,519]\u001b[0m A new study created in memory with name: round_76\u001b[0m\n"
     ]
    },
    {
     "data": {
      "application/vnd.jupyter.widget-view+json": {
       "model_id": "0e0ca8587e564f828c32392bab504a06",
       "version_major": 2,
       "version_minor": 0
      },
      "text/plain": [
       "  0%|          | 0/200 [00:00<?, ?it/s]"
      ]
     },
     "metadata": {},
     "output_type": "display_data"
    },
    {
     "name": "stdout",
     "output_type": "stream",
     "text": [
      "o=(200, 9), std=(142, 9), corr=(107, 9), pos=(66, 9)\n",
      "       score  score_l2       ic   ic_reg  pos_bins    ic_raw   xi_std  max_corr\n",
      "191 0.002366  0.001966 0.005005 0.003038  0.593750 -0.005005 1.000000  0.381843\n",
      "10  0.002209  0.001585 0.002858 0.001273  0.593750  0.002858 1.000000  0.029847\n",
      "123 0.002141  0.001793 0.003373 0.001580  0.531250 -0.003373 1.000000  0.402377\n",
      "[+] (1466140, 73) (1466140, 74) (1466140,) (1466140,) (66, 9)\n",
      "[+] mean_std, 0.000000, 1.000000\n",
      "[+] corr with res, min = -0.000000, max = 0.000000\n",
      "\u001b[32m[+] IC = 0.070717 -> 0.071013, +++, cols_fea = 74\u001b[0m\n",
      "\u001b[32m[+] ic_eval = 0.053835, i_try = 0\u001b[0m\n",
      "[+] name = roll(mod__argmin, ts_code, absmean_w_v(roll(proj, ts_code, roll(argmax_BF_sqrt, ts_code, open_ret, trade_date, 5), odt(y_shift_3, pre_mean), trade_date, 15), roll(skew_BF_power, ts_code, close, trade_date, 70), twap, 0.20), roll(max_BF_cutpos, ts_code, roll(max__invmeant__argmin, ts_code, close, trade_date, 120), trade_date, 20), trade_date, 60)\n",
      "[+] i - argmax = 76 - 76 = 0, es = -1\n",
      "[2024/02/11 11:51:18] mem_cur = 12.97GB = 13,930,913,792\n",
      "[2024/02/11 11:51:18] mem_max = 12.97GB = 13,930,913,792\n"
     ]
    },
    {
     "name": "stderr",
     "output_type": "stream",
     "text": [
      "\u001b[32m[I 2024-02-11 11:51:18,525]\u001b[0m A new study created in memory with name: round_77\u001b[0m\n"
     ]
    },
    {
     "data": {
      "application/vnd.jupyter.widget-view+json": {
       "model_id": "900bb82a86bc418d9f0d38fc28dded95",
       "version_major": 2,
       "version_minor": 0
      },
      "text/plain": [
       "  0%|          | 0/200 [00:00<?, ?it/s]"
      ]
     },
     "metadata": {},
     "output_type": "display_data"
    },
    {
     "name": "stdout",
     "output_type": "stream",
     "text": [
      "o=(200, 9), std=(145, 9), corr=(117, 9), pos=(70, 9)\n",
      "       score  score_l2       ic   ic_reg  pos_bins    ic_raw   xi_std  max_corr\n",
      "51  0.004070  0.003303 0.004661 0.001357  0.593750 -0.004661 1.000000  0.317424\n",
      "160 0.003493  0.002974 0.004392 0.001418  0.625000  0.004414 1.000000  0.449693\n",
      "137 0.002789  0.002087 0.003176 0.001089  0.656250 -0.003176 1.000000  0.119359\n",
      "[+] (1466140, 74) (1466140, 75) (1466140,) (1466140,) (70, 9)\n",
      "[+] mean_std, 0.000000, 1.000000\n",
      "[+] corr with res, min = -0.000000, max = 0.000000\n",
      "\u001b[32m[+] IC = 0.071013 -> 0.071229, +++, cols_fea = 75\u001b[0m\n",
      "\u001b[32m[+] ic_eval = 0.053953, i_try = 0\u001b[0m\n",
      "[+] name = roll(skew_AT_log_abs, ts_code, roll(corr, ts_code, low, twap, trade_date, 35), trade_date, 65)\n",
      "[+] i - argmax = 77 - 77 = 0, es = -1\n",
      "[2024/02/11 11:52:07] mem_cur = 12.94GB = 13,891,444,736\n",
      "[2024/02/11 11:52:07] mem_max = 12.98GB = 13,941,006,336\n"
     ]
    },
    {
     "name": "stderr",
     "output_type": "stream",
     "text": [
      "\u001b[32m[I 2024-02-11 11:52:07,930]\u001b[0m A new study created in memory with name: round_78\u001b[0m\n"
     ]
    },
    {
     "data": {
      "application/vnd.jupyter.widget-view+json": {
       "model_id": "4b8450065df245699c1a5b5fc36ef8d6",
       "version_major": 2,
       "version_minor": 0
      },
      "text/plain": [
       "  0%|          | 0/200 [00:00<?, ?it/s]"
      ]
     },
     "metadata": {},
     "output_type": "display_data"
    },
    {
     "name": "stdout",
     "output_type": "stream",
     "text": [
      "o=(200, 9), std=(146, 9), corr=(110, 9), pos=(71, 9)\n",
      "       score  score_l2       ic   ic_reg  pos_bins    ic_raw   xi_std  max_corr\n",
      "179 0.002705  0.002090 0.003714 0.001623  0.562500 -0.003732 1.000000  0.194639\n",
      "49  0.002468  0.001953 0.004447 0.002494  0.593750 -0.004462 1.000000  0.252757\n",
      "103 0.002459  0.001800 0.002709 0.000909  0.593750 -0.002734 1.000000  0.070909\n",
      "[+] (1466140, 75) (1466140, 76) (1466140,) (1466140,) (71, 9)\n",
      "[+] mean_std, 0.000000, 1.000000\n",
      "[+] corr with res, min = -0.000000, max = 0.000000\n",
      "\u001b[32m[+] IC = 0.071229 -> 0.071330, +++, cols_fea = 76\u001b[0m\n",
      "\u001b[32m[+] ic_eval = 0.053706, i_try = 0\u001b[0m\n",
      "[+] name = roll(argmax, ts_code, twap_ret, trade_date, 25)\n",
      "[+] i - argmax = 78 - 77 = 1, es = -1\n",
      "[2024/02/11 11:52:56] mem_cur = 12.89GB = 13,841,842,176\n",
      "[2024/02/11 11:52:56] mem_max = 12.98GB = 13,941,006,336\n"
     ]
    },
    {
     "name": "stderr",
     "output_type": "stream",
     "text": [
      "\u001b[32m[I 2024-02-11 11:52:56,871]\u001b[0m A new study created in memory with name: round_79\u001b[0m\n"
     ]
    },
    {
     "data": {
      "application/vnd.jupyter.widget-view+json": {
       "model_id": "b002eb945b4e4bec9d190f77aa92076c",
       "version_major": 2,
       "version_minor": 0
      },
      "text/plain": [
       "  0%|          | 0/200 [00:00<?, ?it/s]"
      ]
     },
     "metadata": {},
     "output_type": "display_data"
    },
    {
     "name": "stdout",
     "output_type": "stream",
     "text": [
      "o=(200, 9), std=(147, 9), corr=(104, 9), pos=(77, 9)\n",
      "       score  score_l2       ic   ic_reg  pos_bins    ic_raw   xi_std  max_corr\n",
      "6   0.004707  0.003841 0.005982 0.002141  0.625000 -0.005982 1.000000  0.331966\n",
      "162 0.004299  0.003107 0.004026 0.000918  0.656250 -0.004048 1.000000  0.044805\n",
      "170 0.002807  0.002217 0.003444 0.001227  0.593750 -0.003504 1.000000  0.247727\n",
      "[+] (1466140, 76) (1466140, 77) (1466140,) (1466140,) (77, 9)\n",
      "[+] mean_std, -0.000000, 1.000000\n",
      "[+] corr with res, min = -0.000000, max = 0.000000\n",
      "\u001b[32m[+] IC = 0.071330 -> 0.071658, +++, cols_fea = 77\u001b[0m\n",
      "\u001b[32m[+] ic_eval = 0.053501, i_try = 0\u001b[0m\n",
      "[+] name = roll(shift_AT_log_abs, ts_code, roll(kurt, ts_code, roll(max__powmean__argmin, ts_code, close_ret, trade_date, 60), trade_date, 115), trade_date, 85)\n",
      "[+] i - argmax = 79 - 77 = 2, es = -1\n",
      "[2024/02/11 11:53:49] mem_cur = 12.83GB = 13,776,662,528\n",
      "[2024/02/11 11:53:49] mem_max = 12.98GB = 13,941,006,336\n"
     ]
    },
    {
     "name": "stderr",
     "output_type": "stream",
     "text": [
      "\u001b[32m[I 2024-02-11 11:53:59,033]\u001b[0m A new study created in memory with name: round_80\u001b[0m\n"
     ]
    },
    {
     "data": {
      "application/vnd.jupyter.widget-view+json": {
       "model_id": "72f710f018764d7f96cfbe9a0991155f",
       "version_major": 2,
       "version_minor": 0
      },
      "text/plain": [
       "  0%|          | 0/200 [00:00<?, ?it/s]"
      ]
     },
     "metadata": {},
     "output_type": "display_data"
    },
    {
     "name": "stdout",
     "output_type": "stream",
     "text": [
      "o=(200, 9), std=(142, 9), corr=(107, 9), pos=(71, 9)\n",
      "       score  score_l2       ic   ic_reg  pos_bins    ic_raw   xi_std  max_corr\n",
      "42  0.003428  0.002557 0.003762 0.001206  0.593750 -0.003793 1.000000  0.112377\n",
      "25  0.002469  0.001965 0.003080 0.001116  0.500000  0.003159 1.000000  0.266115\n",
      "126 0.002316  0.001775 0.002946 0.001172  0.625000  0.002966 0.998769  0.174865\n",
      "[+] (1466063, 77) (1466063, 78) (1466063,) (1466063,) (71, 9)\n",
      "[+] mean_std, 0.000000, 1.000000\n",
      "[+] corr with res, min = -0.000000, max = 0.000000\n",
      "\u001b[32m[+] IC = 0.071658 -> 0.072044, +++, cols_fea = 78\u001b[0m\n",
      "\u001b[32m[+] ic_eval = 0.052776, i_try = 0\u001b[0m\n",
      "[+] name = roll(corr, ts_code, roll(kurt, ts_code, close_ret, trade_date, 55), roll(argmax_AT_abs, ts_code, roll(skew_AT_cutneg, ts_code, odt(y_shift_3, pre_mean), trade_date, 20), trade_date, 50), trade_date, 95)\n",
      "[+] i - argmax = 80 - 80 = 0, es = -1\n",
      "[2024/02/11 11:54:49] mem_cur = 12.75GB = 13,684,875,264\n",
      "[2024/02/11 11:54:49] mem_max = 12.98GB = 13,941,006,336\n"
     ]
    },
    {
     "name": "stderr",
     "output_type": "stream",
     "text": [
      "\u001b[32m[I 2024-02-11 11:54:49,290]\u001b[0m A new study created in memory with name: round_81\u001b[0m\n"
     ]
    },
    {
     "data": {
      "application/vnd.jupyter.widget-view+json": {
       "model_id": "dfc18a7261414561b334c36e4b02264f",
       "version_major": 2,
       "version_minor": 0
      },
      "text/plain": [
       "  0%|          | 0/200 [00:00<?, ?it/s]"
      ]
     },
     "metadata": {},
     "output_type": "display_data"
    },
    {
     "name": "stdout",
     "output_type": "stream",
     "text": [
      "o=(200, 9), std=(141, 9), corr=(113, 9), pos=(67, 9)\n",
      "       score  score_l2       ic   ic_reg  pos_bins    ic_raw   xi_std  max_corr\n",
      "134 0.005370  0.004012 0.004807 0.000795  0.718750 -0.004807 1.000000  0.116286\n",
      "114 0.004207  0.002988 0.003992 0.001004  0.656250 -0.003992 1.000000  0.008643\n",
      "111 0.003124  0.002405 0.003776 0.001370  0.593750  0.003776 1.000000  0.185784\n",
      "[+] (1466063, 78) (1466063, 79) (1466063,) (1466063,) (67, 9)\n",
      "[+] mean_std, -0.000000, 1.000000\n",
      "[+] corr with res, min = -0.000000, max = 0.000000\n",
      "\u001b[32m[+] IC = 0.072044 -> 0.072211, +++, cols_fea = 79\u001b[0m\n",
      "\u001b[32m[+] ic_eval = 0.052782, i_try = 0\u001b[0m\n",
      "[+] name = hmean_w(roll(shift_AT_sign, ts_code, roll(proj, ts_code, roll(corr, ts_code, pre_open, mean_ret, trade_date, 70), logmean_w(pre_twap, roll(max, ts_code, open_ret, trade_date, 85), pct_chg), trade_date, 15), trade_date, 70), roll(proj, ts_code, roll(corr, ts_code, pre_open, mean_ret, trade_date, 70), logmean_w(pre_twap, roll(max, ts_code, open_ret, trade_date, 85), pct_chg), trade_date, 15), roll(corr, ts_code, roll(kurt, ts_code, close_ret, trade_date, 55), roll(argmax_AT_abs, ts_code, roll(skew_AT_cutneg, ts_code, odt(y_shift_3, pre_mean), trade_date, 20), trade_date, 50), trade_date, 95))\n",
      "[+] i - argmax = 81 - 81 = 0, es = -1\n",
      "[2024/02/11 11:55:39] mem_cur = 12.98GB = 13,942,173,696\n",
      "[2024/02/11 11:55:39] mem_max = 13.08GB = 14,044,721,152\n"
     ]
    },
    {
     "name": "stderr",
     "output_type": "stream",
     "text": [
      "\u001b[32m[I 2024-02-11 11:55:39,650]\u001b[0m A new study created in memory with name: round_82\u001b[0m\n"
     ]
    },
    {
     "data": {
      "application/vnd.jupyter.widget-view+json": {
       "model_id": "818893bdef2d42fab58145b31cb76e2b",
       "version_major": 2,
       "version_minor": 0
      },
      "text/plain": [
       "  0%|          | 0/200 [00:00<?, ?it/s]"
      ]
     },
     "metadata": {},
     "output_type": "display_data"
    },
    {
     "name": "stdout",
     "output_type": "stream",
     "text": [
      "o=(200, 9), std=(147, 9), corr=(104, 9), pos=(65, 9)\n",
      "       score  score_l2       ic   ic_reg  pos_bins    ic_raw   xi_std  max_corr\n",
      "79  0.004703  0.003537 0.004874 0.001337  0.656250 -0.004907 1.000000  0.131101\n",
      "23  0.004028  0.002966 0.005279 0.002313  0.531250 -0.005290 1.000000  0.084565\n",
      "110 0.002943  0.002614 0.003554 0.000940  0.593750  0.003596 1.000000  0.577743\n",
      "[+] (1466063, 79) (1466063, 80) (1466063,) (1466063,) (65, 9)\n",
      "[+] mean_std, 0.000000, 1.000000\n",
      "[+] corr with res, min = -0.000000, max = 0.000000\n",
      "\u001b[32m[+] IC = 0.072211 -> 0.072368, +++, cols_fea = 80\u001b[0m\n",
      "\u001b[32m[+] ic_eval = 0.052934, i_try = 0\u001b[0m\n",
      "[+] name = amean_w(y_shift_2, gmean_w_v(roll(skew__ndx__max, ts_code, pct_chg, trade_date, 45), roll(beta, ts_code, y_shift_1, change, trade_date, 45), mean_ret, 0.64), roll(skew_BF_power, ts_code, close, trade_date, 70))\n",
      "[+] i - argmax = 82 - 82 = 0, es = -1\n",
      "[2024/02/11 11:56:30] mem_cur = 12.52GB = 13,446,340,608\n",
      "[2024/02/11 11:56:30] mem_max = 13.08GB = 14,044,721,152\n"
     ]
    },
    {
     "name": "stderr",
     "output_type": "stream",
     "text": [
      "\u001b[32m[I 2024-02-11 11:56:30,516]\u001b[0m A new study created in memory with name: round_83\u001b[0m\n"
     ]
    },
    {
     "data": {
      "application/vnd.jupyter.widget-view+json": {
       "model_id": "007f766182cb461b872715380056b9c0",
       "version_major": 2,
       "version_minor": 0
      },
      "text/plain": [
       "  0%|          | 0/200 [00:00<?, ?it/s]"
      ]
     },
     "metadata": {},
     "output_type": "display_data"
    },
    {
     "name": "stderr",
     "output_type": "stream",
     "text": [
      "\n",
      "KeyboardInterrupt\n",
      "\n"
     ]
    }
   ],
   "source": [
    "print(rz.dict_2_str(params_res))\n",
    "df_history = []\n",
    "cols_fea = []\n",
    "X_cur = None\n",
    "ic_cur = 0\n",
    "ic_eval = 0\n",
    "Model = rz.model.LRModel\n",
    "\n",
    "for i_round in range(params_res['n_estimators']): # ***n_estimators***\n",
    "    # if i_round < 206: continue\n",
    "    \n",
    "    # -------------------------------------------------- ***bagging_fraction***\n",
    "    if 0 < params_res['bagging_fraction'] < 1:\n",
    "        mask_sample = 'bagging_sample'\n",
    "        if i_round % params_res['bagging_freq'] == 0:\n",
    "            mask = dm.masker.mask_DICT[mask_look].copy()\n",
    "            mask &= np.random.random(len(mask)) < params_res['bagging_fraction']\n",
    "            dm.set_mask(mask, mask_sample)            \n",
    "    else:\n",
    "        mask_sample = mask_look\n",
    "\n",
    "    # -------------------------------------------------- ***bagging_freq***\n",
    "    if (i_round == 0) or (i_round % params_res['bagging_freq'] == 0): \n",
    "        y = dm.get_col_numpy(col_label, mask_name = mask_sample)\n",
    "        if len(cols_fea) == 0:\n",
    "            X_cur = None\n",
    "            dy = y\n",
    "        else:\n",
    "            X_cur = dm.get_cols_numpy_cszscore([col_tid], cols_fea, mask_name = mask_sample)\n",
    "            model = Model(dtype = np.float32).train(dict(X_train = X_cur, y_train = y))\n",
    "            y_pred = model.predict(X_cur)\n",
    "            dy = y - y_pred \n",
    "    \n",
    "    # fix sample\n",
    "    dm_i = fm.dm.get_cols_pandas([col_tid, col_label], mask_name = mask_sample)\n",
    "    dm_i = rz.DataMaster(dm_i)\n",
    "    dm_i.set_by_col('__LABEL__', dy)\n",
    "    \n",
    "    # -------------------------------------------------- ***feature_fraction***\n",
    "    cols_num = fm.typer.get_cols_all(dtype = 'num')\n",
    "    cols_cat = fm.typer.get_cols_all(dtype = 'cat')\n",
    "    if 0 < params_res['feature_fraction'] < 1:\n",
    "        cols_num = list(pd.Series(cols_num).sample(frac = params_res['feature_fraction']))\n",
    "        cols_cat = list(pd.Series(cols_cat).sample(frac = params_res['feature_fraction']))\n",
    "    \n",
    "    # ------------------------------------------------------------------------------------------ pooler\n",
    "    df_name_score = []\n",
    "\n",
    "    study = Pooler.get_study(study_name = f'round_{i_round}', seed = params_res['seed'] + i_round) # ***seed***\n",
    "    pooler = Pooler(study, cols_num, cols_cat, params_res['max_depth']) # ***max_depth***\n",
    "    path_config = fm_config_list[0]['path_config_list'][0]\n",
    "    fm_config = fm_config_list[0]\n",
    "    fm_config['fm_config_i'] = 999\n",
    "    \n",
    "    for i_try in tqdm(range(params_res['num_leaves'])):\n",
    "        # xi\n",
    "        name_dict_list = pooler.run(fm, path_config, fm_config = fm_config)   \n",
    "        xi = dm.get_cols_numpy_cszscore([col_tid], ['__TEMP__'], mask_name = mask_sample)\n",
    "        dm_i.set_by_col('__PRED__', xi.reshape(-1))\n",
    "        fm.dm.drop([name_dict_list[0]['name']], verbose = False)\n",
    "        \n",
    "        # df_ic_i\n",
    "        df_ic_i = get_df_ic(dm_i, col_tid, params_res['max_bin'])\n",
    "        sign_ic, ic_raw = np.sign(df_ic_i.mean()), df_ic_i.mean()\n",
    "\n",
    "        # ***lambda_l1***\n",
    "        s_ic = sign_ic * df_ic_i\n",
    "        s_ic[(s_ic >= 0) & (s_ic < params_res['lambda_l1'])] = 0\n",
    "        ic = s_ic.mean()\n",
    "\n",
    "        # ***lambda_l2***\n",
    "        ic_reg = params_res['lambda_l2'] * s_ic.std(ddof = 0)\n",
    "        score_l2 = ic - ic_reg\n",
    "\n",
    "        # ***min_pos_bins***\n",
    "        pos_bins = (s_ic > 0).mean()\n",
    "\n",
    "        # ***std***, *************\n",
    "        xi_std = rz.util.npy_numba.np_std(xi.reshape(-1))\n",
    "        \n",
    "        # ***max_corr***\n",
    "        max_corr = 0\n",
    "        if X_cur is not None:\n",
    "            max_corr = np.max(np.abs(numba_corr_x_a(xi.reshape(-1), X_cur)))\n",
    "        score = score_l2 * (2 / (1 + max_corr)) ** 0.5\n",
    "        \n",
    "        # ***extra***\n",
    "        if not params_res['extra']: \n",
    "            pooler.study.tell(name_dict_list[0]['trial'], score)  \n",
    "            \n",
    "        name = name_dict_list[0]['name'][len('__TEMP__ = '):]\n",
    "        df_name_score.append([score, score_l2, ic, ic_reg, pos_bins, ic_raw, xi_std, max_corr, name])\n",
    "\n",
    "    cols = ['score', 'score_l2', 'ic', 'ic_reg', 'pos_bins', 'ic_raw', 'xi_std', 'max_corr', 'name']\n",
    "    df_name_score = pd.DataFrame(df_name_score, columns = cols)\n",
    "    \n",
    "    # ------------------------------ filter    \n",
    "    shape_origin = df_name_score.shape\n",
    "    df_name_score = df_name_score[(df_name_score['xi_std'] - 1).abs() <= params_res['max_xi_std']] # ***max_xi_std***\n",
    "    shape_xi_std = df_name_score.shape\n",
    "    df_name_score = df_name_score[(df_name_score['max_corr'] <= params_res['max_corr'])]           # ***max_corr***\n",
    "    shape_max_corr = df_name_score.shape\n",
    "    df_name_score = df_name_score[df_name_score['pos_bins'] >= params_res['min_pos_bins']]         # ***min_pos_bins***\n",
    "    shape_min_pos_bins = df_name_score.shape\n",
    "    print(f'o={shape_origin}, std={shape_xi_std}, corr={shape_max_corr}, pos={shape_min_pos_bins}')\n",
    "    if len(df_name_score) == 0: continue\n",
    "    df_name_score = df_name_score.sort_values('score', ascending = False)\n",
    "    cols = ['score', 'score_l2', 'ic', 'ic_reg', 'pos_bins', 'ic_raw', 'xi_std', 'max_corr']\n",
    "    print(df_name_score.head(3)[cols].to_string())\n",
    "    \n",
    "    # ------------------------------------------------------------------------------------------ try top\n",
    "    find = False\n",
    "    for i_try in range(min(10, len(df_name_score))):\n",
    "        # X_try\n",
    "        name = df_name_score.iloc[i_try]['name']\n",
    "        dm.fe_go([name], verbose = False, again = True)\n",
    "        X_add = dm.get_cols_numpy_cszscore([col_tid], [name], mask_name = mask_sample)\n",
    "        X_try = X_add\n",
    "        if X_cur is not None: \n",
    "            X_try = rz.util.npy_numba.np_hstack_F(X_cur, X_add)\n",
    "        if i_try == 0:\n",
    "            print(f'[+]', X_cur.shape if X_cur is not None else None, \\\n",
    "                  X_try.shape, y.shape, dy.shape, df_name_score.shape)\n",
    "        print(f'[+] mean_std, {np.mean(X_add):.6f}, {np.std(X_add):.6f}')\n",
    "        \n",
    "        # debug\n",
    "        if df_name_score.iloc[i_try]['score'] > 0.25: raise RuntimeError(\"score > 0.25\")\n",
    "        \n",
    "        # model_try\n",
    "        model_try = Model(dtype = np.float32).train(dict(X_train = X_try, y_train = y))\n",
    "        y_pred_try = model_try.predict(X_try)\n",
    "        dy_try = y - y_pred_try    \n",
    "        s_corr_res = pd.Series([rz.metric.corr_fast(dy_try, X_try[:, i]) for i in range(X_try.shape[1])])\n",
    "        print(f'[+] corr with res, min = {s_corr_res.min():.6f}, max = {s_corr_res.max():.6f}')\n",
    "        \n",
    "        # ic_try\n",
    "        dm_i.set_by_col('__LABEL__', y)\n",
    "        dm_i.set_by_col('__PRED__', y_pred_try)\n",
    "        df_ic_i = get_df_ic(dm_i, col_tid, params_res['max_bin'])\n",
    "        ic_try = np.abs(df_ic_i.mean())\n",
    "        \n",
    "        # ***min_gain_round***\n",
    "        if ic_try - ic_cur >= params_res['min_gain_round']:\n",
    "            cols_fea += [name]\n",
    "            fm.typer.add(name, dtype = 'num')\n",
    "            print(rz.util.mem.s_green(f'[+] IC = {ic_cur:.6f} -> {ic_try:.6f}, +++, cols_fea = {len(cols_fea)}'))\n",
    "            \n",
    "             # ***learning_rate***\n",
    "            dy = (1 - params_res['learning_rate']) * dy + params_res['learning_rate'] * dy_try\n",
    "            # dy = dy_try\n",
    "            X_cur = X_try\n",
    "            ic_cur = ic_try\n",
    "            ic_eval, df_ic_i_eval = get_score_eval(fm, model_try, cols_fea, params_res['max_bin'], mask_name = 'eval')\n",
    "            print(rz.util.mem.s_green(f'[+] ic_eval = {ic_eval:.6f}, i_try = {i_try}')); sys.stdout.flush()\n",
    "            print(f'[+] name = {name}')\n",
    "            find = True\n",
    "            break # find one\n",
    "        else:\n",
    "            dm.drop([name], verbose = False)\n",
    "            print(rz.util.mem.s_red(f'[+] IC = {ic_cur:.6f} -> {ic_try:.6f}, ---, cols_fea = {len(cols_fea)}'))\n",
    "    \n",
    "    # ***bagging_freq***\n",
    "    if not find and (i_round % params_res['bagging_freq'] == 0):\n",
    "        ic_cur = ic_try\n",
    "        print(rz.util.mem.s_green(f'[+] IC = {ic_cur:.6f} -> {ic_try:.6f}, ===, cols_fea = {len(cols_fea)}'))\n",
    "    \n",
    "    # ***early_stopping***\n",
    "    df_history.append([i_round, ic_cur, ic_eval, find, name if find else None])\n",
    "    a_ic_eval = [x[2] for x in df_history]\n",
    "    es = params_res.get('early_stopping', None)\n",
    "\n",
    "    i_round_base = i_round // params_res['bagging_freq'] * params_res['bagging_freq']\n",
    "    if i_round_base == len(a_ic_eval): argmax = i_round_base - 1\n",
    "    else:  argmax = i_round_base + np.argmax(list(a_ic_eval[i_round_base:]))\n",
    "    print(f'[+] i - argmax = {i_round} - {argmax} = {i_round - argmax}, es = {es}')\n",
    "    if es is not None and es > 0 and i_round - argmax >= es:\n",
    "        print('[+] early_stopping!'); sys.stdout.flush()\n",
    "        break\n",
    "    rz.get_mem_cur(); rz.get_mem_max(); sys.stdout.flush()\n",
    "\n",
    "df_history = pd.DataFrame(df_history, columns = ['i', 'ic_cur', 'ic_eval', 'find', 'name'])"
   ]
  },
  {
   "cell_type": "code",
   "execution_count": null,
   "id": "087c2917",
   "metadata": {
    "ExecuteTime": {
     "end_time": "2024-02-10T17:20:18.244536Z",
     "start_time": "2024-02-10T16:23:13.580Z"
    }
   },
   "outputs": [],
   "source": [
    "# df_history = pd.DataFrame(df_history, columns = ['i', 'ic_cur', 'ic_eval', 'find', 'name'])"
   ]
  },
  {
   "cell_type": "markdown",
   "id": "2d006ec0",
   "metadata": {},
   "source": [
    "# result"
   ]
  },
  {
   "cell_type": "code",
   "execution_count": null,
   "id": "32b05672",
   "metadata": {
    "ExecuteTime": {
     "end_time": "2024-02-10T16:22:49.033999Z",
     "start_time": "2024-02-10T16:12:30.407Z"
    }
   },
   "outputs": [],
   "source": [
    "print(rz.util.mem.s_green(f'[+] IC = {ic_cur:.6f} -> {ic_try:.6f}, +++, cols_fea = {len(cols_fea)}'))\n",
    "print(rz.util.mem.s_green(f'[+] ic_eval = {ic_eval:.6f}, i_try = {i_try}')); sys.stdout.flush()"
   ]
  },
  {
   "cell_type": "code",
   "execution_count": null,
   "id": "ed8c36fe",
   "metadata": {
    "ExecuteTime": {
     "end_time": "2024-02-10T16:22:49.035898Z",
     "start_time": "2024-02-10T16:12:30.568Z"
    }
   },
   "outputs": [],
   "source": [
    "print(rz.util.mem.s_green(f'[+] IC = {ic_cur:.6f} -> {ic_try:.6f}, +++, cols_fea = {len(cols_fea)}'))\n",
    "print(rz.util.mem.s_green(f'[+] ic_eval = {ic_eval:.6f}, i_try = {i_try}')); sys.stdout.flush()"
   ]
  },
  {
   "cell_type": "code",
   "execution_count": null,
   "id": "5c18945b",
   "metadata": {},
   "outputs": [],
   "source": []
  },
  {
   "cell_type": "code",
   "execution_count": null,
   "id": "5fb58ecc",
   "metadata": {
    "ExecuteTime": {
     "end_time": "2024-02-10T15:00:33.977969Z",
     "start_time": "2024-02-10T14:17:33.640Z"
    }
   },
   "outputs": [],
   "source": [
    "# Model = rz.model.LRModel\n",
    "# model_try = Model(dtype = np.float64).train(dict(X_train = X_try, y_train = y))\n",
    "# y_pred_try = model_try.predict(X_try)\n",
    "# dy_try = y - y_pred_try  "
   ]
  },
  {
   "cell_type": "code",
   "execution_count": null,
   "id": "6abdaa7d",
   "metadata": {
    "ExecuteTime": {
     "end_time": "2024-02-10T15:00:33.980627Z",
     "start_time": "2024-02-10T14:17:33.643Z"
    }
   },
   "outputs": [],
   "source": [
    "# print(pd.Series([rz.metric.corr_fast(dy_try, X_try[:, i]) for i in range(X_try.shape[1])]).to_string())"
   ]
  },
  {
   "cell_type": "code",
   "execution_count": null,
   "id": "8b3d9de2",
   "metadata": {},
   "outputs": [],
   "source": []
  },
  {
   "cell_type": "code",
   "execution_count": null,
   "id": "7155797a",
   "metadata": {},
   "outputs": [],
   "source": []
  },
  {
   "cell_type": "code",
   "execution_count": 34,
   "id": "8fe15a92",
   "metadata": {
    "ExecuteTime": {
     "end_time": "2024-02-11T02:15:19.281414Z",
     "start_time": "2024-02-11T02:15:19.277655Z"
    }
   },
   "outputs": [],
   "source": [
    "import numpy as np\n",
    "import pandas as pd\n",
    "from sklearn.metrics import f1_score as F1, precision_score as P, recall_score as R"
   ]
  },
  {
   "cell_type": "markdown",
   "id": "47d2785d",
   "metadata": {},
   "source": [
    "# 关于波动的简要分析\n",
    "\n",
    "结论: 样本量过小的情况下, 在测试集合, 多预测准一个, 对结果影响很大"
   ]
  },
  {
   "cell_type": "code",
   "execution_count": 104,
   "id": "fe0ae6b6",
   "metadata": {
    "ExecuteTime": {
     "end_time": "2024-02-11T02:32:11.775693Z",
     "start_time": "2024-02-11T02:32:11.772054Z"
    }
   },
   "outputs": [
    {
     "name": "stdout",
     "output_type": "stream",
     "text": [
      "33 38\n"
     ]
    }
   ],
   "source": [
    "n = 240            # 测试集样本数\n",
    "n1 = int(n * 0.14) # 正样本数量\n",
    "m1 = int(n * 0.16) # 预测为正样本的数量, 权衡 P & R\n",
    "print(n1, m1)"
   ]
  },
  {
   "cell_type": "code",
   "execution_count": 105,
   "id": "aff9bf7d",
   "metadata": {
    "ExecuteTime": {
     "end_time": "2024-02-11T02:32:11.910342Z",
     "start_time": "2024-02-11T02:32:11.899348Z"
    },
    "scrolled": true
   },
   "outputs": [
    {
     "name": "stdout",
     "output_type": "stream",
     "text": [
      "P = 0.6579, R = 0.7576, F1 = 0.7042\n"
     ]
    }
   ],
   "source": [
    "# 预测中 25个正样本, 最终得分 = 70.4\n",
    "a = [1] * n1 + [0] * (n - n1)\n",
    "b = [1] * 25 + [0] * (n - m1) + [1] * (m1 - 25)\n",
    "print(f'P = {P(a, b):.4f}, R = {R(a, b):.4f}, F1 = {F1(a, b):.4f}')"
   ]
  },
  {
   "cell_type": "code",
   "execution_count": 106,
   "id": "5a717b68",
   "metadata": {
    "ExecuteTime": {
     "end_time": "2024-02-11T02:32:12.022543Z",
     "start_time": "2024-02-11T02:32:12.009833Z"
    }
   },
   "outputs": [
    {
     "name": "stdout",
     "output_type": "stream",
     "text": [
      "P = 0.6842, R = 0.7879, F1 = 0.7324\n"
     ]
    }
   ],
   "source": [
    "# 预测中 26个正样本, 最终得分 = 73.2\n",
    "a = [1] * n1 + [0] * (n - n1)\n",
    "b = [1] * 26 + [0] * (n - m1) + [1] * (m1 - 26)\n",
    "print(f'P = {P(a, b):.4f}, R = {R(a, b):.4f}, F1 = {F1(a, b):.4f}')"
   ]
  },
  {
   "cell_type": "code",
   "execution_count": null,
   "id": "035d980b",
   "metadata": {},
   "outputs": [],
   "source": []
  },
  {
   "cell_type": "code",
   "execution_count": 1,
   "id": "6d5bdc08",
   "metadata": {
    "ExecuteTime": {
     "end_time": "2024-02-11T14:41:36.905049Z",
     "start_time": "2024-02-11T14:41:36.898292Z"
    }
   },
   "outputs": [
    {
     "data": {
      "text/plain": [
       "88"
      ]
     },
     "execution_count": 1,
     "metadata": {},
     "output_type": "execute_result"
    }
   ],
   "source": [
    "len('----------------------------------------------------------------------------------------')"
   ]
  }
 ],
 "metadata": {
  "kernelspec": {
   "display_name": "Python 3",
   "language": "python",
   "name": "python3"
  },
  "language_info": {
   "codemirror_mode": {
    "name": "ipython",
    "version": 3
   },
   "file_extension": ".py",
   "mimetype": "text/x-python",
   "name": "python",
   "nbconvert_exporter": "python",
   "pygments_lexer": "ipython3",
   "version": "3.9.12"
  },
  "toc": {
   "base_numbering": 1,
   "nav_menu": {},
   "number_sections": true,
   "sideBar": true,
   "skip_h1_title": false,
   "title_cell": "Table of Contents",
   "title_sidebar": "Contents",
   "toc_cell": false,
   "toc_position": {
    "height": "calc(100% - 180px)",
    "left": "10px",
    "top": "150px",
    "width": "199px"
   },
   "toc_section_display": true,
   "toc_window_display": true
  }
 },
 "nbformat": 4,
 "nbformat_minor": 5
}
