{
 "cells": [
  {
   "cell_type": "code",
   "execution_count": 1,
   "id": "81bc5fc0",
   "metadata": {
    "ExecuteTime": {
     "end_time": "2024-03-11T14:34:38.759559Z",
     "start_time": "2024-03-11T14:34:38.744282Z"
    }
   },
   "outputs": [
    {
     "data": {
      "text/html": [
       "<style>.container {width:80%;} </style>"
      ],
      "text/plain": [
       "<IPython.core.display.HTML object>"
      ]
     },
     "metadata": {},
     "output_type": "display_data"
    },
    {
     "data": {
      "text/html": [
       "<style>.toc{ margin-top: 100px;} </style>"
      ],
      "text/plain": [
       "<IPython.core.display.HTML object>"
      ]
     },
     "metadata": {},
     "output_type": "display_data"
    }
   ],
   "source": [
    "# full screen width of Jupyter notebook\n",
    "from IPython.display import display, HTML\n",
    "display(HTML(\"<style>.container {width:80%;} </style>\")) \n",
    "display(HTML(\"<style>.toc{ margin-top: 100px;} </style>\"))"
   ]
  },
  {
   "cell_type": "code",
   "execution_count": 8,
   "id": "008e904a",
   "metadata": {
    "ExecuteTime": {
     "end_time": "2024-03-11T14:37:49.558489Z",
     "start_time": "2024-03-11T14:37:40.172730Z"
    },
    "scrolled": false
   },
   "outputs": [
    {
     "name": "stdout",
     "output_type": "stream",
     "text": [
      "[+] cwd = /, __file__ = None\n",
      "[RZ][22:37:40] XXX/runningz/fe/util/util.py:135-> [+] date_dict.hist = date_dict.train\n",
      "[RZ][22:37:40] XXX/runningz/fe/util/util.py:137-> [+] data_config\n",
      "[RZ][22:37:40] XXX/runningz/fe/util/util.py:138-> {\n",
      "[RZ][22:37:40] XXX/runningz/fe/util/util.py:138->     \"data_reader\": \"BasicData\",\n",
      "[RZ][22:37:40] XXX/runningz/fe/util/util.py:138->     \"path_input\": \"/Users/runningz/workspace/data/tushare/daily\",\n",
      "[RZ][22:37:40] XXX/runningz/fe/util/util.py:138->     \"date_dict\": {\n",
      "[RZ][22:37:40] XXX/runningz/fe/util/util.py:138->         \"all\": [20221201, 20230201],\n",
      "[RZ][22:37:40] XXX/runningz/fe/util/util.py:138->         \"train\": [20100101, 20221231],\n",
      "[RZ][22:37:40] XXX/runningz/fe/util/util.py:138->         \"valid\": [20230101, 20231231],\n",
      "[RZ][22:37:40] XXX/runningz/fe/util/util.py:138->         \"hist\": [20100101, 20221231]\n",
      "[RZ][22:37:40] XXX/runningz/fe/util/util.py:138->     },\n",
      "[RZ][22:37:40] XXX/runningz/fe/util/util.py:138->     \"cols_dict\": {\n",
      "[RZ][22:37:40] XXX/runningz/fe/util/util.py:138->         \"col_id\": \"ts_code\",\n",
      "[RZ][22:37:40] XXX/runningz/fe/util/util.py:138->         \"col_tid\": \"trade_date\",\n",
      "[RZ][22:37:40] XXX/runningz/fe/util/util.py:138->         \"col_label\": \"label\",\n",
      "[RZ][22:37:40] XXX/runningz/fe/util/util.py:138->         \"cols_tid\": [\"trade_date\"],\n",
      "[RZ][22:37:40] XXX/runningz/fe/util/util.py:138->         \"cols_not\": [\"mask\"],\n",
      "[RZ][22:37:40] XXX/runningz/fe/util/util.py:138->         \"cols_label\": [\"LABEL_vwap_0_1\", \"LABEL_RAW\"],\n",
      "[RZ][22:37:40] XXX/runningz/fe/util/util.py:138->         \"cols_mask\": [\"MASK_ST\", \"MASK_KJY\", \"MASK_ZDT\", \"MASK\"]\n",
      "[RZ][22:37:40] XXX/runningz/fe/util/util.py:138->     },\n",
      "[RZ][22:37:40] XXX/runningz/fe/util/util.py:138->     \"other_info\": {\n",
      "[RZ][22:37:40] XXX/runningz/fe/util/util.py:138->         \"col_date\": \"trade_date\",\n",
      "[RZ][22:37:40] XXX/runningz/fe/util/util.py:138->         \"cols_ttt_list\": [],\n",
      "[RZ][22:37:40] XXX/runningz/fe/util/util.py:138->         \"col_label_args\": [\"vwap\", 0, 1],\n",
      "[RZ][22:37:40] XXX/runningz/fe/util/util.py:138->         \"col_label_shift\": \"vwap_ret\",\n",
      "[RZ][22:37:40] XXX/runningz/fe/util/util.py:138->         \"col_label_from\": \"LABEL_vwap_0_1\",\n",
      "[RZ][22:37:40] XXX/runningz/fe/util/util.py:138->         \"f_label_pre\": \"cszscore\",\n",
      "[RZ][22:37:40] XXX/runningz/fe/util/util.py:138->         \"shift_i\": 1,\n",
      "[RZ][22:37:40] XXX/runningz/fe/util/util.py:138->         \"cols_shift_1_not\": [\"ts_code\", \"trade_date\", \"label\", \"trade_date\", \"LABEL_vwap_0_1\", \"LABEL_RAW\", \"MASK_ST\", \"MASK_KJY\", \"MASK_ZDT\", \"MASK\", \"trade_date\"],\n",
      "[RZ][22:37:40] XXX/runningz/fe/util/util.py:138->         \"label_from_str\": \"\",\n",
      "[RZ][22:37:40] XXX/runningz/fe/util/util.py:138->         \"col_label_args_list\": []\n",
      "[RZ][22:37:40] XXX/runningz/fe/util/util.py:138->     },\n",
      "[RZ][22:37:40] XXX/runningz/fe/util/util.py:138->     \"n_jobs\": 16,\n",
      "[RZ][22:37:40] XXX/runningz/fe/util/util.py:138->     \"col_label_args\": [\"vwap\", 1, 5]\n",
      "[RZ][22:37:40] XXX/runningz/fe/util/util.py:138-> }\n",
      "[RZ][22:37:40] XXX/runningz/fe/util/util.py:152-> [+] <---------- read_data  ---------> \n",
      "[RZ][22:37:40] XXX/runningz/fe/prepare_data/basic_data.py:19 -> [+] ndays = 39\n"
     ]
    },
    {
     "name": "stderr",
     "output_type": "stream",
     "text": [
      "read_csv_list(): 100%|################################################| 1/1 [00:00<00:00,  6.09it/s]\n"
     ]
    },
    {
     "name": "stdout",
     "output_type": "stream",
     "text": [
      "[RZ][22:37:40] XXX/runningz/fe/prepare_data/base_data.py:215-> [init] <---------- label ----------> \n",
      "[RZ][22:37:40] XXX/runningz/fe/prepare_data/base_data.py:248-> [+] label_from_str = , col_label_from = LABEL_vwap_0_1\n",
      "[RZ][22:37:40] XXX/runningz/fe/prepare_data/base_data.py:249-> [+] col_label_args_list = [['vwap', 0, 1]]\n",
      "[RZ][22:37:40] XXX/runningz/fe/prepare_data/base_data.py:258-> [+] cols_label = ['LABEL_vwap_0_1', 'LABEL_RAW']\n",
      "[RZ][22:37:40] XXX/runningz/fe/prepare_data/base_data.py:262-> [+] f_label_pre = cszscore, col_label_from = LABEL_vwap_0_1\n",
      "[+] total = 1\n"
     ]
    },
    {
     "data": {
      "application/vnd.jupyter.widget-view+json": {
       "model_id": "6f72220611a84856b206098f53dbedb0",
       "version_major": 2,
       "version_minor": 0
      },
      "text/plain": [
       "fe_generator:   0%|          | 0/1 [00:00<?, ?it/s]"
      ]
     },
     "metadata": {},
     "output_type": "display_data"
    },
    {
     "name": "stdout",
     "output_type": "stream",
     "text": [
      "[+] total = 1\n"
     ]
    },
    {
     "data": {
      "application/vnd.jupyter.widget-view+json": {
       "model_id": "50389cfe59374e2db4b776b04a58c0a9",
       "version_major": 2,
       "version_minor": 0
      },
      "text/plain": [
       "fe_generator:   0%|          | 0/1 [00:00<?, ?it/s]"
      ]
     },
     "metadata": {},
     "output_type": "display_data"
    },
    {
     "name": "stdout",
     "output_type": "stream",
     "text": [
      "[RZ][22:37:41] XXX/runningz/fe/prepare_data/base_data.py:276-> [init] <---------- mask  ----------> \n",
      "[RZ][22:37:41] XXX/runningz/fe/prepare_data/base_data.py:278-> [+] path_db = /Users/runningz/workspace/data/tushare/rz.db\n",
      "[2024/03/11 22:37:41 DB>>>>>>] Connected to database successfully\n",
      "[RZ][22:37:42] XXX/runningz/fe/prepare_data/base_data.py:168-> [+] ST, KJY, ZDT, MASK\n",
      "[RZ][22:37:42] XXX/runningz/fe/prepare_data/base_data.py:172-> [+] df_mask['MASK_KJY'].sum() = 190512\n",
      "[RZ][22:37:42] XXX/runningz/fe/prepare_data/base_data.py:174-> [+] df_mask['MASK_KJY'].sum() = 190512, after &= mask_kjy_tvr\n",
      "[RZ][22:37:42] XXX/runningz/fe/prepare_data/base_data.py:176-> [+] df_mask['MASK_KJY'].sum() = 185054, after &= mask_kjy_id\n",
      "[2024/03/11 22:37:42 DB>>>>>>] Connection closed\n",
      "[RZ][22:37:42] XXX/runningz/fe/prepare_data/base_data.py:285-> [+] cols_mask = ['MASK_ST', 'MASK_KJY', 'MASK_ZDT', 'MASK']\n",
      "[RZ][22:37:42] XXX/runningz/fe/prepare_data/base_data.py:303-> [+] kjy  = 180249 / 196719 = 0.9162765162490659\n",
      "[RZ][22:37:42] XXX/runningz/fe/prepare_data/base_data.py:304-> [+] zdt  = 193322 / 196719 = 0.9827317137643033\n",
      "[RZ][22:37:42] XXX/runningz/fe/prepare_data/base_data.py:305-> [+] mask = 177844 / 196719 = 0.9040509559320655\n",
      "[RZ][22:37:42] XXX/runningz/fe/prepare_data/base_data.py:308-> [+] padding = 1, col_label_from = LABEL_vwap_0_1\n",
      "[RZ][22:37:43] XXX/runningz/fe/prepare_data/base_data.py:321-> [+] mask_name = all        | 20221201 -> 20230131 = 177844\n",
      "[RZ][22:37:43] XXX/runningz/fe/prepare_data/base_data.py:321-> [+] mask_name = train      | 20221201 -> 20221229 = 98029\n",
      "[RZ][22:37:43] XXX/runningz/fe/prepare_data/base_data.py:321-> [+] mask_name = valid      | 20230103 -> 20230131 = 75123\n",
      "[RZ][22:37:43] XXX/runningz/fe/prepare_data/base_data.py:321-> [+] mask_name = hist       | 20221201 -> 20221229 = 98029\n",
      "[RZ][22:37:43] XXX/runningz/fe/prepare_data/base_data.py:325-> [init] <---------- shift_i ----------> \n",
      "[RZ][22:37:43] XXX/runningz/fe/prepare_data/base_data.py:327-> [+] shift_i = 1\n",
      "[RZ][22:37:43] XXX/runningz/fe/prepare_data/base_data.py:331-> [+] cols_shift_1_not = ['ts_code', 'trade_date', 'label', 'trade_date', 'LABEL_vwap_0_1', 'LABEL_RAW', 'MASK_ST', 'MASK_KJY', 'MASK_ZDT', 'MASK', 'trade_date', 'ts_code', 'trade_date', 'label', 'trade_date', 'LABEL_vwap_0_1', 'LABEL_RAW', 'MASK_ST', 'MASK_KJY', 'MASK_ZDT', 'MASK', 'trade_date']\n",
      "[+] total = 21\n"
     ]
    },
    {
     "data": {
      "application/vnd.jupyter.widget-view+json": {
       "model_id": "28889e230bfb4ac796fd1614a4ad8d66",
       "version_major": 2,
       "version_minor": 0
      },
      "text/plain": [
       "fe_generator:   0%|          | 0/21 [00:00<?, ?it/s]"
      ]
     },
     "metadata": {},
     "output_type": "display_data"
    },
    {
     "name": "stdout",
     "output_type": "stream",
     "text": [
      "[RZ][22:37:43] XXX/runningz/fe/util/util.py:156-> [+] dm.shape() = {'T0': (196719, 30), 'T0.ts_code': (5078, 1), 'T0.trade_date': (39, 1)}\n",
      "[RZ][22:37:43] XXX/runningz/fe/util/util.py:163-> [+] <---------- fe_go ---------->\n",
      "[RZ][22:37:43] XXX/runningz/fe/util/util.py:164-> [+] path_dict = /Users/runningz/project/runningz/pipeline/cache/00000000/v3/roll_2017_2022.dict\n",
      "[+] total = 3\n"
     ]
    },
    {
     "data": {
      "application/vnd.jupyter.widget-view+json": {
       "model_id": "6ac4427686eb445194905aab7621b626",
       "version_major": 2,
       "version_minor": 0
      },
      "text/plain": [
       "fe_generator:   0%|          | 0/3 [00:00<?, ?it/s]"
      ]
     },
     "metadata": {},
     "output_type": "display_data"
    },
    {
     "name": "stdout",
     "output_type": "stream",
     "text": [
      "[+] total = 117\n"
     ]
    },
    {
     "data": {
      "application/vnd.jupyter.widget-view+json": {
       "model_id": "9ac67e9ceca5414697344073bf5e9004",
       "version_major": 2,
       "version_minor": 0
      },
      "text/plain": [
       "fe_generator:   0%|          | 0/117 [00:00<?, ?it/s]"
      ]
     },
     "metadata": {},
     "output_type": "display_data"
    },
    {
     "name": "stdout",
     "output_type": "stream",
     "text": [
      "[RZ][22:37:45] XXX/runningz/fe/util/util.py:188-> [+] ----------------------------------------------------------------------> dm_info\n",
      "[RZ][22:37:45] XXX/runningz/fe/util/util.py:189-> [+] dm.shape = (196719, 150)\n",
      "[RZ][22:37:45] XXX/runningz/fe/util/util.py:190-> [+] col_id    = ts_code\n",
      "[RZ][22:37:45] XXX/runningz/fe/util/util.py:191-> [+] col_tid   = trade_date\n",
      "[RZ][22:37:45] XXX/runningz/fe/util/util.py:192-> [+] col_label = label\n",
      "[RZ][22:37:45] XXX/runningz/fe/util/util.py:193-> [+] cols_tid  = ['trade_date']\n",
      "[RZ][22:37:45] XXX/runningz/fe/util/util.py:194-> [+] cols_not  = 9 = ['ts_code', 'trade_date', 'label', 'LABEL_vwap_0_1', 'LABEL_RAW', 'MASK_ST', 'MASK_KJY', 'MASK_ZDT', 'MASK']\n",
      "[RZ][22:37:45] XXX/runningz/fe/util/util.py:195-> [+] cols_fea  = 117\n",
      "[RZ][22:37:45] XXX/runningz/fe/util/util.py:196-> [+] deep_vc   = \n",
      "[RZ][22:37:45] XXX/runningz/fe/util/util.py:196-> {1: 25, 2: 28, 3: 20, 4: 16, 5: 13, 6: 11, 7: 4}\n",
      "[RZ][22:37:45] XXX/runningz/fe/util/util.py:197-> [+] window_vc = \n",
      "[RZ][22:37:45] XXX/runningz/fe/util/util.py:197-> {1: 33, 2: 1, 3: 10, 5: 11, 10: 3, 15: 1, 20: 10, 30: 4, 35: 2, 40: 1, 45: 2, 50: 1, 55: 2, 65: 3, 70: 2, 75: 1, 85: 7, 90: 2, 95: 5, 100: 2, 105: 1, 115: 3, 120: 2, 125: 2, 130: 1, 140: 3, 180: 1, 200: 1}\n",
      "[RZ][22:37:45] XXX/runningz/fe/util/util.py:198-> [+] ---------------------------------------------------------------------->\n",
      "\u001b[31m[*] 2024/03/11 22:37:45 -------------------- Timer = 159.51 seconds | dump *.json\u001b[0m\n",
      "[+] id_list = [39, 5078], fea = 117, label = ['label', 'LABEL_vwap_0_1', 'LABEL_RAW']\n",
      "\u001b[31m[*] 2024/03/11 22:37:45 -------------------- Timer = 159.53 seconds | dump data_fea.npy\u001b[0m\n"
     ]
    },
    {
     "name": "stderr",
     "output_type": "stream",
     "text": [
      "\r",
      "  0%|                                                                         | 0/1 [00:00<?, ?it/s]"
     ]
    },
    {
     "name": "stdout",
     "output_type": "stream",
     "text": [
      "[2024/03/11 22:37:47] mem_cur = 1.41GB = 1,514,360,832\n",
      "[2024/03/11 22:37:47] mem_max = 1.41GB = 1,514,360,832\n"
     ]
    },
    {
     "name": "stderr",
     "output_type": "stream",
     "text": [
      "100%|#################################################################| 1/1 [00:01<00:00,  1.85s/it]\n"
     ]
    },
    {
     "name": "stdout",
     "output_type": "stream",
     "text": [
      "\u001b[31m[*] 2024/03/11 22:37:47 -------------------- Timer = 161.40 seconds | dump data_label.npy\u001b[0m\n"
     ]
    },
    {
     "name": "stderr",
     "output_type": "stream",
     "text": [
      "\r",
      "  0%|                                                                         | 0/1 [00:00<?, ?it/s]"
     ]
    },
    {
     "name": "stdout",
     "output_type": "stream",
     "text": [
      "[2024/03/11 22:37:49] mem_cur = 1.41GB = 1,514,434,560\n",
      "[2024/03/11 22:37:49] mem_max = 1.41GB = 1,514,434,560\n"
     ]
    },
    {
     "name": "stderr",
     "output_type": "stream",
     "text": [
      "100%|#################################################################| 1/1 [00:01<00:00,  1.76s/it]"
     ]
    },
    {
     "name": "stdout",
     "output_type": "stream",
     "text": [
      "\u001b[31m[*] 2024/03/11 22:37:49 -------------------- Timer = 163.20 seconds | fe_dump.py SUCC\u001b[0m\n"
     ]
    },
    {
     "name": "stderr",
     "output_type": "stream",
     "text": [
      "\n"
     ]
    }
   ],
   "source": [
    "import os\n",
    "import sys\n",
    "os.chdir('../../')\n",
    "print(f'[+] cwd = {os.getcwd()}, __file__ = {__file__ if \"__file__\" in vars() else None}')\n",
    "sys.path.insert(0, os.path.abspath('./'))\n",
    "\n",
    "import gc\n",
    "import runningz as rz\n",
    "from runningz.fe.util.util import get_dm_from_dict, f_fe_cszscore, f_fe_zscore, f_fe_log_abs\n",
    "from runningz.util.npy import to_mdnpy_and_dump\n",
    "\n",
    "# ------------------------------------------------------------> input\n",
    "path_output     = '/Users/runningz/data/mdnpy'\n",
    "path_dict       = '/Users/runningz/project/runningz/pipeline/cache/00000000/v3/roll_2017_2022.dict'\n",
    "path_dict_other = None\n",
    "f_fe_pre        = None # 'cszscore'\n",
    "args_label      = ['vwap', 1, 5]\n",
    "label_from_str  = '' # 'ADD__vwap,0,1__vwap,0,2'\n",
    "dump_labels     = [] # ['vwap,2,3']\n",
    "\n",
    "# ------------------------------------------------------------> data_config\n",
    "data_config = rz.load_json(path_dict)['data_config']\n",
    "data_config['path_input'] = rz.CONST.PATH_DATA\n",
    "data_config['date_dict'] = {\n",
    "    'all':     [20221201, 20230201],\n",
    "    'train':   [20100101, 20221231],\n",
    "    'valid':   [20230101, 20231231],\n",
    "}    \n",
    "data_config['col_label_args'] = args_label\n",
    "data_config['other_info']['label_from_str'] = label_from_str\n",
    "data_config['other_info']['col_label_args_list'] = []\n",
    "if dump_labels is not None:\n",
    "    for s in dump_labels:\n",
    "        col_label_args = s.strip().replace(' ', '').split(',')\n",
    "        col_label_args[1], col_label_args[2] = int(col_label_args[1]), int(col_label_args[2])\n",
    "        data_config['other_info']['col_label_args_list'].append(col_label_args)\n",
    "    \n",
    "# ------------------------------------------------------------> get dm\n",
    "dm, col_id, col_tid, col_label, cols_tid, cols_not, cols_fea = \\\n",
    "    get_dm_from_dict(path_dict, path_dict_other, None, None, data_config = data_config)\n",
    "cols_label = [col_label] + [col for col in dm.head().columns if 'LABEL' in col]\n",
    "\n",
    "# ------------------------------------------------------------> f_fe_xxx\n",
    "if f_fe_pre is not None:\n",
    "    for pre in f_fe_pre.split(','): eval(f'f_fe_{pre}')(dm, col_tid, cols_fea)\n",
    "        \n",
    "# ------------------------------------------------------------> get dm\n",
    "rz.TIMER(s = 'dump *.json')\n",
    "cols_id    = [col_tid, col_id]\n",
    "df_id      = dm.get_cols_pandas(cols_id)\n",
    "id_list    = [df_id[col].unique() for col in cols_id]\n",
    "scale_DICT = dm.scaler.scale_DICT\n",
    "print(f'[+] id_list = {[len(x) for x in id_list]}, fea = {len(cols_fea)}, label = {cols_label}')\n",
    "rz.dump_json(cols_fea,   f'{path_output}/cols_fea.json')\n",
    "rz.dump_json(cols_label, f'{path_output}/cols_label.json')\n",
    "rz.dump_json(id_list,    f'{path_output}/id_list.json')\n",
    "# rz.dump_json(scale_DICT, f'{path_output}/scale_DICT.json')\n",
    "\n",
    "rz.TIMER(s = 'dump data_fea.npy')\n",
    "dm_dict = {'dm': dm}\n",
    "to_mdnpy_and_dump(dm_dict, cols_id, cols_fea, [], id_list = id_list, verbose = True,\n",
    "    path = path_output, batch_size = 200, data_name = 'data_fea.npy')\n",
    "\n",
    "rz.TIMER(s = 'dump data_label.npy')\n",
    "to_mdnpy_and_dump(dm_dict, cols_id, cols_label, ['mask'], id_list = id_list, verbose = True, \n",
    "    path = path_output, batch_size = 200, data_name = 'data_label.npy')\n",
    "rz.TIMER(s = 'fe_dump.py SUCC')\n"
   ]
  },
  {
   "cell_type": "code",
   "execution_count": 9,
   "id": "22bb6737",
   "metadata": {
    "ExecuteTime": {
     "end_time": "2024-03-11T14:39:14.194378Z",
     "start_time": "2024-03-11T14:39:14.185353Z"
    }
   },
   "outputs": [
    {
     "data": {
      "text/plain": [
       "['label', 'LABEL_vwap_0_1', 'LABEL_RAW']"
      ]
     },
     "execution_count": 9,
     "metadata": {},
     "output_type": "execute_result"
    }
   ],
   "source": [
    "cols_label"
   ]
  },
  {
   "cell_type": "code",
   "execution_count": null,
   "id": "c1dc5977",
   "metadata": {},
   "outputs": [],
   "source": []
  },
  {
   "cell_type": "code",
   "execution_count": null,
   "id": "10a7ff03",
   "metadata": {},
   "outputs": [],
   "source": []
  }
 ],
 "metadata": {
  "kernelspec": {
   "display_name": "Python 3",
   "language": "python",
   "name": "python3"
  },
  "language_info": {
   "codemirror_mode": {
    "name": "ipython",
    "version": 3
   },
   "file_extension": ".py",
   "mimetype": "text/x-python",
   "name": "python",
   "nbconvert_exporter": "python",
   "pygments_lexer": "ipython3",
   "version": "3.9.12"
  },
  "toc": {
   "base_numbering": 1,
   "nav_menu": {},
   "number_sections": true,
   "sideBar": true,
   "skip_h1_title": false,
   "title_cell": "Table of Contents",
   "title_sidebar": "Contents",
   "toc_cell": false,
   "toc_position": {},
   "toc_section_display": true,
   "toc_window_display": false
  }
 },
 "nbformat": 4,
 "nbformat_minor": 5
}
