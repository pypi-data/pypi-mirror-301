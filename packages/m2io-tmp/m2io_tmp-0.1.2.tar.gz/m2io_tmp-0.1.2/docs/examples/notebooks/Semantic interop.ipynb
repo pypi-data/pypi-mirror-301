{
 "cells": [
  {
   "cell_type": "code",
   "execution_count": 1,
   "id": "ee4f6424-1f64-49f4-8f9a-9b331e26e756",
   "metadata": {},
   "outputs": [],
   "source": [
    "import m2io_tmp as mmio\n",
    "import polars as pd"
   ]
  },
  {
   "cell_type": "code",
   "execution_count": 2,
   "id": "3ae97881-1006-43eb-bfe8-494f171ee1e4",
   "metadata": {},
   "outputs": [],
   "source": [
    "oca_bundle_standard1 = '''{\n",
    "    \"v\":\"OCAM10JSON000343_\",\n",
    "    \"d\":\"EBA3iXoZRgnJzu9L1OwR0Ke8bcTQ4B8IeJYFatiXMfh7\",\n",
    "    \"capture_base\": {\n",
    "        \"d\":\"ECPSymxX4UlUEEZnmonqB6AqsDkCimfgV458ett6_LKl\",\n",
    "        \"type\":\"spec/capture_base/1.0\",\n",
    "        \"classification\":\"\",\n",
    "        \"attributes\": {\n",
    "            \"first_name\": \"Text\",\n",
    "            \"hgt\": \"Numeric\",\n",
    "            \"last_name\": \"Text\",\n",
    "            \"wgt\": \"Numeric\"\n",
    "        },\n",
    "        \"flagged_attributes\":[]\n",
    "    },\n",
    "    \"overlays\":{\"character_encoding\":{\"d\":\"ENT9kDub3U82OeLmNBBDGsNMgh2olpyi82AYeZRIKoRW\",\"type\":\"spec/overlays/character_encoding/1.0\",\"capture_base\":\"ECPSymxX4UlUEEZnmonqB6AqsDkCimfgV458ett6_LKl\",\"attribute_character_encoding\":{\"first_name\":\"utf-8\",\"hgt\":\"utf-8\",\"last_name\":\"utf-8\",\"wgt\":\"utf-8\"}},\"meta\":[{\"d\":\"EPqBJe4Sj0ZTk86FrhhI5tMizZdKc2m3EIyhi7pOJAUR\",\"language\":\"eng\",\"type\":\"spec/overlays/meta/1.0\",\"capture_base\":\"ECPSymxX4UlUEEZnmonqB6AqsDkCimfgV458ett6_LKl\",\"description\":\"Standard 1 Patient\",\"name\":\"Patient\"}]}\n",
    "}'''\n",
    "mmio_bundle_standard2 = '''{\n",
    "    \"mechanics\": {\n",
    "        \"v\":\"OCAM10JSON00033f_\",\n",
    "        \"d\":\"ENnxCGDxYDGQpQw5r1u5zMc0C-u0Q_ixNGDFJ1U9yfxo\",\n",
    "        \"capture_base\": {\n",
    "            \"d\":\"EMa0Y0W54p0yxMss8of59sCt58HHEgEBTUUZFSZ_GfO4\",\n",
    "            \"type\":\"spec/capture_base/1.0\",\n",
    "            \"classification\":\"\",\n",
    "            \"attributes\": {\n",
    "                \"height\": \"Numeric\",\n",
    "                \"name\": \"Text\",\n",
    "                \"surname\": \"Text\",\n",
    "                \"weight\": \"Numeric\"\n",
    "            },\n",
    "            \"flagged_attributes\":[]\n",
    "        },\n",
    "        \"overlays\":{\"character_encoding\":{\"d\":\"EGSV8FrjHYXRfT75KM0Ovd7LrLo-Rb1vA4E1NMPbKAHt\",\"type\":\"spec/overlays/character_encoding/1.0\",\"capture_base\":\"EMa0Y0W54p0yxMss8of59sCt58HHEgEBTUUZFSZ_GfO4\",\"attribute_character_encoding\":{\"height\":\"utf-8\",\"name\":\"utf-8\",\"surname\":\"utf-8\",\"weight\":\"utf-8\"}},\"meta\":[{\"d\":\"EPyHVGe2tIPnM6yaYWH6w-rcmVWrLqFNVdthrvw3nNU3\",\"language\":\"eng\",\"type\":\"spec/overlays/meta/1.0\",\"capture_base\":\"EMa0Y0W54p0yxMss8of59sCt58HHEgEBTUUZFSZ_GfO4\",\"description\":\"Standard 2 Patient\",\"name\":\"Patient\"}]}\n",
    "    },\n",
    "    \"meta\":{}\n",
    "}'''\n",
    "link = '''{\n",
    "    \"v\":\"OCAT10JSON000113_\",\n",
    "    \"d\":\"EJf3rFBEMZp3Ywv5l6k1E9A-VICWsUpzF7c3kJAcltLT\",\n",
    "    \"source\":\"ENnxCGDxYDGQpQw5r1u5zMc0C-u0Q_ixNGDFJ1U9yfxo\",\n",
    "    \"target\":\"EBA3iXoZRgnJzu9L1OwR0Ke8bcTQ4B8IeJYFatiXMfh7\",\n",
    "    \"attributes\": {\n",
    "        \"name\": \"first_name\",\n",
    "        \"surname\": \"last_name\",\n",
    "        \"height\": \"hgt\",\n",
    "        \"weight\": \"wgt\"\n",
    "    }\n",
    "}'''"
   ]
  },
  {
   "cell_type": "code",
   "execution_count": 3,
   "id": "62e35614-4157-405d-8955-83404e483aac",
   "metadata": {},
   "outputs": [],
   "source": [
    "mmio_s2 = mmio.open(mmio_bundle_standard2)\n",
    "mmio_s2.import_link(link)"
   ]
  },
  {
   "cell_type": "code",
   "execution_count": 4,
   "id": "1c83e930-c5f7-48bb-a97b-b75ee67d377a",
   "metadata": {},
   "outputs": [],
   "source": [
    "tabular_data_1 = pd.read_csv('../assets/fake_0.csv')\n",
    "mmio_s2.ingest(tabular_data_1)\n",
    "tabular_data_2 = pd.read_csv('../assets/fake_1.csv')\n",
    "mmio_s2.ingest(tabular_data_2)"
   ]
  },
  {
   "cell_type": "code",
   "execution_count": 5,
   "id": "cd93cd6e-44c0-4d62-9e9c-eab071d06ce0",
   "metadata": {},
   "outputs": [
    {
     "name": "stdout",
     "output_type": "stream",
     "text": [
      "shape: (3, 4)\n",
      "┌─────────┬───────────┬────────┬────────┐\n",
      "│ name    ┆ surname   ┆ height ┆ weight │\n",
      "│ ---     ┆ ---       ┆ ---    ┆ ---    │\n",
      "│ str     ┆ str       ┆ i64    ┆ i64    │\n",
      "╞═════════╪═══════════╪════════╪════════╡\n",
      "│ Deirdre ┆ Patterson ┆ 174    ┆ 68     │\n",
      "│ Luis    ┆ Hembree   ┆ 181    ┆ 79     │\n",
      "│ John    ┆ Doe       ┆ 201    ┆ 98     │\n",
      "└─────────┴───────────┴────────┴────────┘\n",
      "shape: (5, 4)\n",
      "┌─────────┬───────────────┬────────┬────────┐\n",
      "│ name    ┆ surname       ┆ height ┆ weight │\n",
      "│ ---     ┆ ---           ┆ ---    ┆ ---    │\n",
      "│ str     ┆ str           ┆ i64    ┆ i64    │\n",
      "╞═════════╪═══════════════╪════════╪════════╡\n",
      "│ Andrzej ┆ Szczepański   ┆ 179    ┆ 109    │\n",
      "│ Jan     ┆ Kowalski      ┆ 180    ┆ 80     │\n",
      "│ Piotr   ┆ Nowak         ┆ 175    ┆ 75     │\n",
      "│ Marek   ┆ Nowak         ┆ 180    ┆ 80     │\n",
      "│ Felicja ┆ Wojciechowska ┆ 160    ┆ 60     │\n",
      "└─────────┴───────────────┴────────┴────────┘\n"
     ]
    }
   ],
   "source": [
    "print(tabular_data_1)\n",
    "print(tabular_data_2)"
   ]
  },
  {
   "cell_type": "code",
   "execution_count": 6,
   "id": "89178754-b962-4cc6-99cc-a0043522271c",
   "metadata": {},
   "outputs": [
    {
     "name": "stdout",
     "output_type": "stream",
     "text": [
      "[shape: (3, 4)\n",
      "┌────────────┬───────────┬─────┬─────┐\n",
      "│ first_name ┆ last_name ┆ hgt ┆ wgt │\n",
      "│ ---        ┆ ---       ┆ --- ┆ --- │\n",
      "│ str        ┆ str       ┆ i64 ┆ i64 │\n",
      "╞════════════╪═══════════╪═════╪═════╡\n",
      "│ Deirdre    ┆ Patterson ┆ 174 ┆ 68  │\n",
      "│ Luis       ┆ Hembree   ┆ 181 ┆ 79  │\n",
      "│ John       ┆ Doe       ┆ 201 ┆ 98  │\n",
      "└────────────┴───────────┴─────┴─────┘, shape: (5, 4)\n",
      "┌────────────┬───────────────┬─────┬─────┐\n",
      "│ first_name ┆ last_name     ┆ hgt ┆ wgt │\n",
      "│ ---        ┆ ---           ┆ --- ┆ --- │\n",
      "│ str        ┆ str           ┆ i64 ┆ i64 │\n",
      "╞════════════╪═══════════════╪═════╪═════╡\n",
      "│ Andrzej    ┆ Szczepański   ┆ 179 ┆ 109 │\n",
      "│ Jan        ┆ Kowalski      ┆ 180 ┆ 80  │\n",
      "│ Piotr      ┆ Nowak         ┆ 175 ┆ 75  │\n",
      "│ Marek      ┆ Nowak         ┆ 180 ┆ 80  │\n",
      "│ Felicja    ┆ Wojciechowska ┆ 160 ┆ 60  │\n",
      "└────────────┴───────────────┴─────┴─────┘]\n"
     ]
    }
   ],
   "source": [
    "transformed_data = mmio_s2.data.to({'standard': 'Standard1@1.0'})\n",
    "print(transformed_data.records)"
   ]
  },
  {
   "cell_type": "code",
   "execution_count": 7,
   "id": "4ca3550b-8deb-4f9c-9f8b-dcdc737aa60c",
   "metadata": {
    "scrolled": true
   },
   "outputs": [
    {
     "name": "stdout",
     "output_type": "stream",
     "text": [
      "['LoadBundleEvent: Sys { user: \"marcin\", version: \"3.8.0 (default, Mar 21 '\n",
      " '2022, 16:24:42) \\\\n[GCC 7.5.0]\" }, MMIOBundle {\\n'\n",
      " '    mechanics: OCABundle {\\n'\n",
      " '        said: Some(\\n'\n",
      " '            \"ENnxCGDxYDGQpQw5r1u5zMc0C-u0Q_ixNGDFJ1U9yfxo\",\\n'\n",
      " '        ),\\n'\n",
      " '        capture_base: CaptureBase {\\n'\n",
      " '            said: Some(\\n'\n",
      " '                \"EMa0Y0W54p0yxMss8of59sCt58HHEgEBTUUZFSZ_GfO4\",\\n'\n",
      " '            ),\\n'\n",
      " '            schema_type: \"spec/capture_base/1.0\",\\n'\n",
      " '            classification: \"\",\\n'\n",
      " '            attributes: {\\n'\n",
      " '                \"height\": Value(\\n'\n",
      " '                    Numeric,\\n'\n",
      " '                ),\\n'\n",
      " '                \"name\": Value(\\n'\n",
      " '                    Text,\\n'\n",
      " '                ),\\n'\n",
      " '                \"surname\": Value(\\n'\n",
      " '                    Text,\\n'\n",
      " '                ),\\n'\n",
      " '                \"weight\": Value(\\n'\n",
      " '                    Numeric,\\n'\n",
      " '                ),\\n'\n",
      " '            },\\n'\n",
      " '            flagged_attributes: [],\\n'\n",
      " '        },\\n'\n",
      " '        overlays: [\\n'\n",
      " '            DynOverlay { overlay_type: CharacterEncoding, attributes: '\n",
      " '[\"surname\", \"height\", \"name\", \"weight\"] },\\n'\n",
      " '            DynOverlay { overlay_type: Meta, attributes: [] },\\n'\n",
      " '        ],\\n'\n",
      " '    },\\n'\n",
      " '    meta: {},\\n'\n",
      " '}',\n",
      " 'FeedEvent: Sys { user: \"marcin\", version: \"3.8.0 (default, Mar 21 2022, '\n",
      " '16:24:42) \\\\n[GCC 7.5.0]\" }, shape: (3, 4)\\n'\n",
      " '┌─────────┬───────────┬────────┬────────┐\\n'\n",
      " '│ name    ┆ surname   ┆ height ┆ weight │\\n'\n",
      " '│ ---     ┆ ---       ┆ ---    ┆ ---    │\\n'\n",
      " '│ str     ┆ str       ┆ i64    ┆ i64    │\\n'\n",
      " '╞═════════╪═══════════╪════════╪════════╡\\n'\n",
      " '│ Deirdre ┆ Patterson ┆ 174    ┆ 68     │\\n'\n",
      " '│ Luis    ┆ Hembree   ┆ 181    ┆ 79     │\\n'\n",
      " '│ John    ┆ Doe       ┆ 201    ┆ 98     │\\n'\n",
      " '└─────────┴───────────┴────────┴────────┘',\n",
      " 'FeedEvent: Sys { user: \"marcin\", version: \"3.8.0 (default, Mar 21 2022, '\n",
      " '16:24:42) \\\\n[GCC 7.5.0]\" }, shape: (5, 4)\\n'\n",
      " '┌─────────┬───────────────┬────────┬────────┐\\n'\n",
      " '│ name    ┆ surname       ┆ height ┆ weight │\\n'\n",
      " '│ ---     ┆ ---           ┆ ---    ┆ ---    │\\n'\n",
      " '│ str     ┆ str           ┆ i64    ┆ i64    │\\n'\n",
      " '╞═════════╪═══════════════╪════════╪════════╡\\n'\n",
      " '│ Andrzej ┆ Szczepański   ┆ 179    ┆ 109    │\\n'\n",
      " '│ Jan     ┆ Kowalski      ┆ 180    ┆ 80     │\\n'\n",
      " '│ Piotr   ┆ Nowak         ┆ 175    ┆ 75     │\\n'\n",
      " '│ Marek   ┆ Nowak         ┆ 180    ┆ 80     │\\n'\n",
      " '│ Felicja ┆ Wojciechowska ┆ 160    ┆ 60     │\\n'\n",
      " '└─────────┴───────────────┴────────┴────────┘']\n"
     ]
    }
   ],
   "source": [
    "from pprint import pprint\n",
    "pprint(mmio_s2.events)"
   ]
  },
  {
   "cell_type": "code",
   "execution_count": null,
   "id": "a75fa2b3-b8b3-4f6f-b08f-e1dcaf58ec2d",
   "metadata": {},
   "outputs": [],
   "source": []
  }
 ],
 "metadata": {
  "kernelspec": {
   "display_name": "Python 3 (ipykernel)",
   "language": "python",
   "name": "python3"
  },
  "language_info": {
   "codemirror_mode": {
    "name": "ipython",
    "version": 3
   },
   "file_extension": ".py",
   "mimetype": "text/x-python",
   "name": "python",
   "nbconvert_exporter": "python",
   "pygments_lexer": "ipython3",
   "version": "3.8.0"
  }
 },
 "nbformat": 4,
 "nbformat_minor": 5
}
