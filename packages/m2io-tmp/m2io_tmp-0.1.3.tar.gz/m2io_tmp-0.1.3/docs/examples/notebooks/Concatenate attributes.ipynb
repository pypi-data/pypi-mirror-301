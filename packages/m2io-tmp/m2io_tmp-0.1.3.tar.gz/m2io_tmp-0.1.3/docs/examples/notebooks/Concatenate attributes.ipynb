{
 "cells": [
  {
   "cell_type": "code",
   "execution_count": 1,
   "id": "ee4f6424-1f64-49f4-8f9a-9b331e26e756",
   "metadata": {},
   "outputs": [],
   "source": [
    "import m2io_tmp as mmio\n",
    "import polars as pd"
   ]
  },
  {
   "cell_type": "code",
   "execution_count": 2,
   "id": "a6670a88-dd7a-4673-91ca-2f2fafb8a4e5",
   "metadata": {},
   "outputs": [],
   "source": [
    "oca_bundle_standard1 = '''{\n",
    "    \"v\":\"OCAM10JSON000343_\",\n",
    "    \"d\":\"EBA3iXoZRgnJzu9L1OwR0Ke8bcTQ4B8IeJYFatiXMfh7\",\n",
    "    \"capture_base\": {\n",
    "        \"d\":\"ECPSymxX4UlUEEZnmonqB6AqsDkCimfgV458ett6_LKl\",\n",
    "        \"type\":\"spec/capture_base/1.0\",\n",
    "        \"classification\":\"\",\n",
    "        \"attributes\": {\n",
    "            \"full_name\": \"Text\",\n",
    "            \"hgt\": \"Numeric\",\n",
    "            \"wgt\": \"Numeric\"\n",
    "        },\n",
    "        \"flagged_attributes\":[]\n",
    "    },\n",
    "    \"overlays\":{\"character_encoding\":{\"d\":\"ENT9kDub3U82OeLmNBBDGsNMgh2olpyi82AYeZRIKoRW\",\"type\":\"spec/overlays/character_encoding/1.0\",\"capture_base\":\"ECPSymxX4UlUEEZnmonqB6AqsDkCimfgV458ett6_LKl\",\"attribute_character_encoding\":{\"first_name\":\"utf-8\",\"hgt\":\"utf-8\",\"last_name\":\"utf-8\",\"wgt\":\"utf-8\"}},\"meta\":[{\"d\":\"EPqBJe4Sj0ZTk86FrhhI5tMizZdKc2m3EIyhi7pOJAUR\",\"language\":\"eng\",\"type\":\"spec/overlays/meta/1.0\",\"capture_base\":\"ECPSymxX4UlUEEZnmonqB6AqsDkCimfgV458ett6_LKl\",\"description\":\"Standard 1 Patient\",\"name\":\"Patient\"}]}\n",
    "}'''"
   ]
  },
  {
   "cell_type": "code",
   "execution_count": 3,
   "id": "62e35614-4157-405d-8955-83404e483aac",
   "metadata": {},
   "outputs": [],
   "source": [
    "tabular_data = pd.read_csv('../assets/fake_0.csv')\n",
    "mmio_custom = mmio.infer_semantics(tabular_data)"
   ]
  },
  {
   "cell_type": "code",
   "execution_count": 4,
   "id": "0f725cd5-5376-4f4b-8b87-d877043640a4",
   "metadata": {},
   "outputs": [
    {
     "name": "stdout",
     "output_type": "stream",
     "text": [
      "[shape: (3, 4)\n",
      "┌─────────┬───────────┬────────┬────────┐\n",
      "│ name    ┆ surname   ┆ height ┆ weight │\n",
      "│ ---     ┆ ---       ┆ ---    ┆ ---    │\n",
      "│ str     ┆ str       ┆ i64    ┆ i64    │\n",
      "╞═════════╪═══════════╪════════╪════════╡\n",
      "│ Deirdre ┆ Patterson ┆ 174    ┆ 68     │\n",
      "│ Luis    ┆ Hembree   ┆ 181    ┆ 79     │\n",
      "│ John    ┆ Doe       ┆ 201    ┆ 98     │\n",
      "└─────────┴───────────┴────────┴────────┘]\n"
     ]
    }
   ],
   "source": [
    "mmio_custom.ingest(tabular_data)\n",
    "print(mmio_custom.data.records)"
   ]
  },
  {
   "cell_type": "code",
   "execution_count": 5,
   "id": "858e453a-903f-433e-8577-cb0700bed263",
   "metadata": {},
   "outputs": [],
   "source": [
    "mmio_custom.link(\"Standard1@1.0\", linkage = {\n",
    "    \"name\": \"full_name\",\n",
    "    \"surname\": \"full_name\",\n",
    "    \"height\": \"sum\",\n",
    "    \"weight\": \"sum\"\n",
    "})"
   ]
  },
  {
   "cell_type": "code",
   "execution_count": 6,
   "id": "89178754-b962-4cc6-99cc-a0043522271c",
   "metadata": {},
   "outputs": [
    {
     "name": "stdout",
     "output_type": "stream",
     "text": [
      "[shape: (3, 2)\n",
      "┌───────────────────┬─────┐\n",
      "│ full_name         ┆ sum │\n",
      "│ ---               ┆ --- │\n",
      "│ str               ┆ i64 │\n",
      "╞═══════════════════╪═════╡\n",
      "│ Deirdre Patterson ┆ 242 │\n",
      "│ Luis Hembree      ┆ 260 │\n",
      "│ John Doe          ┆ 299 │\n",
      "└───────────────────┴─────┘]\n"
     ]
    }
   ],
   "source": [
    "transformed_data = mmio_custom.data.to({'standard': 'Standard1@1.0'})\n",
    "print(transformed_data.records)"
   ]
  },
  {
   "cell_type": "code",
   "execution_count": 7,
   "id": "4ca3550b-8deb-4f9c-9f8b-dcdc737aa60c",
   "metadata": {
    "scrolled": true
   },
   "outputs": [
    {
     "name": "stdout",
     "output_type": "stream",
     "text": [
      "['LoadBundleEvent: Sys { user: \"marcin\", version: \"3.8.0 (default, Mar 21 '\n",
      " '2022, 16:24:42) \\\\n[GCC 7.5.0]\" }, MMIOBundle {\\n'\n",
      " '    mechanics: OCABundle {\\n'\n",
      " '        said: Some(\\n'\n",
      " '            \"EEHdQnDl5tghmmzyi3kC5YNRukpFeAhgSTuhlR-q6Ive\",\\n'\n",
      " '        ),\\n'\n",
      " '        capture_base: CaptureBase {\\n'\n",
      " '            said: Some(\\n'\n",
      " '                \"EMa0Y0W54p0yxMss8of59sCt58HHEgEBTUUZFSZ_GfO4\",\\n'\n",
      " '            ),\\n'\n",
      " '            schema_type: \"spec/capture_base/1.0\",\\n'\n",
      " '            classification: \"\",\\n'\n",
      " '            attributes: {\\n'\n",
      " '                \"name\": Value(\\n'\n",
      " '                    Text,\\n'\n",
      " '                ),\\n'\n",
      " '                \"surname\": Value(\\n'\n",
      " '                    Text,\\n'\n",
      " '                ),\\n'\n",
      " '                \"height\": Value(\\n'\n",
      " '                    Numeric,\\n'\n",
      " '                ),\\n'\n",
      " '                \"weight\": Value(\\n'\n",
      " '                    Numeric,\\n'\n",
      " '                ),\\n'\n",
      " '            },\\n'\n",
      " '            flagged_attributes: [],\\n'\n",
      " '        },\\n'\n",
      " '        overlays: [],\\n'\n",
      " '    },\\n'\n",
      " '    meta: {},\\n'\n",
      " '}',\n",
      " 'FeedEvent: Sys { user: \"marcin\", version: \"3.8.0 (default, Mar 21 2022, '\n",
      " '16:24:42) \\\\n[GCC 7.5.0]\" }, shape: (3, 4)\\n'\n",
      " '┌─────────┬───────────┬────────┬────────┐\\n'\n",
      " '│ name    ┆ surname   ┆ height ┆ weight │\\n'\n",
      " '│ ---     ┆ ---       ┆ ---    ┆ ---    │\\n'\n",
      " '│ str     ┆ str       ┆ i64    ┆ i64    │\\n'\n",
      " '╞═════════╪═══════════╪════════╪════════╡\\n'\n",
      " '│ Deirdre ┆ Patterson ┆ 174    ┆ 68     │\\n'\n",
      " '│ Luis    ┆ Hembree   ┆ 181    ┆ 79     │\\n'\n",
      " '│ John    ┆ Doe       ┆ 201    ┆ 98     │\\n'\n",
      " '└─────────┴───────────┴────────┴────────┘']\n"
     ]
    }
   ],
   "source": [
    "from pprint import pprint\n",
    "pprint(mmio_custom.events)"
   ]
  },
  {
   "cell_type": "code",
   "execution_count": null,
   "id": "a75fa2b3-b8b3-4f6f-b08f-e1dcaf58ec2d",
   "metadata": {},
   "outputs": [],
   "source": []
  }
 ],
 "metadata": {
  "kernelspec": {
   "display_name": "Python 3 (ipykernel)",
   "language": "python",
   "name": "python3"
  },
  "language_info": {
   "codemirror_mode": {
    "name": "ipython",
    "version": 3
   },
   "file_extension": ".py",
   "mimetype": "text/x-python",
   "name": "python",
   "nbconvert_exporter": "python",
   "pygments_lexer": "ipython3",
   "version": "3.8.0"
  }
 },
 "nbformat": 4,
 "nbformat_minor": 5
}
