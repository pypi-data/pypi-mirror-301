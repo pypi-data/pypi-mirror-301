{
  "cells": [
    {
      "cell_type": "markdown",
      "metadata": {},
      "source": [
        "\n# Example: Create a Custom Sellmeier YAML File\n\nThis example demonstrates how to create a custom Sellmeier YAML file using the\n`create_sellmeier_file` function from the `PyOptik.utils` module.\n"
      ]
    },
    {
      "cell_type": "code",
      "execution_count": null,
      "metadata": {
        "collapsed": false
      },
      "outputs": [],
      "source": [
        "from PyOptik.utils import create_sellmeier_file\nfrom PyOptik.directories import sellmeier_data_path\nfrom PyOptik import SellmeierMaterial\n\n# Define the file properties\nfilename = 'example_sellmeier'\ncoefficients = [1.0, 0.5, 0.2, 0.1, 0.05]\nformula_type = 1\n\n# Call the function to create the file\ncreate_sellmeier_file(\n    filename=filename,\n    coefficients=coefficients,\n    formula_type=formula_type,\n    wavelength_range=(0.2, 2.0),\n    reference=\"Sample Reference\",\n    comments=\"This is a sample Sellmeier file created for demonstration purposes. \"\n)\n\nprint(f\"Sellmeier YAML file {filename}.yml has been created in {sellmeier_data_path}\")\n\nm = SellmeierMaterial(filename)\n\nm.plot()"
      ]
    }
  ],
  "metadata": {
    "kernelspec": {
      "display_name": "Python 3",
      "language": "python",
      "name": "python3"
    },
    "language_info": {
      "codemirror_mode": {
        "name": "ipython",
        "version": 3
      },
      "file_extension": ".py",
      "mimetype": "text/x-python",
      "name": "python",
      "nbconvert_exporter": "python",
      "pygments_lexer": "ipython3",
      "version": "3.11.0"
    }
  },
  "nbformat": 4,
  "nbformat_minor": 0
}