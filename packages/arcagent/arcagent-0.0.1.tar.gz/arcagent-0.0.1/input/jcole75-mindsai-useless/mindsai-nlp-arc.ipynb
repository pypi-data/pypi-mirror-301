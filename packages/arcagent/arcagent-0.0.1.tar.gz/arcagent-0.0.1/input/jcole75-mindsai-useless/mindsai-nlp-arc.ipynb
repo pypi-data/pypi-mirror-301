{
 "cells": [
  {
   "cell_type": "markdown",
   "id": "d0b3726c",
   "metadata": {
    "papermill": {
     "duration": 0.002391,
     "end_time": "2024-05-06T19:35:15.420197",
     "exception": false,
     "start_time": "2024-05-06T19:35:15.417806",
     "status": "completed"
    },
    "tags": []
   },
   "source": [
    "# NLP Solution for ARC\n",
    "\n",
    "Using some advanced techniques with LLMs, we achieve SoTA scores.  This is not an ensemble of previous solutions, but is instead a single solution.\n",
    "\n",
    "Jack Cole\n",
    "\n",
    "Mohamed Osman"
   ]
  },
  {
   "cell_type": "code",
   "execution_count": 1,
   "id": "b2119f6f",
   "metadata": {
    "execution": {
     "iopub.execute_input": "2024-05-06T19:35:15.425820Z",
     "iopub.status.busy": "2024-05-06T19:35:15.425444Z",
     "iopub.status.idle": "2024-05-06T19:35:15.452648Z",
     "shell.execute_reply": "2024-05-06T19:35:15.451663Z"
    },
    "papermill": {
     "duration": 0.032452,
     "end_time": "2024-05-06T19:35:15.454677",
     "exception": false,
     "start_time": "2024-05-06T19:35:15.422225",
     "status": "completed"
    },
    "tags": []
   },
   "outputs": [
    {
     "name": "stdout",
     "output_type": "stream",
     "text": [
      "Public test set detected.  Skipping execution.\n",
      "Sample submission copied.\n"
     ]
    }
   ],
   "source": [
    "import os\n",
    "import shutil\n",
    "\n",
    "file_path = \"/kaggle/input/abstraction-and-reasoning-challenge/test/00576224.json\"\n",
    "if os.path.exists(file_path):\n",
    "    print('Public test set detected.  Skipping execution.')\n",
    "    source_file = \"/kaggle/input/abstraction-and-reasoning-challenge/sample_submission.csv\"\n",
    "    destination_file = \"./submission.csv\"\n",
    "    shutil.copyfile(source_file, destination_file)\n",
    "    print(\"Sample submission copied.\")\n",
    "else:\n",
    "    !cp /kaggle/input/mindsai-nlp-solution/mindsai_nlp_ttft.py ./\n",
    "    !cp /kaggle/input/mindsai-nlp-solution/mindsai_public_solution.py ./\n",
    "    !cp -r /kaggle/input/arclibs2/ ./arclibs"
   ]
  },
  {
   "cell_type": "code",
   "execution_count": 2,
   "id": "baf83c54",
   "metadata": {
    "execution": {
     "iopub.execute_input": "2024-05-06T19:35:15.460031Z",
     "iopub.status.busy": "2024-05-06T19:35:15.459484Z",
     "iopub.status.idle": "2024-05-06T19:35:15.463584Z",
     "shell.execute_reply": "2024-05-06T19:35:15.462846Z"
    },
    "papermill": {
     "duration": 0.008869,
     "end_time": "2024-05-06T19:35:15.465532",
     "exception": false,
     "start_time": "2024-05-06T19:35:15.456663",
     "status": "completed"
    },
    "tags": []
   },
   "outputs": [],
   "source": [
    "if not os.path.exists(file_path):\n",
    "    command = (\n",
    "        f\"python3 mindsai_public_solution.py\"      \n",
    "    )\n",
    "    get_ipython().system(command)\n"
   ]
  }
 ],
 "metadata": {
  "kaggle": {
   "accelerator": "gpu",
   "dataSources": [
    {
     "databundleVersionId": 967687,
     "sourceId": 18329,
     "sourceType": "competition"
    },
    {
     "datasetId": 3484645,
     "sourceId": 8022397,
     "sourceType": "datasetVersion"
    },
    {
     "datasetId": 4940678,
     "sourceId": 8318285,
     "sourceType": "datasetVersion"
    },
    {
     "datasetId": 2887990,
     "isSourceIdPinned": true,
     "sourceId": 8338679,
     "sourceType": "datasetVersion"
    }
   ],
   "dockerImageVersionId": 30699,
   "isGpuEnabled": true,
   "isInternetEnabled": false,
   "language": "python",
   "sourceType": "notebook"
  },
  "kernelspec": {
   "display_name": "Python 3",
   "language": "python",
   "name": "python3"
  },
  "language_info": {
   "codemirror_mode": {
    "name": "ipython",
    "version": 3
   },
   "file_extension": ".py",
   "mimetype": "text/x-python",
   "name": "python",
   "nbconvert_exporter": "python",
   "pygments_lexer": "ipython3",
   "version": "3.10.13"
  },
  "papermill": {
   "default_parameters": {},
   "duration": 2.976284,
   "end_time": "2024-05-06T19:35:15.684815",
   "environment_variables": {},
   "exception": null,
   "input_path": "__notebook__.ipynb",
   "output_path": "__notebook__.ipynb",
   "parameters": {},
   "start_time": "2024-05-06T19:35:12.708531",
   "version": "2.5.0"
  }
 },
 "nbformat": 4,
 "nbformat_minor": 5
}
