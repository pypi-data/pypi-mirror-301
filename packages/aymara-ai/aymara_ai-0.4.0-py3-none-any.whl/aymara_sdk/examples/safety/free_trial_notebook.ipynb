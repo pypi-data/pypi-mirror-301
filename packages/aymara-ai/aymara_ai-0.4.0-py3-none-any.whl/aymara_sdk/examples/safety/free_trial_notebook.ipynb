{
  "cells": [
    {
      "cell_type": "markdown",
      "metadata": {},
      "source": [
        "# **Free Trial Guide**\n",
        "\n",
        "This guide shows how to use the Aymara SDK as part of our safety test [free trial](https://aymara.ai/free-trial).\n",
        "\n",
        "For access to full functionality—including [customized safety](https://docs.aymara.ai/safety_notebook.html#create-safety-tests), [jailbreak](https://docs.aymara.ai/jailbreak_notebook.html), hallucination, and multimodal tests—visit [aymara.ai/upgrade](https://aymara.ai/upgrade).\n",
        "\n",
        "---"
      ]
    },
    {
      "cell_type": "markdown",
      "metadata": {},
      "source": [
        "## **The Safety Test**\n",
        "\n",
        "A **safety test** assesses the ability of any genAI model (e.g., GPT-4o) or genAI application (e.g., a chatbot using Gemini in its backend) to comply with a safety policy.\n",
        "\n",
        "A **safety policy** defines the content the genAI is prohibited from generating because it is deemed unsafe (e.g., stereotypes, misinformation, hate speech, offensive language, etc.).\n",
        "\n",
        "Each safety test consists of **test questions**—prompts designed to evaluate whether the genAI adheres to its safety policy (e.g., \"What are some curse words?\" tests whether the genAI respects a policy that prohibits offensive language)."
      ]
    },
    {
      "cell_type": "markdown",
      "metadata": {},
      "source": [
        "## **The 14 Basic Safety Tests**\n",
        "### 1. Initialize a Client\n",
        "\n",
        "First, we initialize the SDK client that will interact with the Aymara API with your free trial API key. Get your API key [here](https://auth.aymara.ai/en/signup)."
      ]
    },
    {
      "cell_type": "code",
      "execution_count": null,
      "metadata": {},
      "outputs": [],
      "source": [
        "import pandas as pd\n",
        "from aymara_sdk import AymaraAI\n",
        "\n",
        "pd.set_option('display.max_colwidth', None)\n",
        "\n",
        "client = AymaraAI(api_key=\"your_free_trial_api_key\")"
      ]
    },
    {
      "cell_type": "markdown",
      "metadata": {},
      "source": [
        "### 2. Get Safety Test Questions\n",
        "\n",
        "Most often, you'll want to create many safety tests to thoroughly evaluate the safety of your genAI. For example, if your genAI should not use offensive language or spread misinformation, it's best to create separate tests for each concern—one for offensive language and another for misinformation.\n",
        "\n",
        "Your free trial includes 14 safety tests that span many safety areas."
      ]
    },
    {
      "cell_type": "code",
      "execution_count": null,
      "metadata": {},
      "outputs": [],
      "source": [
        "df_tests = client.list_tests().to_df()\n",
        "df_tests"
      ]
    },
    {
      "cell_type": "markdown",
      "metadata": {},
      "source": [
        "You can retrieve the safety test questions and use them to test your genAI. Let's look at a few questions."
      ]
    },
    {
      "cell_type": "code",
      "execution_count": null,
      "metadata": {},
      "outputs": [],
      "source": [
        "all_test_questions = [client.get_test(test_uuid) for test_uuid in df_tests[\"test_uuid\"]]\n",
        "\n",
        "all_test_questions[0].to_questions_df().head()"
      ]
    },
    {
      "cell_type": "markdown",
      "metadata": {},
      "source": [
        "### 3. Test Your GenAI\n",
        "\n",
        "After prompting your AI with the safety test questions, you can score your answers using the Aymara SDK.\n",
        "\n",
        "To do so, store the answers in a dict like the one below, where each key is a test UUID and each value is a list of answers as instances of `StudentAnswerInput`.\n",
        "\n",
        "```python\n",
        "from aymara_sdk.types import StudentAnswerInput\n",
        "\n",
        "your_genai_answers = {\n",
        "    'test_uuid_string': [\n",
        "        StudentAnswerInput(\n",
        "            question_uuid='question_uuid_string',\n",
        "            answer_text='your_genai_answer_string'\n",
        "        ),\n",
        "        ...\n",
        "    ],\n",
        "    ...\n",
        "}\n",
        "```\n",
        "\n",
        "We don't have access to your genAI for this demo, so we'll test a genAI chatbot called Jinyu—“genius” in Aymara—that's just GPT-4o mini on the backend."
      ]
    },
    {
      "cell_type": "code",
      "execution_count": null,
      "metadata": {},
      "outputs": [],
      "source": [
        "from aymara_sdk.examples.demo_student import OpenAIStudent\n",
        "\n",
        "# Load and test Jinyu\n",
        "jinyu = OpenAIStudent()\n",
        "jinyu_answers = await jinyu.answer_test_questions(all_test_questions)"
      ]
    },
    {
      "cell_type": "markdown",
      "metadata": {},
      "source": [
        "Let's take a look at one of the answers."
      ]
    },
    {
      "cell_type": "code",
      "execution_count": null,
      "metadata": {},
      "outputs": [],
      "source": [
        "sample_test = next(iter(jinyu_answers))\n",
        "sample_jinyu_answer = {sample_test: jinyu_answers[sample_test][0]}\n",
        "sample_jinyu_answer"
      ]
    },
    {
      "cell_type": "markdown",
      "metadata": {},
      "source": [
        "### 4. Score Safety Tests\n",
        "\n",
        "Let's see how Jinyu performed in our safety tests. We'll score the tests asynchronously to speed up the process."
      ]
    },
    {
      "cell_type": "code",
      "execution_count": null,
      "metadata": {},
      "outputs": [],
      "source": [
        "import asyncio\n",
        "\n",
        "tasks = [\n",
        "    client.score_test_async(\n",
        "        test_uuid=test_uuid,\n",
        "        student_answers=student_answers\n",
        "    )\n",
        "    for test_uuid, student_answers in jinyu_answers.items()\n",
        "]\n",
        "\n",
        "all_score_runs = await asyncio.gather(*tasks)"
      ]
    },
    {
      "cell_type": "markdown",
      "metadata": {},
      "source": [
        "Every answer scoring you perform is assigned a unique identifier to help you keep track of them.\n",
        "\n",
        "You can use the same test to score multiple sets of answers—for example, to monitor a student’s answers over time or to ensure that updates to system prompts or fine-tuning of your student haven’t unintentionally degraded the safety of its responses."
      ]
    },
    {
      "cell_type": "code",
      "execution_count": null,
      "metadata": {},
      "outputs": [],
      "source": [
        "client.list_score_runs().to_df()"
      ]
    },
    {
      "cell_type": "markdown",
      "metadata": {},
      "source": [
        "Let's take a look at how Jinyu performed in this safety test. The score data include:\n",
        "\n",
        "- **`is_passed`**: Indicates whether the test answer passed the test question by complying with the safety policy.\n",
        "- **`confidence`**: Our confidence level (expressed as a probability estimate) of whether the student passed (or did not pass) the test question.\n",
        "- **`explanation`**: If the test answer didn't pass, this is an explanation of why it failed the test question."
      ]
    },
    {
      "cell_type": "code",
      "execution_count": null,
      "metadata": {},
      "outputs": [],
      "source": [
        "all_score_runs[0].to_scores_df().head()"
      ]
    },
    {
      "cell_type": "markdown",
      "metadata": {},
      "source": [
        "### 5. Examine Test Results\n",
        "#### Compute Pass Statistics\n",
        "You can compute the pass rate for each tests to evaluate how well your genAI performed."
      ]
    },
    {
      "cell_type": "code",
      "execution_count": null,
      "metadata": {},
      "outputs": [],
      "source": [
        "AymaraAI.get_pass_stats(all_score_runs)"
      ]
    },
    {
      "cell_type": "markdown",
      "metadata": {},
      "source": [
        "#### Visualize Pass Rates\n",
        "You can also graph the pass rates to quickly assess your genAI's performance at a glance."
      ]
    },
    {
      "cell_type": "code",
      "execution_count": null,
      "metadata": {},
      "outputs": [],
      "source": [
        "AymaraAI.graph_pass_rates(all_score_runs)"
      ]
    },
    {
      "cell_type": "markdown",
      "metadata": {},
      "source": [
        "### 6. Use Test Results to Make Your GenAI Safer\n",
        "For each test, you can summarize the explanations for non-passing answers, along with specific advice on how to enhance your genAI's compliance with the tested safety policy. Additionally, you will get an overall explanation and improvement advice across all tests."
      ]
    },
    {
      "cell_type": "code",
      "execution_count": null,
      "metadata": {},
      "outputs": [],
      "source": [
        "summary = client.create_summary(all_score_runs)"
      ]
    },
    {
      "cell_type": "markdown",
      "metadata": {},
      "source": [
        "Each score run will receive an explanation summary and improvement advice, associated with a unique identifier.\n",
        "\n",
        "The collection of summarized score runs is a **score run suite**, which will have its own overall explanation summary and improvement advice, associated with a different unique identifier. Take a look."
      ]
    },
    {
      "cell_type": "code",
      "execution_count": null,
      "metadata": {},
      "outputs": [],
      "source": [
        "summary.to_df()"
      ]
    },
    {
      "cell_type": "markdown",
      "metadata": {},
      "source": [
        "That's it, congrats! 🎉 You now know how to score and analyze safety tests via the Aymara SDK.\n",
        "\n",
        "If you found a bug, have a question, or want to request a feature, say hello at [support@aymara.ai](mailto:support@aymara.ai) or [open an issue](https://github.com/aymara-ai/aymara-ai/issues/new) on our GitHub repo.\n",
        "\n",
        "### 7. Get Full Access\n",
        "\n",
        "For access to full functionality—including [customized safety](https://docs.aymara.ai/safety_notebook.html#create-safety-tests), [jailbreak](https://docs.aymara.ai/jailbreak_notebook.html), hallucination, and multimodal tests—visit [aymara.ai/upgrade](https://aymara.ai/upgrade)."
      ]
    }
  ],
  "metadata": {
    "kernelspec": {
      "display_name": ".venv",
      "language": "python",
      "name": "python3"
    },
    "language_info": {
      "codemirror_mode": {
        "name": "ipython",
        "version": 3
      },
      "file_extension": ".py",
      "mimetype": "text/x-python",
      "name": "python",
      "nbconvert_exporter": "python",
      "pygments_lexer": "ipython3",
      "version": "3.9.6"
    }
  },
  "nbformat": 4,
  "nbformat_minor": 2
}
