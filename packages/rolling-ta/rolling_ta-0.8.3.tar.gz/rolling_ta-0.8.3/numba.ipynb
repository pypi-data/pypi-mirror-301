{
 "cells": [
  {
   "cell_type": "code",
   "execution_count": 1,
   "metadata": {},
   "outputs": [],
   "source": [
    "from rolling_ta.data import CSVLoader\n",
    "\n",
    "\n",
    "import numpy as np\n",
    "import numba as nb\n",
    "from numba.types import Array, i4, f8\n",
    "\n",
    "import pandas as pd\n",
    "\n"
   ]
  },
  {
   "cell_type": "code",
   "execution_count": 2,
   "metadata": {},
   "outputs": [
    {
     "name": "stderr",
     "output_type": "stream",
     "text": [
      "DEBUG - CSVLoader: Loading from resources/btc_ohlcv.csv\n"
     ]
    }
   ],
   "source": [
    "csv_loader = CSVLoader()\n",
    "btc_data = csv_loader.read_resource()"
   ]
  },
  {
   "cell_type": "code",
   "execution_count": 3,
   "metadata": {},
   "outputs": [
    {
     "name": "stdout",
     "output_type": "stream",
     "text": [
      "<class 'pandas.core.frame.DataFrame'>\n",
      "RangeIndex: 10000 entries, 0 to 9999\n",
      "Data columns (total 6 columns):\n",
      " #   Column     Non-Null Count  Dtype  \n",
      "---  ------     --------------  -----  \n",
      " 0   timestamp  10000 non-null  float64\n",
      " 1   open       10000 non-null  float64\n",
      " 2   high       10000 non-null  float64\n",
      " 3   low        10000 non-null  float64\n",
      " 4   close      10000 non-null  float64\n",
      " 5   volume     10000 non-null  float64\n",
      "dtypes: float64(6)\n",
      "memory usage: 468.9 KB\n"
     ]
    }
   ],
   "source": [
    "btc_data.info()"
   ]
  },
  {
   "cell_type": "markdown",
   "metadata": {},
   "source": [
    "## Native Python Test\n",
    "*With pandas / numpy*"
   ]
  },
  {
   "cell_type": "code",
   "execution_count": 4,
   "metadata": {},
   "outputs": [],
   "source": [
    "# Define function\n",
    "def sma_native(data: pd.Series, period=14):\n",
    "    n = data.shape[0]\n",
    "    sma = list(0 for _ in range(n))\n",
    "    \n",
    "    for i in range(n):\n",
    "        sma[i] = sum(data[i:i + period]) / period\n",
    "        \n",
    "    return sma\n",
    "    "
   ]
  },
  {
   "cell_type": "code",
   "execution_count": 5,
   "metadata": {},
   "outputs": [
    {
     "name": "stdout",
     "output_type": "stream",
     "text": [
      "129 ms ± 1.66 ms per loop (mean ± std. dev. of 7 runs, 10 loops each)\n"
     ]
    }
   ],
   "source": [
    "%%timeit\n",
    "sma_native(btc_data[\"close\"])"
   ]
  },
  {
   "cell_type": "markdown",
   "metadata": {},
   "source": [
    "# Pandas Vectorized Test"
   ]
  },
  {
   "cell_type": "code",
   "execution_count": 6,
   "metadata": {},
   "outputs": [],
   "source": [
    "def sma_vectorized(data: pd.Series, period=14):\n",
    "    return data.rolling(period, min_periods=period).sum()"
   ]
  },
  {
   "cell_type": "code",
   "execution_count": 7,
   "metadata": {},
   "outputs": [
    {
     "name": "stdout",
     "output_type": "stream",
     "text": [
      "204 μs ± 3.4 μs per loop (mean ± std. dev. of 7 runs, 10,000 loops each)\n"
     ]
    }
   ],
   "source": [
    "%%timeit\n",
    "sma_vectorized(btc_data[\"close\"])"
   ]
  },
  {
   "cell_type": "markdown",
   "metadata": {},
   "source": [
    "## Numba Test\n",
    "*Jesus take the wheel*"
   ]
  },
  {
   "cell_type": "code",
   "execution_count": 8,
   "metadata": {},
   "outputs": [],
   "source": [
    "@nb.njit\n",
    "def sma_numba(data: np.ndarray[f8], period: i4 = 14) -> np.ndarray[f8]:\n",
    "    sma = np.zeros_like(data, dtype=np.float64)\n",
    "    \n",
    "    for i in range(sma.shape[0] - period):\n",
    "        sma[i + period] = np.sum(data[i:i+period]) / period\n",
    "    \n",
    "    return sma"
   ]
  },
  {
   "cell_type": "code",
   "execution_count": 10,
   "metadata": {},
   "outputs": [
    {
     "name": "stdout",
     "output_type": "stream",
     "text": [
      "65.2 μs ± 1.3 μs per loop (mean ± std. dev. of 7 runs, 10,000 loops each)\n"
     ]
    }
   ],
   "source": [
    "%%timeit\n",
    "sma_numba(btc_data[\"close\"].values)"
   ]
  }
 ],
 "metadata": {
  "kernelspec": {
   "display_name": ".rolling-ta",
   "language": "python",
   "name": "python3"
  },
  "language_info": {
   "codemirror_mode": {
    "name": "ipython",
    "version": 3
   },
   "file_extension": ".py",
   "mimetype": "text/x-python",
   "name": "python",
   "nbconvert_exporter": "python",
   "pygments_lexer": "ipython3",
   "version": "3.12.5"
  }
 },
 "nbformat": 4,
 "nbformat_minor": 2
}
