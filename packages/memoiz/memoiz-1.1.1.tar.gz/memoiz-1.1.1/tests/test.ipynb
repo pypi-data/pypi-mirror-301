{
 "cells": [
  {
   "cell_type": "code",
   "execution_count": 1,
   "metadata": {},
   "outputs": [],
   "source": [
    "import os\n",
    "import sys\n",
    "from pprint import pprint\n",
    "import json\n",
    "import logging\n",
    "import pandas as pd\n",
    "import threading\n",
    "import time"
   ]
  },
  {
   "cell_type": "code",
   "execution_count": 9,
   "metadata": {},
   "outputs": [
    {
     "name": "stdout",
     "output_type": "stream",
     "text": [
      "1: {}\n",
      "2: Hello, Very Happy World!\n",
      "3: Hello, Very Cautious World!\n",
      "4: {<bound method Greeter.greet of <__main__.Greeter object at 0x7fa64430e3e0>>: {((<__main__.Greeter object at 0x7fa64430e3e0>, 'Happy'), ()): 'Hello, Very Happy World!', ((<__main__.Greeter object at 0x7fa64430e3e0>, 'Cautious'), ()): 'Hello, Very Cautious World!'}}\n",
      "5: {<bound method Greeter.greet of <__main__.Greeter object at 0x7fa64430e3e0>>: {((<__main__.Greeter object at 0x7fa64430e3e0>, 'Cautious'), ()): 'Hello, Very Cautious World!'}}\n",
      "6: {}\n"
     ]
    }
   ],
   "source": [
    "from memoiz import Cache\n",
    "\n",
    "cache = Cache()\n",
    "\n",
    "\n",
    "class Greeter:\n",
    "\n",
    "    def __init__(self):\n",
    "        self.adv = \"Very\"\n",
    "\n",
    "    @cache #User the `cache` decorator in order to add memoization to the `greet` method.\n",
    "    def greet(self, adj: str) -> str:\n",
    "        return f\"Hello, {self.adv} {adj} World!\"\n",
    "\n",
    "\n",
    "greeter = Greeter()\n",
    "\n",
    "print(\"1:\", cache._cache)\n",
    "\n",
    "greeting = greeter.greet(\"Happy\")\n",
    "\n",
    "print(\"2:\", greeting)\n",
    "\n",
    "greeting = greeter.greet(\"Cautious\")\n",
    "\n",
    "print(\"3:\", greeting)\n",
    "\n",
    "# The cache has memoized the method call using the \"Happy\" argument and the\n",
    "# method call using the \"Cautious\" argument.\n",
    "print(\"4:\", cache._cache)\n",
    "\n",
    "# Invalidate the call to `greeter.greet` with the \"Happy\" argument.\n",
    "#                               ⮶ instance\n",
    "cache.invalidate(greeter.greet, greeter, \"Happy\")\n",
    "#                         ⮴ method       ⮴ args\n",
    "\n",
    "print(\"5:\", cache._cache)\n",
    "\n",
    "# Invalidate the call to `greeter.greet` with the `Cautious` argument.\n",
    "cache.invalidate(greeter.greet, greeter, \"Cautious\")\n",
    "\n",
    "# The cache is empty.\n",
    "print(\"6:\", cache._cache)"
   ]
  },
  {
   "cell_type": "code",
   "execution_count": 8,
   "metadata": {},
   "outputs": [
    {
     "name": "stdout",
     "output_type": "stream",
     "text": [
      "1: {}\n",
      "2: Hello, Happy World!\n",
      "3: Hello, Cautious World!\n",
      "4: {<function greet at 0x7fa6447ee8c0>: {(('Happy',), ()): 'Hello, Happy World!', (('Cautious',), ()): 'Hello, Cautious World!'}}\n",
      "5: {<function greet at 0x7fa6447ee8c0>: {(('Cautious',), ()): 'Hello, Cautious World!'}}\n",
      "6: {}\n"
     ]
    }
   ],
   "source": [
    "from memoiz import Cache\n",
    "\n",
    "cache = Cache()\n",
    "\n",
    "\n",
    "@cache\n",
    "def greet(adj: str) -> str:\n",
    "    return f\"Hello, {adj} World!\"\n",
    "\n",
    "\n",
    "print(\"1:\", cache._cache)\n",
    "\n",
    "greeting = greet(\"Happy\")\n",
    "\n",
    "print(\"2:\", greeting)\n",
    "\n",
    "greeting = greet(\"Cautious\")\n",
    "\n",
    "print(\"3:\", greeting)\n",
    "\n",
    "print(\"4:\", cache._cache)\n",
    "\n",
    "#                       ⮶ args\n",
    "cache.invalidate(greet, \"Happy\")\n",
    "#                ⮴ function\n",
    "\n",
    "# The call using the \"Happy\" argument is deleted; however, the call using the \"Cautious\" is still present.\n",
    "print(\"5:\", cache._cache)\n",
    "\n",
    "#                       ⮶ args\n",
    "cache.invalidate(greet, \"Cautious\")\n",
    "#                ⮴ function\n",
    "\n",
    "# The cache is now empty.\n",
    "print(\"6:\", cache._cache)"
   ]
  },
  {
   "cell_type": "code",
   "execution_count": null,
   "metadata": {},
   "outputs": [],
   "source": [
    "from memoiz import Cache\n",
    "\n",
    "\n",
    "cache = Cache()\n",
    "\n",
    "@cache\n",
    "def greet(adj: str) -> str:\n",
    "    return f\"Hello, {adj} World!\"\n",
    "\n",
    "def thread_function(args):\n",
    "\n",
    "    greeting = greet('Happy')\n",
    "\n",
    "    time.sleep(2)\n",
    "\n",
    "    print(greeting)\n",
    "    \n",
    "t = threading.Thread(target=thread_function, args=(1,))\n",
    "\n",
    "t.start()\n"
   ]
  }
 ],
 "metadata": {
  "kernelspec": {
   "display_name": "memoiz",
   "language": "python",
   "name": "python3"
  },
  "language_info": {
   "codemirror_mode": {
    "name": "ipython",
    "version": 3
   },
   "file_extension": ".py",
   "mimetype": "text/x-python",
   "name": "python",
   "nbconvert_exporter": "python",
   "pygments_lexer": "ipython3",
   "version": "3.10.15"
  },
  "orig_nbformat": 4
 },
 "nbformat": 4,
 "nbformat_minor": 2
}
