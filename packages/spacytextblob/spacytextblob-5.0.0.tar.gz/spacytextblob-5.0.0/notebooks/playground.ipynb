{
 "cells": [
  {
   "cell_type": "code",
   "execution_count": 1,
   "metadata": {},
   "outputs": [],
   "source": [
    "import spacy\n",
    "from rich import inspect\n",
    "from textblob import TextBlob  # noqa: F401\n",
    "\n",
    "from spacytextblob.spacytextblob import SpacyTextBlob  # noqa: F401"
   ]
  },
  {
   "cell_type": "code",
   "execution_count": 2,
   "metadata": {},
   "outputs": [],
   "source": [
    "nlp = spacy.load(\"en_core_web_sm\")\n",
    "nlp.add_pipe(\"spacytextblob\")\n",
    "text = \"We are going to have a good day. Ain't nobody gonna cry today.\"\n",
    "doc = nlp(text)"
   ]
  },
  {
   "cell_type": "code",
   "execution_count": 3,
   "metadata": {},
   "outputs": [
    {
     "data": {
      "text/plain": [
       "We are going to have a good day. Ain't nobody gonna cry today."
      ]
     },
     "execution_count": 3,
     "metadata": {},
     "output_type": "execute_result"
    }
   ],
   "source": [
    "doc"
   ]
  },
  {
   "cell_type": "code",
   "execution_count": 4,
   "metadata": {},
   "outputs": [
    {
     "data": {
      "text/html": [
       "<pre style=\"white-space:pre;overflow-x:auto;line-height:normal;font-family:Menlo,'DejaVu Sans Mono',consolas,'Courier New',monospace\"><span style=\"color: #000080; text-decoration-color: #000080\">╭─────────────────────────────────────── </span><span style=\"color: #000080; text-decoration-color: #000080; font-weight: bold\">&lt;</span><span style=\"color: #ff00ff; text-decoration-color: #ff00ff; font-weight: bold\">class</span><span style=\"color: #000000; text-decoration-color: #000000\"> </span><span style=\"color: #008000; text-decoration-color: #008000\">'textblob.blob.TextBlob'</span><span style=\"color: #000080; text-decoration-color: #000080; font-weight: bold\">&gt;</span><span style=\"color: #000080; text-decoration-color: #000080\"> ────────────────────────────────────────╮</span>\n",
       "<span style=\"color: #000080; text-decoration-color: #000080\">│</span> <span style=\"color: #008080; text-decoration-color: #008080\">A general text block, meant for larger bodies of text </span><span style=\"color: #008080; text-decoration-color: #008080; font-weight: bold\">(</span><span style=\"color: #008080; text-decoration-color: #008080\">esp. those</span>                                               <span style=\"color: #000080; text-decoration-color: #000080\">│</span>\n",
       "<span style=\"color: #000080; text-decoration-color: #000080\">│</span> <span style=\"color: #008080; text-decoration-color: #008080\">containing sentences</span><span style=\"color: #008080; text-decoration-color: #008080; font-weight: bold\">)</span><span style=\"color: #008080; text-decoration-color: #008080\">. Inherits from :class:`BaseBlob </span><span style=\"color: #008080; text-decoration-color: #008080; font-weight: bold\">&lt;</span><span style=\"color: #ff00ff; text-decoration-color: #ff00ff; font-weight: bold\">BaseBlob</span><span style=\"color: #008080; text-decoration-color: #008080; font-weight: bold\">&gt;</span><span style=\"color: #008080; text-decoration-color: #008080\">`.</span>                                              <span style=\"color: #000080; text-decoration-color: #000080\">│</span>\n",
       "<span style=\"color: #000080; text-decoration-color: #000080\">│</span>                                                                                                                 <span style=\"color: #000080; text-decoration-color: #000080\">│</span>\n",
       "<span style=\"color: #000080; text-decoration-color: #000080\">│</span> <span style=\"color: #008000; text-decoration-color: #008000\">╭─────────────────────────────────────────────────────────────────────────────────────────────────────────────╮</span> <span style=\"color: #000080; text-decoration-color: #000080\">│</span>\n",
       "<span style=\"color: #000080; text-decoration-color: #000080\">│</span> <span style=\"color: #008000; text-decoration-color: #008000\">│</span> <span style=\"color: #800080; text-decoration-color: #800080; font-weight: bold\">TextBlob</span><span style=\"font-weight: bold\">(</span><span style=\"color: #008000; text-decoration-color: #008000\">\"We are going to have a good day. Ain't nobody gonna cry today.\"</span><span style=\"font-weight: bold\">)</span>                                  <span style=\"color: #008000; text-decoration-color: #008000\">│</span> <span style=\"color: #000080; text-decoration-color: #000080\">│</span>\n",
       "<span style=\"color: #000080; text-decoration-color: #000080\">│</span> <span style=\"color: #008000; text-decoration-color: #008000\">╰─────────────────────────────────────────────────────────────────────────────────────────────────────────────╯</span> <span style=\"color: #000080; text-decoration-color: #000080\">│</span>\n",
       "<span style=\"color: #000080; text-decoration-color: #000080\">│</span>                                                                                                                 <span style=\"color: #000080; text-decoration-color: #000080\">│</span>\n",
       "<span style=\"color: #000080; text-decoration-color: #000080\">│</span>              <span style=\"color: #808000; text-decoration-color: #808000; font-style: italic\">analyzer</span> = <span style=\"font-weight: bold\">&lt;</span><span style=\"color: #ff00ff; text-decoration-color: #ff00ff; font-weight: bold\">textblob.en.sentiments.PatternAnalyzer</span><span style=\"color: #000000; text-decoration-color: #000000\"> object at </span><span style=\"color: #008080; text-decoration-color: #008080; font-weight: bold\">0x11bd85e20</span><span style=\"font-weight: bold\">&gt;</span>                          <span style=\"color: #000080; text-decoration-color: #000080\">│</span>\n",
       "<span style=\"color: #000080; text-decoration-color: #000080\">│</span>            <span style=\"color: #808000; text-decoration-color: #808000; font-style: italic\">classifier</span> = <span style=\"color: #800080; text-decoration-color: #800080; font-style: italic\">None</span>                                                                                    <span style=\"color: #000080; text-decoration-color: #000080\">│</span>\n",
       "<span style=\"color: #000080; text-decoration-color: #000080\">│</span>                  <span style=\"color: #800000; text-decoration-color: #800000; font-weight: bold; font-style: italic\">json</span><span style=\"color: #800000; text-decoration-color: #800000; font-weight: bold\"> =</span> <span style=\"color: #800080; text-decoration-color: #800080; font-weight: bold\">MissingCorpusError</span><span style=\"font-weight: bold\">(</span><span style=\"color: #008000; text-decoration-color: #008000\">\"\\nLooks like you are missing some required data for this </span>           <span style=\"color: #000080; text-decoration-color: #000080\">│</span>\n",
       "<span style=\"color: #000080; text-decoration-color: #000080\">│</span>                         <span style=\"color: #008000; text-decoration-color: #008000\">feature.\\n\\nTo download the necessary data, simply run\\n\\n    python -m </span>                <span style=\"color: #000080; text-decoration-color: #000080\">│</span>\n",
       "<span style=\"color: #000080; text-decoration-color: #000080\">│</span>                         <span style=\"color: #008000; text-decoration-color: #008000\">textblob.download_corpora\\n\\nor use the NLTK downloader to download the missing data: </span>  <span style=\"color: #000080; text-decoration-color: #000080\">│</span>\n",
       "<span style=\"color: #000080; text-decoration-color: #000080\">│</span>                         <span style=\"color: #008000; text-decoration-color: #008000\">http://nltk.org/data.html\\nIf this doesn't fix the problem, file an issue at </span>           <span style=\"color: #000080; text-decoration-color: #000080\">│</span>\n",
       "<span style=\"color: #000080; text-decoration-color: #000080\">│</span>                         <span style=\"color: #008000; text-decoration-color: #008000\">https://github.com/sloria/TextBlob/issues.\\n\"</span><span style=\"font-weight: bold\">)</span>                                          <span style=\"color: #000080; text-decoration-color: #000080\">│</span>\n",
       "<span style=\"color: #000080; text-decoration-color: #000080\">│</span>          <span style=\"color: #800000; text-decoration-color: #800000; font-weight: bold; font-style: italic\">noun_phrases</span><span style=\"color: #800000; text-decoration-color: #800000; font-weight: bold\"> =</span> <span style=\"color: #800080; text-decoration-color: #800080; font-weight: bold\">LookupError</span><span style=\"font-weight: bold\">(</span><span style=\"color: #008000; text-decoration-color: #008000\">\"\\n**********************************************************************\\n</span> <span style=\"color: #000080; text-decoration-color: #000080\">│</span>\n",
       "<span style=\"color: #000080; text-decoration-color: #000080\">│</span>                         <span style=\"color: #008000; text-decoration-color: #008000\">Resource \\x1b[93mpunkt_tab\\x1b[0m not found.\\n  Please use the NLTK Downloader to </span>      <span style=\"color: #000080; text-decoration-color: #000080\">│</span>\n",
       "<span style=\"color: #000080; text-decoration-color: #000080\">│</span>                         <span style=\"color: #008000; text-decoration-color: #008000\">obtain the resource:\\n\\n  \\x1b[31m&gt;&gt;&gt; import nltk\\n  &gt;&gt;&gt; nltk.download('punkt_tab')\\n  </span> <span style=\"color: #000080; text-decoration-color: #000080\">│</span>\n",
       "<span style=\"color: #000080; text-decoration-color: #000080\">│</span>                         <span style=\"color: #008000; text-decoration-color: #008000\">\\x1b[0m\\n  For more information see: https://www.nltk.org/data.html\\n\\n  Attempted to </span>  <span style=\"color: #000080; text-decoration-color: #000080\">│</span>\n",
       "<span style=\"color: #000080; text-decoration-color: #000080\">│</span>                         <span style=\"color: #008000; text-decoration-color: #008000\">load \\x1b[93mtokenizers/punkt_tab/english/\\x1b[0m\\n\\n  Searched in:\\n    - </span>             <span style=\"color: #000080; text-decoration-color: #000080\">│</span>\n",
       "<span style=\"color: #000080; text-decoration-color: #000080\">│</span>                         <span style=\"color: #008000; text-decoration-color: #008000\">'/Users/samedwardes/nltk_data'\\n    - </span>                                                  <span style=\"color: #000080; text-decoration-color: #000080\">│</span>\n",
       "<span style=\"color: #000080; text-decoration-color: #000080\">│</span>                         <span style=\"color: #008000; text-decoration-color: #008000\">'/Users/samedwardes/projects/personal/spacytextblob/.venv/nltk_data'\\n    - </span>            <span style=\"color: #000080; text-decoration-color: #000080\">│</span>\n",
       "<span style=\"color: #000080; text-decoration-color: #000080\">│</span>                         <span style=\"color: #008000; text-decoration-color: #008000\">'/Users/samedwardes/projects/personal/spacytextblob/.venv/share/nltk_data'\\n    - </span>      <span style=\"color: #000080; text-decoration-color: #000080\">│</span>\n",
       "<span style=\"color: #000080; text-decoration-color: #000080\">│</span>                         <span style=\"color: #008000; text-decoration-color: #008000\">'/Users/samedwardes/projects/personal/spacytextblob/.venv/lib/nltk_data'\\n    - </span>        <span style=\"color: #000080; text-decoration-color: #000080\">│</span>\n",
       "<span style=\"color: #000080; text-decoration-color: #000080\">│</span>                         <span style=\"color: #008000; text-decoration-color: #008000\">'/usr/share/nltk_data'\\n    - '/usr/local/share/nltk_data'\\n    - </span>                      <span style=\"color: #000080; text-decoration-color: #000080\">│</span>\n",
       "<span style=\"color: #000080; text-decoration-color: #000080\">│</span>                         <span style=\"color: #008000; text-decoration-color: #008000\">'/usr/lib/nltk_data'\\n    - </span>                                                            <span style=\"color: #000080; text-decoration-color: #000080\">│</span>\n",
       "<span style=\"color: #000080; text-decoration-color: #000080\">│</span>                         <span style=\"color: #008000; text-decoration-color: #008000\">'/usr/local/lib/nltk_data'\\n**********************************************************…</span> <span style=\"color: #000080; text-decoration-color: #000080\">│</span>\n",
       "<span style=\"color: #000080; text-decoration-color: #000080\">│</span>             <span style=\"color: #800000; text-decoration-color: #800000; font-weight: bold; font-style: italic\">np_counts</span><span style=\"color: #800000; text-decoration-color: #800000; font-weight: bold\"> =</span> <span style=\"color: #800080; text-decoration-color: #800080; font-weight: bold\">LookupError</span><span style=\"font-weight: bold\">(</span><span style=\"color: #008000; text-decoration-color: #008000\">\"\\n**********************************************************************\\n</span> <span style=\"color: #000080; text-decoration-color: #000080\">│</span>\n",
       "<span style=\"color: #000080; text-decoration-color: #000080\">│</span>                         <span style=\"color: #008000; text-decoration-color: #008000\">Resource \\x1b[93mpunkt_tab\\x1b[0m not found.\\n  Please use the NLTK Downloader to </span>      <span style=\"color: #000080; text-decoration-color: #000080\">│</span>\n",
       "<span style=\"color: #000080; text-decoration-color: #000080\">│</span>                         <span style=\"color: #008000; text-decoration-color: #008000\">obtain the resource:\\n\\n  \\x1b[31m&gt;&gt;&gt; import nltk\\n  &gt;&gt;&gt; nltk.download('punkt_tab')\\n  </span> <span style=\"color: #000080; text-decoration-color: #000080\">│</span>\n",
       "<span style=\"color: #000080; text-decoration-color: #000080\">│</span>                         <span style=\"color: #008000; text-decoration-color: #008000\">\\x1b[0m\\n  For more information see: https://www.nltk.org/data.html\\n\\n  Attempted to </span>  <span style=\"color: #000080; text-decoration-color: #000080\">│</span>\n",
       "<span style=\"color: #000080; text-decoration-color: #000080\">│</span>                         <span style=\"color: #008000; text-decoration-color: #008000\">load \\x1b[93mtokenizers/punkt_tab/english/\\x1b[0m\\n\\n  Searched in:\\n    - </span>             <span style=\"color: #000080; text-decoration-color: #000080\">│</span>\n",
       "<span style=\"color: #000080; text-decoration-color: #000080\">│</span>                         <span style=\"color: #008000; text-decoration-color: #008000\">'/Users/samedwardes/nltk_data'\\n    - </span>                                                  <span style=\"color: #000080; text-decoration-color: #000080\">│</span>\n",
       "<span style=\"color: #000080; text-decoration-color: #000080\">│</span>                         <span style=\"color: #008000; text-decoration-color: #008000\">'/Users/samedwardes/projects/personal/spacytextblob/.venv/nltk_data'\\n    - </span>            <span style=\"color: #000080; text-decoration-color: #000080\">│</span>\n",
       "<span style=\"color: #000080; text-decoration-color: #000080\">│</span>                         <span style=\"color: #008000; text-decoration-color: #008000\">'/Users/samedwardes/projects/personal/spacytextblob/.venv/share/nltk_data'\\n    - </span>      <span style=\"color: #000080; text-decoration-color: #000080\">│</span>\n",
       "<span style=\"color: #000080; text-decoration-color: #000080\">│</span>                         <span style=\"color: #008000; text-decoration-color: #008000\">'/Users/samedwardes/projects/personal/spacytextblob/.venv/lib/nltk_data'\\n    - </span>        <span style=\"color: #000080; text-decoration-color: #000080\">│</span>\n",
       "<span style=\"color: #000080; text-decoration-color: #000080\">│</span>                         <span style=\"color: #008000; text-decoration-color: #008000\">'/usr/share/nltk_data'\\n    - '/usr/local/share/nltk_data'\\n    - </span>                      <span style=\"color: #000080; text-decoration-color: #000080\">│</span>\n",
       "<span style=\"color: #000080; text-decoration-color: #000080\">│</span>                         <span style=\"color: #008000; text-decoration-color: #008000\">'/usr/lib/nltk_data'\\n    - </span>                                                            <span style=\"color: #000080; text-decoration-color: #000080\">│</span>\n",
       "<span style=\"color: #000080; text-decoration-color: #000080\">│</span>                         <span style=\"color: #008000; text-decoration-color: #008000\">'/usr/local/lib/nltk_data'\\n**********************************************************…</span> <span style=\"color: #000080; text-decoration-color: #000080\">│</span>\n",
       "<span style=\"color: #000080; text-decoration-color: #000080\">│</span>          <span style=\"color: #808000; text-decoration-color: #808000; font-style: italic\">np_extractor</span> = <span style=\"font-weight: bold\">&lt;</span><span style=\"color: #ff00ff; text-decoration-color: #ff00ff; font-weight: bold\">textblob.en.np_extractors.FastNPExtractor</span><span style=\"color: #000000; text-decoration-color: #000000\"> object at </span><span style=\"color: #008080; text-decoration-color: #008080; font-weight: bold\">0x11bd85d90</span><span style=\"font-weight: bold\">&gt;</span>                       <span style=\"color: #000080; text-decoration-color: #000080\">│</span>\n",
       "<span style=\"color: #000080; text-decoration-color: #000080\">│</span>                <span style=\"color: #808000; text-decoration-color: #808000; font-style: italic\">parser</span> = <span style=\"font-weight: bold\">&lt;</span><span style=\"color: #ff00ff; text-decoration-color: #ff00ff; font-weight: bold\">textblob.en.parsers.PatternParser</span><span style=\"color: #000000; text-decoration-color: #000000\"> object at </span><span style=\"color: #008080; text-decoration-color: #008080; font-weight: bold\">0x11bd85e50</span><span style=\"font-weight: bold\">&gt;</span>                               <span style=\"color: #000080; text-decoration-color: #000080\">│</span>\n",
       "<span style=\"color: #000080; text-decoration-color: #000080\">│</span>              <span style=\"color: #808000; text-decoration-color: #808000; font-style: italic\">polarity</span> = <span style=\"color: #008080; text-decoration-color: #008080; font-weight: bold\">0.7</span>                                                                                     <span style=\"color: #000080; text-decoration-color: #000080\">│</span>\n",
       "<span style=\"color: #000080; text-decoration-color: #000080\">│</span>            <span style=\"color: #808000; text-decoration-color: #808000; font-style: italic\">pos_tagger</span> = <span style=\"font-weight: bold\">&lt;</span><span style=\"color: #ff00ff; text-decoration-color: #ff00ff; font-weight: bold\">textblob.en.taggers.NLTKTagger</span><span style=\"color: #000000; text-decoration-color: #000000\"> object at </span><span style=\"color: #008080; text-decoration-color: #008080; font-weight: bold\">0x11bd85dc0</span><span style=\"font-weight: bold\">&gt;</span>                                  <span style=\"color: #000080; text-decoration-color: #000080\">│</span>\n",
       "<span style=\"color: #000080; text-decoration-color: #000080\">│</span>              <span style=\"color: #800000; text-decoration-color: #800000; font-weight: bold; font-style: italic\">pos_tags</span><span style=\"color: #800000; text-decoration-color: #800000; font-weight: bold\"> =</span> <span style=\"color: #800080; text-decoration-color: #800080; font-weight: bold\">MissingCorpusError</span><span style=\"font-weight: bold\">(</span><span style=\"color: #008000; text-decoration-color: #008000\">\"\\nLooks like you are missing some required data for this </span>           <span style=\"color: #000080; text-decoration-color: #000080\">│</span>\n",
       "<span style=\"color: #000080; text-decoration-color: #000080\">│</span>                         <span style=\"color: #008000; text-decoration-color: #008000\">feature.\\n\\nTo download the necessary data, simply run\\n\\n    python -m </span>                <span style=\"color: #000080; text-decoration-color: #000080\">│</span>\n",
       "<span style=\"color: #000080; text-decoration-color: #000080\">│</span>                         <span style=\"color: #008000; text-decoration-color: #008000\">textblob.download_corpora\\n\\nor use the NLTK downloader to download the missing data: </span>  <span style=\"color: #000080; text-decoration-color: #000080\">│</span>\n",
       "<span style=\"color: #000080; text-decoration-color: #000080\">│</span>                         <span style=\"color: #008000; text-decoration-color: #008000\">http://nltk.org/data.html\\nIf this doesn't fix the problem, file an issue at </span>           <span style=\"color: #000080; text-decoration-color: #000080\">│</span>\n",
       "<span style=\"color: #000080; text-decoration-color: #000080\">│</span>                         <span style=\"color: #008000; text-decoration-color: #008000\">https://github.com/sloria/TextBlob/issues.\\n\"</span><span style=\"font-weight: bold\">)</span>                                          <span style=\"color: #000080; text-decoration-color: #000080\">│</span>\n",
       "<span style=\"color: #000080; text-decoration-color: #000080\">│</span>                   <span style=\"color: #808000; text-decoration-color: #808000; font-style: italic\">raw</span> = <span style=\"color: #008000; text-decoration-color: #008000\">\"We are going to have a good day. Ain't nobody gonna cry today.\"</span>                        <span style=\"color: #000080; text-decoration-color: #000080\">│</span>\n",
       "<span style=\"color: #000080; text-decoration-color: #000080\">│</span>         <span style=\"color: #800000; text-decoration-color: #800000; font-weight: bold; font-style: italic\">raw_sentences</span><span style=\"color: #800000; text-decoration-color: #800000; font-weight: bold\"> =</span> <span style=\"color: #800080; text-decoration-color: #800080; font-weight: bold\">MissingCorpusError</span><span style=\"font-weight: bold\">(</span><span style=\"color: #008000; text-decoration-color: #008000\">\"\\nLooks like you are missing some required data for this </span>           <span style=\"color: #000080; text-decoration-color: #000080\">│</span>\n",
       "<span style=\"color: #000080; text-decoration-color: #000080\">│</span>                         <span style=\"color: #008000; text-decoration-color: #008000\">feature.\\n\\nTo download the necessary data, simply run\\n\\n    python -m </span>                <span style=\"color: #000080; text-decoration-color: #000080\">│</span>\n",
       "<span style=\"color: #000080; text-decoration-color: #000080\">│</span>                         <span style=\"color: #008000; text-decoration-color: #008000\">textblob.download_corpora\\n\\nor use the NLTK downloader to download the missing data: </span>  <span style=\"color: #000080; text-decoration-color: #000080\">│</span>\n",
       "<span style=\"color: #000080; text-decoration-color: #000080\">│</span>                         <span style=\"color: #008000; text-decoration-color: #008000\">http://nltk.org/data.html\\nIf this doesn't fix the problem, file an issue at </span>           <span style=\"color: #000080; text-decoration-color: #000080\">│</span>\n",
       "<span style=\"color: #000080; text-decoration-color: #000080\">│</span>                         <span style=\"color: #008000; text-decoration-color: #008000\">https://github.com/sloria/TextBlob/issues.\\n\"</span><span style=\"font-weight: bold\">)</span>                                          <span style=\"color: #000080; text-decoration-color: #000080\">│</span>\n",
       "<span style=\"color: #000080; text-decoration-color: #000080\">│</span>             <span style=\"color: #800000; text-decoration-color: #800000; font-weight: bold; font-style: italic\">sentences</span><span style=\"color: #800000; text-decoration-color: #800000; font-weight: bold\"> =</span> <span style=\"color: #800080; text-decoration-color: #800080; font-weight: bold\">MissingCorpusError</span><span style=\"font-weight: bold\">(</span><span style=\"color: #008000; text-decoration-color: #008000\">\"\\nLooks like you are missing some required data for this </span>           <span style=\"color: #000080; text-decoration-color: #000080\">│</span>\n",
       "<span style=\"color: #000080; text-decoration-color: #000080\">│</span>                         <span style=\"color: #008000; text-decoration-color: #008000\">feature.\\n\\nTo download the necessary data, simply run\\n\\n    python -m </span>                <span style=\"color: #000080; text-decoration-color: #000080\">│</span>\n",
       "<span style=\"color: #000080; text-decoration-color: #000080\">│</span>                         <span style=\"color: #008000; text-decoration-color: #008000\">textblob.download_corpora\\n\\nor use the NLTK downloader to download the missing data: </span>  <span style=\"color: #000080; text-decoration-color: #000080\">│</span>\n",
       "<span style=\"color: #000080; text-decoration-color: #000080\">│</span>                         <span style=\"color: #008000; text-decoration-color: #008000\">http://nltk.org/data.html\\nIf this doesn't fix the problem, file an issue at </span>           <span style=\"color: #000080; text-decoration-color: #000080\">│</span>\n",
       "<span style=\"color: #000080; text-decoration-color: #000080\">│</span>                         <span style=\"color: #008000; text-decoration-color: #008000\">https://github.com/sloria/TextBlob/issues.\\n\"</span><span style=\"font-weight: bold\">)</span>                                          <span style=\"color: #000080; text-decoration-color: #000080\">│</span>\n",
       "<span style=\"color: #000080; text-decoration-color: #000080\">│</span>             <span style=\"color: #808000; text-decoration-color: #808000; font-style: italic\">sentiment</span> = <span style=\"color: #800080; text-decoration-color: #800080; font-weight: bold\">Sentiment</span><span style=\"font-weight: bold\">(</span><span style=\"color: #808000; text-decoration-color: #808000\">polarity</span>=<span style=\"color: #008080; text-decoration-color: #008080; font-weight: bold\">0.7</span>, <span style=\"color: #808000; text-decoration-color: #808000\">subjectivity</span>=<span style=\"color: #008080; text-decoration-color: #008080; font-weight: bold\">0.6000000000000001</span><span style=\"font-weight: bold\">)</span>                                <span style=\"color: #000080; text-decoration-color: #000080\">│</span>\n",
       "<span style=\"color: #000080; text-decoration-color: #000080\">│</span> <span style=\"color: #808000; text-decoration-color: #808000; font-style: italic\">sentiment_assessments</span> = <span style=\"color: #800080; text-decoration-color: #800080; font-weight: bold\">Sentiment</span><span style=\"font-weight: bold\">(</span>                                                                              <span style=\"color: #000080; text-decoration-color: #000080\">│</span>\n",
       "<span style=\"color: #000080; text-decoration-color: #000080\">│</span>                             <span style=\"color: #808000; text-decoration-color: #808000\">polarity</span>=<span style=\"color: #008080; text-decoration-color: #008080; font-weight: bold\">0.7</span>,                                                                       <span style=\"color: #000080; text-decoration-color: #000080\">│</span>\n",
       "<span style=\"color: #000080; text-decoration-color: #000080\">│</span>                             <span style=\"color: #808000; text-decoration-color: #808000\">subjectivity</span>=<span style=\"color: #008080; text-decoration-color: #008080; font-weight: bold\">0.6000000000000001</span>,                                                    <span style=\"color: #000080; text-decoration-color: #000080\">│</span>\n",
       "<span style=\"color: #000080; text-decoration-color: #000080\">│</span>                             <span style=\"color: #808000; text-decoration-color: #808000\">assessments</span>=<span style=\"font-weight: bold\">[([</span><span style=\"color: #008000; text-decoration-color: #008000\">'good'</span><span style=\"font-weight: bold\">]</span>, <span style=\"color: #008080; text-decoration-color: #008080; font-weight: bold\">0.7</span>, <span style=\"color: #008080; text-decoration-color: #008080; font-weight: bold\">0.6000000000000001</span>, <span style=\"color: #800080; text-decoration-color: #800080; font-style: italic\">None</span><span style=\"font-weight: bold\">)]</span>                             <span style=\"color: #000080; text-decoration-color: #000080\">│</span>\n",
       "<span style=\"color: #000080; text-decoration-color: #000080\">│</span>                         <span style=\"font-weight: bold\">)</span>                                                                                       <span style=\"color: #000080; text-decoration-color: #000080\">│</span>\n",
       "<span style=\"color: #000080; text-decoration-color: #000080\">│</span>            <span style=\"color: #800000; text-decoration-color: #800000; font-weight: bold; font-style: italic\">serialized</span><span style=\"color: #800000; text-decoration-color: #800000; font-weight: bold\"> =</span> <span style=\"color: #800080; text-decoration-color: #800080; font-weight: bold\">MissingCorpusError</span><span style=\"font-weight: bold\">(</span><span style=\"color: #008000; text-decoration-color: #008000\">\"\\nLooks like you are missing some required data for this </span>           <span style=\"color: #000080; text-decoration-color: #000080\">│</span>\n",
       "<span style=\"color: #000080; text-decoration-color: #000080\">│</span>                         <span style=\"color: #008000; text-decoration-color: #008000\">feature.\\n\\nTo download the necessary data, simply run\\n\\n    python -m </span>                <span style=\"color: #000080; text-decoration-color: #000080\">│</span>\n",
       "<span style=\"color: #000080; text-decoration-color: #000080\">│</span>                         <span style=\"color: #008000; text-decoration-color: #008000\">textblob.download_corpora\\n\\nor use the NLTK downloader to download the missing data: </span>  <span style=\"color: #000080; text-decoration-color: #000080\">│</span>\n",
       "<span style=\"color: #000080; text-decoration-color: #000080\">│</span>                         <span style=\"color: #008000; text-decoration-color: #008000\">http://nltk.org/data.html\\nIf this doesn't fix the problem, file an issue at </span>           <span style=\"color: #000080; text-decoration-color: #000080\">│</span>\n",
       "<span style=\"color: #000080; text-decoration-color: #000080\">│</span>                         <span style=\"color: #008000; text-decoration-color: #008000\">https://github.com/sloria/TextBlob/issues.\\n\"</span><span style=\"font-weight: bold\">)</span>                                          <span style=\"color: #000080; text-decoration-color: #000080\">│</span>\n",
       "<span style=\"color: #000080; text-decoration-color: #000080\">│</span>                <span style=\"color: #808000; text-decoration-color: #808000; font-style: italic\">string</span> = <span style=\"color: #008000; text-decoration-color: #008000\">\"We are going to have a good day. Ain't nobody gonna cry today.\"</span>                        <span style=\"color: #000080; text-decoration-color: #000080\">│</span>\n",
       "<span style=\"color: #000080; text-decoration-color: #000080\">│</span>              <span style=\"color: #808000; text-decoration-color: #808000; font-style: italic\">stripped</span> = <span style=\"color: #008000; text-decoration-color: #008000\">'we are going to have a good day aint nobody gonna cry today'</span>                           <span style=\"color: #000080; text-decoration-color: #000080\">│</span>\n",
       "<span style=\"color: #000080; text-decoration-color: #000080\">│</span>          <span style=\"color: #808000; text-decoration-color: #808000; font-style: italic\">subjectivity</span> = <span style=\"color: #008080; text-decoration-color: #008080; font-weight: bold\">0.6000000000000001</span>                                                                      <span style=\"color: #000080; text-decoration-color: #000080\">│</span>\n",
       "<span style=\"color: #000080; text-decoration-color: #000080\">│</span>                  <span style=\"color: #800000; text-decoration-color: #800000; font-weight: bold; font-style: italic\">tags</span><span style=\"color: #800000; text-decoration-color: #800000; font-weight: bold\"> =</span> <span style=\"color: #800080; text-decoration-color: #800080; font-weight: bold\">MissingCorpusError</span><span style=\"font-weight: bold\">(</span><span style=\"color: #008000; text-decoration-color: #008000\">\"\\nLooks like you are missing some required data for this </span>           <span style=\"color: #000080; text-decoration-color: #000080\">│</span>\n",
       "<span style=\"color: #000080; text-decoration-color: #000080\">│</span>                         <span style=\"color: #008000; text-decoration-color: #008000\">feature.\\n\\nTo download the necessary data, simply run\\n\\n    python -m </span>                <span style=\"color: #000080; text-decoration-color: #000080\">│</span>\n",
       "<span style=\"color: #000080; text-decoration-color: #000080\">│</span>                         <span style=\"color: #008000; text-decoration-color: #008000\">textblob.download_corpora\\n\\nor use the NLTK downloader to download the missing data: </span>  <span style=\"color: #000080; text-decoration-color: #000080\">│</span>\n",
       "<span style=\"color: #000080; text-decoration-color: #000080\">│</span>                         <span style=\"color: #008000; text-decoration-color: #008000\">http://nltk.org/data.html\\nIf this doesn't fix the problem, file an issue at </span>           <span style=\"color: #000080; text-decoration-color: #000080\">│</span>\n",
       "<span style=\"color: #000080; text-decoration-color: #000080\">│</span>                         <span style=\"color: #008000; text-decoration-color: #008000\">https://github.com/sloria/TextBlob/issues.\\n\"</span><span style=\"font-weight: bold\">)</span>                                          <span style=\"color: #000080; text-decoration-color: #000080\">│</span>\n",
       "<span style=\"color: #000080; text-decoration-color: #000080\">│</span>             <span style=\"color: #808000; text-decoration-color: #808000; font-style: italic\">tokenizer</span> = <span style=\"font-weight: bold\">&lt;</span><span style=\"color: #ff00ff; text-decoration-color: #ff00ff; font-weight: bold\">textblob.tokenizers.WordTokenizer</span><span style=\"color: #000000; text-decoration-color: #000000\"> object at </span><span style=\"color: #008080; text-decoration-color: #008080; font-weight: bold\">0x11bd85df0</span><span style=\"font-weight: bold\">&gt;</span>                               <span style=\"color: #000080; text-decoration-color: #000080\">│</span>\n",
       "<span style=\"color: #000080; text-decoration-color: #000080\">│</span>                <span style=\"color: #800000; text-decoration-color: #800000; font-weight: bold; font-style: italic\">tokens</span><span style=\"color: #800000; text-decoration-color: #800000; font-weight: bold\"> =</span> <span style=\"color: #800080; text-decoration-color: #800080; font-weight: bold\">LookupError</span><span style=\"font-weight: bold\">(</span><span style=\"color: #008000; text-decoration-color: #008000\">\"\\n**********************************************************************\\n</span> <span style=\"color: #000080; text-decoration-color: #000080\">│</span>\n",
       "<span style=\"color: #000080; text-decoration-color: #000080\">│</span>                         <span style=\"color: #008000; text-decoration-color: #008000\">Resource \\x1b[93mpunkt_tab\\x1b[0m not found.\\n  Please use the NLTK Downloader to </span>      <span style=\"color: #000080; text-decoration-color: #000080\">│</span>\n",
       "<span style=\"color: #000080; text-decoration-color: #000080\">│</span>                         <span style=\"color: #008000; text-decoration-color: #008000\">obtain the resource:\\n\\n  \\x1b[31m&gt;&gt;&gt; import nltk\\n  &gt;&gt;&gt; nltk.download('punkt_tab')\\n  </span> <span style=\"color: #000080; text-decoration-color: #000080\">│</span>\n",
       "<span style=\"color: #000080; text-decoration-color: #000080\">│</span>                         <span style=\"color: #008000; text-decoration-color: #008000\">\\x1b[0m\\n  For more information see: https://www.nltk.org/data.html\\n\\n  Attempted to </span>  <span style=\"color: #000080; text-decoration-color: #000080\">│</span>\n",
       "<span style=\"color: #000080; text-decoration-color: #000080\">│</span>                         <span style=\"color: #008000; text-decoration-color: #008000\">load \\x1b[93mtokenizers/punkt_tab/english/\\x1b[0m\\n\\n  Searched in:\\n    - </span>             <span style=\"color: #000080; text-decoration-color: #000080\">│</span>\n",
       "<span style=\"color: #000080; text-decoration-color: #000080\">│</span>                         <span style=\"color: #008000; text-decoration-color: #008000\">'/Users/samedwardes/nltk_data'\\n    - </span>                                                  <span style=\"color: #000080; text-decoration-color: #000080\">│</span>\n",
       "<span style=\"color: #000080; text-decoration-color: #000080\">│</span>                         <span style=\"color: #008000; text-decoration-color: #008000\">'/Users/samedwardes/projects/personal/spacytextblob/.venv/nltk_data'\\n    - </span>            <span style=\"color: #000080; text-decoration-color: #000080\">│</span>\n",
       "<span style=\"color: #000080; text-decoration-color: #000080\">│</span>                         <span style=\"color: #008000; text-decoration-color: #008000\">'/Users/samedwardes/projects/personal/spacytextblob/.venv/share/nltk_data'\\n    - </span>      <span style=\"color: #000080; text-decoration-color: #000080\">│</span>\n",
       "<span style=\"color: #000080; text-decoration-color: #000080\">│</span>                         <span style=\"color: #008000; text-decoration-color: #008000\">'/Users/samedwardes/projects/personal/spacytextblob/.venv/lib/nltk_data'\\n    - </span>        <span style=\"color: #000080; text-decoration-color: #000080\">│</span>\n",
       "<span style=\"color: #000080; text-decoration-color: #000080\">│</span>                         <span style=\"color: #008000; text-decoration-color: #008000\">'/usr/share/nltk_data'\\n    - '/usr/local/share/nltk_data'\\n    - </span>                      <span style=\"color: #000080; text-decoration-color: #000080\">│</span>\n",
       "<span style=\"color: #000080; text-decoration-color: #000080\">│</span>                         <span style=\"color: #008000; text-decoration-color: #008000\">'/usr/lib/nltk_data'\\n    - </span>                                                            <span style=\"color: #000080; text-decoration-color: #000080\">│</span>\n",
       "<span style=\"color: #000080; text-decoration-color: #000080\">│</span>                         <span style=\"color: #008000; text-decoration-color: #008000\">'/usr/local/lib/nltk_data'\\n**********************************************************…</span> <span style=\"color: #000080; text-decoration-color: #000080\">│</span>\n",
       "<span style=\"color: #000080; text-decoration-color: #000080\">│</span>           <span style=\"color: #800000; text-decoration-color: #800000; font-weight: bold; font-style: italic\">word_counts</span><span style=\"color: #800000; text-decoration-color: #800000; font-weight: bold\"> =</span> <span style=\"color: #800080; text-decoration-color: #800080; font-weight: bold\">MissingCorpusError</span><span style=\"font-weight: bold\">(</span><span style=\"color: #008000; text-decoration-color: #008000\">\"\\nLooks like you are missing some required data for this </span>           <span style=\"color: #000080; text-decoration-color: #000080\">│</span>\n",
       "<span style=\"color: #000080; text-decoration-color: #000080\">│</span>                         <span style=\"color: #008000; text-decoration-color: #008000\">feature.\\n\\nTo download the necessary data, simply run\\n\\n    python -m </span>                <span style=\"color: #000080; text-decoration-color: #000080\">│</span>\n",
       "<span style=\"color: #000080; text-decoration-color: #000080\">│</span>                         <span style=\"color: #008000; text-decoration-color: #008000\">textblob.download_corpora\\n\\nor use the NLTK downloader to download the missing data: </span>  <span style=\"color: #000080; text-decoration-color: #000080\">│</span>\n",
       "<span style=\"color: #000080; text-decoration-color: #000080\">│</span>                         <span style=\"color: #008000; text-decoration-color: #008000\">http://nltk.org/data.html\\nIf this doesn't fix the problem, file an issue at </span>           <span style=\"color: #000080; text-decoration-color: #000080\">│</span>\n",
       "<span style=\"color: #000080; text-decoration-color: #000080\">│</span>                         <span style=\"color: #008000; text-decoration-color: #008000\">https://github.com/sloria/TextBlob/issues.\\n\"</span><span style=\"font-weight: bold\">)</span>                                          <span style=\"color: #000080; text-decoration-color: #000080\">│</span>\n",
       "<span style=\"color: #000080; text-decoration-color: #000080\">│</span>                 <span style=\"color: #800000; text-decoration-color: #800000; font-weight: bold; font-style: italic\">words</span><span style=\"color: #800000; text-decoration-color: #800000; font-weight: bold\"> =</span> <span style=\"color: #800080; text-decoration-color: #800080; font-weight: bold\">MissingCorpusError</span><span style=\"font-weight: bold\">(</span><span style=\"color: #008000; text-decoration-color: #008000\">\"\\nLooks like you are missing some required data for this </span>           <span style=\"color: #000080; text-decoration-color: #000080\">│</span>\n",
       "<span style=\"color: #000080; text-decoration-color: #000080\">│</span>                         <span style=\"color: #008000; text-decoration-color: #008000\">feature.\\n\\nTo download the necessary data, simply run\\n\\n    python -m </span>                <span style=\"color: #000080; text-decoration-color: #000080\">│</span>\n",
       "<span style=\"color: #000080; text-decoration-color: #000080\">│</span>                         <span style=\"color: #008000; text-decoration-color: #008000\">textblob.download_corpora\\n\\nor use the NLTK downloader to download the missing data: </span>  <span style=\"color: #000080; text-decoration-color: #000080\">│</span>\n",
       "<span style=\"color: #000080; text-decoration-color: #000080\">│</span>                         <span style=\"color: #008000; text-decoration-color: #008000\">http://nltk.org/data.html\\nIf this doesn't fix the problem, file an issue at </span>           <span style=\"color: #000080; text-decoration-color: #000080\">│</span>\n",
       "<span style=\"color: #000080; text-decoration-color: #000080\">│</span>                         <span style=\"color: #008000; text-decoration-color: #008000\">https://github.com/sloria/TextBlob/issues.\\n\"</span><span style=\"font-weight: bold\">)</span>                                          <span style=\"color: #000080; text-decoration-color: #000080\">│</span>\n",
       "<span style=\"color: #000080; text-decoration-color: #000080\">╰─────────────────────────────────────────────────────────────────────────────────────────────────────────────────╯</span>\n",
       "</pre>\n"
      ],
      "text/plain": [
       "\u001b[34m╭─\u001b[0m\u001b[34m──────────────────────────────────────\u001b[0m\u001b[34m \u001b[0m\u001b[1;34m<\u001b[0m\u001b[1;95mclass\u001b[0m\u001b[39m \u001b[0m\u001b[32m'textblob.blob.TextBlob'\u001b[0m\u001b[1;34m>\u001b[0m\u001b[34m \u001b[0m\u001b[34m───────────────────────────────────────\u001b[0m\u001b[34m─╮\u001b[0m\n",
       "\u001b[34m│\u001b[0m \u001b[36mA general text block, meant for larger bodies of text \u001b[0m\u001b[1;36m(\u001b[0m\u001b[36mesp. those\u001b[0m                                               \u001b[34m│\u001b[0m\n",
       "\u001b[34m│\u001b[0m \u001b[36mcontaining sentences\u001b[0m\u001b[1;36m)\u001b[0m\u001b[36m. Inherits from :class:`BaseBlob \u001b[0m\u001b[1;36m<\u001b[0m\u001b[1;95mBaseBlob\u001b[0m\u001b[1;36m>\u001b[0m\u001b[36m`.\u001b[0m                                              \u001b[34m│\u001b[0m\n",
       "\u001b[34m│\u001b[0m                                                                                                                 \u001b[34m│\u001b[0m\n",
       "\u001b[34m│\u001b[0m \u001b[32m╭─────────────────────────────────────────────────────────────────────────────────────────────────────────────╮\u001b[0m \u001b[34m│\u001b[0m\n",
       "\u001b[34m│\u001b[0m \u001b[32m│\u001b[0m \u001b[1;35mTextBlob\u001b[0m\u001b[1m(\u001b[0m\u001b[32m\"We are going to have a good day. Ain't nobody gonna cry today.\"\u001b[0m\u001b[1m)\u001b[0m                                  \u001b[32m│\u001b[0m \u001b[34m│\u001b[0m\n",
       "\u001b[34m│\u001b[0m \u001b[32m╰─────────────────────────────────────────────────────────────────────────────────────────────────────────────╯\u001b[0m \u001b[34m│\u001b[0m\n",
       "\u001b[34m│\u001b[0m                                                                                                                 \u001b[34m│\u001b[0m\n",
       "\u001b[34m│\u001b[0m              \u001b[3;33manalyzer\u001b[0m = \u001b[1m<\u001b[0m\u001b[1;95mtextblob.en.sentiments.PatternAnalyzer\u001b[0m\u001b[39m object at \u001b[0m\u001b[1;36m0x11bd85e20\u001b[0m\u001b[1m>\u001b[0m                          \u001b[34m│\u001b[0m\n",
       "\u001b[34m│\u001b[0m            \u001b[3;33mclassifier\u001b[0m = \u001b[3;35mNone\u001b[0m                                                                                    \u001b[34m│\u001b[0m\n",
       "\u001b[34m│\u001b[0m                  \u001b[1;3;31mjson\u001b[0m\u001b[1;31m =\u001b[0m \u001b[1;35mMissingCorpusError\u001b[0m\u001b[1m(\u001b[0m\u001b[32m\"\\nLooks like you are missing some required data for this \u001b[0m           \u001b[34m│\u001b[0m\n",
       "\u001b[34m│\u001b[0m                         \u001b[32mfeature.\\n\\nTo download the necessary data, simply run\\n\\n    python -m \u001b[0m                \u001b[34m│\u001b[0m\n",
       "\u001b[34m│\u001b[0m                         \u001b[32mtextblob.download_corpora\\n\\nor use the NLTK downloader to download the missing data: \u001b[0m  \u001b[34m│\u001b[0m\n",
       "\u001b[34m│\u001b[0m                         \u001b[32mhttp://nltk.org/data.html\\nIf this doesn't fix the problem, file an issue at \u001b[0m           \u001b[34m│\u001b[0m\n",
       "\u001b[34m│\u001b[0m                         \u001b[32mhttps://github.com/sloria/TextBlob/issues.\\n\"\u001b[0m\u001b[1m)\u001b[0m                                          \u001b[34m│\u001b[0m\n",
       "\u001b[34m│\u001b[0m          \u001b[1;3;31mnoun_phrases\u001b[0m\u001b[1;31m =\u001b[0m \u001b[1;35mLookupError\u001b[0m\u001b[1m(\u001b[0m\u001b[32m\"\\n**********************************************************************\\n\u001b[0m \u001b[34m│\u001b[0m\n",
       "\u001b[34m│\u001b[0m                         \u001b[32mResource \\x1b\u001b[0m\u001b[32m[\u001b[0m\u001b[32m93mpunkt_tab\\x1b\u001b[0m\u001b[32m[\u001b[0m\u001b[32m0m not found.\\n  Please use the NLTK Downloader to \u001b[0m      \u001b[34m│\u001b[0m\n",
       "\u001b[34m│\u001b[0m                         \u001b[32mobtain the resource:\\n\\n  \\x1b\u001b[0m\u001b[32m[\u001b[0m\u001b[32m31m>>> import nltk\\n  >>> nltk.download\u001b[0m\u001b[32m(\u001b[0m\u001b[32m'punkt_tab'\u001b[0m\u001b[32m)\u001b[0m\u001b[32m\\n  \u001b[0m \u001b[34m│\u001b[0m\n",
       "\u001b[34m│\u001b[0m                         \u001b[32m\\x1b\u001b[0m\u001b[32m[\u001b[0m\u001b[32m0m\\n  For more information see: https://www.nltk.org/data.html\\n\\n  Attempted to \u001b[0m  \u001b[34m│\u001b[0m\n",
       "\u001b[34m│\u001b[0m                         \u001b[32mload \\x1b\u001b[0m\u001b[32m[\u001b[0m\u001b[32m93mtokenizers/punkt_tab/english/\\x1b\u001b[0m\u001b[32m[\u001b[0m\u001b[32m0m\\n\\n  Searched in:\\n    - \u001b[0m             \u001b[34m│\u001b[0m\n",
       "\u001b[34m│\u001b[0m                         \u001b[32m'/Users/samedwardes/nltk_data'\\n    - \u001b[0m                                                  \u001b[34m│\u001b[0m\n",
       "\u001b[34m│\u001b[0m                         \u001b[32m'/Users/samedwardes/projects/personal/spacytextblob/.venv/nltk_data'\\n    - \u001b[0m            \u001b[34m│\u001b[0m\n",
       "\u001b[34m│\u001b[0m                         \u001b[32m'/Users/samedwardes/projects/personal/spacytextblob/.venv/share/nltk_data'\\n    - \u001b[0m      \u001b[34m│\u001b[0m\n",
       "\u001b[34m│\u001b[0m                         \u001b[32m'/Users/samedwardes/projects/personal/spacytextblob/.venv/lib/nltk_data'\\n    - \u001b[0m        \u001b[34m│\u001b[0m\n",
       "\u001b[34m│\u001b[0m                         \u001b[32m'/usr/share/nltk_data'\\n    - '/usr/local/share/nltk_data'\\n    - \u001b[0m                      \u001b[34m│\u001b[0m\n",
       "\u001b[34m│\u001b[0m                         \u001b[32m'/usr/lib/nltk_data'\\n    - \u001b[0m                                                            \u001b[34m│\u001b[0m\n",
       "\u001b[34m│\u001b[0m                         \u001b[32m'/usr/local/lib/nltk_data'\\n**********************************************************…\u001b[0m \u001b[34m│\u001b[0m\n",
       "\u001b[34m│\u001b[0m             \u001b[1;3;31mnp_counts\u001b[0m\u001b[1;31m =\u001b[0m \u001b[1;35mLookupError\u001b[0m\u001b[1m(\u001b[0m\u001b[32m\"\\n**********************************************************************\\n\u001b[0m \u001b[34m│\u001b[0m\n",
       "\u001b[34m│\u001b[0m                         \u001b[32mResource \\x1b\u001b[0m\u001b[32m[\u001b[0m\u001b[32m93mpunkt_tab\\x1b\u001b[0m\u001b[32m[\u001b[0m\u001b[32m0m not found.\\n  Please use the NLTK Downloader to \u001b[0m      \u001b[34m│\u001b[0m\n",
       "\u001b[34m│\u001b[0m                         \u001b[32mobtain the resource:\\n\\n  \\x1b\u001b[0m\u001b[32m[\u001b[0m\u001b[32m31m>>> import nltk\\n  >>> nltk.download\u001b[0m\u001b[32m(\u001b[0m\u001b[32m'punkt_tab'\u001b[0m\u001b[32m)\u001b[0m\u001b[32m\\n  \u001b[0m \u001b[34m│\u001b[0m\n",
       "\u001b[34m│\u001b[0m                         \u001b[32m\\x1b\u001b[0m\u001b[32m[\u001b[0m\u001b[32m0m\\n  For more information see: https://www.nltk.org/data.html\\n\\n  Attempted to \u001b[0m  \u001b[34m│\u001b[0m\n",
       "\u001b[34m│\u001b[0m                         \u001b[32mload \\x1b\u001b[0m\u001b[32m[\u001b[0m\u001b[32m93mtokenizers/punkt_tab/english/\\x1b\u001b[0m\u001b[32m[\u001b[0m\u001b[32m0m\\n\\n  Searched in:\\n    - \u001b[0m             \u001b[34m│\u001b[0m\n",
       "\u001b[34m│\u001b[0m                         \u001b[32m'/Users/samedwardes/nltk_data'\\n    - \u001b[0m                                                  \u001b[34m│\u001b[0m\n",
       "\u001b[34m│\u001b[0m                         \u001b[32m'/Users/samedwardes/projects/personal/spacytextblob/.venv/nltk_data'\\n    - \u001b[0m            \u001b[34m│\u001b[0m\n",
       "\u001b[34m│\u001b[0m                         \u001b[32m'/Users/samedwardes/projects/personal/spacytextblob/.venv/share/nltk_data'\\n    - \u001b[0m      \u001b[34m│\u001b[0m\n",
       "\u001b[34m│\u001b[0m                         \u001b[32m'/Users/samedwardes/projects/personal/spacytextblob/.venv/lib/nltk_data'\\n    - \u001b[0m        \u001b[34m│\u001b[0m\n",
       "\u001b[34m│\u001b[0m                         \u001b[32m'/usr/share/nltk_data'\\n    - '/usr/local/share/nltk_data'\\n    - \u001b[0m                      \u001b[34m│\u001b[0m\n",
       "\u001b[34m│\u001b[0m                         \u001b[32m'/usr/lib/nltk_data'\\n    - \u001b[0m                                                            \u001b[34m│\u001b[0m\n",
       "\u001b[34m│\u001b[0m                         \u001b[32m'/usr/local/lib/nltk_data'\\n**********************************************************…\u001b[0m \u001b[34m│\u001b[0m\n",
       "\u001b[34m│\u001b[0m          \u001b[3;33mnp_extractor\u001b[0m = \u001b[1m<\u001b[0m\u001b[1;95mtextblob.en.np_extractors.FastNPExtractor\u001b[0m\u001b[39m object at \u001b[0m\u001b[1;36m0x11bd85d90\u001b[0m\u001b[1m>\u001b[0m                       \u001b[34m│\u001b[0m\n",
       "\u001b[34m│\u001b[0m                \u001b[3;33mparser\u001b[0m = \u001b[1m<\u001b[0m\u001b[1;95mtextblob.en.parsers.PatternParser\u001b[0m\u001b[39m object at \u001b[0m\u001b[1;36m0x11bd85e50\u001b[0m\u001b[1m>\u001b[0m                               \u001b[34m│\u001b[0m\n",
       "\u001b[34m│\u001b[0m              \u001b[3;33mpolarity\u001b[0m = \u001b[1;36m0.7\u001b[0m                                                                                     \u001b[34m│\u001b[0m\n",
       "\u001b[34m│\u001b[0m            \u001b[3;33mpos_tagger\u001b[0m = \u001b[1m<\u001b[0m\u001b[1;95mtextblob.en.taggers.NLTKTagger\u001b[0m\u001b[39m object at \u001b[0m\u001b[1;36m0x11bd85dc0\u001b[0m\u001b[1m>\u001b[0m                                  \u001b[34m│\u001b[0m\n",
       "\u001b[34m│\u001b[0m              \u001b[1;3;31mpos_tags\u001b[0m\u001b[1;31m =\u001b[0m \u001b[1;35mMissingCorpusError\u001b[0m\u001b[1m(\u001b[0m\u001b[32m\"\\nLooks like you are missing some required data for this \u001b[0m           \u001b[34m│\u001b[0m\n",
       "\u001b[34m│\u001b[0m                         \u001b[32mfeature.\\n\\nTo download the necessary data, simply run\\n\\n    python -m \u001b[0m                \u001b[34m│\u001b[0m\n",
       "\u001b[34m│\u001b[0m                         \u001b[32mtextblob.download_corpora\\n\\nor use the NLTK downloader to download the missing data: \u001b[0m  \u001b[34m│\u001b[0m\n",
       "\u001b[34m│\u001b[0m                         \u001b[32mhttp://nltk.org/data.html\\nIf this doesn't fix the problem, file an issue at \u001b[0m           \u001b[34m│\u001b[0m\n",
       "\u001b[34m│\u001b[0m                         \u001b[32mhttps://github.com/sloria/TextBlob/issues.\\n\"\u001b[0m\u001b[1m)\u001b[0m                                          \u001b[34m│\u001b[0m\n",
       "\u001b[34m│\u001b[0m                   \u001b[3;33mraw\u001b[0m = \u001b[32m\"We are going to have a good day. Ain't nobody gonna cry today.\"\u001b[0m                        \u001b[34m│\u001b[0m\n",
       "\u001b[34m│\u001b[0m         \u001b[1;3;31mraw_sentences\u001b[0m\u001b[1;31m =\u001b[0m \u001b[1;35mMissingCorpusError\u001b[0m\u001b[1m(\u001b[0m\u001b[32m\"\\nLooks like you are missing some required data for this \u001b[0m           \u001b[34m│\u001b[0m\n",
       "\u001b[34m│\u001b[0m                         \u001b[32mfeature.\\n\\nTo download the necessary data, simply run\\n\\n    python -m \u001b[0m                \u001b[34m│\u001b[0m\n",
       "\u001b[34m│\u001b[0m                         \u001b[32mtextblob.download_corpora\\n\\nor use the NLTK downloader to download the missing data: \u001b[0m  \u001b[34m│\u001b[0m\n",
       "\u001b[34m│\u001b[0m                         \u001b[32mhttp://nltk.org/data.html\\nIf this doesn't fix the problem, file an issue at \u001b[0m           \u001b[34m│\u001b[0m\n",
       "\u001b[34m│\u001b[0m                         \u001b[32mhttps://github.com/sloria/TextBlob/issues.\\n\"\u001b[0m\u001b[1m)\u001b[0m                                          \u001b[34m│\u001b[0m\n",
       "\u001b[34m│\u001b[0m             \u001b[1;3;31msentences\u001b[0m\u001b[1;31m =\u001b[0m \u001b[1;35mMissingCorpusError\u001b[0m\u001b[1m(\u001b[0m\u001b[32m\"\\nLooks like you are missing some required data for this \u001b[0m           \u001b[34m│\u001b[0m\n",
       "\u001b[34m│\u001b[0m                         \u001b[32mfeature.\\n\\nTo download the necessary data, simply run\\n\\n    python -m \u001b[0m                \u001b[34m│\u001b[0m\n",
       "\u001b[34m│\u001b[0m                         \u001b[32mtextblob.download_corpora\\n\\nor use the NLTK downloader to download the missing data: \u001b[0m  \u001b[34m│\u001b[0m\n",
       "\u001b[34m│\u001b[0m                         \u001b[32mhttp://nltk.org/data.html\\nIf this doesn't fix the problem, file an issue at \u001b[0m           \u001b[34m│\u001b[0m\n",
       "\u001b[34m│\u001b[0m                         \u001b[32mhttps://github.com/sloria/TextBlob/issues.\\n\"\u001b[0m\u001b[1m)\u001b[0m                                          \u001b[34m│\u001b[0m\n",
       "\u001b[34m│\u001b[0m             \u001b[3;33msentiment\u001b[0m = \u001b[1;35mSentiment\u001b[0m\u001b[1m(\u001b[0m\u001b[33mpolarity\u001b[0m=\u001b[1;36m0\u001b[0m\u001b[1;36m.7\u001b[0m, \u001b[33msubjectivity\u001b[0m=\u001b[1;36m0\u001b[0m\u001b[1;36m.6000000000000001\u001b[0m\u001b[1m)\u001b[0m                                \u001b[34m│\u001b[0m\n",
       "\u001b[34m│\u001b[0m \u001b[3;33msentiment_assessments\u001b[0m = \u001b[1;35mSentiment\u001b[0m\u001b[1m(\u001b[0m                                                                              \u001b[34m│\u001b[0m\n",
       "\u001b[34m│\u001b[0m                             \u001b[33mpolarity\u001b[0m=\u001b[1;36m0\u001b[0m\u001b[1;36m.7\u001b[0m,                                                                       \u001b[34m│\u001b[0m\n",
       "\u001b[34m│\u001b[0m                             \u001b[33msubjectivity\u001b[0m=\u001b[1;36m0\u001b[0m\u001b[1;36m.6000000000000001\u001b[0m,                                                    \u001b[34m│\u001b[0m\n",
       "\u001b[34m│\u001b[0m                             \u001b[33massessments\u001b[0m=\u001b[1m[\u001b[0m\u001b[1m(\u001b[0m\u001b[1m[\u001b[0m\u001b[32m'good'\u001b[0m\u001b[1m]\u001b[0m, \u001b[1;36m0.7\u001b[0m, \u001b[1;36m0.6000000000000001\u001b[0m, \u001b[3;35mNone\u001b[0m\u001b[1m)\u001b[0m\u001b[1m]\u001b[0m                             \u001b[34m│\u001b[0m\n",
       "\u001b[34m│\u001b[0m                         \u001b[1m)\u001b[0m                                                                                       \u001b[34m│\u001b[0m\n",
       "\u001b[34m│\u001b[0m            \u001b[1;3;31mserialized\u001b[0m\u001b[1;31m =\u001b[0m \u001b[1;35mMissingCorpusError\u001b[0m\u001b[1m(\u001b[0m\u001b[32m\"\\nLooks like you are missing some required data for this \u001b[0m           \u001b[34m│\u001b[0m\n",
       "\u001b[34m│\u001b[0m                         \u001b[32mfeature.\\n\\nTo download the necessary data, simply run\\n\\n    python -m \u001b[0m                \u001b[34m│\u001b[0m\n",
       "\u001b[34m│\u001b[0m                         \u001b[32mtextblob.download_corpora\\n\\nor use the NLTK downloader to download the missing data: \u001b[0m  \u001b[34m│\u001b[0m\n",
       "\u001b[34m│\u001b[0m                         \u001b[32mhttp://nltk.org/data.html\\nIf this doesn't fix the problem, file an issue at \u001b[0m           \u001b[34m│\u001b[0m\n",
       "\u001b[34m│\u001b[0m                         \u001b[32mhttps://github.com/sloria/TextBlob/issues.\\n\"\u001b[0m\u001b[1m)\u001b[0m                                          \u001b[34m│\u001b[0m\n",
       "\u001b[34m│\u001b[0m                \u001b[3;33mstring\u001b[0m = \u001b[32m\"We are going to have a good day. Ain't nobody gonna cry today.\"\u001b[0m                        \u001b[34m│\u001b[0m\n",
       "\u001b[34m│\u001b[0m              \u001b[3;33mstripped\u001b[0m = \u001b[32m'we are going to have a good day aint nobody gonna cry today'\u001b[0m                           \u001b[34m│\u001b[0m\n",
       "\u001b[34m│\u001b[0m          \u001b[3;33msubjectivity\u001b[0m = \u001b[1;36m0.6000000000000001\u001b[0m                                                                      \u001b[34m│\u001b[0m\n",
       "\u001b[34m│\u001b[0m                  \u001b[1;3;31mtags\u001b[0m\u001b[1;31m =\u001b[0m \u001b[1;35mMissingCorpusError\u001b[0m\u001b[1m(\u001b[0m\u001b[32m\"\\nLooks like you are missing some required data for this \u001b[0m           \u001b[34m│\u001b[0m\n",
       "\u001b[34m│\u001b[0m                         \u001b[32mfeature.\\n\\nTo download the necessary data, simply run\\n\\n    python -m \u001b[0m                \u001b[34m│\u001b[0m\n",
       "\u001b[34m│\u001b[0m                         \u001b[32mtextblob.download_corpora\\n\\nor use the NLTK downloader to download the missing data: \u001b[0m  \u001b[34m│\u001b[0m\n",
       "\u001b[34m│\u001b[0m                         \u001b[32mhttp://nltk.org/data.html\\nIf this doesn't fix the problem, file an issue at \u001b[0m           \u001b[34m│\u001b[0m\n",
       "\u001b[34m│\u001b[0m                         \u001b[32mhttps://github.com/sloria/TextBlob/issues.\\n\"\u001b[0m\u001b[1m)\u001b[0m                                          \u001b[34m│\u001b[0m\n",
       "\u001b[34m│\u001b[0m             \u001b[3;33mtokenizer\u001b[0m = \u001b[1m<\u001b[0m\u001b[1;95mtextblob.tokenizers.WordTokenizer\u001b[0m\u001b[39m object at \u001b[0m\u001b[1;36m0x11bd85df0\u001b[0m\u001b[1m>\u001b[0m                               \u001b[34m│\u001b[0m\n",
       "\u001b[34m│\u001b[0m                \u001b[1;3;31mtokens\u001b[0m\u001b[1;31m =\u001b[0m \u001b[1;35mLookupError\u001b[0m\u001b[1m(\u001b[0m\u001b[32m\"\\n**********************************************************************\\n\u001b[0m \u001b[34m│\u001b[0m\n",
       "\u001b[34m│\u001b[0m                         \u001b[32mResource \\x1b\u001b[0m\u001b[32m[\u001b[0m\u001b[32m93mpunkt_tab\\x1b\u001b[0m\u001b[32m[\u001b[0m\u001b[32m0m not found.\\n  Please use the NLTK Downloader to \u001b[0m      \u001b[34m│\u001b[0m\n",
       "\u001b[34m│\u001b[0m                         \u001b[32mobtain the resource:\\n\\n  \\x1b\u001b[0m\u001b[32m[\u001b[0m\u001b[32m31m>>> import nltk\\n  >>> nltk.download\u001b[0m\u001b[32m(\u001b[0m\u001b[32m'punkt_tab'\u001b[0m\u001b[32m)\u001b[0m\u001b[32m\\n  \u001b[0m \u001b[34m│\u001b[0m\n",
       "\u001b[34m│\u001b[0m                         \u001b[32m\\x1b\u001b[0m\u001b[32m[\u001b[0m\u001b[32m0m\\n  For more information see: https://www.nltk.org/data.html\\n\\n  Attempted to \u001b[0m  \u001b[34m│\u001b[0m\n",
       "\u001b[34m│\u001b[0m                         \u001b[32mload \\x1b\u001b[0m\u001b[32m[\u001b[0m\u001b[32m93mtokenizers/punkt_tab/english/\\x1b\u001b[0m\u001b[32m[\u001b[0m\u001b[32m0m\\n\\n  Searched in:\\n    - \u001b[0m             \u001b[34m│\u001b[0m\n",
       "\u001b[34m│\u001b[0m                         \u001b[32m'/Users/samedwardes/nltk_data'\\n    - \u001b[0m                                                  \u001b[34m│\u001b[0m\n",
       "\u001b[34m│\u001b[0m                         \u001b[32m'/Users/samedwardes/projects/personal/spacytextblob/.venv/nltk_data'\\n    - \u001b[0m            \u001b[34m│\u001b[0m\n",
       "\u001b[34m│\u001b[0m                         \u001b[32m'/Users/samedwardes/projects/personal/spacytextblob/.venv/share/nltk_data'\\n    - \u001b[0m      \u001b[34m│\u001b[0m\n",
       "\u001b[34m│\u001b[0m                         \u001b[32m'/Users/samedwardes/projects/personal/spacytextblob/.venv/lib/nltk_data'\\n    - \u001b[0m        \u001b[34m│\u001b[0m\n",
       "\u001b[34m│\u001b[0m                         \u001b[32m'/usr/share/nltk_data'\\n    - '/usr/local/share/nltk_data'\\n    - \u001b[0m                      \u001b[34m│\u001b[0m\n",
       "\u001b[34m│\u001b[0m                         \u001b[32m'/usr/lib/nltk_data'\\n    - \u001b[0m                                                            \u001b[34m│\u001b[0m\n",
       "\u001b[34m│\u001b[0m                         \u001b[32m'/usr/local/lib/nltk_data'\\n**********************************************************…\u001b[0m \u001b[34m│\u001b[0m\n",
       "\u001b[34m│\u001b[0m           \u001b[1;3;31mword_counts\u001b[0m\u001b[1;31m =\u001b[0m \u001b[1;35mMissingCorpusError\u001b[0m\u001b[1m(\u001b[0m\u001b[32m\"\\nLooks like you are missing some required data for this \u001b[0m           \u001b[34m│\u001b[0m\n",
       "\u001b[34m│\u001b[0m                         \u001b[32mfeature.\\n\\nTo download the necessary data, simply run\\n\\n    python -m \u001b[0m                \u001b[34m│\u001b[0m\n",
       "\u001b[34m│\u001b[0m                         \u001b[32mtextblob.download_corpora\\n\\nor use the NLTK downloader to download the missing data: \u001b[0m  \u001b[34m│\u001b[0m\n",
       "\u001b[34m│\u001b[0m                         \u001b[32mhttp://nltk.org/data.html\\nIf this doesn't fix the problem, file an issue at \u001b[0m           \u001b[34m│\u001b[0m\n",
       "\u001b[34m│\u001b[0m                         \u001b[32mhttps://github.com/sloria/TextBlob/issues.\\n\"\u001b[0m\u001b[1m)\u001b[0m                                          \u001b[34m│\u001b[0m\n",
       "\u001b[34m│\u001b[0m                 \u001b[1;3;31mwords\u001b[0m\u001b[1;31m =\u001b[0m \u001b[1;35mMissingCorpusError\u001b[0m\u001b[1m(\u001b[0m\u001b[32m\"\\nLooks like you are missing some required data for this \u001b[0m           \u001b[34m│\u001b[0m\n",
       "\u001b[34m│\u001b[0m                         \u001b[32mfeature.\\n\\nTo download the necessary data, simply run\\n\\n    python -m \u001b[0m                \u001b[34m│\u001b[0m\n",
       "\u001b[34m│\u001b[0m                         \u001b[32mtextblob.download_corpora\\n\\nor use the NLTK downloader to download the missing data: \u001b[0m  \u001b[34m│\u001b[0m\n",
       "\u001b[34m│\u001b[0m                         \u001b[32mhttp://nltk.org/data.html\\nIf this doesn't fix the problem, file an issue at \u001b[0m           \u001b[34m│\u001b[0m\n",
       "\u001b[34m│\u001b[0m                         \u001b[32mhttps://github.com/sloria/TextBlob/issues.\\n\"\u001b[0m\u001b[1m)\u001b[0m                                          \u001b[34m│\u001b[0m\n",
       "\u001b[34m╰─────────────────────────────────────────────────────────────────────────────────────────────────────────────────╯\u001b[0m\n"
      ]
     },
     "metadata": {},
     "output_type": "display_data"
    }
   ],
   "source": [
    "inspect(doc._.blob)"
   ]
  },
  {
   "cell_type": "code",
   "execution_count": 5,
   "metadata": {},
   "outputs": [
    {
     "data": {
      "text/plain": [
       "[(['good'], 0.7, 0.6000000000000001, None)]"
      ]
     },
     "execution_count": 5,
     "metadata": {},
     "output_type": "execute_result"
    }
   ],
   "source": [
    "doc._.blob.sentiment_assessments.assessments"
   ]
  },
  {
   "cell_type": "code",
   "execution_count": 6,
   "metadata": {},
   "outputs": [
    {
     "data": {
      "text/plain": [
       "TextBlob(\"We are going to have\")"
      ]
     },
     "execution_count": 6,
     "metadata": {},
     "output_type": "execute_result"
    }
   ],
   "source": [
    "doc[0:5]._.blob"
   ]
  },
  {
   "cell_type": "code",
   "execution_count": 7,
   "metadata": {},
   "outputs": [
    {
     "data": {
      "text/plain": [
       "TextBlob(\"We\")"
      ]
     },
     "execution_count": 7,
     "metadata": {},
     "output_type": "execute_result"
    }
   ],
   "source": [
    "doc[0]._.blob"
   ]
  },
  {
   "cell_type": "code",
   "execution_count": 8,
   "metadata": {},
   "outputs": [
    {
     "data": {
      "text/plain": [
       "0.7"
      ]
     },
     "execution_count": 8,
     "metadata": {},
     "output_type": "execute_result"
    }
   ],
   "source": [
    "doc._.blob.polarity"
   ]
  },
  {
   "cell_type": "code",
   "execution_count": 9,
   "metadata": {},
   "outputs": [
    {
     "data": {
      "text/plain": [
       "0.7"
      ]
     },
     "execution_count": 9,
     "metadata": {},
     "output_type": "execute_result"
    }
   ],
   "source": [
    "doc[6]._.blob.polarity"
   ]
  },
  {
   "cell_type": "code",
   "execution_count": 10,
   "metadata": {},
   "outputs": [
    {
     "data": {
      "text/plain": [
       "Sentiment(polarity=0.7, subjectivity=0.6000000000000001)"
      ]
     },
     "execution_count": 10,
     "metadata": {},
     "output_type": "execute_result"
    }
   ],
   "source": [
    "doc._.blob.sentiment"
   ]
  }
 ],
 "metadata": {
  "kernelspec": {
   "display_name": ".venv",
   "language": "python",
   "name": "python3"
  },
  "language_info": {
   "codemirror_mode": {
    "name": "ipython",
    "version": 3
   },
   "file_extension": ".py",
   "mimetype": "text/x-python",
   "name": "python",
   "nbconvert_exporter": "python",
   "pygments_lexer": "ipython3",
   "version": "3.12.4"
  },
  "orig_nbformat": 4
 },
 "nbformat": 4,
 "nbformat_minor": 2
}
