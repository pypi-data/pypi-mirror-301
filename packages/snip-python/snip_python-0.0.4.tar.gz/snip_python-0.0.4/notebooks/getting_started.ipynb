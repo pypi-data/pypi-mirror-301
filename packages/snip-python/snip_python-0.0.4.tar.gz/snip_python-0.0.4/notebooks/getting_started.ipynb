{
 "cells": [
  {
   "cell_type": "markdown",
   "metadata": {},
   "source": [
    "# Getting Started with the snip-lab python package\n",
    "\n",
    "This notebook will guide you through the installation, setup, and basic usage of the **[snip-lab](https://pypi.org/project/snip-lab/)** package.\n",
    "\n",
    "## Step 1: Installation\n",
    "\n",
    "First, you'll need to install the package using pip. If you haven't already installed it, run the following command in your terminal:\n"
   ]
  },
  {
   "cell_type": "code",
   "execution_count": null,
   "metadata": {},
   "outputs": [],
   "source": [
    "%pip install snip-lab"
   ]
  }
 ],
 "metadata": {
  "language_info": {
   "name": "python"
  }
 },
 "nbformat": 4,
 "nbformat_minor": 2
}
