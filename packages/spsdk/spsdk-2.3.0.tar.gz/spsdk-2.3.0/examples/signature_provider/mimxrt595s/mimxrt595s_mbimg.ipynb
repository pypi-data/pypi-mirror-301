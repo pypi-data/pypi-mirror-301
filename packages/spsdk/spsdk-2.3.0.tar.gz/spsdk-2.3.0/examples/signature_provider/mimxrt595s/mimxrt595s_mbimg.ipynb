{
 "cells": [
  {
   "attachments": {},
   "cell_type": "markdown",
   "metadata": {},
   "source": [
    "# Masterboot image with Signature Provider for rt5xx\n",
    "\n",
    "This notebook describes how to use a custom remote signing service for generating masterboot image using *nxpimage* tool.\n"
   ]
  },
  {
   "cell_type": "code",
   "execution_count": 1,
   "metadata": {},
   "outputs": [
    {
     "name": "stdout",
     "output_type": "stream",
     "text": [
      "env: JUPYTER_SPSDK=1\n",
      "Created `%!` as an alias for `%execute`.\n"
     ]
    }
   ],
   "source": [
    "%run ../../init_notebook.ipynb\n",
    "\n",
    "import os\n",
    "import pprint\n",
    "\n",
    "pp = pprint.PrettyPrinter(indent=4)\n",
    "\n",
    "plugins_dir = \"../common/plugins/\"\n",
    "\n",
    "SASP_PLUGIN = os.path.join(plugins_dir, \"sasp.py\")\n",
    "WORKSPACE = \"workspace/mbimg/\"  # change this to path to your workspace\n",
    "DATA_DIR = \"data_mbimg/\"  # change this to path to your workspace\n",
    "VERBOSITY = (\n",
    "    \"-v\"  # verbosity of commands, might be -v or -vv for debug or blank for no additional info\n",
    ")"
   ]
  },
  {
   "attachments": {},
   "cell_type": "markdown",
   "metadata": {},
   "source": [
    "## Signature Provider Plugin\n",
    "\n",
    "First, we need to setup the Signature Provider plugin and start the custom HSM. In order to do that, open signature provider notebook (signature_provider.ipynb) and follow the instructions there. Once you are done, come back and continue here."
   ]
  },
  {
   "attachments": {},
   "cell_type": "markdown",
   "metadata": {},
   "source": [
    "## Config File Setup\n",
    "\n",
    "The masterboot configuration file will be needed for successful generation of Masterboot image(MBI) using *nxpimage* application.\n",
    "*\n",
    "There are three types of MBI for RT5xx based on the authentication type: `Plain`, `CRC` and `Signed`.\n",
    "\n",
    "In this example we will be interested only in the `Signed` image type.\n",
    "\n",
    "Run the following code and see how the generated configuration template looks like."
   ]
  },
  {
   "cell_type": "code",
   "execution_count": 1,
   "metadata": {},
   "outputs": [
    {
     "name": "stdout",
     "output_type": "stream",
     "text": [
      "nxpimage -v mbi get-templates --family mimxrt595s --output workspace/mbimg/ --force \n",
      "Creating workspace\\mbimg\\mimxrt595s_xip_plain.yaml template file.\n",
      "Creating workspace\\mbimg\\mimxrt595s_xip_crc.yaml template file.\n",
      "Creating workspace\\mbimg\\mimxrt595s_xip_signed.yaml template file.\n",
      "Creating workspace\\mbimg\\mimxrt595s_load_to_ram_plain.yaml template file.\n",
      "Creating workspace\\mbimg\\mimxrt595s_load_to_ram_crc.yaml template file.\n",
      "Creating workspace\\mbimg\\mimxrt595s_load_to_ram_signed.yaml template file.\n",
      "Creating workspace\\mbimg\\mimxrt595s_load_to_ram_encrypted.yaml template file.\n",
      "# =============  Master Boot Image Configuration template for mimxrt595s:latest, Plain Signed XIP Image.  ==============\n",
      "\n",
      "# ======================================================================================================================\n",
      "#                                                 == General Options ==                                                 \n",
      "# ======================================================================================================================\n",
      "# -------------------------------------===== The chip family name [Required] =====--------------------------------------\n",
      "# Description: NXP chip family identifier.\n",
      "# Possible options: <k32w148, kw45b41z5, kw45b41z8, lpc5502, lpc5504, lpc5506, lpc5512, lpc5514, lpc5516, lpc5526,\n",
      "# lpc5528, lpc5534, lpc5536, lpc55s04, lpc55s06, lpc55s14, lpc55s16, lpc55s26, lpc55s28, lpc55s36, lpc55s66, lpc55s69,\n",
      "# mc56f81646, mc56f81648, mc56f81666, mc56f81668, mc56f81746, mc56f81748, mc56f81766, mc56f81768, mc56f81866,\n",
      "# mc56f81868, mcxa132, mcxa133, mcxa142, mcxa143, mcxa144, mcxa145, mcxa146, mcxa152, mcxa153, mcxa154, mcxa155,\n",
      "# mcxa156, mcxn235, mcxn236, mcxn546, mcxn547, mcxn946, mcxn947, mcxw716a, mcxw716c, mimxrt533s, mimxrt555s, mimxrt595s,\n",
      "# mimxrt685s, mimxrt798s, mwct2012, mwct2012a, mwct20d2, mwct20d2a, nhs52s04, rw610, rw612>\n",
      "family: mimxrt595s\n",
      "# -----------------------------------------===== MCU revision [Optional] =====------------------------------------------\n",
      "# Description: Revision of silicon. The 'latest' name, means most current revision.\n",
      "# Possible options: <a0, b0, latest>\n",
      "revision: latest\n",
      "# ======================================================================================================================\n",
      "#                                                  == Basic Settings ==                                                 \n",
      "# ======================================================================================================================\n",
      "# --------------------------------------===== Application target [Required] =====---------------------------------------\n",
      "# Description: Definition if application is Execute in Place(XiP) or loaded to RAM during reset sequence.\n",
      "# Possible options: <xip, load-to-ram>\n",
      "outputImageExecutionTarget: xip\n",
      "# -------------------------------===== Type of boot image authentication [Required] =====-------------------------------\n",
      "# Description: Specification of final master boot image authentication.\n",
      "# Possible options: <plain, crc, signed, signed-encrypted, signed-nxp>\n",
      "outputImageAuthenticationType: signed\n",
      "# ---------------------------------------===== Output Image name [Required] =====---------------------------------------\n",
      "# Description: The path for result binary file.\n",
      "masterBootOutputFile: my_mbi.bin\n",
      "# ------------------------------------===== Plain application image [Required] =====------------------------------------\n",
      "# Description: The input application image to by modified to Master Boot Image.\n",
      "inputImageFile: my_application.bin\n",
      "# --------------------------------===== Loading address of application [Required] =====---------------------------------\n",
      "# Description: Application loading address in RAM if not XiP, otherwise address of load in XiP.\n",
      "outputImageExecutionAddress: 0\n",
      "# ----------------------------------===== Enable User HW key sharing [Required] =====-----------------------------------\n",
      "# Description: Controlling secure hardware key bus. If enabled(1), then it is possible to access keys on hardware secure\n",
      "# bus from non-secure application, else non-secure application will read zeros.\n",
      "enableHwUserModeKeys: false\n",
      "# ======================================================================================================================\n",
      "#                                               == Trust Zone Settings ==                                               \n",
      "# ======================================================================================================================\n",
      "# ------------------------------------===== TrustZone enable option [Optional] =====------------------------------------\n",
      "# Description: If not specified, the Trust zone is disabled.\n",
      "enableTrustZone: false\n",
      "# ---------------------------------===== TrustZone Customization file [Optional] =====----------------------------------\n",
      "# Description: If not specified, but TrustZone is enabled(enableTrustZone) the default values are used.\n",
      "trustZonePresetFile: my_tz_custom.yaml\n",
      "# ======================================================================================================================\n",
      "#                                               == Certificate Block V1 ==                                              \n",
      "# ======================================================================================================================\n",
      "# -----------------------------===== Certificate Block binary/config file [Required] =====------------------------------\n",
      "# Description: Path to certificate block binary or config file.\n",
      "certBlock: cert_block.yaml\n",
      "# ======================================================================================================================\n",
      "#                                              == Image Signing Settings ==                                             \n",
      "# ======================================================================================================================\n",
      "# --------------------------===== Main Certificate private key [Conditionally required] =====---------------------------\n",
      "# Description: Main Certificate private key used to sign certificate. It can be replaced by signProvider key.\n",
      "signPrivateKey: main_prv_key.pem\n",
      "# -------------------------------===== Signature Provider [Conditionally required] =====--------------------------------\n",
      "# Description: Signature provider configuration in format 'type=<identifier>;<key1>=<value1>;<key2>=<value2>'.\n",
      "signProvider: type=file;file_path=my_prv_key.pem\n",
      "\n"
     ]
    }
   ],
   "source": [
    "import os\n",
    "\n",
    "from spsdk.utils.misc import load_file\n",
    "\n",
    "# choose family for the MCU\n",
    "FAMILY = \"mimxrt595s\"\n",
    "\n",
    "%! nxpimage $VERBOSITY mbi get-templates --family $FAMILY --output $WORKSPACE --force\n",
    "\n",
    "CONFIG_PATH = os.path.join(WORKSPACE, \"mimxrt595s_xip_signed.yaml\")\n",
    "# just for verification that the template was generated\n",
    "assert os.path.exists(CONFIG_PATH)\n",
    "\n",
    "config_content = load_file(CONFIG_PATH)\n",
    "print(config_content)"
   ]
  },
  {
   "cell_type": "markdown",
   "metadata": {},
   "source": [
    "The generated configuration file contains all possible configuration settings. \n",
    "\n",
    "Some of them are required (labeled with `[Required]` comment), some of them are conditionally required (labeled with `[Conditionally required]` comment) and some are optional (labeled with `[Optional]` comment).\n",
    "\n",
    "Let's now focus on two configuration settings: `signPrivateKey` and `signProvider`. These two configuration values are mutually exclusive, so only one can be chosen. \n",
    "In order to use Signature Provider, we will remove the line with `signPrivateKey`  and update the one with `signProvider`. \n",
    "\n",
    "Keep in mind that the signature provider configuration must meet following rules:\n",
    "  - Configuration key\n",
    "    - key names `sign_provider` or `signProvider` are allowed\n",
    "\n",
    "  - Configuration value\n",
    "    - format `\"type=<identifier>;<key1>=<value1>;<key2>=<value2>;...\"`\n",
    "    - the `<identifier>` has to match the `identifier` class attribute defined in the custom signature provider(`plugins/sasp.py`)\n",
    "    - the remaining key-value pairs are passed to the `__init__` method of the concrete Signature Provider\n",
    "    - e.g.: `\"type=file;file_path=private_key.pem\"` will instantiate `spsdk.crypto.PlainFileSP(file_path='private_key.pem')`\n",
    "\n",
    "Run the code bellow so you use only configuration settings related to this example."
   ]
  },
  {
   "cell_type": "code",
   "execution_count": 1,
   "metadata": {},
   "outputs": [
    {
     "name": "stdout",
     "output_type": "stream",
     "text": [
      "\"All files are ready in folder 'workspace/mbimg/'\"\n"
     ]
    }
   ],
   "source": [
    "import shutil\n",
    "\n",
    "# Copy additional files needed for masterboot image creation\n",
    "shutil.rmtree(WORKSPACE)\n",
    "shutil.copytree(DATA_DIR, WORKSPACE)\n",
    "\n",
    "pp.pprint(f\"All files are ready in folder '{WORKSPACE}'\")"
   ]
  },
  {
   "attachments": {},
   "cell_type": "markdown",
   "metadata": {},
   "source": [
    "## Execution\n",
    "\n",
    "At this point, we have everything we need to run nxpimage application using remote HSM for image signing."
   ]
  },
  {
   "cell_type": "code",
   "execution_count": 1,
   "metadata": {},
   "outputs": [
    {
     "name": "stdout",
     "output_type": "stream",
     "text": [
      "nxpimage -v mbi export --plugin ../common/plugins/sasp.py --config workspace/mbimg/mimxrt595s_xip_signed.yaml \n",
      "RKTH: db31d46c717711a8231cbc38b1de8a6e8657e1f733e04c2ee4b62fcea59149fa\n",
      "\u001b[37m\u001b[1mINFO:spsdk.apps.nxpimage:\n",
      "\u001b[90m+==0x0000_0000= Application Block ======+\n",
      "\u001b[90m|       Size: 14.5 kiB; 14,804 B        |\n",
      "\u001b[90m|\u001b[34m+==0x0000_0000= Application ==========+\u001b[90m|\n",
      "\u001b[90m|\u001b[34m|      Size: 13.0 kiB; 13,264 B       |\u001b[90m|\n",
      "\u001b[90m|\u001b[34m+==0x0000_33cf========================+\u001b[90m|\n",
      "\u001b[90m|\u001b[32m+==0x0000_33d0= Certification Block ==+\u001b[90m|\n",
      "\u001b[90m|\u001b[32m|       Size: 1.3 kiB; 1,284 B        |\u001b[90m|\n",
      "\u001b[90m|\u001b[32m+==0x0000_38d3========================+\u001b[90m|\n",
      "\u001b[90m|\u001b[36m+==0x0000_38d4= RSA signature ========+\u001b[90m|\n",
      "\u001b[90m|\u001b[36m|             Size: 256 B             |\u001b[90m|\n",
      "\u001b[90m|\u001b[36m+==0x0000_39d3========================+\u001b[90m|\n",
      "\u001b[90m+==0x0000_39d3==========================+\n",
      "\u001b[39m\u001b[39m\u001b[0m\n",
      "Success. (Master Boot Image: workspace\\mbimg\\my_mbi.bin created.)\n"
     ]
    }
   ],
   "source": [
    "%! nxpimage $VERBOSITY mbi export --plugin $SASP_PLUGIN --config $CONFIG_PATH\n",
    "\n",
    "# check if the signed image exists\n",
    "output_file = os.path.join(WORKSPACE, \"my_mbi.bin\")\n",
    "assert os.path.exists(output_file)"
   ]
  },
  {
   "attachments": {},
   "cell_type": "markdown",
   "metadata": {},
   "source": [
    "## HSM teardown\n",
    "\n",
    "Last step is to stop custom HSM. In order to do that, open again the Signature provider notebook and stop the running jupyter notebook code cell."
   ]
  },
  {
   "attachments": {},
   "cell_type": "markdown",
   "metadata": {},
   "source": []
  }
 ],
 "metadata": {
  "kernelspec": {
   "display_name": "venv",
   "language": "python",
   "name": "python3"
  },
  "language_info": {
   "codemirror_mode": {
    "name": "ipython",
    "version": 3
   },
   "file_extension": ".py",
   "mimetype": "text/x-python",
   "name": "python",
   "nbconvert_exporter": "python",
   "pygments_lexer": "ipython3",
   "version": "3.11.4"
  },
  "orig_nbformat": 4,
  "vscode": {
   "interpreter": {
    "hash": "9ae905cdb03b2bea9f2883acc56fb3ee9783b3cfb8f9c98bd74d46626fd8ede9"
   }
  }
 },
 "nbformat": 4,
 "nbformat_minor": 2
}
