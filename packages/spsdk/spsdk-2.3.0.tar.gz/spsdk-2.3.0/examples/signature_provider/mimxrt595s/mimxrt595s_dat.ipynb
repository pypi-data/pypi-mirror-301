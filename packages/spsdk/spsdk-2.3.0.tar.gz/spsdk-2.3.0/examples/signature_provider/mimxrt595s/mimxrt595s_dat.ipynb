{
 "cells": [
  {
   "attachments": {},
   "cell_type": "markdown",
   "metadata": {},
   "source": [
    "# Debug Credentials with Signature Provider for mimxrt595s\n",
    "\n",
    "This notebook describes how to use a custom remote signing service for debug certificate generation"
   ]
  },
  {
   "cell_type": "code",
   "execution_count": 1,
   "metadata": {},
   "outputs": [
    {
     "name": "stdout",
     "output_type": "stream",
     "text": [
      "env: JUPYTER_SPSDK=1\n",
      "Created `%!` as an alias for `%execute`.\n"
     ]
    }
   ],
   "source": [
    "%run ../../init_notebook.ipynb\n",
    "\n",
    "import os\n",
    "import pprint\n",
    "\n",
    "pp = pprint.PrettyPrinter(indent=4)\n",
    "\n",
    "plugins_dir = \"../common/plugins/\"\n",
    "\n",
    "SASP_PLUGIN = os.path.join(plugins_dir, \"sasp.py\")\n",
    "WORKSPACE = \"workspace/dat/\"  # change this to path to your workspace\n",
    "DATA_DIR = \"data_dat/\"  # change this to path to your workspace\n",
    "VERBOSITY = (\n",
    "    \"-v\"  # verbosity of commands, might be -v or -vv for debug or blank for no additional info\n",
    ")"
   ]
  },
  {
   "attachments": {},
   "cell_type": "markdown",
   "metadata": {},
   "source": [
    "## Signature Provider Plugin\n",
    "\n",
    "First, we need to setup the Signature Provider plugin and start the custom HSM. In order to do that, open Signature Provider notebook and follow the instructions there. Once you are done, come back and continue here."
   ]
  },
  {
   "attachments": {},
   "cell_type": "markdown",
   "metadata": {},
   "source": [
    "## Config File Setup\n",
    "\n",
    "The nxpdebugmbox configuration file must be updated in order to integrate the custom Signature Provider.\n",
    "\n",
    "The signature provider configuration must meet following rules:\n",
    "  - Configuration key\n",
    "    - key names `sign_provider` or `signProvider` are allowed\n",
    "\n",
    "  - Configuration value\n",
    "    - format `\"type=<identifier>;<key1>=<value1>;<key2>=<value2>;...\"`\n",
    "    - the `<identifier>` has to match the `identifier` class attribute defined in the custom signature provider(`plugins/sasp.py`)\n",
    "    - the remaining key-value pairs are passed to the `__init__` method of the concrete Signature Provider\n",
    "    - e.g.: `\"type=file;file_path=private_key.pem\"` will instantiate `spsdk.crypto.PlainFileSP(file_path='private_key.pem')`\n",
    "\n",
    "New configuration field `rot_id` has been introduced:\n",
    "    - due to the nature of creating Debug Credential file we need to know in advance which of the private keys will be used to perform the actual signing\n",
    "    - `rot_id` is a 0-based index representing the private key that will be used with respect to `rot_meta`\n",
    "    - e.g.: if we want to use a private key that corresponds to the public key `p1_cert0_2048.pub`, `rot_id` has to be set to `1`\n"
   ]
  },
  {
   "cell_type": "code",
   "execution_count": 2,
   "metadata": {},
   "outputs": [
    {
     "name": "stdout",
     "output_type": "stream",
     "text": [
      "\"All files are ready in folder 'workspace/dat/'\"\n"
     ]
    }
   ],
   "source": [
    "import os\n",
    "import shutil\n",
    "\n",
    "import yaml\n",
    "\n",
    "from spsdk.utils.misc import load_configuration\n",
    "\n",
    "# choose family for the MCU\n",
    "FAMILY = \"mimxrt595s\"\n",
    "CONFIG_PATH = os.path.join(WORKSPACE, \"dck_rsa_2048.yml\")\n",
    "\n",
    "os.makedirs(WORKSPACE, exist_ok=True)\n",
    "shutil.copyfile(os.path.join(DATA_DIR, \"dck_rsa_2048.yml\"), CONFIG_PATH)\n",
    "\n",
    "config = load_configuration(CONFIG_PATH)\n",
    "del config[\"rotk\"]\n",
    "config[\"sign_provider\"] = \"type=sasp;key_number=0;key_type=rsa2048\"\n",
    "\n",
    "with open(CONFIG_PATH, \"w\") as file:\n",
    "    yaml.dump(config, file, default_flow_style=False)\n",
    "\n",
    "files_needed = [\"p0_cert0_2048.pub\", \"p1_cert0_2048.pub\", \"dck.pub\"]\n",
    "for file in files_needed:\n",
    "    shutil.copyfile(os.path.join(DATA_DIR, file), os.path.join(WORKSPACE, file))\n",
    "\n",
    "pp.pprint(f\"All files are ready in folder '{WORKSPACE}'\")"
   ]
  },
  {
   "attachments": {},
   "cell_type": "markdown",
   "metadata": {},
   "source": [
    "## Execution\n",
    "\n",
    "At this point, we have everything we need to run create debug certificate signed by remote HSM."
   ]
  },
  {
   "cell_type": "code",
   "execution_count": 3,
   "metadata": {},
   "outputs": [
    {
     "name": "stdout",
     "output_type": "stream",
     "text": [
      "workspace/dat/dck_rsa_2048.yml\n",
      "nxpdebugmbox -f mimxrt595s dat dc export --config workspace/dat/dck_rsa_2048.yml --plugin ../common/plugins/sasp.py --output workspace/dat/dc_out.cert --force \n",
      "RKTH: 5905022784a39901b0dc0860c9455cd1b83c5336a2e973825759961554664c89\n",
      "Creating Debug credential file succeeded\n"
     ]
    }
   ],
   "source": [
    "CONFIG_PATH = os.path.join(WORKSPACE, \"dck_rsa_2048.yml\")\n",
    "OUTPUT_PATH = os.path.join(WORKSPACE, \"dc_out.cert\")\n",
    "print(CONFIG_PATH)\n",
    "\n",
    "%! nxpdebugmbox -f $FAMILY dat dc export --config $CONFIG_PATH --plugin $SASP_PLUGIN --output $OUTPUT_PATH --force\n",
    "\n",
    "# check if the signed image exists\n",
    "assert os.path.exists(OUTPUT_PATH)"
   ]
  },
  {
   "attachments": {},
   "cell_type": "markdown",
   "metadata": {},
   "source": [
    "## HSM teardown\n",
    "\n",
    "Last step is to stop custom HSM. In order to do that, open again the HSM Setup notebook and stop the running jupyter notebook code cell."
   ]
  }
 ],
 "metadata": {
  "kernelspec": {
   "display_name": "venv",
   "language": "python",
   "name": "python3"
  },
  "language_info": {
   "codemirror_mode": {
    "name": "ipython",
    "version": 3
   },
   "file_extension": ".py",
   "mimetype": "text/x-python",
   "name": "python",
   "nbconvert_exporter": "python",
   "pygments_lexer": "ipython3",
   "version": "3.12.5"
  },
  "orig_nbformat": 4
 },
 "nbformat": 4,
 "nbformat_minor": 2
}
