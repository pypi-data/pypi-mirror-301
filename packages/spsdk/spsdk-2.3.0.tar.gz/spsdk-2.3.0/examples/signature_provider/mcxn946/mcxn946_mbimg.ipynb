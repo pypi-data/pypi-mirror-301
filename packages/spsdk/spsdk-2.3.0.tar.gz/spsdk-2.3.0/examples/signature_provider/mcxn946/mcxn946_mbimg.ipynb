{
 "cells": [
  {
   "attachments": {},
   "cell_type": "markdown",
   "metadata": {},
   "source": [
    "# Masterboot image with Signature Provider for mcxn946\n",
    "\n",
    "This notebook describes how to use a custom remote signing service for generating masterboot image using *nxpimage* tool.\n"
   ]
  },
  {
   "cell_type": "code",
   "execution_count": 1,
   "metadata": {},
   "outputs": [
    {
     "name": "stdout",
     "output_type": "stream",
     "text": [
      "env: JUPYTER_SPSDK=1\n",
      "Created `%!` as an alias for `%execute`.\n"
     ]
    }
   ],
   "source": [
    "%run ../../init_notebook.ipynb\n",
    "\n",
    "import os\n",
    "import pprint\n",
    "\n",
    "pp = pprint.PrettyPrinter(indent=4)\n",
    "\n",
    "plugins_dir = \"../common/plugins/\"\n",
    "\n",
    "SASP_PLUGIN = os.path.join(plugins_dir, \"sasp.py\")\n",
    "WORKSPACE = \"workspace/mbimg/\"  # change this to path to your workspace\n",
    "DATA_DIR = \"data_mbimg/\"  # change this to path to your workspace\n",
    "VERBOSITY = (\n",
    "    \"-v\"  # verbosity of commands, might be -v or -vv for debug or blank for no additional info\n",
    ")"
   ]
  },
  {
   "attachments": {},
   "cell_type": "markdown",
   "metadata": {},
   "source": [
    "## Signature Provider Plugin\n",
    "\n",
    "First, we need to setup the Signature Provider plugin and start the custom HSM. In order to do that, open the signature provider notebook (signature_provider.ipynb) and follow the instructions there. Once you are done, come back and continue here."
   ]
  },
  {
   "attachments": {},
   "cell_type": "markdown",
   "metadata": {},
   "source": [
    "## Config File Setup\n",
    "\n",
    "The masterboot configuration file will be needed for successful generation of Masterboot image(MBI) using *nxpimage* application.\n",
    "\n",
    "There are three types of MBI for mcxn9xx based on the authentication type: `Plain`, `CRC` and `Signed`.\n",
    "\n",
    "In this example we will be interested only in the `Signed` image type.\n",
    "\n",
    "Run the following code and see how the generated configuration template looks like."
   ]
  },
  {
   "cell_type": "code",
   "execution_count": 1,
   "metadata": {},
   "outputs": [
    {
     "name": "stdout",
     "output_type": "stream",
     "text": [
      "nxpimage -v mbi get-templates --family mcxn946 --output workspace/mbimg/ --force \n",
      "Creating workspace\\mbimg\\mcxn946_xip_plain.yaml template file.\n",
      "Creating workspace\\mbimg\\mcxn946_xip_crc.yaml template file.\n",
      "Creating workspace\\mbimg\\mcxn946_xip_signed.yaml template file.\n",
      "Creating workspace\\mbimg\\mcxn946_load_to_ram_plain.yaml template file.\n",
      "Creating workspace\\mbimg\\mcxn946_load_to_ram_crc.yaml template file.\n",
      "# ===============  Master Boot Image Configuration template for mcxn946:latest, Plain Signed XIP Image.  ===============\n",
      "\n",
      "# ======================================================================================================================\n",
      "#                                                 == General Options ==                                                 \n",
      "# ======================================================================================================================\n",
      "# -------------------------------------===== The chip family name [Required] =====--------------------------------------\n",
      "# Description: NXP chip family identifier.\n",
      "# Possible options: <k32w148, kw45b41z5, kw45b41z8, lpc5502, lpc5504, lpc5506, lpc5512, lpc5514, lpc5516, lpc5526,\n",
      "# lpc5528, lpc5534, lpc5536, lpc55s04, lpc55s06, lpc55s14, lpc55s16, lpc55s26, lpc55s28, lpc55s36, lpc55s66, lpc55s69,\n",
      "# mc56f81646, mc56f81648, mc56f81666, mc56f81668, mc56f81746, mc56f81748, mc56f81766, mc56f81768, mc56f81866,\n",
      "# mc56f81868, mcxa132, mcxa133, mcxa142, mcxa143, mcxa144, mcxa145, mcxa146, mcxa152, mcxa153, mcxa154, mcxa155,\n",
      "# mcxa156, mcxn235, mcxn236, mcxn546, mcxn547, mcxn946, mcxn947, mcxw716a, mcxw716c, mimxrt533s, mimxrt555s, mimxrt595s,\n",
      "# mimxrt685s, mimxrt798s, mwct2012, mwct2012a, mwct20d2, mwct20d2a, nhs52s04, rw610, rw612>\n",
      "family: mcxn946\n",
      "# -----------------------------------------===== MCU revision [Optional] =====------------------------------------------\n",
      "# Description: Revision of silicon. The 'latest' name, means most current revision.\n",
      "# Possible options: <a0, a1, latest>\n",
      "revision: latest\n",
      "# ======================================================================================================================\n",
      "#                                                  == Basic Settings ==                                                 \n",
      "# ======================================================================================================================\n",
      "# --------------------------------------===== Application target [Required] =====---------------------------------------\n",
      "# Description: Definition if application is Execute in Place(XiP) or loaded to RAM during reset sequence.\n",
      "# Possible options: <xip, load-to-ram>\n",
      "outputImageExecutionTarget: xip\n",
      "# -------------------------------===== Type of boot image authentication [Required] =====-------------------------------\n",
      "# Description: Specification of final master boot image authentication.\n",
      "# Possible options: <plain, crc, signed, signed-encrypted, signed-nxp>\n",
      "outputImageAuthenticationType: signed\n",
      "# ---------------------------------------===== Output Image name [Required] =====---------------------------------------\n",
      "# Description: The path for result binary file.\n",
      "masterBootOutputFile: my_mbi.bin\n",
      "# ------------------------------------===== Plain application image [Required] =====------------------------------------\n",
      "# Description: The input application image to by modified to Master Boot Image.\n",
      "inputImageFile: my_application.bin\n",
      "# --------------------------------===== Loading address of application [Required] =====---------------------------------\n",
      "# Description: Application loading address in RAM if not XiP, otherwise address of load in XiP.\n",
      "outputImageExecutionAddress: 0\n",
      "# ---------------------------------------===== Firmware version. [Optional] =====---------------------------------------\n",
      "# Description: Value compared with Secure_FW_Version monotonic counter value stored in protected memory (MCU specific).\n",
      "# If value is lower than value in protected memory, then is image rejected (rollback protection).\n",
      "firmwareVersion: 0\n",
      "# -----------------------------------------===== Image SubType [Optional] =====-----------------------------------------\n",
      "# Description: Image subtype determine the image use in MCU. \"main\" for main application, \"nbu\" for Narrow Band Unit\n",
      "# image and \"recovery\" for recovery image type\n",
      "# Possible options: <main, nbu, recovery>\n",
      "outputImageSubtype: main\n",
      "# ----------------------------------------===== Image version. [Optional] =====-----------------------------------------\n",
      "# Description: Image version is used for dual boot. The boot ROM decides which image to boot first based on the image\n",
      "# version. It boots the one with the newer image version first, and in case of a failure, it boots the older one.\n",
      "imageVersion: 0\n",
      "# ======================================================================================================================\n",
      "#                                              == Certificate Block V2.1 ==                                             \n",
      "# ======================================================================================================================\n",
      "# -----------------------------===== Certificate Block binary/config file [Required] =====------------------------------\n",
      "# Description: Path to certificate block binary or config file.\n",
      "certBlock: cert_block.yaml\n",
      "# ======================================================================================================================\n",
      "#                                              == Image Signing Settings ==                                             \n",
      "# ======================================================================================================================\n",
      "# --------------------------===== Main Certificate private key [Conditionally required] =====---------------------------\n",
      "# Description: Main Certificate private key used to sign certificate. It can be replaced by signProvider key.\n",
      "signPrivateKey: main_prv_key.pem\n",
      "# -------------------------------===== Signature Provider [Conditionally required] =====--------------------------------\n",
      "# Description: Signature provider configuration in format 'type=<identifier>;<key1>=<value1>;<key2>=<value2>'.\n",
      "signProvider: type=file;file_path=my_prv_key.pem\n",
      "# ======================================================================================================================\n",
      "#                                               == Trust Zone Settings ==                                               \n",
      "# ======================================================================================================================\n",
      "# ------------------------------------===== TrustZone enable option [Optional] =====------------------------------------\n",
      "# Description: If not specified, the Trust zone is disabled.\n",
      "enableTrustZone: false\n",
      "# ---------------------------------===== TrustZone Customization file [Optional] =====----------------------------------\n",
      "# Description: If not specified, but TrustZone is enabled(enableTrustZone) the default values are used.\n",
      "trustZonePresetFile: my_tz_custom.yaml\n",
      "\n"
     ]
    }
   ],
   "source": [
    "import os\n",
    "\n",
    "from spsdk.utils.misc import load_file\n",
    "\n",
    "# choose family for the MCU\n",
    "FAMILY = \"mcxn946\"\n",
    "\n",
    "%! nxpimage $VERBOSITY mbi get-templates --family $FAMILY --output $WORKSPACE --force\n",
    "\n",
    "MBI_CONFIG_PATH = os.path.join(WORKSPACE, \"mcxn946_xip_signed.yaml\")\n",
    "# just for verification that the template was generated\n",
    "assert os.path.exists(MBI_CONFIG_PATH)\n",
    "\n",
    "config_content = load_file(MBI_CONFIG_PATH)\n",
    "print(config_content)"
   ]
  },
  {
   "cell_type": "markdown",
   "metadata": {},
   "source": [
    "## Masterboot image generation\n",
    "\n",
    "The generated configuration file contains all possible configuration settings. \n",
    "\n",
    "Some of them are required (labeled with `[Required]` comment), some of them are conditionally required (labeled with `[Conditionally required]` comment) and some are optional (labeled with `[Optional]` comment).\n",
    "\n",
    "Let's now focus on two configuration settings: `signPrivateKey` and `signProvider`. These two configuration values are mutually exclusive, so only one can be chosen. \n",
    "In order to use Signature Provider, we will remove the line with `signPrivateKey`  and update the one with `signProvider`. \n",
    "\n",
    "Keep in mind that the signature provider configuration must meet following rules:\n",
    "  - Configuration key\n",
    "    - key names `sign_provider` or `signProvider` are allowed\n",
    "\n",
    "  - Configuration value\n",
    "    - format `\"type=<identifier>;<key1>=<value1>;<key2>=<value2>;...\"`\n",
    "    - the `<identifier>` has to match the `identifier` class attribute defined in the custom signature provider(`plugins/sasp.py`)\n",
    "    - the remaining key-value pairs are passed to the `__init__` method of the concrete Signature Provider\n",
    "    - e.g.: `\"type=file;file_path=private_key.pem\"` will instantiate `spsdk.crypto.PlainFileSP(file_path='private_key.pem')`\n",
    "\n",
    "For sake of simplification, the pre-generated master boot configuration file is used. It contains only settings related to this example."
   ]
  },
  {
   "cell_type": "code",
   "execution_count": 1,
   "metadata": {},
   "outputs": [
    {
     "name": "stdout",
     "output_type": "stream",
     "text": [
      "nxpimage cert-block export --family mcxn946 --config workspace/mbimg/mcxn946_cert_block.yaml \"Cert block binary has been generated 'workspace/mbimg/mcxn946_cert_block.yaml'\"\n",
      "\n",
      "RKTH: b7ed92485e2090838d9d1766513de63a655c626700a7241dd2d6d72160051873ac9ad63a0da3a73dbfe3b2ddc652d31f\n",
      "Success. (Certificate Block: workspace\\mbimg\\cert_block.bin created.)\n",
      "nxpimage -v mbi export --plugin ../common/plugins/sasp.py --config workspace/mbimg/mcxn946_xip_signed.yaml \"Mbi binary has been generated 'workspace/mbimg/my_mbi.bin'\"\n",
      "\n",
      "RKTH: b7ed92485e2090838d9d1766513de63a655c626700a7241dd2d6d72160051873ac9ad63a0da3a73dbfe3b2ddc652d31f\n",
      "\u001b[37m\u001b[1mINFO:spsdk.apps.nxpimage:\n",
      "\u001b[90m+==0x0000_0000= Application Block ======+\n",
      "\u001b[90m|       Size: 13.9 kiB; 14,284 B        |\n",
      "\u001b[90m|\u001b[34m+==0x0000_0000= Application ==========+\u001b[90m|\n",
      "\u001b[90m|\u001b[34m|      Size: 13.6 kiB; 13,956 B       |\u001b[90m|\n",
      "\u001b[90m|\u001b[34m+==0x0000_3683========================+\u001b[90m|\n",
      "\u001b[90m|\u001b[32m+==0x0000_3684= Certification Block ==+\u001b[90m|\n",
      "\u001b[90m|\u001b[32m|             Size: 208 B             |\u001b[90m|\n",
      "\u001b[90m|\u001b[32m+==0x0000_3753========================+\u001b[90m|\n",
      "\u001b[90m|\u001b[36m+==0x0000_3754= Manifest =============+\u001b[90m|\n",
      "\u001b[90m|\u001b[36m|             Size: 24 B              |\u001b[90m|\n",
      "\u001b[90m|\u001b[36m+==0x0000_376b========================+\u001b[90m|\n",
      "\u001b[90m|\u001b[33m+==0x0000_376c= ECC signature ========+\u001b[90m|\n",
      "\u001b[90m|\u001b[33m|             Size: 96 B              |\u001b[90m|\n",
      "\u001b[90m|\u001b[33m+==0x0000_37cb========================+\u001b[90m|\n",
      "\u001b[90m+==0x0000_37cb==========================+\n",
      "\u001b[39m\u001b[39m\u001b[0m\n",
      "Success. (Master Boot Image: workspace\\mbimg\\my_mbi.bin created.)\n"
     ]
    }
   ],
   "source": [
    "import shutil\n",
    "\n",
    "# Copy additional files needed for masterboot image creation\n",
    "shutil.rmtree(WORKSPACE)\n",
    "shutil.copytree(DATA_DIR, WORKSPACE)\n",
    "\n",
    "CERT_BLOCK_CONFIG_PATH = os.path.join(WORKSPACE, \"mcxn946_cert_block.yaml\")\n",
    "\n",
    "%! nxpimage cert-block export --family $FAMILY --config $CERT_BLOCK_CONFIG_PATH\n",
    "pp.pprint(f\"Cert block binary has been generated '{CERT_BLOCK_CONFIG_PATH}'\")\n",
    "\n",
    "%! nxpimage $VERBOSITY mbi export --plugin $SASP_PLUGIN --config $MBI_CONFIG_PATH\n",
    "pp.pprint(f\"Mbi binary has been generated '{os.path.join(WORKSPACE, 'my_mbi.bin')}'\")"
   ]
  },
  {
   "cell_type": "markdown",
   "metadata": {},
   "source": [
    "## Customer Manufacturing Programming Area (CMPA) generation\n",
    "\n",
    "You can generate your own CMPA template and update it with your settings. \n",
    "\n",
    "In this example, we are using a pregenerated configuration file. Only non-default settings are kept in the config file. \n",
    "\n",
    "Pay special attention to the RoTK_USAGE register as it defines number of RoT keys in the certification block.  \n",
    "In our case, we used 2 RoT keys, so the `RoTK2_Usage` and `RoTK3_Usage` are set to `KEY_SLOT_NOT_USED`."
   ]
  },
  {
   "cell_type": "code",
   "execution_count": 1,
   "metadata": {},
   "outputs": [
    {
     "name": "stdout",
     "output_type": "stream",
     "text": [
      "\"All config files are ready in folder 'workspace/mbimg/'\"\n",
      "pfr generate-binary -c workspace/mbimg/mcxn946_cmpa.yaml -sf workspace/mbimg/hsm_k0_secp384r1.pub -sf workspace/mbimg/hsm_k1_secp384r1.pub -o workspace/mbimg/cmpa.bin \n",
      "Success. (PFR binary has been generated)\n",
      "\"CMPA has been generated in 'workspace/mbimg/cmpa.bin'\"\n"
     ]
    }
   ],
   "source": [
    "CMPA_CONFIG_PATH = os.path.join(WORKSPACE, \"mcxn946_cmpa.yaml\")\n",
    "pp.pprint(f\"All config files are ready in folder '{WORKSPACE}'\")\n",
    "\n",
    "SF0 = os.path.join(WORKSPACE, \"hsm_k0_secp384r1.pub\")\n",
    "SF1 = os.path.join(WORKSPACE, \"hsm_k1_secp384r1.pub\")\n",
    "CMPA_BIN = os.path.join(WORKSPACE, \"cmpa.bin\")\n",
    "%! pfr generate-binary -c $CMPA_CONFIG_PATH -sf $SF0 -sf $SF1 -o $CMPA_BIN\n",
    "pp.pprint(f\"CMPA has been generated in '{CMPA_BIN}'\")"
   ]
  },
  {
   "attachments": {},
   "cell_type": "markdown",
   "metadata": {},
   "source": [
    "## Execution\n",
    "\n",
    "At this point, we have everything we need for running the application. Connect the board, update the `UART_CONNECTION` variable depending on the used serial port and run the code.\n",
    "Keep in mind that the board must be in ISP mode. Once the code finishes, you can restart the board.\n",
    "Once the application is booted, green LED starts blinking."
   ]
  },
  {
   "cell_type": "code",
   "execution_count": 1,
   "metadata": {},
   "outputs": [
    {
     "name": "stdout",
     "output_type": "stream",
     "text": [
      "blhost -p com19 -- fill-memory 0x20000000 4 0xc0000405 word \n",
      "Response status = 0 (0x0) Success.\n",
      "blhost -p com19 -- configure-memory 9 0x20000000 \n",
      "Response status = 0 (0x0) Success.\n",
      "blhost -p com19 -- flash-erase-region 0x80000000 0x10000 \n",
      "Response status = 0 (0x0) Success.\n",
      "blhost -p com19 -- fill-memory 0x20003000 4 0xF000000F word \n",
      "Response status = 0 (0x0) Success.\n",
      "blhost -p com19 -- configure-memory 9 0x20003000 \n",
      "Response status = 0 (0x0) Success.\n",
      "'Memory has been configured'\n",
      "pfr erase-cmpa -p com19 --family mcxn9xx \n",
      "CMPA page address on mcxn9xx is 0x1004000\n",
      "CMPA page has been erased.\n",
      "pfr write -p com19 --type cmpa --family mcxn9xx --binary workspace/mbimg/cmpa.bin \n",
      "CMPA page address on mcxn9xx is 0x1004000\n",
      "CMPA data written to device.\n",
      "\"CMPA has been written'\"\n",
      "blhost -p com19 -- write-memory 0x80001000 workspace/mbimg/my_mbi.bin \n",
      "Writing memory\n",
      "Response status = 0 (0x0) Success.\n",
      "Response word 1 = 14284 (0x37cc)\n"
     ]
    }
   ],
   "source": [
    "UART_CONNECTION = \"-p com19\"\n",
    "%! blhost $UART_CONNECTION -- fill-memory 0x20000000 4 0xc0000405 word\n",
    "%! blhost $UART_CONNECTION -- configure-memory 9 0x20000000\n",
    "%! blhost $UART_CONNECTION -- flash-erase-region 0x80000000 0x10000\n",
    "%! blhost $UART_CONNECTION -- fill-memory 0x20003000 4 0xF000000F word\n",
    "%! blhost $UART_CONNECTION -- configure-memory 9 0x20003000\n",
    "pp.pprint(\"Memory has been configured\")\n",
    "\n",
    "%! pfr erase-cmpa $UART_CONNECTION --family $FAMILY\n",
    "\n",
    "CMPA_BIN = os.path.join(WORKSPACE, \"cmpa.bin\")\n",
    "%! pfr write $UART_CONNECTION --type cmpa --family $FAMILY --binary $CMPA_BIN\n",
    "pp.pprint(f\"CMPA has been written'\")\n",
    "\n",
    "MBI_BIN = os.path.join(WORKSPACE, \"my_mbi.bin\")\n",
    "%! blhost $UART_CONNECTION -- write-memory 0x80001000 $MBI_BIN"
   ]
  },
  {
   "attachments": {},
   "cell_type": "markdown",
   "metadata": {},
   "source": [
    "## HSM teardown\n",
    "\n",
    "Last step is to stop custom HSM. In order to do that, open again the HSM setup notebook (sahsm.ipynb) and stop the running jupyter notebook code cell."
   ]
  }
 ],
 "metadata": {
  "kernelspec": {
   "display_name": "venv",
   "language": "python",
   "name": "python3"
  },
  "language_info": {
   "codemirror_mode": {
    "name": "ipython",
    "version": 3
   },
   "file_extension": ".py",
   "mimetype": "text/x-python",
   "name": "python",
   "nbconvert_exporter": "python",
   "pygments_lexer": "ipython3",
   "version": "3.11.4"
  },
  "orig_nbformat": 4,
  "vscode": {
   "interpreter": {
    "hash": "9ae905cdb03b2bea9f2883acc56fb3ee9783b3cfb8f9c98bd74d46626fd8ede9"
   }
  }
 },
 "nbformat": 4,
 "nbformat_minor": 2
}
