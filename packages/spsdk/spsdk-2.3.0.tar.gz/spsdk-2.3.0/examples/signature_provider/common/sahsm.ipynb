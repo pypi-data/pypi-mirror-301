{
 "cells": [
  {
   "attachments": {},
   "cell_type": "markdown",
   "metadata": {},
   "source": [
    "# HSM setup\n",
    "\n",
    "HSM provide the required secure environment that is needed to generate and protect the cryptographic keys used to protect and authenticate sensitive data.\n",
    "\n",
    "We will use a simple Flask REST API service representing the remote HSM machine.\n",
    "\n",
    "Looking into `hsm` directory, we can see following files:\n",
    "- `hsm/sahsm.py` is an example of a remote signing service.\n",
    "- `hsm/hsm_k0_cert0_2048.pem` test private key used for signing the data.\n",
    "- `hsm/hsm_k1_cert0_2048.pem` test private key used for signing the data.\n",
    "\n",
    "IN order to start the HSM service, run following code:"
   ]
  },
  {
   "cell_type": "code",
   "execution_count": 1,
   "metadata": {},
   "outputs": [
    {
     "name": "stdout",
     "output_type": "stream",
     "text": [
      " * Serving Flask app 'hsm.sahsm'\n",
      " * Debug mode: off\n"
     ]
    },
    {
     "name": "stderr",
     "output_type": "stream",
     "text": [
      "\n",
      "[notice] A new release of pip available: 22.2.1 -> 23.3.1\n",
      "[notice] To update, run: python.exe -m pip install --upgrade pip\n",
      "WARNING: This is a development server. Do not use it in a production deployment. Use a production WSGI server instead.\n",
      " * Running on http://127.0.0.1:5000\n",
      "Press CTRL+C to quit\n"
     ]
    }
   ],
   "source": [
    "import sys\n",
    "\n",
    "# Install a the required dependencies into the current Jupyter kernel\n",
    "!{sys.executable} -m pip install flask requests\n",
    "\n",
    "# Start remote signing service\n",
    "from hsm.sahsm import APP\n",
    "\n",
    "APP.run()\n",
    "# This will keep running"
   ]
  }
 ],
 "metadata": {
  "kernelspec": {
   "display_name": "venv",
   "language": "python",
   "name": "python3"
  },
  "language_info": {
   "codemirror_mode": {
    "name": "ipython",
    "version": 3
   },
   "file_extension": ".py",
   "mimetype": "text/x-python",
   "name": "python",
   "nbconvert_exporter": "python",
   "pygments_lexer": "ipython3",
   "version": "3.11.0 (main, Oct 24 2022, 18:26:48) [MSC v.1933 64 bit (AMD64)]"
  },
  "orig_nbformat": 4,
  "vscode": {
   "interpreter": {
    "hash": "9ae905cdb03b2bea9f2883acc56fb3ee9783b3cfb8f9c98bd74d46626fd8ede9"
   }
  }
 },
 "nbformat": 4,
 "nbformat_minor": 2
}
