{
 "cells": [
  {
   "attachments": {},
   "cell_type": "markdown",
   "metadata": {},
   "source": [
    "# Signature Provider Plugin\n",
    "\n",
    "This notebook describes how to setup a Signature Provider plugin\n",
    "\n",
    "When signing the data with SPSDK, there are two options:\n",
    "- Using the local private key (not recommended)\n",
    "- Using the remote signing service(HSM)\n",
    "\n",
    "Let's look at the second option and setup Signature Provider \n"
   ]
  },
  {
   "cell_type": "code",
   "execution_count": 1,
   "metadata": {},
   "outputs": [
    {
     "name": "stdout",
     "output_type": "stream",
     "text": [
      "env: JUPYTER_SPSDK=1\n",
      "Created `%!` as an alias for `%execute`.\n"
     ]
    }
   ],
   "source": [
    "%run ../../init_notebook.ipynb\n",
    "\n",
    "import pprint\n",
    "\n",
    "pp = pprint.PrettyPrinter(indent=4)\n",
    "\n",
    "PLUGINS_DIR = \"plugins/\"  # change this to path to your workspace\n",
    "VERBOSITY = (\n",
    "    \"-v\"  # verbosity of commands, might be -v or -vv for debug or blank for no additional info\n",
    ")"
   ]
  },
  {
   "attachments": {},
   "cell_type": "markdown",
   "metadata": {},
   "source": [
    "## HSM setup\n",
    "\n",
    "First, we need to start the custom HSM. In order to do that, open this [notebook](sahsm.ipynb) and follow the instructions there. Once you are done, come back and continue here."
   ]
  },
  {
   "attachments": {},
   "cell_type": "markdown",
   "metadata": {},
   "source": [
    "Now the HSM should be up and running. In order to test the functionality of HSM from previous step, run a simple test:"
   ]
  },
  {
   "cell_type": "code",
   "execution_count": 1,
   "metadata": {},
   "outputs": [
    {
     "name": "stdout",
     "output_type": "stream",
     "text": [
      "RSA2048: {'signature': 'QWjBWnbG7QtninaD6R9dQZqGiMZZskdVLCV1peXZEp43SJx3PATOoXTIQhvLhOZ5Q0f1683dtGAkEzb1aHKY05fIw2iPAGNHsL7IAe5nH0t3dOaCvemlodzAbb8GDpdahUHBURpnJOsgqYccZZOR6E3GSuIwD8qKBlZ7sGomtwzrBGuNHU5AG8U0J+8hLhExpEttd953mtnyMnC5aq3W30SbwU+7lZDAc2jIJn1PltVUetdHOVyGSPi4yAGZIlnzgYD8vpse2xlPP+3Ifdfuu3ckkNSZ0xzmK8adehKGTqD5hlpnP9iWPd7lio+82SovjmQ552RwwtRGbFmqC2qEkg=='}\n",
      "SECP384R1: {'signature': 'yvkBDfnIRVBL0RPQfdKrWa5B2keLTdbwmlhq/x5bKdKLKNaIhwo0CFDoar86jad5rQHNs+2iv9s9p9y9lHsT1dcbB9qCUgFe27Ix6cE6GGMahLbsIDzFDzUvCKyCsWqE'}\n"
     ]
    }
   ],
   "source": [
    "import requests\n",
    "\n",
    "# rsa2048 sign\n",
    "response = requests.get(\"http://127.0.0.1:5000/signer/rsa2048/0?data=b'ABC'\")\n",
    "print(f\"RSA2048: {response.json()}\")\n",
    "\n",
    "response = requests.get(\"http://127.0.0.1:5000/signer/secp384r1/0?data=b'ABC'\")\n",
    "print(f\"SECP384R1: {response.json()}\")"
   ]
  },
  {
   "attachments": {},
   "cell_type": "markdown",
   "metadata": {},
   "source": [
    "## Signature Provider plugin\n",
    "\n",
    "Plugins extend the existing SPSDK functionality with additional features. \n",
    "\n",
    "In order to use remote signing, a Signature Provider plugin used for communication with HSM must be implemented.\n",
    "\n",
    "Explore the file `plugins\\sasp.py`. It will be used later on."
   ]
  },
  {
   "cell_type": "code",
   "execution_count": 1,
   "metadata": {},
   "outputs": [
    {
     "name": "stdout",
     "output_type": "stream",
     "text": [
      "#!/usr/bin/env python\n",
      "# -*- coding: UTF-8 -*-\n",
      "#\n",
      "# Copyright 2020-2024 NXP\n",
      "#\n",
      "# SPDX-License-Identifier: BSD-3-Clause\n",
      "\n",
      "\"\"\"Customer-specific Signature Provider.\"\"\"\n",
      "\n",
      "import base64\n",
      "\n",
      "import requests\n",
      "\n",
      "from spsdk.crypto.keys import PublicKey\n",
      "from spsdk.crypto.signature_provider import SignatureProvider\n",
      "\n",
      "\n",
      "class SuperAwesomeSP(SignatureProvider):\n",
      "    \"\"\"Signature Provider based on a remote signing service.\"\"\"\n",
      "\n",
      "    # identifier of this signature provider; used in yaml configuration file\n",
      "    identifier = \"sasp\"\n",
      "\n",
      "    def __init__(self, key_number: int, key_type: str) -> None:\n",
      "        \"\"\"Initialize the Super Awesome SignatureProvider.\n",
      "\n",
      "        :param key_number: index of the key to use (rot_id from yaml config)\n",
      "        \"\"\"\n",
      "        self.url = \"http://127.0.0.1:5000\"\n",
      "        self.key_number = key_number\n",
      "        self.key_type = key_type\n",
      "\n",
      "    def sign(self, data: bytes) -> bytes:\n",
      "        \"\"\"Perform the signing.\n",
      "\n",
      "        :param data: Data to sign\n",
      "        :return: Signature\n",
      "        \"\"\"\n",
      "        endpoint = f\"{self.url}/signer/{self.key_type}/{self.key_number}\"\n",
      "        params = {\"data\": base64.b64encode(data)}\n",
      "        response = requests.get(endpoint, params=params, timeout=30)\n",
      "        self.check_response(response)\n",
      "        signature = response.json()[\"signature\"]\n",
      "        data = base64.b64decode(signature)\n",
      "        return data\n",
      "\n",
      "    def verify_public_key(self, public_key: PublicKey) -> bool:\n",
      "        \"\"\"Verify if given public key matches private key.\n",
      "\n",
      "        :param public_key: Public key to verify\n",
      "        :return: True if public_key is matching private_key, False otherwise\n",
      "        \"\"\"\n",
      "        endpoint = f\"{self.url}/verifier/{self.key_type}/{self.key_number}\"\n",
      "        params = {\"public_key\": base64.b64encode(public_key.export())}\n",
      "        response = requests.get(endpoint, params=params, timeout=30)\n",
      "        self.check_response(response)\n",
      "        is_matching = response.json()[\"is_matching\"]\n",
      "        return is_matching\n",
      "\n",
      "    @property\n",
      "    def signature_length(self) -> int:\n",
      "        \"\"\"Return length of the signature.\"\"\"\n",
      "        return {\"rsa2048\": 256, \"secp256r1\": 64, \"secp384r1\": 96, \"secp521r1\": 132}[self.key_type]\n",
      "\n",
      "    @staticmethod\n",
      "    def check_response(response: requests.Response) -> None:\n",
      "        \"\"\"Raise if response is not 2xx.\"\"\"\n",
      "        try:\n",
      "            response.raise_for_status()\n",
      "        except requests.HTTPError as e:\n",
      "            if response.text:\n",
      "                raise requests.HTTPError(\n",
      "                    f\"{str(e)}; Error Message: {response.text}\",\n",
      "                    request=e.request,\n",
      "                    response=e.response,\n",
      "                )\n",
      "            raise e\n",
      "\n"
     ]
    }
   ],
   "source": [
    "import os\n",
    "\n",
    "plugins_dir = \"plugins/\"\n",
    "# The content of plugin will be printed here\n",
    "SASP_PLUGIN = os.path.join(plugins_dir, \"sasp.py\")\n",
    "with open(SASP_PLUGIN, \"r\") as f:\n",
    "    print(f.read())"
   ]
  },
  {
   "attachments": {},
   "cell_type": "markdown",
   "metadata": {},
   "source": [
    "Note that the SuperAwesomeSP plugin is derived from `spsdk.crypto.SignatureProvider` base class.\n",
    "\n",
    "- The derived class has to implement:\n",
    "  - `identifier: str`: class attribute that identifies the concrete implementation of SignatureProvider\n",
    "  - `sign(bytes) -> bytes`: method which performs the actual signing\n",
    "  - `signature_length -> str`: property which returns a length of a signature\n",
    "- The derived class can also optionally implement:\n",
    "  - `info() -> str`: method which returns information about the signature provider (for debugging purposes). The default implementation returns a class name as a string\n",
    "  - `verify_public_key(bytes) -> bool`: method which verifies if a given public key matches a private key.\n",
    " \n",
    "> Omitting the implementation of optional methods such as `info()` does not break the functionality of application."
   ]
  },
  {
   "attachments": {},
   "cell_type": "markdown",
   "metadata": {},
   "source": [
    "## Signature Formats\n",
    "\n",
    "The signature must meet following formats:\n",
    "\n",
    "- RSA: Standard format\n",
    "- ECC: Extracted public numbers r+s stored in big endian or DER-formatted signature"
   ]
  }
 ],
 "metadata": {
  "kernelspec": {
   "display_name": "venv",
   "language": "python",
   "name": "python3"
  },
  "language_info": {
   "codemirror_mode": {
    "name": "ipython",
    "version": 3
   },
   "file_extension": ".py",
   "mimetype": "text/x-python",
   "name": "python",
   "nbconvert_exporter": "python",
   "pygments_lexer": "ipython3",
   "version": "3.11.0 (main, Oct 24 2022, 18:26:48) [MSC v.1933 64 bit (AMD64)]"
  },
  "orig_nbformat": 4,
  "vscode": {
   "interpreter": {
    "hash": "9ae905cdb03b2bea9f2883acc56fb3ee9783b3cfb8f9c98bd74d46626fd8ede9"
   }
  }
 },
 "nbformat": 4,
 "nbformat_minor": 2
}
