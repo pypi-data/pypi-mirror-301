{
 "cells": [
  {
   "cell_type": "markdown",
   "metadata": {},
   "source": [
    "# i.MX 95 AHAB with U-BOOT\n",
    "\n",
    "This notebook describes how to build a bootable AHAB image with ELE firmware and U-BOOT bootloader, and how to use NXPELE app.\n",
    "\n",
    "## Set up the environment\n",
    "\n",
    "- SPSDK is needed with examples extension. `pip install spsdk[examples]` (Please refer to the installation documentation.)\n",
    "- This demo was tested with i.MX 95 EVK board with LPDDR5 memory\n",
    "\n",
    "## Images preparation\n",
    "\n",
    "- to create resulting binary containing AHAB containers, we need to prepare the binaries\n",
    "- in this section we reproduce the process which is done by the `imx-mkimage` tool\n",
    "- Obtain all the necessary binaries and put them into inputs directory\n",
    "\n",
    "## U-Boot\n",
    "\n",
    "[Read the U-Boot documentation to understand the U-Boot build process](https://docs.u-boot.org/en/latest/board/nxp/imx93_11x11_evk.html#quick-start)\n",
    "In order to use the nxpele app, U-Boot must be built with AHAB support. CONFIG_AHAB_BOOT=y\n",
    "If you want to use the nxpele over fastboot, also multiplexing of console output to fastboot must be enabled by setting CONFIG_CONSOLE_MUX=y.\n",
    "\n",
    "## Requirements\n",
    "\n",
    "Download these files from the https://www.nxp.com/lgfiles/NMG/MAD/YOCTO/<package name> and put them into the inputs directory.\n",
    "\n",
    "Primary image container set:\n",
    "- ELE firmware\n",
    "- lpddr5 or lpddr4 firmware files with OEI firmware\n",
    "- CM33 OEI TCM\n",
    "- CM33 System manager image\n",
    "- U-Boot SPL\n",
    "- [Optional] M7 application image\n",
    "\n",
    "Secondary image container set\n",
    "- bl31.bin binary (ARM Trusted Firmware)\n",
    "- U-Boot (built with AHAB support)\n",
    "- TEE binary"
   ]
  },
  {
   "cell_type": "code",
   "execution_count": 3,
   "metadata": {},
   "outputs": [
    {
     "name": "stdout",
     "output_type": "stream",
     "text": [
      "env: JUPYTER_SPSDK=1\n",
      "Created `%!` as an alias for `%execute`.\n"
     ]
    }
   ],
   "source": [
    "# This env variable sets colored logger output to STDOUT\n",
    "# Execute this cell to enable execution of the ! line magic\n",
    "%env JUPYTER_SPSDK=1\n",
    "%alias execute echo %l && %l\n",
    "%alias_magic ! execute"
   ]
  },
  {
   "cell_type": "markdown",
   "metadata": {},
   "source": [
    "## AHAB Template\n",
    "\n",
    "We can generate the template using the nxpimage ahab get-template command. The command will generate a template. The template is a YAML file that contains the AHAB header and the AHAB container. The AHAB header contains the information about the image, such as the version, the number of containers, and the signature. The AHAB container contains the information about the image, such as the image type, the image version, the image size, and the image signature.\n",
    "\n",
    "The following command generates the template:\n",
    "\n",
    "```bash\n",
    "nxpimage ahab get-template -f mimx9596 -o ahab_template.yaml\n",
    "```\n",
    "\n",
    "## Exporting of the AHAB image\n",
    "\n",
    "The AHAB image can be exported using the nxpimage ahab export command. The command will create the AHAB image from the template. The following command creates the AHAB image:\n",
    "\n",
    "```bash\n",
    "nxpimage ahab export -c ahab_template.yaml \n",
    "```\n",
    "\n",
    "## Exporting of full AHAB image\n",
    "\n",
    "U-Boot image consist from two image container sets. The first one contains ELE firmware, DDR firmware with OEI, system manager and U-Boot SPL. This image is loaded using the SDPS protocol. Once the U-Boot SPL is loaded to OCRAM the fastboot is opened and the second container is loaded using the fastboot protocol.\n",
    "\n",
    "If the image is intended for loading using the UUU, the memory type should be set to serial_downloader. However the type of each individual AHAB should be set to *standard*, because it will be stored in flash memory.\n",
    "\n",
    "```bash\n",
    "nxpimage -v bootable-image merge -c u-boot-flash_template.yaml -o flash.bin\n",
    "```\n"
   ]
  },
  {
   "cell_type": "code",
   "execution_count": 2,
   "metadata": {},
   "outputs": [
    {
     "name": "stdout",
     "output_type": "stream",
     "text": [
      "nxpimage -v bootable-image merge --config bootimg_mx95_serial_downloader.yaml --output outputs/flash.bin \n",
      "\u001b[37m\u001b[1mINFO:spsdk.apps.nxpimage:Created Bootable Image:\n",
      "Name:      Bootable Image for mimx9596\n",
      "Starts:    0x0\n",
      "Ends:      0x26bbff\n",
      "Size:      Size: 2.4 MiB; 2,538,496 B\n",
      "Alignment: 1 B\n",
      "Pattern:zeros\n",
      "Memory type: MemoryType.SERIAL_DOWNLOADER\n",
      "Revision: latest\n",
      "\u001b[39m\u001b[0m\n",
      "\u001b[37m\u001b[1mINFO:spsdk.apps.nxpimage:Created Bootable Image memory map:\n",
      "\n",
      "\u001b[90m+==0x0000_0000= Bootable Image for mimx9596 =====================+\n",
      "\u001b[90m|                   Size: 2.4 MiB; 2,538,496 B                   |\n",
      "\u001b[90m|   Memory type: MemoryType.SERIAL_DOWNLOADER Revision: latest   |\n",
      "\u001b[90m|                         Pattern: zeros                         |\n",
      "\u001b[90m|\u001b[34m+==0x0000_0000= primary_image_container_set ===================+\u001b[90m|\n",
      "\u001b[90m|\u001b[34m|                  Size: 852.0 kiB; 872,448 B                  |\u001b[90m|\n",
      "\u001b[90m|\u001b[34m|                  AHAB Image for mimx9596_a0                  |\u001b[90m|\n",
      "\u001b[90m|\u001b[34m|                        Pattern: zeros                        |\u001b[90m|\n",
      "\u001b[90m|\u001b[34m|\u001b[90m+==0x0000_0000= AHAB Containers =============================+\u001b[34m|\u001b[90m|\n",
      "\u001b[90m|\u001b[34m|\u001b[90m|                   Size: 8.0 kiB; 8,192 B                   |\u001b[34m|\u001b[90m|\n",
      "\u001b[90m|\u001b[34m|\u001b[90m|                   AHAB Containers block                    |\u001b[34m|\u001b[90m|\n",
      "\u001b[90m|\u001b[34m|\u001b[90m|                       Pattern: zeros                       |\u001b[34m|\u001b[90m|\n",
      "\u001b[90m|\u001b[34m|\u001b[90m|\u001b[34m+==0x0000_0000= AHAB Container 0 ==========================+\u001b[90m|\u001b[34m|\u001b[90m|\n",
      "\u001b[90m|\u001b[34m|\u001b[90m|\u001b[34m|                       Size: 544 B                        |\u001b[90m|\u001b[34m|\u001b[90m|\n",
      "\u001b[90m|\u001b[34m|\u001b[90m|\u001b[34m|              AHAB Container for nxp_SWver:0              |\u001b[90m|\u001b[34m|\u001b[90m|\n",
      "\u001b[90m|\u001b[34m|\u001b[90m|\u001b[34m+==0x0000_021f=============================================+\u001b[90m|\u001b[34m|\u001b[90m|\n",
      "\u001b[90m|\u001b[34m|\u001b[90m|                         Gap: 480 B                         |\u001b[34m|\u001b[90m|\n",
      "\u001b[90m|\u001b[34m|\u001b[90m|\u001b[32m+==0x0000_0400= AHAB Container 1 ==========================+\u001b[90m|\u001b[34m|\u001b[90m|\n",
      "\u001b[90m|\u001b[34m|\u001b[90m|\u001b[32m|                       Size: 832 B                        |\u001b[90m|\u001b[34m|\u001b[90m|\n",
      "\u001b[90m|\u001b[34m|\u001b[90m|\u001b[32m|              AHAB Container for oem_SWver:0              |\u001b[90m|\u001b[34m|\u001b[90m|\n",
      "\u001b[90m|\u001b[34m|\u001b[90m|\u001b[32m+==0x0000_073f=============================================+\u001b[90m|\u001b[34m|\u001b[90m|\n",
      "\u001b[90m|\u001b[34m|\u001b[90m|                         Gap: 192 B                         |\u001b[34m|\u001b[90m|\n",
      "\u001b[90m|\u001b[34m|\u001b[90m|\u001b[36m+==0x0000_0800= AHAB Container 2 ==========================+\u001b[90m|\u001b[34m|\u001b[90m|\n",
      "\u001b[90m|\u001b[34m|\u001b[90m|\u001b[36m|                       Size: 800 B                        |\u001b[90m|\u001b[34m|\u001b[90m|\n",
      "\u001b[90m|\u001b[34m|\u001b[90m|\u001b[36m|             AHAB Container for none_SWver:0              |\u001b[90m|\u001b[34m|\u001b[90m|\n",
      "\u001b[90m|\u001b[34m|\u001b[90m|\u001b[36m+==0x0000_0b1f=============================================+\u001b[90m|\u001b[34m|\u001b[90m|\n",
      "\u001b[90m|\u001b[34m|\u001b[90m+==0x0000_1fff===============================================+\u001b[34m|\u001b[90m|\n",
      "\u001b[90m|\u001b[34m|\u001b[32m+==0x0000_2000= Container 0 AHAB Data Image 0 ===============+\u001b[34m|\u001b[90m|\n",
      "\u001b[90m|\u001b[34m|\u001b[32m|                  Size: 82.3 kiB; 84,288 B                  |\u001b[34m|\u001b[90m|\n",
      "\u001b[90m|\u001b[34m|\u001b[32m| AHAB encrypted data block for ele core and ele Image Type. |\u001b[34m|\u001b[90m|\n",
      "\u001b[90m|\u001b[34m|\u001b[32m+==0x0001_693f===============================================+\u001b[34m|\u001b[90m|\n",
      "\u001b[90m|\u001b[34m|                         Gap: 5.7 kiB                         |\u001b[90m|\n",
      "\u001b[90m|\u001b[34m|\u001b[36m+==0x0001_8000= Container 1 AHAB Data Image 0 ===============+\u001b[34m|\u001b[90m|\n",
      "\u001b[90m|\u001b[34m|\u001b[36m|                  Size: 52.0 kiB; 53,248 B                  |\u001b[34m|\u001b[90m|\n",
      "\u001b[90m|\u001b[34m|\u001b[36m| AHAB data block for v2x-1 core and v2x_primary Image Type. |\u001b[34m|\u001b[90m|\n",
      "\u001b[90m|\u001b[34m|\u001b[36m+==0x0002_4fff===============================================+\u001b[34m|\u001b[90m|\n",
      "\u001b[90m|\u001b[34m|\u001b[33m+==0x0002_5000= Container 1 AHAB Data Image 1 ===============+\u001b[34m|\u001b[90m|\n",
      "\u001b[90m|\u001b[34m|\u001b[33m|                  Size: 28.0 kiB; 28,672 B                  |\u001b[34m|\u001b[90m|\n",
      "\u001b[90m|\u001b[34m|\u001b[33m|AHAB data block for v2x-2 core and v2x_secondary Image Type.|\u001b[34m|\u001b[90m|\n",
      "\u001b[90m|\u001b[34m|\u001b[33m+==0x0002_bfff===============================================+\u001b[34m|\u001b[90m|\n",
      "\u001b[90m|\u001b[34m|\u001b[35m+==0x0002_c000= OEI DDR =====================================+\u001b[34m|\u001b[90m|\n",
      "\u001b[90m|\u001b[34m|\u001b[35m|                 Size: 308.0 kiB; 315,392 B                 |\u001b[34m|\u001b[90m|\n",
      "\u001b[90m|\u001b[34m|\u001b[35m|  AHAB data block for cortex-m33 core and oei Image Type.   |\u001b[34m|\u001b[90m|\n",
      "\u001b[90m|\u001b[34m|\u001b[35m+==0x0007_8fff===============================================+\u001b[34m|\u001b[90m|\n",
      "\u001b[90m|\u001b[34m|                        Gap: 64.0 kiB                         |\u001b[90m|\n",
      "\u001b[90m|\u001b[34m|\u001b[37m+==0x0008_9000= OEI TCM =====================================+\u001b[34m|\u001b[90m|\n",
      "\u001b[90m|\u001b[34m|\u001b[37m|                   Size: 4.0 kiB; 4,096 B                   |\u001b[34m|\u001b[90m|\n",
      "\u001b[90m|\u001b[34m|\u001b[37m|  AHAB data block for cortex-m33 core and oei Image Type.   |\u001b[34m|\u001b[90m|\n",
      "\u001b[90m|\u001b[34m|\u001b[37m+==0x0008_9fff===============================================+\u001b[34m|\u001b[90m|\n",
      "\u001b[90m|\u001b[34m|\u001b[94m+==0x0008_a000= System manager ==============================+\u001b[34m|\u001b[90m|\n",
      "\u001b[90m|\u001b[34m|\u001b[94m|                 Size: 143.0 kiB; 146,432 B                 |\u001b[34m|\u001b[90m|\n",
      "\u001b[90m|\u001b[34m|\u001b[94m|  AHAB data block for cortex-m33 core and executable Image  |\u001b[34m|\u001b[90m|\n",
      "\u001b[90m|\u001b[34m|\u001b[94m|                           Type.                            |\u001b[34m|\u001b[90m|\n",
      "\u001b[90m|\u001b[34m|\u001b[94m+==0x000a_dbff===============================================+\u001b[34m|\u001b[90m|\n",
      "\u001b[90m|\u001b[34m|\u001b[96m+==0x000a_dc00= Additional Cortex M7 application ============+\u001b[34m|\u001b[90m|\n",
      "\u001b[90m|\u001b[34m|\u001b[96m|                  Size: 15.0 kiB; 15,360 B                  |\u001b[34m|\u001b[90m|\n",
      "\u001b[90m|\u001b[34m|\u001b[96m| AHAB data block for cortex-m7-1 core and executable Image  |\u001b[34m|\u001b[90m|\n",
      "\u001b[90m|\u001b[34m|\u001b[96m|                           Type.                            |\u001b[34m|\u001b[90m|\n",
      "\u001b[90m|\u001b[34m|\u001b[96m+==0x000b_17ff===============================================+\u001b[34m|\u001b[90m|\n",
      "\u001b[90m|\u001b[34m|\u001b[92m+==0x000b_1800= U-Boot SPL ==================================+\u001b[34m|\u001b[90m|\n",
      "\u001b[90m|\u001b[34m|\u001b[92m|                 Size: 142.0 kiB; 145,408 B                 |\u001b[34m|\u001b[90m|\n",
      "\u001b[90m|\u001b[34m|\u001b[92m|  AHAB data block for cortex-a55 core and executable Image  |\u001b[34m|\u001b[90m|\n",
      "\u001b[90m|\u001b[34m|\u001b[92m|                           Type.                            |\u001b[34m|\u001b[90m|\n",
      "\u001b[90m|\u001b[34m|\u001b[92m+==0x000d_4fff===============================================+\u001b[34m|\u001b[90m|\n",
      "\u001b[90m|\u001b[34m|\u001b[95m+==0x000d_5000= V2X core Dummy record =======================+\u001b[34m|\u001b[90m|\n",
      "\u001b[90m|\u001b[34m|\u001b[95m|                         Size: 0 B                          |\u001b[34m|\u001b[90m|\n",
      "\u001b[90m|\u001b[34m|\u001b[95m|  AHAB data block for cortex-m33 core and v2x_dummy Image   |\u001b[34m|\u001b[90m|\n",
      "\u001b[90m|\u001b[34m|\u001b[95m|                           Type.                            |\u001b[34m|\u001b[90m|\n",
      "\u001b[90m|\u001b[34m|\u001b[95m+==0x000d_4fff===============================================+\u001b[34m|\u001b[90m|\n",
      "\u001b[90m|\u001b[34m+==0x000d_4fff=================================================+\u001b[90m|\n",
      "\u001b[90m|\u001b[32m+==0x000d_5000= secondary_image_container_set =================+\u001b[90m|\n",
      "\u001b[90m|\u001b[32m|                  Size: 1.6 MiB; 1,666,048 B                  |\u001b[90m|\n",
      "\u001b[90m|\u001b[32m|                  AHAB Image for mimx9596_a0                  |\u001b[90m|\n",
      "\u001b[90m|\u001b[32m|                        Pattern: zeros                        |\u001b[90m|\n",
      "\u001b[90m|\u001b[32m|\u001b[90m+==0x000d_5000= AHAB Containers =============================+\u001b[32m|\u001b[90m|\n",
      "\u001b[90m|\u001b[32m|\u001b[90m|                   Size: 8.0 kiB; 8,192 B                   |\u001b[32m|\u001b[90m|\n",
      "\u001b[90m|\u001b[32m|\u001b[90m|                   AHAB Containers block                    |\u001b[32m|\u001b[90m|\n",
      "\u001b[90m|\u001b[32m|\u001b[90m|                       Pattern: zeros                       |\u001b[32m|\u001b[90m|\n",
      "\u001b[90m|\u001b[32m|\u001b[90m|\u001b[34m+==0x000d_5000= AHAB Container 0 ==========================+\u001b[90m|\u001b[32m|\u001b[90m|\n",
      "\u001b[90m|\u001b[32m|\u001b[90m|\u001b[34m|                       Size: 416 B                        |\u001b[90m|\u001b[32m|\u001b[90m|\n",
      "\u001b[90m|\u001b[32m|\u001b[90m|\u001b[34m|             AHAB Container for none_SWver:0              |\u001b[90m|\u001b[32m|\u001b[90m|\n",
      "\u001b[90m|\u001b[32m|\u001b[90m|\u001b[34m+==0x000d_519f=============================================+\u001b[90m|\u001b[32m|\u001b[90m|\n",
      "\u001b[90m|\u001b[32m|\u001b[90m+==0x000d_6fff===============================================+\u001b[32m|\u001b[90m|\n",
      "\u001b[90m|\u001b[32m|\u001b[34m+==0x000d_7000= ATF - ARM Trusted Firmware ==================+\u001b[32m|\u001b[90m|\n",
      "\u001b[90m|\u001b[32m|\u001b[34m|                  Size: 37.0 kiB; 37,888 B                  |\u001b[32m|\u001b[90m|\n",
      "\u001b[90m|\u001b[32m|\u001b[34m|  AHAB data block for cortex-a55 core and executable Image  |\u001b[32m|\u001b[90m|\n",
      "\u001b[90m|\u001b[32m|\u001b[34m|                           Type.                            |\u001b[32m|\u001b[90m|\n",
      "\u001b[90m|\u001b[32m|\u001b[34m+==0x000e_03ff===============================================+\u001b[32m|\u001b[90m|\n",
      "\u001b[90m|\u001b[32m|\u001b[36m+==0x000e_0400= U-Boot Firmware =============================+\u001b[32m|\u001b[90m|\n",
      "\u001b[90m|\u001b[32m|\u001b[36m|                 Size: 1.0 MiB; 1,091,584 B                 |\u001b[32m|\u001b[90m|\n",
      "\u001b[90m|\u001b[32m|\u001b[36m|  AHAB data block for cortex-a55 core and executable Image  |\u001b[32m|\u001b[90m|\n",
      "\u001b[90m|\u001b[32m|\u001b[36m|                           Type.                            |\u001b[32m|\u001b[90m|\n",
      "\u001b[90m|\u001b[32m|\u001b[36m+==0x001e_abff===============================================+\u001b[32m|\u001b[90m|\n",
      "\u001b[90m|\u001b[32m|\u001b[33m+==0x001e_ac00= U-Boot TEE - Trusted Execution Environment ==+\u001b[32m|\u001b[90m|\n",
      "\u001b[90m|\u001b[32m|\u001b[33m|                 Size: 516.0 kiB; 528,384 B                 |\u001b[32m|\u001b[90m|\n",
      "\u001b[90m|\u001b[32m|\u001b[33m|  AHAB data block for cortex-a55 core and executable Image  |\u001b[32m|\u001b[90m|\n",
      "\u001b[90m|\u001b[32m|\u001b[33m|                           Type.                            |\u001b[32m|\u001b[90m|\n",
      "\u001b[90m|\u001b[32m|\u001b[33m+==0x0026_bbff===============================================+\u001b[32m|\u001b[90m|\n",
      "\u001b[90m|\u001b[32m+==0x0026_bbff=================================================+\u001b[90m|\n",
      "\u001b[90m+==0x0026_bbff===================================================+\n",
      "\u001b[39m\u001b[39m\u001b[0m\n",
      "Success. (Bootable Image: outputs\\flash.bin created) \n"
     ]
    }
   ],
   "source": [
    "\n",
    "\n",
    "U_BOOT_PRIMARY = \"mx95_uboot_primary.yaml\"\n",
    "U_BOOT_SECONDARY = \"mx95_uboot_secondary.yaml\"\n",
    "U_BOOT_FLASH_BOOT_CFG = \"bootimg_mx95_serial_downloader.yaml\"\n",
    "U_BOOT_FLASH_BOOT = \"outputs/flash.bin\"\n",
    "\n",
    "VERBOSITY = \"-v\"\n",
    "\n",
    "# EXPORT U-BOOT IMAGE\n",
    "%! nxpimage -v bootable-image merge --config $U_BOOT_FLASH_BOOT_CFG --output $U_BOOT_FLASH_BOOT\n",
    "\n"
   ]
  },
  {
   "cell_type": "code",
   "execution_count": 8,
   "metadata": {},
   "outputs": [
    {
     "name": "stdout",
     "output_type": "stream",
     "text": [
      "nxpuuu -v write -f mimx9596 -b emmc outputs/flash.bin \n",
      "SDPS: boot -f outputs/flash.bin\n",
      "\n",
      "\n",
      "SDPV: write -f outputs/flash.bin -skipspl\n",
      "\n",
      "\n",
      "SDPV: jump\n",
      "\n",
      "\n",
      "Done\n"
     ]
    }
   ],
   "source": [
    "# Set the boot mode to Cortex-M Serial Downloader 1001 and download the files using the UUU tool\n",
    "\n",
    "%! nxpuuu $VERBOSITY write -f mimx9596 -b emmc $U_BOOT_FLASH_BOOT\n"
   ]
  },
  {
   "cell_type": "markdown",
   "metadata": {},
   "source": [
    "Now change the boot mode to Cortex-M EMMC 1010 and reset the board. Find the serial port that belongs to U-Boot console and interrupt the boot. \n",
    "When the console is switched to U-Boot menu, we can use the *nxpele* tool to communicate with the ELE.\n"
   ]
  },
  {
   "cell_type": "code",
   "execution_count": 9,
   "metadata": {},
   "outputs": [
    {
     "name": "stdout",
     "output_type": "stream",
     "text": [
      "nxpele -f mimx9596 -p COM180 -d uboot_serial get-info \n",
      "ELE get info ends successfully:\n",
      "Command:          0xda\n",
      "Version:          2\n",
      "Length:           160\n",
      "SoC ID:           MX95 - 0x9500\n",
      "SoC version:      A100\n",
      "Life Cycle:       OEM_OPEN - 0x0010\n",
      "SSSM state:       4\n",
      "UUID:             e1e6e6f98b514065bd991d922e30c659\n",
      "SHA256 ROM PATCH: e32d8de33ee1ac953d78379b9d6c1523544e3b77a9848d1d1af9374f678a81c1\n",
      "SHA256 FW:        eb3f39a5dccafb3335e8e3e340d3e5f06b386666036a30affb660a301b5ed420\n",
      "Advanced information:\n",
      "  OEM SRKH:       0000000000000000000000000000000000000000000000000000000000000000\n",
      "  IMEM state:     This is non-existing tag(0x0) from enum: EleImemState - 0x00\n",
      "  CSAL state:     EdgeLock secure enclave random context initialization succeed - 0x02\n",
      "  TRNG state:     TRNG entropy is valid and ready to be read - 0x03\n",
      "  OEM PQC SRKH:  00000000000000000000000000000000000000000000000000000000000000000000000000000000000000000000000000000000000000000000000000000000\n",
      "\n"
     ]
    }
   ],
   "source": [
    "%! nxpele -f mimx9596 -p COM180 -d uboot_serial get-info"
   ]
  },
  {
   "cell_type": "code",
   "execution_count": 11,
   "metadata": {},
   "outputs": [
    {
     "name": "stdout",
     "output_type": "stream",
     "text": [
      "nxpele -f mimx9596 -p COM180 -d uboot_serial generate-keyblob DEK -a AES_CBC --key-id 0 --key 00000000000000000000000000000000 --key-size 128 \n",
      "ELE generate DEK key blob ends successfully:\n",
      "00480081011003002021528bf3419a5498d94d8f73333fb48e1925049106cc0a28d5fb19a2c48a5797b509156279678db9b3a304af8d073ed2f8937a24e80a07381f79cede1d0577\n"
     ]
    }
   ],
   "source": [
    "%! nxpele -f mimx9596 -p COM180 -d uboot_serial generate-keyblob DEK -a AES_CBC --key-id 0 --key 00000000000000000000000000000000 --key-size 128"
   ]
  }
 ],
 "metadata": {
  "kernelspec": {
   "display_name": "venv",
   "language": "python",
   "name": "python3"
  },
  "language_info": {
   "codemirror_mode": {
    "name": "ipython",
    "version": 3
   },
   "file_extension": ".py",
   "mimetype": "text/x-python",
   "name": "python",
   "nbconvert_exporter": "python",
   "pygments_lexer": "ipython3",
   "version": "3.11.1"
  }
 },
 "nbformat": 4,
 "nbformat_minor": 2
}
