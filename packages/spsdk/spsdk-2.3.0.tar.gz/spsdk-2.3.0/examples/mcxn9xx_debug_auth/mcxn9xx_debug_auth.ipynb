{
  "cells": [
    {
      "attachments": {},
      "cell_type": "markdown",
      "id": "11306af5",
      "metadata": {},
      "source": [
        "# Debug authentication on MCXN9XX"
      ]
    },
    {
      "attachments": {},
      "cell_type": "markdown",
      "id": "cb5a4784",
      "metadata": {},
      "source": [
        "## Introduction\n",
        "The fundamental principles of debugging, which require access to the system state and system information, conflict with the principles of security, which require the restriction of access to assets. Thus, many products disable debug access completely before deploying the product. To address these challenges, the chip offers a debug authentication protocol as a mechanism to authenticate the debugger (an external entity) has the credentials approved by the product manufacturer before granting debug access to the device.\n",
        "The debug authentication is a challenge-response scheme and assures that only the debugger in possession of the required debug credentials can successfully authenticate over the debug interface and access restricted parts of the device. "
      ]
    },
    {
      "attachments": {},
      "cell_type": "markdown",
      "id": "f28c200c",
      "metadata": {},
      "source": [
        "The protocol is divided into steps as described below:\n",
        "1. The debugger initiates the Debug Mailbox message exchange by setting the CSW[RESYNCH_REQ] bit and\n",
        "CSW[CHIP_RESET_REQ] bit of DM-AP.\n",
        "2. The debugger waits (minimum 30 ms) for the devices to restart and enter debug mailbox request handling loop.\n",
        "3. The debugger sends Debug Authentication Start command (command code 10h) to the device.\n",
        "4. The device responds back with Debug Authentication Challenge (DAC) packet based on the debug access rights preconfigured in CMPA fields, which are collectively referred as Device Credential Constraints Configuration (DCFG_CC).\n",
        "The response packet also contains a 32 bytes random challenge vector.\n",
        "5. The debugger responds to the challenge with a Debug Authentication Response (DAR) message by using an\n",
        "appropriate debug certificate, matching the device identifier in the DAC. The DAR packet contains the debug access\n",
        "permission certificate, also referred as Debug Credential (DC), and a cryptographic signature binding the DC and the\n",
        "challenge vector provided in the DAC.\n",
        "6. The device on receiving the DAR, validates the contents by verifying the cryptographic signature of the message using\n",
        "the debugger's public key present in the embedded the Debug Credential (DC). On successful validation of DAR, the\n",
        "device enables access to the debug domains permitted in the DC"
      ]
    },
    {
      "attachments": {},
      "cell_type": "markdown",
      "id": "46b32c46",
      "metadata": {},
      "source": [
        "![debug_authentication_flow](img/debug_authentication_flow.PNG \"debug_authentication_flow.PNG\")"
      ]
    },
    {
      "attachments": {},
      "cell_type": "markdown",
      "id": "1c4ab6a8",
      "metadata": {},
      "source": [
        "## WARNING! :warning:\n",
        "This configuration is used only for demonstration purpose.\n",
        "For final security device configuration go through all configuration possibilities and define your own specific config/keys."
      ]
    },
    {
      "attachments": {},
      "cell_type": "markdown",
      "id": "eb5deed1",
      "metadata": {},
      "source": [
        "## Let's prepare the environment"
      ]
    },
    {
      "cell_type": "code",
      "execution_count": 1,
      "id": "65302c71",
      "metadata": {},
      "outputs": [
        {
          "name": "stdout",
          "output_type": "stream",
          "text": [
            "env: JUPYTER_SPSDK=1\n",
            "Created `%!` as an alias for `%execute`.\n"
          ]
        }
      ],
      "source": [
        "%run ../init_notebook.ipynb\n",
        "\n",
        "import os\n",
        "\n",
        "WORKSPACE = \"workspace/\"  # change this to path to your workspace\n",
        "KEYS = \"../_data/keys/ecc256/\"  # change this to path to your keys\n",
        "INPUTS = \"inputs/\"\n",
        "VERBOSITY = (\n",
        "    \"\"  # verbosity of commands, might be -v or -vv for debug or blank for no additional info\n",
        ")\n",
        "# choose family\n",
        "FAMILY = \"mcxn946\"\n",
        "INTERFACE = \"pyocd\""
      ]
    },
    {
      "attachments": {},
      "cell_type": "markdown",
      "id": "2214b2ea",
      "metadata": {},
      "source": [
        "## Device preparation\n",
        "\n",
        "Now it's time to prepare the device. In this example we will use FRDM-MCXN947 board. This is example board configuration without external debugger. It is also possible to use configuration with external debugger such as JLink debug probe.\n",
        "\n",
        "![FRDM-MCXN947](img/FRDM-MCXN947.png \"FRDM-MCXN947\")"
      ]
    },
    {
      "attachments": {},
      "cell_type": "markdown",
      "id": "aa5fb19f",
      "metadata": {},
      "source": [
        "Prepare device, erase previous settings and use app *nxpdevscan* to check if the device is connected to the PC in ISP mode."
      ]
    },
    {
      "cell_type": "code",
      "execution_count": 2,
      "id": "4be41f7d-7678-4a7c-a30a-a38263c5c466",
      "metadata": {},
      "outputs": [
        {
          "name": "stdout",
          "output_type": "stream",
          "text": [
            "nxpdebugmbox -f mcxn946 -i pyocd cmd erase \n",
            "\u001b[33mWARNING:pyocd.probe.common:STLink, CMSIS-DAPv2 and PicoProbe probes are not supported because no libusb library was found. (2296ms since start, common.py:36)\u001b[39m\n",
            "  #   Interface   Id          Description                 \n",
            "----------------------------------------------------------\n",
            "  0   PyOCD       851006367   Segger J-Link Compact PLUS  \n",
            "Mass flash erase succeeded\n",
            "nxpdebugmbox -f mcxn946 -i pyocd cmd ispmode -m 0 \n",
            "\u001b[33mWARNING:pyocd.probe.common:STLink, CMSIS-DAPv2 and PicoProbe probes are not supported because no libusb library was found. (1328ms since start, common.py:36)\u001b[39m\n",
            "  #   Interface   Id          Description                 \n",
            "----------------------------------------------------------\n",
            "  0   PyOCD       851006367   Segger J-Link Compact PLUS  \n",
            "Entering into ISP mode succeeded\n",
            "nxpdevscan \n",
            "-------- Connected NXP USB Devices --------\n",
            "\n",
            "MCU-LINK NXP TRACE - NXP Semiconductors\n",
            "Vendor ID: 0x1fc9\n",
            "Product ID: 0x0143\n",
            "Path: HID\\VID_1FC9&PID_0143&MI_01\\7&35B8823B&0&0000\n",
            "Path Hash: 0b51a8b4\n",
            "Name: \n",
            "Serial number: O1KCWBPV3IHN3\n",
            "\n",
            " - \n",
            "Vendor ID: 0x1fc9\n",
            "Product ID: 0x0143\n",
            "Path: HID\\VID_8087&PID_0AC2\\6&1D193678&0&0000\n",
            "Path Hash: ded8d21d\n",
            "Name: \n",
            "Serial number: \n",
            "\n",
            "LPCSIO - NXP Semiconductors\n",
            "Vendor ID: 0x1fc9\n",
            "Product ID: 0x0143\n",
            "Path: HID\\VID_1FC9&PID_0143&MI_04\\7&35CD370B&0&0000\n",
            "Path Hash: 67ffc96d\n",
            "Name: \n",
            "Serial number: O1KCWBPV3IHN3\n",
            "\n",
            "-------- Connected NXP UART Devices --------\n",
            "\n",
            "-------- Connected NXP SIO Devices --------\n",
            "\n",
            "LIBUSBSIO - NXP Semiconductors, LPCSIO\n",
            "Vendor ID: 0x1fc9\n",
            "Product ID: 0x0143\n",
            "Path: HID\\VID_1FC9&PID_0143&MI_04\\7&35CD370B&0&0000\n",
            "Path Hash: 67ffc96d\n",
            "Serial number: O1KCWBPV3IHN3\n",
            "Interface number: 4\n",
            "Release number: 787\n",
            "\n",
            "-------- Connected NXP UUU Devices --------\n",
            "\n"
          ]
        }
      ],
      "source": [
        "# prepare the board so that there is no previous settings\n",
        "%! nxpdebugmbox -f $FAMILY -i $INTERFACE cmd erase\n",
        "# enter ISP mode\n",
        "%! nxpdebugmbox -f $FAMILY -i $INTERFACE cmd ispmode -m 0\n",
        "# check if the device is connected and detected by PC\n",
        "%! nxpdevscan"
      ]
    },
    {
      "cell_type": "code",
      "execution_count": 3,
      "id": "632e05d0",
      "metadata": {},
      "outputs": [
        {
          "name": "stdout",
          "output_type": "stream",
          "text": [
            "blhost -p COM10 get-property 1 \n",
            "Response status = 0 (0x0) Success.\n",
            "Response word 1 = 1258488320 (0x4b030200)\n",
            "Current Version = K3.2.0\n",
            "blhost -p COM10 get-property 17 \n",
            "Response status = 0 (0x0) Success.\n",
            "Response word 1 = 1520786085 (0x5aa55aa5)\n",
            "Response word 2 = 3 (0x3)\n",
            "Security State = UNSECURE\n"
          ]
        }
      ],
      "source": [
        "# choose USB or UART interface based on the result of nxpdevscan\n",
        "# USB = \"-u 0x1fc9,0x14f\"\n",
        "UART = \"-p COM10\"\n",
        "\n",
        "# check if the board responds in ISP mode\n",
        "%! blhost $UART get-property 1\n",
        "# Response word 2 for get-property 17 is LC_STATE.\n",
        "%! blhost $UART get-property 17"
      ]
    },
    {
      "attachments": {},
      "cell_type": "markdown",
      "id": "0047619a-aabf-4115-b9bb-f1f694cd1056",
      "metadata": {},
      "source": [
        "# Generate RoT + Debug auth keys"
      ]
    },
    {
      "cell_type": "markdown",
      "id": "c74b5109",
      "metadata": {},
      "source": [
        "First we need to generate Root of Trust Keys (RoTKs)/Super Root Keys (SRKs), Debug Credential Key (DCK) and Image Signing Key (ISK). In this example, we will use *nxpcrypto* app to generate secp256r1 keys (see [How-to-get-keys-using-nxpcrypto](../general/get_keys.ipynb)).\n",
        "Script by default load 4 RoTKs, 1 DCK and 1 ISK. Feel free to modify it according your needs. At least one RoTK is mandatory.\n",
        "\n",
        "See the script's comments and modify the script according to the application security requirements. "
      ]
    },
    {
      "cell_type": "code",
      "execution_count": 4,
      "id": "245124ed-0f4a-41ad-88a4-9daa485a052f",
      "metadata": {},
      "outputs": [],
      "source": [
        "# load generated key pair for ROTK0\n",
        "ROTK0_PRIVATE_KEY_PATH = KEYS + \"srk0_ecc256.pem\"\n",
        "ROTK0_PUBLIC_KEY_PATH = KEYS + \"srk0_ecc256.pub\"\n",
        "# verify that keys were loaded\n",
        "assert os.path.exists(ROTK0_PRIVATE_KEY_PATH)\n",
        "assert os.path.exists(ROTK0_PUBLIC_KEY_PATH)\n",
        "\n",
        "# load generated key pair for ROTK1\n",
        "ROTK1_PRIVATE_KEY_PATH = KEYS + \"srk1_ecc256.pem\"\n",
        "ROTK1_PUBLIC_KEY_PATH = KEYS + \"srk1_ecc256.pub\"\n",
        "# verify that keys were loaded\n",
        "assert os.path.exists(ROTK1_PRIVATE_KEY_PATH)\n",
        "assert os.path.exists(ROTK1_PUBLIC_KEY_PATH)\n",
        "\n",
        "# load generated key pair for ROTK2\n",
        "ROTK2_PRIVATE_KEY_PATH = KEYS + \"srk2_ecc256.pem\"\n",
        "ROTK2_PUBLIC_KEY_PATH = KEYS + \"srk2_ecc256.pub\"\n",
        "# verify that keys were loaded\n",
        "assert os.path.exists(ROTK2_PRIVATE_KEY_PATH)\n",
        "assert os.path.exists(ROTK2_PUBLIC_KEY_PATH)\n",
        "\n",
        "# load generated key pair for ROTK3\n",
        "ROTK3_PRIVATE_KEY_PATH = KEYS + \"srk3_ecc256.pem\"\n",
        "ROTK3_PUBLIC_KEY_PATH = KEYS + \"srk3_ecc256.pub\"\n",
        "# verify that keys were loaded\n",
        "assert os.path.exists(ROTK3_PRIVATE_KEY_PATH)\n",
        "assert os.path.exists(ROTK3_PUBLIC_KEY_PATH)\n",
        "\n",
        "# load generated key pair for DCK\n",
        "DCK_PRIVATE_KEY_PATH = KEYS + \"dck_ecc256.pem\"\n",
        "DCK_PUBLIC_KEY_PATH = KEYS + \"dck_ecc256.pub\"\n",
        "# verify that keys were loaded\n",
        "assert os.path.exists(DCK_PRIVATE_KEY_PATH)\n",
        "assert os.path.exists(DCK_PUBLIC_KEY_PATH)\n",
        "\n",
        "# load generated key pair for ISK\n",
        "ISK_PRIVATE_KEY_PATH = KEYS + \"imgkey_ecc256.pem\"\n",
        "ISK_PUBLIC_KEY_PATH = KEYS + \"imgkey_ecc256.pub\"\n",
        "# verify that keys were loaded\n",
        "assert os.path.exists(ISK_PRIVATE_KEY_PATH)\n",
        "assert os.path.exists(ISK_PUBLIC_KEY_PATH)"
      ]
    },
    {
      "attachments": {},
      "cell_type": "markdown",
      "id": "0e7ad9b6-cd22-41af-8a97-7cd33cc590f7",
      "metadata": {},
      "source": [
        "# Generate config files for debug auth"
      ]
    },
    {
      "cell_type": "markdown",
      "id": "89fd2428",
      "metadata": {},
      "source": [
        "First we need to generate template for debug credentials configuration file."
      ]
    },
    {
      "cell_type": "code",
      "execution_count": 5,
      "id": "77aa3a9a",
      "metadata": {},
      "outputs": [
        {
          "name": "stdout",
          "output_type": "stream",
          "text": [
            "nxpdebugmbox -f mcxn946 dat dc get-template -o workspace/dc_config_default.yaml --force \n",
            "The Debug Credentials template for mcxn946 has been saved into workspace\\dc_config_default.yaml YAML file\n"
          ]
        }
      ],
      "source": [
        "DC_CONFIG_TEMPLATE_DEFAULT = WORKSPACE + \"dc_config_default.yaml\"\n",
        "%! nxpdebugmbox -f $FAMILY dat dc get-template -o $DC_CONFIG_TEMPLATE_DEFAULT --force\n",
        "assert os.path.exists(DC_CONFIG_TEMPLATE_DEFAULT)"
      ]
    },
    {
      "cell_type": "markdown",
      "id": "877a2c54",
      "metadata": {},
      "source": [
        "In order to generate the DC file, we need to modify yaml config accordingly:"
      ]
    },
    {
      "cell_type": "code",
      "execution_count": 6,
      "id": "0de071f8",
      "metadata": {},
      "outputs": [],
      "source": [
        "DC_CONFIG_TEMPLATE = INPUTS + \"dc_config.yaml\"\n",
        "assert os.path.exists(DC_CONFIG_TEMPLATE)"
      ]
    },
    {
      "cell_type": "markdown",
      "id": "184384ed",
      "metadata": {},
      "source": [
        "Now we generate dc file based on yaml configuration."
      ]
    },
    {
      "cell_type": "code",
      "execution_count": 7,
      "id": "60c27a5f-a4b0-49f2-b375-c01e7afebab0",
      "metadata": {},
      "outputs": [
        {
          "name": "stdout",
          "output_type": "stream",
          "text": [
            "nxpdebugmbox -f mcxn946 dat dc export -c inputs/dc_config.yaml -o workspace/debug_auth.dc --force \n",
            "RKTH: e2cca7cf09a45d2f1942969fda1c68ecaad78fad416d143292dad2f618291ddd\n",
            "Creating Debug credential file succeeded\n"
          ]
        }
      ],
      "source": [
        "DC_FILE_PATH = WORKSPACE + \"debug_auth.dc\"\n",
        "%! nxpdebugmbox -f $FAMILY dat dc export -c $DC_CONFIG_TEMPLATE -o $DC_FILE_PATH --force"
      ]
    },
    {
      "cell_type": "markdown",
      "id": "14d0e89b",
      "metadata": {},
      "source": [
        "Now generate the template for DAT. It will be later used in authentication process."
      ]
    },
    {
      "cell_type": "code",
      "execution_count": 8,
      "id": "fd805a2e",
      "metadata": {},
      "outputs": [
        {
          "name": "stdout",
          "output_type": "stream",
          "text": [
            "nxpdebugmbox -f mcxn946 dat get-template -o workspace/dat_config_default.yaml --force \n",
            "Creating workspace\\dat_config_default.yaml template file.\n"
          ]
        }
      ],
      "source": [
        "DAT_CONFIG_TEMPLATE_DEFAULT = WORKSPACE + \"dat_config_default.yaml\"\n",
        "%! nxpdebugmbox -f $FAMILY dat get-template -o $DAT_CONFIG_TEMPLATE_DEFAULT --force\n",
        "assert os.path.exists(DAT_CONFIG_TEMPLATE_DEFAULT)"
      ]
    },
    {
      "attachments": {},
      "cell_type": "markdown",
      "id": "9d393a5c-bd9a-497f-abb2-e6cb517b1e51",
      "metadata": {},
      "source": [
        "# Generate CMPA + CFPA config for debug authentication"
      ]
    },
    {
      "cell_type": "markdown",
      "id": "2f55e203",
      "metadata": {},
      "source": [
        "First create templates for CMPA and CFPA."
      ]
    },
    {
      "cell_type": "code",
      "execution_count": 9,
      "id": "96171117-ec7e-4433-9426-40ff0cc382e5",
      "metadata": {},
      "outputs": [
        {
          "name": "stdout",
          "output_type": "stream",
          "text": [
            "pfr get-template -t cfpa -f mcxn946 -o workspace/cfpa_default_mcxn9xx_debug_auth.yaml --force \n",
            "The PFR cfpa template for mcxn946 has been saved into workspace\\cfpa_default_mcxn9xx_debug_auth.yaml YAML file\n",
            "pfr get-template -t cmpa -f mcxn946 -o workspace/cmpa_default_mcxn9xx_debug_auth.yaml --force \n",
            "The PFR cmpa template for mcxn946 has been saved into workspace\\cmpa_default_mcxn9xx_debug_auth.yaml YAML file\n"
          ]
        }
      ],
      "source": [
        "CFPA_CONFIG_TEMPLATE_DEFAULT = WORKSPACE + \"cfpa_default_mcxn9xx_debug_auth.yaml\"\n",
        "CMPA_CONFIG_TEMPLATE_DEFAULT = WORKSPACE + \"cmpa_default_mcxn9xx_debug_auth.yaml\"\n",
        "%! pfr get-template -t cfpa -f $FAMILY -o $CFPA_CONFIG_TEMPLATE_DEFAULT --force\n",
        "%! pfr get-template -t cmpa -f $FAMILY -o $CMPA_CONFIG_TEMPLATE_DEFAULT --force\n",
        "assert os.path.exists(CFPA_CONFIG_TEMPLATE_DEFAULT)\n",
        "assert os.path.exists(CMPA_CONFIG_TEMPLATE_DEFAULT)"
      ]
    },
    {
      "cell_type": "markdown",
      "id": "c1e22053",
      "metadata": {},
      "source": [
        "Now we need to modify yaml config accordingly for both CMPA and CFPA:"
      ]
    },
    {
      "cell_type": "code",
      "execution_count": 10,
      "id": "bcfcea3a",
      "metadata": {},
      "outputs": [],
      "source": [
        "CFPA_CONFIG_TEMPLATE = INPUTS + \"cfpa_mcxn9xx_debug_auth.yaml\"\n",
        "CMPA_CONFIG_TEMPLATE = INPUTS + \"cmpa_mcxn9xx_debug_auth.yaml\"\n",
        "assert os.path.exists(CFPA_CONFIG_TEMPLATE)\n",
        "assert os.path.exists(CMPA_CONFIG_TEMPLATE)"
      ]
    },
    {
      "cell_type": "markdown",
      "id": "52655554",
      "metadata": {},
      "source": [
        "1. Change the value of the CFPA_PAGE_VERSION bitfield to `1` to automatically increment +1 the page version of CFPA.\\\n",
        "    ![image.png](img/27_image.png)\n",
        "2. The following changes need to be made to both the CFPA and the CMPA. The changes concern registers defining Debug Credential Constraints for SoC specific Use.\n",
        "    - This bitfield change in the DCFG_CC_SOCU_PIN:\\\n",
        "        ![image-6.png](img/27_image-6.png)\n",
        "    - This bitfield change in the DCFG_CC_SOCU_DFLT:\\\n",
        "        ![image-5.png](img/27_image-5.png)"
      ]
    },
    {
      "cell_type": "markdown",
      "id": "117147fe",
      "metadata": {},
      "source": [
        "# Generate final PFR binaries"
      ]
    },
    {
      "cell_type": "code",
      "execution_count": 11,
      "id": "a710bc3a",
      "metadata": {},
      "outputs": [
        {
          "name": "stdout",
          "output_type": "stream",
          "text": [
            "pfr generate-binary -c inputs/cfpa_mcxn9xx_debug_auth.yaml -o workspace/cfpa_mcxn9xx.bin \n",
            "\u001b[33mWARNING:spsdk.pfr.pfr:The DCFG_CC_SOCU_NS_PIN register has been recomputed, because it has been used in configuration and the bitfield INVERSE_VALUE has not been specified (698ms since start, pfr.py:202)\u001b[39m\n",
            "\u001b[33mWARNING:spsdk.pfr.pfr:The DCFG_CC_SOCU_NS_DFLT register has been recomputed, because it has been used in configuration and the bitfield INVERSE_VALUE has not been specified (698ms since start, pfr.py:202)\u001b[39m\n",
            "Success. (PFR binary has been generated)\n",
            "pfr generate-binary -c inputs/cmpa_mcxn9xx_debug_auth.yaml -e inputs/mcxn9xx_xip_signed.yaml -o workspace/cmpa_mcxn9xx.bin \n",
            "\u001b[33mWARNING:spsdk.pfr.pfr:The DCFG_CC_SOCU_PIN register has been recomputed, because it has been used in configuration and the bitfield INVERSE_VALUE has not been specified (743ms since start, pfr.py:202)\u001b[39m\n",
            "\u001b[33mWARNING:spsdk.pfr.pfr:The DCFG_CC_SOCU_DFLT register has been recomputed, because it has been used in configuration and the bitfield INVERSE_VALUE has not been specified (743ms since start, pfr.py:202)\u001b[39m\n",
            "Success. (PFR binary has been generated)\n"
          ]
        }
      ],
      "source": [
        "# Generate PFR binaries\n",
        "CFPA_BINARY_OUTPUT = WORKSPACE + \"cfpa_mcxn9xx.bin\"\n",
        "CMPA_BINARY_OUTPUT = WORKSPACE + \"cmpa_mcxn9xx.bin\"\n",
        "MBI_CONFIG = INPUTS + \"mcxn9xx_xip_signed.yaml\"\n",
        "%! pfr generate-binary -c $CFPA_CONFIG_TEMPLATE -o $CFPA_BINARY_OUTPUT\n",
        "%! pfr generate-binary -c $CMPA_CONFIG_TEMPLATE -e $MBI_CONFIG -o $CMPA_BINARY_OUTPUT"
      ]
    },
    {
      "attachments": {},
      "cell_type": "markdown",
      "id": "08272315-0bbc-4c3e-91d3-06f81a420c0d",
      "metadata": {},
      "source": [
        "# Load binary image + debug auth config into PFR"
      ]
    },
    {
      "cell_type": "code",
      "execution_count": 12,
      "id": "070d8fa4-4e24-4b83-9221-a246e4a1f015",
      "metadata": {},
      "outputs": [
        {
          "name": "stdout",
          "output_type": "stream",
          "text": [
            "blhost -p COM10 write-memory 0x0 inputs/frdm_mcxn947_led_blinky.bin \n",
            "Writing memory\n",
            "Response status = 0 (0x0) Success.\n",
            "Response word 1 = 4072 (0xfe8)\n",
            "pfr write -p COM10 -t cfpa -f mcxn946 -b workspace/cfpa_mcxn9xx.bin \n",
            "CFPA page address on mcxn946 is 0x1000000\n",
            "CFPA data written to device.\n",
            "pfr write -p COM10 -t cmpa -f mcxn946 -b workspace/cmpa_mcxn9xx.bin \n",
            "CMPA page address on mcxn946 is 0x1004000\n",
            "CMPA data written to device.\n",
            "blhost -p COM10 reset \n",
            "Response status = 0 (0x0) Success.\n"
          ]
        }
      ],
      "source": [
        "IMAGE = INPUTS + \"frdm_mcxn947_led_blinky.bin\"\n",
        "%! blhost $UART write-memory 0x0 $IMAGE\n",
        "\n",
        "%! pfr write $UART -t cfpa -f $FAMILY -b $CFPA_BINARY_OUTPUT\n",
        "%! pfr write $UART -t cmpa -f $FAMILY -b $CMPA_BINARY_OUTPUT\n",
        "\n",
        "%! blhost $UART reset"
      ]
    },
    {
      "attachments": {},
      "cell_type": "markdown",
      "id": "f956fe14-d19b-4a1e-92c4-8d806818d6bd",
      "metadata": {},
      "source": [
        "# Test debug authentication"
      ]
    },
    {
      "cell_type": "markdown",
      "id": "1361e83b",
      "metadata": {},
      "source": [
        "Now we can call authentication command for nxpdebugmbox. Since the board is in the LC=0x3, we need to set value for beacon in order to verify that the authentication truly succeeded. Let's set beacon to 1."
      ]
    },
    {
      "cell_type": "code",
      "execution_count": 13,
      "id": "7ec0a09c-67ea-41f2-ab61-424e69e3f46e",
      "metadata": {},
      "outputs": [
        {
          "name": "stdout",
          "output_type": "stream",
          "text": [
            "nxpdebugmbox -v -f mcxn946 -i pyocd dat auth -c inputs/dat_config.yaml \n",
            "\u001b[37m\u001b[1mINFO:spsdk.apps.nxpdebugmbox:Starting Debug Authentication\u001b[39m\u001b[0m\n",
            "\u001b[33mWARNING:pyocd.probe.common:STLink, CMSIS-DAPv2 and PicoProbe probes are not supported because no libusb library was found. (1286ms since start, common.py:36)\u001b[39m\n",
            "  #   Interface   Id          Description                 \n",
            "----------------------------------------------------------\n",
            "  0   PyOCD       851006367   Segger J-Link Compact PLUS  \n",
            "\u001b[37m\u001b[1mINFO:pyocd.board.board:Target type is cortex_m\u001b[39m\u001b[0m\n",
            "\u001b[37m\u001b[1mINFO:spsdk_pyocd.probe:PyOCD connected via J-Link Compact PLUS probe.\u001b[39m\u001b[0m\n",
            "\u001b[37m\u001b[1mINFO:spsdk.apps.nxpdebugmbox:DAC: \n",
            "Version                : Version 2.0\n",
            "SOCC                   : 0x00000007\n",
            "UUID                   : 3830393442393650080000002E000400\n",
            "CC_VU                  : 0\n",
            "ROTID_rkh_revocation   : 00000000\n",
            "ROTID_rkth_hash        : e2cca7cf09a45d2f1942969fda1c68ecaad78fad416d143292dad2f618291ddd\n",
            "CC_soc_pinned          : 00000000\n",
            "CC_soc_default         : 00000000\n",
            "Challenge              : 57506e5b7051e1da01ad223eead31f3378641d77ad8280d342448cc80bb6c759\n",
            "\u001b[39m\u001b[0m\n",
            "\u001b[37m\u001b[1mINFO:spsdk.apps.nxpdebugmbox:DAR:\n",
            "DAC:\n",
            "Version                : Version 2.0\n",
            "SOCC                   : 0x00000007\n",
            "UUID                   : 3830393442393650080000002E000400\n",
            "CC_VU                  : 0\n",
            "ROTID_rkh_revocation   : 00000000\n",
            "ROTID_rkth_hash        : e2cca7cf09a45d2f1942969fda1c68ecaad78fad416d143292dad2f618291ddd\n",
            "CC_soc_pinned          : 00000000\n",
            "CC_soc_default         : 00000000\n",
            "Challenge              : 57506e5b7051e1da01ad223eead31f3378641d77ad8280d342448cc80bb6c759\n",
            "\n",
            "DC:\n",
            "Version : Version 2.0\n",
            "SOCC    : 0x00000007\n",
            "UUID    : 00000000000000000000000000000000\n",
            "CC_SOCC : 0xfff\n",
            "CC_VU   : 0x0\n",
            "BEACON  : 0\n",
            "Number of records in flags: 4\n",
            "CRTK table has 4 entries\n",
            "CTRK hash   : e2cca7cf09a45d2f1942969fda1c68ecaad78fad416d143292dad2f618291ddd\n",
            "\n",
            "Authentication Beacon: 0\n",
            "\u001b[39m\u001b[0m\n",
            "\u001b[37m\u001b[1mINFO:pyocd.board.board:Target type is cortex_m\u001b[39m\u001b[0m\n",
            "\u001b[37m\u001b[1mINFO:spsdk_pyocd.probe:PyOCD connected via J-Link Compact PLUS probe.\u001b[39m\u001b[0m\n",
            "Debug Authentication ends successfully.\n"
          ]
        }
      ],
      "source": [
        "DAT_CONFIG = INPUTS + \"dat_config.yaml\"\n",
        "%! nxpdebugmbox -v -f $FAMILY -i $INTERFACE dat auth -c $DAT_CONFIG"
      ]
    },
    {
      "cell_type": "markdown",
      "id": "fe5681e7",
      "metadata": {},
      "source": [
        "Now read beacon from the memory. The value from the memory should have same values as the value from the config file."
      ]
    },
    {
      "cell_type": "code",
      "execution_count": 14,
      "id": "af993aed",
      "metadata": {},
      "outputs": [
        {
          "name": "stdout",
          "output_type": "stream",
          "text": [
            "nxpdebugmbox -f mcxn946 -i pyocd mem-tool read-memory -a 0x40000FC0 -c 4 \n",
            "\u001b[33mWARNING:pyocd.probe.common:STLink, CMSIS-DAPv2 and PicoProbe probes are not supported because no libusb library was found. (1261ms since start, common.py:36)\u001b[39m\n",
            "  #   Interface   Id          Description                 \n",
            "----------------------------------------------------------\n",
            "  0   PyOCD       851006367   Segger J-Link Compact PLUS  \n",
            "00 00 00 00\n"
          ]
        }
      ],
      "source": [
        "%! nxpdebugmbox -f $FAMILY -i $INTERFACE mem-tool read-memory -a 0x40000FC0 -c 4"
      ]
    }
  ],
  "metadata": {
    "kernelspec": {
      "display_name": "Python 3 (ipykernel)",
      "language": "python",
      "name": "python3"
    },
    "language_info": {
      "codemirror_mode": {
        "name": "ipython",
        "version": 3
      },
      "file_extension": ".py",
      "mimetype": "text/x-python",
      "name": "python",
      "nbconvert_exporter": "python",
      "pygments_lexer": "ipython3",
      "version": "3.12.5"
    },
    "mystnb": {
      "execution_mode": "off"
    }
  },
  "nbformat": 4,
  "nbformat_minor": 5
}
