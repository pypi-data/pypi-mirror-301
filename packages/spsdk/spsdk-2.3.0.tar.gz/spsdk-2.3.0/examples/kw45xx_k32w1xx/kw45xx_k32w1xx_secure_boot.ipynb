{
 "cells": [
  {
   "attachments": {},
   "cell_type": "markdown",
   "metadata": {},
   "source": [
    "# KW45xx and K32W1xx Secure Boot\n",
    "\n",
    "This notebook describes how to how to set up a basic secure boot on KW45xx/K32W1xx devices using the SPSDK command line utilities."
   ]
  },
  {
   "attachments": {},
   "cell_type": "markdown",
   "metadata": {},
   "source": [
    "## Keys preparation\n",
    "- First we need to generate Root of Trust Keys (RoTKs)/Super Root Keys (SRKs) and optionally Image Signing Key (ISK). In this example, we will use *nxpcrypto* app to generate secp384r1 keys (see [How-to-get-keys-using-nxpcrypto](../general/get_keys.ipynb)). Script by default load 4 RoTKs and 1 ISK. Feel free to modify it according your needs. At least one RoTK is mandatory.\n",
    "- See the script's comments and modify the script according to the application security requirements. \n",
    "- Based on loaded keys, ROTK value is calculated and loaded in the device fuses so that's why keys cannot be changed anymore for the device.\n",
    "- EVK board can have already burnt fuses RoTK (CUST_PROD_OEMFW_AUTH_PUK) and SB3KDK (CUST_PROD_OEMFW_ENC_SK). Corresponding keys are stored in EVK_keys folder. In this example, we will have the EVK board with burnt fuses."
   ]
  },
  {
   "cell_type": "code",
   "execution_count": 1,
   "metadata": {},
   "outputs": [
    {
     "name": "stdout",
     "output_type": "stream",
     "text": [
      "env: JUPYTER_SPSDK=1\n",
      "Created `%!` as an alias for `%execute`.\n"
     ]
    }
   ],
   "source": [
    "%run ../init_notebook.ipynb\n",
    "\n",
    "import os\n",
    "import pprint\n",
    "\n",
    "pp = pprint.PrettyPrinter(indent=4)\n",
    "\n",
    "WORKSPACE = \"workspace/\"  # change this to path to your workspace\n",
    "KEYS = \"../_data/keys/ecc384/\"  # change this to path to your keys\n",
    "EVK_KEYS = \"EVK_keys/\"\n",
    "INPUTS = \"inputs/\"\n",
    "VERBOSITY = (\n",
    "    \"-v\"  # verbosity of commands, might be -v or -vv for debug or blank for no additional info\n",
    ")\n",
    "# choose family (kw45b41z8, kw45b41z5 or k32w148)\n",
    "FAMILY = \"kw45b41z8\""
   ]
  },
  {
   "cell_type": "code",
   "execution_count": 2,
   "metadata": {},
   "outputs": [],
   "source": [
    "# load generated key pair for ROTK0\n",
    "ROTK0_PRIVATE_KEY_PATH = EVK_KEYS + \"RoT_key0_secp384r1_kw45xx.pem\"\n",
    "ROTK0_PUBLIC_KEY_PATH = EVK_KEYS + \"RoT_key0_secp384r1_kw45xx.pub\"\n",
    "# verify that keys were loaded\n",
    "assert os.path.exists(ROTK0_PRIVATE_KEY_PATH)\n",
    "assert os.path.exists(ROTK0_PUBLIC_KEY_PATH)\n",
    "\n",
    "# load generated key pair for ROTK1\n",
    "ROTK1_PRIVATE_KEY_PATH = EVK_KEYS + \"RoT_key1_secp384r1_kw45xx.pem\"\n",
    "ROTK1_PUBLIC_KEY_PATH = EVK_KEYS + \"RoT_key1_secp384r1_kw45xx.pub\"\n",
    "# verify that keys were loaded\n",
    "assert os.path.exists(ROTK1_PRIVATE_KEY_PATH)\n",
    "assert os.path.exists(ROTK1_PUBLIC_KEY_PATH)\n",
    "\n",
    "# load generated key pair for ROTK2\n",
    "ROTK2_PRIVATE_KEY_PATH = EVK_KEYS + \"RoT_key2_secp384r1_kw45xx.pem\"\n",
    "ROTK2_PUBLIC_KEY_PATH = EVK_KEYS + \"RoT_key2_secp384r1_kw45xx.pub\"\n",
    "# verify that keys were loaded\n",
    "assert os.path.exists(ROTK2_PRIVATE_KEY_PATH)\n",
    "assert os.path.exists(ROTK2_PUBLIC_KEY_PATH)\n",
    "\n",
    "# load generated key pair for ROTK3\n",
    "ROTK3_PRIVATE_KEY_PATH = EVK_KEYS + \"RoT_key3_secp384r1_kw45xx.pem\"\n",
    "ROTK3_PUBLIC_KEY_PATH = EVK_KEYS + \"RoT_key3_secp384r1_kw45xx.pub\"\n",
    "# verify that keys were loaded\n",
    "assert os.path.exists(ROTK3_PRIVATE_KEY_PATH)\n",
    "assert os.path.exists(ROTK3_PUBLIC_KEY_PATH)"
   ]
  },
  {
   "attachments": {},
   "cell_type": "markdown",
   "metadata": {},
   "source": [
    "## Prepare MBI configuration file\n",
    "\n",
    "In order to generate MBI file, npximage tool is used. The nxpimage tool generates the MBI file according to the configuration file.\n",
    "Let's create a template for MBI. Modify examples according your needs. "
   ]
  },
  {
   "cell_type": "code",
   "execution_count": 3,
   "metadata": {},
   "outputs": [
    {
     "name": "stdout",
     "output_type": "stream",
     "text": [
      "nxpimage -v mbi get-templates -f kw45b41z8 -o workspace/MBI --force \n",
      "Creating workspace\\MBI\\kw45b41z8_xip_plain.yaml template file.\n",
      "Creating workspace\\MBI\\kw45b41z8_xip_crc.yaml template file.\n",
      "Creating workspace\\MBI\\kw45b41z8_xip_signed.yaml template file.\n",
      "Creating workspace\\MBI\\kw45b41z8_xip_nxp_signed.yaml template file.\n"
     ]
    }
   ],
   "source": [
    "MBI_PATH = WORKSPACE + \"MBI\"\n",
    "%! nxpimage $VERBOSITY mbi get-templates -f $FAMILY -o $MBI_PATH --force"
   ]
  },
  {
   "cell_type": "markdown",
   "metadata": {},
   "source": [
    "For signed images, we need to create a certificate blok separately. In order to do this, use nxpimage cert-block get-template command as described below."
   ]
  },
  {
   "cell_type": "code",
   "execution_count": 4,
   "metadata": {},
   "outputs": [
    {
     "name": "stdout",
     "output_type": "stream",
     "text": [
      "nxpimage -v cert-block get-template -f kw45b41z8 -o workspace/cert_block_default_kw45.yaml --force \n",
      "Creating workspace\\cert_block_default_kw45.yaml template file.\n"
     ]
    }
   ],
   "source": [
    "CERT_BLOCK_TEMPLATE_DEFAULT = WORKSPACE + \"cert_block_default_kw45.yaml\"\n",
    "%! nxpimage $VERBOSITY cert-block get-template -f $FAMILY -o $CERT_BLOCK_TEMPLATE_DEFAULT --force"
   ]
  },
  {
   "cell_type": "markdown",
   "metadata": {},
   "source": [
    "In our case, we modified these items in the certification block configuration template:"
   ]
  },
  {
   "cell_type": "code",
   "execution_count": 5,
   "metadata": {},
   "outputs": [],
   "source": [
    "CERT_BLOCK_TEMPLATE = INPUTS + \"cert_block_kw45_secure.yaml\"\n",
    "assert os.path.exists(CERT_BLOCK_TEMPLATE)"
   ]
  },
  {
   "cell_type": "markdown",
   "metadata": {},
   "source": [
    "1. Choose whether you want to use ISK. If so, define the path to the ISK public key.\\\n",
    "    ![image.png](img/16_image.png)\n",
    "2. Define paths to keys and choose index of main certification key.\\\n",
    "    ![image-5.png](img/16_image-5.png)\\\n",
    "    ![image-2.png](img/16_image-2.png)\n",
    "3. Define output path where certification block will be saved.\\\n",
    "    ![image-3.png](img/16_image-3.png)\n",
    "4. Our case does not require the definition of the following items, but it would be appropriate to consider their use for the given case.\\\n",
    "    ![image-4.png](img/16_image-4.png)"
   ]
  },
  {
   "cell_type": "markdown",
   "metadata": {},
   "source": [
    "Next, we modified the MBI XIP signed configuration template such as:"
   ]
  },
  {
   "cell_type": "code",
   "execution_count": 6,
   "metadata": {},
   "outputs": [],
   "source": [
    "MBI_TEMPLATE = INPUTS + \"kw45xx_xip_signed.yaml\"\n",
    "assert os.path.exists(MBI_TEMPLATE)"
   ]
  },
  {
   "cell_type": "markdown",
   "metadata": {},
   "source": [
    "1. Define output path where final MBI XIP signed will be saved.\\\n",
    "    ![image.png](img/17_image.png)\n",
    "2. Define path to the plain image to be modified to MBI.\\\n",
    "    ![image-2.png](img/17_image-2.png)\n",
    "3. Define path to the certification block that was generated in previous step.\\\n",
    "    ![image-3.png](img/17_image-3.png)\n",
    "4. Define path to the ISK private key.\\\n",
    "    ![image-4.png](img/17_image-4.png)\n",
    "5. Our case does not require the definition of the following items, but it would be appropriate to consider their use for the given case.\\\n",
    "    ![image-5.png](img/17_image-5.png)"
   ]
  },
  {
   "attachments": {},
   "cell_type": "markdown",
   "metadata": {},
   "source": [
    "## MBI generation\n",
    "\n",
    "We have created certificates and keys required for the creation of MBI file. Let's create a MBI."
   ]
  },
  {
   "cell_type": "code",
   "execution_count": 7,
   "metadata": {},
   "outputs": [
    {
     "name": "stdout",
     "output_type": "stream",
     "text": [
      "nxpimage mbi export -c inputs/kw45xx_xip_signed.yaml \n",
      "RKTH: 650d8097079ff27a3e8a2da14781b922fd8295b6c00bfa067f00e87f1a16b8b304bf710d45cbd591e2e24be83183922c\n",
      "Success. (Master Boot Image: workspace\\kw45xx_mbi_xip_signed_hello_world.bin created.)\n"
     ]
    }
   ],
   "source": [
    "MBI_OUTPUT_FILE = WORKSPACE + \"kw45xx_mbi_xip_signed_hello_world.bin\"\n",
    "%! nxpimage mbi export -c $MBI_TEMPLATE\n",
    "assert os.path.exists(MBI_OUTPUT_FILE)"
   ]
  },
  {
   "attachments": {},
   "cell_type": "markdown",
   "metadata": {},
   "source": [
    "## Device preparation\n",
    "\n",
    "Now it's time to prepare the device. In this example we will use KW45xx-EVK/K32W1xx board.\n",
    "\n",
    "First step is to enter ISP mode, this could be achieved by:\n",
    "\n",
    "1 ) Put JP25 to (1-2)\n",
    "\n",
    "2 ) Reset the board with SW4 pressed\n",
    "\n",
    "![KW45xx-EVK](img/KW45xx-EVK.png \"KW45xx-EVK\")\n",
    "\n",
    "![K32W1xx-EVK](img/K32W1XX-EVK.png \"K32W1xx-EVK\")\n",
    "\n",
    "\n",
    "Use app *nxpdevscan* to check if the device is connected to the PC in ISP mode.\n",
    "\n"
   ]
  },
  {
   "cell_type": "code",
   "execution_count": 8,
   "metadata": {},
   "outputs": [
    {
     "name": "stdout",
     "output_type": "stream",
     "text": [
      "nxpdevscan \n",
      "-------- Connected NXP USB Devices --------\n",
      "\n",
      "-------- Connected NXP UART Devices --------\n",
      "\n",
      "Port: COM10\n",
      "Type: mboot device\n",
      "\n",
      "-------- Connected NXP SIO Devices --------\n",
      "\n",
      "-------- Connected NXP UUU Devices --------\n",
      "\n"
     ]
    }
   ],
   "source": [
    "# check if the device is connected and detected by PC\n",
    "%! nxpdevscan"
   ]
  },
  {
   "cell_type": "code",
   "execution_count": 9,
   "metadata": {},
   "outputs": [
    {
     "name": "stdout",
     "output_type": "stream",
     "text": [
      "blhost -p com10 get-property current-version \n",
      "Response status = 0 (0x0) Success.\n",
      "Response word 1 = 1258488064 (0x4b030100)\n",
      "Current Version = K3.1.0\n"
     ]
    }
   ],
   "source": [
    "# choose com port\n",
    "UART_CONNECTION = \"-p com10\"\n",
    "\n",
    "%! blhost $UART_CONNECTION get-property current-version"
   ]
  },
  {
   "attachments": {},
   "cell_type": "markdown",
   "metadata": {},
   "source": [
    "## Program device fuses with keys/RKTH generated in previous steps\n",
    "\n",
    "-\tWARNING!!! In our case, we already have burnt these fuses on EVK\n",
    "\n",
    "To program fuses blhost tool is used. Device needs to be in ISP mode, where it can communicate with blhost and process blhost commands.\n",
    "To serve the purpose of this document, ISP communication only over UART peripheral is considered for scripts. \n",
    "Also, accurate COMx port must be used.\n",
    "-\tWARNING!!! This step is destructive operation (burning fuses), be sure that you set value of RoTKH correctly in script as printed in output from nxpimage\n",
    "```\n",
    "# Increase voltage for fuse burning\n",
    "blhost $UART_CONNECTION set-property 0x16 1\n",
    "\n",
    "# Program RKTH (CUST_PROD_OEMFW_AUTH_PUK)\n",
    "# Put value RKTH generated by nxpimage\n",
    "%! blhost $UART_CONNECTION fuse-program 0x1F [[89e4983eb79bed26fc25cf6ba9b89ddb6727c80ed7c786a6f3c77c09bba0e832b468895926a6568031c0f955a614434e]]\n",
    "\n",
    "# Set voltage to normal value\n",
    "blhost $UART_CONNECTION set-property 0x16 0\n",
    "```"
   ]
  },
  {
   "attachments": {},
   "cell_type": "markdown",
   "metadata": {},
   "source": [
    "## Send MBI file to device\n",
    "\n",
    "Last step is to uploads MBI file with NBU image to device."
   ]
  },
  {
   "cell_type": "code",
   "execution_count": 10,
   "metadata": {},
   "outputs": [
    {
     "name": "stdout",
     "output_type": "stream",
     "text": [
      "blhost -p com10 flash-erase-all \n",
      "Response status = 0 (0x0) Success.\n"
     ]
    }
   ],
   "source": [
    "# Erase all flash\n",
    "%! blhost $UART_CONNECTION flash-erase-all"
   ]
  },
  {
   "cell_type": "code",
   "execution_count": 11,
   "metadata": {},
   "outputs": [
    {
     "name": "stdout",
     "output_type": "stream",
     "text": [
      "blhost -p com10 write-memory 0x0 workspace/kw45xx_mbi_xip_signed_hello_world.bin \n",
      "Writing memory\n",
      "Response status = 0 (0x0) Success.\n",
      "Response word 1 = 2872 (0xb38)\n"
     ]
    }
   ],
   "source": [
    "# uploads MBI\n",
    "%! blhost $UART_CONNECTION write-memory 0x0 $MBI_OUTPUT_FILE"
   ]
  },
  {
   "cell_type": "code",
   "execution_count": 12,
   "metadata": {},
   "outputs": [
    {
     "name": "stdout",
     "output_type": "stream",
     "text": [
      "blhost -p com10 reset \n",
      "Response status = 0 (0x0) Success.\n"
     ]
    }
   ],
   "source": [
    "%! blhost $UART_CONNECTION reset"
   ]
  }
 ],
 "metadata": {
  "kernelspec": {
   "display_name": "Python 3 (ipykernel)",
   "language": "python",
   "name": "python3"
  },
  "language_info": {
   "codemirror_mode": {
    "name": "ipython",
    "version": 3
   },
   "file_extension": ".py",
   "mimetype": "text/x-python",
   "name": "python",
   "nbconvert_exporter": "python",
   "pygments_lexer": "ipython3",
   "version": "3.10.8"
  },
  "vscode": {
   "interpreter": {
    "hash": "4ab21a5ebbf811bd5fc1902f6d9a7de0ca45b807ca8a4f69822a44f79381cc89"
   }
  }
 },
 "nbformat": 4,
 "nbformat_minor": 4
}
