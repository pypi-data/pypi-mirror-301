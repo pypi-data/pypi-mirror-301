{
  "cells": [
    {
      "attachments": {},
      "cell_type": "markdown",
      "metadata": {},
      "source": [
        "# KW45xx and K32W1xx Load NBU image\n",
        "\n",
        "This notebook describes how to load NBU image to KW45xx/K32W1xx device."
      ]
    },
    {
      "attachments": {},
      "cell_type": "markdown",
      "metadata": {},
      "source": [
        "## Keys preparation\n",
        "- First we need to generate Root of Trust Keys (RoTKs)/Super Root Keys (SRKs) and optionally Image Signing Key (ISK). In this example, we will use *nxpcrypto* app to generate secp384r1 keys (see [How-to-get-keys-using-nxpcrypto](../general/get_keys.ipynb)). Script by default load 4 RoTKs and 1 ISK. Feel free to modify it according your needs. At least one RoTK is mandatory.\n",
        "- See the script's comments and modify the script according to the application security requirements.\n",
        "- Based on loaded keys, ROTK value is calculated and loaded in the device fuses so that's why keys cannot be changed anymore for the device.\n",
        "- Some EKV boards have already burnt fuses for RoTK (CUST_PROD_OEMFW_AUTH_PUK) and SB3KDK (CUST_PROD_OEMFW_ENC_SK), you can find these values in EVK_keys folder. In this example, we will have the EVK board with burnt fuses."
      ]
    },
    {
      "cell_type": "code",
      "execution_count": 1,
      "metadata": {},
      "outputs": [
        {
          "name": "stdout",
          "output_type": "stream",
          "text": [
            "env: JUPYTER_SPSDK=1\n",
            "Created `%!` as an alias for `%execute`.\n"
          ]
        }
      ],
      "source": [
        "%run ../init_notebook.ipynb\n",
        "\n",
        "import os\n",
        "import pprint\n",
        "\n",
        "pp = pprint.PrettyPrinter(indent=4)\n",
        "\n",
        "WORKSPACE = \"workspace/\"  # change this to path to your workspace\n",
        "KEYS = \"../_data/keys/ecc384/\"  # change this to path to your keys\n",
        "EVK_KEYS = \"EVK_keys/\"\n",
        "INPUTS = \"inputs/\"\n",
        "VERBOSITY = (\n",
        "    \"-v\"  # verbosity of commands, might be -v or -vv for debug or blank for no additional info\n",
        ")\n",
        "# choose family (kw45b41z8, kw45b41z5 or k32w148)\n",
        "FAMILY = \"kw45b41z8\""
      ]
    },
    {
      "cell_type": "code",
      "execution_count": 2,
      "metadata": {},
      "outputs": [],
      "source": [
        "# load generated key pair for ROTK0\n",
        "ROTK0_PRIVATE_KEY_PATH = EVK_KEYS + \"RoT_key0_secp384r1_kw45xx.pem\"\n",
        "ROTK0_PUBLIC_KEY_PATH = EVK_KEYS + \"RoT_key0_secp384r1_kw45xx.pub\"\n",
        "# verify that keys were loaded\n",
        "assert os.path.exists(ROTK0_PRIVATE_KEY_PATH)\n",
        "assert os.path.exists(ROTK0_PUBLIC_KEY_PATH)\n",
        "\n",
        "# load generated key pair for ROTK1\n",
        "ROTK1_PRIVATE_KEY_PATH = EVK_KEYS + \"RoT_key1_secp384r1_kw45xx.pem\"\n",
        "ROTK1_PUBLIC_KEY_PATH = EVK_KEYS + \"RoT_key1_secp384r1_kw45xx.pub\"\n",
        "# verify that keys were loaded\n",
        "assert os.path.exists(ROTK1_PRIVATE_KEY_PATH)\n",
        "assert os.path.exists(ROTK1_PUBLIC_KEY_PATH)\n",
        "\n",
        "# load generated key pair for ROTK2\n",
        "ROTK2_PRIVATE_KEY_PATH = EVK_KEYS + \"RoT_key2_secp384r1_kw45xx.pem\"\n",
        "ROTK2_PUBLIC_KEY_PATH = EVK_KEYS + \"RoT_key2_secp384r1_kw45xx.pub\"\n",
        "# verify that keys were loaded\n",
        "assert os.path.exists(ROTK2_PRIVATE_KEY_PATH)\n",
        "assert os.path.exists(ROTK2_PUBLIC_KEY_PATH)\n",
        "\n",
        "# load generated key pair for ROTK3\n",
        "ROTK3_PRIVATE_KEY_PATH = EVK_KEYS + \"RoT_key3_secp384r1_kw45xx.pem\"\n",
        "ROTK3_PUBLIC_KEY_PATH = EVK_KEYS + \"RoT_key3_secp384r1_kw45xx.pub\"\n",
        "# verify that keys were loaded\n",
        "assert os.path.exists(ROTK3_PRIVATE_KEY_PATH)\n",
        "assert os.path.exists(ROTK3_PUBLIC_KEY_PATH)"
      ]
    },
    {
      "attachments": {},
      "cell_type": "markdown",
      "metadata": {},
      "source": [
        "##  Generate/Load SB3KDK\n",
        "\n",
        "To generate SB3KDK use the below script.\n",
        "Key generation can be done only once on the beginning, then is SB3KDK key loaded in device fuses and key cannot be changed anymore for device.\n",
        "EKV boards have already burnt fuses for RoTK (CUST_PROD_OEMFW_AUTH_PUK) and SB3KDK (CUST_PROD_OEMFW_ENC_SK), you can find these values in EVK_keys folder."
      ]
    },
    {
      "cell_type": "code",
      "execution_count": 3,
      "metadata": {},
      "outputs": [],
      "source": [
        "# import binascii\n",
        "# # Generating SB3KDK:\n",
        "# SB3KDK_KEY_PATH = WORKSPACE + \"sb3kdk.txt\"\n",
        "# with open(SB3KDK_KEY_PATH, \"wb\") as f:\n",
        "#     f.write(binascii.b2a_hex(os.urandom(32)))\n",
        "\n",
        "# Loading SB3KDK\n",
        "SB3KDK_KEY_PATH = EVK_KEYS + \"sb3kdk.txt\"\n",
        "assert os.path.exists(SB3KDK_KEY_PATH)"
      ]
    },
    {
      "attachments": {},
      "cell_type": "markdown",
      "metadata": {},
      "source": [
        "## Prepare SB3.1 configuration file\n",
        "\n",
        "In order to generate SB3.1 file, npximage tool is used. The nxpimage tool generates the SB3.1 file according to the configuration file.\n",
        "Let's create a template for SB3.1. Modify examples according your needs. "
      ]
    },
    {
      "cell_type": "code",
      "execution_count": 4,
      "metadata": {},
      "outputs": [
        {
          "name": "stdout",
          "output_type": "stream",
          "text": [
            "nxpimage -v sb31 get-template -f kw45b41z8 -o workspace/sb31_config_default.yml --force \n",
            "Creating workspace/sb31_config_default.yml template file.\n"
          ]
        }
      ],
      "source": [
        "SB31_TEMPLATE_DEFAULT_PATH = WORKSPACE + \"sb31_config_default.yml\"\n",
        "%! nxpimage $VERBOSITY sb31 get-template -f $FAMILY -o $SB31_TEMPLATE_DEFAULT_PATH --force\n",
        "assert os.path.exists(SB31_TEMPLATE_DEFAULT_PATH)"
      ]
    },
    {
      "cell_type": "markdown",
      "metadata": {},
      "source": [
        "For signed container scenario, we need to create a certificate blok separately. In order to do this, use nxpimage cert-block get-template command as described below."
      ]
    },
    {
      "cell_type": "code",
      "execution_count": 5,
      "metadata": {},
      "outputs": [
        {
          "name": "stdout",
          "output_type": "stream",
          "text": [
            "nxpimage -v cert-block get-template -f kw45b41z8 -o workspace/cert_block_default_kw45.yaml --force \n",
            "Creating workspace\\cert_block_default_kw45.yaml template file.\n"
          ]
        }
      ],
      "source": [
        "CERT_BLOCK_TEMPLATE_DEFAULT = WORKSPACE + \"cert_block_default_kw45.yaml\"\n",
        "%! nxpimage $VERBOSITY cert-block get-template -f $FAMILY -o $CERT_BLOCK_TEMPLATE_DEFAULT --force"
      ]
    },
    {
      "cell_type": "markdown",
      "metadata": {},
      "source": [
        "In our case, we modified these items in the certification block configuration template:"
      ]
    },
    {
      "cell_type": "code",
      "execution_count": 6,
      "metadata": {},
      "outputs": [],
      "source": [
        "CERT_BLOCK_TEMPLATE = INPUTS + \"cert_block_kw45.yaml\"\n",
        "assert os.path.exists(CERT_BLOCK_TEMPLATE)"
      ]
    },
    {
      "cell_type": "markdown",
      "metadata": {},
      "source": [
        "1. Choose whether you want to use ISK. If so, define the path to the ISK public key.\\\n",
        "    ![image.png](img/16_image.png)\n",
        "2. Define paths to keys and choose index of main certification key.\\\n",
        "    ![image-5.png](img/16_image-5.png)\\\n",
        "    ![image-2.png](img/16_image-2.png)\n",
        "3. Define output path where certification block will be saved.\\\n",
        "    ![image-3.png](img/16_image-3.png)\n",
        "4. Our case does not require the definition of the following items, but it would be appropriate to consider their use for the given case.\\\n",
        "    ![image-4.png](img/16_image-4.png)"
      ]
    },
    {
      "cell_type": "markdown",
      "metadata": {},
      "source": [
        "In our case, we modified these items in the SB3.1 configuration template:"
      ]
    },
    {
      "cell_type": "code",
      "execution_count": 7,
      "metadata": {},
      "outputs": [],
      "source": [
        "SB31_TEMPLATE_PATH = INPUTS + \"sb31_config.yml\"\n",
        "assert os.path.exists(SB31_TEMPLATE_PATH)"
      ]
    },
    {
      "cell_type": "markdown",
      "metadata": {},
      "source": [
        "1. Define output path where final sb31 file will be saved.\\\n",
        "    ![image.png](img/19_image.png)\n",
        "2. Define path to the main certificate private key or signature provider.\\\n",
        "    ![image-2.png](img/19_image-2.png)\n",
        "4. Define path to the certificate block.\\\n",
        "    ![image-8.png](img/19_image-8.png)\n",
        "5. Specify path to the SB3KDK that was generated in the previous steps.\\\n",
        "    ![image-3.png](img/19_image-3.png)\n",
        "6. Value of KDK is used as key properties for key derivation process.\\\n",
        "    ![image-5.png](img/19_image-5.png)\n",
        "7. We used the commands erase to erase specified size of flash and load to load the file to the defined memory address.\\\n",
        "    ![image-7.png](img/19_image-7.png)"
      ]
    },
    {
      "attachments": {},
      "cell_type": "markdown",
      "metadata": {},
      "source": [
        "## SB3.1 generation\n",
        "\n",
        "We have created certificates and keys required for the creation of SB3.1 file. Let's create a SB3.1."
      ]
    },
    {
      "cell_type": "code",
      "execution_count": 8,
      "metadata": {},
      "outputs": [
        {
          "name": "stdout",
          "output_type": "stream",
          "text": [
            "nxpimage sb31 export -c inputs/sb31_config.yml \n",
            "RKTH: 650d8097079ff27a3e8a2da14781b922fd8295b6c00bfa067f00e87f1a16b8b304bf710d45cbd591e2e24be83183922c\n",
            "Success. (Secure binary 3.1: workspace\\sb3.sb3 created.)\n"
          ]
        }
      ],
      "source": [
        "SB31_FILE_PATH = WORKSPACE + \"sb3.sb3\"\n",
        "%! nxpimage sb31 export -c $SB31_TEMPLATE_PATH\n",
        "assert os.path.exists(SB31_FILE_PATH)"
      ]
    },
    {
      "attachments": {},
      "cell_type": "markdown",
      "metadata": {},
      "source": [
        "## Device preparation\n",
        "\n",
        "Now it's time to prepare the device. In this example we will use KW45xx-EVK/K32W1xx board.\n",
        "\n",
        "First step is to enter ISP mode, this could be achieved by:\n",
        "\n",
        "1 ) Put JP25 to (1-2)\n",
        "\n",
        "2 ) Reset the board with SW4 pressed\n",
        "\n",
        "![KW45xx-EVK](img/KW45xx-EVK.png \"KW45xx-EVK\")\n",
        "\n",
        "![K32W1xx-EVK](img/K32W1XX-EVK.png \"K32W1xx-EVK\")\n",
        "\n",
        "\n",
        "Use app *nxpdevscan* to check if the device is connected to the PC in ISP mode.\n",
        "\n"
      ]
    },
    {
      "cell_type": "code",
      "execution_count": 9,
      "metadata": {},
      "outputs": [
        {
          "name": "stdout",
          "output_type": "stream",
          "text": [
            "nxpdevscan \n",
            "-------- Connected NXP USB Devices --------\n",
            "\n",
            "-------- Connected NXP UART Devices --------\n",
            "\n",
            "Port: COM10\n",
            "Type: mboot device\n",
            "\n",
            "-------- Connected NXP SIO Devices --------\n",
            "\n",
            "-------- Connected NXP UUU Devices --------\n",
            "\n"
          ]
        }
      ],
      "source": [
        "# check if the device is connected and detected by PC\n",
        "%! nxpdevscan"
      ]
    },
    {
      "cell_type": "code",
      "execution_count": 10,
      "metadata": {},
      "outputs": [
        {
          "name": "stdout",
          "output_type": "stream",
          "text": [
            "blhost -p com10 get-property current-version \n",
            "Response status = 0 (0x0) Success.\n",
            "Response word 1 = 1258488064 (0x4b030100)\n",
            "Current Version = K3.1.0\n"
          ]
        }
      ],
      "source": [
        "# choose com port\n",
        "UART_CONNECTION = \"-p com10\"\n",
        "\n",
        "%! blhost $UART_CONNECTION get-property current-version"
      ]
    },
    {
      "attachments": {},
      "cell_type": "markdown",
      "metadata": {},
      "source": [
        "## Program device fuses with keys/RKTH generated in previous steps\n",
        "\n",
        "-\tWARNING!!! In our case, we already have burnt these fuses on EVK\n",
        "\n",
        "To program fuses blhost tool is used. Device needs to be in ISP mode, where it can communicate with blhost and process blhost commands.\n",
        "To serve the purpose of this document, ISP communication only over UART peripheral is considered for scripts. \n",
        "Also, accurate COMx port must be used.\n",
        "-\tWARNING!!! This step is destructive operation (burning fuses), be sure that you set values of SB3KDK and RoTKH correctly in script as printed in output from nxpimage\n",
        "```\n",
        "# Increase voltage for fuse burning\n",
        "blhost $UART_CONNECTION set-property 0x16 1\n",
        "\n",
        "# Program SB3KDK (CUST_PROD_OEMFW_ENC_SK)\n",
        "# Put value SB3KDK generated by nxpimage\n",
        "blhost $UART_CONNECTION fuse-program 0x20 [[c2d3eafa44cedc1edf237a7655acf18a1f41e85ea605dcc3bf473e4618b7882f]]\n",
        "\n",
        "# Program RKTH (CUST_PROD_OEMFW_AUTH_PUK)\n",
        "# Put value RKTH generated by nxpimage\n",
        "blhost $UART_CONNECTION fuse-program 0x1F [[89e4983eb79bed26fc25cf6ba9b89ddb6727c80ed7c786a6f3c77c09bba0e832b468895926a6568031c0f955a614434e]]\n",
        "\n",
        "# Set voltage to normal value\n",
        "blhost $UART_CONNECTION set-property 0x16 0\n",
        "```"
      ]
    },
    {
      "attachments": {},
      "cell_type": "markdown",
      "metadata": {},
      "source": [
        "## Send SB3.1 file to device\n",
        "\n",
        "Last step is to uploads SB3.1 file with NBU image to device."
      ]
    },
    {
      "cell_type": "code",
      "execution_count": 11,
      "metadata": {},
      "outputs": [
        {
          "name": "stdout",
          "output_type": "stream",
          "text": [
            "blhost -p com10 receive-sb-file workspace/sb3.sb3 \n",
            "Sending SB file\n",
            "Response status = 0 (0x0) Success.\n"
          ]
        }
      ],
      "source": [
        "# uploads SB3.1\n",
        "%! blhost $UART_CONNECTION receive-sb-file $SB31_FILE_PATH"
      ]
    }
  ],
  "metadata": {
    "kernelspec": {
      "display_name": "Python 3 (ipykernel)",
      "language": "python",
      "name": "python3"
    },
    "language_info": {
      "codemirror_mode": {
        "name": "ipython",
        "version": 3
      },
      "file_extension": ".py",
      "mimetype": "text/x-python",
      "name": "python",
      "nbconvert_exporter": "python",
      "pygments_lexer": "ipython3",
      "version": "3.10.8"
    },
    "vscode": {
      "interpreter": {
        "hash": "4ab21a5ebbf811bd5fc1902f6d9a7de0ca45b807ca8a4f69822a44f79381cc89"
      }
    }
  },
  "nbformat": 4,
  "nbformat_minor": 4
}
