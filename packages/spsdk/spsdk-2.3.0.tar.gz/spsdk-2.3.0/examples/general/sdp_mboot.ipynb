{
 "cells": [
  {
   "attachments": {},
   "cell_type": "markdown",
   "metadata": {},
   "source": [
    "# SDP and MBoot - Flashloader\n",
    "\n",
    "This example shows how to download a flashloader into i.MX RT10xx device and read bootloader properties.\n",
    "\n",
    "This example provides flashloader for i.MX RT1050. The binary was built using MCUXPresso IDE from  SDK mcu-boot middleware.\n",
    "\n",
    "For more information read: https://www.nxp.com/docs/en/user-guide/MBOOTFLASHGS.pdf"
   ]
  },
  {
   "cell_type": "code",
   "execution_count": 1,
   "metadata": {},
   "outputs": [
    {
     "name": "stdout",
     "output_type": "stream",
     "text": [
      "flash-loader executed\n"
     ]
    }
   ],
   "source": [
    "#!/usr/bin/env python\n",
    "# -*- coding: UTF-8 -*-\n",
    "#\n",
    "# Copyright 2019-2023 NXP\n",
    "#\n",
    "# SPDX-License-Identifier: BSD-3-Clause\n",
    "\n",
    "import os\n",
    "from time import sleep\n",
    "from typing import Optional\n",
    "\n",
    "from spsdk.exceptions import SPSDKError\n",
    "from spsdk.mboot.exceptions import McuBootError\n",
    "from spsdk.mboot.interfaces.usb import MbootUSBInterface\n",
    "from spsdk.mboot.mcuboot import McuBoot\n",
    "from spsdk.sdp.exceptions import SdpError\n",
    "from spsdk.sdp.interfaces.usb import SdpUSBInterface\n",
    "from spsdk.sdp.sdp import SDP\n",
    "from spsdk.utils.misc import load_binary\n",
    "\n",
    "# Uncomment for printing debug messages\n",
    "# import logging\n",
    "# logging.basicConfig(level=logging.DEBUG)\n",
    "\n",
    "FLASHLOADER = os.path.join(\"..\", \"_data\", \"ivt_flashloader.bin\")\n",
    "\n",
    "\n",
    "def run_flash_loader(\n",
    "    load_address: int, start_address: int, data: bytes, device_name: Optional[str] = None\n",
    ") -> bool:\n",
    "    \"\"\"Load an execute flashloader binary in i.MX-RT.\n",
    "\n",
    "    :param load_address: Destination address in target memory\n",
    "    :param start_address: Execution address\n",
    "    :param data: flashloader binary data\n",
    "    :param device_name: i.MX-RT device name or VID:PID\n",
    "    :return: True if running flashloader was successful\n",
    "    :raises sdp.SdpError: If SDP operation fails\n",
    "    \"\"\"\n",
    "    interfaces = SdpUSBInterface.scan(device_id=device_name)\n",
    "    if not interfaces:\n",
    "        return False\n",
    "\n",
    "    try:\n",
    "        with SDP(interfaces[0], True) as serial_downloader:\n",
    "            serial_downloader.write_file(load_address, data)\n",
    "            serial_downloader.jump_and_run(start_address)\n",
    "            return True\n",
    "    except SdpError:\n",
    "        return False\n",
    "\n",
    "\n",
    "flashloader_data = load_binary(FLASHLOADER)\n",
    "\n",
    "if run_flash_loader(0x20000000, 0x20000400, flashloader_data):\n",
    "    sleep(6)  # wait for device startup\n",
    "    print(\"flash-loader executed\")"
   ]
  },
  {
   "cell_type": "code",
   "execution_count": 2,
   "metadata": {},
   "outputs": [
    {
     "name": "stdout",
     "output_type": "stream",
     "text": [
      "Current Version = K2.1.0\n",
      "Available Peripherals = UART, USB-HID\n",
      "Available Commands = ['FlashEraseAll', 'FlashEraseRegion', 'ReadMemory', 'WriteMemory', 'FillMemory', 'GetProperty', 'ReceiveSBFile', 'Execute', 'Call', 'Reset', 'SetProperty', 'FlashProgramOnce', 'FlashReadOnce', 'FlashReadResource', 'ConfigureMemory', 'GenerateKeyBlob']\n",
      "Max Packet Size = 1016 B\n",
      "Reserved Regions =\n",
      "    Region 0: 0x20002000 - 0x20015FB7; Total Size: 79.9 kiB\n",
      "    Region 1: 0x20208000 - 0x20215A6F; Total Size: 54.6 kiB\n",
      "RAM Start Address = 0x00000000\n",
      "RAM Size = 128.0 kiB\n",
      "Security State = UNSECURE\n",
      "Unique Device Identification = 84 24 F8 65 D2 39 1B 34\n",
      "Target Version = T1.0.0\n"
     ]
    }
   ],
   "source": [
    "# Scan for MCU-BOOT device\n",
    "interfaces = MbootUSBInterface.scan()\n",
    "if not interfaces:\n",
    "    raise SPSDKError(\"MCU-BOOT device not found\")\n",
    "\n",
    "try:\n",
    "    with McuBoot(interfaces[0], True) as mb:\n",
    "        # data = mb.read_memory(0, 500)\n",
    "        property_list = mb.get_property_list()\n",
    "        # mb.reset()\n",
    "\n",
    "except McuBootError as e:\n",
    "    raise SPSDKError(f\"Error occurred:{str(e)}\") from e\n",
    "\n",
    "for prop in property_list:\n",
    "    print(prop)"
   ]
  }
 ],
 "metadata": {
  "kernelspec": {
   "display_name": "venv",
   "language": "python",
   "name": "python3"
  },
  "language_info": {
   "codemirror_mode": {
    "name": "ipython",
    "version": 3
   },
   "file_extension": ".py",
   "mimetype": "text/x-python",
   "name": "python",
   "nbconvert_exporter": "python",
   "pygments_lexer": "ipython3",
   "version": "3.11.1"
  },
  "orig_nbformat": 4,
  "vscode": {
   "interpreter": {
    "hash": "9ae905cdb03b2bea9f2883acc56fb3ee9783b3cfb8f9c98bd74d46626fd8ede9"
   }
  }
 },
 "nbformat": 4,
 "nbformat_minor": 2
}
