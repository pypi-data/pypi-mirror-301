{
 "cells": [
  {
   "attachments": {},
   "cell_type": "markdown",
   "metadata": {},
   "source": [
    "# SDP\n",
    "\n",
    "This example demonstrates how to read memory using SDP (Serial Downloader Protocol)."
   ]
  },
  {
   "cell_type": "code",
   "execution_count": 6,
   "metadata": {},
   "outputs": [
    {
     "name": "stdout",
     "output_type": "stream",
     "text": [
      "Read data:  89232389000000000000\n"
     ]
    }
   ],
   "source": [
    "#!/usr/bin/env python\n",
    "# -*- coding: UTF-8 -*-\n",
    "#\n",
    "# Copyright 2019-2023 NXP\n",
    "#\n",
    "# SPDX-License-Identifier: BSD-3-Clause\n",
    "\n",
    "from typing import Optional\n",
    "\n",
    "from spsdk.sdp.interfaces.usb import SdpUSBInterface\n",
    "from spsdk.sdp.sdp import SDP\n",
    "\n",
    "# Uncomment for printing debug messages\n",
    "# import logging\n",
    "# logging.basicConfig(level=logging.DEBUG)\n",
    "\n",
    "\n",
    "def read_memory(address: int, length: int, device_name: Optional[str] = None) -> Optional[bytes]:\n",
    "    \"\"\"Read memory using USB interface.\n",
    "\n",
    "    To see all available device names (and their respective VID:PID):\n",
    "      spsdk/sdp/interfaces/usb.py -> USB_DEVICES\n",
    "    If device_name is not specified, function will use first available SDP device.\n",
    "\n",
    "    :param address: The address in target memory\n",
    "    :param length: Count of bytes to read\n",
    "    :param device_name: i.MX-RT device name or VID:PID\n",
    "    :return: bytes or None\n",
    "    \"\"\"\n",
    "    interfaces = SdpUSBInterface.scan(device_id=device_name)\n",
    "    if interfaces:\n",
    "        with SDP(interfaces[0]) as sdp:\n",
    "            return sdp.read(address, length, 8)\n",
    "    return None\n",
    "\n",
    "\n",
    "DATA = read_memory(0, 10)\n",
    "print(\"Read data:\", DATA.hex())"
   ]
  }
 ],
 "metadata": {
  "kernelspec": {
   "display_name": "venv311",
   "language": "python",
   "name": "python3"
  },
  "language_info": {
   "codemirror_mode": {
    "name": "ipython",
    "version": 3
   },
   "file_extension": ".py",
   "mimetype": "text/x-python",
   "name": "python",
   "nbconvert_exporter": "python",
   "pygments_lexer": "ipython3",
   "version": "3.11.1"
  }
 },
 "nbformat": 4,
 "nbformat_minor": 2
}
