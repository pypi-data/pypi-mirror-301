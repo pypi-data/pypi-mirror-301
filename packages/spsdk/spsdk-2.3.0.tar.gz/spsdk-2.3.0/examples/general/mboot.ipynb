{
 "cells": [
  {
   "attachments": {},
   "cell_type": "markdown",
   "metadata": {},
   "source": [
    "# MBoot\n",
    "\n",
    "This example shows how to read properties of the target's bootloader."
   ]
  },
  {
   "cell_type": "code",
   "execution_count": 1,
   "metadata": {},
   "outputs": [
    {
     "name": "stdout",
     "output_type": "stream",
     "text": [
      "Current Version = K3.0.0\n",
      "Available Peripherals = UART, I2C-Slave, SPI-Slave, USB-HID\n",
      "Flash Start Address = 0x00000000\n",
      "Flash Size = 244.0 kiB\n",
      "Flash Sector Size = 32.0 kiB\n",
      "Available Commands = ['FlashEraseAll', 'FlashEraseRegion', 'ReadMemory', 'WriteMemory', 'FillMemory', 'GetProperty', 'ReceiveSBFile', 'Execute', 'Reset', 'SetProperty', 'ConfigureMemory', 'KeyProvisioning']\n",
      "CRC Check Status = AppCrcCheckInvalid\n",
      "Verify Writes = ON\n",
      "Max Packet Size = 56 B\n",
      "Reserved Regions =\n",
      "    Region 0: 0x30000000 - 0x30007FFF; Total Size: 32.0 kiB\n",
      "    Region 1: 0x20000000 - 0x20007FFF; Total Size: 32.0 kiB\n",
      "    Region 2: 0x04000000 - 0x04003FFF; Total Size: 16.0 kiB\n",
      "    Region 3: 0x14000000 - 0x14001FFF; Total Size: 8.0 kiB\n",
      "RAM Start Address = 0x20000000\n",
      "RAM Size = 64.0 kiB\n",
      "Security State = UNSECURE\n",
      "Unique Device Identification = 2B BF CD 88 F9 4A FC 50 8B 87 80 CB AC EE 79 1F\n",
      "Target Version = T1.0.4\n",
      "Flash Page Size = 512 B\n",
      "Irq Notifier Pin = IRQ Port[0], Pin[0] is disabled\n",
      "PFR Keystore Update Opt = KEY_PROVISIONING\n"
     ]
    }
   ],
   "source": [
    "#!/usr/bin/env python\n",
    "# -*- coding: UTF-8 -*-\n",
    "#\n",
    "# Copyright 2019-2023 NXP\n",
    "#\n",
    "# SPDX-License-Identifier: BSD-3-Clause\n",
    "\n",
    "from typing import Optional\n",
    "\n",
    "from spsdk.exceptions import SPSDKError\n",
    "from spsdk.mboot.interfaces.usb import MbootUSBInterface\n",
    "from spsdk.mboot.mcuboot import McuBoot\n",
    "\n",
    "# Uncomment for printing debug messages\n",
    "# import logging\n",
    "# logging.basicConfig(level=logging.DEBUG)\n",
    "\n",
    "\n",
    "def mboot_properties(name: Optional[str] = None) -> Optional[list]:\n",
    "    \"\"\"Get McuBoot properties.\n",
    "\n",
    "    :param name: Device name ('KL27Z', 'LPC55', ...), VID:PID ('0x15A2:0x0073') or None (any from known devices)\n",
    "    :return: Interface object\n",
    "    \"\"\"\n",
    "    props = None\n",
    "    interfaces = MbootUSBInterface.scan(device_id=name)\n",
    "    if interfaces:\n",
    "        with McuBoot(interfaces[0]) as mb:\n",
    "            props = mb.get_property_list()\n",
    "    return props\n",
    "\n",
    "\n",
    "property_list = mboot_properties()\n",
    "if not property_list:\n",
    "    raise SPSDKError(\"Error reading properties!\")\n",
    "for prop in property_list:\n",
    "    print(prop)"
   ]
  }
 ],
 "metadata": {
  "kernelspec": {
   "display_name": "venv",
   "language": "python",
   "name": "python3"
  },
  "language_info": {
   "codemirror_mode": {
    "name": "ipython",
    "version": 3
   },
   "file_extension": ".py",
   "mimetype": "text/x-python",
   "name": "python",
   "nbconvert_exporter": "python",
   "pygments_lexer": "ipython3",
   "version": "3.11.0 (main, Oct 24 2022, 18:26:48) [MSC v.1933 64 bit (AMD64)]"
  },
  "vscode": {
   "interpreter": {
    "hash": "9ae905cdb03b2bea9f2883acc56fb3ee9783b3cfb8f9c98bd74d46626fd8ede9"
   }
  }
 },
 "nbformat": 4,
 "nbformat_minor": 2
}
