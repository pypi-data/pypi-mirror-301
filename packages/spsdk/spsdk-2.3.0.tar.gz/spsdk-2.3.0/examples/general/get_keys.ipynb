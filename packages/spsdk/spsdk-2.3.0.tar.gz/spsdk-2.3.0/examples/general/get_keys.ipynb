{
 "cells": [
  {
   "cell_type": "markdown",
   "metadata": {},
   "source": [
    "# How to get keys using nxpcrypto"
   ]
  },
  {
   "cell_type": "markdown",
   "metadata": {},
   "source": [
    "## Introduction\n",
    "Nxpcrypto application is a collection of utilities for cryptographic operations provided by SPSDK. This jupyter notebook guide through process of generating keys using nxpcrypto. We recommend that you generate one set of keys for each project, which you store safely in a safe place, or protect it with a password."
   ]
  },
  {
   "cell_type": "markdown",
   "metadata": {},
   "source": [
    "## Supported Commands\n",
    "\n",
    "- cert - Group of command for working with x509 certificates.\n",
    "    - generate - Generate certificate.\n",
    "    - get-template - Generate the template of Certificate generation YML configuration file.\n",
    "    - verify - Verify signature or public key in certificate.\n",
    "- digest - Computes digest/hash of the given file.\n",
    "- key - Group of commands for working with asymmetric keys.\n",
    "    - convert - Convert Asymmetric key into various formats.\n",
    "    - generate - NXP Key Generator Tool.\n",
    "    - verify - Check whether provided keys form a key pair or represent the same key.\n",
    "- rot - Group of RoT commands.\n",
    "    - calculate-hash - Calculate RoT hash.\n",
    "    - export - Export RoT table.\n",
    "- signature - Group of commands for working with signature.\n",
    "    - create - Sign the data with given private key.\n",
    "    - verify - Verify the given signature with public key."
   ]
  },
  {
   "cell_type": "markdown",
   "metadata": {},
   "source": [
    "## Types of keys by use\n",
    "- Root of Trust Key (RoTK)/Super Root Key (SRK)\n",
    "- Image Signing Key (ISK)\n",
    "- Debug Credential Key (DCK) "
   ]
  },
  {
   "cell_type": "markdown",
   "metadata": {},
   "source": [
    "## Keys generation\n",
    "This section is used for key generation. Each time the keys generate command is called, a asymmetric key pair is generated. Key pair includes a public key (.pub) and a corresponding private key (.pem). Private keys are used to sign the images and public keys are used to validate the image during ISBC and ESBC phase (see below - scheme of secure boot process). \n",
    "\n",
    "Possible RSA key types:\n",
    "- 2048-bit (rsa2048)\n",
    "- 3072-bit (rsa3072)\n",
    "- 4096-bit (rsa4096)\n",
    "\n",
    "Possible ECC key types:\n",
    "- secp256r1\n",
    "- secp384r1\n",
    "- secp521r1"
   ]
  },
  {
   "cell_type": "markdown",
   "metadata": {},
   "source": [
    "### Secure Boot Process\n",
    "![secure-boot](../_data/img/secure_boot_scheme.png \"secure-boot\")"
   ]
  },
  {
   "cell_type": "code",
   "execution_count": 1,
   "metadata": {},
   "outputs": [
    {
     "name": "stdout",
     "output_type": "stream",
     "text": [
      "env: JUPYTER_SPSDK=1\n",
      "Created `%!` as an alias for `%execute`.\n"
     ]
    }
   ],
   "source": [
    "%run ../init_notebook.ipynb\n",
    "\n",
    "import os\n",
    "\n",
    "WORKSPACE = \"workspace/\"  # change this to path to your workspace\n",
    "VERBOSITY = (\n",
    "    \"-v\"  # verbosity of commands, might be -v or -vv for debug or blank for no additional info\n",
    ")\n",
    "# choose key type (rsa2048, rsa3072, rsa4096, secp256r1, secp384r1 or secp521r1)\n",
    "KEY_TYPE = \"secp384r1\""
   ]
  },
  {
   "cell_type": "code",
   "execution_count": 2,
   "metadata": {},
   "outputs": [
    {
     "name": "stdout",
     "output_type": "stream",
     "text": [
      "nxpcrypto -v key generate -k secp384r1 -o workspace/srk0_secp384r1.pem --force \n",
      "The key pair has been created: workspace\\srk0_secp384r1.pub, workspace\\srk0_secp384r1.pem\n",
      "nxpcrypto -v key generate -k secp384r1 -o workspace/srk1_secp384r1.pem --force \n",
      "The key pair has been created: workspace\\srk1_secp384r1.pub, workspace\\srk1_secp384r1.pem\n",
      "nxpcrypto -v key generate -k secp384r1 -o workspace/srk2_secp384r1.pem --force \n",
      "The key pair has been created: workspace\\srk2_secp384r1.pub, workspace\\srk2_secp384r1.pem\n",
      "nxpcrypto -v key generate -k secp384r1 -o workspace/srk3_secp384r1.pem --force \n",
      "The key pair has been created: workspace\\srk3_secp384r1.pub, workspace\\srk3_secp384r1.pem\n",
      "nxpcrypto -v key generate -k secp384r1 -o workspace/imgkey_secp384r1.pem --force \n",
      "The key pair has been created: workspace\\imgkey_secp384r1.pub, workspace\\imgkey_secp384r1.pem\n",
      "nxpcrypto -v key generate -k secp384r1 -o workspace/dck_secp384r1.pem --force \n",
      "The key pair has been created: workspace\\dck_secp384r1.pub, workspace\\dck_secp384r1.pem\n"
     ]
    }
   ],
   "source": [
    "# generate key pair for ROTK0/SRK0\n",
    "ROTK0_PRIVATE_KEY_PATH = WORKSPACE + f\"srk0_{KEY_TYPE}.pem\"\n",
    "ROTK0_PUBLIC_KEY_PATH = WORKSPACE + f\"srk0_{KEY_TYPE}.pub\"\n",
    "\n",
    "%! nxpcrypto $VERBOSITY key generate -k $KEY_TYPE -o $ROTK0_PRIVATE_KEY_PATH --force\n",
    "\n",
    "# verify that keys were generated\n",
    "assert os.path.exists(ROTK0_PRIVATE_KEY_PATH)\n",
    "assert os.path.exists(ROTK0_PUBLIC_KEY_PATH)\n",
    "\n",
    "\n",
    "# generate key pair for ROTK1/SRK1\n",
    "ROTK1_PRIVATE_KEY_PATH = WORKSPACE + f\"srk1_{KEY_TYPE}.pem\"\n",
    "ROTK1_PUBLIC_KEY_PATH = WORKSPACE + f\"srk1_{KEY_TYPE}.pub\"\n",
    "\n",
    "%! nxpcrypto $VERBOSITY key generate -k $KEY_TYPE -o $ROTK1_PRIVATE_KEY_PATH --force\n",
    "\n",
    "# verify that keys were generated\n",
    "assert os.path.exists(ROTK1_PRIVATE_KEY_PATH)\n",
    "assert os.path.exists(ROTK1_PUBLIC_KEY_PATH)\n",
    "\n",
    "\n",
    "# generate key pair for ROTK2/SRK2\n",
    "ROTK2_PRIVATE_KEY_PATH = WORKSPACE + f\"srk2_{KEY_TYPE}.pem\"\n",
    "ROTK2_PUBLIC_KEY_PATH = WORKSPACE + f\"srk2_{KEY_TYPE}.pub\"\n",
    "\n",
    "%! nxpcrypto $VERBOSITY key generate -k $KEY_TYPE -o $ROTK2_PRIVATE_KEY_PATH --force\n",
    "\n",
    "# verify that keys were generated\n",
    "assert os.path.exists(ROTK2_PRIVATE_KEY_PATH)\n",
    "assert os.path.exists(ROTK2_PUBLIC_KEY_PATH)\n",
    "\n",
    "\n",
    "# generate key pair for ROTK3/SRK3\n",
    "ROTK3_PRIVATE_KEY_PATH = WORKSPACE + f\"srk3_{KEY_TYPE}.pem\"\n",
    "ROTK3_PUBLIC_KEY_PATH = WORKSPACE + f\"srk3_{KEY_TYPE}.pub\"\n",
    "\n",
    "%! nxpcrypto $VERBOSITY key generate -k $KEY_TYPE -o $ROTK3_PRIVATE_KEY_PATH --force\n",
    "\n",
    "# verify that keys were generated\n",
    "assert os.path.exists(ROTK3_PRIVATE_KEY_PATH)\n",
    "assert os.path.exists(ROTK3_PUBLIC_KEY_PATH)\n",
    "\n",
    "\n",
    "# generate key pair for ISK\n",
    "ISK_PRIVATE_KEY_PATH = WORKSPACE + f\"imgkey_{KEY_TYPE}.pem\"\n",
    "ISK_PUBLIC_KEY_PATH = WORKSPACE + f\"imgkey_{KEY_TYPE}.pub\"\n",
    "\n",
    "%! nxpcrypto $VERBOSITY key generate -k $KEY_TYPE -o $ISK_PRIVATE_KEY_PATH --force\n",
    "\n",
    "# verify that keys were generated\n",
    "assert os.path.exists(ISK_PRIVATE_KEY_PATH)\n",
    "assert os.path.exists(ISK_PUBLIC_KEY_PATH)\n",
    "\n",
    "\n",
    "# generate key pair for DCK\n",
    "DCK_PRIVATE_KEY_PATH = WORKSPACE + f\"dck_{KEY_TYPE}.pem\"\n",
    "DCK_PUBLIC_KEY_PATH = WORKSPACE + f\"dck_{KEY_TYPE}.pub\"\n",
    "\n",
    "%! nxpcrypto $VERBOSITY key generate -k $KEY_TYPE -o $DCK_PRIVATE_KEY_PATH --force\n",
    "\n",
    "# verify that keys were generated\n",
    "assert os.path.exists(DCK_PRIVATE_KEY_PATH)\n",
    "assert os.path.exists(DCK_PUBLIC_KEY_PATH)"
   ]
  }
 ],
 "metadata": {
  "kernelspec": {
   "display_name": "venv",
   "language": "python",
   "name": "python3"
  },
  "language_info": {
   "codemirror_mode": {
    "name": "ipython",
    "version": 3
   },
   "file_extension": ".py",
   "mimetype": "text/x-python",
   "name": "python",
   "nbconvert_exporter": "python",
   "pygments_lexer": "ipython3",
   "version": "3.9.13"
  }
 },
 "nbformat": 4,
 "nbformat_minor": 2
}
