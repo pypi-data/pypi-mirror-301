{
  "cells": [
    {
      "cell_type": "markdown",
      "metadata": {},
      "source": [
        "# RW61x Debug Authentication"
      ]
    },
    {
      "cell_type": "markdown",
      "metadata": {},
      "source": [
        "## Introduction\n",
        "This jupyter notebook describes the steps for debug authentication (DAT) using the nxpdebugmbox app away from SPSDK team. The fundamental principles of debugging conflict with the principles of security: debugging requires access to the system state and system information, security requires the restriction of access to assets. Often, debug access is disabled completely before the products are deployed. This causes challenges for product design teams to complete the return material analysis. To address these challenges, the device supports a DAT protocol as a mechanism to authenticate the debugger. The product manufacturer approves the credentials before granting debug access to the device. So DAT is a key feature as it enables security during the complete lifecycle of a product.\n",
        "\n",
        "An example for implementing DAT has already been presented for MCXN9xx devices, so you can study the general principles of DAT from mcxn9xx_debug_auth.ipynb. The reason for creating this jupyter notebook was the numerous inquiries regarding the use of DAT on rw612 devices, considering the necessary configuration of registers, which MCXN9xx does not have, and the procedure was therefore not entirely clear to some users."
      ]
    },
    {
      "cell_type": "markdown",
      "metadata": {},
      "source": [
        "## Let's prepare the environment"
      ]
    },
    {
      "cell_type": "code",
      "execution_count": 96,
      "metadata": {},
      "outputs": [
        {
          "name": "stdout",
          "output_type": "stream",
          "text": [
            "env: JUPYTER_SPSDK=1\n",
            "Created `%!` as an alias for `%execute`.\n"
          ]
        }
      ],
      "source": [
        "%run ../../init_notebook.ipynb\n",
        "\n",
        "import os\n",
        "\n",
        "WORKSPACE = \"workspace/\"  # change this to path to your workspace\n",
        "KEYS = \"../../_data/keys/ecc256/\"  # change this to path to your keys\n",
        "INPUTS = \"inputs/\"\n",
        "\n",
        "# choose debug interface\n",
        "INTERFACE = \"pyocd\"\n",
        "# choose family\n",
        "FAMILY = \"rw612\""
      ]
    },
    {
      "cell_type": "markdown",
      "metadata": {},
      "source": [
        "## Generate root of trust keys and debug credential key\n",
        "Root of Trust Keys (RoTKs)\n",
        "- The device supports up to four RoTKs. At least one key pair is required.\n",
        "- Supported key types: secp256r1, secp384r1.\n",
        "\n",
        "Debug Credential key (DCK)\n",
        "- The public part of the key is associated with a debug credential (DC).\n",
        "- The private part is held by the user and used to produce signatures during authentication.\n",
        "\n",
        "In this example, we will use *nxpcrypto* app to generate secp256r1 keys"
      ]
    },
    {
      "cell_type": "code",
      "execution_count": 97,
      "metadata": {},
      "outputs": [],
      "source": [
        "# load generated key pair for ROTK0\n",
        "ROTK0_PRIVATE_KEY_PATH = os.path.join(KEYS, \"srk0_ecc256.pem\")\n",
        "ROTK0_PUBLIC_KEY_PATH = os.path.join(KEYS, \"srk0_ecc256.pub\")\n",
        "# verify that keys were loaded\n",
        "assert os.path.exists(ROTK0_PRIVATE_KEY_PATH)\n",
        "assert os.path.exists(ROTK0_PUBLIC_KEY_PATH)\n",
        "\n",
        "# load generated key pair for DCK\n",
        "DCK_PRIVATE_KEY_PATH = os.path.join(KEYS, \"dck_ecc256.pem\")\n",
        "DCK_PUBLIC_KEY_PATH = os.path.join(KEYS, \"dck_ecc256.pub\")\n",
        "# verify that keys were loaded\n",
        "assert os.path.exists(DCK_PRIVATE_KEY_PATH)\n",
        "assert os.path.exists(DCK_PUBLIC_KEY_PATH)"
      ]
    },
    {
      "cell_type": "markdown",
      "metadata": {},
      "source": [
        "## Generate debug credential file \n",
        "Debug Credential (DC) configuration including:\n",
        "- socc: Specifies the device family.\n",
        "- uuid: Universally Unique Identifier (UUID) is 128-bit IETF RFC4122 compliant. Controls whether to enforce UUID check during DC validation or not. If this field is set, only the DC with matching device UUID can unlock\n",
        "the debug access.\n",
        "- cc_socu: SoC Usage controls which debug domains are accessed via the authentication protocol.\n",
        "- cc_vu: Vendor Usage can be leveraged by vendors in product-specific ways.\n",
        "- cc_beacon: Credential beacon is associated with DC and system product. With credential beacon, debug authentication can be restricted to specific parts having matching system product ID in OTP.\n",
        "- rot_meta: Includes public parts of RoT key(s).\n",
        "- rot_id: Defines the root of trust identifier. Allows the debugger to infer which RoT public key(s) are acceptable to the device. The rot_id field is used.\n",
        "to bind the devices to specific certificate authority (CA) keys issuing the debug credentials.\n",
        "- dck: The public part of DCK.\n",
        "- rotk: RoT signature private key for the RoT meta chosen by rot_id to sign the image.\n",
        "- sign_provider: Signature provider configuration in format `type=<sp_type>;<key_number>=<rot_id>`."
      ]
    },
    {
      "cell_type": "code",
      "execution_count": 98,
      "metadata": {},
      "outputs": [
        {
          "name": "stdout",
          "output_type": "stream",
          "text": [
            "nxpdebugmbox -f rw612 dat dc get-template -o workspace/dc_config_default_rw61x.yml --force \n",
            "The Debug Credentials template for rw612 has been saved into workspace\\dc_config_default_rw61x.yml YAML file\n"
          ]
        }
      ],
      "source": [
        "# generate and modify DC config\n",
        "DC_CONFIG_DEFAULT_RW61X = os.path.join(WORKSPACE, \"dc_config_default_rw61x.yml\")\n",
        "\n",
        "%! nxpdebugmbox -f $FAMILY dat dc get-template -o $DC_CONFIG_DEFAULT_RW61X --force"
      ]
    },
    {
      "cell_type": "code",
      "execution_count": 99,
      "metadata": {},
      "outputs": [
        {
          "data": {
            "text/plain": [
              "True"
            ]
          },
          "execution_count": 99,
          "metadata": {},
          "output_type": "execute_result"
        }
      ],
      "source": [
        "DC_CONFIG_RW61X = os.path.join(INPUTS, \"dc_config_rw61x.yml\")\n",
        "os.path.exists(DC_CONFIG_RW61X)"
      ]
    },
    {
      "attachments": {},
      "cell_type": "markdown",
      "metadata": {},
      "source": [
        "In our case, we modified these items in the DC configuration template:\n",
        "1. Specify cc_socu that controls which debug domains are accessed via the authentication protocol.\\\n",
        "    ![image.png](img/9_image.png)\n",
        "2. Define path to the generated RoTK/SRK.\\\n",
        "    ![image-2.png](img/9_image-2.png)\n",
        "3. Define which RoTK will be the root of trust identifier <0, 1, 2, 3>.\\\n",
        "    ![image-3.png](img/9_image-3.png)\n",
        "3. Define path to the DCK.\\\n",
        "    ![image-4.png](img/9_image-4.png)\n",
        "4. Define path to the ROTK. RoT signature private key for the RoT meta chosen by rot_id to sign the image.\\\n",
        "    ![image-6.png](img/9_image-6.png)\n"
      ]
    },
    {
      "cell_type": "markdown",
      "metadata": {},
      "source": [
        "<span style=\"color:red\">NOTICE: Based on the chip revision choose socc. A1: socc = 0x4; A2: socc = 0xA!</span>"
      ]
    },
    {
      "cell_type": "code",
      "execution_count": 100,
      "metadata": {},
      "outputs": [
        {
          "name": "stdout",
          "output_type": "stream",
          "text": [
            "nxpdebugmbox -f rw612 dat dc export -c inputs/dc_config_rw61x.yml -o workspace/rw61x.dc --force \n",
            "RKTH: dc41dd48d79b99ac8b91194483fc477c632d0b5632ae8a439476a98872971d3d\n",
            "Creating Debug credential file succeeded\n"
          ]
        }
      ],
      "source": [
        "# generate DC file according to exemplary config\n",
        "DC_FILE_RW61X = os.path.join(WORKSPACE, \"rw61x.dc\")\n",
        "\n",
        "%! nxpdebugmbox -f $FAMILY dat dc export -c $DC_CONFIG_RW61X -o $DC_FILE_RW61X --force\n",
        "\n",
        "# save RKTH\n",
        "RKTH_PATH = os.path.join(WORKSPACE, \"rkth.txt\")\n",
        "\n",
        "%! nxpcrypto rot calculate-hash -f $FAMILY -k $ROTK0_PUBLIC_KEY_PATH -o $RKTH_PATH\n",
        "\n",
        "# read RKTH\n",
        "with open(RKTH_PATH, \"rb\") as rkth:\n",
        "    rkth_val = f\"0x{rkth.read().hex()}\""
      ]
    },
    {
      "cell_type": "markdown",
      "metadata": {},
      "source": [
        "## Device preparation\n",
        "![RW61X-EVK](img/RW61X-EVK.png \"RW61X-EVK\")\n",
        "\n",
        "In chip MUST be loaded signed application to show capability of DAT in real application.. To achieve that we do those steps:\n",
        " - Go to ISP mode using *nxpdebugmbox* utility\n",
        " - Create signed MBI with matching keys used in example\n",
        " - Create Bootable image with generated example and FCB block\n",
        " - Load the created image into chip flash"
      ]
    },
    {
      "cell_type": "code",
      "execution_count": 102,
      "metadata": {},
      "outputs": [
        {
          "name": "stdout",
          "output_type": "stream",
          "text": [
            "nxpdebugmbox -f rw612 cmd ispmode -m 1 \n",
            "  #   Interface   Id           Description             \n",
            "-------------------------------------------------------\n",
            "  0   PyOCD       1064263226   Segger J-Link MCU-Link  \n",
            "Entering into ISP mode succeeded\n",
            "nxpdevscan \n",
            "-------- Connected NXP USB Devices --------\n",
            "\n",
            "-------- Connected NXP UART Devices --------\n",
            "\n",
            "Port: COM115\n",
            "Type: mboot device\n",
            "\n",
            "-------- Connected NXP SIO Devices --------\n",
            "\n",
            "-------- Connected NXP UUU Devices --------\n",
            "\n"
          ]
        }
      ],
      "source": [
        "# force device to ISP mode\n",
        "%! nxpdebugmbox -i $INTERFACE -f $FAMILY cmd ispmode -m 1\n",
        "# check if the device is connected and detected by PC\n",
        "%! nxpdevscan"
      ]
    },
    {
      "cell_type": "code",
      "execution_count": 103,
      "metadata": {},
      "outputs": [
        {
          "name": "stdout",
          "output_type": "stream",
          "text": [
            "nxpimage mbi export -c inputs/rw61x_xip_signed.yaml \n",
            "RKTH: dc41dd48d79b99ac8b91194483fc477c632d0b5632ae8a439476a98872971d3d\n",
            "Success. (Master Boot Image: workspace\\outputs\\mbi.bin created.)\n",
            "nxpimage bootable-image merge -c inputs/bootimg_rw61x_flexspi_nor.yaml -o workspace/outputs/bootable_image.bin \n",
            "Success. (Bootable Image: workspace\\outputs\\bootable_image.bin created) \n",
            "nxpmemcfg parse --family rw612 --force --peripheral flexspi_nor --option-word 0xC0000008 --output workspace/outputs/mem_cfg.yaml \n",
            "Parsed option words has been stored: workspace/outputs/mem_cfg.yaml\n",
            "nxpmemcfg blhost-script --force --config workspace/outputs/mem_cfg.yaml --output workspace/outputs/script.txt \n",
            "Exported blhost script.\n",
            "blhost -p COM115 batch workspace/outputs/script.txt \n",
            "Response status = 0 (0x0) Success.\n",
            "Response status = 0 (0x0) Success.\n",
            "blhost -p COM115 flash-erase-region 0x08000000 0x10000 \n",
            "Response status = 0 (0x0) Success.\n",
            "blhost -p COM115 write-memory 0x08000000 workspace/outputs/bootable_image.bin \n",
            "Writing memory\n",
            "Response status = 0 (0x0) Success.\n",
            "Response word 1 = 22644 (0x5874)\n"
          ]
        }
      ],
      "source": [
        "# determine the interface connection based on the result from nxpdevscan\n",
        "UART = \"-p COM115\"\n",
        "# Create MBI\n",
        "%! nxpimage mbi export -c inputs/rw61x_xip_signed.yaml\n",
        "# Merge MBI and FCB to bootable image\n",
        "%! nxpimage bootable-image merge -c inputs/bootimg_rw61x_flexspi_nor.yaml -o workspace/outputs/bootable_image.bin\n",
        "# Load it into flash\n",
        "# Memory configuration\n",
        "%! nxpmemcfg parse --family rw612 --force --peripheral flexspi_nor --option-word 0xC0000008 --output workspace/outputs/mem_cfg.yaml\n",
        "%! nxpmemcfg blhost-script --force --config workspace/outputs/mem_cfg.yaml --output workspace/outputs/script.txt\n",
        "%! blhost $UART batch workspace/outputs/script.txt\n",
        "\n",
        "# Erase memory\n",
        "%! blhost $UART flash-erase-region 0x08000000 0x10000\n",
        "# Write\n",
        "%! blhost $UART write-memory 0x08000000 workspace/outputs/bootable_image.bin"
      ]
    },
    {
      "cell_type": "markdown",
      "metadata": {},
      "source": [
        "## Shadow registers configuration\n",
        "The following is an introduction to one of the variants of the shadow register configuration for DAT. The illustrative use case that is presented is based on disabling the debug access control registers.\n",
        "- The debug access control rights and security policies are configurable. \n",
        "- The configuration fields are referred to as device configuration for credential constraints (DCFG_CC).\n",
        "- Life Cycle (LC) state in shadow registers to be configured should be either Develop2 (0x0707) or In-Field (0x0F0F).\n",
        "- The RKTH value must be specified.\n",
        "\n",
        "*At the end of this chapter there is test of access to chip memory, that should ends without guaranteed access, because chip is running signed application and debug access is disabled.*"
      ]
    },
    {
      "cell_type": "code",
      "execution_count": 106,
      "metadata": {},
      "outputs": [
        {
          "name": "stdout",
          "output_type": "stream",
          "text": [
            "shadowregs -f rw612 get-template -o workspace/sr_template_default_rw61x.yml --force \n",
            "The Shadow registers template for rw612 has been saved into workspace\\sr_template_default_rw61x.yml YAML file\n"
          ]
        }
      ],
      "source": [
        "# generate and modify shadowregs config\n",
        "SR_TEMPLATE_DEFAULT_PATH = os.path.join(WORKSPACE, \"sr_template_default_rw61x.yml\")\n",
        "\n",
        "%! shadowregs -f $FAMILY get-template -o $SR_TEMPLATE_DEFAULT_PATH --force"
      ]
    },
    {
      "cell_type": "code",
      "execution_count": 107,
      "metadata": {},
      "outputs": [
        {
          "data": {
            "text/plain": [
              "True"
            ]
          },
          "execution_count": 107,
          "metadata": {},
          "output_type": "execute_result"
        }
      ],
      "source": [
        "SR_TEMPLATE_PATH = os.path.join(INPUTS, \"sr_template_rw61x.yml\")\n",
        "os.path.exists(SR_TEMPLATE_PATH)"
      ]
    },
    {
      "attachments": {},
      "cell_type": "markdown",
      "metadata": {},
      "source": [
        "In our case, we modified these items in the SR configuration template:\n",
        "1. Set ROTKx_USAGE where x is index of RoTKs in the BOOT_CFG3 register based on how many keys you are using.\\\n",
        "    ![image.png](img/20_image.png)\\\n",
        "    ![image-2.png](img/20_image-2.png)\\\n",
        "    ![image-3.png](img/20_image-3.png)\\\n",
        "    ![image-4.png](img/20_image-4.png)\n",
        "2. Move the life cycle state to In-Field.\\\n",
        "    ![image-5.png](img/20_image-5.png)"
      ]
    },
    {
      "cell_type": "code",
      "execution_count": 108,
      "metadata": {},
      "outputs": [
        {
          "name": "stdout",
          "output_type": "stream",
          "text": [
            "shadowregs -i pyocd -f rw612 loadconfig -c inputs/sr_template_rw61x.yml --no-verify \n",
            "  #   Interface   Id           Description             \n",
            "-------------------------------------------------------\n",
            "  0   PyOCD       1064263226   Segger J-Link MCU-Link  \n",
            "The Shadow registers has been loaded by configuration in inputs/sr_template_rw61x.yml YAML file\n",
            "shadowregs -i pyocd -f rw612 setreg -r RKTH -v 0xdc41dd48d79b99ac8b91194483fc477c632d0b5632ae8a439476a98872971d3d \n",
            "  #   Interface   Id           Description             \n",
            "-------------------------------------------------------\n",
            "  0   PyOCD       1064263226   Segger J-Link MCU-Link  \n",
            "\u001b[33mWARNING:spsdk.apps.shadowregs:Verification is not possible on the rw612, it won't be performed. (3146ms since start, shadowregs.py:314)\u001b[39m\n",
            "The Shadow register RKTH has been set to 0xdc41dd48d79b99ac8b91194483fc477c632d0b5632ae8a439476a98872971d3d value\n",
            "shadowregs -i pyocd -f rw612 reset \n",
            "  #   Interface   Id           Description             \n",
            "-------------------------------------------------------\n",
            "  0   PyOCD       1064263226   Segger J-Link MCU-Link  \n",
            "The target has been reset.\n",
            "nxpdebugmbox -f rw612 -i pyocd mem-tool test-connection \n",
            "  #   Interface   Id           Description             \n",
            "-------------------------------------------------------\n",
            "  0   PyOCD       1064263226   Segger J-Link MCU-Link  \n",
            "The device is not-accessible for debugging.\n"
          ]
        }
      ],
      "source": [
        "# load modified shadowregs\n",
        "%! shadowregs -i $INTERFACE -f $FAMILY loadconfig -c $SR_TEMPLATE_PATH --no-verify\n",
        "# RKTH specification\n",
        "%! shadowregs -i $INTERFACE -f $FAMILY setreg -r RKTH -v $rkth_val\n",
        "# reset the device to load modified shadowregs\n",
        "%! shadowregs -i $INTERFACE -f $FAMILY reset\n",
        "\n",
        "# check the device is not accessible for debugging\n",
        "%! nxpdebugmbox -f $FAMILY -i $INTERFACE mem-tool test-connection"
      ]
    },
    {
      "cell_type": "markdown",
      "metadata": {},
      "source": [
        "## Debug authentication challenge\n",
        "In the previous steps, we loaded a configuration with all the keys and enabled the debug authentication in the device. We have also created the DC certificate and private key for the debug authentication challenge. In addition, a protocol version and a beacon must be specified.\n",
        "\n",
        "RW61x devices support two versions of ECDSA keys:\n",
        "- ECDSA P-256 signature verification RoT key(s)\n",
        "- ECDSA P-384 signature verification RoT key(s)\n",
        "\n",
        "The debug authentication process can be extended with beacons. The authentication beacon defines the system-specific debug policy use case such as: restricting debug authentication to only certain devices having specific system product ID during manufacturing phase."
      ]
    },
    {
      "cell_type": "markdown",
      "metadata": {},
      "source": [
        "We need to create a template for configuration for DAT."
      ]
    },
    {
      "cell_type": "code",
      "execution_count": 109,
      "metadata": {},
      "outputs": [
        {
          "name": "stdout",
          "output_type": "stream",
          "text": [
            "nxpdebugmbox -f rw612 dat get-template -o workspace/dat_config_default_rw61x.yml --force \n",
            "Creating workspace\\dat_config_default_rw61x.yml template file.\n"
          ]
        }
      ],
      "source": [
        "DAT_CONFIG_DEFAULT_RW61X = os.path.join(WORKSPACE, \"dat_config_default_rw61x.yml\")\n",
        "%! nxpdebugmbox -f $FAMILY dat get-template -o $DAT_CONFIG_DEFAULT_RW61X --force"
      ]
    },
    {
      "cell_type": "code",
      "execution_count": 110,
      "metadata": {},
      "outputs": [
        {
          "name": "stdout",
          "output_type": "stream",
          "text": [
            "nxpdebugmbox -v -f rw612 -i pyocd dat auth -c inputs/dat_config_rw61x.yml \n",
            "\u001b[37m\u001b[1mINFO:spsdk.apps.nxpdebugmbox:Starting Debug Authentication\u001b[39m\u001b[0m\n",
            "  #   Interface   Id           Description             \n",
            "-------------------------------------------------------\n",
            "  0   PyOCD       1064263226   Segger J-Link MCU-Link  \n",
            "\u001b[37m\u001b[1mINFO:spsdk.debuggers.debug_probe_pyocd:PyOCD connected via J-Link MCU-Link probe.\u001b[39m\u001b[0m\n",
            "\u001b[37m\u001b[1mINFO:spsdk.apps.nxpdebugmbox:DAC: \n",
            "Version                : Version 2.0\n",
            "SOCC                   : 0x0000000A\n",
            "UUID                   : 38BA14AA5C6B44799B06289017A5CDF9\n",
            "CC_VU                  : 0\n",
            "ROTID_rkh_revocation   : E9C65090\n",
            "ROTID_rkth_hash        : dbfd36837c0ebe31e7fd8d861a20b4f7b3b7b013710465f95aa9518397507ea9\n",
            "CC_soc_pinned          : 00000100\n",
            "CC_soc_default         : 00000000\n",
            "Challenge              : 3d96b97767b9fd1312383563b945d78ba51c6d4bd7224cc8257263043b6a9d48\n",
            "\u001b[39m\u001b[0m\n",
            "\u001b[37m\u001b[1mINFO:spsdk.apps.nxpdebugmbox:DAR:\n",
            "DAC:\n",
            "Version                : Version 2.0\n",
            "SOCC                   : 0x0000000A\n",
            "UUID                   : 38BA14AA5C6B44799B06289017A5CDF9\n",
            "CC_VU                  : 0\n",
            "ROTID_rkh_revocation   : E9C65090\n",
            "ROTID_rkth_hash        : dbfd36837c0ebe31e7fd8d861a20b4f7b3b7b013710465f95aa9518397507ea9\n",
            "CC_soc_pinned          : 00000100\n",
            "CC_soc_default         : 00000000\n",
            "Challenge              : 3d96b97767b9fd1312383563b945d78ba51c6d4bd7224cc8257263043b6a9d48\n",
            "\n",
            "DC:\n",
            "Version : Version 2.0\n",
            "SOCC    : 0x0000000A\n",
            "UUID    : 00000000000000000000000000000000\n",
            "CC_SOCC : 0xfff\n",
            "CC_VU   : 0x0\n",
            "BEACON  : 0\n",
            "Number of records in flags: 1\n",
            "CRTK table not present \n",
            "CTRK hash   : dc41dd48d79b99ac8b91194483fc477c632d0b5632ae8a439476a98872971d3d\n",
            "\n",
            "Authentication Beacon: 0\n",
            "\u001b[39m\u001b[0m\n",
            "\u001b[37m\u001b[1mINFO:spsdk.debuggers.debug_probe_pyocd:PyOCD connected via J-Link MCU-Link probe.\u001b[39m\u001b[0m\n",
            "Debug Authentication ends successfully.\n"
          ]
        }
      ],
      "source": [
        "DAT_CONFIG = INPUTS + \"dat_config_rw61x.yml\"\n",
        "%! nxpdebugmbox -v -f $FAMILY -i $INTERFACE dat auth -c $DAT_CONFIG"
      ]
    },
    {
      "cell_type": "code",
      "execution_count": 111,
      "metadata": {},
      "outputs": [
        {
          "name": "stdout",
          "output_type": "stream",
          "text": [
            "nxpdebugmbox -f rw612 -i pyocd mem-tool test-connection \n",
            "  #   Interface   Id           Description             \n",
            "-------------------------------------------------------\n",
            "  0   PyOCD       1064263226   Segger J-Link MCU-Link  \n",
            "The device is accessible for debugging.\n"
          ]
        }
      ],
      "source": [
        "# check the device is accessible for debugging\n",
        "%! nxpdebugmbox -f $FAMILY -i $INTERFACE mem-tool test-connection"
      ]
    }
  ],
  "metadata": {
    "kernelspec": {
      "display_name": "venv",
      "language": "python",
      "name": "python3"
    },
    "language_info": {
      "codemirror_mode": {
        "name": "ipython",
        "version": 3
      },
      "file_extension": ".py",
      "mimetype": "text/x-python",
      "name": "python",
      "nbconvert_exporter": "python",
      "pygments_lexer": "ipython3",
      "version": "3.11.4"
    }
  },
  "nbformat": 4,
  "nbformat_minor": 2
}
