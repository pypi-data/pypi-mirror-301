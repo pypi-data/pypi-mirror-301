{
  "cells": [
    {
      "cell_type": "markdown",
      "metadata": {},
      "source": [
        "# RW61x Shadow Registers"
      ]
    },
    {
      "cell_type": "markdown",
      "metadata": {},
      "source": [
        "## Introduction\n",
        "The NXP tool, shadowregs (see <a href=\"https://spsdk.readthedocs.io/en/latest/apps/shadowregs.html\">User Guide</a>), control your OTP fuses during development or testing. It enables the creation of \"copies\" of OTP fuses in the form of shadow registers. After each power-on reset, these shadow registers are cleared, and the default OTP fuses are loaded. It's important to note two small limitations: the device must be in a lifecycle that supports shadow registers, and certain registers are not included in shadow registers."
      ]
    },
    {
      "cell_type": "markdown",
      "metadata": {},
      "source": [
        "## Supported Commands\n",
        "- fuses-script - Generate BLHOST script to burn up fuses in device by configuration.\n",
        "- get-template - Generate the template of Shadow registers YAML configuration file.\n",
        "- getreg - Print the current value of one shadow register.\n",
        "- loadconfig - Load new state of shadow registers from YAML file into micro controller.\n",
        "- printregs - Print all Shadow registers including theirs current values.\n",
        "- reset - Reset connected device.\n",
        "- saveconfig - Save current state of shadow registers to YAML file.\n",
        "- setreg - The command sets a value of one shadow register defined by parameter."
      ]
    },
    {
      "cell_type": "markdown",
      "metadata": {},
      "source": [
        "## Let's prepare the environment"
      ]
    },
    {
      "cell_type": "code",
      "execution_count": 1,
      "metadata": {},
      "outputs": [
        {
          "name": "stdout",
          "output_type": "stream",
          "text": [
            "env: JUPYTER_SPSDK=1\n",
            "Created `%!` as an alias for `%execute`.\n"
          ]
        }
      ],
      "source": [
        "%run ../../init_notebook.ipynb\n",
        "\n",
        "import os\n",
        "\n",
        "WORKSPACE = \"workspace/\"  # change this to path to your workspace\n",
        "INPUTS = \"inputs/\"\n",
        "\n",
        "# choose debug interface\n",
        "INTERFACE = \"pyocd\"\n",
        "# family\n",
        "FAMILY = \"rw612\""
      ]
    },
    {
      "cell_type": "markdown",
      "metadata": {},
      "source": [
        "## Device preparation\n",
        "- Have the device in debug mode.\n",
        "\n",
        "![RW61X-EVK](img/RW61X-EVK.png \"RW61X-EVK\")"
      ]
    },
    {
      "cell_type": "code",
      "execution_count": 2,
      "metadata": {},
      "outputs": [
        {
          "name": "stdout",
          "output_type": "stream",
          "text": [
            "nxpdebugmbox -f rw612 -i pyocd mem-tool test-connection \n",
            "  #   Interface   Id           Description             \n",
            "-------------------------------------------------------\n",
            "  0   PyOCD       1064263226   Segger J-Link MCU-Link  \n",
            "The device is accessible for debugging.\n"
          ]
        }
      ],
      "source": [
        "# check availability of debug probe\n",
        "%! nxpdebugmbox -f $FAMILY -i $INTERFACE mem-tool test-connection"
      ]
    },
    {
      "cell_type": "markdown",
      "metadata": {},
      "source": [
        "## Compare the current state of shadowregs with defaults\n",
        "- Verify that your shadow registers are in the default state."
      ]
    },
    {
      "cell_type": "code",
      "execution_count": 3,
      "metadata": {},
      "outputs": [
        {
          "name": "stdout",
          "output_type": "stream",
          "text": [
            "shadowregs -i pyocd -f rw612 saveconfig -o workspace/sr_diff_rw61x.yml -d \n",
            "  #   Interface   Id           Description             \n",
            "-------------------------------------------------------\n",
            "  0   PyOCD       1068491324   Segger J-Link MCU-Link  \n",
            "The Shadow registers has been saved into workspace/sr_diff_rw61x.yml YAML file\n"
          ]
        }
      ],
      "source": [
        "# save differences comparing to defaults\n",
        "SR_DIFF_PATH = os.path.join(WORKSPACE, \"sr_diff_rw61x.yml\")\n",
        "\n",
        "%! shadowregs -i $INTERFACE -f $FAMILY saveconfig -o $SR_DIFF_PATH -d"
      ]
    },
    {
      "cell_type": "code",
      "execution_count": 4,
      "metadata": {},
      "outputs": [
        {
          "name": "stdout",
          "output_type": "stream",
          "text": [
            "shadowregs -i pyocd -f rw612 reset \n",
            "  #   Interface   Id           Description             \n",
            "-------------------------------------------------------\n",
            "  0   PyOCD       1064263226   Segger J-Link MCU-Link  \n",
            "The target has been reset.\n"
          ]
        }
      ],
      "source": [
        "# optional but recommended: reset connected device\n",
        "%! shadowregs -i $INTERFACE -f $FAMILY reset"
      ]
    },
    {
      "cell_type": "markdown",
      "metadata": {},
      "source": [
        "## Generate shadowregs template"
      ]
    },
    {
      "cell_type": "code",
      "execution_count": 5,
      "metadata": {},
      "outputs": [
        {
          "name": "stdout",
          "output_type": "stream",
          "text": [
            "shadowregs -f rw612 get-template -o workspace/sr_template_default_rw61x.yml --force \n",
            "The Shadow registers template for rw612 has been saved into workspace\\sr_template_default_rw61x.yml YAML file\n"
          ]
        }
      ],
      "source": [
        "# generate the template of shadow registers\n",
        "SR_TEMPLATE_DEFAULT_PATH = os.path.join(WORKSPACE, \"sr_template_default_rw61x.yml\")\n",
        "%! shadowregs -f $FAMILY get-template -o $SR_TEMPLATE_DEFAULT_PATH --force\n",
        "assert os.path.exists(SR_TEMPLATE_DEFAULT_PATH)"
      ]
    },
    {
      "cell_type": "markdown",
      "metadata": {},
      "source": [
        "## Prepare shadowregs for dual boot\n",
        "In this section, one of the possible use cases of shadow registers will be presented.\n",
        "\n",
        "- Dual boot is normally not possible on RW61x devices without configuring the registers.\n",
        "- Dual boot represents the possibility to write two images and always boot the image that has the higher image version.\n",
        "\n",
        "<span style=\"color:red\">NOTICE: Switch the device to ISP mode (U38: OFF OFF OFF ON)!</span>"
      ]
    },
    {
      "cell_type": "code",
      "execution_count": 6,
      "metadata": {},
      "outputs": [],
      "source": [
        "SR_TEMPLATE_PATH = os.path.join(INPUTS, \"sr_template_rw61x.yml\")\n",
        "assert os.path.exists(SR_TEMPLATE_PATH)"
      ]
    },
    {
      "cell_type": "markdown",
      "metadata": {},
      "source": [
        "In our case, we modified these items in the shadow register configuration template:\n",
        "1. Choose Flex-SPI flash such as the primary boot source.\\\n",
        "    ![image-2.png](img/14_image-2.png)\n",
        "2. Disable the DICE computation.\\\n",
        "    ![image.png](img/14_image.png)\n",
        "3. Set the image offset.\\\n",
        "    ![image-3.png](img/14_image-3.png)\n",
        "4. Move the life cycle state to Develop2.\\\n",
        "    ![image-4.png](img/14_image-4.png)"
      ]
    },
    {
      "cell_type": "code",
      "execution_count": 7,
      "metadata": {},
      "outputs": [
        {
          "name": "stdout",
          "output_type": "stream",
          "text": [
            "nxpdevscan \n",
            "-------- Connected NXP USB Devices --------\n",
            "\n",
            "-------- Connected NXP UART Devices --------\n",
            "\n",
            "Port: COM12\n",
            "Type: mboot device\n",
            "\n",
            "-------- Connected NXP SIO Devices --------\n",
            "\n",
            "-------- Connected NXP UUU Devices --------\n",
            "\n"
          ]
        }
      ],
      "source": [
        "# list available connected devices\n",
        "%! nxpdevscan"
      ]
    },
    {
      "cell_type": "code",
      "execution_count": 8,
      "metadata": {},
      "outputs": [],
      "source": [
        "# choose com port for rw612\n",
        "UART_CONNECTION = \"-p com12\""
      ]
    },
    {
      "cell_type": "code",
      "execution_count": 9,
      "metadata": {},
      "outputs": [
        {
          "name": "stdout",
          "output_type": "stream",
          "text": [
            "blhost -p com12 fill-memory 0x2000F000 0x4 0xC0000008 \n",
            "Response status = 0 (0x0) Success.\n",
            "blhost -p com12 configure-memory 9 0x2000F000 \n",
            "Response status = 0 (0x0) Success.\n",
            "blhost -p com12 flash-erase-region 0x08000000 0x10000 \n",
            "Response status = 0 (0x0) Success.\n",
            "blhost -p com12 flash-erase-region 0x08040000 0x10000 \n",
            "Response status = 0 (0x0) Success.\n",
            "blhost -p com12 fill-memory 0x20001000 4 0xF000000F \n",
            "Response status = 0 (0x0) Success.\n",
            "blhost -p com12 configure-memory 9 0x20001000 \n",
            "Response status = 0 (0x0) Success.\n"
          ]
        }
      ],
      "source": [
        "# memory configuration\n",
        "FCB_PATH = os.path.join(INPUTS, \"converted_fcb.bin\")\n",
        "\n",
        "frdm_board = 1  # in case you are not using RW61x FRDM board, set the variable to 0\n",
        "\n",
        "if frdm_board:\n",
        "    %! blhost $UART_CONNECTION fill-memory 0x2000F000 0x4 0xC0000008\n",
        "else:\n",
        "    %! blhost $UART_CONNECTION fill-memory 0x2000F000 0x4 0xC0100008\n",
        "%! blhost $UART_CONNECTION configure-memory 9 0x2000F000\n",
        "%! blhost $UART_CONNECTION flash-erase-region 0x08000000 0x10000\n",
        "%! blhost $UART_CONNECTION flash-erase-region 0x08040000 0x10000\n",
        "%! blhost $UART_CONNECTION fill-memory 0x20001000 4 0xF000000F\n",
        "%! blhost $UART_CONNECTION configure-memory 9 0x20001000\n"
      ]
    },
    {
      "cell_type": "code",
      "execution_count": 10,
      "metadata": {},
      "outputs": [
        {
          "name": "stdout",
          "output_type": "stream",
          "text": [
            "blhost -p com12 write-memory 0x08000600 inputs/img_v0.bin \n",
            "Writing memory\n",
            "Response status = 0 (0x0) Success.\n",
            "Response word 1 = 4 (0x4)\n",
            "blhost -p com5 write-memory 0x08001000 inputs/mbi_crc_led_blinky.bin \n",
            "Writing memory\n",
            "Response status = 0 (0x0) Success.\n",
            "Response word 1 = 14008 (0x36b8)\n",
            "blhost -p com5 write-memory 0x08040600 inputs/img_v1.bin \n",
            "Writing memory\n",
            "Response status = 0 (0x0) Success.\n",
            "Response word 1 = 4 (0x4)\n",
            "blhost -p com5 write-memory 0x08041000 inputs/mbi_crc_hello_world.bin \n",
            "Writing memory\n",
            "Response status = 0 (0x0) Success.\n",
            "Response word 1 = 22044 (0x561c)\n"
          ]
        }
      ],
      "source": [
        "# write images and versions\n",
        "LED_BLINKY_PATH = os.path.join(INPUTS, \"mbi_crc_led_blinky.bin\")\n",
        "HELLO_WORLD_PATH = os.path.join(INPUTS, \"mbi_crc_hello_world.bin\")\n",
        "IMG_V0_PATH = os.path.join(INPUTS, \"img_v0.bin\")\n",
        "IMG_V1_PATH = os.path.join(INPUTS, \"img_v1.bin\")\n",
        "\n",
        "%! blhost $UART_CONNECTION write-memory 0x08000600 $IMG_V0_PATH\n",
        "%! blhost $UART_CONNECTION write-memory 0x08001000 $LED_BLINKY_PATH\n",
        "\n",
        "%! blhost $UART_CONNECTION write-memory 0x08040600 $IMG_V1_PATH\n",
        "%! blhost $UART_CONNECTION write-memory 0x08041000 $HELLO_WORLD_PATH"
      ]
    },
    {
      "cell_type": "code",
      "execution_count": 11,
      "metadata": {},
      "outputs": [
        {
          "name": "stdout",
          "output_type": "stream",
          "text": [
            "shadowregs -i pyocd -f rw612 loadconfig -c inputs/sr_template_rw61x.yml \n",
            "  #   Interface   Id           Description             \n",
            "-------------------------------------------------------\n",
            "  0   PyOCD       1068491324   Segger J-Link MCU-Link  \n",
            "\u001b[33mWARNING:spsdk.apps.shadowregs:Verification is not possible on the rw612, it won't be performed. (9397ms since start, shadowregs.py:212)\u001b[39m\n",
            "The Shadow registers has been loaded by configuration in inputs/sr_template_rw61x.yml YAML file\n"
          ]
        }
      ],
      "source": [
        "# load modified shadowregs\n",
        "%! shadowregs -i $INTERFACE -f $FAMILY loadconfig -c $SR_TEMPLATE_PATH"
      ]
    },
    {
      "cell_type": "code",
      "execution_count": 12,
      "metadata": {},
      "outputs": [
        {
          "name": "stdout",
          "output_type": "stream",
          "text": [
            "shadowregs -i pyocd -f rw612 reset \n",
            "  #   Interface   Id           Description             \n",
            "-------------------------------------------------------\n",
            "  0   PyOCD       1068491324   Segger J-Link MCU-Link  \n",
            "The target has been reset.\n"
          ]
        }
      ],
      "source": [
        "# reset the device and run image\n",
        "%! shadowregs -i $INTERFACE -f $FAMILY reset"
      ]
    }
  ],
  "metadata": {
    "kernelspec": {
      "display_name": "venv",
      "language": "python",
      "name": "python3"
    },
    "language_info": {
      "codemirror_mode": {
        "name": "ipython",
        "version": 3
      },
      "file_extension": ".py",
      "mimetype": "text/x-python",
      "name": "python",
      "nbconvert_exporter": "python",
      "pygments_lexer": "ipython3",
      "version": "3.11.9"
    },
    "mystnb": {
      "execution_mode": "off"
    }
  },
  "nbformat": 4,
  "nbformat_minor": 2
}
