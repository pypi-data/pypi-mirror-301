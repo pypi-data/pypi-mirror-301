{
  "cells": [
    {
      "cell_type": "markdown",
      "id": "67234d8f",
      "metadata": {},
      "source": [
        "## RW61x Bootable Image"
      ]
    },
    {
      "cell_type": "markdown",
      "id": "255bfb0f",
      "metadata": {},
      "source": [
        "## Let's prepare the environment"
      ]
    },
    {
      "cell_type": "code",
      "execution_count": 32,
      "id": "071d29a3",
      "metadata": {},
      "outputs": [
        {
          "name": "stdout",
          "output_type": "stream",
          "text": [
            "env: JUPYTER_SPSDK=1\n",
            "Created `%!` as an alias for `%execute`.\n"
          ]
        }
      ],
      "source": [
        "%run ../../init_notebook.ipynb\n",
        "\n",
        "import pprint\n",
        "\n",
        "pp = pprint.PrettyPrinter(indent=4)\n",
        "\n",
        "WORKSPACE = \"workspace/\"  # change this to path to your workspace\n",
        "INPUTS = \"inputs/\"\n",
        "\n",
        "# choose debug interface\n",
        "INTERFACE = \"pyocd\"\n",
        "# choose family\n",
        "FAMILY = \"rw612\""
      ]
    },
    {
      "cell_type": "markdown",
      "id": "26dacf4b",
      "metadata": {},
      "source": [
        "## Device preparation\n",
        "\n",
        "Now it's time to prepare the device. In this example we will use FRDM-RW612 board.\n",
        "\n",
        "![frdm-rw612](img/frdm-rw612.jpg \"frdm-rw612\")"
      ]
    },
    {
      "cell_type": "markdown",
      "id": "9b508d5f",
      "metadata": {},
      "source": [
        "Prepare device and use app *nxpdevscan* to check if the device is connected to the PC in ISP mode. The *nxpdevscan* must shown connected UART device with type \"mboot\" device. In following example the *nxpdebugmbox* is used to force device to ISP mode."
      ]
    },
    {
      "cell_type": "code",
      "execution_count": 33,
      "id": "53cc9444",
      "metadata": {},
      "outputs": [
        {
          "name": "stdout",
          "output_type": "stream",
          "text": [
            "nxpdebugmbox -f rw612 cmd ispmode -m 1 \n",
            "  #   Interface   Id           Description             \n",
            "-------------------------------------------------------\n",
            "  0   PyOCD       1064263226   Segger J-Link MCU-Link  \n",
            "Entering into ISP mode succeeded\n",
            "nxpdevscan \n",
            "-------- Connected NXP USB Devices --------\n",
            "\n",
            "-------- Connected NXP UART Devices --------\n",
            "\n",
            "Port: COM115\n",
            "Type: mboot device\n",
            "\n",
            "-------- Connected NXP SIO Devices --------\n",
            "\n",
            "-------- Connected NXP UUU Devices --------\n",
            "\n"
          ]
        }
      ],
      "source": [
        "# force device to ISP mode\n",
        "%! nxpdebugmbox -i $INTERFACE -f $FAMILY cmd ispmode -m 1\n",
        "# check if the device is connected and detected by PC\n",
        "%! nxpdevscan"
      ]
    },
    {
      "cell_type": "code",
      "execution_count": 34,
      "id": "10187f27",
      "metadata": {},
      "outputs": [],
      "source": [
        "# determine the interface connection based on the result from nxpdevscan\n",
        "UART = \"-p COM115\""
      ]
    },
    {
      "cell_type": "code",
      "execution_count": 35,
      "id": "4eb5d79c",
      "metadata": {},
      "outputs": [
        {
          "name": "stdout",
          "output_type": "stream",
          "text": [
            "blhost -p COM115 get-property 1 \n",
            "Response status = 0 (0x0) Success.\n",
            "Response word 1 = 1258488064 (0x4b030100)\n",
            "Current Version = K3.1.0\n"
          ]
        }
      ],
      "source": [
        "# check if the board responds in ISP mode\n",
        "%! blhost $UART get-property 1"
      ]
    },
    {
      "cell_type": "markdown",
      "id": "0239be3a",
      "metadata": {},
      "source": [
        "## MBI generation"
      ]
    },
    {
      "cell_type": "code",
      "execution_count": 36,
      "id": "15221e26",
      "metadata": {},
      "outputs": [
        {
          "name": "stdout",
          "output_type": "stream",
          "text": [
            "nxpimage mbi get-templates -f rw612 -o workspace/configs/ --force \n",
            "Creating workspace\\configs\\rw612_xip_plain.yaml template file.\n",
            "Creating workspace\\configs\\rw612_xip_crc.yaml template file.\n",
            "Creating workspace\\configs\\rw612_xip_signed.yaml template file.\n",
            "Creating workspace\\configs\\rw612_load_to_ram_plain.yaml template file.\n",
            "Creating workspace\\configs\\rw612_load_to_ram_crc.yaml template file.\n",
            "Creating workspace\\configs\\rw612_load_to_ram_signed.yaml template file.\n"
          ]
        }
      ],
      "source": [
        "%! nxpimage mbi get-templates -f $FAMILY -o workspace/configs/ --force"
      ]
    },
    {
      "cell_type": "code",
      "execution_count": 37,
      "id": "00a429c4",
      "metadata": {},
      "outputs": [
        {
          "name": "stdout",
          "output_type": "stream",
          "text": [
            "nxpimage mbi export -c inputs/rw61x_xip_plain.yaml \n",
            "Success. (Master Boot Image: workspace\\outputs\\mbi.bin created.)\n"
          ]
        }
      ],
      "source": [
        "# Modify the mbi config yaml file accordingly and saved it. It will be exported to binary file.\n",
        "%! nxpimage mbi export -c inputs/rw61x_xip_plain.yaml"
      ]
    },
    {
      "cell_type": "markdown",
      "id": "f391c805",
      "metadata": {},
      "source": [
        "## MERGE BOOTABLE IMAGE"
      ]
    },
    {
      "cell_type": "code",
      "execution_count": 38,
      "id": "57ba1fcc",
      "metadata": {},
      "outputs": [
        {
          "name": "stdout",
          "output_type": "stream",
          "text": [
            "nxpimage bootable-image get-templates -f rw612 -o workspace/configs/ --force \n",
            "Creating workspace/configs/bootimg_rw612_internal.yaml template file.\n",
            "Creating workspace/configs/bootimg_rw612_flexspi_nor.yaml template file.\n"
          ]
        }
      ],
      "source": [
        "# Get templates for bootable image\n",
        "%! nxpimage bootable-image get-templates -f $FAMILY -o workspace/configs/ --force"
      ]
    },
    {
      "cell_type": "code",
      "execution_count": 39,
      "id": "a5d82858",
      "metadata": {},
      "outputs": [
        {
          "name": "stdout",
          "output_type": "stream",
          "text": [
            "nxpimage bootable-image merge -c inputs/bootimg_rw61x_flexspi_nor.yaml -o workspace/outputs/bootable_image.bin \n",
            "Success. (Bootable Image: workspace\\outputs\\bootable_image.bin created) \n"
          ]
        }
      ],
      "source": [
        "# Modified the bootimg_rw61x_flexspi_nor.yaml file and referenced the FCB binary/FCB yaml config and the MBI to create the bootable image\n",
        "%! nxpimage bootable-image merge -c inputs/bootimg_rw61x_flexspi_nor.yaml -o workspace/outputs/bootable_image.bin"
      ]
    },
    {
      "cell_type": "markdown",
      "id": "bdae5d64",
      "metadata": {},
      "source": [
        "## Running image"
      ]
    },
    {
      "cell_type": "code",
      "execution_count": 40,
      "id": "673ea43d",
      "metadata": {},
      "outputs": [
        {
          "name": "stdout",
          "output_type": "stream",
          "text": [
            "nxpmemcfg parse --family rw612 --force --peripheral flexspi_nor --option-word 0xC0000008 --output workspace/outputs/mem_cfg.yaml \n",
            "Parsed option words has been stored: workspace/outputs/mem_cfg.yaml\n",
            "nxpmemcfg blhost-script --force --config workspace/outputs/mem_cfg.yaml --output workspace/outputs/script.txt --fcb inputs/fcb.bin \n",
            "\u001b[33mWARNING:spsdk.memcfg.memcfg:FCB block read back script has been generated. Be aware that s 4KB block at base address will be erased to avoid cumulative write! (221ms since start, memcfg.py:422)\u001b[39m\n",
            "Exported blhost script.\n",
            "blhost -p COM115 batch workspace/outputs/script.txt \n",
            "Response status = 0 (0x0) Success.\n",
            "Response status = 0 (0x0) Success.\n",
            "Response status = 0 (0x0) Success.\n",
            "Response status = 0 (0x0) Success.\n",
            "Response status = 0 (0x0) Success.\n",
            "Reading memory\n",
            "Response status = 0 (0x0) Success.\n",
            "Response word 1 = 512 (0x200)\n",
            "Read 512 of 512 bytes.\n",
            "blhost -p COM115 flash-erase-region 0x08000000 0x10000 \n",
            "Response status = 0 (0x0) Success.\n",
            "blhost -p COM115 write-memory 0x08000000 workspace/outputs/bootable_image.bin \n",
            "Writing memory\n",
            "Response status = 0 (0x0) Success.\n",
            "Response word 1 = 22340 (0x5744)\n",
            "shadowregs -i pyocd -f rw612 loadconfig -c inputs/shadow.yaml \n",
            "  #   Interface   Id           Description             \n",
            "-------------------------------------------------------\n",
            "  0   PyOCD       1064263226   Segger J-Link MCU-Link  \n",
            "\u001b[33mWARNING:spsdk.apps.shadowregs:Verification is not possible on the rw612, it won't be performed. (3207ms since start, shadowregs.py:212)\u001b[39m\n",
            "The Shadow registers has been loaded by configuration in inputs/shadow.yaml YAML file\n",
            "shadowregs -i pyocd -f rw612 reset \n",
            "  #   Interface   Id           Description             \n",
            "-------------------------------------------------------\n",
            "  0   PyOCD       1064263226   Segger J-Link MCU-Link  \n",
            "The target has been reset.\n"
          ]
        }
      ],
      "source": [
        "# Memory configuration\n",
        "%! nxpmemcfg parse --family rw612 --force --peripheral flexspi_nor --option-word 0xC0000008 --output workspace/outputs/mem_cfg.yaml\n",
        "%! nxpmemcfg blhost-script --force --config workspace/outputs/mem_cfg.yaml --output workspace/outputs/script.txt --fcb inputs/fcb.bin\n",
        "%! blhost $UART batch workspace/outputs/script.txt\n",
        "\n",
        "# Erase memory\n",
        "%! blhost $UART flash-erase-region 0x08000000 0x10000\n",
        "# Write\n",
        "%! blhost $UART write-memory 0x08000000 workspace/outputs/bootable_image.bin\n",
        "\n",
        "# Write the shadow registers and reset\n",
        "%! shadowregs -i $INTERFACE -f $FAMILY loadconfig -c inputs/shadow.yaml\n",
        "%! shadowregs -i $INTERFACE -f $FAMILY reset"
      ]
    },
    {
      "cell_type": "markdown",
      "id": "6c0c4d46",
      "metadata": {},
      "source": [
        "## Final result\n",
        "\n",
        "The Board should blinky with blue on board LED."
      ]
    }
  ],
  "metadata": {
    "kernelspec": {
      "display_name": "Python 3 (ipykernel)",
      "language": "python",
      "name": "python3"
    },
    "language_info": {
      "codemirror_mode": {
        "name": "ipython",
        "version": 3
      },
      "file_extension": ".py",
      "mimetype": "text/x-python",
      "name": "python",
      "nbconvert_exporter": "python",
      "pygments_lexer": "ipython3",
      "version": "3.11.4"
    },
    "vscode": {
      "interpreter": {
        "hash": "d5e0f87fcc7d0ff610cd767a84182d144c2afe86a7d796bf62603cfbcb08ace6"
      }
    }
  },
  "nbformat": 4,
  "nbformat_minor": 5
}
