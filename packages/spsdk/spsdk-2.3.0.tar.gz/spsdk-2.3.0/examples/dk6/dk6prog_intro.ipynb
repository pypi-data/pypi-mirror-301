{
 "cells": [
  {
   "attachments": {},
   "cell_type": "markdown",
   "metadata": {},
   "source": [
    "# DK6 Programming tool\n",
    "\n",
    "DK6 Programming tool also known as DK6Prog is an alternative tool to \"JN51xx Production Flash Programmer\" (https://www.nxp.com/docs/en/user-guide/JN-UG-3099.pdf). DK6Prog is part of the SPSDK and written in Python. DK6 is a name that was given to development kit for K32W, JN51xx and QN90xx devices. (https://www.nxp.com/products/wireless/multiprotocol-mcus/advanced-development-kit-for-k32w061-and-jn5189-88:IOTZTB-DK006)\n",
    "\n",
    "DK6 development kit is utilizing FTDI chip for sending ISP sequence in GPIO bitbang mode.\n",
    "\n",
    "> **_NOTE:_** Before running this Notebook, please make sure to install DK6 support in SPSDK: *pip install -e \".[dk6]\"*\n",
    "\n",
    "## Backends\n",
    "User might select between four backends that will be used for communication. \n",
    "\n",
    "- PYFTDI is a pure Python implementation of libFTDI. (https://eblot.github.io/pyftdi/index.html). Default selection for Linux and MacOS\n",
    "- PYLIBFTDI is a Ctypes wrapper for libFTDI (https://pypi.org/project/pylibftdi/), which is an open source implementation of FTDI D2xx driver.\n",
    "- FTD2XX is a Ctypes wrapper for official FTDI D2XX library. Default selecltion for Windows\n",
    "- PYSERIAL is meant for pure UART communication, bitbang mode is not supported.\n",
    "\n",
    "Backends are selected with *-b* or *--backend* option.\n",
    "\n",
    "## DK6 Board overview\n",
    "![image.png](image.png)\n",
    "\n",
    "## CLI operations\n",
    "\n",
    "1. Connect the USB cable to *FTDI USB* slot.\n",
    "2. Connect JP7 and JP4 to UART0 - FTDI\n",
    "3. Issue *dk6prog listdev* optionally with the *-b* option to select the backend\n",
    "4. Get the DEVICE ID\n",
    "5. Issue any command specifying DEVICE ID with *-d* parameter\n",
    "\n"
   ]
  },
  {
   "cell_type": "code",
   "execution_count": 3,
   "metadata": {},
   "outputs": [
    {
     "name": "stdout",
     "output_type": "stream",
     "text": [
      "env: JUPYTER_SPSDK=1\n",
      "Created `%!` as an alias for `%execute`.\n",
      "dk6prog  listdev \n",
      "\n",
      "This is an experimental utility. Use with caution!\n",
      "\n",
      "List of available devices:\n",
      "DEVICE ID: 0, VID: 0x0, PID: 0x0, Serial number: b'DN03TBTK', Description: b'DK6 Carrier Board', Address: 67330069, Backend: Backend.FTD2xx\n"
     ]
    }
   ],
   "source": [
    "%run ../init_notebook.ipynb\n",
    "\n",
    "DEVICE_ID = 0\n",
    "NO_VERBOSE = \"\"\n",
    "VERBOSE = \"-v\"\n",
    "DEBUG = \"-vv\"\n",
    "VERBOSITY = NO_VERBOSE\n",
    "\n",
    "# Get the device ID\n",
    "%! dk6prog $VERBOSITY listdev"
   ]
  },
  {
   "attachments": {},
   "cell_type": "markdown",
   "metadata": {},
   "source": [
    "## ISP Protocol\n",
    "\n",
    "- ISP sequence is controlled by FTDI CBUS pins in bitbang mode (or\n",
    "manually with ISP button)\n",
    "-  Memory must be open in desired access mode before reading/writing\n",
    "-  Default 115200 baud rate 8N1, no ABR (support up to 1 MBd)\n",
    "-  ISP authentication (Signed unlock key n=288), Authenticated\n",
    "commands not implemented (SHA-256 + signature)\n",
    "- Encrypted transfer AES-CTR – not implemented\n",
    "\n",
    "## Memory operations\n",
    "What's supported:\n",
    "\n",
    "- Read – read to file, stdout\n",
    "- Write – write to file, stdout\n",
    "- Erase – erase and check if memory is erased\n",
    "- Info – info about chip, memories, etc.\n",
    "- Command chaining – multiple commands might be chained\n",
    "\n",
    "At first, let's print the memory map of the device using the *info* command and see what's available.\n",
    "\n"
   ]
  },
  {
   "cell_type": "code",
   "execution_count": 4,
   "metadata": {},
   "outputs": [
    {
     "name": "stdout",
     "output_type": "stream",
     "text": [
      "dk6prog -d 0  info \n",
      "\n",
      "This is an experimental utility. Use with caution!\n",
      "\n",
      "Chip ID: 0x88888888\n",
      "ROM Version: 0x0\n",
      "MAC Address: 9A:13:1F:03:00:8D:15:00\n",
      "\n",
      "Detected DEVICE: 0\n",
      "\n",
      "  Memory   Memory ID   Base Address   Length    Sector Size   Memory Type   Access  \n",
      "------------------------------------------------------------------------------------\n",
      "  FLASH    0           0x0            0x9de00   0x200         FLASH         ALL     \n",
      "  PSECT    1           0x0            0x1e0     0x10          FLASH         ALL     \n",
      "  pFLASH   2           0x0            0x1e0     0x10          FLASH         ALL     \n",
      "  Config   3           0x9fc00        0x200     0x200         FLASH         ALL     \n",
      "  EFUSE    4           0x0            0x80      0x2           EFUSE (OTP)   WRITE   \n",
      "  ROM      5           0x3000000      0x20000   0x1           ROM           WRITE   \n",
      "  RAM0     6           0x4000000      0x16000   0x1           RAM           WRITE   \n",
      "  RAM1     7           0x4020000      0x10000   0x1           RAM           WRITE   \n"
     ]
    }
   ],
   "source": [
    "%! dk6prog -d $DEVICE_ID $VERBOSITY info"
   ]
  },
  {
   "cell_type": "code",
   "execution_count": 12,
   "metadata": {},
   "outputs": [
    {
     "name": "stdout",
     "output_type": "stream",
     "text": [
      "dk6prog  -d 0 read 0x96000 8 FLASH \n",
      "\n",
      "This is an experimental utility. Use with caution!\n",
      "\n",
      "Reading memory\n",
      "Read 8/8 bytes from 0x96000:0x96008 Memory ID: FLASH\n",
      "de ad de ad de ad de ad\n",
      "dk6prog  -d 0 read -o data.bin 0x96000 8 FLASH \n",
      "\n",
      "This is an experimental utility. Use with caution!\n",
      "\n",
      "Reading memory\n",
      "Read 8/8 bytes from 0x96000:0x96008 Memory ID: FLASH\n",
      "Writing data to data.bin\n",
      "dk6prog  -d 0 erase 0x96000 8 FLASH \n",
      "\n",
      "This is an experimental utility. Use with caution!\n",
      "\n",
      "Erasing memory\n",
      "dk6prog  -d 0 write 0x96000 [[123456789abcdef0]] 8 FLASH \n",
      "\n",
      "This is an experimental utility. Use with caution!\n",
      "\n",
      "Writing memory\n",
      "Writen 8 bytes to memory ID FLASH at address 0x96000\n",
      "dk6prog  -d 0 read 0x96000 8 FLASH \n",
      "\n",
      "This is an experimental utility. Use with caution!\n",
      "\n",
      "Reading memory\n",
      "Read 8/8 bytes from 0x96000:0x96008 Memory ID: FLASH\n",
      "12 34 56 78 9a bc de f0\n",
      "dk6prog  -d 0 erase 0x96000 8 FLASH \n",
      "\n",
      "This is an experimental utility. Use with caution!\n",
      "\n",
      "Erasing memory\n"
     ]
    }
   ],
   "source": [
    "# read 8 bytes from flash at addr 0x96000\n",
    "%! dk6prog $VERBOSITY -d $DEVICE_ID read 0x96000 8 FLASH\n",
    "# read data to file\n",
    "%! dk6prog $VERBOSITY -d $DEVICE_ID read -o data.bin 0x96000 8 FLASH\n",
    "# erase 8 bytes from flash\n",
    "%! dk6prog $VERBOSITY -d $DEVICE_ID erase 0x96000 8 FLASH\n",
    "# writes data to flash, read it and erase them\n",
    "%! dk6prog $VERBOSITY -d $DEVICE_ID write 0x96000 [[123456789abcdef0]] 8 FLASH\n",
    "%! dk6prog $VERBOSITY -d $DEVICE_ID read 0x96000 8 FLASH\n",
    "%! dk6prog $VERBOSITY -d $DEVICE_ID erase 0x96000 8 FLASH"
   ]
  },
  {
   "attachments": {},
   "cell_type": "markdown",
   "metadata": {},
   "source": []
  }
 ],
 "metadata": {
  "kernelspec": {
   "display_name": "venv",
   "language": "python",
   "name": "python3"
  },
  "language_info": {
   "codemirror_mode": {
    "name": "ipython",
    "version": 3
   },
   "file_extension": ".py",
   "mimetype": "text/x-python",
   "name": "python",
   "nbconvert_exporter": "python",
   "pygments_lexer": "ipython3",
   "version": "3.11.4"
  },
  "orig_nbformat": 4,
  "vscode": {
   "interpreter": {
    "hash": "7e49b31b08ee6a6d8509263078c11b076a18c33ce0e89644813165ae065c47df"
   }
  }
 },
 "nbformat": 4,
 "nbformat_minor": 2
}
