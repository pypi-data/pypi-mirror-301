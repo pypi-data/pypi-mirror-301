{
  "cells": [
    {
      "cell_type": "markdown",
      "metadata": {},
      "source": [
        "# i.MXRT118x Debug Authentication example\n",
        "I.MX RT118x offers the Debug Authentication Protocol (DAP) as a mechanism to authenticate the debugger (an external entity) which has the credentials approved by the product manufacturer before granting the debug access to the device. This example demonstrates process how to establish Debug Authentication protocol.\n",
        "\n",
        "The process could be split into following steps:"
      ]
    },
    {
      "cell_type": "markdown",
      "metadata": {},
      "source": [
        "## Introduction\n",
        "The fundamental principles of debugging, which require access to the system state and system information, conflict with the principles of security, which require the restriction of access to assets. Thus, many products disable debug access completely before deploying the product. To address these challenges, the chip offers a debug authentication protocol as a mechanism to authenticate the debugger (an external entity) has the credentials approved by the product manufacturer before granting debug access to the device.\n",
        "The debug authentication is a challenge-response scheme and assures that only the debugger in possession of the required debug credentials can successfully authenticate over the debug interface and access restricted parts of the device. "
      ]
    },
    {
      "cell_type": "markdown",
      "metadata": {},
      "source": [
        "The protocol is divided into steps as described below:\n",
        "1. The debugger initiates the Debug Mailbox message exchange by setting the CSW[RESYNCH_REQ] bit and\n",
        "CSW[CHIP_RESET_REQ] bit of DM-AP.\n",
        "2. The debugger waits (minimum 30 ms) for the devices to restart and enter debug mailbox request handling loop.\n",
        "3. The debugger sends Debug Authentication Start command (command code 10h) to the device.\n",
        "4. The device responds back with Debug Authentication Challenge (DAC) packet based on the debug access rights preconfigured in CMPA fields, which are collectively referred as Device Credential Constraints Configuration (DCFG_CC).\n",
        "The response packet also contains a 32 bytes random challenge vector.\n",
        "5. The debugger responds to the challenge with a Debug Authentication Response (DAR) message by using an\n",
        "appropriate debug certificate, matching the device identifier in the DAC. The DAR packet contains the debug access\n",
        "permission certificate, also referred as Debug Credential (DC), and a cryptographic signature binding the DC and the\n",
        "challenge vector provided in the DAC.\n",
        "6. The device on receiving the DAR, validates the contents by verifying the cryptographic signature of the message using\n",
        "the debugger's public key present in the embedded the Debug Credential (DC). On successful validation of DAR, the\n",
        "device enables access to the debug domains permitted in the DC"
      ]
    },
    {
      "cell_type": "markdown",
      "metadata": {},
      "source": [
        "![debug_authentication_flow](img/debug_authentication_flow.PNG \"debug_authentication_flow.PNG\")"
      ]
    },
    {
      "cell_type": "markdown",
      "metadata": {},
      "source": [
        "### Prepare the Environment"
      ]
    },
    {
      "cell_type": "code",
      "execution_count": 1,
      "metadata": {},
      "outputs": [
        {
          "name": "stdout",
          "output_type": "stream",
          "text": [
            "env: JUPYTER_SPSDK=1\n",
            "Created `%!` as an alias for `%execute`.\n"
          ]
        }
      ],
      "source": [
        "%run ../init_notebook.ipynb\n",
        "\n",
        "import os\n",
        "import pprint\n",
        "\n",
        "pp = pprint.PrettyPrinter(indent=4)\n",
        "\n",
        "WORKSPACE = \"workspace/\"  # change this to path to your workspace\n",
        "INPUTS = \"inputs/\"\n",
        "VERBOSITY = (\n",
        "    \"-v\"  # verbosity of commands, might be -v or -vv for debug or blank for no additional info\n",
        ")\n",
        "\n",
        "DBGMAILBOX_TEMPLATE = (\n",
        "    WORKSPACE + \"nxpdebugmbox_template.yaml\"\n",
        ")  # Template for debug mailbox configuration\n",
        "DBGMAILBOX_DC_TEMPLATE = (\n",
        "    WORKSPACE + \"nxpdebugmbox_dc_template.yaml\"\n",
        ")  # Template for debug credential file configuration\n",
        "DBGMAILBOX_CONFIG = (\n",
        "    INPUTS + \"nxpdebugmbox_rt118x.yaml\"\n",
        ")  # yaml file with configuration used in this example\n",
        "DBGMAILBOX_DC_CONFIG = (\n",
        "    INPUTS + \"nxpdebugmbox_dc_rt118x.yaml\"\n",
        ")  # yaml file with configuration used in this example for debug credential file\n",
        "\n",
        "# DEBUGGER_PROBE = \"pyocd\" #onboard debugger on EVK-RT118x rev C\n",
        "DEBUGGER_PROBE = \"pyocd\"\n",
        "# Only one probe can be connected to the board.\n",
        "\n",
        "FAMILY = \"-f mimxrt1189\""
      ]
    },
    {
      "cell_type": "markdown",
      "metadata": {},
      "source": [
        "### EVK Board Overview\n",
        "The following picture describes connector placement of RT1180 EVK.\n",
        "![Signing key and used SRK definition](img/evk-1.png \"signing key\")"
      ]
    },
    {
      "cell_type": "markdown",
      "metadata": {},
      "source": [
        "The Enablement process could be split into following steps:"
      ]
    },
    {
      "cell_type": "markdown",
      "metadata": {},
      "source": [
        "### 1. Generate Keys\n",
        "The AHAB is using asymmetric algorithm for image authentication which requires keys generated according to PKI for operation. One of the generated private key must be also used to sing Debug Credential file. Another key pair which must be generated for this example is Debug credential keys (DCKPriv/Pub). The example uses pre-generated ECC-256 SRK and DCK keys. To generate your own keys please refer to [How-to-get-keys-using-nxpcrypto](../general/crypto.ipynb) example."
      ]
    },
    {
      "cell_type": "markdown",
      "metadata": {},
      "source": [
        "### 2. Create Debug Credential file."
      ]
    },
    {
      "cell_type": "markdown",
      "metadata": {},
      "source": [
        "#### 2.1 Create a template file"
      ]
    },
    {
      "cell_type": "code",
      "execution_count": 2,
      "metadata": {},
      "outputs": [
        {
          "name": "stdout",
          "output_type": "stream",
          "text": [
            "nxpdebugmbox -f mimxrt1189 dat dc get-template --force -o workspace/nxpdebugmbox_dc_template.yaml \n",
            "The Debug Credentials template for mimxrt1189 has been saved into             workspace\\nxpdebugmbox_dc_template.yaml YAML file\n"
          ]
        }
      ],
      "source": [
        "# Generate template\n",
        "%! nxpdebugmbox $FAMILY dat dc get-template --force -o $DBGMAILBOX_DC_TEMPLATE"
      ]
    },
    {
      "cell_type": "markdown",
      "metadata": {},
      "source": [
        "#### 2.2 Update template to implement desired functionality and add reference to specific keys.\n",
        "This yaml file must be used to generate Debug Credential file. The OEM is must do it as posses the RoT private keys. Field technician must provide his DCK public key to OEM. The resulting yaml file is available in the \"inputs\" folder. The figures below illustrates which entries were changed.\n"
      ]
    },
    {
      "cell_type": "markdown",
      "metadata": {},
      "source": [
        "I. The template file uses zeroized UUID. To create a debug credential file for specific par run the \"get-uuid\" command listed below and replace to zeros at the UUID field by the UUID value returned by the command in the yaml file.\n",
        "Vendor usage and cc beacon is not demonstrated in this example.\n",
        "\n",
        "![Key modification](img/debug_uath-1.png \"key modification\")"
      ]
    },
    {
      "cell_type": "markdown",
      "metadata": {},
      "source": [
        "Connect debug probe into the connector.\n",
        "To read UUID the following command has to be activated (# must be removed)."
      ]
    },
    {
      "cell_type": "code",
      "execution_count": 3,
      "metadata": {},
      "outputs": [],
      "source": [
        "# Check the nxp debug mailbox tool\n",
        "# %! nxpdebugmbox $FAMILY -i $DEBUGGER_PROBE tool get-uuid"
      ]
    },
    {
      "cell_type": "markdown",
      "metadata": {},
      "source": [
        "\n",
        "\n",
        "II. Keys must be modified in the file. This example uses pregenerated keys. To Generate custom key, please refer to the example: [How-to-get-keys-using-nxpcrypto](../general/get_keys.ipynb). \n",
        "Reference to RoT public keys, Signing RoT private key (index 1), and DCK public key must be modified in the template file.\n",
        "\n",
        "\n",
        "![Key modification](img/debug_uath-2.png \"key modification\")"
      ]
    },
    {
      "cell_type": "code",
      "execution_count": 4,
      "metadata": {},
      "outputs": [
        {
          "name": "stdout",
          "output_type": "stream",
          "text": [
            "nxpdebugmbox -f mimxrt1189 -v dat dc export -c inputs/nxpdebugmbox_dc_rt118x.yaml -o workspace/rt118x_256.dc --force \n",
            "\u001b[37m\u001b[1mINFO:spsdk.apps.nxpdebugmbox:Loading configuration from yml file...\u001b[39m\u001b[0m\n",
            "\u001b[37m\u001b[1mINFO:spsdk.dat.debug_credential:Protocol version not defined. The version 2.0 has been determined from RoT public key\u001b[39m\u001b[0m\n",
            "\u001b[37m\u001b[1mINFO:spsdk.apps.nxpdebugmbox:Creating ECC debug credential object...\u001b[39m\u001b[0m\n",
            "RKTH: cb2cc774b2dcec92c840eca0646b78f8d3661d3a43ed265a490a13aca75e190a\n",
            "\u001b[37m\u001b[1mINFO:spsdk.apps.nxpdebugmbox:Saving the debug credential to a file: workspace/rt118x_256.dc\u001b[39m\u001b[0m\n",
            "Creating Debug credential file succeeded\n"
          ]
        }
      ],
      "source": [
        "# Create Debug Credential file\n",
        "\n",
        "# Debug Credential file as output of\n",
        "DC_FILE_OUT = WORKSPACE + \"rt118x_256.dc\"\n",
        "\n",
        "# Assert os.path.exists(DBGMAILBOX_CONFIG)\n",
        "assert os.path.isfile(DBGMAILBOX_DC_CONFIG)\n",
        "\n",
        "%! nxpdebugmbox $FAMILY -v dat dc export -c $DBGMAILBOX_DC_CONFIG -o $DC_FILE_OUT --force\n",
        "\n",
        "# Assert os.path.exists(DC_FILE_OUT)\n",
        "assert os.path.isfile(DC_FILE_OUT)"
      ]
    },
    {
      "cell_type": "markdown",
      "metadata": {},
      "source": [
        "#### 3 Run debug authentication procedure\n",
        "\n",
        "To proper run debug authentication procedure a tiny configuration file is needed that specify the data from in-field technician. The resulting yaml file is available in the \"inputs\" folder. The figures below illustrates which entries were changed. \n",
        "\n",
        "#### 3.1 Create a template file"
      ]
    },
    {
      "cell_type": "code",
      "execution_count": 5,
      "metadata": {},
      "outputs": [
        {
          "name": "stdout",
          "output_type": "stream",
          "text": [
            "nxpdebugmbox -f mimxrt1189 dat get-template --force -o workspace/nxpdebugmbox_template.yaml \n",
            "Creating workspace\\nxpdebugmbox_template.yaml template file.\n"
          ]
        }
      ],
      "source": [
        "# Generate template\n",
        "%! nxpdebugmbox $FAMILY dat get-template --force -o $DBGMAILBOX_TEMPLATE"
      ]
    },
    {
      "attachments": {},
      "cell_type": "markdown",
      "metadata": {},
      "source": [
        "#### 3.2 Update template to implement desired functionality and add reference to specific keys.\n",
        "This yaml file must be used to run Debug Authentication process (there could be different configuration for different devices). In our case we should do just two changes in template configuration file. The resulting yaml file is available in the \"inputs\" folder. The figures below illustrates which entries were changed.\n",
        "\n",
        "1: Provide valid path to debug credential file:\n",
        "\n",
        "![Changed the debug credential path](img/dc_path_change.png)\n",
        "\n",
        "2: Provide path to used Debug credential file private key (Must match to public key stored in debug credential file signed by OEM root keys). In our case we don't use a signature provider, so the configuration of signature provider is erased.\n",
        "\n",
        "![Change path to DCK private key and erase signature provider.png](img/dck_private_kay_path.png)\n",
        "\n",
        "This changes are enough to do proper debug authentication procedure on mimxrt1189 device.\n"
      ]
    },
    {
      "cell_type": "code",
      "execution_count": 6,
      "metadata": {},
      "outputs": [
        {
          "name": "stdout",
          "output_type": "stream",
          "text": [
            "nxpdebugmbox -f mimxrt1189 -i pyocd -v dat auth -c inputs/nxpdebugmbox_rt118x.yaml \n",
            "\u001b[37m\u001b[1mINFO:spsdk.apps.nxpdebugmbox:Starting Debug Authentication\u001b[39m\u001b[0m\n",
            "  #   Interface   Id          Description                 \n",
            "----------------------------------------------------------\n",
            "  0   PyOCD       851002903   Segger J-Link Compact PLUS  \n",
            "\u001b[37m\u001b[1mINFO:spsdk.debuggers.debug_probe_pyocd:PyOCD connected via J-Link Compact PLUS probe.\u001b[39m\u001b[0m\n",
            "\u001b[37m\u001b[1mINFO:spsdk.apps.nxpdebugmbox:DAC: \n",
            "Version                : Version 2.0\n",
            "SOCC                   : 0x5254049C\n",
            "UUID                   : C8BDB7562AFA425B9528F5D63EB4125E\n",
            "CC_VU                  : 0\n",
            "ROTID_rkh_revocation   : 00000000\n",
            "ROTID_rkth_hash        : cb2cc774b2dcec92c840eca0646b78f8d3661d3a43ed265a490a13aca75e190a\n",
            "CC_soc_pinned          : 00FFFFF0\n",
            "CC_soc_default         : 00000000\n",
            "Challenge              : 2503a87dc8636eef9c488fa23347b8c0bf9d8894dfb908cbdd7a047ba830c857\n",
            "\u001b[39m\u001b[0m\n",
            "\u001b[37m\u001b[1mINFO:spsdk.apps.nxpdebugmbox:DAR:\n",
            "DAC:\n",
            "Version                : Version 2.0\n",
            "SOCC                   : 0x5254049C\n",
            "UUID                   : C8BDB7562AFA425B9528F5D63EB4125E\n",
            "CC_VU                  : 0\n",
            "ROTID_rkh_revocation   : 00000000\n",
            "ROTID_rkth_hash        : cb2cc774b2dcec92c840eca0646b78f8d3661d3a43ed265a490a13aca75e190a\n",
            "CC_soc_pinned          : 00FFFFF0\n",
            "CC_soc_default         : 00000000\n",
            "Challenge              : 2503a87dc8636eef9c488fa23347b8c0bf9d8894dfb908cbdd7a047ba830c857\n",
            "\n",
            "DC:\n",
            "Version : Version 2.0\n",
            "SOCC    : 0x5254049C\n",
            "UUID    : 00000000000000000000000000000000\n",
            "CC_SOCC : 0xfffff0\n",
            "CC_VU   : 0x0\n",
            "BEACON  : 0\n",
            "Number of records in flags: 4\n",
            "SRK table has 4 entries\n",
            "CTRK hash   : cb2cc774b2dcec92c840eca0646b78f8d3661d3a43ed265a490a13aca75e190a\n",
            "\n",
            "Authentication Beacon: 0\n",
            "\u001b[39m\u001b[0m\n",
            "\u001b[37m\u001b[1mINFO:spsdk.debuggers.debug_probe_pyocd:PyOCD connected via J-Link Compact PLUS probe.\u001b[39m\u001b[0m\n",
            "Debug Authentication ends successfully.\n"
          ]
        }
      ],
      "source": [
        "# Assert os.path.exists(DCK_KEY_PRIV)\n",
        "assert os.path.isfile(DBGMAILBOX_CONFIG)\n",
        "\n",
        "# Unlock the Debug Authentication\n",
        "%! nxpdebugmbox $FAMILY -i $DEBUGGER_PROBE -v dat auth -c $DBGMAILBOX_CONFIG"
      ]
    },
    {
      "cell_type": "code",
      "execution_count": 7,
      "metadata": {},
      "outputs": [
        {
          "name": "stdout",
          "output_type": "stream",
          "text": [
            "nxpdebugmbox -f mimxrt1189 -i pyocd mem-tool test-connection \n",
            "  #   Interface   Id          Description                 \n",
            "----------------------------------------------------------\n",
            "  0   PyOCD       851002903   Segger J-Link Compact PLUS  \n",
            "The device is accessible for debugging.\n"
          ]
        }
      ],
      "source": [
        "# Test if debug access works\n",
        "# Do not call if you want to debug in IDE\n",
        "%! nxpdebugmbox $FAMILY -i $DEBUGGER_PROBE mem-tool test-connection"
      ]
    }
  ],
  "metadata": {
    "kernelspec": {
      "display_name": "Python 3 (ipykernel)",
      "language": "python",
      "name": "python3"
    },
    "language_info": {
      "codemirror_mode": {
        "name": "ipython",
        "version": 3
      },
      "file_extension": ".py",
      "mimetype": "text/x-python",
      "name": "python",
      "nbconvert_exporter": "python",
      "pygments_lexer": "ipython3",
      "version": "3.11.4"
    }
  },
  "nbformat": 4,
  "nbformat_minor": 4
}
