{
  "cells": [
    {
      "cell_type": "markdown",
      "metadata": {},
      "source": [
        "# i.MX RT118x External Memory Configuration with SPSDK\n",
        "\n",
        "#### This notebook shows how an external memory can be configured using the SPSDK. All of the commands executed in the interactive cells can be run from a normal CMD or PowerShell as well."
      ]
    },
    {
      "cell_type": "markdown",
      "metadata": {},
      "source": [
        "## 1. Prepare the environment\n",
        "\n",
        "#### Run the code below to initialize parametrs for the script:"
      ]
    },
    {
      "cell_type": "code",
      "execution_count": 1,
      "metadata": {},
      "outputs": [
        {
          "name": "stdout",
          "output_type": "stream",
          "text": [
            "env: JUPYTER_SPSDK=1\n",
            "Created `%!` as an alias for `%execute`.\n"
          ]
        }
      ],
      "source": [
        "%run ../init_notebook.ipynb\n",
        "\n",
        "import os\n",
        "import pprint\n",
        "\n",
        "from IPython.display import Code\n",
        "\n",
        "pp = pprint.PrettyPrinter(indent=4)\n",
        "\n",
        "WORKSPACE = \"workspace/\"  # change this to path to your workspace\n",
        "INPUTS = \"inputs/\"\n",
        "VERBOSITY = (\n",
        "    \"-v\"  # verbosity of commands, might be -v or -vv for debug or blank for no additional info\n",
        ")\n",
        "\n",
        "FLASHLOADER_FILE = \"../flashloader/ahab/workspace/flashloader.bin\"  # Path to Flashloader\n",
        "CFG_MEM_FILE = WORKSPACE + \"config_mem.bls\"  # Configure memory template\n",
        "CUSTOM_CFG_MEM_FILE = WORKSPACE + \"custom_config_mem.bls\"  # Configure memory template\n",
        "FCB_FILE = WORKSPACE + \"fcb.bin\"  # Firmware Configuration block file\n",
        "CUSTOM_FCB_FILE = WORKSPACE + \"custom_fcb.bin\"  # Firmware Configuration block file"
      ]
    },
    {
      "attachments": {},
      "cell_type": "markdown",
      "metadata": {},
      "source": [
        "#### Generate a flashloader binary\n",
        "We will need program our boards with a flashloader binary to be able to send blhost commands to it. To get such a binary, we can use the [signed_flashloader notebook](../flashloader/ahab/rt118x_signed_flashloader.ipynb). The details are out of scope for this session, so just open the [signed_flashloader notebook](../flashloader/ahab/rt118x_signed_flashloader.ipynb), use the \"Run All Cells\" option and close it again.\n",
        "\n",
        "![Run All Cells](./img/run_all_cells.png \"run all cells\")"
      ]
    },
    {
      "cell_type": "markdown",
      "metadata": {},
      "source": [
        "## 2. Connect your board to you PC. Use both the Debug USB Port and USB OTG1 port and set the board to SDP mode."
      ]
    },
    {
      "cell_type": "markdown",
      "metadata": {},
      "source": [
        "### EVK Board Overview\n",
        "\n",
        "Configure Boot Mode Switch to SDP: 1-OFF, 2-OFF, 3-OFF, 4-ON\\\n",
        "Connect your board to your PC via a micro USB using the USB OTG1 port - J33\\\n",
        "Connect your board to your PC via a micro USB using the Debug USB port - J53\n",
        "\n",
        "#### *The following picture describes connector placement of RT1180 EVK:*\n",
        "![Signing key and used SRK definition](img/evk-1.png \"signing key\")"
      ]
    },
    {
      "cell_type": "markdown",
      "metadata": {},
      "source": [
        "## 3. Scan for available devices with **nxpdevscan**, connect to the i.MX RT1180 and load a flashloader into it using **blhost**"
      ]
    },
    {
      "cell_type": "markdown",
      "metadata": {},
      "source": [
        "#### Call **nxpdevscan --help** to get a list of options supported by **nxpdevscan**:"
      ]
    },
    {
      "cell_type": "code",
      "execution_count": 2,
      "metadata": {},
      "outputs": [
        {
          "name": "stdout",
          "output_type": "stream",
          "text": [
            "nxpdevscan --help \n",
            "Usage: nxpdevscan [OPTIONS]\n",
            "\n",
            "  Utility listing all connected NXP USB and UART devices.\n",
            "\n",
            "  NOTE: This utility lists all NXPs USB and UART devices connected to the\n",
            "  host. By default it scans UART devices by pinging them (sending the mboot or\n",
            "  SDP command). This however causes that the device ISP mode is locked to\n",
            "  UART. Use the -n/--no-scan option to disable this behavior. If you want to\n",
            "  only scan for NXP UART devices, use the --nxp option.\n",
            "\n",
            "Options:\n",
            "  -e, --extend-vids TEXT          VID in hex to extend search.\n",
            "  -o, --output FILENAME\n",
            "  -n, --no-scan                   Do not scan UART devices by pinging them.\n",
            "  --nxp                           Scan only NXP UART devices.\n",
            "  Narrow down the scope of scanning: [mutually_exclusive]\n",
            "    -a, --all                     Search for all NXP devices (default)\n",
            "    -u, --usb                     Search only for USB devices\n",
            "    -sd, --sdio                   Search only for SDIO devices\n",
            "    -p, --port                    Search only for UART devices\n",
            "    -l, --lpcusbsio               Search only for USBSIO devices\n",
            "  -v, --verbose                   Print more detailed information\n",
            "  -vv, --debug                    Display more debugging information.\n",
            "  --version                       Show the version and exit.\n",
            "  --help                          Show this message and exit.\n"
          ]
        }
      ],
      "source": [
        "%! nxpdevscan --help"
      ]
    },
    {
      "cell_type": "code",
      "execution_count": 3,
      "metadata": {},
      "outputs": [
        {
          "name": "stdout",
          "output_type": "stream",
          "text": [
            "nxpdevscan \n",
            "-------- Connected NXP USB Devices --------\n",
            "\n",
            "MCU-LINK NXP TRACE - NXP Semiconductors\n",
            "Vendor ID: 0x1fc9\n",
            "Product ID: 0x0143\n",
            "Path: HID\\VID_1FC9&PID_0143&MI_01\\A&BEC7DF5&0&0000\n",
            "Path Hash: 884d05f8\n",
            "Name: k32w1xx | kw45xx | mcxw71xx\n",
            "Serial number: 5RR4XWAAQLSBP\n",
            "\n",
            "USB COMPOSITE DEVICE - FREESCALE SEMICONDUCTOR INC.\n",
            "Vendor ID: 0x15a2\n",
            "Product ID: 0x0073\n",
            "Path: HID\\VID_15A2&PID_0073\\A&B33C6E3&0&0000\n",
            "Path Hash: 29fa2649\n",
            "Name: rt118x | rt1010 | rt102x | mwct2xxxs | rt1015 | rt105x | rt106x | rt104x | rt117x | rt116x\n",
            "Serial number: \n",
            "\n",
            "-------- Connected NXP UART Devices --------\n",
            "\n",
            "Port: COM13\n",
            "Type: mboot device\n",
            "\n",
            "-------- Connected NXP SIO Devices --------\n",
            "\n"
          ]
        }
      ],
      "source": [
        "%! nxpdevscan"
      ]
    },
    {
      "cell_type": "markdown",
      "metadata": {},
      "source": [
        "#### The Vendor and Product ID values of the **OO Blank RT Family - NXP SEMICONDUCTORS** are the default values for the boot ROM.\n",
        "\n",
        "#### Store them in a variable for later use:"
      ]
    },
    {
      "cell_type": "code",
      "execution_count": 5,
      "metadata": {},
      "outputs": [],
      "source": [
        "COMPAR = \"-u\"  # USB\n",
        "BLHOST_CONNECT_ROM = \"0x1fc9,0x014c\"  # PID/VID of ROM"
      ]
    },
    {
      "cell_type": "markdown",
      "metadata": {},
      "source": [
        "&nbsp;\n",
        "### Reset your board by pressing the **SW3** button. This is necessary because calling **nxpdevscan** causes the boot ROM to stop being visible. You can test this by executing the **nxpdevscan** cell one more time.\n",
        "&nbsp;"
      ]
    },
    {
      "cell_type": "markdown",
      "metadata": {},
      "source": [
        "#### Ping the boot ROM via **blhost**:"
      ]
    },
    {
      "cell_type": "code",
      "execution_count": 6,
      "metadata": {},
      "outputs": [
        {
          "name": "stdout",
          "output_type": "stream",
          "text": [
            "blhost -u 0x1fc9,0x014c get-property 1 \n",
            "Response status = 0 (0x0) Success.\n",
            "Response word 1 = 1258487809 (0x4b030001)\n",
            "Current Version = K3.0.1\n"
          ]
        }
      ],
      "source": [
        "%! blhost $COMPAR $BLHOST_CONNECT_ROM get-property 1"
      ]
    },
    {
      "cell_type": "markdown",
      "metadata": {},
      "source": [
        "#### Load a flashloader image into the device:"
      ]
    },
    {
      "cell_type": "code",
      "execution_count": 7,
      "metadata": {},
      "outputs": [
        {
          "name": "stdout",
          "output_type": "stream",
          "text": [
            "blhost -u 0x1fc9,0x014c load-image ../flashloader/ahab/workspace/flashloader.bin \n",
            "Loading image\n",
            "Response status = 0 (0x0) Success.\n"
          ]
        }
      ],
      "source": [
        "from time import sleep\n",
        "\n",
        "assert os.path.exists(FLASHLOADER_FILE)\n",
        "\n",
        "%! blhost $COMPAR $BLHOST_CONNECT_ROM load-image $FLASHLOADER_FILE\n",
        "sleep(3)  # wait for device"
      ]
    },
    {
      "cell_type": "markdown",
      "metadata": {},
      "source": [
        "#### Call **nxpdevscan** again to get the Value and Product ID of the flashloader:"
      ]
    },
    {
      "cell_type": "code",
      "execution_count": 8,
      "metadata": {},
      "outputs": [
        {
          "name": "stdout",
          "output_type": "stream",
          "text": [
            "nxpdevscan \n",
            "-------- Connected NXP USB Devices --------\n",
            "\n",
            "MCU-LINK NXP TRACE - NXP Semiconductors\n",
            "Vendor ID: 0x1fc9\n",
            "Product ID: 0x0143\n",
            "Path: HID\\VID_1FC9&PID_0143&MI_01\\A&BEC7DF5&0&0000\n",
            "Path Hash: 884d05f8\n",
            "Name: mcxw71xx | k32w1xx | kw45xx\n",
            "Serial number: 5RR4XWAAQLSBP\n",
            "\n",
            "USB COMPOSITE DEVICE - FREESCALE SEMICONDUCTOR INC.\n",
            "Vendor ID: 0x15a2\n",
            "Product ID: 0x0073\n",
            "Path: HID\\VID_15A2&PID_0073\\A&B33C6E3&0&0000\n",
            "Path Hash: 29fa2649\n",
            "Name: rt102x | rt118x | rt106x | rt117x | rt105x | rt104x | rt1015 | rt116x | mwct2xxxs | rt1010\n",
            "Serial number: \n",
            "\n",
            "-------- Connected NXP UART Devices --------\n",
            "\n",
            "Port: COM13\n",
            "Type: mboot device\n",
            "\n",
            "-------- Connected NXP SIO Devices --------\n",
            "\n"
          ]
        }
      ],
      "source": [
        "%! nxpdevscan"
      ]
    },
    {
      "cell_type": "markdown",
      "metadata": {},
      "source": [
        "#### Store the values in a variable again:"
      ]
    },
    {
      "cell_type": "code",
      "execution_count": 9,
      "metadata": {},
      "outputs": [],
      "source": [
        "BLHOST_CONNECT_FLDR = \"0x15A2,0x0073\"  # PID/VID of NXP Flashloader"
      ]
    },
    {
      "cell_type": "markdown",
      "metadata": {},
      "source": [
        "&nbsp;\n",
        "### Reset your board by pressing the **SW3** button. This is necessary because calling **nxpdevscan** causes the flashloader to stop being visible as well. You can test this by executing the **nxpdevscan** cell one more time.\n",
        "&nbsp;"
      ]
    },
    {
      "cell_type": "markdown",
      "metadata": {},
      "source": [
        "#### **Reload the flashloader** to be able to continue:"
      ]
    },
    {
      "cell_type": "code",
      "execution_count": 10,
      "metadata": {},
      "outputs": [
        {
          "name": "stdout",
          "output_type": "stream",
          "text": [
            "blhost -u 0x1fc9,0x014c load-image ../flashloader/ahab/workspace/flashloader.bin \n",
            "Loading image\n",
            "Response status = 0 (0x0) Success.\n"
          ]
        }
      ],
      "source": [
        "%! blhost $COMPAR $BLHOST_CONNECT_ROM load-image $FLASHLOADER_FILE\n",
        "sleep(3)  # wait for device"
      ]
    },
    {
      "cell_type": "markdown",
      "metadata": {},
      "source": [
        "#### Ping the flashloader to double check everything worked correctly:"
      ]
    },
    {
      "cell_type": "code",
      "execution_count": 11,
      "metadata": {},
      "outputs": [
        {
          "name": "stdout",
          "output_type": "stream",
          "text": [
            "blhost -v -u 0x15A2,0x0073 get-property 1 \n",
            "\u001b[37m\u001b[1mINFO:spsdk.mboot.mcuboot:Connect: identifier='usb', device=USB COMPOSITE DEVICE (0x15A2, 0x0073)path=b'\\\\\\\\?\\\\hid#vid_15a2&pid_0073#a&b33c6e3&0&0000#{4d1e55b2-f16f-11cf-88cb-001111000030}' sn=''\u001b[39m\u001b[0m\n",
            "\u001b[37m\u001b[1mINFO:spsdk.mboot.mcuboot:CMD: GetProperty(CurrentVersion, index=0)\u001b[39m\u001b[0m\n",
            "\u001b[37m\u001b[1mINFO:spsdk.mboot.mcuboot:CMD: Status: 0 (0x0) Success.\u001b[39m\u001b[0m\n",
            "Response status = 0 (0x0) Success.\n",
            "Response word 1 = 1258424320 (0x4b020800)\n",
            "Current Version = K2.8.0\n",
            "\u001b[37m\u001b[1mINFO:spsdk.mboot.mcuboot:Closing: identifier='usb', device=USB COMPOSITE DEVICE (0x15A2, 0x0073)path=b'\\\\\\\\?\\\\hid#vid_15a2&pid_0073#a&b33c6e3&0&0000#{4d1e55b2-f16f-11cf-88cb-001111000030}' sn=''\u001b[39m\u001b[0m\n"
          ]
        }
      ],
      "source": [
        "%! blhost $VERBOSITY $COMPAR $BLHOST_CONNECT_FLDR get-property 1"
      ]
    },
    {
      "cell_type": "markdown",
      "metadata": {},
      "source": [
        "#### Check the enabled flashloader commands:"
      ]
    },
    {
      "cell_type": "code",
      "execution_count": 12,
      "metadata": {},
      "outputs": [
        {
          "name": "stdout",
          "output_type": "stream",
          "text": [
            "blhost -u 0x15A2,0x0073 get-property 7 \n",
            "Response status = 0 (0x0) Success.\n",
            "Response word 1 = 25530335 (0x1858fdf)\n",
            "Available Commands = ['FlashEraseAll', 'FlashEraseRegion', 'ReadMemory', 'WriteMemory', 'FillMemory', 'GetProperty', 'ReceiveSBFile', 'Execute', 'Call', 'Reset', 'SetProperty', 'FlashReadResource', 'ConfigureMemory', 'GenerateKeyBlob', 'UpdateLifeCycle', 'EleMessage']\n"
          ]
        }
      ],
      "source": [
        "%! blhost $COMPAR $BLHOST_CONNECT_FLDR get-property 7"
      ]
    },
    {
      "cell_type": "markdown",
      "metadata": {},
      "source": [
        "## 4. Generate a blhost script for memory configuration using **nxpmemcfg**"
      ]
    },
    {
      "cell_type": "markdown",
      "metadata": {},
      "source": [
        "#### Call **nxpmemcfg** or **nxpmemcfg --help** to get a list of options and sub-commands supported by **nxpmemcfg**"
      ]
    },
    {
      "cell_type": "code",
      "execution_count": 13,
      "metadata": {
        "editable": true,
        "slideshow": {
          "slide_type": ""
        },
        "tags": []
      },
      "outputs": [
        {
          "name": "stdout",
          "output_type": "stream",
          "text": [
            "nxpmemcfg \n",
            "Usage: nxpmemcfg [OPTIONS] COMMAND [ARGS]...\n",
            "\n",
            "  Collection of utilities for memory configuration operations.\n",
            "\n",
            "Options:\n",
            "  -v, --verbose  Print more detailed information\n",
            "  -vv, --debug   Display more debugging information.\n",
            "  --version      Show the version and exit.\n",
            "  --help         Show this message and exit.\n",
            "\n",
            "Commands:\n",
            "  nxpmemcfg          Collection of utilities for memory configuration operations.\n",
            "  ├── blhost-script  Export the configuration option words to blhost script.\n",
            "  ├── export         Export the configuration option words from configuration.\n",
            "  ├── family-info    List known memory configurations for the family.\n",
            "  ├── get-templates  Create template of Memory option words in YAML format.\n",
            "  └── parse          Parse the existing memory configuration option words.\n"
          ]
        }
      ],
      "source": [
        "%! nxpmemcfg"
      ]
    },
    {
      "cell_type": "markdown",
      "metadata": {
        "editable": true,
        "slideshow": {
          "slide_type": ""
        },
        "tags": []
      },
      "source": [
        "#### Call **nxpmemcfg blhost-script** or **nxpmemcfg blhost-script --help** to get a list of options supported by **nxpmemcfg blhost-script**:"
      ]
    },
    {
      "cell_type": "code",
      "execution_count": 14,
      "metadata": {
        "editable": true,
        "slideshow": {
          "slide_type": ""
        },
        "tags": []
      },
      "outputs": [
        {
          "name": "stdout",
          "output_type": "stream",
          "text": [
            "nxpmemcfg blhost-script \n",
            "Usage: nxpmemcfg blhost-script [OPTIONS]\n",
            "\n",
            "  Export the configuration option words to blhost script.\n",
            "\n",
            "Options:\n",
            "  Known chip select. Alternative to known chip is YAML configuration '-c': [all_or_none]\n",
            "    -f, --family [lpc5502|lpc5504|lpc5506|lpc5512..., and more. Use 'get-families' command to show all.]\n",
            "                                  Select the chip family.\n",
            "    -m, --memory-chip TEXT        Select supported memory chip name. Use\n",
            "                                  family-info command to get the known names.\n",
            "    -i, --interface TEXT          Select supported memory chip interface. Use\n",
            "                                  family-info command to get the known\n",
            "                                  interfaces.\n",
            "  -c, --config FILE               Option word configuration YAML file, in case\n",
            "                                  that known chip has not been used\n",
            "  -ix, --instance INTEGER         Instance of peripheral if applicable\n",
            "  --fcb PATH                      Optional filename of FCB block generated by\n",
            "                                  HW and read back to PC. Be aware that script\n",
            "                                  will contain also erase of 4KB on base\n",
            "                                  address.\n",
            "  --secure-addresses              If defined, the secure address will be used\n",
            "                                  in case of generating FCB block.\n",
            "  -o, --output FILE               Name of BLHOST script. If not specified, the\n",
            "                                  script will be printed to command line\n",
            "  --force                         Force overwriting of existing files.\n",
            "  --help                          Show this message and exit.\n"
          ]
        }
      ],
      "source": [
        "%! nxpmemcfg blhost-script"
      ]
    },
    {
      "cell_type": "markdown",
      "metadata": {},
      "source": [
        "#### As you can see, there are several parameters we will need to be able to generate the blhost-script:\n",
        "- f: device family, we will choose mimxrt1189\n",
        "- m: memory chip, we need to find out the correct name\n",
        "- i: memory interface, we need to find out the correct name\n",
        "- ix: peripheral instance index, we need to find out the correct value\n",
        "- o and fcb output file paths are up to our choice. This was configured in the first step into the CFG_MEM_FILE and FCB_FILE variables.\n",
        "\n",
        "#### Call **nxpmemcfg family-info** to check the known memories and their default configurations:"
      ]
    },
    {
      "cell_type": "code",
      "execution_count": 15,
      "metadata": {
        "editable": true,
        "scrolled": true,
        "slideshow": {
          "slide_type": ""
        },
        "tags": []
      },
      "outputs": [
        {
          "name": "stdout",
          "output_type": "stream",
          "text": [
            "nxpmemcfg family-info \n",
            "List of all supported peripherals and its instances:\n",
            "\u2554\u2550\u2550\u2550\u2550\u2566\u2550\u2550\u2550\u2550\u2550\u2550\u2550\u2550\u2550\u2550\u2550\u2550\u2566\u2550\u2550\u2550\u2550\u2550\u2550\u2550\u2550\u2550\u2550\u2550\u2550\u2550\u2566\u2550\u2550\u2550\u2550\u2550\u2550\u2550\u2550\u2550\u2550\u2550\u2550\u2550\u2550\u2566\u2550\u2550\u2550\u2550\u2550\u2550\u2550\u2550\u2550\u2550\u2566\u2550\u2550\u2550\u2550\u2550\u2550\u2550\u2550\u2550\u2550\u2550\u2566\u2550\u2550\u2550\u2550\u2550\u2550\u2550\u2550\u2550\u2550\u2550\u2550\u2550\u2550\u2550\u2550\u2550\u2550\u2550\u2550\u2550\u2550\u2550\u2550\u2550\u2550\u2566\u2550\u2550\u2550\u2550\u2550\u2550\u2550\u2550\u2566\u2550\u2550\u2550\u2550\u2550\u2550\u2550\u2550\u2557\n",
            "\u2551 #  \u2551   Family   \u2551 flexspi_nor \u2551 flexspi_nand \u2551 semc_nor \u2551 semc_nand \u2551         spi_nor          \u2551  mmc   \u2551   sd   \u2551\n",
            "\u2560\u2550\u2550\u2550\u2550\u256c\u2550\u2550\u2550\u2550\u2550\u2550\u2550\u2550\u2550\u2550\u2550\u2550\u256c\u2550\u2550\u2550\u2550\u2550\u2550\u2550\u2550\u2550\u2550\u2550\u2550\u2550\u256c\u2550\u2550\u2550\u2550\u2550\u2550\u2550\u2550\u2550\u2550\u2550\u2550\u2550\u2550\u256c\u2550\u2550\u2550\u2550\u2550\u2550\u2550\u2550\u2550\u2550\u256c\u2550\u2550\u2550\u2550\u2550\u2550\u2550\u2550\u2550\u2550\u2550\u256c\u2550\u2550\u2550\u2550\u2550\u2550\u2550\u2550\u2550\u2550\u2550\u2550\u2550\u2550\u2550\u2550\u2550\u2550\u2550\u2550\u2550\u2550\u2550\u2550\u2550\u2550\u256c\u2550\u2550\u2550\u2550\u2550\u2550\u2550\u2550\u256c\u2550\u2550\u2550\u2550\u2550\u2550\u2550\u2550\u2563\n",
            "\u2551 0  \u2551  lpc5502   \u2551     N/A     \u2551     N/A      \u2551   N/A    \u2551    N/A    \u2551           [3]            \u2551  N/A   \u2551  N/A   \u2551\n",
            "\u2551 1  \u2551  lpc5504   \u2551     N/A     \u2551     N/A      \u2551   N/A    \u2551    N/A    \u2551           [3]            \u2551  N/A   \u2551  N/A   \u2551\n",
            "\u2551 2  \u2551  lpc5506   \u2551     N/A     \u2551     N/A      \u2551   N/A    \u2551    N/A    \u2551           [3]            \u2551  N/A   \u2551  N/A   \u2551\n",
            "\u2551 3  \u2551  lpc5512   \u2551     N/A     \u2551     N/A      \u2551   N/A    \u2551    N/A    \u2551           [3]            \u2551  N/A   \u2551  N/A   \u2551\n",
            "\u2551 4  \u2551  lpc5514   \u2551     N/A     \u2551     N/A      \u2551   N/A    \u2551    N/A    \u2551           [3]            \u2551  N/A   \u2551  N/A   \u2551\n",
            "\u2551 5  \u2551  lpc5516   \u2551     N/A     \u2551     N/A      \u2551   N/A    \u2551    N/A    \u2551           [3]            \u2551  N/A   \u2551  N/A   \u2551\n",
            "\u2551 6  \u2551  lpc5526   \u2551     N/A     \u2551     N/A      \u2551   N/A    \u2551    N/A    \u2551           [3]            \u2551  N/A   \u2551  N/A   \u2551\n",
            "\u2551 7  \u2551  lpc5528   \u2551     N/A     \u2551     N/A      \u2551   N/A    \u2551    N/A    \u2551           [3]            \u2551  N/A   \u2551  N/A   \u2551\n",
            "\u2551 8  \u2551  lpc55s04  \u2551     N/A     \u2551     N/A      \u2551   N/A    \u2551    N/A    \u2551           [3]            \u2551  N/A   \u2551  N/A   \u2551\n",
            "\u2551 9  \u2551  lpc55s06  \u2551     N/A     \u2551     N/A      \u2551   N/A    \u2551    N/A    \u2551           [3]            \u2551  N/A   \u2551  N/A   \u2551\n",
            "\u2551 10 \u2551  lpc55s14  \u2551     N/A     \u2551     N/A      \u2551   N/A    \u2551    N/A    \u2551           [3]            \u2551  N/A   \u2551  N/A   \u2551\n",
            "\u2551 11 \u2551  lpc55s16  \u2551     N/A     \u2551     N/A      \u2551   N/A    \u2551    N/A    \u2551           [3]            \u2551  N/A   \u2551  N/A   \u2551\n",
            "\u2551 12 \u2551  lpc55s26  \u2551     N/A     \u2551     N/A      \u2551   N/A    \u2551    N/A    \u2551           [3]            \u2551  N/A   \u2551  N/A   \u2551\n",
            "\u2551 13 \u2551  lpc55s28  \u2551     N/A     \u2551     N/A      \u2551   N/A    \u2551    N/A    \u2551           [3]            \u2551  N/A   \u2551  N/A   \u2551\n",
            "\u2551 14 \u2551  lpc55s36  \u2551     Yes     \u2551     N/A      \u2551   N/A    \u2551    N/A    \u2551       [0, 1, 3, 8]       \u2551  N/A   \u2551  N/A   \u2551\n",
            "\u2551 15 \u2551  lpc55s66  \u2551     N/A     \u2551     N/A      \u2551   N/A    \u2551    N/A    \u2551           [3]            \u2551  N/A   \u2551  N/A   \u2551\n",
            "\u2551 16 \u2551  lpc55s69  \u2551     N/A     \u2551     N/A      \u2551   N/A    \u2551    N/A    \u2551           [3]            \u2551  N/A   \u2551  N/A   \u2551\n",
            "\u2551 17 \u2551  mcxn235   \u2551     N/A     \u2551     N/A      \u2551   N/A    \u2551    N/A    \u2551           [7]            \u2551  N/A   \u2551  N/A   \u2551\n",
            "\u2551 18 \u2551  mcxn236   \u2551     N/A     \u2551     N/A      \u2551   N/A    \u2551    N/A    \u2551           [7]            \u2551  N/A   \u2551  N/A   \u2551\n",
            "\u2551 19 \u2551 mimxrt1010 \u2551     Yes     \u2551     N/A      \u2551   N/A    \u2551    N/A    \u2551           N/A            \u2551  N/A   \u2551  N/A   \u2551\n",
            "\u2551 20 \u2551 mimxrt1015 \u2551     Yes     \u2551     Yes      \u2551   N/A    \u2551    N/A    \u2551       [1, 2, 3, 4]       \u2551  N/A   \u2551  N/A   \u2551\n",
            "\u2551 21 \u2551 mimxrt1020 \u2551     Yes     \u2551     Yes      \u2551   Yes    \u2551    Yes    \u2551       [1, 2, 3, 4]       \u2551 [1, 2] \u2551 [1, 2] \u2551\n",
            "\u2551 22 \u2551 mimxrt1024 \u2551     Yes     \u2551     Yes      \u2551   Yes    \u2551    Yes    \u2551       [1, 2, 3, 4]       \u2551 [1, 2] \u2551 [1, 2] \u2551\n",
            "\u2551 23 \u2551 mimxrt1040 \u2551     Yes     \u2551     Yes      \u2551   Yes    \u2551    Yes    \u2551       [1, 2, 3, 4]       \u2551 [1, 2] \u2551 [1, 2] \u2551\n",
            "\u2551 24 \u2551 mimxrt1050 \u2551     Yes     \u2551     Yes      \u2551   Yes    \u2551    Yes    \u2551       [1, 2, 3, 4]       \u2551 [1, 2] \u2551 [1, 2] \u2551\n",
            "\u2551 25 \u2551 mimxrt1060 \u2551    [1, 2]   \u2551     Yes      \u2551   Yes    \u2551    Yes    \u2551       [1, 2, 3, 4]       \u2551 [1, 2] \u2551 [1, 2] \u2551\n",
            "\u2551 26 \u2551 mimxrt1064 \u2551     Yes     \u2551     Yes      \u2551   Yes    \u2551    Yes    \u2551       [1, 2, 3, 4]       \u2551 [1, 2] \u2551 [1, 2] \u2551\n",
            "\u2551 27 \u2551 mimxrt1165 \u2551    [1, 2]   \u2551    [1, 2]    \u2551   Yes    \u2551    Yes    \u2551       [1, 2, 3, 4]       \u2551 [1, 2] \u2551 [1, 2] \u2551\n",
            "\u2551 28 \u2551 mimxrt1166 \u2551    [1, 2]   \u2551    [1, 2]    \u2551   Yes    \u2551    Yes    \u2551       [1, 2, 3, 4]       \u2551 [1, 2] \u2551 [1, 2] \u2551\n",
            "\u2551 29 \u2551 mimxrt1171 \u2551    [1, 2]   \u2551    [1, 2]    \u2551   Yes    \u2551    Yes    \u2551       [1, 2, 3, 4]       \u2551 [1, 2] \u2551 [1, 2] \u2551\n",
            "\u2551 30 \u2551 mimxrt1172 \u2551    [1, 2]   \u2551    [1, 2]    \u2551   Yes    \u2551    Yes    \u2551       [1, 2, 3, 4]       \u2551 [1, 2] \u2551 [1, 2] \u2551\n",
            "\u2551 31 \u2551 mimxrt1173 \u2551    [1, 2]   \u2551    [1, 2]    \u2551   Yes    \u2551    Yes    \u2551       [1, 2, 3, 4]       \u2551 [1, 2] \u2551 [1, 2] \u2551\n",
            "\u2551 32 \u2551 mimxrt1175 \u2551    [1, 2]   \u2551    [1, 2]    \u2551   Yes    \u2551    Yes    \u2551       [1, 2, 3, 4]       \u2551 [1, 2] \u2551 [1, 2] \u2551\n",
            "\u2551 33 \u2551 mimxrt1176 \u2551    [1, 2]   \u2551    [1, 2]    \u2551   Yes    \u2551    Yes    \u2551       [1, 2, 3, 4]       \u2551 [1, 2] \u2551 [1, 2] \u2551\n",
            "\u2551 34 \u2551 mimxrt1181 \u2551    [1, 2]   \u2551    [1, 2]    \u2551   Yes    \u2551    Yes    \u2551       [1, 2, 4, 5]       \u2551 [1, 2] \u2551 [1, 2] \u2551\n",
            "\u2551 35 \u2551 mimxrt1182 \u2551    [1, 2]   \u2551    [1, 2]    \u2551   Yes    \u2551    Yes    \u2551       [1, 2, 4, 5]       \u2551 [1, 2] \u2551 [1, 2] \u2551\n",
            "\u2551 36 \u2551 mimxrt1187 \u2551    [1, 2]   \u2551    [1, 2]    \u2551   Yes    \u2551    Yes    \u2551       [1, 2, 4, 5]       \u2551 [1, 2] \u2551 [1, 2] \u2551\n",
            "\u2551 37 \u2551 mimxrt1189 \u2551    [1, 2]   \u2551    [1, 2]    \u2551   Yes    \u2551    Yes    \u2551       [1, 2, 4, 5]       \u2551 [1, 2] \u2551 [1, 2] \u2551\n",
            "\u2551 38 \u2551 mimxrt533s \u2551    [0, 1]   \u2551    [0, 1]    \u2551   N/A    \u2551    N/A    \u2551 [0, 1, 2, 3, 4, 5, 6, 7] \u2551 [0, 1] \u2551 [0, 1] \u2551\n",
            "\u2551 39 \u2551 mimxrt555s \u2551    [0, 1]   \u2551    [0, 1]    \u2551   N/A    \u2551    N/A    \u2551 [0, 1, 2, 3, 4, 5, 6, 7] \u2551 [0, 1] \u2551 [0, 1] \u2551\n",
            "\u2551 40 \u2551 mimxrt595s \u2551    [0, 1]   \u2551    [0, 1]    \u2551   N/A    \u2551    N/A    \u2551 [0, 1, 2, 3, 4, 5, 6, 7] \u2551 [0, 1] \u2551 [0, 1] \u2551\n",
            "\u2551 41 \u2551 mimxrt685s \u2551    [0, 1]   \u2551    [0, 1]    \u2551   N/A    \u2551    N/A    \u2551 [0, 1, 2, 3, 4, 5, 6, 7] \u2551 [0, 1] \u2551 [0, 1] \u2551\n",
            "\u2551 42 \u2551   rw610    \u2551     Yes     \u2551     N/A      \u2551   N/A    \u2551    N/A    \u2551     [0, 1, 2, 3, 4]      \u2551  N/A   \u2551  N/A   \u2551\n",
            "\u2551 43 \u2551   rw612    \u2551     Yes     \u2551     N/A      \u2551   N/A    \u2551    N/A    \u2551     [0, 1, 2, 3, 4]      \u2551  N/A   \u2551  N/A   \u2551\n",
            "\u255a\u2550\u2550\u2550\u2550\u2569\u2550\u2550\u2550\u2550\u2550\u2550\u2550\u2550\u2550\u2550\u2550\u2550\u2569\u2550\u2550\u2550\u2550\u2550\u2550\u2550\u2550\u2550\u2550\u2550\u2550\u2550\u2569\u2550\u2550\u2550\u2550\u2550\u2550\u2550\u2550\u2550\u2550\u2550\u2550\u2550\u2550\u2569\u2550\u2550\u2550\u2550\u2550\u2550\u2550\u2550\u2550\u2550\u2569\u2550\u2550\u2550\u2550\u2550\u2550\u2550\u2550\u2550\u2550\u2550\u2569\u2550\u2550\u2550\u2550\u2550\u2550\u2550\u2550\u2550\u2550\u2550\u2550\u2550\u2550\u2550\u2550\u2550\u2550\u2550\u2550\u2550\u2550\u2550\u2550\u2550\u2550\u2569\u2550\u2550\u2550\u2550\u2550\u2550\u2550\u2550\u2569\u2550\u2550\u2550\u2550\u2550\u2550\u2550\u2550\u255d\n",
            "List of all known memory configuration option words:\n",
            "\u2554\u2550\u2550\u2550\u2550\u2566\u2550\u2550\u2550\u2550\u2550\u2550\u2550\u2550\u2550\u2550\u2550\u2550\u2550\u2550\u2566\u2550\u2550\u2550\u2550\u2550\u2550\u2550\u2550\u2550\u2550\u2550\u2550\u2550\u2550\u2566\u2550\u2550\u2550\u2550\u2550\u2550\u2550\u2550\u2550\u2550\u2550\u2550\u2550\u2550\u2550\u2550\u2550\u2550\u2550\u2550\u2550\u2550\u2566\u2550\u2550\u2550\u2550\u2550\u2550\u2550\u2550\u2550\u2550\u2550\u2550\u2550\u2566\u2550\u2550\u2550\u2550\u2550\u2550\u2550\u2550\u2550\u2550\u2550\u2550\u2550\u2550\u2550\u2550\u2550\u2550\u2550\u2550\u2550\u2550\u2550\u2550\u2550\u2550\u2550\u2550\u2550\u2550\u2550\u2550\u2550\u2550\u2550\u2550\u2557\n",
            "\u2551 #  \u2551  Peripheral  \u2551 Manufacturer \u2551         Name         \u2551  Interface  \u2551 Option words                       \u2551\n",
            "\u2560\u2550\u2550\u2550\u2550\u256c\u2550\u2550\u2550\u2550\u2550\u2550\u2550\u2550\u2550\u2550\u2550\u2550\u2550\u2550\u256c\u2550\u2550\u2550\u2550\u2550\u2550\u2550\u2550\u2550\u2550\u2550\u2550\u2550\u2550\u256c\u2550\u2550\u2550\u2550\u2550\u2550\u2550\u2550\u2550\u2550\u2550\u2550\u2550\u2550\u2550\u2550\u2550\u2550\u2550\u2550\u2550\u2550\u256c\u2550\u2550\u2550\u2550\u2550\u2550\u2550\u2550\u2550\u2550\u2550\u2550\u2550\u256c\u2550\u2550\u2550\u2550\u2550\u2550\u2550\u2550\u2550\u2550\u2550\u2550\u2550\u2550\u2550\u2550\u2550\u2550\u2550\u2550\u2550\u2550\u2550\u2550\u2550\u2550\u2550\u2550\u2550\u2550\u2550\u2550\u2550\u2550\u2550\u2550\u2563\n",
            "\u2551 0  \u2551 flexspi_nor  \u2551   Winbond    \u2551      W25QxxxJV       \u2551   quad_spi  \u2551 Opt0: 0xC0000207                   \u2551\n",
            "\u2551 1  \u2551 flexspi_nor  \u2551   Winbond    \u2551       W35T51NW       \u2551  octal_spi  \u2551 Opt0: 0xC0603005                   \u2551\n",
            "\u2551 2  \u2551 flexspi_nor  \u2551   Macronix   \u2551     MX25Uxxx32F      \u2551   quad_spi  \u2551 Opt0: 0xC0000007                   \u2551\n",
            "\u2551 3  \u2551 flexspi_nor  \u2551   Macronix   \u2551     MX25Lxxx45G      \u2551   quad_spi  \u2551 Opt0: 0xC0000007                   \u2551\n",
            "\u2551 4  \u2551 flexspi_nor  \u2551   Macronix   \u2551     MX25UMxxx45G     \u2551  octal_spi  \u2551 Opt0: 0xC0403037                   \u2551\n",
            "\u2551 5  \u2551 flexspi_nor  \u2551   Macronix   \u2551     MX66UMxxx45G     \u2551  octal_spi  \u2551 Opt0: 0xC0403037                   \u2551\n",
            "\u2551 6  \u2551 flexspi_nor  \u2551   Macronix   \u2551     MX25LMxxx45G     \u2551  octal_spi  \u2551 Opt0: 0xC0403037                   \u2551\n",
            "\u2551 7  \u2551 flexspi_nor  \u2551   Macronix   \u2551     MX25UM51345G     \u2551  octal_spi  \u2551 Opt0: 0xC0403037                   \u2551\n",
            "\u2551 8  \u2551 flexspi_nor  \u2551   Macronix   \u2551   MX25UM51345G_2nd   \u2551  octal_spi  \u2551 Opt0: 0xC1503051, Opt1: 0x20000014 \u2551\n",
            "\u2551 9  \u2551 flexspi_nor  \u2551  GigaDevice  \u2551      GD25QxxxC       \u2551   quad_spi  \u2551 Opt0: 0xC0000406                   \u2551\n",
            "\u2551 10 \u2551 flexspi_nor  \u2551  GigaDevice  \u2551      GD25LBxxxE      \u2551   quad_spi  \u2551 Opt0: 0xC0000007                   \u2551\n",
            "\u2551 11 \u2551 flexspi_nor  \u2551  GigaDevice  \u2551      GD25LTxxxE      \u2551   quad_spi  \u2551 Opt0: 0xC0000008                   \u2551\n",
            "\u2551 12 \u2551 flexspi_nor  \u2551  GigaDevice  \u2551      GD25LXxxxE      \u2551   quad_spi  \u2551 Opt0: 0xC0603008                   \u2551\n",
            "\u2551 13 \u2551 flexspi_nor  \u2551     ISSI     \u2551      IS25LPxxxA      \u2551   quad_spi  \u2551 Opt0: 0xC0000007                   \u2551\n",
            "\u2551 14 \u2551 flexspi_nor  \u2551     ISSI     \u2551      IS25WPxxxA      \u2551   quad_spi  \u2551 Opt0: 0xC0000007                   \u2551\n",
            "\u2551 15 \u2551 flexspi_nor  \u2551     ISSI     \u2551      IS25LXxxx       \u2551  octal_spi  \u2551 Opt0: 0xC0603005                   \u2551\n",
            "\u2551 16 \u2551 flexspi_nor  \u2551     ISSI     \u2551      IS25WXxxx       \u2551  octal_spi  \u2551 Opt0: 0xC0603005                   \u2551\n",
            "\u2551 17 \u2551 flexspi_nor  \u2551     ISSI     \u2551      IS26KSxxxS      \u2551 hyper_flash \u2551 Opt0: 0xC0233007                   \u2551\n",
            "\u2551 18 \u2551 flexspi_nor  \u2551     ISSI     \u2551      IS26KLxxxS      \u2551 hyper_flash \u2551 Opt0: 0xC0233007                   \u2551\n",
            "\u2551 19 \u2551 flexspi_nor  \u2551    Micron    \u2551      MT25QLxxxA      \u2551   quad_spi  \u2551 Opt0: 0xC0000007                   \u2551\n",
            "\u2551 20 \u2551 flexspi_nor  \u2551    Micron    \u2551 RW303-MT35XUxxxABA1G \u2551  octal_spi  \u2551 Opt0: 0xC0603005                   \u2551\n",
            "\u2551 21 \u2551 flexspi_nor  \u2551    Micron    \u2551 RW304-MT35XUxxxABA2G \u2551  octal_spi  \u2551 Opt0: 0xC0633005                   \u2551\n",
            "\u2551 22 \u2551 flexspi_nor  \u2551    Adesto    \u2551      AT25SFxxxA      \u2551   quad_spi  \u2551 Opt0: 0xC0000007                   \u2551\n",
            "\u2551 23 \u2551 flexspi_nor  \u2551    Adesto    \u2551       ATXPxxx        \u2551  octal_spi  \u2551 Opt0: 0xC0803007                   \u2551\n",
            "\u2551 24 \u2551 flexspi_nor  \u2551   Cypress    \u2551      S25FSxxxS       \u2551   quad_spi  \u2551 Opt0: 0xC0000007                   \u2551\n",
            "\u2551 25 \u2551 flexspi_nor  \u2551   Cypress    \u2551      S25FLxxxS       \u2551   quad_spi  \u2551 Opt0: 0xC0000007                   \u2551\n",
            "\u2551 26 \u2551 flexspi_nor  \u2551   Cypress    \u2551      S26KSxxxS       \u2551 hyper_flash \u2551 Opt0: 0xC0233007                   \u2551\n",
            "\u2551 27 \u2551 flexspi_nor  \u2551   Cypress    \u2551      S26KLxxxS       \u2551 hyper_flash \u2551 Opt0: 0xC0233007                   \u2551\n",
            "\u2551 28 \u2551 flexspi_nor  \u2551  Microchip   \u2551     SST26VFxxxB      \u2551   quad_spi  \u2551 Opt0: 0xC0000005                   \u2551\n",
            "\u2551 29 \u2551 flexspi_nor  \u2551  FudanMicro  \u2551       FM25Qxxx       \u2551   quad_spi  \u2551 Opt0: 0xC0000205                   \u2551\n",
            "\u2551 30 \u2551 flexspi_nor  \u2551  BoyaMicro   \u2551      BY25QxxxBS      \u2551   quad_spi  \u2551 Opt0: 0xC0000405                   \u2551\n",
            "\u2551 31 \u2551 flexspi_nor  \u2551     XMC      \u2551      XM25QHxxxB      \u2551   quad_spi  \u2551 Opt0: 0xC0000007                   \u2551\n",
            "\u2551 32 \u2551 flexspi_nor  \u2551     XMC      \u2551      XM25QUxxxB      \u2551   quad_spi  \u2551 Opt0: 0xC0000007                   \u2551\n",
            "\u2551 33 \u2551 flexspi_nor  \u2551   XTXtech    \u2551       X25FxxxB       \u2551   quad_spi  \u2551 Opt0: 0xC0000407                   \u2551\n",
            "\u2551 34 \u2551 flexspi_nor  \u2551   XTXtech    \u2551       X25QxxxD       \u2551   quad_spi  \u2551 Opt0: 0xC0000407                   \u2551\n",
            "\u2551 35 \u2551 flexspi_nor  \u2551     Puya     \u2551      P25QxxxLE       \u2551   quad_spi  \u2551 Opt0: 0xC0000405                   \u2551\n",
            "\u2551 36 \u2551 flexspi_nor  \u2551     Puya     \u2551       P25QxxxH       \u2551   quad_spi  \u2551 Opt0: 0xC0000405                   \u2551\n",
            "\u2551 37 \u2551 flexspi_nor  \u2551     Puya     \u2551       P25QxxxU       \u2551   quad_spi  \u2551 Opt0: 0xC0000405                   \u2551\n",
            "\u2551 38 \u2551 flexspi_nor  \u2551     AMIC     \u2551       A25LQxxx       \u2551   quad_spi  \u2551 Opt0: 0xC0000105                   \u2551\n",
            "\u255a\u2550\u2550\u2550\u2550\u2569\u2550\u2550\u2550\u2550\u2550\u2550\u2550\u2550\u2550\u2550\u2550\u2550\u2550\u2550\u2569\u2550\u2550\u2550\u2550\u2550\u2550\u2550\u2550\u2550\u2550\u2550\u2550\u2550\u2550\u2569\u2550\u2550\u2550\u2550\u2550\u2550\u2550\u2550\u2550\u2550\u2550\u2550\u2550\u2550\u2550\u2550\u2550\u2550\u2550\u2550\u2550\u2550\u2569\u2550\u2550\u2550\u2550\u2550\u2550\u2550\u2550\u2550\u2550\u2550\u2550\u2550\u2569\u2550\u2550\u2550\u2550\u2550\u2550\u2550\u2550\u2550\u2550\u2550\u2550\u2550\u2550\u2550\u2550\u2550\u2550\u2550\u2550\u2550\u2550\u2550\u2550\u2550\u2550\u2550\u2550\u2550\u2550\u2550\u2550\u2550\u2550\u2550\u2550\u255d\n",
            "\u2551 39 \u2551 flexspi_nand \u2551   Winbond    \u2551       W25N01G        \u2551   quad_spi  \u2551 Opt0: 0xC1010026, Opt1: 0x000000EF \u2551\n",
            "\u2551 40 \u2551 flexspi_nand \u2551   Winbond    \u2551       W25N02K        \u2551   quad_spi  \u2551 Opt0: 0xC1020026, Opt1: 0x000000EF \u2551\n",
            "\u2551 41 \u2551 flexspi_nand \u2551   Macronix   \u2551       MX35UF1G       \u2551   quad_spi  \u2551 Opt0: 0xC1010026, Opt1: 0x000000C2 \u2551\n",
            "\u2551 42 \u2551 flexspi_nand \u2551   Macronix   \u2551       MX35LF1G       \u2551   quad_spi  \u2551 Opt0: 0xC1010026, Opt1: 0x000000C2 \u2551\n",
            "\u2551 43 \u2551 flexspi_nand \u2551   Macronix   \u2551       MX35UF2G       \u2551   quad_spi  \u2551 Opt0: 0xC1020026, Opt1: 0x000000C2 \u2551\n",
            "\u2551 44 \u2551 flexspi_nand \u2551   Macronix   \u2551       MX35LF2G       \u2551   quad_spi  \u2551 Opt0: 0xC1020026, Opt1: 0x000000C2 \u2551\n",
            "\u2551 45 \u2551 flexspi_nand \u2551  GigaDevice  \u2551       GD5F1GQ5       \u2551   quad_spi  \u2551 Opt0: 0xC1010026, Opt1: 0x000000C8 \u2551\n",
            "\u2551 46 \u2551 flexspi_nand \u2551  GigaDevice  \u2551       GD5F2GQ5       \u2551   quad_spi  \u2551 Opt0: 0xC1020026, Opt1: 0x000000C8 \u2551\n",
            "\u2551 47 \u2551 flexspi_nand \u2551    Micron    \u2551     MT29F1G01AA      \u2551   quad_spi  \u2551 Opt0: 0xC1011022, Opt1: 0x0000002C \u2551\n",
            "\u2551 48 \u2551 flexspi_nand \u2551    Micron    \u2551     MT29F2G01AA      \u2551   quad_spi  \u2551 Opt0: 0xC1021022, Opt1: 0x0000002C \u2551\n",
            "\u2551 49 \u2551 flexspi_nand \u2551   Paragon    \u2551       PN26Q01A       \u2551   quad_spi  \u2551 Opt0: 0xC1010026, Opt1: 0x000000A1 \u2551\n",
            "\u2551 50 \u2551 flexspi_nand \u2551   Paragon    \u2551       PN26G01A       \u2551   quad_spi  \u2551 Opt0: 0xC1010026, Opt1: 0x000000A1 \u2551\n",
            "\u2551 51 \u2551 flexspi_nand \u2551   Paragon    \u2551       PN26Q02A       \u2551   quad_spi  \u2551 Opt0: 0xC1020026, Opt1: 0x000000A1 \u2551\n",
            "\u2551 52 \u2551 flexspi_nand \u2551   Paragon    \u2551       PN26G02A       \u2551   quad_spi  \u2551 Opt0: 0xC1020026, Opt1: 0x000000A1 \u2551\n",
            "\u255a\u2550\u2550\u2550\u2550\u2569\u2550\u2550\u2550\u2550\u2550\u2550\u2550\u2550\u2550\u2550\u2550\u2550\u2550\u2550\u2569\u2550\u2550\u2550\u2550\u2550\u2550\u2550\u2550\u2550\u2550\u2550\u2550\u2550\u2550\u2569\u2550\u2550\u2550\u2550\u2550\u2550\u2550\u2550\u2550\u2550\u2550\u2550\u2550\u2550\u2550\u2550\u2550\u2550\u2550\u2550\u2550\u2550\u2569\u2550\u2550\u2550\u2550\u2550\u2550\u2550\u2550\u2550\u2550\u2550\u2550\u2550\u2569\u2550\u2550\u2550\u2550\u2550\u2550\u2550\u2550\u2550\u2550\u2550\u2550\u2550\u2550\u2550\u2550\u2550\u2550\u2550\u2550\u2550\u2550\u2550\u2550\u2550\u2550\u2550\u2550\u2550\u2550\u2550\u2550\u2550\u2550\u2550\u2550\u255d\n",
            "\u2551 53 \u2551   semc_nor   \u2551    Micron    \u2551     MT28EW128ABA     \u2551   parallel  \u2551 Opt0: 0xD0000600                   \u2551\n",
            "\u2551 54 \u2551   semc_nor   \u2551    Micron    \u2551     MT28UG128ABA     \u2551   parallel  \u2551 Opt0: 0xD0000601                   \u2551\n",
            "\u255a\u2550\u2550\u2550\u2550\u2569\u2550\u2550\u2550\u2550\u2550\u2550\u2550\u2550\u2550\u2550\u2550\u2550\u2550\u2550\u2569\u2550\u2550\u2550\u2550\u2550\u2550\u2550\u2550\u2550\u2550\u2550\u2550\u2550\u2550\u2569\u2550\u2550\u2550\u2550\u2550\u2550\u2550\u2550\u2550\u2550\u2550\u2550\u2550\u2550\u2550\u2550\u2550\u2550\u2550\u2550\u2550\u2550\u2569\u2550\u2550\u2550\u2550\u2550\u2550\u2550\u2550\u2550\u2550\u2550\u2550\u2550\u2569\u2550\u2550\u2550\u2550\u2550\u2550\u2550\u2550\u2550\u2550\u2550\u2550\u2550\u2550\u2550\u2550\u2550\u2550\u2550\u2550\u2550\u2550\u2550\u2550\u2550\u2550\u2550\u2550\u2550\u2550\u2550\u2550\u2550\u2550\u2550\u2550\u255d\n",
            "\u2551 55 \u2551      sd      \u2551   General    \u2551      1bit_sdr12      \u2551  instance_0 \u2551 Opt0: 0xD0000000                   \u2551\n",
            "\u2551 56 \u2551      sd      \u2551   General    \u2551      1bit_sdr12      \u2551  instance_1 \u2551 Opt0: 0xD0000001                   \u2551\n",
            "\u2551 57 \u2551      sd      \u2551   General    \u2551      1bit_sdr12      \u2551  instance_2 \u2551 Opt0: 0xD0000002                   \u2551\n",
            "\u2551 58 \u2551      sd      \u2551   General    \u2551      1bit_sdr12      \u2551  instance_3 \u2551 Opt0: 0xD0000003                   \u2551\n",
            "\u255a\u2550\u2550\u2550\u2550\u2569\u2550\u2550\u2550\u2550\u2550\u2550\u2550\u2550\u2550\u2550\u2550\u2550\u2550\u2550\u2569\u2550\u2550\u2550\u2550\u2550\u2550\u2550\u2550\u2550\u2550\u2550\u2550\u2550\u2550\u2569\u2550\u2550\u2550\u2550\u2550\u2550\u2550\u2550\u2550\u2550\u2550\u2550\u2550\u2550\u2550\u2550\u2550\u2550\u2550\u2550\u2550\u2550\u2569\u2550\u2550\u2550\u2550\u2550\u2550\u2550\u2550\u2550\u2550\u2550\u2550\u2550\u2569\u2550\u2550\u2550\u2550\u2550\u2550\u2550\u2550\u2550\u2550\u2550\u2550\u2550\u2550\u2550\u2550\u2550\u2550\u2550\u2550\u2550\u2550\u2550\u2550\u2550\u2550\u2550\u2550\u2550\u2550\u2550\u2550\u2550\u2550\u2550\u2550\u255d\n",
            "\n"
          ]
        }
      ],
      "source": [
        "%! nxpmemcfg family-info"
      ]
    },
    {
      "cell_type": "markdown",
      "metadata": {},
      "source": [
        "#### Since we're using the EVK, we are interested in the default FlexSPI NOR from Winbond on interface index 1:"
      ]
    },
    {
      "cell_type": "raw",
      "metadata": {
        "vscode": {
          "languageId": "raw"
        }
      },
      "source": [
        "\u2554\u2550\u2550\u2550\u2550\u2566\u2550\u2550\u2550\u2550\u2550\u2550\u2550\u2550\u2550\u2550\u2566\u2550\u2550\u2550\u2550\u2550\u2550\u2550\u2550\u2550\u2550\u2550\u2550\u2550\u2566\u2550\u2550\u2550\u2550\u2550\u2550\u2550\u2550\u2550\u2550\u2550\u2550\u2550\u2550\u2566\u2550\u2550\u2550\u2550\u2550\u2550\u2550\u2550\u2550\u2550\u2566\u2550\u2550\u2550\u2550\u2550\u2550\u2550\u2550\u2550\u2550\u2550\u2566\u2550\u2550\u2550\u2550\u2550\u2550\u2550\u2550\u2550\u2550\u2550\u2550\u2550\u2550\u2550\u2550\u2550\u2550\u2550\u2550\u2566\u2550\u2550\u2550\u2550\u2550\u2550\u2550\u2550\u2566\u2550\u2550\u2550\u2550\u2550\u2550\u2550\u2550\u2557\n",
        "\u2551 #  \u2551  Family  \u2551 flexspi_nor \u2551 flexspi_nand \u2551 semc_nor \u2551 semc_nand \u2551      spi_nor       \u2551  mmc   \u2551   sd   \u2551\n",
        "\u2560\u2550\u2550\u2550\u2550\u256c\u2550\u2550\u2550\u2550\u2550\u2550\u2550\u2550\u2550\u2550\u256c\u2550\u2550\u2550\u2550\u2550\u2550\u2550\u2550\u2550\u2550\u2550\u2550\u2550\u256c\u2550\u2550\u2550\u2550\u2550\u2550\u2550\u2550\u2550\u2550\u2550\u2550\u2550\u2550\u256c\u2550\u2550\u2550\u2550\u2550\u2550\u2550\u2550\u2550\u2550\u256c\u2550\u2550\u2550\u2550\u2550\u2550\u2550\u2550\u2550\u2550\u2550\u256c\u2550\u2550\u2550\u2550\u2550\u2550\u2550\u2550\u2550\u2550\u2550\u2550\u2550\u2550\u2550\u2550\u2550\u2550\u2550\u2550\u256c\u2550\u2550\u2550\u2550\u2550\u2550\u2550\u2550\u256c\u2550\u2550\u2550\u2550\u2550\u2550\u2550\u2550\u2551\n",
        "\u2551 15 \u2551  rt118x  \u2551    [1, 2]   \u2551    [1, 2]    \u2551   Yes    \u2551    Yes    \u2551 [0, 1, 2, 3, 4, 5] \u2551 [0, 1] \u2551 [0, 1] \u2551\n",
        "\u255a\u2550\u2550\u2550\u2550\u2569\u2550\u2550\u2550\u2550\u2550\u2550\u2550\u2550\u2550\u2550\u2569\u2550\u2550\u2550\u2550\u2550\u2550\u2550\u2550\u2550\u2550\u2550\u2550\u2550\u2569\u2550\u2550\u2550\u2550\u2550\u2550\u2550\u2550\u2550\u2550\u2550\u2550\u2550\u2550\u2569\u2550\u2550\u2550\u2550\u2550\u2550\u2550\u2550\u2550\u2550\u2569\u2550\u2550\u2550\u2550\u2550\u2550\u2550\u2550\u2550\u2550\u2550\u2569\u2550\u2550\u2550\u2550\u2550\u2550\u2550\u2550\u2550\u2550\u2550\u2550\u2550\u2550\u2550\u2550\u2550\u2550\u2550\u2550\u2569\u2550\u2550\u2550\u2550\u2550\u2550\u2550\u2550\u2569\u2550\u2550\u2550\u2550\u2550\u2550\u2550\u2550\u255d\n",
        "\n",
        "\u2554\u2550\u2550\u2550\u2550\u2566\u2550\u2550\u2550\u2550\u2550\u2550\u2550\u2550\u2550\u2550\u2550\u2550\u2550\u2550\u2566\u2550\u2550\u2550\u2550\u2550\u2550\u2550\u2550\u2550\u2550\u2550\u2550\u2550\u2550\u2566\u2550\u2550\u2550\u2550\u2550\u2550\u2550\u2550\u2550\u2550\u2550\u2550\u2550\u2550\u2550\u2550\u2550\u2550\u2550\u2550\u2550\u2550\u2566\u2550\u2550\u2550\u2550\u2550\u2550\u2550\u2550\u2550\u2550\u2550\u2550\u2550\u2566\u2550\u2550\u2550\u2550\u2550\u2550\u2550\u2550\u2550\u2550\u2550\u2550\u2550\u2550\u2550\u2550\u2550\u2550\u2550\u2550\u2550\u2550\u2550\u2550\u2550\u2550\u2550\u2550\u2550\u2550\u2550\u2550\u2550\u2550\u2550\u2550\u2557\n",
        "\u2551 #  \u2551  Peripheral  \u2551 Manufacturer \u2551         Name         \u2551  Interface  \u2551 Option words                       \u2551\n",
        "\u2560\u2550\u2550\u2550\u2550\u256c\u2550\u2550\u2550\u2550\u2550\u2550\u2550\u2550\u2550\u2550\u2550\u2550\u2550\u2550\u256c\u2550\u2550\u2550\u2550\u2550\u2550\u2550\u2550\u2550\u2550\u2550\u2550\u2550\u2550\u256c\u2550\u2550\u2550\u2550\u2550\u2550\u2550\u2550\u2550\u2550\u2550\u2550\u2550\u2550\u2550\u2550\u2550\u2550\u2550\u2550\u2550\u2550\u256c\u2550\u2550\u2550\u2550\u2550\u2550\u2550\u2550\u2550\u2550\u2550\u2550\u2550\u256c\u2550\u2550\u2550\u2550\u2550\u2550\u2550\u2550\u2550\u2550\u2550\u2550\u2550\u2550\u2550\u2550\u2550\u2550\u2550\u2550\u2550\u2550\u2550\u2550\u2550\u2550\u2550\u2550\u2550\u2550\u2550\u2550\u2550\u2550\u2550\u2550\u2563\n",
        "\u2551 0  \u2551 flexspi_nor  \u2551   Winbond    \u2551      W25QxxxJV       \u2551   quad_spi  \u2551 Opt0: 0xC0000207                   \u2551\n",
        "\u255a\u2550\u2550\u2550\u2550\u2569\u2550\u2550\u2550\u2550\u2550\u2550\u2550\u2550\u2550\u2550\u2550\u2550\u2550\u2550\u2569\u2550\u2550\u2550\u2550\u2550\u2550\u2550\u2550\u2550\u2550\u2550\u2550\u2550\u2550\u2569\u2550\u2550\u2550\u2550\u2550\u2550\u2550\u2550\u2550\u2550\u2550\u2550\u2550\u2550\u2550\u2550\u2550\u2550\u2550\u2550\u2550\u2550\u2569\u2550\u2550\u2550\u2550\u2550\u2550\u2550\u2550\u2550\u2550\u2550\u2550\u2550\u2569\u2550\u2550\u2550\u2550\u2550\u2550\u2550\u2550\u2550\u2550\u2550\u2550\u2550\u2550\u2550\u2550\u2550\u2550\u2550\u2550\u2550\u2550\u2550\u2550\u2550\u2550\u2550\u2550\u2550\u2550\u2550\u2550\u2550\u2550\u2550\u2550\u255d"
      ]
    },
    {
      "cell_type": "markdown",
      "metadata": {},
      "source": [
        "#### Note that if you use this approach, you will configure your memory with the default option words shown in the table. You will see how to change the default parameters in chapter 6."
      ]
    },
    {
      "cell_type": "markdown",
      "metadata": {},
      "source": [
        "#### Now we can set the options according to the table:\n",
        "- f: device family => **mimxrt1189**\n",
        "- m: memory chip => **W25QxxxJV**\n",
        "- i: memory interface => **quad_spi**\n",
        "- ix: peripheral instance index => **1**"
      ]
    },
    {
      "cell_type": "code",
      "execution_count": 16,
      "metadata": {},
      "outputs": [
        {
          "name": "stdout",
          "output_type": "stream",
          "text": [
            "nxpmemcfg blhost-script -f mimxrt1189 -m W25QxxxJV -i quad_spi -ix 1 -o workspace/config_mem.bls --force --fcb workspace/fcb.bin \n",
            "Detected peripheral flexspi_nor for W25QxxxJV\n",
            "Loaded option words: 0xC0000207\n",
            "\u001b[33mWARNING:spsdk.memcfg.memcfg:FCB block read back script has been generated. Be aware that s 4KB block at base address will be erased to avoid cumulative write! (228ms since start, memcfg.py:399)\u001b[39m\n",
            "Exported blhost script.\n"
          ]
        }
      ],
      "source": [
        "%! nxpmemcfg blhost-script -f mimxrt1189 -m W25QxxxJV -i quad_spi -ix 1 -o $CFG_MEM_FILE --force --fcb $FCB_FILE\n",
        "\n",
        "assert os.path.exists(CFG_MEM_FILE)"
      ]
    },
    {
      "cell_type": "markdown",
      "metadata": {},
      "source": [
        "#### Let's look inside the blhost-script:"
      ]
    },
    {
      "cell_type": "code",
      "execution_count": 17,
      "metadata": {},
      "outputs": [
        {
          "data": {
            "text/html": [
              "<style>pre { line-height: 125%; }\n",
              "td.linenos .normal { color: inherit; background-color: transparent; padding-left: 5px; padding-right: 5px; }\n",
              "span.linenos { color: inherit; background-color: transparent; padding-left: 5px; padding-right: 5px; }\n",
              "td.linenos .special { color: #000000; background-color: #ffffc0; padding-left: 5px; padding-right: 5px; }\n",
              "span.linenos.special { color: #000000; background-color: #ffffc0; padding-left: 5px; padding-right: 5px; }\n",
              ".output_html .hll { background-color: #ffffcc }\n",
              ".output_html { background: #f8f8f8; }\n",
              ".output_html .c { color: #3D7B7B; font-style: italic } /* Comment */\n",
              ".output_html .err { border: 1px solid #FF0000 } /* Error */\n",
              ".output_html .k { color: #008000; font-weight: bold } /* Keyword */\n",
              ".output_html .o { color: #666666 } /* Operator */\n",
              ".output_html .ch { color: #3D7B7B; font-style: italic } /* Comment.Hashbang */\n",
              ".output_html .cm { color: #3D7B7B; font-style: italic } /* Comment.Multiline */\n",
              ".output_html .cp { color: #9C6500 } /* Comment.Preproc */\n",
              ".output_html .cpf { color: #3D7B7B; font-style: italic } /* Comment.PreprocFile */\n",
              ".output_html .c1 { color: #3D7B7B; font-style: italic } /* Comment.Single */\n",
              ".output_html .cs { color: #3D7B7B; font-style: italic } /* Comment.Special */\n",
              ".output_html .gd { color: #A00000 } /* Generic.Deleted */\n",
              ".output_html .ge { font-style: italic } /* Generic.Emph */\n",
              ".output_html .ges { font-weight: bold; font-style: italic } /* Generic.EmphStrong */\n",
              ".output_html .gr { color: #E40000 } /* Generic.Error */\n",
              ".output_html .gh { color: #000080; font-weight: bold } /* Generic.Heading */\n",
              ".output_html .gi { color: #008400 } /* Generic.Inserted */\n",
              ".output_html .go { color: #717171 } /* Generic.Output */\n",
              ".output_html .gp { color: #000080; font-weight: bold } /* Generic.Prompt */\n",
              ".output_html .gs { font-weight: bold } /* Generic.Strong */\n",
              ".output_html .gu { color: #800080; font-weight: bold } /* Generic.Subheading */\n",
              ".output_html .gt { color: #0044DD } /* Generic.Traceback */\n",
              ".output_html .kc { color: #008000; font-weight: bold } /* Keyword.Constant */\n",
              ".output_html .kd { color: #008000; font-weight: bold } /* Keyword.Declaration */\n",
              ".output_html .kn { color: #008000; font-weight: bold } /* Keyword.Namespace */\n",
              ".output_html .kp { color: #008000 } /* Keyword.Pseudo */\n",
              ".output_html .kr { color: #008000; font-weight: bold } /* Keyword.Reserved */\n",
              ".output_html .kt { color: #B00040 } /* Keyword.Type */\n",
              ".output_html .m { color: #666666 } /* Literal.Number */\n",
              ".output_html .s { color: #BA2121 } /* Literal.String */\n",
              ".output_html .na { color: #687822 } /* Name.Attribute */\n",
              ".output_html .nb { color: #008000 } /* Name.Builtin */\n",
              ".output_html .nc { color: #0000FF; font-weight: bold } /* Name.Class */\n",
              ".output_html .no { color: #880000 } /* Name.Constant */\n",
              ".output_html .nd { color: #AA22FF } /* Name.Decorator */\n",
              ".output_html .ni { color: #717171; font-weight: bold } /* Name.Entity */\n",
              ".output_html .ne { color: #CB3F38; font-weight: bold } /* Name.Exception */\n",
              ".output_html .nf { color: #0000FF } /* Name.Function */\n",
              ".output_html .nl { color: #767600 } /* Name.Label */\n",
              ".output_html .nn { color: #0000FF; font-weight: bold } /* Name.Namespace */\n",
              ".output_html .nt { color: #008000; font-weight: bold } /* Name.Tag */\n",
              ".output_html .nv { color: #19177C } /* Name.Variable */\n",
              ".output_html .ow { color: #AA22FF; font-weight: bold } /* Operator.Word */\n",
              ".output_html .w { color: #bbbbbb } /* Text.Whitespace */\n",
              ".output_html .mb { color: #666666 } /* Literal.Number.Bin */\n",
              ".output_html .mf { color: #666666 } /* Literal.Number.Float */\n",
              ".output_html .mh { color: #666666 } /* Literal.Number.Hex */\n",
              ".output_html .mi { color: #666666 } /* Literal.Number.Integer */\n",
              ".output_html .mo { color: #666666 } /* Literal.Number.Oct */\n",
              ".output_html .sa { color: #BA2121 } /* Literal.String.Affix */\n",
              ".output_html .sb { color: #BA2121 } /* Literal.String.Backtick */\n",
              ".output_html .sc { color: #BA2121 } /* Literal.String.Char */\n",
              ".output_html .dl { color: #BA2121 } /* Literal.String.Delimiter */\n",
              ".output_html .sd { color: #BA2121; font-style: italic } /* Literal.String.Doc */\n",
              ".output_html .s2 { color: #BA2121 } /* Literal.String.Double */\n",
              ".output_html .se { color: #AA5D1F; font-weight: bold } /* Literal.String.Escape */\n",
              ".output_html .sh { color: #BA2121 } /* Literal.String.Heredoc */\n",
              ".output_html .si { color: #A45A77; font-weight: bold } /* Literal.String.Interpol */\n",
              ".output_html .sx { color: #008000 } /* Literal.String.Other */\n",
              ".output_html .sr { color: #A45A77 } /* Literal.String.Regex */\n",
              ".output_html .s1 { color: #BA2121 } /* Literal.String.Single */\n",
              ".output_html .ss { color: #19177C } /* Literal.String.Symbol */\n",
              ".output_html .bp { color: #008000 } /* Name.Builtin.Pseudo */\n",
              ".output_html .fm { color: #0000FF } /* Name.Function.Magic */\n",
              ".output_html .vc { color: #19177C } /* Name.Variable.Class */\n",
              ".output_html .vg { color: #19177C } /* Name.Variable.Global */\n",
              ".output_html .vi { color: #19177C } /* Name.Variable.Instance */\n",
              ".output_html .vm { color: #19177C } /* Name.Variable.Magic */\n",
              ".output_html .il { color: #666666 } /* Literal.Number.Integer.Long */</style><div class=\"highlight\"><pre><span></span><span class=\"c1\"># BLHOST configure memory programming script</span>\n",
              "<span class=\"c1\"># Generated by SPSDK NXPMEMCFG tool</span>\n",
              "<span class=\"c1\"># Chip: mimxrt1189</span>\n",
              "<span class=\"c1\"># Peripheral: flexspi_nor</span>\n",
              "<span class=\"c1\"># Instance: 1</span>\n",
              "\n",
              "<span class=\"c1\"># Switch the instance of the peripheral to 1:</span>\n",
              "fill-memory<span class=\"w\"> </span>0x1FFE0000<span class=\"w\"> </span><span class=\"m\">4</span><span class=\"w\"> </span>0xCF900001\n",
              "configure-memory<span class=\"w\"> </span><span class=\"m\">9</span><span class=\"w\"> </span>0x1FFE0000\n",
              "\n",
              "<span class=\"c1\"># Configure memory:</span>\n",
              "<span class=\"c1\"># Option word 0: 0xC0000207</span>\n",
              "fill-memory<span class=\"w\"> </span>0x1FFE0000<span class=\"w\"> </span><span class=\"m\">4</span><span class=\"w\"> </span>0xC0000207\n",
              "configure-memory<span class=\"w\"> </span><span class=\"m\">9</span><span class=\"w\"> </span>0x1FFE0000\n",
              "\n",
              "<span class=\"c1\"># Script to erase FCB location, create FCB and read back a FCB block:</span>\n",
              "flash-erase-region<span class=\"w\"> </span>0x28000000<span class=\"w\"> </span>0x1000\n",
              "fill-memory<span class=\"w\"> </span>0x1FFE0000<span class=\"w\"> </span><span class=\"m\">4</span><span class=\"w\"> </span>0xF000000F\n",
              "configure-memory<span class=\"w\"> </span><span class=\"m\">9</span><span class=\"w\"> </span>0x1FFE0000\n",
              "read-memory<span class=\"w\"> </span>0x28000400<span class=\"w\"> </span>0x200<span class=\"w\"> </span>workspace/fcb.bin\n",
              "</pre></div>\n"
            ],
            "text/latex": [
              "\\begin{Verbatim}[commandchars=\\\\\\{\\}]\n",
              "\\PY{c+c1}{\\PYZsh{} BLHOST configure memory programming script}\n",
              "\\PY{c+c1}{\\PYZsh{} Generated by SPSDK NXPMEMCFG tool}\n",
              "\\PY{c+c1}{\\PYZsh{} Chip: mimxrt1189}\n",
              "\\PY{c+c1}{\\PYZsh{} Peripheral: flexspi\\PYZus{}nor}\n",
              "\\PY{c+c1}{\\PYZsh{} Instance: 1}\n",
              "\n",
              "\\PY{c+c1}{\\PYZsh{} Switch the instance of the peripheral to 1:}\n",
              "fill\\PYZhy{}memory\\PY{+w}{ }0x1FFE0000\\PY{+w}{ }\\PY{l+m}{4}\\PY{+w}{ }0xCF900001\n",
              "configure\\PYZhy{}memory\\PY{+w}{ }\\PY{l+m}{9}\\PY{+w}{ }0x1FFE0000\n",
              "\n",
              "\\PY{c+c1}{\\PYZsh{} Configure memory:}\n",
              "\\PY{c+c1}{\\PYZsh{} Option word 0: 0xC0000207}\n",
              "fill\\PYZhy{}memory\\PY{+w}{ }0x1FFE0000\\PY{+w}{ }\\PY{l+m}{4}\\PY{+w}{ }0xC0000207\n",
              "configure\\PYZhy{}memory\\PY{+w}{ }\\PY{l+m}{9}\\PY{+w}{ }0x1FFE0000\n",
              "\n",
              "\\PY{c+c1}{\\PYZsh{} Script to erase FCB location, create FCB and read back a FCB block:}\n",
              "flash\\PYZhy{}erase\\PYZhy{}region\\PY{+w}{ }0x28000000\\PY{+w}{ }0x1000\n",
              "fill\\PYZhy{}memory\\PY{+w}{ }0x1FFE0000\\PY{+w}{ }\\PY{l+m}{4}\\PY{+w}{ }0xF000000F\n",
              "configure\\PYZhy{}memory\\PY{+w}{ }\\PY{l+m}{9}\\PY{+w}{ }0x1FFE0000\n",
              "read\\PYZhy{}memory\\PY{+w}{ }0x28000400\\PY{+w}{ }0x200\\PY{+w}{ }workspace/fcb.bin\n",
              "\\end{Verbatim}\n"
            ],
            "text/plain": [
              "# BLHOST configure memory programming script\n",
              "# Generated by SPSDK NXPMEMCFG tool\n",
              "# Chip: mimxrt1189\n",
              "# Peripheral: flexspi_nor\n",
              "# Instance: 1\n",
              "\n",
              "# Switch the instance of the peripheral to 1:\n",
              "fill-memory 0x1FFE0000 4 0xCF900001\n",
              "configure-memory 9 0x1FFE0000\n",
              "\n",
              "# Configure memory:\n",
              "# Option word 0: 0xC0000207\n",
              "fill-memory 0x1FFE0000 4 0xC0000207\n",
              "configure-memory 9 0x1FFE0000\n",
              "\n",
              "# Script to erase FCB location, create FCB and read back a FCB block:\n",
              "flash-erase-region 0x28000000 0x1000\n",
              "fill-memory 0x1FFE0000 4 0xF000000F\n",
              "configure-memory 9 0x1FFE0000\n",
              "read-memory 0x28000400 0x200 workspace/fcb.bin"
            ]
          },
          "execution_count": 17,
          "metadata": {},
          "output_type": "execute_result"
        }
      ],
      "source": [
        "Code(filename=CFG_MEM_FILE, language=\"bash\")"
      ]
    },
    {
      "cell_type": "markdown",
      "metadata": {},
      "source": [
        "## 5. Execute the blhost script"
      ]
    },
    {
      "cell_type": "code",
      "execution_count": 18,
      "metadata": {},
      "outputs": [
        {
          "name": "stdout",
          "output_type": "stream",
          "text": [
            "blhost -u 0x15A2,0x0073 batch workspace/config_mem.bls \n",
            "Response status = 0 (0x0) Success.\n",
            "Response status = 0 (0x0) Success.\n",
            "Response status = 0 (0x0) Success.\n",
            "Response status = 0 (0x0) Success.\n",
            "Response status = 0 (0x0) Success.\n",
            "Response status = 0 (0x0) Success.\n",
            "Response status = 0 (0x0) Success.\n",
            "Reading memory\n",
            "Response status = 0 (0x0) Success.\n",
            "Response word 1 = 512 (0x200)\n",
            "Read 512 of 512 bytes.\n"
          ]
        }
      ],
      "source": [
        "# The board must be in SDP mode\n",
        "# Configure Boot Mode Switch to : 1/2/3-OFF, 4-ON\n",
        "# Connect micro USB cable into USB OTG1         - J33\n",
        "# Connect micro USB cable into Debug USB Port   - J53\n",
        "\n",
        "# FLASHLOADER_FILE = \"../flashloader/ahab/workspace/flashloader.bin\"  # Path to Flashloader\n",
        "# CFG_MEM_FILE = WORKSPACE + \"config_mem.bls\"                         # Configure memory template\n",
        "# FCB_FILE = WORKSPACE + \"fcb.bin\"                                    # Firmware Configuration block file\n",
        "\n",
        "# COMPAR = \"-u\"                          # USB\n",
        "# BLHOST_CONNECT_ROM = \"0x1fc9,0x014c\"   # PID/VID of ROM\n",
        "# BLHOST_CONNECT_FLDR = \"0x15A2,0x0073\"  # PID/VID of NXP Flashloader\n",
        "\n",
        "# Execute the commands generated by \"blhost-script\". This script will configure flash,\n",
        "# program FCB into the external memory and reads back the binary data. Be aware tha erase of the first sector must be done.\n",
        "# The script can be executed only once to read FCB.\n",
        "%! blhost $COMPAR $BLHOST_CONNECT_FLDR batch $CFG_MEM_FILE"
      ]
    },
    {
      "cell_type": "markdown",
      "metadata": {},
      "source": [
        "## 6. Create a non-default memory configuration"
      ]
    },
    {
      "cell_type": "markdown",
      "metadata": {},
      "source": [
        "#### The **nxpmemcfg get-templates** sub-command can be used to generate yaml configuration templates that can be modified as needed:"
      ]
    },
    {
      "cell_type": "code",
      "execution_count": 19,
      "metadata": {},
      "outputs": [
        {
          "name": "stdout",
          "output_type": "stream",
          "text": [
            "nxpmemcfg get-templates \n",
            "Usage: nxpmemcfg get-templates [OPTIONS]\n",
            "\n",
            "  Create template of Memory option words in YAML format.\n",
            "\n",
            "Options:\n",
            "  -f, --family [lpc5502|lpc5504|lpc5506|lpc5512..., and more. Use 'get-families' command to show all.]\n",
            "                                  Select the chip family.\n",
            "  -o, --output DIRECTORY          Path to a directory, where to store\n",
            "                                  generated/parsed files.  [required]\n",
            "  --force                         Force overwriting of existing files.\n",
            "  --help                          Show this message and exit.\n"
          ]
        }
      ],
      "source": [
        "%! nxpmemcfg get-templates"
      ]
    },
    {
      "cell_type": "code",
      "execution_count": 20,
      "metadata": {},
      "outputs": [
        {
          "name": "stdout",
          "output_type": "stream",
          "text": [
            "nxpmemcfg get-templates -f mimxrt1189 -o workspace/cfg_opt_templates/ --force \n",
            "The Memory Configuration template for mimxrt1189 has been saved into workspace/cfg_opt_templates YAML file\n",
            "The Memory Configuration template for mimxrt1189 has been saved into workspace/cfg_opt_templates YAML file\n",
            "The Memory Configuration template for mimxrt1189 has been saved into workspace/cfg_opt_templates YAML file\n",
            "The Memory Configuration template for mimxrt1189 has been saved into workspace/cfg_opt_templates YAML file\n",
            "The Memory Configuration template for mimxrt1189 has been saved into workspace/cfg_opt_templates YAML file\n",
            "The Memory Configuration template for mimxrt1189 has been saved into workspace/cfg_opt_templates YAML file\n",
            "The Memory Configuration template for mimxrt1189 has been saved into workspace/cfg_opt_templates YAML file\n"
          ]
        }
      ],
      "source": [
        "%! nxpmemcfg get-templates -f mimxrt1189 -o workspace/cfg_opt_templates/ --force"
      ]
    },
    {
      "cell_type": "markdown",
      "metadata": {},
      "source": [
        "#### Let's inspect the **flexspi_nor** template:"
      ]
    },
    {
      "cell_type": "code",
      "execution_count": 21,
      "metadata": {},
      "outputs": [
        {
          "data": {
            "text/html": [
              "<style>pre { line-height: 125%; }\n",
              "td.linenos .normal { color: inherit; background-color: transparent; padding-left: 5px; padding-right: 5px; }\n",
              "span.linenos { color: inherit; background-color: transparent; padding-left: 5px; padding-right: 5px; }\n",
              "td.linenos .special { color: #000000; background-color: #ffffc0; padding-left: 5px; padding-right: 5px; }\n",
              "span.linenos.special { color: #000000; background-color: #ffffc0; padding-left: 5px; padding-right: 5px; }\n",
              ".output_html .hll { background-color: #ffffcc }\n",
              ".output_html { background: #f8f8f8; }\n",
              ".output_html .c { color: #3D7B7B; font-style: italic } /* Comment */\n",
              ".output_html .err { border: 1px solid #FF0000 } /* Error */\n",
              ".output_html .k { color: #008000; font-weight: bold } /* Keyword */\n",
              ".output_html .o { color: #666666 } /* Operator */\n",
              ".output_html .ch { color: #3D7B7B; font-style: italic } /* Comment.Hashbang */\n",
              ".output_html .cm { color: #3D7B7B; font-style: italic } /* Comment.Multiline */\n",
              ".output_html .cp { color: #9C6500 } /* Comment.Preproc */\n",
              ".output_html .cpf { color: #3D7B7B; font-style: italic } /* Comment.PreprocFile */\n",
              ".output_html .c1 { color: #3D7B7B; font-style: italic } /* Comment.Single */\n",
              ".output_html .cs { color: #3D7B7B; font-style: italic } /* Comment.Special */\n",
              ".output_html .gd { color: #A00000 } /* Generic.Deleted */\n",
              ".output_html .ge { font-style: italic } /* Generic.Emph */\n",
              ".output_html .ges { font-weight: bold; font-style: italic } /* Generic.EmphStrong */\n",
              ".output_html .gr { color: #E40000 } /* Generic.Error */\n",
              ".output_html .gh { color: #000080; font-weight: bold } /* Generic.Heading */\n",
              ".output_html .gi { color: #008400 } /* Generic.Inserted */\n",
              ".output_html .go { color: #717171 } /* Generic.Output */\n",
              ".output_html .gp { color: #000080; font-weight: bold } /* Generic.Prompt */\n",
              ".output_html .gs { font-weight: bold } /* Generic.Strong */\n",
              ".output_html .gu { color: #800080; font-weight: bold } /* Generic.Subheading */\n",
              ".output_html .gt { color: #0044DD } /* Generic.Traceback */\n",
              ".output_html .kc { color: #008000; font-weight: bold } /* Keyword.Constant */\n",
              ".output_html .kd { color: #008000; font-weight: bold } /* Keyword.Declaration */\n",
              ".output_html .kn { color: #008000; font-weight: bold } /* Keyword.Namespace */\n",
              ".output_html .kp { color: #008000 } /* Keyword.Pseudo */\n",
              ".output_html .kr { color: #008000; font-weight: bold } /* Keyword.Reserved */\n",
              ".output_html .kt { color: #B00040 } /* Keyword.Type */\n",
              ".output_html .m { color: #666666 } /* Literal.Number */\n",
              ".output_html .s { color: #BA2121 } /* Literal.String */\n",
              ".output_html .na { color: #687822 } /* Name.Attribute */\n",
              ".output_html .nb { color: #008000 } /* Name.Builtin */\n",
              ".output_html .nc { color: #0000FF; font-weight: bold } /* Name.Class */\n",
              ".output_html .no { color: #880000 } /* Name.Constant */\n",
              ".output_html .nd { color: #AA22FF } /* Name.Decorator */\n",
              ".output_html .ni { color: #717171; font-weight: bold } /* Name.Entity */\n",
              ".output_html .ne { color: #CB3F38; font-weight: bold } /* Name.Exception */\n",
              ".output_html .nf { color: #0000FF } /* Name.Function */\n",
              ".output_html .nl { color: #767600 } /* Name.Label */\n",
              ".output_html .nn { color: #0000FF; font-weight: bold } /* Name.Namespace */\n",
              ".output_html .nt { color: #008000; font-weight: bold } /* Name.Tag */\n",
              ".output_html .nv { color: #19177C } /* Name.Variable */\n",
              ".output_html .ow { color: #AA22FF; font-weight: bold } /* Operator.Word */\n",
              ".output_html .w { color: #bbbbbb } /* Text.Whitespace */\n",
              ".output_html .mb { color: #666666 } /* Literal.Number.Bin */\n",
              ".output_html .mf { color: #666666 } /* Literal.Number.Float */\n",
              ".output_html .mh { color: #666666 } /* Literal.Number.Hex */\n",
              ".output_html .mi { color: #666666 } /* Literal.Number.Integer */\n",
              ".output_html .mo { color: #666666 } /* Literal.Number.Oct */\n",
              ".output_html .sa { color: #BA2121 } /* Literal.String.Affix */\n",
              ".output_html .sb { color: #BA2121 } /* Literal.String.Backtick */\n",
              ".output_html .sc { color: #BA2121 } /* Literal.String.Char */\n",
              ".output_html .dl { color: #BA2121 } /* Literal.String.Delimiter */\n",
              ".output_html .sd { color: #BA2121; font-style: italic } /* Literal.String.Doc */\n",
              ".output_html .s2 { color: #BA2121 } /* Literal.String.Double */\n",
              ".output_html .se { color: #AA5D1F; font-weight: bold } /* Literal.String.Escape */\n",
              ".output_html .sh { color: #BA2121 } /* Literal.String.Heredoc */\n",
              ".output_html .si { color: #A45A77; font-weight: bold } /* Literal.String.Interpol */\n",
              ".output_html .sx { color: #008000 } /* Literal.String.Other */\n",
              ".output_html .sr { color: #A45A77 } /* Literal.String.Regex */\n",
              ".output_html .s1 { color: #BA2121 } /* Literal.String.Single */\n",
              ".output_html .ss { color: #19177C } /* Literal.String.Symbol */\n",
              ".output_html .bp { color: #008000 } /* Name.Builtin.Pseudo */\n",
              ".output_html .fm { color: #0000FF } /* Name.Function.Magic */\n",
              ".output_html .vc { color: #19177C } /* Name.Variable.Class */\n",
              ".output_html .vg { color: #19177C } /* Name.Variable.Global */\n",
              ".output_html .vi { color: #19177C } /* Name.Variable.Instance */\n",
              ".output_html .vm { color: #19177C } /* Name.Variable.Magic */\n",
              ".output_html .il { color: #666666 } /* Literal.Number.Integer.Long */</style><div class=\"highlight\"><pre><span></span><span class=\"c1\"># =========================  Option Words Configuration template for mimxrt1189, flexspi_nor.  =========================</span>\n",
              "\n",
              "\n",
              "<span class=\"c1\"># -------------------------------------------------------- Note --------------------------------------------------------</span>\n",
              "<span class=\"c1\"># Note for settings:</span>\n",
              "<span class=\"c1\"># All registers is possible to define also as one value although the bitfields are used. Instead of bitfields: ...</span>\n",
              "<span class=\"c1\"># field, the value: ... definition works as well.</span>\n",
              "<span class=\"c1\"># ======================================================================================================================</span>\n",
              "<span class=\"c1\">#                                                 == General Options ==                                                 </span>\n",
              "<span class=\"c1\"># ======================================================================================================================</span>\n",
              "<span class=\"c1\"># -------------------------------------===== The chip family name [Required] =====--------------------------------------</span>\n",
              "<span class=\"c1\"># Description: NXP chip family identifier.</span>\n",
              "<span class=\"c1\"># Possible options: &lt;lpc5502, lpc5504, lpc5506, lpc5512, lpc5514, lpc5516, lpc5526, lpc5528, lpc55s04, lpc55s06,</span>\n",
              "<span class=\"c1\"># lpc55s14, lpc55s16, lpc55s26, lpc55s28, lpc55s36, lpc55s66, lpc55s69, mcxn235, mcxn236, mimxrt1010, mimxrt1015,</span>\n",
              "<span class=\"c1\"># mimxrt1020, mimxrt1024, mimxrt1040, mimxrt1050, mimxrt1060, mimxrt1064, mimxrt1165, mimxrt1166, mimxrt1171,</span>\n",
              "<span class=\"c1\"># mimxrt1172, mimxrt1173, mimxrt1175, mimxrt1176, mimxrt1181, mimxrt1182, mimxrt1187, mimxrt1189, mimxrt533s,</span>\n",
              "<span class=\"c1\"># mimxrt555s, mimxrt595s, mimxrt685s, rw610, rw612&gt;</span>\n",
              "<span class=\"nt\">family</span><span class=\"p\">:</span><span class=\"w\"> </span><span class=\"l l-Scalar l-Scalar-Plain\">mimxrt1189</span>\n",
              "<span class=\"c1\"># -----------------------------------------===== MCU revision [Optional] =====------------------------------------------</span>\n",
              "<span class=\"c1\"># Description: Revision of silicon. The &#39;latest&#39; name, means most current revision.</span>\n",
              "<span class=\"c1\"># Possible options: &lt;a0, b0, latest&gt;</span>\n",
              "<span class=\"nt\">revision</span><span class=\"p\">:</span><span class=\"w\"> </span><span class=\"l l-Scalar l-Scalar-Plain\">latest</span>\n",
              "<span class=\"c1\"># ----------------------------------------===== Peripheral name [Required] =====----------------------------------------</span>\n",
              "<span class=\"c1\"># Description: Name of the external memory support peripheral</span>\n",
              "<span class=\"c1\"># Possible options: &lt;flexspi_nor, flexspi_nand, semc_nor, semc_nand, spi_nor, mmc, sd&gt;</span>\n",
              "<span class=\"nt\">peripheral</span><span class=\"p\">:</span><span class=\"w\"> </span><span class=\"l l-Scalar l-Scalar-Plain\">flexspi_nor</span>\n",
              "<span class=\"c1\"># ----------------------------------------===== Interface name [Optional] =====-----------------------------------------</span>\n",
              "<span class=\"c1\"># Description: Interface name of some other details about connection</span>\n",
              "<span class=\"nt\">interface</span><span class=\"p\">:</span><span class=\"w\"> </span><span class=\"l l-Scalar l-Scalar-Plain\">quad_spi</span>\n",
              "<span class=\"c1\"># -------------------------------------===== Option words settings [Required] =====-------------------------------------</span>\n",
              "<span class=\"c1\"># Description: The The option word settings</span>\n",
              "<span class=\"nt\">settings</span><span class=\"p\">:</span>\n",
              "<span class=\"w\">  </span><span class=\"c1\"># ----------------------------------------===== ConfigOption0 [Optional] =====----------------------------------------</span>\n",
              "<span class=\"w\">  </span><span class=\"c1\"># Description: Offset: 0x00000000, Width: 32b; FlexSPI NOR Configuration Option 0</span>\n",
              "<span class=\"w\">  </span><span class=\"nt\">ConfigOption0</span><span class=\"p\">:</span>\n",
              "<span class=\"w\">    </span><span class=\"c1\"># ------------------------------------------===== MaxFreq [Optional] =====------------------------------------------</span>\n",
              "<span class=\"w\">    </span><span class=\"c1\"># Description: Offset: 0b, Width: 4b, The maximum work frequency for specified Flash device; 0 - Don&#39;t change</span>\n",
              "<span class=\"w\">    </span><span class=\"c1\"># FlexSPI clock setting</span>\n",
              "<span class=\"w\">    </span><span class=\"nt\">MaxFreq</span><span class=\"p\">:</span><span class=\"w\"> </span><span class=\"l l-Scalar l-Scalar-Plain\">0</span>\n",
              "<span class=\"w\">    </span><span class=\"c1\"># -------------------------------------------===== Misc [Optional] =====--------------------------------------------</span>\n",
              "<span class=\"w\">    </span><span class=\"c1\"># Description: Offset: 4b, Width: 4b, Specify miscellaneous mode for selected flash type; Experimental feature, do</span>\n",
              "<span class=\"w\">    </span><span class=\"c1\"># not use in products, keep it as 0.</span>\n",
              "<span class=\"w\">    </span><span class=\"c1\"># - NotEnabled, (0): Miscellaneous mode is not enabled</span>\n",
              "<span class=\"w\">    </span><span class=\"c1\"># - Mode0-4-4, (1): Enable 0-4-4 mode for High Random Read performance</span>\n",
              "<span class=\"w\">    </span><span class=\"c1\"># - SwappedMode, (3):  Data Order Swapped mode (for MXIC OctaFlash only)</span>\n",
              "<span class=\"w\">    </span><span class=\"c1\"># - InternalLoopBack, (5):  Select the FlexSPI data sample source as internal loop back, more details please refer</span>\n",
              "<span class=\"w\">    </span><span class=\"c1\"># FlexSPI usage</span>\n",
              "<span class=\"w\">    </span><span class=\"c1\"># - StandSpiMode, (6):  Config the FlexSPI NOR flash running at stand SPI mode</span>\n",
              "<span class=\"w\">    </span><span class=\"c1\"># Possible options: &lt;NotEnabled, Mode0-4-4, SwappedMode, InternalLoopBack, StandSpiMode&gt;</span>\n",
              "<span class=\"w\">    </span><span class=\"nt\">Misc</span><span class=\"p\">:</span><span class=\"w\"> </span><span class=\"l l-Scalar l-Scalar-Plain\">NotEnabled</span>\n",
              "<span class=\"w\">    </span><span class=\"c1\"># --------------------------------------===== QuadEnableType [Optional] =====---------------------------------------</span>\n",
              "<span class=\"w\">    </span><span class=\"c1\"># Description: Offset: 8b, Width: 4b, Specify the Quad Enable sequence, only applicable for device that only JESD216</span>\n",
              "<span class=\"w\">    </span><span class=\"c1\"># compliant, this field is ignored if device support JESD216A or later version. This field will be effective only if</span>\n",
              "<span class=\"w\">    </span><span class=\"c1\"># device is compliant with JESD216 only (9 longword SDFP table)</span>\n",
              "<span class=\"w\">    </span><span class=\"c1\"># - QeBitIsBit6InStatusReg1, (1): QE bit is bit6 in StatusReg1</span>\n",
              "<span class=\"w\">    </span><span class=\"c1\"># - QeBitIsBit1InStatusReg2, (2): QE bit is bit1 in StatusReg2</span>\n",
              "<span class=\"w\">    </span><span class=\"c1\"># - QeBitIsBit7InStatusReg2, (3): QE bit is bit7 in StatusReg2</span>\n",
              "<span class=\"w\">    </span><span class=\"c1\"># - QeBitIsBit1InStatusReg2EnableCommandIs0x31, (4): QE bit is bit1 in StatusReg2, enable command is 0x31</span>\n",
              "<span class=\"w\">    </span><span class=\"c1\"># Possible options: &lt;QeBitIsBit6InStatusReg1, QeBitIsBit1InStatusReg2, QeBitIsBit7InStatusReg2,</span>\n",
              "<span class=\"w\">    </span><span class=\"c1\"># QeBitIsBit1InStatusReg2EnableCommandIs0x31&gt;</span>\n",
              "<span class=\"w\">    </span><span class=\"nt\">QuadEnableType</span><span class=\"p\">:</span><span class=\"w\"> </span><span class=\"s\">&#39;0x0&#39;</span>\n",
              "<span class=\"w\">    </span><span class=\"c1\"># -----------------------------------------===== CMDPad(s) [Optional] =====-----------------------------------------</span>\n",
              "<span class=\"w\">    </span><span class=\"c1\"># Description: Offset: 12b, Width: 4b, Commands pads for the Flash device (1/4/8), for device that works under</span>\n",
              "<span class=\"w\">    </span><span class=\"c1\"># 1-1-4,1-4-4,1-1-8 or 1-8-8 mode, CMD pad(s) value is always 0x0, for devices that only support 4-4-4 mode for high</span>\n",
              "<span class=\"w\">    </span><span class=\"c1\"># performance, CMD pads value is 2, for devices that only support 8-8-8 mode for high performance, CMD pads value is</span>\n",
              "<span class=\"w\">    </span><span class=\"c1\"># 3</span>\n",
              "<span class=\"w\">    </span><span class=\"c1\"># - 1, (0): 1 bit</span>\n",
              "<span class=\"w\">    </span><span class=\"c1\"># - 4, (2): 4 bits</span>\n",
              "<span class=\"w\">    </span><span class=\"c1\"># - 8, (3): 8 bits</span>\n",
              "<span class=\"w\">    </span><span class=\"c1\"># Possible options: &lt;1, 4, 8&gt;</span>\n",
              "<span class=\"w\">    </span><span class=\"nt\">CMDPad(s)</span><span class=\"p\">:</span><span class=\"w\"> </span><span class=\"s\">&#39;1&#39;</span>\n",
              "<span class=\"w\">    </span><span class=\"c1\"># --------------------------------------===== Query CMDPad(s) [Optional] =====--------------------------------------</span>\n",
              "<span class=\"w\">    </span><span class=\"c1\"># Description: Offset: 16b, Width: 4b, Command pads (1/4/8) for the SFDP command</span>\n",
              "<span class=\"w\">    </span><span class=\"c1\"># - 1, (0): 1 bit</span>\n",
              "<span class=\"w\">    </span><span class=\"c1\"># - 4, (2): 4 bits</span>\n",
              "<span class=\"w\">    </span><span class=\"c1\"># - 8, (3): 8 bits</span>\n",
              "<span class=\"w\">    </span><span class=\"c1\"># Possible options: &lt;1, 4, 8&gt;</span>\n",
              "<span class=\"w\">    </span><span class=\"nt\">Query CMDPad(s)</span><span class=\"p\">:</span><span class=\"w\"> </span><span class=\"s\">&#39;1&#39;</span>\n",
              "<span class=\"w\">    </span><span class=\"c1\"># -----------------------------------===== Device Detection Type [Optional] =====-----------------------------------</span>\n",
              "<span class=\"w\">    </span><span class=\"c1\"># Description: Offset: 20b, Width: 4b, SW defined device types used for config block autodetection</span>\n",
              "<span class=\"w\">    </span><span class=\"c1\"># - QuadSPI_SDR, (0): QuadSPI SDR</span>\n",
              "<span class=\"w\">    </span><span class=\"c1\"># - QuadSPI_DDR, (1): QuadSPI DDR</span>\n",
              "<span class=\"w\">    </span><span class=\"c1\"># - HyperFLASH_1V8, (2): HyperFLASH 1V8</span>\n",
              "<span class=\"w\">    </span><span class=\"c1\"># - HyperFLASH_3V, (3): HyperFLASH 3V</span>\n",
              "<span class=\"w\">    </span><span class=\"c1\"># - MXICOPI_DDR, (4): MXICOPI DDR</span>\n",
              "<span class=\"w\">    </span><span class=\"c1\"># - MicronOPI_DDR, (6): MicronOPI DDR</span>\n",
              "<span class=\"w\">    </span><span class=\"c1\"># - AdestoOPI_DDR, (8): AdestoOPI DDR</span>\n",
              "<span class=\"w\">    </span><span class=\"c1\"># Possible options: &lt;QuadSPI_SDR, QuadSPI_DDR, HyperFLASH_1V8, HyperFLASH_3V, MXICOPI_DDR, MicronOPI_DDR,</span>\n",
              "<span class=\"w\">    </span><span class=\"c1\"># AdestoOPI_DDR&gt;</span>\n",
              "<span class=\"w\">    </span><span class=\"nt\">Device Detection Type</span><span class=\"p\">:</span><span class=\"w\"> </span><span class=\"l l-Scalar l-Scalar-Plain\">QuadSPI_SDR</span>\n",
              "<span class=\"w\">    </span><span class=\"c1\"># ----------------------------------------===== OptionSize [Optional] =====-----------------------------------------</span>\n",
              "<span class=\"w\">    </span><span class=\"c1\"># Description: Offset: 24b, Width: 4b, Option Size</span>\n",
              "<span class=\"w\">    </span><span class=\"c1\"># - OptionSize1, (0): Option words = 1</span>\n",
              "<span class=\"w\">    </span><span class=\"c1\"># - OptionSize2, (1): Option words = 2</span>\n",
              "<span class=\"w\">    </span><span class=\"c1\"># Possible options: &lt;OptionSize1, OptionSize2&gt;</span>\n",
              "<span class=\"w\">    </span><span class=\"nt\">OptionSize</span><span class=\"p\">:</span><span class=\"w\"> </span><span class=\"l l-Scalar l-Scalar-Plain\">OptionSize1</span>\n",
              "<span class=\"w\">  </span><span class=\"c1\"># ----------------------------------------===== ConfigOption1 [Optional] =====----------------------------------------</span>\n",
              "<span class=\"w\">  </span><span class=\"c1\"># Description: Offset: 0x00000004, Width: 32b; FlexSPI NOR Flash Configuration Option 1 - Optional</span>\n",
              "<span class=\"w\">  </span><span class=\"nt\">ConfigOption1</span><span class=\"p\">:</span>\n",
              "<span class=\"w\">    </span><span class=\"c1\"># ----------------------------------------===== DummyCycles [Optional] =====----------------------------------------</span>\n",
              "<span class=\"w\">    </span><span class=\"c1\"># Description: Offset: 0b, Width: 8b, User provided dummy cycles for SDR/DDR read command: 0 - Auto detection,</span>\n",
              "<span class=\"w\">    </span><span class=\"c1\"># Others - Specified dummy cycles</span>\n",
              "<span class=\"w\">    </span><span class=\"nt\">DummyCycles</span><span class=\"p\">:</span><span class=\"w\"> </span><span class=\"l l-Scalar l-Scalar-Plain\">0</span>\n",
              "<span class=\"w\">    </span><span class=\"c1\"># --------------------------------------===== StatusOverride [Optional] =====---------------------------------------</span>\n",
              "<span class=\"w\">    </span><span class=\"c1\"># Description: Offset: 8b, Width: 8b, Override status register value during device mode configuration</span>\n",
              "<span class=\"w\">    </span><span class=\"nt\">StatusOverride</span><span class=\"p\">:</span><span class=\"w\"> </span><span class=\"l l-Scalar l-Scalar-Plain\">0</span>\n",
              "<span class=\"w\">    </span><span class=\"c1\"># ----------------------------------------===== PinMuxGroup [Optional] =====----------------------------------------</span>\n",
              "<span class=\"w\">    </span><span class=\"c1\"># Description: Offset: 16b, Width: 4b, Pin multiplexer group selection</span>\n",
              "<span class=\"w\">    </span><span class=\"nt\">PinMuxGroup</span><span class=\"p\">:</span><span class=\"w\"> </span><span class=\"l l-Scalar l-Scalar-Plain\">0</span>\n",
              "<span class=\"w\">    </span><span class=\"c1\"># --------------------------------------===== DqsPinMuxGroup [Optional] =====---------------------------------------</span>\n",
              "<span class=\"w\">    </span><span class=\"c1\"># Description: Offset: 20b, Width: 4b, DQS Pin multiplexer group selection</span>\n",
              "<span class=\"w\">    </span><span class=\"nt\">DqsPinMuxGroup</span><span class=\"p\">:</span><span class=\"w\"> </span><span class=\"l l-Scalar l-Scalar-Plain\">0</span>\n",
              "<span class=\"w\">    </span><span class=\"c1\"># -------------------------------------===== PinDriveStrength [Optional] =====--------------------------------------</span>\n",
              "<span class=\"w\">    </span><span class=\"c1\"># Description: Offset: 24b, Width: 4b, The Drive Strength of FlexSPI Pads</span>\n",
              "<span class=\"w\">    </span><span class=\"nt\">PinDriveStrength</span><span class=\"p\">:</span><span class=\"w\"> </span><span class=\"l l-Scalar l-Scalar-Plain\">0</span>\n",
              "<span class=\"w\">    </span><span class=\"c1\"># --------------------------------------===== FlashConnection [Optional] =====--------------------------------------</span>\n",
              "<span class=\"w\">    </span><span class=\"c1\"># Description: Offset: 28b, Width: 4b, Select the FlexSPI Port A/B</span>\n",
              "<span class=\"w\">    </span><span class=\"c1\"># - SingleFlashPort_A, (0): Single Flash connected to port A</span>\n",
              "<span class=\"w\">    </span><span class=\"c1\"># - ParallelMode, (1): Parallel mode</span>\n",
              "<span class=\"w\">    </span><span class=\"c1\"># - SingleFlashPort_B, (2): Single Flash connected to port B</span>\n",
              "<span class=\"w\">    </span><span class=\"c1\"># Possible options: &lt;SingleFlashPort_A, ParallelMode, SingleFlashPort_B&gt;</span>\n",
              "<span class=\"w\">    </span><span class=\"nt\">FlashConnection</span><span class=\"p\">:</span><span class=\"w\"> </span><span class=\"l l-Scalar l-Scalar-Plain\">SingleFlashPort_A</span>\n",
              "</pre></div>\n"
            ],
            "text/latex": [
              "\\begin{Verbatim}[commandchars=\\\\\\{\\}]\n",
              "\\PY{c+c1}{\\PYZsh{} =========================  Option Words Configuration template for mimxrt1189, flexspi\\PYZus{}nor.  =========================}\n",
              "\n",
              "\n",
              "\\PY{c+c1}{\\PYZsh{} \\PYZhy{}\\PYZhy{}\\PYZhy{}\\PYZhy{}\\PYZhy{}\\PYZhy{}\\PYZhy{}\\PYZhy{}\\PYZhy{}\\PYZhy{}\\PYZhy{}\\PYZhy{}\\PYZhy{}\\PYZhy{}\\PYZhy{}\\PYZhy{}\\PYZhy{}\\PYZhy{}\\PYZhy{}\\PYZhy{}\\PYZhy{}\\PYZhy{}\\PYZhy{}\\PYZhy{}\\PYZhy{}\\PYZhy{}\\PYZhy{}\\PYZhy{}\\PYZhy{}\\PYZhy{}\\PYZhy{}\\PYZhy{}\\PYZhy{}\\PYZhy{}\\PYZhy{}\\PYZhy{}\\PYZhy{}\\PYZhy{}\\PYZhy{}\\PYZhy{}\\PYZhy{}\\PYZhy{}\\PYZhy{}\\PYZhy{}\\PYZhy{}\\PYZhy{}\\PYZhy{}\\PYZhy{}\\PYZhy{}\\PYZhy{}\\PYZhy{}\\PYZhy{}\\PYZhy{}\\PYZhy{}\\PYZhy{}\\PYZhy{} Note \\PYZhy{}\\PYZhy{}\\PYZhy{}\\PYZhy{}\\PYZhy{}\\PYZhy{}\\PYZhy{}\\PYZhy{}\\PYZhy{}\\PYZhy{}\\PYZhy{}\\PYZhy{}\\PYZhy{}\\PYZhy{}\\PYZhy{}\\PYZhy{}\\PYZhy{}\\PYZhy{}\\PYZhy{}\\PYZhy{}\\PYZhy{}\\PYZhy{}\\PYZhy{}\\PYZhy{}\\PYZhy{}\\PYZhy{}\\PYZhy{}\\PYZhy{}\\PYZhy{}\\PYZhy{}\\PYZhy{}\\PYZhy{}\\PYZhy{}\\PYZhy{}\\PYZhy{}\\PYZhy{}\\PYZhy{}\\PYZhy{}\\PYZhy{}\\PYZhy{}\\PYZhy{}\\PYZhy{}\\PYZhy{}\\PYZhy{}\\PYZhy{}\\PYZhy{}\\PYZhy{}\\PYZhy{}\\PYZhy{}\\PYZhy{}\\PYZhy{}\\PYZhy{}\\PYZhy{}\\PYZhy{}\\PYZhy{}\\PYZhy{}}\n",
              "\\PY{c+c1}{\\PYZsh{} Note for settings:}\n",
              "\\PY{c+c1}{\\PYZsh{} All registers is possible to define also as one value although the bitfields are used. Instead of bitfields: ...}\n",
              "\\PY{c+c1}{\\PYZsh{} field, the value: ... definition works as well.}\n",
              "\\PY{c+c1}{\\PYZsh{} ======================================================================================================================}\n",
              "\\PY{c+c1}{\\PYZsh{}                                                 == General Options ==                                                 }\n",
              "\\PY{c+c1}{\\PYZsh{} ======================================================================================================================}\n",
              "\\PY{c+c1}{\\PYZsh{} \\PYZhy{}\\PYZhy{}\\PYZhy{}\\PYZhy{}\\PYZhy{}\\PYZhy{}\\PYZhy{}\\PYZhy{}\\PYZhy{}\\PYZhy{}\\PYZhy{}\\PYZhy{}\\PYZhy{}\\PYZhy{}\\PYZhy{}\\PYZhy{}\\PYZhy{}\\PYZhy{}\\PYZhy{}\\PYZhy{}\\PYZhy{}\\PYZhy{}\\PYZhy{}\\PYZhy{}\\PYZhy{}\\PYZhy{}\\PYZhy{}\\PYZhy{}\\PYZhy{}\\PYZhy{}\\PYZhy{}\\PYZhy{}\\PYZhy{}\\PYZhy{}\\PYZhy{}\\PYZhy{}\\PYZhy{}===== The chip family name [Required] =====\\PYZhy{}\\PYZhy{}\\PYZhy{}\\PYZhy{}\\PYZhy{}\\PYZhy{}\\PYZhy{}\\PYZhy{}\\PYZhy{}\\PYZhy{}\\PYZhy{}\\PYZhy{}\\PYZhy{}\\PYZhy{}\\PYZhy{}\\PYZhy{}\\PYZhy{}\\PYZhy{}\\PYZhy{}\\PYZhy{}\\PYZhy{}\\PYZhy{}\\PYZhy{}\\PYZhy{}\\PYZhy{}\\PYZhy{}\\PYZhy{}\\PYZhy{}\\PYZhy{}\\PYZhy{}\\PYZhy{}\\PYZhy{}\\PYZhy{}\\PYZhy{}\\PYZhy{}\\PYZhy{}\\PYZhy{}\\PYZhy{}}\n",
              "\\PY{c+c1}{\\PYZsh{} Description: NXP chip family identifier.}\n",
              "\\PY{c+c1}{\\PYZsh{} Possible options: \\PYZlt{}lpc5502, lpc5504, lpc5506, lpc5512, lpc5514, lpc5516, lpc5526, lpc5528, lpc55s04, lpc55s06,}\n",
              "\\PY{c+c1}{\\PYZsh{} lpc55s14, lpc55s16, lpc55s26, lpc55s28, lpc55s36, lpc55s66, lpc55s69, mcxn235, mcxn236, mimxrt1010, mimxrt1015,}\n",
              "\\PY{c+c1}{\\PYZsh{} mimxrt1020, mimxrt1024, mimxrt1040, mimxrt1050, mimxrt1060, mimxrt1064, mimxrt1165, mimxrt1166, mimxrt1171,}\n",
              "\\PY{c+c1}{\\PYZsh{} mimxrt1172, mimxrt1173, mimxrt1175, mimxrt1176, mimxrt1181, mimxrt1182, mimxrt1187, mimxrt1189, mimxrt533s,}\n",
              "\\PY{c+c1}{\\PYZsh{} mimxrt555s, mimxrt595s, mimxrt685s, rw610, rw612\\PYZgt{}}\n",
              "\\PY{n+nt}{family}\\PY{p}{:}\\PY{+w}{ }\\PY{l+lScalar+lScalarPlain}{mimxrt1189}\n",
              "\\PY{c+c1}{\\PYZsh{} \\PYZhy{}\\PYZhy{}\\PYZhy{}\\PYZhy{}\\PYZhy{}\\PYZhy{}\\PYZhy{}\\PYZhy{}\\PYZhy{}\\PYZhy{}\\PYZhy{}\\PYZhy{}\\PYZhy{}\\PYZhy{}\\PYZhy{}\\PYZhy{}\\PYZhy{}\\PYZhy{}\\PYZhy{}\\PYZhy{}\\PYZhy{}\\PYZhy{}\\PYZhy{}\\PYZhy{}\\PYZhy{}\\PYZhy{}\\PYZhy{}\\PYZhy{}\\PYZhy{}\\PYZhy{}\\PYZhy{}\\PYZhy{}\\PYZhy{}\\PYZhy{}\\PYZhy{}\\PYZhy{}\\PYZhy{}\\PYZhy{}\\PYZhy{}\\PYZhy{}\\PYZhy{}===== MCU revision [Optional] =====\\PYZhy{}\\PYZhy{}\\PYZhy{}\\PYZhy{}\\PYZhy{}\\PYZhy{}\\PYZhy{}\\PYZhy{}\\PYZhy{}\\PYZhy{}\\PYZhy{}\\PYZhy{}\\PYZhy{}\\PYZhy{}\\PYZhy{}\\PYZhy{}\\PYZhy{}\\PYZhy{}\\PYZhy{}\\PYZhy{}\\PYZhy{}\\PYZhy{}\\PYZhy{}\\PYZhy{}\\PYZhy{}\\PYZhy{}\\PYZhy{}\\PYZhy{}\\PYZhy{}\\PYZhy{}\\PYZhy{}\\PYZhy{}\\PYZhy{}\\PYZhy{}\\PYZhy{}\\PYZhy{}\\PYZhy{}\\PYZhy{}\\PYZhy{}\\PYZhy{}\\PYZhy{}\\PYZhy{}}\n",
              "\\PY{c+c1}{\\PYZsh{} Description: Revision of silicon. The \\PYZsq{}latest\\PYZsq{} name, means most current revision.}\n",
              "\\PY{c+c1}{\\PYZsh{} Possible options: \\PYZlt{}a0, b0, latest\\PYZgt{}}\n",
              "\\PY{n+nt}{revision}\\PY{p}{:}\\PY{+w}{ }\\PY{l+lScalar+lScalarPlain}{latest}\n",
              "\\PY{c+c1}{\\PYZsh{} \\PYZhy{}\\PYZhy{}\\PYZhy{}\\PYZhy{}\\PYZhy{}\\PYZhy{}\\PYZhy{}\\PYZhy{}\\PYZhy{}\\PYZhy{}\\PYZhy{}\\PYZhy{}\\PYZhy{}\\PYZhy{}\\PYZhy{}\\PYZhy{}\\PYZhy{}\\PYZhy{}\\PYZhy{}\\PYZhy{}\\PYZhy{}\\PYZhy{}\\PYZhy{}\\PYZhy{}\\PYZhy{}\\PYZhy{}\\PYZhy{}\\PYZhy{}\\PYZhy{}\\PYZhy{}\\PYZhy{}\\PYZhy{}\\PYZhy{}\\PYZhy{}\\PYZhy{}\\PYZhy{}\\PYZhy{}\\PYZhy{}\\PYZhy{}\\PYZhy{}===== Peripheral name [Required] =====\\PYZhy{}\\PYZhy{}\\PYZhy{}\\PYZhy{}\\PYZhy{}\\PYZhy{}\\PYZhy{}\\PYZhy{}\\PYZhy{}\\PYZhy{}\\PYZhy{}\\PYZhy{}\\PYZhy{}\\PYZhy{}\\PYZhy{}\\PYZhy{}\\PYZhy{}\\PYZhy{}\\PYZhy{}\\PYZhy{}\\PYZhy{}\\PYZhy{}\\PYZhy{}\\PYZhy{}\\PYZhy{}\\PYZhy{}\\PYZhy{}\\PYZhy{}\\PYZhy{}\\PYZhy{}\\PYZhy{}\\PYZhy{}\\PYZhy{}\\PYZhy{}\\PYZhy{}\\PYZhy{}\\PYZhy{}\\PYZhy{}\\PYZhy{}\\PYZhy{}}\n",
              "\\PY{c+c1}{\\PYZsh{} Description: Name of the external memory support peripheral}\n",
              "\\PY{c+c1}{\\PYZsh{} Possible options: \\PYZlt{}flexspi\\PYZus{}nor, flexspi\\PYZus{}nand, semc\\PYZus{}nor, semc\\PYZus{}nand, spi\\PYZus{}nor, mmc, sd\\PYZgt{}}\n",
              "\\PY{n+nt}{peripheral}\\PY{p}{:}\\PY{+w}{ }\\PY{l+lScalar+lScalarPlain}{flexspi\\PYZus{}nor}\n",
              "\\PY{c+c1}{\\PYZsh{} \\PYZhy{}\\PYZhy{}\\PYZhy{}\\PYZhy{}\\PYZhy{}\\PYZhy{}\\PYZhy{}\\PYZhy{}\\PYZhy{}\\PYZhy{}\\PYZhy{}\\PYZhy{}\\PYZhy{}\\PYZhy{}\\PYZhy{}\\PYZhy{}\\PYZhy{}\\PYZhy{}\\PYZhy{}\\PYZhy{}\\PYZhy{}\\PYZhy{}\\PYZhy{}\\PYZhy{}\\PYZhy{}\\PYZhy{}\\PYZhy{}\\PYZhy{}\\PYZhy{}\\PYZhy{}\\PYZhy{}\\PYZhy{}\\PYZhy{}\\PYZhy{}\\PYZhy{}\\PYZhy{}\\PYZhy{}\\PYZhy{}\\PYZhy{}\\PYZhy{}===== Interface name [Optional] =====\\PYZhy{}\\PYZhy{}\\PYZhy{}\\PYZhy{}\\PYZhy{}\\PYZhy{}\\PYZhy{}\\PYZhy{}\\PYZhy{}\\PYZhy{}\\PYZhy{}\\PYZhy{}\\PYZhy{}\\PYZhy{}\\PYZhy{}\\PYZhy{}\\PYZhy{}\\PYZhy{}\\PYZhy{}\\PYZhy{}\\PYZhy{}\\PYZhy{}\\PYZhy{}\\PYZhy{}\\PYZhy{}\\PYZhy{}\\PYZhy{}\\PYZhy{}\\PYZhy{}\\PYZhy{}\\PYZhy{}\\PYZhy{}\\PYZhy{}\\PYZhy{}\\PYZhy{}\\PYZhy{}\\PYZhy{}\\PYZhy{}\\PYZhy{}\\PYZhy{}\\PYZhy{}}\n",
              "\\PY{c+c1}{\\PYZsh{} Description: Interface name of some other details about connection}\n",
              "\\PY{n+nt}{interface}\\PY{p}{:}\\PY{+w}{ }\\PY{l+lScalar+lScalarPlain}{quad\\PYZus{}spi}\n",
              "\\PY{c+c1}{\\PYZsh{} \\PYZhy{}\\PYZhy{}\\PYZhy{}\\PYZhy{}\\PYZhy{}\\PYZhy{}\\PYZhy{}\\PYZhy{}\\PYZhy{}\\PYZhy{}\\PYZhy{}\\PYZhy{}\\PYZhy{}\\PYZhy{}\\PYZhy{}\\PYZhy{}\\PYZhy{}\\PYZhy{}\\PYZhy{}\\PYZhy{}\\PYZhy{}\\PYZhy{}\\PYZhy{}\\PYZhy{}\\PYZhy{}\\PYZhy{}\\PYZhy{}\\PYZhy{}\\PYZhy{}\\PYZhy{}\\PYZhy{}\\PYZhy{}\\PYZhy{}\\PYZhy{}\\PYZhy{}\\PYZhy{}\\PYZhy{}===== Option words settings [Required] =====\\PYZhy{}\\PYZhy{}\\PYZhy{}\\PYZhy{}\\PYZhy{}\\PYZhy{}\\PYZhy{}\\PYZhy{}\\PYZhy{}\\PYZhy{}\\PYZhy{}\\PYZhy{}\\PYZhy{}\\PYZhy{}\\PYZhy{}\\PYZhy{}\\PYZhy{}\\PYZhy{}\\PYZhy{}\\PYZhy{}\\PYZhy{}\\PYZhy{}\\PYZhy{}\\PYZhy{}\\PYZhy{}\\PYZhy{}\\PYZhy{}\\PYZhy{}\\PYZhy{}\\PYZhy{}\\PYZhy{}\\PYZhy{}\\PYZhy{}\\PYZhy{}\\PYZhy{}\\PYZhy{}\\PYZhy{}}\n",
              "\\PY{c+c1}{\\PYZsh{} Description: The The option word settings}\n",
              "\\PY{n+nt}{settings}\\PY{p}{:}\n",
              "\\PY{+w}{  }\\PY{c+c1}{\\PYZsh{} \\PYZhy{}\\PYZhy{}\\PYZhy{}\\PYZhy{}\\PYZhy{}\\PYZhy{}\\PYZhy{}\\PYZhy{}\\PYZhy{}\\PYZhy{}\\PYZhy{}\\PYZhy{}\\PYZhy{}\\PYZhy{}\\PYZhy{}\\PYZhy{}\\PYZhy{}\\PYZhy{}\\PYZhy{}\\PYZhy{}\\PYZhy{}\\PYZhy{}\\PYZhy{}\\PYZhy{}\\PYZhy{}\\PYZhy{}\\PYZhy{}\\PYZhy{}\\PYZhy{}\\PYZhy{}\\PYZhy{}\\PYZhy{}\\PYZhy{}\\PYZhy{}\\PYZhy{}\\PYZhy{}\\PYZhy{}\\PYZhy{}\\PYZhy{}\\PYZhy{}===== ConfigOption0 [Optional] =====\\PYZhy{}\\PYZhy{}\\PYZhy{}\\PYZhy{}\\PYZhy{}\\PYZhy{}\\PYZhy{}\\PYZhy{}\\PYZhy{}\\PYZhy{}\\PYZhy{}\\PYZhy{}\\PYZhy{}\\PYZhy{}\\PYZhy{}\\PYZhy{}\\PYZhy{}\\PYZhy{}\\PYZhy{}\\PYZhy{}\\PYZhy{}\\PYZhy{}\\PYZhy{}\\PYZhy{}\\PYZhy{}\\PYZhy{}\\PYZhy{}\\PYZhy{}\\PYZhy{}\\PYZhy{}\\PYZhy{}\\PYZhy{}\\PYZhy{}\\PYZhy{}\\PYZhy{}\\PYZhy{}\\PYZhy{}\\PYZhy{}\\PYZhy{}\\PYZhy{}}\n",
              "\\PY{+w}{  }\\PY{c+c1}{\\PYZsh{} Description: Offset: 0x00000000, Width: 32b; FlexSPI NOR Configuration Option 0}\n",
              "\\PY{+w}{  }\\PY{n+nt}{ConfigOption0}\\PY{p}{:}\n",
              "\\PY{+w}{    }\\PY{c+c1}{\\PYZsh{} \\PYZhy{}\\PYZhy{}\\PYZhy{}\\PYZhy{}\\PYZhy{}\\PYZhy{}\\PYZhy{}\\PYZhy{}\\PYZhy{}\\PYZhy{}\\PYZhy{}\\PYZhy{}\\PYZhy{}\\PYZhy{}\\PYZhy{}\\PYZhy{}\\PYZhy{}\\PYZhy{}\\PYZhy{}\\PYZhy{}\\PYZhy{}\\PYZhy{}\\PYZhy{}\\PYZhy{}\\PYZhy{}\\PYZhy{}\\PYZhy{}\\PYZhy{}\\PYZhy{}\\PYZhy{}\\PYZhy{}\\PYZhy{}\\PYZhy{}\\PYZhy{}\\PYZhy{}\\PYZhy{}\\PYZhy{}\\PYZhy{}\\PYZhy{}\\PYZhy{}\\PYZhy{}\\PYZhy{}===== MaxFreq [Optional] =====\\PYZhy{}\\PYZhy{}\\PYZhy{}\\PYZhy{}\\PYZhy{}\\PYZhy{}\\PYZhy{}\\PYZhy{}\\PYZhy{}\\PYZhy{}\\PYZhy{}\\PYZhy{}\\PYZhy{}\\PYZhy{}\\PYZhy{}\\PYZhy{}\\PYZhy{}\\PYZhy{}\\PYZhy{}\\PYZhy{}\\PYZhy{}\\PYZhy{}\\PYZhy{}\\PYZhy{}\\PYZhy{}\\PYZhy{}\\PYZhy{}\\PYZhy{}\\PYZhy{}\\PYZhy{}\\PYZhy{}\\PYZhy{}\\PYZhy{}\\PYZhy{}\\PYZhy{}\\PYZhy{}\\PYZhy{}\\PYZhy{}\\PYZhy{}\\PYZhy{}\\PYZhy{}\\PYZhy{}}\n",
              "\\PY{+w}{    }\\PY{c+c1}{\\PYZsh{} Description: Offset: 0b, Width: 4b, The maximum work frequency for specified Flash device; 0 \\PYZhy{} Don\\PYZsq{}t change}\n",
              "\\PY{+w}{    }\\PY{c+c1}{\\PYZsh{} FlexSPI clock setting}\n",
              "\\PY{+w}{    }\\PY{n+nt}{MaxFreq}\\PY{p}{:}\\PY{+w}{ }\\PY{l+lScalar+lScalarPlain}{0}\n",
              "\\PY{+w}{    }\\PY{c+c1}{\\PYZsh{} \\PYZhy{}\\PYZhy{}\\PYZhy{}\\PYZhy{}\\PYZhy{}\\PYZhy{}\\PYZhy{}\\PYZhy{}\\PYZhy{}\\PYZhy{}\\PYZhy{}\\PYZhy{}\\PYZhy{}\\PYZhy{}\\PYZhy{}\\PYZhy{}\\PYZhy{}\\PYZhy{}\\PYZhy{}\\PYZhy{}\\PYZhy{}\\PYZhy{}\\PYZhy{}\\PYZhy{}\\PYZhy{}\\PYZhy{}\\PYZhy{}\\PYZhy{}\\PYZhy{}\\PYZhy{}\\PYZhy{}\\PYZhy{}\\PYZhy{}\\PYZhy{}\\PYZhy{}\\PYZhy{}\\PYZhy{}\\PYZhy{}\\PYZhy{}\\PYZhy{}\\PYZhy{}\\PYZhy{}\\PYZhy{}===== Misc [Optional] =====\\PYZhy{}\\PYZhy{}\\PYZhy{}\\PYZhy{}\\PYZhy{}\\PYZhy{}\\PYZhy{}\\PYZhy{}\\PYZhy{}\\PYZhy{}\\PYZhy{}\\PYZhy{}\\PYZhy{}\\PYZhy{}\\PYZhy{}\\PYZhy{}\\PYZhy{}\\PYZhy{}\\PYZhy{}\\PYZhy{}\\PYZhy{}\\PYZhy{}\\PYZhy{}\\PYZhy{}\\PYZhy{}\\PYZhy{}\\PYZhy{}\\PYZhy{}\\PYZhy{}\\PYZhy{}\\PYZhy{}\\PYZhy{}\\PYZhy{}\\PYZhy{}\\PYZhy{}\\PYZhy{}\\PYZhy{}\\PYZhy{}\\PYZhy{}\\PYZhy{}\\PYZhy{}\\PYZhy{}\\PYZhy{}\\PYZhy{}}\n",
              "\\PY{+w}{    }\\PY{c+c1}{\\PYZsh{} Description: Offset: 4b, Width: 4b, Specify miscellaneous mode for selected flash type; Experimental feature, do}\n",
              "\\PY{+w}{    }\\PY{c+c1}{\\PYZsh{} not use in products, keep it as 0.}\n",
              "\\PY{+w}{    }\\PY{c+c1}{\\PYZsh{} \\PYZhy{} NotEnabled, (0): Miscellaneous mode is not enabled}\n",
              "\\PY{+w}{    }\\PY{c+c1}{\\PYZsh{} \\PYZhy{} Mode0\\PYZhy{}4\\PYZhy{}4, (1): Enable 0\\PYZhy{}4\\PYZhy{}4 mode for High Random Read performance}\n",
              "\\PY{+w}{    }\\PY{c+c1}{\\PYZsh{} \\PYZhy{} SwappedMode, (3):  Data Order Swapped mode (for MXIC OctaFlash only)}\n",
              "\\PY{+w}{    }\\PY{c+c1}{\\PYZsh{} \\PYZhy{} InternalLoopBack, (5):  Select the FlexSPI data sample source as internal loop back, more details please refer}\n",
              "\\PY{+w}{    }\\PY{c+c1}{\\PYZsh{} FlexSPI usage}\n",
              "\\PY{+w}{    }\\PY{c+c1}{\\PYZsh{} \\PYZhy{} StandSpiMode, (6):  Config the FlexSPI NOR flash running at stand SPI mode}\n",
              "\\PY{+w}{    }\\PY{c+c1}{\\PYZsh{} Possible options: \\PYZlt{}NotEnabled, Mode0\\PYZhy{}4\\PYZhy{}4, SwappedMode, InternalLoopBack, StandSpiMode\\PYZgt{}}\n",
              "\\PY{+w}{    }\\PY{n+nt}{Misc}\\PY{p}{:}\\PY{+w}{ }\\PY{l+lScalar+lScalarPlain}{NotEnabled}\n",
              "\\PY{+w}{    }\\PY{c+c1}{\\PYZsh{} \\PYZhy{}\\PYZhy{}\\PYZhy{}\\PYZhy{}\\PYZhy{}\\PYZhy{}\\PYZhy{}\\PYZhy{}\\PYZhy{}\\PYZhy{}\\PYZhy{}\\PYZhy{}\\PYZhy{}\\PYZhy{}\\PYZhy{}\\PYZhy{}\\PYZhy{}\\PYZhy{}\\PYZhy{}\\PYZhy{}\\PYZhy{}\\PYZhy{}\\PYZhy{}\\PYZhy{}\\PYZhy{}\\PYZhy{}\\PYZhy{}\\PYZhy{}\\PYZhy{}\\PYZhy{}\\PYZhy{}\\PYZhy{}\\PYZhy{}\\PYZhy{}\\PYZhy{}\\PYZhy{}\\PYZhy{}\\PYZhy{}===== QuadEnableType [Optional] =====\\PYZhy{}\\PYZhy{}\\PYZhy{}\\PYZhy{}\\PYZhy{}\\PYZhy{}\\PYZhy{}\\PYZhy{}\\PYZhy{}\\PYZhy{}\\PYZhy{}\\PYZhy{}\\PYZhy{}\\PYZhy{}\\PYZhy{}\\PYZhy{}\\PYZhy{}\\PYZhy{}\\PYZhy{}\\PYZhy{}\\PYZhy{}\\PYZhy{}\\PYZhy{}\\PYZhy{}\\PYZhy{}\\PYZhy{}\\PYZhy{}\\PYZhy{}\\PYZhy{}\\PYZhy{}\\PYZhy{}\\PYZhy{}\\PYZhy{}\\PYZhy{}\\PYZhy{}\\PYZhy{}\\PYZhy{}\\PYZhy{}\\PYZhy{}}\n",
              "\\PY{+w}{    }\\PY{c+c1}{\\PYZsh{} Description: Offset: 8b, Width: 4b, Specify the Quad Enable sequence, only applicable for device that only JESD216}\n",
              "\\PY{+w}{    }\\PY{c+c1}{\\PYZsh{} compliant, this field is ignored if device support JESD216A or later version. This field will be effective only if}\n",
              "\\PY{+w}{    }\\PY{c+c1}{\\PYZsh{} device is compliant with JESD216 only (9 longword SDFP table)}\n",
              "\\PY{+w}{    }\\PY{c+c1}{\\PYZsh{} \\PYZhy{} QeBitIsBit6InStatusReg1, (1): QE bit is bit6 in StatusReg1}\n",
              "\\PY{+w}{    }\\PY{c+c1}{\\PYZsh{} \\PYZhy{} QeBitIsBit1InStatusReg2, (2): QE bit is bit1 in StatusReg2}\n",
              "\\PY{+w}{    }\\PY{c+c1}{\\PYZsh{} \\PYZhy{} QeBitIsBit7InStatusReg2, (3): QE bit is bit7 in StatusReg2}\n",
              "\\PY{+w}{    }\\PY{c+c1}{\\PYZsh{} \\PYZhy{} QeBitIsBit1InStatusReg2EnableCommandIs0x31, (4): QE bit is bit1 in StatusReg2, enable command is 0x31}\n",
              "\\PY{+w}{    }\\PY{c+c1}{\\PYZsh{} Possible options: \\PYZlt{}QeBitIsBit6InStatusReg1, QeBitIsBit1InStatusReg2, QeBitIsBit7InStatusReg2,}\n",
              "\\PY{+w}{    }\\PY{c+c1}{\\PYZsh{} QeBitIsBit1InStatusReg2EnableCommandIs0x31\\PYZgt{}}\n",
              "\\PY{+w}{    }\\PY{n+nt}{QuadEnableType}\\PY{p}{:}\\PY{+w}{ }\\PY{l+s}{\\PYZsq{}}\\PY{l+s}{0x0}\\PY{l+s}{\\PYZsq{}}\n",
              "\\PY{+w}{    }\\PY{c+c1}{\\PYZsh{} \\PYZhy{}\\PYZhy{}\\PYZhy{}\\PYZhy{}\\PYZhy{}\\PYZhy{}\\PYZhy{}\\PYZhy{}\\PYZhy{}\\PYZhy{}\\PYZhy{}\\PYZhy{}\\PYZhy{}\\PYZhy{}\\PYZhy{}\\PYZhy{}\\PYZhy{}\\PYZhy{}\\PYZhy{}\\PYZhy{}\\PYZhy{}\\PYZhy{}\\PYZhy{}\\PYZhy{}\\PYZhy{}\\PYZhy{}\\PYZhy{}\\PYZhy{}\\PYZhy{}\\PYZhy{}\\PYZhy{}\\PYZhy{}\\PYZhy{}\\PYZhy{}\\PYZhy{}\\PYZhy{}\\PYZhy{}\\PYZhy{}\\PYZhy{}\\PYZhy{}\\PYZhy{}===== CMDPad(s) [Optional] =====\\PYZhy{}\\PYZhy{}\\PYZhy{}\\PYZhy{}\\PYZhy{}\\PYZhy{}\\PYZhy{}\\PYZhy{}\\PYZhy{}\\PYZhy{}\\PYZhy{}\\PYZhy{}\\PYZhy{}\\PYZhy{}\\PYZhy{}\\PYZhy{}\\PYZhy{}\\PYZhy{}\\PYZhy{}\\PYZhy{}\\PYZhy{}\\PYZhy{}\\PYZhy{}\\PYZhy{}\\PYZhy{}\\PYZhy{}\\PYZhy{}\\PYZhy{}\\PYZhy{}\\PYZhy{}\\PYZhy{}\\PYZhy{}\\PYZhy{}\\PYZhy{}\\PYZhy{}\\PYZhy{}\\PYZhy{}\\PYZhy{}\\PYZhy{}\\PYZhy{}\\PYZhy{}}\n",
              "\\PY{+w}{    }\\PY{c+c1}{\\PYZsh{} Description: Offset: 12b, Width: 4b, Commands pads for the Flash device (1/4/8), for device that works under}\n",
              "\\PY{+w}{    }\\PY{c+c1}{\\PYZsh{} 1\\PYZhy{}1\\PYZhy{}4,1\\PYZhy{}4\\PYZhy{}4,1\\PYZhy{}1\\PYZhy{}8 or 1\\PYZhy{}8\\PYZhy{}8 mode, CMD pad(s) value is always 0x0, for devices that only support 4\\PYZhy{}4\\PYZhy{}4 mode for high}\n",
              "\\PY{+w}{    }\\PY{c+c1}{\\PYZsh{} performance, CMD pads value is 2, for devices that only support 8\\PYZhy{}8\\PYZhy{}8 mode for high performance, CMD pads value is}\n",
              "\\PY{+w}{    }\\PY{c+c1}{\\PYZsh{} 3}\n",
              "\\PY{+w}{    }\\PY{c+c1}{\\PYZsh{} \\PYZhy{} 1, (0): 1 bit}\n",
              "\\PY{+w}{    }\\PY{c+c1}{\\PYZsh{} \\PYZhy{} 4, (2): 4 bits}\n",
              "\\PY{+w}{    }\\PY{c+c1}{\\PYZsh{} \\PYZhy{} 8, (3): 8 bits}\n",
              "\\PY{+w}{    }\\PY{c+c1}{\\PYZsh{} Possible options: \\PYZlt{}1, 4, 8\\PYZgt{}}\n",
              "\\PY{+w}{    }\\PY{n+nt}{CMDPad(s)}\\PY{p}{:}\\PY{+w}{ }\\PY{l+s}{\\PYZsq{}}\\PY{l+s}{1}\\PY{l+s}{\\PYZsq{}}\n",
              "\\PY{+w}{    }\\PY{c+c1}{\\PYZsh{} \\PYZhy{}\\PYZhy{}\\PYZhy{}\\PYZhy{}\\PYZhy{}\\PYZhy{}\\PYZhy{}\\PYZhy{}\\PYZhy{}\\PYZhy{}\\PYZhy{}\\PYZhy{}\\PYZhy{}\\PYZhy{}\\PYZhy{}\\PYZhy{}\\PYZhy{}\\PYZhy{}\\PYZhy{}\\PYZhy{}\\PYZhy{}\\PYZhy{}\\PYZhy{}\\PYZhy{}\\PYZhy{}\\PYZhy{}\\PYZhy{}\\PYZhy{}\\PYZhy{}\\PYZhy{}\\PYZhy{}\\PYZhy{}\\PYZhy{}\\PYZhy{}\\PYZhy{}\\PYZhy{}\\PYZhy{}\\PYZhy{}===== Query CMDPad(s) [Optional] =====\\PYZhy{}\\PYZhy{}\\PYZhy{}\\PYZhy{}\\PYZhy{}\\PYZhy{}\\PYZhy{}\\PYZhy{}\\PYZhy{}\\PYZhy{}\\PYZhy{}\\PYZhy{}\\PYZhy{}\\PYZhy{}\\PYZhy{}\\PYZhy{}\\PYZhy{}\\PYZhy{}\\PYZhy{}\\PYZhy{}\\PYZhy{}\\PYZhy{}\\PYZhy{}\\PYZhy{}\\PYZhy{}\\PYZhy{}\\PYZhy{}\\PYZhy{}\\PYZhy{}\\PYZhy{}\\PYZhy{}\\PYZhy{}\\PYZhy{}\\PYZhy{}\\PYZhy{}\\PYZhy{}\\PYZhy{}\\PYZhy{}}\n",
              "\\PY{+w}{    }\\PY{c+c1}{\\PYZsh{} Description: Offset: 16b, Width: 4b, Command pads (1/4/8) for the SFDP command}\n",
              "\\PY{+w}{    }\\PY{c+c1}{\\PYZsh{} \\PYZhy{} 1, (0): 1 bit}\n",
              "\\PY{+w}{    }\\PY{c+c1}{\\PYZsh{} \\PYZhy{} 4, (2): 4 bits}\n",
              "\\PY{+w}{    }\\PY{c+c1}{\\PYZsh{} \\PYZhy{} 8, (3): 8 bits}\n",
              "\\PY{+w}{    }\\PY{c+c1}{\\PYZsh{} Possible options: \\PYZlt{}1, 4, 8\\PYZgt{}}\n",
              "\\PY{+w}{    }\\PY{n+nt}{Query CMDPad(s)}\\PY{p}{:}\\PY{+w}{ }\\PY{l+s}{\\PYZsq{}}\\PY{l+s}{1}\\PY{l+s}{\\PYZsq{}}\n",
              "\\PY{+w}{    }\\PY{c+c1}{\\PYZsh{} \\PYZhy{}\\PYZhy{}\\PYZhy{}\\PYZhy{}\\PYZhy{}\\PYZhy{}\\PYZhy{}\\PYZhy{}\\PYZhy{}\\PYZhy{}\\PYZhy{}\\PYZhy{}\\PYZhy{}\\PYZhy{}\\PYZhy{}\\PYZhy{}\\PYZhy{}\\PYZhy{}\\PYZhy{}\\PYZhy{}\\PYZhy{}\\PYZhy{}\\PYZhy{}\\PYZhy{}\\PYZhy{}\\PYZhy{}\\PYZhy{}\\PYZhy{}\\PYZhy{}\\PYZhy{}\\PYZhy{}\\PYZhy{}\\PYZhy{}\\PYZhy{}\\PYZhy{}===== Device Detection Type [Optional] =====\\PYZhy{}\\PYZhy{}\\PYZhy{}\\PYZhy{}\\PYZhy{}\\PYZhy{}\\PYZhy{}\\PYZhy{}\\PYZhy{}\\PYZhy{}\\PYZhy{}\\PYZhy{}\\PYZhy{}\\PYZhy{}\\PYZhy{}\\PYZhy{}\\PYZhy{}\\PYZhy{}\\PYZhy{}\\PYZhy{}\\PYZhy{}\\PYZhy{}\\PYZhy{}\\PYZhy{}\\PYZhy{}\\PYZhy{}\\PYZhy{}\\PYZhy{}\\PYZhy{}\\PYZhy{}\\PYZhy{}\\PYZhy{}\\PYZhy{}\\PYZhy{}\\PYZhy{}}\n",
              "\\PY{+w}{    }\\PY{c+c1}{\\PYZsh{} Description: Offset: 20b, Width: 4b, SW defined device types used for config block autodetection}\n",
              "\\PY{+w}{    }\\PY{c+c1}{\\PYZsh{} \\PYZhy{} QuadSPI\\PYZus{}SDR, (0): QuadSPI SDR}\n",
              "\\PY{+w}{    }\\PY{c+c1}{\\PYZsh{} \\PYZhy{} QuadSPI\\PYZus{}DDR, (1): QuadSPI DDR}\n",
              "\\PY{+w}{    }\\PY{c+c1}{\\PYZsh{} \\PYZhy{} HyperFLASH\\PYZus{}1V8, (2): HyperFLASH 1V8}\n",
              "\\PY{+w}{    }\\PY{c+c1}{\\PYZsh{} \\PYZhy{} HyperFLASH\\PYZus{}3V, (3): HyperFLASH 3V}\n",
              "\\PY{+w}{    }\\PY{c+c1}{\\PYZsh{} \\PYZhy{} MXICOPI\\PYZus{}DDR, (4): MXICOPI DDR}\n",
              "\\PY{+w}{    }\\PY{c+c1}{\\PYZsh{} \\PYZhy{} MicronOPI\\PYZus{}DDR, (6): MicronOPI DDR}\n",
              "\\PY{+w}{    }\\PY{c+c1}{\\PYZsh{} \\PYZhy{} AdestoOPI\\PYZus{}DDR, (8): AdestoOPI DDR}\n",
              "\\PY{+w}{    }\\PY{c+c1}{\\PYZsh{} Possible options: \\PYZlt{}QuadSPI\\PYZus{}SDR, QuadSPI\\PYZus{}DDR, HyperFLASH\\PYZus{}1V8, HyperFLASH\\PYZus{}3V, MXICOPI\\PYZus{}DDR, MicronOPI\\PYZus{}DDR,}\n",
              "\\PY{+w}{    }\\PY{c+c1}{\\PYZsh{} AdestoOPI\\PYZus{}DDR\\PYZgt{}}\n",
              "\\PY{+w}{    }\\PY{n+nt}{Device Detection Type}\\PY{p}{:}\\PY{+w}{ }\\PY{l+lScalar+lScalarPlain}{QuadSPI\\PYZus{}SDR}\n",
              "\\PY{+w}{    }\\PY{c+c1}{\\PYZsh{} \\PYZhy{}\\PYZhy{}\\PYZhy{}\\PYZhy{}\\PYZhy{}\\PYZhy{}\\PYZhy{}\\PYZhy{}\\PYZhy{}\\PYZhy{}\\PYZhy{}\\PYZhy{}\\PYZhy{}\\PYZhy{}\\PYZhy{}\\PYZhy{}\\PYZhy{}\\PYZhy{}\\PYZhy{}\\PYZhy{}\\PYZhy{}\\PYZhy{}\\PYZhy{}\\PYZhy{}\\PYZhy{}\\PYZhy{}\\PYZhy{}\\PYZhy{}\\PYZhy{}\\PYZhy{}\\PYZhy{}\\PYZhy{}\\PYZhy{}\\PYZhy{}\\PYZhy{}\\PYZhy{}\\PYZhy{}\\PYZhy{}\\PYZhy{}\\PYZhy{}===== OptionSize [Optional] =====\\PYZhy{}\\PYZhy{}\\PYZhy{}\\PYZhy{}\\PYZhy{}\\PYZhy{}\\PYZhy{}\\PYZhy{}\\PYZhy{}\\PYZhy{}\\PYZhy{}\\PYZhy{}\\PYZhy{}\\PYZhy{}\\PYZhy{}\\PYZhy{}\\PYZhy{}\\PYZhy{}\\PYZhy{}\\PYZhy{}\\PYZhy{}\\PYZhy{}\\PYZhy{}\\PYZhy{}\\PYZhy{}\\PYZhy{}\\PYZhy{}\\PYZhy{}\\PYZhy{}\\PYZhy{}\\PYZhy{}\\PYZhy{}\\PYZhy{}\\PYZhy{}\\PYZhy{}\\PYZhy{}\\PYZhy{}\\PYZhy{}\\PYZhy{}\\PYZhy{}\\PYZhy{}}\n",
              "\\PY{+w}{    }\\PY{c+c1}{\\PYZsh{} Description: Offset: 24b, Width: 4b, Option Size}\n",
              "\\PY{+w}{    }\\PY{c+c1}{\\PYZsh{} \\PYZhy{} OptionSize1, (0): Option words = 1}\n",
              "\\PY{+w}{    }\\PY{c+c1}{\\PYZsh{} \\PYZhy{} OptionSize2, (1): Option words = 2}\n",
              "\\PY{+w}{    }\\PY{c+c1}{\\PYZsh{} Possible options: \\PYZlt{}OptionSize1, OptionSize2\\PYZgt{}}\n",
              "\\PY{+w}{    }\\PY{n+nt}{OptionSize}\\PY{p}{:}\\PY{+w}{ }\\PY{l+lScalar+lScalarPlain}{OptionSize1}\n",
              "\\PY{+w}{  }\\PY{c+c1}{\\PYZsh{} \\PYZhy{}\\PYZhy{}\\PYZhy{}\\PYZhy{}\\PYZhy{}\\PYZhy{}\\PYZhy{}\\PYZhy{}\\PYZhy{}\\PYZhy{}\\PYZhy{}\\PYZhy{}\\PYZhy{}\\PYZhy{}\\PYZhy{}\\PYZhy{}\\PYZhy{}\\PYZhy{}\\PYZhy{}\\PYZhy{}\\PYZhy{}\\PYZhy{}\\PYZhy{}\\PYZhy{}\\PYZhy{}\\PYZhy{}\\PYZhy{}\\PYZhy{}\\PYZhy{}\\PYZhy{}\\PYZhy{}\\PYZhy{}\\PYZhy{}\\PYZhy{}\\PYZhy{}\\PYZhy{}\\PYZhy{}\\PYZhy{}\\PYZhy{}\\PYZhy{}===== ConfigOption1 [Optional] =====\\PYZhy{}\\PYZhy{}\\PYZhy{}\\PYZhy{}\\PYZhy{}\\PYZhy{}\\PYZhy{}\\PYZhy{}\\PYZhy{}\\PYZhy{}\\PYZhy{}\\PYZhy{}\\PYZhy{}\\PYZhy{}\\PYZhy{}\\PYZhy{}\\PYZhy{}\\PYZhy{}\\PYZhy{}\\PYZhy{}\\PYZhy{}\\PYZhy{}\\PYZhy{}\\PYZhy{}\\PYZhy{}\\PYZhy{}\\PYZhy{}\\PYZhy{}\\PYZhy{}\\PYZhy{}\\PYZhy{}\\PYZhy{}\\PYZhy{}\\PYZhy{}\\PYZhy{}\\PYZhy{}\\PYZhy{}\\PYZhy{}\\PYZhy{}\\PYZhy{}}\n",
              "\\PY{+w}{  }\\PY{c+c1}{\\PYZsh{} Description: Offset: 0x00000004, Width: 32b; FlexSPI NOR Flash Configuration Option 1 \\PYZhy{} Optional}\n",
              "\\PY{+w}{  }\\PY{n+nt}{ConfigOption1}\\PY{p}{:}\n",
              "\\PY{+w}{    }\\PY{c+c1}{\\PYZsh{} \\PYZhy{}\\PYZhy{}\\PYZhy{}\\PYZhy{}\\PYZhy{}\\PYZhy{}\\PYZhy{}\\PYZhy{}\\PYZhy{}\\PYZhy{}\\PYZhy{}\\PYZhy{}\\PYZhy{}\\PYZhy{}\\PYZhy{}\\PYZhy{}\\PYZhy{}\\PYZhy{}\\PYZhy{}\\PYZhy{}\\PYZhy{}\\PYZhy{}\\PYZhy{}\\PYZhy{}\\PYZhy{}\\PYZhy{}\\PYZhy{}\\PYZhy{}\\PYZhy{}\\PYZhy{}\\PYZhy{}\\PYZhy{}\\PYZhy{}\\PYZhy{}\\PYZhy{}\\PYZhy{}\\PYZhy{}\\PYZhy{}\\PYZhy{}\\PYZhy{}===== DummyCycles [Optional] =====\\PYZhy{}\\PYZhy{}\\PYZhy{}\\PYZhy{}\\PYZhy{}\\PYZhy{}\\PYZhy{}\\PYZhy{}\\PYZhy{}\\PYZhy{}\\PYZhy{}\\PYZhy{}\\PYZhy{}\\PYZhy{}\\PYZhy{}\\PYZhy{}\\PYZhy{}\\PYZhy{}\\PYZhy{}\\PYZhy{}\\PYZhy{}\\PYZhy{}\\PYZhy{}\\PYZhy{}\\PYZhy{}\\PYZhy{}\\PYZhy{}\\PYZhy{}\\PYZhy{}\\PYZhy{}\\PYZhy{}\\PYZhy{}\\PYZhy{}\\PYZhy{}\\PYZhy{}\\PYZhy{}\\PYZhy{}\\PYZhy{}\\PYZhy{}\\PYZhy{}}\n",
              "\\PY{+w}{    }\\PY{c+c1}{\\PYZsh{} Description: Offset: 0b, Width: 8b, User provided dummy cycles for SDR/DDR read command: 0 \\PYZhy{} Auto detection,}\n",
              "\\PY{+w}{    }\\PY{c+c1}{\\PYZsh{} Others \\PYZhy{} Specified dummy cycles}\n",
              "\\PY{+w}{    }\\PY{n+nt}{DummyCycles}\\PY{p}{:}\\PY{+w}{ }\\PY{l+lScalar+lScalarPlain}{0}\n",
              "\\PY{+w}{    }\\PY{c+c1}{\\PYZsh{} \\PYZhy{}\\PYZhy{}\\PYZhy{}\\PYZhy{}\\PYZhy{}\\PYZhy{}\\PYZhy{}\\PYZhy{}\\PYZhy{}\\PYZhy{}\\PYZhy{}\\PYZhy{}\\PYZhy{}\\PYZhy{}\\PYZhy{}\\PYZhy{}\\PYZhy{}\\PYZhy{}\\PYZhy{}\\PYZhy{}\\PYZhy{}\\PYZhy{}\\PYZhy{}\\PYZhy{}\\PYZhy{}\\PYZhy{}\\PYZhy{}\\PYZhy{}\\PYZhy{}\\PYZhy{}\\PYZhy{}\\PYZhy{}\\PYZhy{}\\PYZhy{}\\PYZhy{}\\PYZhy{}\\PYZhy{}\\PYZhy{}===== StatusOverride [Optional] =====\\PYZhy{}\\PYZhy{}\\PYZhy{}\\PYZhy{}\\PYZhy{}\\PYZhy{}\\PYZhy{}\\PYZhy{}\\PYZhy{}\\PYZhy{}\\PYZhy{}\\PYZhy{}\\PYZhy{}\\PYZhy{}\\PYZhy{}\\PYZhy{}\\PYZhy{}\\PYZhy{}\\PYZhy{}\\PYZhy{}\\PYZhy{}\\PYZhy{}\\PYZhy{}\\PYZhy{}\\PYZhy{}\\PYZhy{}\\PYZhy{}\\PYZhy{}\\PYZhy{}\\PYZhy{}\\PYZhy{}\\PYZhy{}\\PYZhy{}\\PYZhy{}\\PYZhy{}\\PYZhy{}\\PYZhy{}\\PYZhy{}\\PYZhy{}}\n",
              "\\PY{+w}{    }\\PY{c+c1}{\\PYZsh{} Description: Offset: 8b, Width: 8b, Override status register value during device mode configuration}\n",
              "\\PY{+w}{    }\\PY{n+nt}{StatusOverride}\\PY{p}{:}\\PY{+w}{ }\\PY{l+lScalar+lScalarPlain}{0}\n",
              "\\PY{+w}{    }\\PY{c+c1}{\\PYZsh{} \\PYZhy{}\\PYZhy{}\\PYZhy{}\\PYZhy{}\\PYZhy{}\\PYZhy{}\\PYZhy{}\\PYZhy{}\\PYZhy{}\\PYZhy{}\\PYZhy{}\\PYZhy{}\\PYZhy{}\\PYZhy{}\\PYZhy{}\\PYZhy{}\\PYZhy{}\\PYZhy{}\\PYZhy{}\\PYZhy{}\\PYZhy{}\\PYZhy{}\\PYZhy{}\\PYZhy{}\\PYZhy{}\\PYZhy{}\\PYZhy{}\\PYZhy{}\\PYZhy{}\\PYZhy{}\\PYZhy{}\\PYZhy{}\\PYZhy{}\\PYZhy{}\\PYZhy{}\\PYZhy{}\\PYZhy{}\\PYZhy{}\\PYZhy{}\\PYZhy{}===== PinMuxGroup [Optional] =====\\PYZhy{}\\PYZhy{}\\PYZhy{}\\PYZhy{}\\PYZhy{}\\PYZhy{}\\PYZhy{}\\PYZhy{}\\PYZhy{}\\PYZhy{}\\PYZhy{}\\PYZhy{}\\PYZhy{}\\PYZhy{}\\PYZhy{}\\PYZhy{}\\PYZhy{}\\PYZhy{}\\PYZhy{}\\PYZhy{}\\PYZhy{}\\PYZhy{}\\PYZhy{}\\PYZhy{}\\PYZhy{}\\PYZhy{}\\PYZhy{}\\PYZhy{}\\PYZhy{}\\PYZhy{}\\PYZhy{}\\PYZhy{}\\PYZhy{}\\PYZhy{}\\PYZhy{}\\PYZhy{}\\PYZhy{}\\PYZhy{}\\PYZhy{}\\PYZhy{}}\n",
              "\\PY{+w}{    }\\PY{c+c1}{\\PYZsh{} Description: Offset: 16b, Width: 4b, Pin multiplexer group selection}\n",
              "\\PY{+w}{    }\\PY{n+nt}{PinMuxGroup}\\PY{p}{:}\\PY{+w}{ }\\PY{l+lScalar+lScalarPlain}{0}\n",
              "\\PY{+w}{    }\\PY{c+c1}{\\PYZsh{} \\PYZhy{}\\PYZhy{}\\PYZhy{}\\PYZhy{}\\PYZhy{}\\PYZhy{}\\PYZhy{}\\PYZhy{}\\PYZhy{}\\PYZhy{}\\PYZhy{}\\PYZhy{}\\PYZhy{}\\PYZhy{}\\PYZhy{}\\PYZhy{}\\PYZhy{}\\PYZhy{}\\PYZhy{}\\PYZhy{}\\PYZhy{}\\PYZhy{}\\PYZhy{}\\PYZhy{}\\PYZhy{}\\PYZhy{}\\PYZhy{}\\PYZhy{}\\PYZhy{}\\PYZhy{}\\PYZhy{}\\PYZhy{}\\PYZhy{}\\PYZhy{}\\PYZhy{}\\PYZhy{}\\PYZhy{}\\PYZhy{}===== DqsPinMuxGroup [Optional] =====\\PYZhy{}\\PYZhy{}\\PYZhy{}\\PYZhy{}\\PYZhy{}\\PYZhy{}\\PYZhy{}\\PYZhy{}\\PYZhy{}\\PYZhy{}\\PYZhy{}\\PYZhy{}\\PYZhy{}\\PYZhy{}\\PYZhy{}\\PYZhy{}\\PYZhy{}\\PYZhy{}\\PYZhy{}\\PYZhy{}\\PYZhy{}\\PYZhy{}\\PYZhy{}\\PYZhy{}\\PYZhy{}\\PYZhy{}\\PYZhy{}\\PYZhy{}\\PYZhy{}\\PYZhy{}\\PYZhy{}\\PYZhy{}\\PYZhy{}\\PYZhy{}\\PYZhy{}\\PYZhy{}\\PYZhy{}\\PYZhy{}\\PYZhy{}}\n",
              "\\PY{+w}{    }\\PY{c+c1}{\\PYZsh{} Description: Offset: 20b, Width: 4b, DQS Pin multiplexer group selection}\n",
              "\\PY{+w}{    }\\PY{n+nt}{DqsPinMuxGroup}\\PY{p}{:}\\PY{+w}{ }\\PY{l+lScalar+lScalarPlain}{0}\n",
              "\\PY{+w}{    }\\PY{c+c1}{\\PYZsh{} \\PYZhy{}\\PYZhy{}\\PYZhy{}\\PYZhy{}\\PYZhy{}\\PYZhy{}\\PYZhy{}\\PYZhy{}\\PYZhy{}\\PYZhy{}\\PYZhy{}\\PYZhy{}\\PYZhy{}\\PYZhy{}\\PYZhy{}\\PYZhy{}\\PYZhy{}\\PYZhy{}\\PYZhy{}\\PYZhy{}\\PYZhy{}\\PYZhy{}\\PYZhy{}\\PYZhy{}\\PYZhy{}\\PYZhy{}\\PYZhy{}\\PYZhy{}\\PYZhy{}\\PYZhy{}\\PYZhy{}\\PYZhy{}\\PYZhy{}\\PYZhy{}\\PYZhy{}\\PYZhy{}\\PYZhy{}===== PinDriveStrength [Optional] =====\\PYZhy{}\\PYZhy{}\\PYZhy{}\\PYZhy{}\\PYZhy{}\\PYZhy{}\\PYZhy{}\\PYZhy{}\\PYZhy{}\\PYZhy{}\\PYZhy{}\\PYZhy{}\\PYZhy{}\\PYZhy{}\\PYZhy{}\\PYZhy{}\\PYZhy{}\\PYZhy{}\\PYZhy{}\\PYZhy{}\\PYZhy{}\\PYZhy{}\\PYZhy{}\\PYZhy{}\\PYZhy{}\\PYZhy{}\\PYZhy{}\\PYZhy{}\\PYZhy{}\\PYZhy{}\\PYZhy{}\\PYZhy{}\\PYZhy{}\\PYZhy{}\\PYZhy{}\\PYZhy{}\\PYZhy{}\\PYZhy{}}\n",
              "\\PY{+w}{    }\\PY{c+c1}{\\PYZsh{} Description: Offset: 24b, Width: 4b, The Drive Strength of FlexSPI Pads}\n",
              "\\PY{+w}{    }\\PY{n+nt}{PinDriveStrength}\\PY{p}{:}\\PY{+w}{ }\\PY{l+lScalar+lScalarPlain}{0}\n",
              "\\PY{+w}{    }\\PY{c+c1}{\\PYZsh{} \\PYZhy{}\\PYZhy{}\\PYZhy{}\\PYZhy{}\\PYZhy{}\\PYZhy{}\\PYZhy{}\\PYZhy{}\\PYZhy{}\\PYZhy{}\\PYZhy{}\\PYZhy{}\\PYZhy{}\\PYZhy{}\\PYZhy{}\\PYZhy{}\\PYZhy{}\\PYZhy{}\\PYZhy{}\\PYZhy{}\\PYZhy{}\\PYZhy{}\\PYZhy{}\\PYZhy{}\\PYZhy{}\\PYZhy{}\\PYZhy{}\\PYZhy{}\\PYZhy{}\\PYZhy{}\\PYZhy{}\\PYZhy{}\\PYZhy{}\\PYZhy{}\\PYZhy{}\\PYZhy{}\\PYZhy{}\\PYZhy{}===== FlashConnection [Optional] =====\\PYZhy{}\\PYZhy{}\\PYZhy{}\\PYZhy{}\\PYZhy{}\\PYZhy{}\\PYZhy{}\\PYZhy{}\\PYZhy{}\\PYZhy{}\\PYZhy{}\\PYZhy{}\\PYZhy{}\\PYZhy{}\\PYZhy{}\\PYZhy{}\\PYZhy{}\\PYZhy{}\\PYZhy{}\\PYZhy{}\\PYZhy{}\\PYZhy{}\\PYZhy{}\\PYZhy{}\\PYZhy{}\\PYZhy{}\\PYZhy{}\\PYZhy{}\\PYZhy{}\\PYZhy{}\\PYZhy{}\\PYZhy{}\\PYZhy{}\\PYZhy{}\\PYZhy{}\\PYZhy{}\\PYZhy{}\\PYZhy{}}\n",
              "\\PY{+w}{    }\\PY{c+c1}{\\PYZsh{} Description: Offset: 28b, Width: 4b, Select the FlexSPI Port A/B}\n",
              "\\PY{+w}{    }\\PY{c+c1}{\\PYZsh{} \\PYZhy{} SingleFlashPort\\PYZus{}A, (0): Single Flash connected to port A}\n",
              "\\PY{+w}{    }\\PY{c+c1}{\\PYZsh{} \\PYZhy{} ParallelMode, (1): Parallel mode}\n",
              "\\PY{+w}{    }\\PY{c+c1}{\\PYZsh{} \\PYZhy{} SingleFlashPort\\PYZus{}B, (2): Single Flash connected to port B}\n",
              "\\PY{+w}{    }\\PY{c+c1}{\\PYZsh{} Possible options: \\PYZlt{}SingleFlashPort\\PYZus{}A, ParallelMode, SingleFlashPort\\PYZus{}B\\PYZgt{}}\n",
              "\\PY{+w}{    }\\PY{n+nt}{FlashConnection}\\PY{p}{:}\\PY{+w}{ }\\PY{l+lScalar+lScalarPlain}{SingleFlashPort\\PYZus{}A}\n",
              "\\end{Verbatim}\n"
            ],
            "text/plain": [
              "# =========================  Option Words Configuration template for mimxrt1189, flexspi_nor.  =========================\n",
              "\n",
              "\n",
              "# -------------------------------------------------------- Note --------------------------------------------------------\n",
              "# Note for settings:\n",
              "# All registers is possible to define also as one value although the bitfields are used. Instead of bitfields: ...\n",
              "# field, the value: ... definition works as well.\n",
              "# ======================================================================================================================\n",
              "#                                                 == General Options ==                                                 \n",
              "# ======================================================================================================================\n",
              "# -------------------------------------===== The chip family name [Required] =====--------------------------------------\n",
              "# Description: NXP chip family identifier.\n",
              "# Possible options: <lpc5502, lpc5504, lpc5506, lpc5512, lpc5514, lpc5516, lpc5526, lpc5528, lpc55s04, lpc55s06,\n",
              "# lpc55s14, lpc55s16, lpc55s26, lpc55s28, lpc55s36, lpc55s66, lpc55s69, mcxn235, mcxn236, mimxrt1010, mimxrt1015,\n",
              "# mimxrt1020, mimxrt1024, mimxrt1040, mimxrt1050, mimxrt1060, mimxrt1064, mimxrt1165, mimxrt1166, mimxrt1171,\n",
              "# mimxrt1172, mimxrt1173, mimxrt1175, mimxrt1176, mimxrt1181, mimxrt1182, mimxrt1187, mimxrt1189, mimxrt533s,\n",
              "# mimxrt555s, mimxrt595s, mimxrt685s, rw610, rw612>\n",
              "family: mimxrt1189\n",
              "# -----------------------------------------===== MCU revision [Optional] =====------------------------------------------\n",
              "# Description: Revision of silicon. The 'latest' name, means most current revision.\n",
              "# Possible options: <a0, b0, latest>\n",
              "revision: latest\n",
              "# ----------------------------------------===== Peripheral name [Required] =====----------------------------------------\n",
              "# Description: Name of the external memory support peripheral\n",
              "# Possible options: <flexspi_nor, flexspi_nand, semc_nor, semc_nand, spi_nor, mmc, sd>\n",
              "peripheral: flexspi_nor\n",
              "# ----------------------------------------===== Interface name [Optional] =====-----------------------------------------\n",
              "# Description: Interface name of some other details about connection\n",
              "interface: quad_spi\n",
              "# -------------------------------------===== Option words settings [Required] =====-------------------------------------\n",
              "# Description: The The option word settings\n",
              "settings:\n",
              "  # ----------------------------------------===== ConfigOption0 [Optional] =====----------------------------------------\n",
              "  # Description: Offset: 0x00000000, Width: 32b; FlexSPI NOR Configuration Option 0\n",
              "  ConfigOption0:\n",
              "    # ------------------------------------------===== MaxFreq [Optional] =====------------------------------------------\n",
              "    # Description: Offset: 0b, Width: 4b, The maximum work frequency for specified Flash device; 0 - Don't change\n",
              "    # FlexSPI clock setting\n",
              "    MaxFreq: 0\n",
              "    # -------------------------------------------===== Misc [Optional] =====--------------------------------------------\n",
              "    # Description: Offset: 4b, Width: 4b, Specify miscellaneous mode for selected flash type; Experimental feature, do\n",
              "    # not use in products, keep it as 0.\n",
              "    # - NotEnabled, (0): Miscellaneous mode is not enabled\n",
              "    # - Mode0-4-4, (1): Enable 0-4-4 mode for High Random Read performance\n",
              "    # - SwappedMode, (3):  Data Order Swapped mode (for MXIC OctaFlash only)\n",
              "    # - InternalLoopBack, (5):  Select the FlexSPI data sample source as internal loop back, more details please refer\n",
              "    # FlexSPI usage\n",
              "    # - StandSpiMode, (6):  Config the FlexSPI NOR flash running at stand SPI mode\n",
              "    # Possible options: <NotEnabled, Mode0-4-4, SwappedMode, InternalLoopBack, StandSpiMode>\n",
              "    Misc: NotEnabled\n",
              "    # --------------------------------------===== QuadEnableType [Optional] =====---------------------------------------\n",
              "    # Description: Offset: 8b, Width: 4b, Specify the Quad Enable sequence, only applicable for device that only JESD216\n",
              "    # compliant, this field is ignored if device support JESD216A or later version. This field will be effective only if\n",
              "    # device is compliant with JESD216 only (9 longword SDFP table)\n",
              "    # - QeBitIsBit6InStatusReg1, (1): QE bit is bit6 in StatusReg1\n",
              "    # - QeBitIsBit1InStatusReg2, (2): QE bit is bit1 in StatusReg2\n",
              "    # - QeBitIsBit7InStatusReg2, (3): QE bit is bit7 in StatusReg2\n",
              "    # - QeBitIsBit1InStatusReg2EnableCommandIs0x31, (4): QE bit is bit1 in StatusReg2, enable command is 0x31\n",
              "    # Possible options: <QeBitIsBit6InStatusReg1, QeBitIsBit1InStatusReg2, QeBitIsBit7InStatusReg2,\n",
              "    # QeBitIsBit1InStatusReg2EnableCommandIs0x31>\n",
              "    QuadEnableType: '0x0'\n",
              "    # -----------------------------------------===== CMDPad(s) [Optional] =====-----------------------------------------\n",
              "    # Description: Offset: 12b, Width: 4b, Commands pads for the Flash device (1/4/8), for device that works under\n",
              "    # 1-1-4,1-4-4,1-1-8 or 1-8-8 mode, CMD pad(s) value is always 0x0, for devices that only support 4-4-4 mode for high\n",
              "    # performance, CMD pads value is 2, for devices that only support 8-8-8 mode for high performance, CMD pads value is\n",
              "    # 3\n",
              "    # - 1, (0): 1 bit\n",
              "    # - 4, (2): 4 bits\n",
              "    # - 8, (3): 8 bits\n",
              "    # Possible options: <1, 4, 8>\n",
              "    CMDPad(s): '1'\n",
              "    # --------------------------------------===== Query CMDPad(s) [Optional] =====--------------------------------------\n",
              "    # Description: Offset: 16b, Width: 4b, Command pads (1/4/8) for the SFDP command\n",
              "    # - 1, (0): 1 bit\n",
              "    # - 4, (2): 4 bits\n",
              "    # - 8, (3): 8 bits\n",
              "    # Possible options: <1, 4, 8>\n",
              "    Query CMDPad(s): '1'\n",
              "    # -----------------------------------===== Device Detection Type [Optional] =====-----------------------------------\n",
              "    # Description: Offset: 20b, Width: 4b, SW defined device types used for config block autodetection\n",
              "    # - QuadSPI_SDR, (0): QuadSPI SDR\n",
              "    # - QuadSPI_DDR, (1): QuadSPI DDR\n",
              "    # - HyperFLASH_1V8, (2): HyperFLASH 1V8\n",
              "    # - HyperFLASH_3V, (3): HyperFLASH 3V\n",
              "    # - MXICOPI_DDR, (4): MXICOPI DDR\n",
              "    # - MicronOPI_DDR, (6): MicronOPI DDR\n",
              "    # - AdestoOPI_DDR, (8): AdestoOPI DDR\n",
              "    # Possible options: <QuadSPI_SDR, QuadSPI_DDR, HyperFLASH_1V8, HyperFLASH_3V, MXICOPI_DDR, MicronOPI_DDR,\n",
              "    # AdestoOPI_DDR>\n",
              "    Device Detection Type: QuadSPI_SDR\n",
              "    # ----------------------------------------===== OptionSize [Optional] =====-----------------------------------------\n",
              "    # Description: Offset: 24b, Width: 4b, Option Size\n",
              "    # - OptionSize1, (0): Option words = 1\n",
              "    # - OptionSize2, (1): Option words = 2\n",
              "    # Possible options: <OptionSize1, OptionSize2>\n",
              "    OptionSize: OptionSize1\n",
              "  # ----------------------------------------===== ConfigOption1 [Optional] =====----------------------------------------\n",
              "  # Description: Offset: 0x00000004, Width: 32b; FlexSPI NOR Flash Configuration Option 1 - Optional\n",
              "  ConfigOption1:\n",
              "    # ----------------------------------------===== DummyCycles [Optional] =====----------------------------------------\n",
              "    # Description: Offset: 0b, Width: 8b, User provided dummy cycles for SDR/DDR read command: 0 - Auto detection,\n",
              "    # Others - Specified dummy cycles\n",
              "    DummyCycles: 0\n",
              "    # --------------------------------------===== StatusOverride [Optional] =====---------------------------------------\n",
              "    # Description: Offset: 8b, Width: 8b, Override status register value during device mode configuration\n",
              "    StatusOverride: 0\n",
              "    # ----------------------------------------===== PinMuxGroup [Optional] =====----------------------------------------\n",
              "    # Description: Offset: 16b, Width: 4b, Pin multiplexer group selection\n",
              "    PinMuxGroup: 0\n",
              "    # --------------------------------------===== DqsPinMuxGroup [Optional] =====---------------------------------------\n",
              "    # Description: Offset: 20b, Width: 4b, DQS Pin multiplexer group selection\n",
              "    DqsPinMuxGroup: 0\n",
              "    # -------------------------------------===== PinDriveStrength [Optional] =====--------------------------------------\n",
              "    # Description: Offset: 24b, Width: 4b, The Drive Strength of FlexSPI Pads\n",
              "    PinDriveStrength: 0\n",
              "    # --------------------------------------===== FlashConnection [Optional] =====--------------------------------------\n",
              "    # Description: Offset: 28b, Width: 4b, Select the FlexSPI Port A/B\n",
              "    # - SingleFlashPort_A, (0): Single Flash connected to port A\n",
              "    # - ParallelMode, (1): Parallel mode\n",
              "    # - SingleFlashPort_B, (2): Single Flash connected to port B\n",
              "    # Possible options: <SingleFlashPort_A, ParallelMode, SingleFlashPort_B>\n",
              "    FlashConnection: SingleFlashPort_A"
            ]
          },
          "execution_count": 21,
          "metadata": {},
          "output_type": "execute_result"
        }
      ],
      "source": [
        "Code(filename=\"workspace/cfg_opt_templates/ow_flexspi_nor.yaml\", language=\"yaml\")"
      ]
    },
    {
      "cell_type": "markdown",
      "metadata": {},
      "source": [
        "#### Once the template is configured for the new memory, it can be used to export a blhost script with **nxpmemcfg blhost-script** like this:"
      ]
    },
    {
      "cell_type": "code",
      "execution_count": 22,
      "metadata": {},
      "outputs": [
        {
          "name": "stdout",
          "output_type": "stream",
          "text": [
            "nxpmemcfg blhost-script -c \"workspace/cfg_opt_templates/ow_flexspi_nor.yaml\" -ix 1 -o workspace/custom_config_mem.bls --fcb workspace/custom_fcb.bin --force \n",
            "\u001b[33mWARNING:spsdk.memcfg.memcfg:FCB block read back script has been generated. Be aware that s 4KB block at base address will be erased to avoid cumulative write! (306ms since start, memcfg.py:399)\u001b[39m\n",
            "Exported blhost script.\n"
          ]
        }
      ],
      "source": [
        "%! nxpmemcfg blhost-script -c \"workspace/cfg_opt_templates/ow_flexspi_nor.yaml\" -ix 1 -o $CUSTOM_CFG_MEM_FILE --fcb $CUSTOM_FCB_FILE --force"
      ]
    },
    {
      "cell_type": "markdown",
      "metadata": {},
      "source": [
        "#### Let's inspect the blhost-script generated from the **flexspi_nor** template (note the difference in the option word):"
      ]
    },
    {
      "cell_type": "code",
      "execution_count": 23,
      "metadata": {},
      "outputs": [
        {
          "data": {
            "text/html": [
              "<style>pre { line-height: 125%; }\n",
              "td.linenos .normal { color: inherit; background-color: transparent; padding-left: 5px; padding-right: 5px; }\n",
              "span.linenos { color: inherit; background-color: transparent; padding-left: 5px; padding-right: 5px; }\n",
              "td.linenos .special { color: #000000; background-color: #ffffc0; padding-left: 5px; padding-right: 5px; }\n",
              "span.linenos.special { color: #000000; background-color: #ffffc0; padding-left: 5px; padding-right: 5px; }\n",
              ".output_html .hll { background-color: #ffffcc }\n",
              ".output_html { background: #f8f8f8; }\n",
              ".output_html .c { color: #3D7B7B; font-style: italic } /* Comment */\n",
              ".output_html .err { border: 1px solid #FF0000 } /* Error */\n",
              ".output_html .k { color: #008000; font-weight: bold } /* Keyword */\n",
              ".output_html .o { color: #666666 } /* Operator */\n",
              ".output_html .ch { color: #3D7B7B; font-style: italic } /* Comment.Hashbang */\n",
              ".output_html .cm { color: #3D7B7B; font-style: italic } /* Comment.Multiline */\n",
              ".output_html .cp { color: #9C6500 } /* Comment.Preproc */\n",
              ".output_html .cpf { color: #3D7B7B; font-style: italic } /* Comment.PreprocFile */\n",
              ".output_html .c1 { color: #3D7B7B; font-style: italic } /* Comment.Single */\n",
              ".output_html .cs { color: #3D7B7B; font-style: italic } /* Comment.Special */\n",
              ".output_html .gd { color: #A00000 } /* Generic.Deleted */\n",
              ".output_html .ge { font-style: italic } /* Generic.Emph */\n",
              ".output_html .ges { font-weight: bold; font-style: italic } /* Generic.EmphStrong */\n",
              ".output_html .gr { color: #E40000 } /* Generic.Error */\n",
              ".output_html .gh { color: #000080; font-weight: bold } /* Generic.Heading */\n",
              ".output_html .gi { color: #008400 } /* Generic.Inserted */\n",
              ".output_html .go { color: #717171 } /* Generic.Output */\n",
              ".output_html .gp { color: #000080; font-weight: bold } /* Generic.Prompt */\n",
              ".output_html .gs { font-weight: bold } /* Generic.Strong */\n",
              ".output_html .gu { color: #800080; font-weight: bold } /* Generic.Subheading */\n",
              ".output_html .gt { color: #0044DD } /* Generic.Traceback */\n",
              ".output_html .kc { color: #008000; font-weight: bold } /* Keyword.Constant */\n",
              ".output_html .kd { color: #008000; font-weight: bold } /* Keyword.Declaration */\n",
              ".output_html .kn { color: #008000; font-weight: bold } /* Keyword.Namespace */\n",
              ".output_html .kp { color: #008000 } /* Keyword.Pseudo */\n",
              ".output_html .kr { color: #008000; font-weight: bold } /* Keyword.Reserved */\n",
              ".output_html .kt { color: #B00040 } /* Keyword.Type */\n",
              ".output_html .m { color: #666666 } /* Literal.Number */\n",
              ".output_html .s { color: #BA2121 } /* Literal.String */\n",
              ".output_html .na { color: #687822 } /* Name.Attribute */\n",
              ".output_html .nb { color: #008000 } /* Name.Builtin */\n",
              ".output_html .nc { color: #0000FF; font-weight: bold } /* Name.Class */\n",
              ".output_html .no { color: #880000 } /* Name.Constant */\n",
              ".output_html .nd { color: #AA22FF } /* Name.Decorator */\n",
              ".output_html .ni { color: #717171; font-weight: bold } /* Name.Entity */\n",
              ".output_html .ne { color: #CB3F38; font-weight: bold } /* Name.Exception */\n",
              ".output_html .nf { color: #0000FF } /* Name.Function */\n",
              ".output_html .nl { color: #767600 } /* Name.Label */\n",
              ".output_html .nn { color: #0000FF; font-weight: bold } /* Name.Namespace */\n",
              ".output_html .nt { color: #008000; font-weight: bold } /* Name.Tag */\n",
              ".output_html .nv { color: #19177C } /* Name.Variable */\n",
              ".output_html .ow { color: #AA22FF; font-weight: bold } /* Operator.Word */\n",
              ".output_html .w { color: #bbbbbb } /* Text.Whitespace */\n",
              ".output_html .mb { color: #666666 } /* Literal.Number.Bin */\n",
              ".output_html .mf { color: #666666 } /* Literal.Number.Float */\n",
              ".output_html .mh { color: #666666 } /* Literal.Number.Hex */\n",
              ".output_html .mi { color: #666666 } /* Literal.Number.Integer */\n",
              ".output_html .mo { color: #666666 } /* Literal.Number.Oct */\n",
              ".output_html .sa { color: #BA2121 } /* Literal.String.Affix */\n",
              ".output_html .sb { color: #BA2121 } /* Literal.String.Backtick */\n",
              ".output_html .sc { color: #BA2121 } /* Literal.String.Char */\n",
              ".output_html .dl { color: #BA2121 } /* Literal.String.Delimiter */\n",
              ".output_html .sd { color: #BA2121; font-style: italic } /* Literal.String.Doc */\n",
              ".output_html .s2 { color: #BA2121 } /* Literal.String.Double */\n",
              ".output_html .se { color: #AA5D1F; font-weight: bold } /* Literal.String.Escape */\n",
              ".output_html .sh { color: #BA2121 } /* Literal.String.Heredoc */\n",
              ".output_html .si { color: #A45A77; font-weight: bold } /* Literal.String.Interpol */\n",
              ".output_html .sx { color: #008000 } /* Literal.String.Other */\n",
              ".output_html .sr { color: #A45A77 } /* Literal.String.Regex */\n",
              ".output_html .s1 { color: #BA2121 } /* Literal.String.Single */\n",
              ".output_html .ss { color: #19177C } /* Literal.String.Symbol */\n",
              ".output_html .bp { color: #008000 } /* Name.Builtin.Pseudo */\n",
              ".output_html .fm { color: #0000FF } /* Name.Function.Magic */\n",
              ".output_html .vc { color: #19177C } /* Name.Variable.Class */\n",
              ".output_html .vg { color: #19177C } /* Name.Variable.Global */\n",
              ".output_html .vi { color: #19177C } /* Name.Variable.Instance */\n",
              ".output_html .vm { color: #19177C } /* Name.Variable.Magic */\n",
              ".output_html .il { color: #666666 } /* Literal.Number.Integer.Long */</style><div class=\"highlight\"><pre><span></span><span class=\"c1\"># BLHOST configure memory programming script</span>\n",
              "<span class=\"c1\"># Generated by SPSDK NXPMEMCFG tool</span>\n",
              "<span class=\"c1\"># Chip: mimxrt1189</span>\n",
              "<span class=\"c1\"># Peripheral: flexspi_nor</span>\n",
              "<span class=\"c1\"># Instance: 1</span>\n",
              "\n",
              "<span class=\"c1\"># Switch the instance of the peripheral to 1:</span>\n",
              "fill-memory<span class=\"w\"> </span>0x1FFE0000<span class=\"w\"> </span><span class=\"m\">4</span><span class=\"w\"> </span>0xCF900001\n",
              "configure-memory<span class=\"w\"> </span><span class=\"m\">9</span><span class=\"w\"> </span>0x1FFE0000\n",
              "\n",
              "<span class=\"c1\"># Configure memory:</span>\n",
              "<span class=\"c1\"># Option word 0: 0xC0000000</span>\n",
              "fill-memory<span class=\"w\"> </span>0x1FFE0000<span class=\"w\"> </span><span class=\"m\">4</span><span class=\"w\"> </span>0xC0000000\n",
              "configure-memory<span class=\"w\"> </span><span class=\"m\">9</span><span class=\"w\"> </span>0x1FFE0000\n",
              "\n",
              "<span class=\"c1\"># Script to erase FCB location, create FCB and read back a FCB block:</span>\n",
              "flash-erase-region<span class=\"w\"> </span>0x28000000<span class=\"w\"> </span>0x1000\n",
              "fill-memory<span class=\"w\"> </span>0x1FFE0000<span class=\"w\"> </span><span class=\"m\">4</span><span class=\"w\"> </span>0xF000000F\n",
              "configure-memory<span class=\"w\"> </span><span class=\"m\">9</span><span class=\"w\"> </span>0x1FFE0000\n",
              "read-memory<span class=\"w\"> </span>0x28000400<span class=\"w\"> </span>0x200<span class=\"w\"> </span>workspace/custom_fcb.bin\n",
              "</pre></div>\n"
            ],
            "text/latex": [
              "\\begin{Verbatim}[commandchars=\\\\\\{\\}]\n",
              "\\PY{c+c1}{\\PYZsh{} BLHOST configure memory programming script}\n",
              "\\PY{c+c1}{\\PYZsh{} Generated by SPSDK NXPMEMCFG tool}\n",
              "\\PY{c+c1}{\\PYZsh{} Chip: mimxrt1189}\n",
              "\\PY{c+c1}{\\PYZsh{} Peripheral: flexspi\\PYZus{}nor}\n",
              "\\PY{c+c1}{\\PYZsh{} Instance: 1}\n",
              "\n",
              "\\PY{c+c1}{\\PYZsh{} Switch the instance of the peripheral to 1:}\n",
              "fill\\PYZhy{}memory\\PY{+w}{ }0x1FFE0000\\PY{+w}{ }\\PY{l+m}{4}\\PY{+w}{ }0xCF900001\n",
              "configure\\PYZhy{}memory\\PY{+w}{ }\\PY{l+m}{9}\\PY{+w}{ }0x1FFE0000\n",
              "\n",
              "\\PY{c+c1}{\\PYZsh{} Configure memory:}\n",
              "\\PY{c+c1}{\\PYZsh{} Option word 0: 0xC0000000}\n",
              "fill\\PYZhy{}memory\\PY{+w}{ }0x1FFE0000\\PY{+w}{ }\\PY{l+m}{4}\\PY{+w}{ }0xC0000000\n",
              "configure\\PYZhy{}memory\\PY{+w}{ }\\PY{l+m}{9}\\PY{+w}{ }0x1FFE0000\n",
              "\n",
              "\\PY{c+c1}{\\PYZsh{} Script to erase FCB location, create FCB and read back a FCB block:}\n",
              "flash\\PYZhy{}erase\\PYZhy{}region\\PY{+w}{ }0x28000000\\PY{+w}{ }0x1000\n",
              "fill\\PYZhy{}memory\\PY{+w}{ }0x1FFE0000\\PY{+w}{ }\\PY{l+m}{4}\\PY{+w}{ }0xF000000F\n",
              "configure\\PYZhy{}memory\\PY{+w}{ }\\PY{l+m}{9}\\PY{+w}{ }0x1FFE0000\n",
              "read\\PYZhy{}memory\\PY{+w}{ }0x28000400\\PY{+w}{ }0x200\\PY{+w}{ }workspace/custom\\PYZus{}fcb.bin\n",
              "\\end{Verbatim}\n"
            ],
            "text/plain": [
              "# BLHOST configure memory programming script\n",
              "# Generated by SPSDK NXPMEMCFG tool\n",
              "# Chip: mimxrt1189\n",
              "# Peripheral: flexspi_nor\n",
              "# Instance: 1\n",
              "\n",
              "# Switch the instance of the peripheral to 1:\n",
              "fill-memory 0x1FFE0000 4 0xCF900001\n",
              "configure-memory 9 0x1FFE0000\n",
              "\n",
              "# Configure memory:\n",
              "# Option word 0: 0xC0000000\n",
              "fill-memory 0x1FFE0000 4 0xC0000000\n",
              "configure-memory 9 0x1FFE0000\n",
              "\n",
              "# Script to erase FCB location, create FCB and read back a FCB block:\n",
              "flash-erase-region 0x28000000 0x1000\n",
              "fill-memory 0x1FFE0000 4 0xF000000F\n",
              "configure-memory 9 0x1FFE0000\n",
              "read-memory 0x28000400 0x200 workspace/custom_fcb.bin"
            ]
          },
          "execution_count": 23,
          "metadata": {},
          "output_type": "execute_result"
        }
      ],
      "source": [
        "Code(filename=CUSTOM_CFG_MEM_FILE, language=\"bash\")"
      ]
    },
    {
      "cell_type": "markdown",
      "metadata": {},
      "source": [
        "## 7. Build a bootable image and load it into a memory configured though the blhost-script."
      ]
    },
    {
      "cell_type": "markdown",
      "metadata": {},
      "source": [
        "#### This process is explained in the [Secure Boot notebook](rt118x_secure_boot.ipynb)"
      ]
    }
  ],
  "metadata": {
    "kernelspec": {
      "display_name": "Python 3 (ipykernel)",
      "language": "python",
      "name": "python3"
    },
    "language_info": {
      "codemirror_mode": {
        "name": "ipython",
        "version": 3
      },
      "file_extension": ".py",
      "mimetype": "text/x-python",
      "name": "python",
      "nbconvert_exporter": "python",
      "pygments_lexer": "ipython3",
      "version": "3.11.4"
    }
  },
  "nbformat": 4,
  "nbformat_minor": 4
}
