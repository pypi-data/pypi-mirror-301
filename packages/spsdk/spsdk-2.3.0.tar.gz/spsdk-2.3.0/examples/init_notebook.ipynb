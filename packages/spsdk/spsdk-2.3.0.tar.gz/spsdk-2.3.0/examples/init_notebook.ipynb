{
    "cells": [
        {
            "attachments": {},
            "cell_type": "markdown",
            "metadata": {},
            "source": [
                "# Initialization notebook for SPSDK examples\n",
                "This notebook contains initialization for the SPSDK examples."
            ]
        },
        {
            "cell_type": "code",
            "execution_count": 1,
            "metadata": {},
            "outputs": [
                {
                    "name": "stdout",
                    "output_type": "stream",
                    "text": [
                        "env: JUPYTER_SPSDK=1\n",
                        "Created `%!` as an alias for `%execute`.\n"
                    ]
                }
            ],
            "source": [
                "# This env variable sets colored logger output to STDOUT\n",
                "%env JUPYTER_SPSDK=1\n",
                "# Set a magic for command execution and echo\n",
                "%alias execute echo %l && %l\n",
                "%alias_magic ! execute"
            ]
        }
    ],
    "metadata": {
        "kernelspec": {
            "display_name": "venv",
            "language": "python",
            "name": "python3"
        },
        "language_info": {
            "codemirror_mode": {
                "name": "ipython",
                "version": 3
            },
            "file_extension": ".py",
            "mimetype": "text/x-python",
            "name": "python",
            "nbconvert_exporter": "python",
            "pygments_lexer": "ipython3",
            "version": "3.11.4"
        },
        "orig_nbformat": 4
    },
    "nbformat": 4,
    "nbformat_minor": 2
}