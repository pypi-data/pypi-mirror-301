{
  "cells": [
    {
      "attachments": {},
      "cell_type": "markdown",
      "metadata": {},
      "source": [
        "# i.MXRT105x flashloader example\n",
        "This is example how to create flashloader for i.MXRT105x device. The aim of this Jupyter notebook is show how to easily create HAB container with flashloader application from NXP SDK to be loaded with serial downloader mode.\n",
        "The process could be split to several steps.\n",
        "\n",
        "Note:\n",
        "-----\n",
        "This example could be rewritten to any other NXP device with HAB container in case of need (like i.MXRT117x, etc)\n",
        "\n",
        "## 1. Compile the flashloader application\n",
        "As a first step is needed to compile flashloader application itself from NXP SDK. \n",
        "    - Download the NXP MCUXpresso SDK from NXP web site (https://mcuxpresso.nxp.com/)\n",
        "    - Open the flashloader application in your favorite IDE. (Regular path to application: {SDK_root}\\boards\\evkmimxrt1050\\bootloader_examples\\flashloader\\cm4)\n",
        "    - Compile the flashloader and generate the binary output (In our example we use precompiled flashloader_exe.bin)\n",
        "\n",
        "## 2. Prepare the HAB configuration file\n",
        "Run this code to initialize members for this example..."
      ]
    },
    {
      "cell_type": "code",
      "execution_count": 1,
      "metadata": {},
      "outputs": [
        {
          "name": "stdout",
          "output_type": "stream",
          "text": [
            "env: JUPYTER_SPSDK=1\n",
            "Created `%!` as an alias for `%execute`.\n"
          ]
        }
      ],
      "source": [
        "%run ../../init_notebook.ipynb\n",
        "\n",
        "import os\n",
        "import pprint\n",
        "\n",
        "pp = pprint.PrettyPrinter(indent=4)\n",
        "\n",
        "WORKSPACE = \"workspace/\"  # change this to path to your workspace\n",
        "VERBOSITY = (\n",
        "    \"-v\"  # verbosity of commands, might be -v or -vv for debug or blank for no additional info\n",
        ")\n",
        "\n",
        "TEMPLATE_FILE = WORKSPACE + \"hab_template.yaml\"  # HAB configuration template file\n",
        "FLSHLDR_EXE_PATH = (\n",
        "    \"inputs/flashloader_exe.bin\"  # Input compiled flashloader executable in binary format\n",
        ")\n",
        "HAB_CONFIG = \"inputs/flashloader_cfg.yaml\"  # Prepared HAB configuration file\n",
        "FLASHLOADER = WORKSPACE + \"flashloader.bin\"  # Final Bootable flashloader"
      ]
    },
    {
      "cell_type": "markdown",
      "metadata": {},
      "source": [
        "To get all supported sub commands of HAB support call help."
      ]
    },
    {
      "cell_type": "code",
      "execution_count": 2,
      "metadata": {},
      "outputs": [
        {
          "name": "stdout",
          "output_type": "stream",
          "text": [
            "nxpimage hab \n",
            "Usage: nxpimage hab [OPTIONS] COMMAND [ARGS]...\n",
            "\n",
            "  Group of sub-commands related to HAB container.\n",
            "\n",
            "Options:\n",
            "  --help  Show this message and exit.\n",
            "\n",
            "Commands:\n",
            "  convert       Convert BD Configuration to YAML.\n",
            "  export        Generate HAB container from configuration.\n",
            "  get-template  Create template of configuration in YAML format.\n",
            "  parse         Parse HAB container into individual segments.\n"
          ]
        }
      ],
      "source": [
        "%! nxpimage hab"
      ]
    },
    {
      "cell_type": "markdown",
      "metadata": {},
      "source": [
        "### As a good starting point it could be creation of HAB configuration YAML file template"
      ]
    },
    {
      "cell_type": "code",
      "execution_count": 3,
      "metadata": {},
      "outputs": [
        {
          "name": "stdout",
          "output_type": "stream",
          "text": [
            "nxpimage -v hab get-template -o workspace/hab_template.yaml --force \n",
            "Creating workspace/hab_template.yaml template file.\n"
          ]
        }
      ],
      "source": [
        "# Create template HAB configuration file using nxpimage\n",
        "%! nxpimage $VERBOSITY hab get-template -o $TEMPLATE_FILE --force\n",
        "\n",
        "assert os.path.exists(TEMPLATE_FILE)"
      ]
    },
    {
      "attachments": {},
      "cell_type": "markdown",
      "metadata": {},
      "source": [
        "### Modify the template to configuration file used to create AHAB flashloader as a serial downloader mode\n",
        "\n",
        "1. Change the Input Image file to precompiled file\\\n",
        "   ![Change the Input Image file](IMG/6_image-7.png)\n",
        "2. Change the flags to unsigned HAB output\\\n",
        "   ![Flags to unsigned image](IMG/6_image-2.png)\n",
        "3. Change the start address to proper value. Linker interrupt table value minus 0x400. In our case 0x20002000 - 0x400 = 0x20001c00\\\n",
        "   ![Start address change](IMG/6_image.png)\n",
        "   For example source linker value from the IAR icf file:\\\n",
        "   ![Interrupt value of start of executable](IMG/6_image-3.png)\n",
        "4. Set IVT offset to zero and initial load size 0x400:\\\n",
        "   ![IVT offset to 0, initial load size to 0x400](IMG/6_image-9.png)\n",
        "5. Set the proper Entry point address. The valid address could be find in compiled binary at vector 1 in interrupt vector table of application. The value is in little endian format. Here is the example for our case: 0x20017379\\\n",
        "\n",
        "    ![Binary application to get entry point](IMG/6_image-4.png)\n",
        "    \n",
        "    The configuration file value:\\\n",
        "    ![Entry point definition](IMG/6_image-5.png)\n",
        "6. Remove optional 'signatureTimestamp', 'DCDFilePath' and 'sections' what is not needed in our case\n",
        "\n",
        "## 3. Export the HAB container\n",
        "To export HAB container is designed SPSDK tool in 'nxpimage' under 'hab' sub commands group.\n"
      ]
    },
    {
      "cell_type": "markdown",
      "metadata": {},
      "source": []
    },
    {
      "cell_type": "code",
      "execution_count": 4,
      "metadata": {},
      "outputs": [
        {
          "name": "stdout",
          "output_type": "stream",
          "text": [
            "nxpimage -v hab export -c inputs/flashloader_cfg.yaml -o workspace/flashloader.bin \n",
            "Success. (HAB container: workspace/flashloader.bin created.)\n"
          ]
        }
      ],
      "source": [
        "# Export HAB container using nxpimage\n",
        "%! nxpimage $VERBOSITY hab export -c $HAB_CONFIG -o $FLASHLOADER\n",
        "\n",
        "assert os.path.exists(HAB_CONFIG)"
      ]
    },
    {
      "cell_type": "markdown",
      "metadata": {},
      "source": [
        "## 4. Generated flashloader file load to i.MXRT105x\n",
        "As a final step is load flashloader into MCU and run. The easiest way is get 'sdphost' application and 'write-file'/'jump-address' command.\n",
        "\n",
        "Chip must be in serial downloader mode!\n",
        "\n",
        "Here is two examples how to do it over Serial line:\n",
        "- `sdphost -p com1 write-file 0x20001c00 workspace\\flashloader.bin`\n",
        "- `sdphost -p com1 jump-address 0x20001c00`"
      ]
    }
  ],
  "metadata": {
    "kernelspec": {
      "display_name": "venv",
      "language": "python",
      "name": "python3"
    },
    "language_info": {
      "codemirror_mode": {
        "name": "ipython",
        "version": 3
      },
      "file_extension": ".py",
      "mimetype": "text/x-python",
      "name": "python",
      "nbconvert_exporter": "python",
      "pygments_lexer": "ipython3",
      "version": "3.11.4"
    }
  },
  "nbformat": 4,
  "nbformat_minor": 2
}
