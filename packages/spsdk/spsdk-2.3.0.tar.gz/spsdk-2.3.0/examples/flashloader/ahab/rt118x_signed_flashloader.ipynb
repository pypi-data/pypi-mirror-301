{
  "cells": [
    {
      "attachments": {},
      "cell_type": "markdown",
      "metadata": {},
      "source": [
        "# i.MXRT118x signed flashloader example\n",
        "This is example how to create signed flashloader for i.MXRT118x device with EdgeLock firmware included. The aim of this Jupyter notebook is show how to easily create AHAB container with flashloader application from NXP SDK to be loaded with serial downloader mode.\n",
        "The process could be split to several steps.\n",
        "\n",
        "## 1. Compile the flashloader application\n",
        "As a first step is needed to compile flashloader application itself from NXP SDK. \n",
        "    - Download the NXP MCUXpresso SDK from NXP web site (https://mcuxpresso.nxp.com/)\n",
        "    - Open the flashloader application in your favorite IDE. (Regular path to application: {SDK_root}\\boards\\evkmimxrt1180\\bootloader_examples\\flashloader\\cm33)\n",
        "    - Compile the flashloader and generate the binary output (In our example we use precompiled flashloader_cm33_exe.bin)\n",
        "\n",
        "## 2. Prepare the AHAB configuration file\n",
        "Run this code to initialize members for this example..."
      ]
    },
    {
      "cell_type": "code",
      "execution_count": 1,
      "metadata": {},
      "outputs": [
        {
          "name": "stdout",
          "output_type": "stream",
          "text": [
            "env: JUPYTER_SPSDK=1\n",
            "Created `%!` as an alias for `%execute`.\n"
          ]
        }
      ],
      "source": [
        "%run ../../init_notebook.ipynb\n",
        "\n",
        "import os\n",
        "import pprint\n",
        "\n",
        "pp = pprint.PrettyPrinter(indent=4)\n",
        "\n",
        "WORKSPACE = \"workspace/\"  # change this to path to your workspace\n",
        "VERBOSITY = (\n",
        "    \"-v\"  # verbosity of commands, might be -v or -vv for debug or blank for no additional info\n",
        ")\n",
        "\n",
        "TEMPLATE_FILE = WORKSPACE + \"ahab_template.yaml\"  # AHAB configuration template file\n",
        "BIMG_TEMPLATES_PATH = WORKSPACE + \"bootable_image_templates\"  # Bootable image templates folder\n",
        "FLSHLDR_EXE_PATH = (\n",
        "    \"inputs/flashloader_cm33_exe.bin\"  # Input compiled flashloader executable in binary format\n",
        ")\n",
        "AHAB_CONFIG = \"inputs/flashloader_cm33_cfg.yaml\"  # Prepared AHAB configuration file\n",
        "AHAB_FILE = (\n",
        "    WORKSPACE + \"flashloader_cm33_ahab.bin\"\n",
        ")  # File name of created signed AHAB container with flashloader and EdgeLockEnclave firmware\n",
        "BOOTIMG_CONFIG = (\n",
        "    \"inputs/bootimg_rt118x_serial_downloader.yaml\"  # Prepared Bootable image configuration file\n",
        ")\n",
        "FLASHLOADER = WORKSPACE + \"flashloader.bin\"  # Final Bootable flashloader"
      ]
    },
    {
      "cell_type": "markdown",
      "metadata": {},
      "source": [
        "To get all supported sub commands of AHAB support call help."
      ]
    },
    {
      "cell_type": "code",
      "execution_count": 2,
      "metadata": {},
      "outputs": [
        {
          "name": "stdout",
          "output_type": "stream",
          "text": [
            "nxpimage ahab \n",
            "Usage: nxpimage ahab [OPTIONS] COMMAND [ARGS]...\n",
            "\n",
            "  Group of sub-commands related to AHAB.\n",
            "\n",
            "Options:\n",
            "  --help  Show this message and exit.\n",
            "\n",
            "Commands:\n",
            "  certificate     Group of sub-commands related to AHAB certificate blob.\n",
            "  export          Generate AHAB Image from YAML/JSON configuration.\n",
            "  get-families    Shows the full family info for commands in this group.\n",
            "  get-template    Create template of configuration in YAML format.\n",
            "  parse           Parse AHAB Image into YAML configuration and binary...\n",
            "  re-sign         Re-sign the container in AHAB image.\n",
            "  update-keyblob  Update keyblob in AHAB image container.\n",
            "  verify          Verify AHAB Image.\n"
          ]
        }
      ],
      "source": [
        "%! nxpimage ahab"
      ]
    },
    {
      "cell_type": "markdown",
      "metadata": {},
      "source": [
        "### As a good starting point it could be creation of AHAB configuration YAML file template"
      ]
    },
    {
      "cell_type": "code",
      "execution_count": 3,
      "metadata": {},
      "outputs": [
        {
          "name": "stdout",
          "output_type": "stream",
          "text": [
            "nxpimage -v ahab get-template -f mimxrt1189 -o workspace/ahab_template.yaml --force \n",
            "Creating workspace/ahab_template.yaml template file.\n"
          ]
        }
      ],
      "source": [
        "# Create template AHAB configuration file using nxpimage\n",
        "%! nxpimage $VERBOSITY ahab get-template -f mimxrt1189 -o $TEMPLATE_FILE --force\n",
        "\n",
        "assert os.path.exists(TEMPLATE_FILE)"
      ]
    },
    {
      "attachments": {},
      "cell_type": "markdown",
      "metadata": {},
      "source": [
        "### Modify the template to configuration file used to create AHAB flashloader as a serial downloader mode\n",
        "\n",
        "1. Change the Target memory to serial downloader\\\n",
        "   ![Change the Target memory to serial downloader](IMG/6_image-2.png)\n",
        "2. Change the output file name\\\n",
        "   ![Change the output file name](IMG/6_image.png)\n",
        "3. Define the path to the EdgeLock Enclave Firmware container (And clean up the comments about possible options of container definitions)\\\n",
        "   ![Define the path to the EdgeLock Enclave Firmware container](IMG/6_image-3.png)\n",
        "4. Add to list of containers the Flashloader container definition\\\n",
        "   ![Add to list of containers the Flashloader container definition](IMG/6_image-4.png)\n",
        "5. Define the general definition of Flashloader container. In our example the signature provider definition is removed and the local private signing key is defined\\\n",
        "   ![Signing key and used SRK definition](IMG/6_image-5.png)\n",
        "6. Define the image executable (compiled flashloader binary), On the offset doesn't matter in serial downloader mode, it's updated automatically. The most important are 'load_address' and 'entry_point' fields that must be sets on same value as is defined linker file for the application start of the application. The unused optionally fields has been removed from config. In case of i.MXRT118x the linker load address is 0x304a0000.\\\n",
        "   ![Image definition](IMG/6_image-6.png)\n",
        "7. Define the SRK (Super Root Keys) record. In our case the local pregenerated public keys. If you do not have SRK and need to generate it, you can get inspired here [How-to-get-keys-using-nxpcrypto](../../general/get_keys.ipynb).\\\n",
        "   ![SRK Table](IMG/6_image-8.png)\n",
        "8. And finally remove unused parts for AHAB Certificate and Encryption blob\n",
        "\n",
        "## 3. Export the AHAB container\n",
        "To export AHAB container is designed SPSDK tool in 'nxpimage' under 'ahab' sub commands group.\n"
      ]
    },
    {
      "cell_type": "markdown",
      "metadata": {},
      "source": []
    },
    {
      "cell_type": "code",
      "execution_count": 4,
      "metadata": {},
      "outputs": [
        {
          "name": "stdout",
          "output_type": "stream",
          "text": [
            "nxpimage -v ahab export -c inputs/flashloader_cm33_cfg.yaml \n",
            "\u001b[37m\u001b[1mINFO:spsdk.apps.nxpimage:Created AHAB Image:\n",
            "Name:      AHAB Image\n",
            "Starts:    0x0\n",
            "Ends:      0x19cef\n",
            "Size:      Size: 103.2 kiB; 105,712 B\n",
            "Alignment: 8 B\n",
            "Pattern:zeros\n",
            "AHAB Image for mimxrt1189_b0\n",
            "\u001b[39m\u001b[0m\n",
            "\u001b[37m\u001b[1mINFO:spsdk.apps.nxpimage:Created AHAB Image memory map:\n",
            "\n",
            "\u001b[90m+==0x0000_0000= AHAB Image =======================+\n",
            "\u001b[90m|           Size: 103.2 kiB; 105,712 B            |\n",
            "\u001b[90m|          AHAB Image for mimxrt1189_b0           |\n",
            "\u001b[90m|                 Pattern: zeros                  |\n",
            "\u001b[90m|\u001b[34m+==0x0000_0000= AHAB Containers ================+\u001b[90m|\n",
            "\u001b[90m|\u001b[34m|            Size: 8.0 kiB; 8,192 B             |\u001b[90m|\n",
            "\u001b[90m|\u001b[34m|             AHAB Containers block             |\u001b[90m|\n",
            "\u001b[90m|\u001b[34m|                Pattern: zeros                 |\u001b[90m|\n",
            "\u001b[90m|\u001b[34m|\u001b[90m+==0x0000_0000= AHAB Container 0 =============+\u001b[34m|\u001b[90m|\n",
            "\u001b[90m|\u001b[34m|\u001b[90m|                 Size: 544 B                 |\u001b[34m|\u001b[90m|\n",
            "\u001b[90m|\u001b[34m|\u001b[90m|       AHAB Container for nxp_SWver:0        |\u001b[34m|\u001b[90m|\n",
            "\u001b[90m|\u001b[34m|\u001b[90m+==0x0000_021f================================+\u001b[34m|\u001b[90m|\n",
            "\u001b[90m|\u001b[34m|                  Gap: 480 B                   |\u001b[90m|\n",
            "\u001b[90m|\u001b[34m|\u001b[32m+==0x0000_0400= AHAB Container 1 =============+\u001b[34m|\u001b[90m|\n",
            "\u001b[90m|\u001b[34m|\u001b[32m|                 Size: 544 B                 |\u001b[34m|\u001b[90m|\n",
            "\u001b[90m|\u001b[34m|\u001b[32m|       AHAB Container for oem_SWver:0        |\u001b[34m|\u001b[90m|\n",
            "\u001b[90m|\u001b[34m|\u001b[32m+==0x0000_061f================================+\u001b[34m|\u001b[90m|\n",
            "\u001b[90m|\u001b[34m+==0x0000_1fff==================================+\u001b[90m|\n",
            "\u001b[90m|\u001b[32m+==0x0000_2000= Container 0 AHAB Data Image 0 ==+\u001b[90m|\n",
            "\u001b[90m|\u001b[32m|            Size: 9.2 kiB; 9,456 B             |\u001b[90m|\n",
            "\u001b[90m|\u001b[32m|AHAB encrypted data block for ele core and ele |\u001b[90m|\n",
            "\u001b[90m|\u001b[32m|                  Image Type.                  |\u001b[90m|\n",
            "\u001b[90m|\u001b[32m+==0x0000_44ef==================================+\u001b[90m|\n",
            "\u001b[90m|\u001b[36m+==0x0000_44f0= Container 1 AHAB Data Image 0 ==+\u001b[90m|\n",
            "\u001b[90m|\u001b[36m|           Size: 86.0 kiB; 88,064 B            |\u001b[90m|\n",
            "\u001b[90m|\u001b[36m|    AHAB data block for cortex-m33 core and    |\u001b[90m|\n",
            "\u001b[90m|\u001b[36m|            executable Image Type.             |\u001b[90m|\n",
            "\u001b[90m|\u001b[36m+==0x0001_9cef==================================+\u001b[90m|\n",
            "\u001b[90m+==0x0001_9cef====================================+\n",
            "\u001b[39m\u001b[39m\u001b[0m\n",
            "Success. (AHAB: workspace\\flashloader_cm33_ahab.bin created.)\n",
            "Generated file containing SRK hash: workspace\\flashloader_cm33_ahab_oem1_srk0_hash.txt\n",
            "\u001b[37m\u001b[1mINFO:spsdk.image.ahab.utils:\n",
            "Fuses info:\n",
            "\n",
            " --== Grouped register name: SRKH ==-- \n",
            "OTP ID: 128, Value: 0x74c72ccb\n",
            "OTP ID: 129, Value: 0x92ecdcb2\n",
            "OTP ID: 130, Value: 0xa0ec40c8\n",
            "OTP ID: 131, Value: 0xf8786b64\n",
            "OTP ID: 132, Value: 0x3a1d66d3\n",
            "OTP ID: 133, Value: 0x5a26ed43\n",
            "OTP ID: 134, Value: 0xac130a49\n",
            "OTP ID: 135, Value: 0xa195ea7\n",
            "\u001b[39m\u001b[0m\n",
            "Generated script for writing fuses for container 1: workspace\\flashloader_cm33_ahab_oem1_srk0_hash_blhost.bcf\n"
          ]
        }
      ],
      "source": [
        "# Export AHAB container using nxpimage\n",
        "%! nxpimage $VERBOSITY ahab export -c $AHAB_CONFIG\n",
        "\n",
        "assert os.path.exists(AHAB_CONFIG)"
      ]
    },
    {
      "cell_type": "markdown",
      "metadata": {},
      "source": [
        "## 4. Make Bootable image\n",
        "To proper load of created flashloader over serial downloader mode, the bootable image must be created. In case of serial downloader the bootable image is composed from XMCD block (up to 1KB, 0x400B) and the AHAB image itself.\n",
        "The SPSDK contains commands group that simplify whole operation with bootable images under 'nxpimage'. To list all supported subcommands call help for this subgroup:\n"
      ]
    },
    {
      "cell_type": "code",
      "execution_count": 5,
      "metadata": {},
      "outputs": [
        {
          "name": "stdout",
          "output_type": "stream",
          "text": [
            "nxpimage bootable-image \n",
            "Usage: nxpimage bootable-image [OPTIONS] COMMAND [ARGS]...\n",
            "\n",
            "  Group of bootable image utilities.\n",
            "\n",
            "Options:\n",
            "  --help  Show this message and exit.\n",
            "\n",
            "Commands:\n",
            "  fcb            FCB (Flash Configuration Block) utilities.\n",
            "  get-families   Shows the full family info for commands in this group.\n",
            "  get-templates  Create template of configurations in YAML format from...\n",
            "  merge          Merge boot image blocks into one bootable image.\n",
            "  parse          Parse Bootable Image into YAML configuration and binary...\n",
            "  verify         Verify Bootable Image.\n",
            "  xmcd           XMCD (External Memory Configuration Data) utilities.\n"
          ]
        }
      ],
      "source": [
        "# Get help for bootable image to list all supported commands\n",
        "%! nxpimage bootable-image"
      ]
    },
    {
      "cell_type": "markdown",
      "metadata": {},
      "source": [
        "### As a good starting point it could be creation of Bootable Image configuration YAML file template"
      ]
    },
    {
      "cell_type": "code",
      "execution_count": 6,
      "metadata": {},
      "outputs": [
        {
          "name": "stdout",
          "output_type": "stream",
          "text": [
            "nxpimage -v bootable-image get-templates -f mimxrt1189 -o workspace/bootable_image_templates --force \n",
            "Creating workspace/bootable_image_templates/bootimg_mimxrt1189_serial_downloader.yaml template file.\n",
            "Creating workspace/bootable_image_templates/bootimg_mimxrt1189_flexspi_nor.yaml template file.\n",
            "Creating workspace/bootable_image_templates/bootimg_mimxrt1189_flexspi_nand.yaml template file.\n",
            "Creating workspace/bootable_image_templates/bootimg_mimxrt1189_semc_nand.yaml template file.\n",
            "Creating workspace/bootable_image_templates/bootimg_mimxrt1189_emmc.yaml template file.\n",
            "Creating workspace/bootable_image_templates/bootimg_mimxrt1189_sd.yaml template file.\n"
          ]
        }
      ],
      "source": [
        "# Get the template file of configuration for bootable image\n",
        "\n",
        "%! nxpimage $VERBOSITY bootable-image get-templates -f mimxrt1189 -o $BIMG_TEMPLATES_PATH --force"
      ]
    },
    {
      "attachments": {},
      "cell_type": "markdown",
      "metadata": {},
      "source": [
        "From the Bootable image templates folder copy and modify the 'bootimg_rt118x_serial_downloader.yaml' file. In our case we have to solve just two options:\n",
        "1. Remove XMCD block section from configuration file (no custom XMCD will be used)\n",
        "2. Modify the AHAB container file name\\\n",
        "   ![Bootable image configuration](IMG/13_image.png)\n",
        "\n",
        "### Export the final bootable image"
      ]
    },
    {
      "cell_type": "code",
      "execution_count": 7,
      "metadata": {},
      "outputs": [
        {
          "name": "stdout",
          "output_type": "stream",
          "text": [
            "nxpimage -v bootable-image merge -c inputs/bootimg_rt118x_serial_downloader.yaml -o workspace/flashloader.bin \n",
            "\u001b[37m\u001b[1mINFO:spsdk.apps.nxpimage:Created Bootable Image:\n",
            "Name:      Bootable Image for mimxrt1189\n",
            "Starts:    0x0\n",
            "Ends:      0x1a0ef\n",
            "Size:      Size: 104.2 kiB; 106,736 B\n",
            "Alignment: 1 B\n",
            "Pattern:zeros\n",
            "Memory type: MemoryType.SERIAL_DOWNLOADER\n",
            "Revision: latest\n",
            "\u001b[39m\u001b[0m\n",
            "\u001b[37m\u001b[1mINFO:spsdk.apps.nxpimage:Created Bootable Image memory map:\n",
            "\n",
            "\u001b[90m+==0x0000_0000= Bootable Image for mimxrt1189 ==+\n",
            "\u001b[90m|          Size: 104.2 kiB; 106,736 B           |\n",
            "\u001b[90m|   Memory type: MemoryType.SERIAL_DOWNLOADER   |\n",
            "\u001b[90m|               Revision: latest                |\n",
            "\u001b[90m|                Pattern: zeros                 |\n",
            "\u001b[90m|                 Gap: 1.0 kiB                  |\n",
            "\u001b[90m|\u001b[34m+==0x0000_0400= ahab_container ===============+\u001b[90m|\n",
            "\u001b[90m|\u001b[34m|         Size: 103.2 kiB; 105,712 B          |\u001b[90m|\n",
            "\u001b[90m|\u001b[34m+==0x0001_a0ef================================+\u001b[90m|\n",
            "\u001b[90m+==0x0001_a0ef==================================+\n",
            "\u001b[39m\u001b[39m\u001b[0m\n",
            "Success. (Bootable Image: workspace\\flashloader.bin created) \n"
          ]
        }
      ],
      "source": [
        "# Export bootable image\n",
        "\n",
        "%! nxpimage $VERBOSITY bootable-image merge -c $BOOTIMG_CONFIG -o $FLASHLOADER\n",
        "\n",
        "assert os.path.exists(FLASHLOADER)"
      ]
    },
    {
      "cell_type": "markdown",
      "metadata": {},
      "source": [
        "## 5. Generated flashloader file load to i.MXRT118x\n",
        "As a final step is load flashloader into MCU and run. The easiest way is get 'blhost' application and 'load-image' command.\n",
        "\n",
        "Chip must be in serial downloader mode!\n",
        "\n",
        "Here is two examples how to do it over Serial line or USB:\n",
        "- `blhost -p com1 load-image workspace/flashloader.bin`\n",
        "- `blhost -u 0x1fc9:0x014c load-image workspace/flashloader.bin`"
      ]
    }
  ],
  "metadata": {
    "kernelspec": {
      "display_name": "venv",
      "language": "python",
      "name": "python3"
    },
    "language_info": {
      "codemirror_mode": {
        "name": "ipython",
        "version": 3
      },
      "file_extension": ".py",
      "mimetype": "text/x-python",
      "name": "python",
      "nbconvert_exporter": "python",
      "pygments_lexer": "ipython3",
      "version": "3.11.4"
    }
  },
  "nbformat": 4,
  "nbformat_minor": 2
}