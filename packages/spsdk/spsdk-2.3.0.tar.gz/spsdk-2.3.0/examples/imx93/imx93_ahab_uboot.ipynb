{
  "cells": [
    {
      "cell_type": "markdown",
      "metadata": {},
      "source": [
        "# i.MX 93 AHAB with U-BOOT\n",
        "\n",
        "This notebook describes how to build a bootable AHAB image with ELE firmware and U-BOOT bootloader, load it using the NXPUUU app and how to use NXPELE app."
      ]
    },
    {
      "cell_type": "markdown",
      "metadata": {},
      "source": [
        "## Set up the environment\n",
        "- SPSDK is needed with examples extension. `pip install spsdk[examples]` (Please refer to the installation documentation.)\n",
        "- This demo was tested with i.MX93 EVK board"
      ]
    },
    {
      "cell_type": "markdown",
      "metadata": {},
      "source": [
        "## Images preparation\n",
        "\n",
        "- to create resulting binary containing AHAB containers, we need to prepare the binaries\n",
        "- in this section we reproduce the process which is done by the `imx-mkimage` tool\n",
        "- Obtain all the necessary binaries (lpddr4 firmware, u-boot, bl31, ELE firmware) and put them into inputs directory\n",
        "\n",
        "## U-Boot\n",
        "\n",
        "[Read the U-Boot documentation to understand the U-Boot build process](https://docs.u-boot.org/en/latest/board/nxp/imx93_11x11_evk.html#quick-start)\n",
        "In order to use the nxpele app, U-Boot must be built with AHAB support. CONFIG_AHAB_BOOT=y\n",
        "If you want to use the nxpele over fastboot, also multiplexing of console output to fastboot must be enabled by setting CONFIG_CONSOLE_MUX=y.\n",
        "\n",
        "## Requirements\n",
        "\n",
        "Download these files from the https://www.nxp.com/lgfiles/NMG/MAD/YOCTO/<package name> and put them into the inputs directory.\n",
        "\n",
        "- lpddr4 firmware files\n",
        "- u-boot binary (u-boot SPL and u-boot) built with AHAB support.\n",
        "- bl31.bin binary (ARM Trusted Firmware)\n",
        "- ELE firmware binary AHAB \n",
        "- i.MX93 EVK board\n"
      ]
    },
    {
      "cell_type": "code",
      "execution_count": 2,
      "metadata": {},
      "outputs": [
        {
          "name": "stdout",
          "output_type": "stream",
          "text": [
            "env: JUPYTER_SPSDK=1\n",
            "Created `%!` as an alias for `%execute`.\n"
          ]
        }
      ],
      "source": [
        "# This env variable sets colored logger output to STDOUT\n",
        "# Execute this cell to enable execution of the ! line magic\n",
        "%env JUPYTER_SPSDK=1\n",
        "%alias execute echo %l && %l\n",
        "%alias_magic ! execute"
      ]
    },
    {
      "attachments": {},
      "cell_type": "markdown",
      "metadata": {},
      "source": [
        "## AHAB Template\n",
        "\n",
        "We can generate the template using the nxpimage ahab get-template command. The command will generate a template. The template is a YAML file that contains the AHAB header and the AHAB container. The AHAB header contains the information about the image, such as the version, the number of containers, and the signature. The AHAB container contains the information about the image, such as the image type, the image version, the image size, and the image signature.\n",
        "\n",
        "The following command generates the template:\n",
        "\n",
        "```bash\n",
        "nxpimage ahab get-template -f mimx9352 -o ahab_template.yaml\n",
        "```\n",
        "\n",
        "## Exporting of the AHAB image\n",
        "\n",
        "The AHAB image can be exported using the nxpimage ahab export command. The command will create the AHAB image from the template. The following command creates the AHAB image:\n",
        "\n",
        "```bash\n",
        "nxpimage ahab export -c ahab_template.yaml \n",
        "```\n",
        "\n"
      ]
    },
    {
      "cell_type": "code",
      "execution_count": 3,
      "metadata": {},
      "outputs": [
        {
          "name": "stdout",
          "output_type": "stream",
          "text": [
            "nxpimage -v ahab export -c u-boot-spl-container-img_config.yaml \n",
            "\u001b[37m\u001b[1mINFO:spsdk.image.ahab.ahab_iae:Adding DDR memory areas into SPL image\u001b[39m\u001b[0m\n",
            "\u001b[37m\u001b[1mINFO:spsdk.apps.nxpimage:Created AHAB Image:\n",
            "Name:      AHAB Image\n",
            "Starts:    0x0\n",
            "Ends:      0x529ff\n",
            "Size:      Size: 330.5 kiB; 338,432 B\n",
            "Alignment: 8 B\n",
            "Pattern:zeros\n",
            "AHAB Image for mimx9352_a1\n",
            "\u001b[39m\u001b[0m\n",
            "\u001b[37m\u001b[1mINFO:spsdk.apps.nxpimage:Created AHAB Image memory map:\n",
            "\n",
            "\u001b[90m+==0x0000_0000= AHAB Image ============================+\n",
            "\u001b[90m|              Size: 330.5 kiB; 338,432 B              |\n",
            "\u001b[90m|              AHAB Image for mimx9352_a1              |\n",
            "\u001b[90m|                    Pattern: zeros                    |\n",
            "\u001b[90m|\u001b[34m+==0x0000_0000= AHAB Containers =====================+\u001b[90m|\n",
            "\u001b[90m|\u001b[34m|               Size: 8.0 kiB; 8,192 B               |\u001b[90m|\n",
            "\u001b[90m|\u001b[34m|               AHAB Containers block                |\u001b[90m|\n",
            "\u001b[90m|\u001b[34m|                   Pattern: zeros                   |\u001b[90m|\n",
            "\u001b[90m|\u001b[34m|\u001b[90m+==0x0000_0000= AHAB Container 0 ==================+\u001b[34m|\u001b[90m|\n",
            "\u001b[90m|\u001b[34m|\u001b[90m|                   Size: 544 B                    |\u001b[34m|\u001b[90m|\n",
            "\u001b[90m|\u001b[34m|\u001b[90m|          AHAB Container for nxp_SWver:0          |\u001b[34m|\u001b[90m|\n",
            "\u001b[90m|\u001b[34m|\u001b[90m+==0x0000_021f=====================================+\u001b[34m|\u001b[90m|\n",
            "\u001b[90m|\u001b[34m|                     Gap: 480 B                     |\u001b[90m|\n",
            "\u001b[90m|\u001b[34m|\u001b[32m+==0x0000_0400= AHAB Container 1 ==================+\u001b[34m|\u001b[90m|\n",
            "\u001b[90m|\u001b[34m|\u001b[32m|                   Size: 160 B                    |\u001b[34m|\u001b[90m|\n",
            "\u001b[90m|\u001b[34m|\u001b[32m|         AHAB Container for none_SWver:0          |\u001b[34m|\u001b[90m|\n",
            "\u001b[90m|\u001b[34m|\u001b[32m+==0x0000_049f=====================================+\u001b[34m|\u001b[90m|\n",
            "\u001b[90m|\u001b[34m+==0x0000_1fff=======================================+\u001b[90m|\n",
            "\u001b[90m|\u001b[32m+==0x0000_2000= Container 0 AHAB Data Image 0 =======+\u001b[90m|\n",
            "\u001b[90m|\u001b[32m|              Size: 95.8 kiB; 98,144 B              |\u001b[90m|\n",
            "\u001b[90m|\u001b[32m|AHAB encrypted data block for ele core and ele Image|\u001b[90m|\n",
            "\u001b[90m|\u001b[32m|                       Type.                        |\u001b[90m|\n",
            "\u001b[90m|\u001b[32m+==0x0001_9f5f=======================================+\u001b[90m|\n",
            "\u001b[90m|                      Gap: 160 B                      |\n",
            "\u001b[90m|\u001b[36m+==0x0001_a000= U-Boot SPL with DDR tunning images ==+\u001b[90m|\n",
            "\u001b[90m|\u001b[36m|             Size: 226.5 kiB; 231,936 B             |\u001b[90m|\n",
            "\u001b[90m|\u001b[36m| AHAB data block for cortex-a55 core and executable |\u001b[90m|\n",
            "\u001b[90m|\u001b[36m|                    Image Type.                     |\u001b[90m|\n",
            "\u001b[90m|\u001b[36m+==0x0005_29ff=======================================+\u001b[90m|\n",
            "\u001b[90m+==0x0005_29ff=========================================+\n",
            "\u001b[39m\u001b[39m\u001b[0m\n",
            "Success. (AHAB: outputs\\u-boot-spl-container.img created.)\n"
          ]
        }
      ],
      "source": [
        "## Export AHAB Images\n",
        "\n",
        "WORKSPACE = \"workspace/\"  # change this to path to your workspace\n",
        "\n",
        "U_BOOT_SPL_CONTAINER_CONFIG = \"u-boot-spl-container-img_config.yaml\"\n",
        "U_BOOT_ATF_CONTAINER_CONFIG = \"u-boot-atf-container-img_config.yaml\"\n",
        "VERBOSITY = \"-v\"\n",
        "\n",
        "# EXPORT U-BOOT SPL CONTAINER IMAGE\n",
        "%! nxpimage $VERBOSITY ahab export -c $U_BOOT_SPL_CONTAINER_CONFIG"
      ]
    },
    {
      "cell_type": "code",
      "execution_count": 4,
      "metadata": {},
      "outputs": [
        {
          "name": "stdout",
          "output_type": "stream",
          "text": [
            "nxpimage -v ahab export -c u-boot-atf-container-img_config.yaml \n",
            "\u001b[37m\u001b[1mINFO:spsdk.apps.nxpimage:Created AHAB Image:\n",
            "Name:      AHAB Image\n",
            "Starts:    0x0\n",
            "Ends:      0x1289ff\n",
            "Size:      Size: 1.2 MiB; 1,214,976 B\n",
            "Alignment: 8 B\n",
            "Pattern:zeros\n",
            "AHAB Image for mimx9352_a1\n",
            "\u001b[39m\u001b[0m\n",
            "\u001b[37m\u001b[1mINFO:spsdk.apps.nxpimage:Created AHAB Image memory map:\n",
            "\n",
            "\u001b[90m+==0x0000_0000= AHAB Image ====================+\n",
            "\u001b[90m|          Size: 1.2 MiB; 1,214,976 B          |\n",
            "\u001b[90m|          AHAB Image for mimx9352_a1          |\n",
            "\u001b[90m|                Pattern: zeros                |\n",
            "\u001b[90m|\u001b[34m+==0x0000_0000= AHAB Containers =============+\u001b[90m|\n",
            "\u001b[90m|\u001b[34m|           Size: 8.0 kiB; 8,192 B           |\u001b[90m|\n",
            "\u001b[90m|\u001b[34m|           AHAB Containers block            |\u001b[90m|\n",
            "\u001b[90m|\u001b[34m|               Pattern: zeros               |\u001b[90m|\n",
            "\u001b[90m|\u001b[34m|\u001b[90m+==0x0000_0000= AHAB Container 0 ==========+\u001b[34m|\u001b[90m|\n",
            "\u001b[90m|\u001b[34m|\u001b[90m|               Size: 288 B                |\u001b[34m|\u001b[90m|\n",
            "\u001b[90m|\u001b[34m|\u001b[90m|     AHAB Container for none_SWver:0      |\u001b[34m|\u001b[90m|\n",
            "\u001b[90m|\u001b[34m|\u001b[90m+==0x0000_011f=============================+\u001b[34m|\u001b[90m|\n",
            "\u001b[90m|\u001b[34m+==0x0000_1fff===============================+\u001b[90m|\n",
            "\u001b[90m|\u001b[32m+==0x0000_2000= ATF - ARM Trusted Firmware ==+\u001b[90m|\n",
            "\u001b[90m|\u001b[32m|          Size: 38.0 kiB; 38,912 B          |\u001b[90m|\n",
            "\u001b[90m|\u001b[32m|  AHAB data block for cortex-a55 core and   |\u001b[90m|\n",
            "\u001b[90m|\u001b[32m|           executable Image Type.           |\u001b[90m|\n",
            "\u001b[90m|\u001b[32m+==0x0000_b7ff===============================+\u001b[90m|\n",
            "\u001b[90m|\u001b[36m+==0x0000_b800= U-Boot Firmware =============+\u001b[90m|\n",
            "\u001b[90m|\u001b[36m|         Size: 1.1 MiB; 1,167,872 B         |\u001b[90m|\n",
            "\u001b[90m|\u001b[36m|  AHAB data block for cortex-a55 core and   |\u001b[90m|\n",
            "\u001b[90m|\u001b[36m|           executable Image Type.           |\u001b[90m|\n",
            "\u001b[90m|\u001b[36m+==0x0012_89ff===============================+\u001b[90m|\n",
            "\u001b[90m+==0x0012_89ff=================================+\n",
            "\u001b[39m\u001b[39m\u001b[0m\n",
            "Success. (AHAB: outputs\\u-boot-atf-container.img created.)\n"
          ]
        }
      ],
      "source": [
        "# EXPORT U-BOOT ATF CONTAINER IMAGE\n",
        "%! nxpimage $VERBOSITY ahab export -c $U_BOOT_ATF_CONTAINER_CONFIG"
      ]
    },
    {
      "cell_type": "markdown",
      "metadata": {},
      "source": [
        "## AHAB Image Container set\n",
        "Now we have the AHAB image with U-Boot SPL DDR and AHAB Image with U-Boot ATF container. We can use the nxpimage binary-image merge command to merge the AHAB images into one binary image. The following command merges the AHAB images:\n",
        "\n",
        "```bash\n",
        "nxpimage -v bootable-image merge -c u-boot-flash_template.yaml -o flash.bin\n",
        "```"
      ]
    },
    {
      "cell_type": "code",
      "execution_count": 5,
      "metadata": {},
      "outputs": [
        {
          "name": "stdout",
          "output_type": "stream",
          "text": [
            "nxpimage -v bootable-image merge --config u-boot-bootable.yaml --output outputs/flash.bin \n",
            "\u001b[37m\u001b[1mINFO:spsdk.image.ahab.ahab_iae:Adding DDR memory areas into SPL image\u001b[39m\u001b[0m\n",
            "\u001b[37m\u001b[1mINFO:spsdk.apps.nxpimage:Created Bootable Image:\n",
            "Name:      Bootable Image for mimx9352\n",
            "Starts:    0x0\n",
            "Ends:      0x17b5ff\n",
            "Size:      Size: 1.5 MiB; 1,553,920 B\n",
            "Alignment: 1 B\n",
            "Pattern:zeros\n",
            "Memory type: MemoryType.SERIAL_DOWNLOADER\n",
            "Revision: a1\n",
            "\u001b[39m\u001b[0m\n",
            "\u001b[37m\u001b[1mINFO:spsdk.apps.nxpimage:Created Bootable Image memory map:\n",
            "\n",
            "\u001b[90m+==0x0000_0000= Bootable Image for mimx9352 =============+\n",
            "\u001b[90m|               Size: 1.5 MiB; 1,553,920 B               |\n",
            "\u001b[90m| Memory type: MemoryType.SERIAL_DOWNLOADER Revision: a1 |\n",
            "\u001b[90m|                     Pattern: zeros                     |\n",
            "\u001b[90m|\u001b[34m+==0x0000_0000= primary_image_container_set ===========+\u001b[90m|\n",
            "\u001b[90m|\u001b[34m|              Size: 330.5 kiB; 338,432 B              |\u001b[90m|\n",
            "\u001b[90m|\u001b[34m|              AHAB Image for mimx9352_a1              |\u001b[90m|\n",
            "\u001b[90m|\u001b[34m|                    Pattern: zeros                    |\u001b[90m|\n",
            "\u001b[90m|\u001b[34m|\u001b[90m+==0x0000_0000= AHAB Containers =====================+\u001b[34m|\u001b[90m|\n",
            "\u001b[90m|\u001b[34m|\u001b[90m|               Size: 8.0 kiB; 8,192 B               |\u001b[34m|\u001b[90m|\n",
            "\u001b[90m|\u001b[34m|\u001b[90m|               AHAB Containers block                |\u001b[34m|\u001b[90m|\n",
            "\u001b[90m|\u001b[34m|\u001b[90m|                   Pattern: zeros                   |\u001b[34m|\u001b[90m|\n",
            "\u001b[90m|\u001b[34m|\u001b[90m|\u001b[34m+==0x0000_0000= AHAB Container 0 ==================+\u001b[90m|\u001b[34m|\u001b[90m|\n",
            "\u001b[90m|\u001b[34m|\u001b[90m|\u001b[34m|                   Size: 544 B                    |\u001b[90m|\u001b[34m|\u001b[90m|\n",
            "\u001b[90m|\u001b[34m|\u001b[90m|\u001b[34m|          AHAB Container for nxp_SWver:0          |\u001b[90m|\u001b[34m|\u001b[90m|\n",
            "\u001b[90m|\u001b[34m|\u001b[90m|\u001b[34m+==0x0000_021f=====================================+\u001b[90m|\u001b[34m|\u001b[90m|\n",
            "\u001b[90m|\u001b[34m|\u001b[90m|                     Gap: 480 B                     |\u001b[34m|\u001b[90m|\n",
            "\u001b[90m|\u001b[34m|\u001b[90m|\u001b[32m+==0x0000_0400= AHAB Container 1 ==================+\u001b[90m|\u001b[34m|\u001b[90m|\n",
            "\u001b[90m|\u001b[34m|\u001b[90m|\u001b[32m|                   Size: 160 B                    |\u001b[90m|\u001b[34m|\u001b[90m|\n",
            "\u001b[90m|\u001b[34m|\u001b[90m|\u001b[32m|         AHAB Container for none_SWver:0          |\u001b[90m|\u001b[34m|\u001b[90m|\n",
            "\u001b[90m|\u001b[34m|\u001b[90m|\u001b[32m+==0x0000_049f=====================================+\u001b[90m|\u001b[34m|\u001b[90m|\n",
            "\u001b[90m|\u001b[34m|\u001b[90m+==0x0000_1fff=======================================+\u001b[34m|\u001b[90m|\n",
            "\u001b[90m|\u001b[34m|\u001b[32m+==0x0000_2000= Container 0 AHAB Data Image 0 =======+\u001b[34m|\u001b[90m|\n",
            "\u001b[90m|\u001b[34m|\u001b[32m|              Size: 95.8 kiB; 98,144 B              |\u001b[34m|\u001b[90m|\n",
            "\u001b[90m|\u001b[34m|\u001b[32m|AHAB encrypted data block for ele core and ele Image|\u001b[34m|\u001b[90m|\n",
            "\u001b[90m|\u001b[34m|\u001b[32m|                       Type.                        |\u001b[34m|\u001b[90m|\n",
            "\u001b[90m|\u001b[34m|\u001b[32m+==0x0001_9f5f=======================================+\u001b[34m|\u001b[90m|\n",
            "\u001b[90m|\u001b[34m|                      Gap: 160 B                      |\u001b[90m|\n",
            "\u001b[90m|\u001b[34m|\u001b[36m+==0x0001_a000= U-Boot SPL with DDR tunning images ==+\u001b[34m|\u001b[90m|\n",
            "\u001b[90m|\u001b[34m|\u001b[36m|             Size: 226.5 kiB; 231,936 B             |\u001b[34m|\u001b[90m|\n",
            "\u001b[90m|\u001b[34m|\u001b[36m| AHAB data block for cortex-a55 core and executable |\u001b[34m|\u001b[90m|\n",
            "\u001b[90m|\u001b[34m|\u001b[36m|                    Image Type.                     |\u001b[34m|\u001b[90m|\n",
            "\u001b[90m|\u001b[34m|\u001b[36m+==0x0005_29ff=======================================+\u001b[34m|\u001b[90m|\n",
            "\u001b[90m|\u001b[34m+==0x0005_29ff=========================================+\u001b[90m|\n",
            "\u001b[90m|                       Gap: 512 B                       |\n",
            "\u001b[90m|\u001b[32m+==0x0005_2c00= secondary_image_container_set =========+\u001b[90m|\n",
            "\u001b[90m|\u001b[32m|              Size: 1.2 MiB; 1,214,976 B              |\u001b[90m|\n",
            "\u001b[90m|\u001b[32m|              AHAB Image for mimx9352_a1              |\u001b[90m|\n",
            "\u001b[90m|\u001b[32m|                    Pattern: zeros                    |\u001b[90m|\n",
            "\u001b[90m|\u001b[32m|\u001b[90m+==0x0005_2c00= AHAB Containers =====================+\u001b[32m|\u001b[90m|\n",
            "\u001b[90m|\u001b[32m|\u001b[90m|               Size: 8.0 kiB; 8,192 B               |\u001b[32m|\u001b[90m|\n",
            "\u001b[90m|\u001b[32m|\u001b[90m|               AHAB Containers block                |\u001b[32m|\u001b[90m|\n",
            "\u001b[90m|\u001b[32m|\u001b[90m|                   Pattern: zeros                   |\u001b[32m|\u001b[90m|\n",
            "\u001b[90m|\u001b[32m|\u001b[90m|\u001b[34m+==0x0005_2c00= AHAB Container 0 ==================+\u001b[90m|\u001b[32m|\u001b[90m|\n",
            "\u001b[90m|\u001b[32m|\u001b[90m|\u001b[34m|                   Size: 288 B                    |\u001b[90m|\u001b[32m|\u001b[90m|\n",
            "\u001b[90m|\u001b[32m|\u001b[90m|\u001b[34m|         AHAB Container for none_SWver:0          |\u001b[90m|\u001b[32m|\u001b[90m|\n",
            "\u001b[90m|\u001b[32m|\u001b[90m|\u001b[34m+==0x0005_2d1f=====================================+\u001b[90m|\u001b[32m|\u001b[90m|\n",
            "\u001b[90m|\u001b[32m|\u001b[90m+==0x0005_4bff=======================================+\u001b[32m|\u001b[90m|\n",
            "\u001b[90m|\u001b[32m|\u001b[34m+==0x0005_4c00= ATF - ARM Trusted Firmware ==========+\u001b[32m|\u001b[90m|\n",
            "\u001b[90m|\u001b[32m|\u001b[34m|              Size: 38.0 kiB; 38,912 B              |\u001b[32m|\u001b[90m|\n",
            "\u001b[90m|\u001b[32m|\u001b[34m| AHAB data block for cortex-a55 core and executable |\u001b[32m|\u001b[90m|\n",
            "\u001b[90m|\u001b[32m|\u001b[34m|                    Image Type.                     |\u001b[32m|\u001b[90m|\n",
            "\u001b[90m|\u001b[32m|\u001b[34m+==0x0005_e3ff=======================================+\u001b[32m|\u001b[90m|\n",
            "\u001b[90m|\u001b[32m|\u001b[36m+==0x0005_e400= U-Boot Firmware =====================+\u001b[32m|\u001b[90m|\n",
            "\u001b[90m|\u001b[32m|\u001b[36m|             Size: 1.1 MiB; 1,167,872 B             |\u001b[32m|\u001b[90m|\n",
            "\u001b[90m|\u001b[32m|\u001b[36m| AHAB data block for cortex-a55 core and executable |\u001b[32m|\u001b[90m|\n",
            "\u001b[90m|\u001b[32m|\u001b[36m|                    Image Type.                     |\u001b[32m|\u001b[90m|\n",
            "\u001b[90m|\u001b[32m|\u001b[36m+==0x0017_b5ff=======================================+\u001b[32m|\u001b[90m|\n",
            "\u001b[90m|\u001b[32m+==0x0017_b5ff=========================================+\u001b[90m|\n",
            "\u001b[90m+==0x0017_b5ff===========================================+\n",
            "\u001b[39m\u001b[39m\u001b[0m\n",
            "Success. (Bootable Image: outputs\\flash.bin created) \n"
          ]
        }
      ],
      "source": [
        "U_BOOT_FLASH_BOOT_CFG = \"u-boot-bootable.yaml\"\n",
        "U_BOOT_FLASH_BOOT = \"outputs/flash.bin\"\n",
        "%! nxpimage $VERBOSITY bootable-image merge --config $U_BOOT_FLASH_BOOT_CFG --output $U_BOOT_FLASH_BOOT"
      ]
    },
    {
      "cell_type": "markdown",
      "metadata": {},
      "source": [
        "## Image download\n",
        "First we put the `iMX93` into serial downloader mode for Cortex-A (`0011`), and use `uuu` to upload the `flash.bin` containing U-Boot and other firmware. \n",
        "\n",
        "The picture below shows the desired DIP switch configuration for flashing Cortex-A:\n",
        "\n",
        "![Download Mode Cortex-A](./images/0011.jpg)"
      ]
    },
    {
      "cell_type": "code",
      "execution_count": 6,
      "metadata": {},
      "outputs": [
        {
          "name": "stdout",
          "output_type": "stream",
          "text": [
            "nxpuuu -v write -f mimx9352 -b emmc outputs/flash.bin \n",
            "SDPS: boot -f outputs/flash.bin\n",
            "\n",
            "\n",
            "Done\n"
          ]
        }
      ],
      "source": [
        "%! nxpuuu $VERBOSITY write -f mimx9352 -b emmc $U_BOOT_FLASH_BOOT"
      ]
    },
    {
      "cell_type": "markdown",
      "metadata": {},
      "source": [
        "## NXPELE\n",
        "\n",
        "NXPELE is a tool that can communicate with the EdgeLock enclave. It might be used for example for writing and reading the fuses and keyblob generation.\n",
        "\n",
        "To communicate with the `iMX93`, we need to set it into eMMC boot for Cortex-A (`0000`), then find out the serial port for the U-Boot console, and stop the autoboot. In later version of SPSDK, it might be possible to do that automatically. \n",
        "\n",
        "The picture below shows the desired DIP switch configuration for booting from Cortex-A:\n",
        "\n",
        "![Boot from Cortex-A](./images/0000.jpg)"
      ]
    },
    {
      "cell_type": "markdown",
      "metadata": {},
      "source": []
    },
    {
      "cell_type": "code",
      "execution_count": 12,
      "metadata": {},
      "outputs": [
        {
          "name": "stdout",
          "output_type": "stream",
          "text": [
            "nxpele -f mimx9352 -p COM174 -d uboot_serial get-info \n",
            "ELE get info ends successfully:\n",
            "Command:          0xda\n",
            "Version:          2\n",
            "Length:           160\n",
            "SoC ID:           MX93 - 0x9300\n",
            "SoC version:      A100\n",
            "Life Cycle:       OEM_OPEN - 0x0010\n",
            "SSSM state:       4\n",
            "UUID:             c2917e5a15ea4be7a4dd47ecb6f86567\n",
            "SHA256 ROM PATCH: 725e3348349e8664b79b93020e8d2e2273d83f33fd9ea7381cce9999df6fbe9a\n",
            "SHA256 FW:        538dfd478a65368f6c493a98d1eb1ea52ff3a4612e776c6baeae9161b7ef3673\n",
            "Advanced information:\n",
            "  OEM SRKH:       0000000000000000000000000000000000000000000000000000000000000000\n",
            "  IMEM state:     The IMEM is fully loaded and all ELE functionality can be used - 0xCA\n",
            "  CSAL state:     EdgeLock secure enclave random context initialization succeed - 0x02\n",
            "  TRNG state:     TRNG entropy is valid and ready to be read - 0x03\n",
            "\n"
          ]
        }
      ],
      "source": [
        "%! nxpele -f mimx9352 -p COM174 -d uboot_serial get-info"
      ]
    },
    {
      "cell_type": "code",
      "execution_count": 13,
      "metadata": {},
      "outputs": [
        {
          "name": "stdout",
          "output_type": "stream",
          "text": [
            "nxpele -f mimx9352 -p COM174 generate-keyblob DEK -a AES_CBC --key-id 0 --key 00000000000000000000000000000000 --key-size 128 \n",
            "ELE generate DEK key blob ends successfully:\n",
            "0048008101100300000231a42fe7958f4d7c5c7b31ff3e1506a8d3af82d45c029426b7c58da076af3ab01dde66b81a57ae57ca057b7afa970418647a27d5725f97e95233fbcba0da\n"
          ]
        }
      ],
      "source": [
        "%! nxpele -f mimx9352 -p COM174 -d uboot_serial generate-keyblob DEK -a AES_CBC --key-id 0 --key 00000000000000000000000000000000 --key-size 128"
      ]
    }
  ],
  "metadata": {
    "kernelspec": {
      "display_name": "venv",
      "language": "python",
      "name": "python3"
    },
    "language_info": {
      "codemirror_mode": {
        "name": "ipython",
        "version": 3
      },
      "file_extension": ".py",
      "mimetype": "text/x-python",
      "name": "python",
      "nbconvert_exporter": "python",
      "pygments_lexer": "ipython3",
      "version": "3.11.1"
    },
    "vscode": {
      "interpreter": {
        "hash": "7e49b31b08ee6a6d8509263078c11b076a18c33ce0e89644813165ae065c47df"
      }
    }
  },
  "nbformat": 4,
  "nbformat_minor": 2
}
