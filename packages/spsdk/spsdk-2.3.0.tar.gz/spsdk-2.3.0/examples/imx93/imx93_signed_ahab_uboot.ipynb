{
 "cells": [
  {
   "cell_type": "markdown",
   "metadata": {},
   "source": [
    "# i.MX 93 signed and encrypted AHAB image\n",
    "\n",
    "This notebook describes how to build a bootable signed and encrypted AHAB image with ELE firmware and U-BOOT bootloader."
   ]
  },
  {
   "cell_type": "markdown",
   "metadata": {},
   "source": [
    "## Set up the environment\n",
    "- SPSDK is needed with examples extension. `pip install spsdk[examples]` (Please refer to the installation documentation.)\n",
    "- This demo was tested with i.MX93 EVK board"
   ]
  },
  {
   "attachments": {},
   "cell_type": "markdown",
   "metadata": {},
   "source": [
    "## U-Boot\n",
    "\n",
    "[Read the U-Boot documentation to understand the U-Boot build process](https://docs.u-boot.org/en/latest/board/nxp/imx93_11x11_evk.html#quick-start)\n",
    "In order to use the nxpele app, U-Boot must be built with AHAB support. CONFIG_AHAB_BOOT=y\n",
    "If you want to use the nxpele over fastboot, also multiplexing of console output to fastboot must be enabled by setting CONFIG_CONSOLE_MUX=y.\n",
    "\n",
    "## Requirements\n",
    "\n",
    "Download these files from the https://www.nxp.com/lgfiles/NMG/MAD/YOCTO/<package name> and put them into the inputs directory.\n",
    "\n",
    "- lpddr4 firmware files\n",
    "- u-boot binary (u-boot SPL and u-boot) built with AHAB support.\n",
    "- bl31.bin binary (ARM Trusted Firmware)\n",
    "- ELE firmware binary AHAB \n",
    "- i.MX93 EVK board\n",
    "- Four ECC keys (In this example we use ECC384). Might be created with *nxpcrypto* tool."
   ]
  },
  {
   "cell_type": "code",
   "execution_count": 6,
   "metadata": {},
   "outputs": [
    {
     "name": "stdout",
     "output_type": "stream",
     "text": [
      "env: JUPYTER_SPSDK=1\n",
      "Created `%!` as an alias for `%execute`.\n"
     ]
    }
   ],
   "source": [
    "# This env variable sets colored logger output to STDOUT\n",
    "%env JUPYTER_SPSDK=1\n",
    "%alias execute echo %l && %l\n",
    "%alias_magic ! execute"
   ]
  },
  {
   "attachments": {},
   "cell_type": "markdown",
   "metadata": {},
   "source": [
    "## AHAB Template\n",
    "\n",
    "We can generate the template using the nxpimage ahab get-template command. The command will generate a template. The template is a YAML file that contains the AHAB header and the AHAB container. The AHAB header contains the information about the image, such as the version, the number of containers, and the signature. The AHAB container contains the information about the image, such as the image type, the image version, the image size, and the image signature.\n",
    "\n",
    "The following command generates the template:\n",
    "\n",
    "```bash\n",
    "nxpimage ahab get-template -f mimx9352 -o ahab_template.yaml\n",
    "```\n",
    "\n",
    "## Exporting of the AHAB image\n",
    "\n",
    "The AHAB image can be exported using the nxpimage ahab export command. The command will create the AHAB image from the template. The following command creates the AHAB image:\n",
    "\n",
    "```bash\n",
    "nxpimage ahab export -c ahab_template.yaml \n",
    "```\n",
    "\n"
   ]
  },
  {
   "cell_type": "code",
   "execution_count": 7,
   "metadata": {},
   "outputs": [
    {
     "name": "stdout",
     "output_type": "stream",
     "text": [
      "nxpimage -v ahab export -c signed-u-boot-spl-container-img_config.yaml \n",
      "\u001b[37m\u001b[1mINFO:spsdk.image.ahab.ahab_iae:Adding DDR memory areas into SPL image\u001b[39m\u001b[0m\n",
      "\u001b[37m\u001b[1mINFO:spsdk.apps.nxpimage:Created AHAB Image:\n",
      "Name:      AHAB Image\n",
      "Starts:    0x0\n",
      "Ends:      0x529ff\n",
      "Size:      Size: 330.5 kiB; 338,432 B\n",
      "Alignment: 8 B\n",
      "Pattern:zeros\n",
      "AHAB Image for mimx9352_a1\n",
      "\u001b[39m\u001b[0m\n",
      "\u001b[37m\u001b[1mINFO:spsdk.apps.nxpimage:Created AHAB Image memory map:\n",
      "\n",
      "\u001b[90m+==0x0000_0000= AHAB Image ============================+\n",
      "\u001b[90m|              Size: 330.5 kiB; 338,432 B              |\n",
      "\u001b[90m|              AHAB Image for mimx9352_a1              |\n",
      "\u001b[90m|                    Pattern: zeros                    |\n",
      "\u001b[90m|\u001b[34m+==0x0000_0000= AHAB Containers =====================+\u001b[90m|\n",
      "\u001b[90m|\u001b[34m|               Size: 8.0 kiB; 8,192 B               |\u001b[90m|\n",
      "\u001b[90m|\u001b[34m|               AHAB Containers block                |\u001b[90m|\n",
      "\u001b[90m|\u001b[34m|                   Pattern: zeros                   |\u001b[90m|\n",
      "\u001b[90m|\u001b[34m|\u001b[90m+==0x0000_0000= AHAB Container 0 ==================+\u001b[34m|\u001b[90m|\n",
      "\u001b[90m|\u001b[34m|\u001b[90m|                   Size: 544 B                    |\u001b[34m|\u001b[90m|\n",
      "\u001b[90m|\u001b[34m|\u001b[90m|          AHAB Container for nxp_SWver:0          |\u001b[34m|\u001b[90m|\n",
      "\u001b[90m|\u001b[34m|\u001b[90m+==0x0000_021f=====================================+\u001b[34m|\u001b[90m|\n",
      "\u001b[90m|\u001b[34m|                     Gap: 480 B                     |\u001b[90m|\n",
      "\u001b[90m|\u001b[34m|\u001b[32m+==0x0000_0400= AHAB Container 1 ==================+\u001b[34m|\u001b[90m|\n",
      "\u001b[90m|\u001b[34m|\u001b[32m|                   Size: 776 B                    |\u001b[34m|\u001b[90m|\n",
      "\u001b[90m|\u001b[34m|\u001b[32m|          AHAB Container for oem_SWver:0          |\u001b[34m|\u001b[90m|\n",
      "\u001b[90m|\u001b[34m|\u001b[32m+==0x0000_0707=====================================+\u001b[34m|\u001b[90m|\n",
      "\u001b[90m|\u001b[34m+==0x0000_1fff=======================================+\u001b[90m|\n",
      "\u001b[90m|\u001b[32m+==0x0000_2000= Container 0 AHAB Data Image 0 =======+\u001b[90m|\n",
      "\u001b[90m|\u001b[32m|              Size: 95.8 kiB; 98,144 B              |\u001b[90m|\n",
      "\u001b[90m|\u001b[32m|AHAB encrypted data block for ele core and ele Image|\u001b[90m|\n",
      "\u001b[90m|\u001b[32m|                       Type.                        |\u001b[90m|\n",
      "\u001b[90m|\u001b[32m+==0x0001_9f5f=======================================+\u001b[90m|\n",
      "\u001b[90m|                      Gap: 160 B                      |\n",
      "\u001b[90m|\u001b[36m+==0x0001_a000= U-Boot SPL with DDR tunning images ==+\u001b[90m|\n",
      "\u001b[90m|\u001b[36m|             Size: 226.5 kiB; 231,936 B             |\u001b[90m|\n",
      "\u001b[90m|\u001b[36m| AHAB encrypted data block for cortex-a55 core and  |\u001b[90m|\n",
      "\u001b[90m|\u001b[36m|               executable Image Type.               |\u001b[90m|\n",
      "\u001b[90m|\u001b[36m+==0x0005_29ff=======================================+\u001b[90m|\n",
      "\u001b[90m+==0x0005_29ff=========================================+\n",
      "\u001b[39m\u001b[39m\u001b[0m\n",
      "Success. (AHAB: outputs\\signed-u-boot-spl-container.img created.)\n",
      "Generated file containing SRK hash: outputs\\signed-u-boot-spl-container_oem1_srk0_hash.txt\n",
      "\u001b[37m\u001b[1mINFO:spsdk.image.ahab.utils:\n",
      "Fuses info:\n",
      "\n",
      " --== Grouped register name: SRKH ==-- \n",
      "OTP ID: 128, Value: 0x9102e77\n",
      "OTP ID: 129, Value: 0xd52d6dc6\n",
      "OTP ID: 130, Value: 0xc65db27a\n",
      "OTP ID: 131, Value: 0xb60904a2\n",
      "OTP ID: 132, Value: 0x63646786\n",
      "OTP ID: 133, Value: 0x547e3e98\n",
      "OTP ID: 134, Value: 0x5be524cf\n",
      "OTP ID: 135, Value: 0x374f6438\n",
      "\u001b[39m\u001b[0m\n",
      "Generated script for writing fuses for container 1: outputs\\signed-u-boot-spl-container_oem1_srk0_hash_nxpele.bcf\n"
     ]
    }
   ],
   "source": [
    "## Export AHAB Images\n",
    "\n",
    "WORKSPACE = \"workspace/\"  # change this to path to your workspace\n",
    "\n",
    "U_BOOT_SPL_CONTAINER_CONFIG = \"signed-u-boot-spl-container-img_config.yaml\"\n",
    "U_BOOT_ATF_CONTAINER_CONFIG = \"signed-u-boot-atf-container-img_config.yaml\"\n",
    "VERBOSITY = \"-v\"\n",
    "\n",
    "# EXPORT U-BOOT SPL CONTAINER IMAGE\n",
    "%! nxpimage $VERBOSITY ahab export -c $U_BOOT_SPL_CONTAINER_CONFIG"
   ]
  },
  {
   "cell_type": "code",
   "execution_count": 8,
   "metadata": {},
   "outputs": [
    {
     "name": "stdout",
     "output_type": "stream",
     "text": [
      "nxpimage -v ahab export -c signed-u-boot-atf-container-img_config.yaml \n",
      "\u001b[37m\u001b[1mINFO:spsdk.apps.nxpimage:Created AHAB Image:\n",
      "Name:      AHAB Image\n",
      "Starts:    0x0\n",
      "Ends:      0x1289ff\n",
      "Size:      Size: 1.2 MiB; 1,214,976 B\n",
      "Alignment: 8 B\n",
      "Pattern:zeros\n",
      "AHAB Image for mimx9352_a1\n",
      "\u001b[39m\u001b[0m\n",
      "\u001b[37m\u001b[1mINFO:spsdk.apps.nxpimage:Created AHAB Image memory map:\n",
      "\n",
      "\u001b[90m+==0x0000_0000= AHAB Image ====================+\n",
      "\u001b[90m|          Size: 1.2 MiB; 1,214,976 B          |\n",
      "\u001b[90m|          AHAB Image for mimx9352_a1          |\n",
      "\u001b[90m|                Pattern: zeros                |\n",
      "\u001b[90m|\u001b[34m+==0x0000_0000= AHAB Containers =============+\u001b[90m|\n",
      "\u001b[90m|\u001b[34m|           Size: 8.0 kiB; 8,192 B           |\u001b[90m|\n",
      "\u001b[90m|\u001b[34m|           AHAB Containers block            |\u001b[90m|\n",
      "\u001b[90m|\u001b[34m|               Pattern: zeros               |\u001b[90m|\n",
      "\u001b[90m|\u001b[34m|\u001b[90m+==0x0000_0000= AHAB Container 0 ==========+\u001b[34m|\u001b[90m|\n",
      "\u001b[90m|\u001b[34m|\u001b[90m|               Size: 904 B                |\u001b[34m|\u001b[90m|\n",
      "\u001b[90m|\u001b[34m|\u001b[90m|      AHAB Container for oem_SWver:0      |\u001b[34m|\u001b[90m|\n",
      "\u001b[90m|\u001b[34m|\u001b[90m+==0x0000_0387=============================+\u001b[34m|\u001b[90m|\n",
      "\u001b[90m|\u001b[34m+==0x0000_1fff===============================+\u001b[90m|\n",
      "\u001b[90m|\u001b[32m+==0x0000_2000= ATF - ARM Trusted Firmware ==+\u001b[90m|\n",
      "\u001b[90m|\u001b[32m|          Size: 38.0 kiB; 38,912 B          |\u001b[90m|\n",
      "\u001b[90m|\u001b[32m|  AHAB encrypted data block for cortex-a55  |\u001b[90m|\n",
      "\u001b[90m|\u001b[32m|      core and executable Image Type.       |\u001b[90m|\n",
      "\u001b[90m|\u001b[32m+==0x0000_b7ff===============================+\u001b[90m|\n",
      "\u001b[90m|\u001b[36m+==0x0000_b800= U-Boot Firmware =============+\u001b[90m|\n",
      "\u001b[90m|\u001b[36m|         Size: 1.1 MiB; 1,167,872 B         |\u001b[90m|\n",
      "\u001b[90m|\u001b[36m|  AHAB encrypted data block for cortex-a55  |\u001b[90m|\n",
      "\u001b[90m|\u001b[36m|      core and executable Image Type.       |\u001b[90m|\n",
      "\u001b[90m|\u001b[36m+==0x0012_89ff===============================+\u001b[90m|\n",
      "\u001b[90m+==0x0012_89ff=================================+\n",
      "\u001b[39m\u001b[39m\u001b[0m\n",
      "Success. (AHAB: outputs\\signed-u-boot-atf-container.img created.)\n",
      "Generated file containing SRK hash: outputs\\signed-u-boot-atf-container_oem0_srk0_hash.txt\n",
      "\u001b[37m\u001b[1mINFO:spsdk.image.ahab.utils:\n",
      "Fuses info:\n",
      "\n",
      " --== Grouped register name: SRKH ==-- \n",
      "OTP ID: 128, Value: 0x9102e77\n",
      "OTP ID: 129, Value: 0xd52d6dc6\n",
      "OTP ID: 130, Value: 0xc65db27a\n",
      "OTP ID: 131, Value: 0xb60904a2\n",
      "OTP ID: 132, Value: 0x63646786\n",
      "OTP ID: 133, Value: 0x547e3e98\n",
      "OTP ID: 134, Value: 0x5be524cf\n",
      "OTP ID: 135, Value: 0x374f6438\n",
      "\u001b[39m\u001b[0m\n",
      "Generated script for writing fuses for container 0: outputs\\signed-u-boot-atf-container_oem0_srk0_hash_nxpele.bcf\n"
     ]
    }
   ],
   "source": [
    "# EXPORT U-BOOT ATF CONTAINER IMAGE\n",
    "%! nxpimage $VERBOSITY ahab export -c $U_BOOT_ATF_CONTAINER_CONFIG"
   ]
  },
  {
   "attachments": {},
   "cell_type": "markdown",
   "metadata": {},
   "source": [
    "## AHAB Image set\n",
    "Now we have the AHAB image with U-Boot SPL DDR and AHAB Image with U-Boot ATF container. We can use the nxpimage bootable-image merge command to merge the AHAB images into one binary image. The following command merges the AHAB images:\n",
    "\n",
    "```bash\n",
    "nxpimage -v bootable-image merge -c u-boot-flash_template.yaml -o flash.bin\n",
    "```"
   ]
  },
  {
   "cell_type": "code",
   "execution_count": 9,
   "metadata": {},
   "outputs": [
    {
     "name": "stdout",
     "output_type": "stream",
     "text": [
      "nxpimage -v bootable-image merge --config signed-u-boot-bootable.yaml --output outputs/signed-flash.bin \n",
      "\u001b[37m\u001b[1mINFO:spsdk.image.ahab.ahab_iae:Adding DDR memory areas into SPL image\u001b[39m\u001b[0m\n",
      "\u001b[37m\u001b[1mINFO:spsdk.apps.nxpimage:Created Bootable Image:\n",
      "Name:      Bootable Image for mimx9352\n",
      "Starts:    0x0\n",
      "Ends:      0x17b5ff\n",
      "Size:      Size: 1.5 MiB; 1,553,920 B\n",
      "Alignment: 1 B\n",
      "Pattern:zeros\n",
      "Memory type: MemoryType.SERIAL_DOWNLOADER\n",
      "Revision: a1\n",
      "\u001b[39m\u001b[0m\n",
      "\u001b[37m\u001b[1mINFO:spsdk.apps.nxpimage:Created Bootable Image memory map:\n",
      "\n",
      "\u001b[90m+==0x0000_0000= Bootable Image for mimx9352 =============+\n",
      "\u001b[90m|               Size: 1.5 MiB; 1,553,920 B               |\n",
      "\u001b[90m| Memory type: MemoryType.SERIAL_DOWNLOADER Revision: a1 |\n",
      "\u001b[90m|                     Pattern: zeros                     |\n",
      "\u001b[90m|\u001b[34m+==0x0000_0000= primary_image_container_set ===========+\u001b[90m|\n",
      "\u001b[90m|\u001b[34m|              Size: 330.5 kiB; 338,432 B              |\u001b[90m|\n",
      "\u001b[90m|\u001b[34m|              AHAB Image for mimx9352_a1              |\u001b[90m|\n",
      "\u001b[90m|\u001b[34m|                    Pattern: zeros                    |\u001b[90m|\n",
      "\u001b[90m|\u001b[34m|\u001b[90m+==0x0000_0000= AHAB Containers =====================+\u001b[34m|\u001b[90m|\n",
      "\u001b[90m|\u001b[34m|\u001b[90m|               Size: 8.0 kiB; 8,192 B               |\u001b[34m|\u001b[90m|\n",
      "\u001b[90m|\u001b[34m|\u001b[90m|               AHAB Containers block                |\u001b[34m|\u001b[90m|\n",
      "\u001b[90m|\u001b[34m|\u001b[90m|                   Pattern: zeros                   |\u001b[34m|\u001b[90m|\n",
      "\u001b[90m|\u001b[34m|\u001b[90m|\u001b[34m+==0x0000_0000= AHAB Container 0 ==================+\u001b[90m|\u001b[34m|\u001b[90m|\n",
      "\u001b[90m|\u001b[34m|\u001b[90m|\u001b[34m|                   Size: 544 B                    |\u001b[90m|\u001b[34m|\u001b[90m|\n",
      "\u001b[90m|\u001b[34m|\u001b[90m|\u001b[34m|          AHAB Container for nxp_SWver:0          |\u001b[90m|\u001b[34m|\u001b[90m|\n",
      "\u001b[90m|\u001b[34m|\u001b[90m|\u001b[34m+==0x0000_021f=====================================+\u001b[90m|\u001b[34m|\u001b[90m|\n",
      "\u001b[90m|\u001b[34m|\u001b[90m|                     Gap: 480 B                     |\u001b[34m|\u001b[90m|\n",
      "\u001b[90m|\u001b[34m|\u001b[90m|\u001b[32m+==0x0000_0400= AHAB Container 1 ==================+\u001b[90m|\u001b[34m|\u001b[90m|\n",
      "\u001b[90m|\u001b[34m|\u001b[90m|\u001b[32m|                   Size: 776 B                    |\u001b[90m|\u001b[34m|\u001b[90m|\n",
      "\u001b[90m|\u001b[34m|\u001b[90m|\u001b[32m|          AHAB Container for oem_SWver:0          |\u001b[90m|\u001b[34m|\u001b[90m|\n",
      "\u001b[90m|\u001b[34m|\u001b[90m|\u001b[32m+==0x0000_0707=====================================+\u001b[90m|\u001b[34m|\u001b[90m|\n",
      "\u001b[90m|\u001b[34m|\u001b[90m+==0x0000_1fff=======================================+\u001b[34m|\u001b[90m|\n",
      "\u001b[90m|\u001b[34m|\u001b[32m+==0x0000_2000= Container 0 AHAB Data Image 0 =======+\u001b[34m|\u001b[90m|\n",
      "\u001b[90m|\u001b[34m|\u001b[32m|              Size: 95.8 kiB; 98,144 B              |\u001b[34m|\u001b[90m|\n",
      "\u001b[90m|\u001b[34m|\u001b[32m|AHAB encrypted data block for ele core and ele Image|\u001b[34m|\u001b[90m|\n",
      "\u001b[90m|\u001b[34m|\u001b[32m|                       Type.                        |\u001b[34m|\u001b[90m|\n",
      "\u001b[90m|\u001b[34m|\u001b[32m+==0x0001_9f5f=======================================+\u001b[34m|\u001b[90m|\n",
      "\u001b[90m|\u001b[34m|                      Gap: 160 B                      |\u001b[90m|\n",
      "\u001b[90m|\u001b[34m|\u001b[36m+==0x0001_a000= U-Boot SPL with DDR tunning images ==+\u001b[34m|\u001b[90m|\n",
      "\u001b[90m|\u001b[34m|\u001b[36m|             Size: 226.5 kiB; 231,936 B             |\u001b[34m|\u001b[90m|\n",
      "\u001b[90m|\u001b[34m|\u001b[36m| AHAB encrypted data block for cortex-a55 core and  |\u001b[34m|\u001b[90m|\n",
      "\u001b[90m|\u001b[34m|\u001b[36m|               executable Image Type.               |\u001b[34m|\u001b[90m|\n",
      "\u001b[90m|\u001b[34m|\u001b[36m+==0x0005_29ff=======================================+\u001b[34m|\u001b[90m|\n",
      "\u001b[90m|\u001b[34m+==0x0005_29ff=========================================+\u001b[90m|\n",
      "\u001b[90m|                       Gap: 512 B                       |\n",
      "\u001b[90m|\u001b[32m+==0x0005_2c00= secondary_image_container_set =========+\u001b[90m|\n",
      "\u001b[90m|\u001b[32m|              Size: 1.2 MiB; 1,214,976 B              |\u001b[90m|\n",
      "\u001b[90m|\u001b[32m|              AHAB Image for mimx9352_a1              |\u001b[90m|\n",
      "\u001b[90m|\u001b[32m|                    Pattern: zeros                    |\u001b[90m|\n",
      "\u001b[90m|\u001b[32m|\u001b[90m+==0x0005_2c00= AHAB Containers =====================+\u001b[32m|\u001b[90m|\n",
      "\u001b[90m|\u001b[32m|\u001b[90m|               Size: 8.0 kiB; 8,192 B               |\u001b[32m|\u001b[90m|\n",
      "\u001b[90m|\u001b[32m|\u001b[90m|               AHAB Containers block                |\u001b[32m|\u001b[90m|\n",
      "\u001b[90m|\u001b[32m|\u001b[90m|                   Pattern: zeros                   |\u001b[32m|\u001b[90m|\n",
      "\u001b[90m|\u001b[32m|\u001b[90m|\u001b[34m+==0x0005_2c00= AHAB Container 0 ==================+\u001b[90m|\u001b[32m|\u001b[90m|\n",
      "\u001b[90m|\u001b[32m|\u001b[90m|\u001b[34m|                   Size: 904 B                    |\u001b[90m|\u001b[32m|\u001b[90m|\n",
      "\u001b[90m|\u001b[32m|\u001b[90m|\u001b[34m|          AHAB Container for oem_SWver:0          |\u001b[90m|\u001b[32m|\u001b[90m|\n",
      "\u001b[90m|\u001b[32m|\u001b[90m|\u001b[34m+==0x0005_2f87=====================================+\u001b[90m|\u001b[32m|\u001b[90m|\n",
      "\u001b[90m|\u001b[32m|\u001b[90m+==0x0005_4bff=======================================+\u001b[32m|\u001b[90m|\n",
      "\u001b[90m|\u001b[32m|\u001b[34m+==0x0005_4c00= ATF - ARM Trusted Firmware ==========+\u001b[32m|\u001b[90m|\n",
      "\u001b[90m|\u001b[32m|\u001b[34m|              Size: 38.0 kiB; 38,912 B              |\u001b[32m|\u001b[90m|\n",
      "\u001b[90m|\u001b[32m|\u001b[34m| AHAB encrypted data block for cortex-a55 core and  |\u001b[32m|\u001b[90m|\n",
      "\u001b[90m|\u001b[32m|\u001b[34m|               executable Image Type.               |\u001b[32m|\u001b[90m|\n",
      "\u001b[90m|\u001b[32m|\u001b[34m+==0x0005_e3ff=======================================+\u001b[32m|\u001b[90m|\n",
      "\u001b[90m|\u001b[32m|\u001b[36m+==0x0005_e400= U-Boot Firmware =====================+\u001b[32m|\u001b[90m|\n",
      "\u001b[90m|\u001b[32m|\u001b[36m|             Size: 1.1 MiB; 1,167,872 B             |\u001b[32m|\u001b[90m|\n",
      "\u001b[90m|\u001b[32m|\u001b[36m| AHAB encrypted data block for cortex-a55 core and  |\u001b[32m|\u001b[90m|\n",
      "\u001b[90m|\u001b[32m|\u001b[36m|               executable Image Type.               |\u001b[32m|\u001b[90m|\n",
      "\u001b[90m|\u001b[32m|\u001b[36m+==0x0017_b5ff=======================================+\u001b[32m|\u001b[90m|\n",
      "\u001b[90m|\u001b[32m+==0x0017_b5ff=========================================+\u001b[90m|\n",
      "\u001b[90m+==0x0017_b5ff===========================================+\n",
      "\u001b[39m\u001b[39m\u001b[0m\n",
      "Success. (Bootable Image: outputs\\signed-flash.bin created) \n"
     ]
    }
   ],
   "source": [
    "U_BOOT_FLASH_BOOT_CFG = \"signed-u-boot-bootable.yaml\"\n",
    "U_BOOT_FLASH_BOOT = \"outputs/signed-flash.bin\"\n",
    "%! nxpimage -v bootable-image merge --config $U_BOOT_FLASH_BOOT_CFG --output $U_BOOT_FLASH_BOOT"
   ]
  },
  {
   "cell_type": "markdown",
   "metadata": {},
   "source": [
    "## Image download\n",
    "First we put the `iMX93` into serial downloader mode for Cortex-A (`0011`), and use `uuu` to upload the `flash.bin` containing U-Boot and other firmware. \n",
    "\n",
    "The picture below shows the desired DIP switch configuration for flashing Cortex-A:\n",
    "\n",
    "![Download Mode Cortex-A](./images/0011.jpg)"
   ]
  },
  {
   "cell_type": "code",
   "execution_count": 10,
   "metadata": {},
   "outputs": [
    {
     "name": "stdout",
     "output_type": "stream",
     "text": [
      "nxpuuu -v write -f mimx9352 -b emmc outputs/signed-flash.bin \n",
      "SDPS: boot -f outputs/signed-flash.bin\n",
      "\n",
      "\n",
      "Done\n"
     ]
    }
   ],
   "source": [
    "%! nxpuuu $VERBOSITY write -f mimx9352 -b emmc $U_BOOT_FLASH_BOOT"
   ]
  },
  {
   "attachments": {},
   "cell_type": "markdown",
   "metadata": {},
   "source": [
    "## Writing Fuses\n",
    "\n",
    "We need to write SRKH (Super root key hash) to fuses. This might be done using the NXPELE tool.\n",
    "When the signed AHAB Image is exported, the \".bcf\" script is generated. \n",
    "\n",
    "The script might look like this\n",
    "\n",
    "```\n",
    "# nxpele AHAB SRK fuses programming script\n",
    "# Family: mimx9352 Revision: a1\n",
    "\n",
    "# Value: 0x772e1009c66d2dd57ab25dc6a20409b686676463983e7e54cf24e55b38644f37\n",
    "# Description: SHA256 hash digest of hash of four SRK keys\n",
    "# Grouped register name: SRKH\n",
    "\n",
    "# OTP ID: 128, Value: 0x9102e77\n",
    "write-fuse --index 128 --data 0x09102E77\n",
    "# OTP ID: 129, Value: 0xd52d6dc6\n",
    "write-fuse --index 129 --data 0xD52D6DC6\n",
    "# OTP ID: 130, Value: 0xc65db27a\n",
    "write-fuse --index 130 --data 0xC65DB27A\n",
    "# OTP ID: 131, Value: 0xb60904a2\n",
    "write-fuse --index 131 --data 0xB60904A2\n",
    "# OTP ID: 132, Value: 0x63646786\n",
    "write-fuse --index 132 --data 0x63646786\n",
    "# OTP ID: 133, Value: 0x547e3e98\n",
    "write-fuse --index 133 --data 0x547E3E98\n",
    "# OTP ID: 134, Value: 0x5be524cf\n",
    "write-fuse --index 134 --data 0x5BE524CF\n",
    "# OTP ID: 135, Value: 0x374f6438\n",
    "write-fuse --index 135 --data 0x374F6438\n",
    "```\n",
    "\n",
    "The script might be executed using nxpele batch mode\n",
    "\n",
    "```bash\n",
    "nxpele -v -f mimx9352 -p COM100 batch outputs\\signed-u-boot-atf-container_oem0_srk_hash_nxpele.bcf\n",
    "```"
   ]
  }
 ],
 "metadata": {
  "kernelspec": {
   "display_name": "venv312",
   "language": "python",
   "name": "python3"
  },
  "language_info": {
   "codemirror_mode": {
    "name": "ipython",
    "version": 3
   },
   "file_extension": ".py",
   "mimetype": "text/x-python",
   "name": "python",
   "nbconvert_exporter": "python",
   "pygments_lexer": "ipython3",
   "version": "3.12.4"
  },
  "vscode": {
   "interpreter": {
    "hash": "affd76ebe4dbd643ff3eeb27e259dc319ce028d0d7bdd50df1076d299df396f0"
   }
  }
 },
 "nbformat": 4,
 "nbformat_minor": 2
}
