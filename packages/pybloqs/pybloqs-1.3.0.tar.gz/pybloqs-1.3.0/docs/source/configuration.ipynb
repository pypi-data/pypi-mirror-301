{
 "cells": [
  {
   "cell_type": "markdown",
   "metadata": {},
   "source": [
    "# Configuration\n",
    "\n",
    "PyBloqs has a few elements that can be configured locally:\n",
    "\n",
    "- Email sending\n",
    "- Public html directory (where Block.publish() will save output)\n",
    "- Tmp html directory (where Block.show() will save output)\n",
    "- PDF conversion backend\n",
    "- Image conversion backend\n",
    "\n",
    "The defaults are set in pybloqs/config.py . Any entry in the dict \"user_config\" in config.py can be overwritten with a local file in the user's home directory at ~/.pybloqs.cfg . The format of .pybloqs.cfg is YAML, so changing the PDF conversion backend to Chrome-headless would be done with the following line:\n",
    "```\n",
    "pdf_converter: chrome_headless\n",
    "```\n"
   ]
  }
 ],
 "metadata": {
  "kernelspec": {
   "display_name": "Python 3",
   "language": "python",
   "name": "python3"
  },
  "language_info": {
   "codemirror_mode": {
    "name": "ipython",
    "version": 3
   },
   "file_extension": ".py",
   "mimetype": "text/x-python",
   "name": "python",
   "nbconvert_exporter": "python",
   "pygments_lexer": "ipython3",
   "version": "3.6.5"
  }
 },
 "nbformat": 4,
 "nbformat_minor": 2
}
