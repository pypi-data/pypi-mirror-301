{
 "cells": [
  {
   "cell_type": "code",
   "execution_count": 1,
   "id": "6c144251-6748-4acf-b73f-e7c56c05fd01",
   "metadata": {
    "tags": []
   },
   "outputs": [
    {
     "data": {
      "application/vnd.jupyter.widget-view+json": {
       "model_id": "c77b8b72496c4cb6bc1416efeb9ba312",
       "version_major": 2,
       "version_minor": 0
      },
      "text/plain": [
       "Upload(value={}, description='Upload')"
      ]
     },
     "execution_count": 1,
     "metadata": {},
     "output_type": "execute_result"
    }
   ],
   "source": [
    "import ipyuploads\n",
    "\n",
    "ipyuploads.Upload()"
   ]
  },
  {
   "cell_type": "code",
   "execution_count": 2,
   "id": "5807bf84-718d-4096-841b-e9a2e9987b54",
   "metadata": {
    "tags": []
   },
   "outputs": [
    {
     "data": {
      "text/plain": [
       "'8.0.4'"
      ]
     },
     "execution_count": 2,
     "metadata": {},
     "output_type": "execute_result"
    }
   ],
   "source": [
    "import ipywidgets\n",
    "\n",
    "ipywidgets.__version__"
   ]
  },
  {
   "cell_type": "code",
   "execution_count": null,
   "id": "17cd325a-f5d8-440d-a091-d50490669615",
   "metadata": {},
   "outputs": [],
   "source": []
  }
 ],
 "metadata": {
  "kernelspec": {
   "display_name": "Python 3 (ipykernel)",
   "language": "python",
   "name": "python3"
  },
  "language_info": {
   "codemirror_mode": {
    "name": "ipython",
    "version": 3
   },
   "file_extension": ".py",
   "mimetype": "text/x-python",
   "name": "python",
   "nbconvert_exporter": "python",
   "pygments_lexer": "ipython3",
   "version": "3.9.12"
  },
  "widgets": {
   "application/vnd.jupyter.widget-state+json": {
    "state": {
     "0d7a3b64ef9f4d14bb12a38fb106f967": {
      "model_module": "@jupyter-widgets/base",
      "model_module_version": "2.0.0",
      "model_name": "LayoutModel",
      "state": {}
     },
     "a13d0fff281f45f2a54aa905727b1101": {
      "model_module": "@jupyter-widgets/controls",
      "model_module_version": "2.0.0",
      "model_name": "ButtonStyleModel",
      "state": {
       "font_family": null,
       "font_size": null,
       "font_style": null,
       "font_variant": null,
       "font_weight": null,
       "text_color": null,
       "text_decoration": null
      }
     },
     "c77b8b72496c4cb6bc1416efeb9ba312": {
      "model_module": "@g2nb/ipyuploads",
      "model_module_version": "2.0.0",
      "model_name": "UploadModel",
      "state": {
       "_model_module": "@g2nb/ipyuploads",
       "_model_name": "UploadModel",
       "_view_name": "ErrorWidgetView",
       "accept": "",
       "busy": false,
       "button_style": "",
       "description": "Upload",
       "description_allow_html": false,
       "disabled": false,
       "error": {},
       "icon": "upload",
       "layout": "IPY_MODEL_0d7a3b64ef9f4d14bb12a38fb106f967",
       "msg": "Failed to load model class 'UploadModel' from module '@g2nb/ipyuploads'",
       "multiple": false,
       "style": "IPY_MODEL_a13d0fff281f45f2a54aa905727b1101",
       "value": []
      }
     }
    },
    "version_major": 2,
    "version_minor": 0
   }
  }
 },
 "nbformat": 4,
 "nbformat_minor": 5
}
