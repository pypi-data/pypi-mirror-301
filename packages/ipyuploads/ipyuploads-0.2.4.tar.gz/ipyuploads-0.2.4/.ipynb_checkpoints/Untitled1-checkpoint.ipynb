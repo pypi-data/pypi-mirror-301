{
 "cells": [
  {
   "cell_type": "code",
   "execution_count": 3,
   "id": "cc2dffcc-d575-4e87-958e-1e02e8b42699",
   "metadata": {
    "tags": []
   },
   "outputs": [],
   "source": [
    "import ipyuploads"
   ]
  },
  {
   "cell_type": "code",
   "execution_count": 4,
   "id": "92f65fc5-a264-47dd-b75b-2f3912405bd9",
   "metadata": {},
   "outputs": [
    {
     "data": {
      "application/vnd.jupyter.widget-view+json": {
       "model_id": "9602dc46767247ee902ca5f1f0aa24c6",
       "version_major": 2,
       "version_minor": 0
      },
      "text/plain": [
       "Upload(value={}, description='Upload')"
      ]
     },
     "execution_count": 4,
     "metadata": {},
     "output_type": "execute_result"
    }
   ],
   "source": [
    "ipyuploads.upload.Upload()"
   ]
  },
  {
   "cell_type": "code",
   "execution_count": 5,
   "id": "a89f423f-7978-4d05-b1b9-bf7f5e3b3be3",
   "metadata": {},
   "outputs": [],
   "source": [
    "import ipywidgets"
   ]
  },
  {
   "cell_type": "code",
   "execution_count": 6,
   "id": "8e314d4f-01bd-4aad-b9aa-dcef3f256f89",
   "metadata": {},
   "outputs": [
    {
     "data": {
      "application/vnd.jupyter.widget-view+json": {
       "model_id": "6fa1eea5e00d402e8c59cd34ef57926f",
       "version_major": 2,
       "version_minor": 0
      },
      "text/plain": [
       "FileUpload(value=(), description='Upload')"
      ]
     },
     "execution_count": 6,
     "metadata": {},
     "output_type": "execute_result"
    }
   ],
   "source": [
    "ipywidgets.FileUpload()"
   ]
  },
  {
   "cell_type": "code",
   "execution_count": null,
   "id": "fe21d4e5-2cea-4bec-8dbe-e3edd2f7ca35",
   "metadata": {},
   "outputs": [],
   "source": []
  }
 ],
 "metadata": {
  "kernelspec": {
   "display_name": "Python 3",
   "language": "python",
   "name": "python3"
  },
  "language_info": {
   "codemirror_mode": {
    "name": "ipython",
    "version": 3
   },
   "file_extension": ".py",
   "mimetype": "text/x-python",
   "name": "python",
   "nbconvert_exporter": "python",
   "pygments_lexer": "ipython3",
   "version": "3.9.12"
  },
  "widgets": {
   "application/vnd.jupyter.widget-state+json": {
    "state": {
     "653979be7fdc4bd781e0daa69a273c70": {
      "model_module": "@jupyter-widgets/base",
      "model_module_version": "2.0.0",
      "model_name": "LayoutModel",
      "state": {}
     },
     "6fa1eea5e00d402e8c59cd34ef57926f": {
      "model_module": "@jupyter-widgets/controls",
      "model_module_version": "2.0.0",
      "model_name": "FileUploadModel",
      "state": {
       "description_allow_html": false,
       "layout": "IPY_MODEL_653979be7fdc4bd781e0daa69a273c70",
       "style": "IPY_MODEL_9db8083fdf344ca4a3648487df89a70a"
      }
     },
     "9db8083fdf344ca4a3648487df89a70a": {
      "model_module": "@jupyter-widgets/controls",
      "model_module_version": "2.0.0",
      "model_name": "ButtonStyleModel",
      "state": {
       "font_family": null,
       "font_size": null,
       "font_style": null,
       "font_variant": null,
       "font_weight": null,
       "text_color": null,
       "text_decoration": null
      }
     },
     "c2e4f73dcff74b818bbbea85f64c8929": {
      "model_module": "@jupyter-widgets/controls",
      "model_module_version": "2.0.0",
      "model_name": "ButtonStyleModel",
      "state": {
       "font_family": null,
       "font_size": null,
       "font_style": null,
       "font_variant": null,
       "font_weight": null,
       "text_color": null,
       "text_decoration": null
      }
     },
     "f3ca2cdc570c4b0899447d74b15e9d23": {
      "model_module": "@jupyter-widgets/base",
      "model_module_version": "2.0.0",
      "model_name": "LayoutModel",
      "state": {}
     },
     "undefined": {
      "model_module": "@g2nb/ipyuploads",
      "model_module_version": "2.0.0",
      "model_name": "UploadModel",
      "state": {
       "_view_name": "ErrorWidgetView",
       "error": {},
       "msg": "Model class 'UploadModel' from module '@g2nb/ipyuploads' is loaded but can not be instantiated"
      }
     }
    },
    "version_major": 2,
    "version_minor": 0
   }
  }
 },
 "nbformat": 4,
 "nbformat_minor": 5
}
