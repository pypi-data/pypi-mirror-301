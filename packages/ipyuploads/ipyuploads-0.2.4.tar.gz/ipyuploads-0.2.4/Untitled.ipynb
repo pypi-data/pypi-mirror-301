{
 "cells": [
  {
   "cell_type": "code",
   "execution_count": 1,
   "id": "942eef63-80e1-47fc-8f76-22d80c48d8f5",
   "metadata": {},
   "outputs": [
    {
     "data": {
      "text/plain": [
       "'0.2.1'"
      ]
     },
     "execution_count": 1,
     "metadata": {},
     "output_type": "execute_result"
    }
   ],
   "source": [
    "import ipyuploads\n",
    "ipyuploads.__version__"
   ]
  },
  {
   "cell_type": "code",
   "execution_count": 2,
   "id": "8fab9a4f-0f79-42d0-b2d2-dfc3a34fb022",
   "metadata": {},
   "outputs": [],
   "source": [
    "def chunk_callback(name, count, total):\n",
    "    print(f'CHUNK CALLBACK! {name} {count} {total}')\n",
    "\n",
    "def file_callback(name):\n",
    "    print('FILE CALLBACK! ' + name)\n",
    "    \n",
    "def all_files_callback(names):\n",
    "    print(f'ALL FILES CALLBACK! {names}')\n",
    "\n",
    "\n",
    "fu = ipyuploads.Upload(chunk_complete=chunk_callback, file_complete=file_callback, all_files_complete=all_files_callback)"
   ]
  },
  {
   "cell_type": "code",
   "execution_count": 3,
   "id": "87b7f019-2cc4-4eac-a3c6-90843fb4b9ae",
   "metadata": {},
   "outputs": [
    {
     "data": {
      "application/vnd.jupyter.widget-view+json": {
       "model_id": "38783f0b8734476d81871735afe3aa3c",
       "version_major": 2,
       "version_minor": 0
      },
      "text/plain": [
       "Upload(value={}, description='Upload')"
      ]
     },
     "execution_count": 3,
     "metadata": {},
     "output_type": "execute_result"
    }
   ],
   "source": [
    "fu"
   ]
  },
  {
   "cell_type": "code",
   "execution_count": 4,
   "id": "d06ee36c-4502-4c29-b463-278c3cbf7681",
   "metadata": {},
   "outputs": [
    {
     "data": {
      "text/plain": [
       "({'name': 'all_aml_test.comp.marker.odf',\n",
       "  'type': 'application/vnd.oasis.opendocument.formula',\n",
       "  'size': 2012126,\n",
       "  'last_modified': datetime.datetime(2022, 1, 3, 17, 50, 3, 127000, tzinfo=datetime.timezone.utc)},)"
      ]
     },
     "execution_count": 4,
     "metadata": {},
     "output_type": "execute_result"
    }
   ],
   "source": [
    "fu.value"
   ]
  },
  {
   "cell_type": "code",
   "execution_count": 34,
   "id": "de3a85b2-4ffe-4ce0-af0b-61e4790031cf",
   "metadata": {},
   "outputs": [
    {
     "name": "stdout",
     "output_type": "stream",
     "text": [
      "ISSUE HERE\n",
      "{'name': 'description', 'old': 'Upload', 'new': 'Send it!', 'owner': Upload(value=({},), description='Send it!'), 'type': 'change'}\n"
     ]
    }
   ],
   "source": [
    "fu.description = 'Send it!'"
   ]
  },
  {
   "cell_type": "code",
   "execution_count": 35,
   "id": "aaea6a46-76aa-4d56-a627-ead16a339585",
   "metadata": {},
   "outputs": [
    {
     "data": {
      "text/plain": [
       "False"
      ]
     },
     "execution_count": 35,
     "metadata": {},
     "output_type": "execute_result"
    }
   ],
   "source": [
    "fu.busy"
   ]
  },
  {
   "cell_type": "code",
   "execution_count": 36,
   "id": "f4944f5e-896d-4c80-8a28-ed760af69c92",
   "metadata": {},
   "outputs": [],
   "source": [
    "filehandle = open('helloworld.txt', 'w')\n",
    "filehandle.write(fu._current_chunk)\n",
    "filehandle.close()"
   ]
  },
  {
   "cell_type": "code",
   "execution_count": 4,
   "id": "d941798f-1587-4823-8204-3cb09adb03b6",
   "metadata": {},
   "outputs": [],
   "source": [
    "a = b'1234aaa'"
   ]
  },
  {
   "cell_type": "code",
   "execution_count": 7,
   "id": "f3606eec-b0a4-4deb-829a-e50fc7a42e31",
   "metadata": {},
   "outputs": [
    {
     "data": {
      "text/plain": [
       "'1234aaa'"
      ]
     },
     "execution_count": 7,
     "metadata": {},
     "output_type": "execute_result"
    }
   ],
   "source": [
    "a.decode(\"utf-8\")"
   ]
  },
  {
   "cell_type": "code",
   "execution_count": 4,
   "id": "b5ef2470-102a-4f28-a73a-96bfad933219",
   "metadata": {},
   "outputs": [],
   "source": [
    "x = [{'name': 'all_aml_test.comp.marker.odf', 'type': 'application/vnd.oasis.opendocument.formula', 'size': 2012126, 'last_modified': 1641232203127}]"
   ]
  },
  {
   "cell_type": "code",
   "execution_count": 5,
   "id": "7c40fbf0-f503-4131-b9b6-13505731d6f5",
   "metadata": {},
   "outputs": [],
   "source": [
    "all_files_complete = lambda names: None"
   ]
  },
  {
   "cell_type": "code",
   "execution_count": 8,
   "id": "6f55f700-1e04-46d6-9e62-5b5ae75bafc5",
   "metadata": {},
   "outputs": [],
   "source": [
    "all_files_complete(names=x)"
   ]
  },
  {
   "cell_type": "code",
   "execution_count": 4,
   "id": "d25b7890-7d0b-4198-9eee-03a6bed39963",
   "metadata": {},
   "outputs": [
    {
     "data": {
      "text/plain": [
       "'8.0.4'"
      ]
     },
     "execution_count": 4,
     "metadata": {},
     "output_type": "execute_result"
    }
   ],
   "source": [
    "import ipywidgets\n",
    "ipywidgets.__version__"
   ]
  },
  {
   "cell_type": "code",
   "execution_count": null,
   "id": "26a574ac-9ede-4170-839c-8340808614fb",
   "metadata": {},
   "outputs": [],
   "source": []
  }
 ],
 "metadata": {
  "kernelspec": {
   "display_name": "Python 3",
   "language": "python",
   "name": "python3"
  },
  "language_info": {
   "codemirror_mode": {
    "name": "ipython",
    "version": 3
   },
   "file_extension": ".py",
   "mimetype": "text/x-python",
   "name": "python",
   "nbconvert_exporter": "python",
   "pygments_lexer": "ipython3",
   "version": "3.9.12"
  },
  "widgets": {
   "application/vnd.jupyter.widget-state+json": {
    "state": {
     "38783f0b8734476d81871735afe3aa3c": {
      "model_module": "@g2nb/ipyuploads",
      "model_module_version": "0.2.1",
      "model_name": "UploadModel",
      "state": {
       "description_allow_html": false,
       "layout": "IPY_MODEL_ed991f46ae6e4b76b0a81df172bd779e",
       "style": "IPY_MODEL_3bcd7b49ad604f15bee2fcb63f1f80a9",
       "value": [
        {
         "last_modified": 1641231971486,
         "name": "barcodes.tsv",
         "size": 45900,
         "type": "text/tab-separated-values"
        }
       ]
      }
     },
     "3bcd7b49ad604f15bee2fcb63f1f80a9": {
      "model_module": "@jupyter-widgets/controls",
      "model_module_version": "2.0.0",
      "model_name": "ButtonStyleModel",
      "state": {
       "font_family": null,
       "font_size": null,
       "font_style": null,
       "font_variant": null,
       "font_weight": null,
       "text_color": null,
       "text_decoration": null
      }
     },
     "ed991f46ae6e4b76b0a81df172bd779e": {
      "model_module": "@jupyter-widgets/base",
      "model_module_version": "2.0.0",
      "model_name": "LayoutModel",
      "state": {}
     }
    },
    "version_major": 2,
    "version_minor": 0
   }
  }
 },
 "nbformat": 4,
 "nbformat_minor": 5
}