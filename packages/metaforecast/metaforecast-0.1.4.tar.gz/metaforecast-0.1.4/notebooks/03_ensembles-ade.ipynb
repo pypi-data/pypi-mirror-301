{
 "cells": [
  {
   "cell_type": "markdown",
   "id": "9499baf3-9451-4d5c-b439-11474b7a9155",
   "metadata": {},
   "source": [
    "# Long-horizon Forecasting with FTN\n",
    "\n",
    "FTN (Forecasted Trajectory Neighbors) is an instance-based (good old KNN) approach for improving multi-step forecasts, especially for long horizons. It's primarily designed to correct i) error propagations along the horizon (in recursive-based approaches), and ii) the implicit independence assumption of direct (1 model per horizon) forecasting approaches. Not suitable for MIMO (e.g. neural nets), except when the horizon is quite large.\n",
    "\n",
    "This notebook explores how to couple FTN with NHITS for long horizon forecasting\n",
    "\n",
    "1. Loading LongHorizon's ETTm2 dataset\n",
    "2. Fitting a NHITS model\n",
    "3. Fitting FTN\n",
    "4. Getting forecasts from NHITS and \n",
    "5. Evaluating all models"
   ]
  },
  {
   "cell_type": "code",
   "execution_count": 1,
   "id": "117c7462-2f17-4b9f-93ae-d5ef7839b6bb",
   "metadata": {},
   "outputs": [],
   "source": [
    "import warnings\n",
    "\n",
    "warnings.filterwarnings(\"ignore\")"
   ]
  },
  {
   "cell_type": "markdown",
   "id": "928efe74-4127-4ea9-bfd5-4519d79ed50d",
   "metadata": {},
   "source": [
    "If necessary, install the package using pip:"
   ]
  },
  {
   "cell_type": "code",
   "execution_count": 2,
   "id": "65b145a0-7260-4fe4-8321-6220574984a0",
   "metadata": {},
   "outputs": [],
   "source": [
    "# !pip install metaforecast -U"
   ]
  },
  {
   "cell_type": "markdown",
   "id": "9879e5fe-8948-42ce-a21e-b1f86895198a",
   "metadata": {},
   "source": [
    "# 1. Data preparation\n",
    "\n",
    "Let's start by loading the dataset.\n",
    "This tutorial uses the ETTm2 dataset available on datasetsforecast.\n",
    "\n",
    "We also set the forecasting horizon and input size (number of lags) to 192 and 96, respectively."
   ]
  },
  {
   "cell_type": "code",
   "execution_count": 3,
   "id": "1ee2182c-d0ac-46a0-aa37-3d7f86480622",
   "metadata": {},
   "outputs": [],
   "source": [
    "import pandas as pd\n",
    "\n",
    "from datasetsforecast.long_horizon import LongHorizon\n",
    "\n",
    "# ade is best suited for short-term forecasting\n",
    "horizon = 196\n",
    "n_lags = 92\n",
    "\n",
    "\n",
    "df, *_ = LongHorizon.load('/Users/vcerq/Documents',group='ETTm2')\n",
    "\n",
    "df['ds'] = pd.to_datetime(df['ds'])"
   ]
  },
  {
   "cell_type": "markdown",
   "id": "bd22ff99-3ebe-441f-92fa-c520fb647775",
   "metadata": {},
   "source": [
    "Split the dataset into training and testing sets:"
   ]
  },
  {
   "cell_type": "code",
   "execution_count": 4,
   "id": "bb10ae13-393b-4467-8f8a-02a32e276b8c",
   "metadata": {},
   "outputs": [
    {
     "data": {
      "text/html": [
       "<div>\n",
       "<style scoped>\n",
       "    .dataframe tbody tr th:only-of-type {\n",
       "        vertical-align: middle;\n",
       "    }\n",
       "\n",
       "    .dataframe tbody tr th {\n",
       "        vertical-align: top;\n",
       "    }\n",
       "\n",
       "    .dataframe thead th {\n",
       "        text-align: right;\n",
       "    }\n",
       "</style>\n",
       "<table border=\"1\" class=\"dataframe\">\n",
       "  <thead>\n",
       "    <tr style=\"text-align: right;\">\n",
       "      <th></th>\n",
       "      <th>unique_id</th>\n",
       "      <th>ds</th>\n",
       "      <th>y</th>\n",
       "    </tr>\n",
       "  </thead>\n",
       "  <tbody>\n",
       "    <tr>\n",
       "      <th>57399</th>\n",
       "      <td>HUFL</td>\n",
       "      <td>2018-02-18 21:45:00</td>\n",
       "      <td>-1.201683</td>\n",
       "    </tr>\n",
       "    <tr>\n",
       "      <th>57400</th>\n",
       "      <td>HUFL</td>\n",
       "      <td>2018-02-18 22:00:00</td>\n",
       "      <td>-1.201683</td>\n",
       "    </tr>\n",
       "    <tr>\n",
       "      <th>57401</th>\n",
       "      <td>HUFL</td>\n",
       "      <td>2018-02-18 22:15:00</td>\n",
       "      <td>-1.377739</td>\n",
       "    </tr>\n",
       "    <tr>\n",
       "      <th>57402</th>\n",
       "      <td>HUFL</td>\n",
       "      <td>2018-02-18 22:30:00</td>\n",
       "      <td>-1.617799</td>\n",
       "    </tr>\n",
       "    <tr>\n",
       "      <th>57403</th>\n",
       "      <td>HUFL</td>\n",
       "      <td>2018-02-18 22:45:00</td>\n",
       "      <td>-1.441742</td>\n",
       "    </tr>\n",
       "  </tbody>\n",
       "</table>\n",
       "</div>"
      ],
      "text/plain": [
       "      unique_id                  ds         y\n",
       "57399      HUFL 2018-02-18 21:45:00 -1.201683\n",
       "57400      HUFL 2018-02-18 22:00:00 -1.201683\n",
       "57401      HUFL 2018-02-18 22:15:00 -1.377739\n",
       "57402      HUFL 2018-02-18 22:30:00 -1.617799\n",
       "57403      HUFL 2018-02-18 22:45:00 -1.441742"
      ]
     },
     "execution_count": 4,
     "metadata": {},
     "output_type": "execute_result"
    }
   ],
   "source": [
    "df_by_unq = df.groupby('unique_id')\n",
    "\n",
    "train_l, test_l = [], []\n",
    "for g, df_ in df_by_unq:\n",
    "    df_ = df_.sort_values('ds')\n",
    "\n",
    "    train_df_g = df_.head(-horizon)\n",
    "    test_df_g = df_.tail(horizon)\n",
    "\n",
    "    train_l.append(train_df_g)\n",
    "    test_l.append(test_df_g)\n",
    "\n",
    "train_df = pd.concat(train_l).reset_index(drop=True)\n",
    "test_df = pd.concat(test_l).reset_index(drop=True)\n",
    "\n",
    "train_df.query('unique_id==\"HUFL\"').tail()"
   ]
  },
  {
   "cell_type": "code",
   "execution_count": 5,
   "id": "eadec7b7-ea0c-4f12-8ae9-e90ff9734ff3",
   "metadata": {},
   "outputs": [
    {
     "data": {
      "text/html": [
       "<div>\n",
       "<style scoped>\n",
       "    .dataframe tbody tr th:only-of-type {\n",
       "        vertical-align: middle;\n",
       "    }\n",
       "\n",
       "    .dataframe tbody tr th {\n",
       "        vertical-align: top;\n",
       "    }\n",
       "\n",
       "    .dataframe thead th {\n",
       "        text-align: right;\n",
       "    }\n",
       "</style>\n",
       "<table border=\"1\" class=\"dataframe\">\n",
       "  <thead>\n",
       "    <tr style=\"text-align: right;\">\n",
       "      <th></th>\n",
       "      <th>unique_id</th>\n",
       "      <th>ds</th>\n",
       "      <th>y</th>\n",
       "    </tr>\n",
       "  </thead>\n",
       "  <tbody>\n",
       "    <tr>\n",
       "      <th>0</th>\n",
       "      <td>HUFL</td>\n",
       "      <td>2018-02-18 23:00:00</td>\n",
       "      <td>-1.545771</td>\n",
       "    </tr>\n",
       "    <tr>\n",
       "      <th>1</th>\n",
       "      <td>HUFL</td>\n",
       "      <td>2018-02-18 23:15:00</td>\n",
       "      <td>-1.545771</td>\n",
       "    </tr>\n",
       "    <tr>\n",
       "      <th>2</th>\n",
       "      <td>HUFL</td>\n",
       "      <td>2018-02-18 23:30:00</td>\n",
       "      <td>-1.569844</td>\n",
       "    </tr>\n",
       "    <tr>\n",
       "      <th>3</th>\n",
       "      <td>HUFL</td>\n",
       "      <td>2018-02-18 23:45:00</td>\n",
       "      <td>-1.761853</td>\n",
       "    </tr>\n",
       "    <tr>\n",
       "      <th>4</th>\n",
       "      <td>HUFL</td>\n",
       "      <td>2018-02-19 00:00:00</td>\n",
       "      <td>-1.705875</td>\n",
       "    </tr>\n",
       "  </tbody>\n",
       "</table>\n",
       "</div>"
      ],
      "text/plain": [
       "  unique_id                  ds         y\n",
       "0      HUFL 2018-02-18 23:00:00 -1.545771\n",
       "1      HUFL 2018-02-18 23:15:00 -1.545771\n",
       "2      HUFL 2018-02-18 23:30:00 -1.569844\n",
       "3      HUFL 2018-02-18 23:45:00 -1.761853\n",
       "4      HUFL 2018-02-19 00:00:00 -1.705875"
      ]
     },
     "execution_count": 5,
     "metadata": {},
     "output_type": "execute_result"
    }
   ],
   "source": [
    "test_df.query('unique_id==\"HUFL\"').head()"
   ]
  },
  {
   "cell_type": "markdown",
   "id": "4a1054d0-b628-4a1a-88e3-7a7b6606f7c5",
   "metadata": {},
   "source": [
    "# 2. Model setup and fitting\n",
    "\n",
    "We focus on NHITS, which has been shown to excel on long-horizon forecasting"
   ]
  },
  {
   "cell_type": "code",
   "execution_count": 6,
   "id": "83d67275-de84-4d20-b669-f18a910bc6ed",
   "metadata": {},
   "outputs": [
    {
     "name": "stderr",
     "output_type": "stream",
     "text": [
      "2024-10-10 18:04:18,481\tINFO util.py:154 -- Missing packages: ['ipywidgets']. Run `pip install -U ipywidgets`, then restart the notebook server for rich notebook output.\n",
      "2024-10-10 18:04:18,533\tINFO util.py:154 -- Missing packages: ['ipywidgets']. Run `pip install -U ipywidgets`, then restart the notebook server for rich notebook output.\n",
      "INFO:lightning_fabric.utilities.seed:Seed set to 1\n"
     ]
    }
   ],
   "source": [
    "from neuralforecast import NeuralForecast\n",
    "from neuralforecast.models import NHITS\n",
    "\n",
    "CONFIG = {\n",
    "    'max_steps': 1000,\n",
    "    'input_size': n_lags,\n",
    "    'h': horizon,\n",
    "    'enable_checkpointing': True,\n",
    "    'accelerator': 'cpu'}\n",
    "\n",
    "models = [NHITS(start_padding_enabled=True, **CONFIG),]\n",
    "\n",
    "nf = NeuralForecast(models=models, freq='15min')"
   ]
  },
  {
   "cell_type": "code",
   "execution_count": 7,
   "id": "f6940dfb-c7ec-4260-90f0-3cc36088cfc0",
   "metadata": {},
   "outputs": [
    {
     "name": "stderr",
     "output_type": "stream",
     "text": [
      "INFO:pytorch_lightning.utilities.rank_zero:GPU available: True (mps), used: False\n",
      "INFO:pytorch_lightning.utilities.rank_zero:TPU available: False, using: 0 TPU cores\n",
      "INFO:pytorch_lightning.utilities.rank_zero:HPU available: False, using: 0 HPUs\n",
      "INFO:pytorch_lightning.callbacks.model_summary:\n",
      "  | Name         | Type          | Params | Mode \n",
      "-------------------------------------------------------\n",
      "0 | loss         | MAE           | 0      | train\n",
      "1 | padder_train | ConstantPad1d | 0      | train\n",
      "2 | scaler       | TemporalNorm  | 0      | train\n",
      "3 | blocks       | ModuleList    | 2.8 M  | train\n",
      "-------------------------------------------------------\n",
      "2.8 M     Trainable params\n",
      "0         Non-trainable params\n",
      "2.8 M     Total params\n",
      "11.109    Total estimated model params size (MB)\n",
      "INFO:pytorch_lightning.utilities.rank_zero:`Trainer.fit` stopped: `max_steps=1000` reached.\n"
     ]
    }
   ],
   "source": [
    "%%capture\n",
    "\n",
    "nf.fit(df=train_df)"
   ]
  },
  {
   "cell_type": "markdown",
   "id": "5688301f-75af-4d8f-aea6-8ebf580cfff4",
   "metadata": {},
   "source": [
    "# 3. Fitting FTN\n",
    "\n",
    "Now, we can fit "
   ]
  },
  {
   "cell_type": "code",
   "execution_count": 8,
   "id": "77992294-2163-4c39-a094-b901c3eb8093",
   "metadata": {},
   "outputs": [],
   "source": [
    "from metaforecast.longhorizon.ftn import MLForecastFTN as FTN\n",
    "\n",
    "ftn = FTN(horizon=horizon,\n",
    "          n_neighbors=150,\n",
    "          apply_ewm=True)"
   ]
  },
  {
   "cell_type": "code",
   "execution_count": 9,
   "id": "fe77469d-d78e-431b-a398-c1591b356646",
   "metadata": {},
   "outputs": [],
   "source": [
    "ftn.fit(train_df)"
   ]
  },
  {
   "cell_type": "code",
   "execution_count": 10,
   "id": "2ead898e-8f1f-400d-a3df-a8bb22160723",
   "metadata": {},
   "outputs": [
    {
     "name": "stderr",
     "output_type": "stream",
     "text": [
      "INFO:pytorch_lightning.utilities.rank_zero:GPU available: True (mps), used: False\n",
      "INFO:pytorch_lightning.utilities.rank_zero:TPU available: False, using: 0 TPU cores\n",
      "INFO:pytorch_lightning.utilities.rank_zero:HPU available: False, using: 0 HPUs\n"
     ]
    },
    {
     "name": "stdout",
     "output_type": "stream",
     "text": [
      "Predicting DataLoader 0: 100%|██████████████████████████████████████████████████████████████████████████████████████████████████████████████████████████| 1/1 [00:00<00:00, 229.89it/s]\n"
     ]
    },
    {
     "data": {
      "text/html": [
       "<div>\n",
       "<style scoped>\n",
       "    .dataframe tbody tr th:only-of-type {\n",
       "        vertical-align: middle;\n",
       "    }\n",
       "\n",
       "    .dataframe tbody tr th {\n",
       "        vertical-align: top;\n",
       "    }\n",
       "\n",
       "    .dataframe thead th {\n",
       "        text-align: right;\n",
       "    }\n",
       "</style>\n",
       "<table border=\"1\" class=\"dataframe\">\n",
       "  <thead>\n",
       "    <tr style=\"text-align: right;\">\n",
       "      <th></th>\n",
       "      <th>ds</th>\n",
       "      <th>NHITS(FTN)</th>\n",
       "      <th>NHITS</th>\n",
       "    </tr>\n",
       "    <tr>\n",
       "      <th>unique_id</th>\n",
       "      <th></th>\n",
       "      <th></th>\n",
       "      <th></th>\n",
       "    </tr>\n",
       "  </thead>\n",
       "  <tbody>\n",
       "    <tr>\n",
       "      <th>HUFL</th>\n",
       "      <td>2018-02-18 23:00:00</td>\n",
       "      <td>-1.362009</td>\n",
       "      <td>-1.407756</td>\n",
       "    </tr>\n",
       "    <tr>\n",
       "      <th>HUFL</th>\n",
       "      <td>2018-02-18 23:15:00</td>\n",
       "      <td>-1.374306</td>\n",
       "      <td>-1.432245</td>\n",
       "    </tr>\n",
       "    <tr>\n",
       "      <th>HUFL</th>\n",
       "      <td>2018-02-18 23:30:00</td>\n",
       "      <td>-1.381242</td>\n",
       "      <td>-1.465016</td>\n",
       "    </tr>\n",
       "    <tr>\n",
       "      <th>HUFL</th>\n",
       "      <td>2018-02-18 23:45:00</td>\n",
       "      <td>-1.389424</td>\n",
       "      <td>-1.471828</td>\n",
       "    </tr>\n",
       "    <tr>\n",
       "      <th>HUFL</th>\n",
       "      <td>2018-02-19 00:00:00</td>\n",
       "      <td>-1.396442</td>\n",
       "      <td>-1.471012</td>\n",
       "    </tr>\n",
       "  </tbody>\n",
       "</table>\n",
       "</div>"
      ],
      "text/plain": [
       "                           ds  NHITS(FTN)     NHITS\n",
       "unique_id                                          \n",
       "HUFL      2018-02-18 23:00:00   -1.362009 -1.407756\n",
       "HUFL      2018-02-18 23:15:00   -1.374306 -1.432245\n",
       "HUFL      2018-02-18 23:30:00   -1.381242 -1.465016\n",
       "HUFL      2018-02-18 23:45:00   -1.389424 -1.471828\n",
       "HUFL      2018-02-19 00:00:00   -1.396442 -1.471012"
      ]
     },
     "execution_count": 10,
     "metadata": {},
     "output_type": "execute_result"
    }
   ],
   "source": [
    "fcst_nf = nf.predict()\n",
    "\n",
    "fcst_ftn = ftn.predict(fcst_nf)\n",
    "fcst_ftn = fcst_ftn.rename(columns={'NHITS':'NHITS(FTN)'})\n",
    "fcst_ftn['NHITS'] = fcst_nf['NHITS'].values\n",
    "\n",
    "fcst_ftn.head()"
   ]
  },
  {
   "cell_type": "markdown",
   "id": "b8e99b89-2cf6-415a-b6cb-872caa1b7a21",
   "metadata": {},
   "source": [
    "Below are the weights of each model (equal across all unique ids because weight_by_uid=False)"
   ]
  },
  {
   "cell_type": "markdown",
   "id": "16adc578-2125-4bfe-ab48-2ff65577bcf6",
   "metadata": {},
   "source": [
    "Then, we refit the neural networks are get the test forecasts"
   ]
  },
  {
   "cell_type": "markdown",
   "id": "8b31c374-7359-40f9-b5ac-97f4032a047b",
   "metadata": {},
   "source": [
    "# 4. Evaluation\n",
    "\n",
    "Finally, we compare all approaches"
   ]
  },
  {
   "cell_type": "code",
   "execution_count": 11,
   "id": "6d1aa52c-d2dd-421a-95fa-1b1e22b193c1",
   "metadata": {},
   "outputs": [],
   "source": [
    "test_df = test_df.merge(fcst_ftn, on=['unique_id','ds'], how=\"left\")"
   ]
  },
  {
   "cell_type": "code",
   "execution_count": 12,
   "id": "cb4ba260-be22-4dcf-a9fa-9982c82de3b2",
   "metadata": {},
   "outputs": [],
   "source": [
    "from neuralforecast.losses.numpy import smape\n",
    "from datasetsforecast.evaluation import accuracy\n",
    "\n",
    "evaluation_df = accuracy(test_df, [smape], agg_by=['unique_id'])"
   ]
  },
  {
   "cell_type": "code",
   "execution_count": 13,
   "id": "f1baebe8-959b-421c-acdb-a69fb17d8f1e",
   "metadata": {},
   "outputs": [
    {
     "data": {
      "text/html": [
       "<div>\n",
       "<style scoped>\n",
       "    .dataframe tbody tr th:only-of-type {\n",
       "        vertical-align: middle;\n",
       "    }\n",
       "\n",
       "    .dataframe tbody tr th {\n",
       "        vertical-align: top;\n",
       "    }\n",
       "\n",
       "    .dataframe thead th {\n",
       "        text-align: right;\n",
       "    }\n",
       "</style>\n",
       "<table border=\"1\" class=\"dataframe\">\n",
       "  <thead>\n",
       "    <tr style=\"text-align: right;\">\n",
       "      <th></th>\n",
       "      <th>NHITS(FTN)</th>\n",
       "      <th>NHITS</th>\n",
       "    </tr>\n",
       "  </thead>\n",
       "  <tbody>\n",
       "    <tr>\n",
       "      <th>0</th>\n",
       "      <td>0.222831</td>\n",
       "      <td>0.215678</td>\n",
       "    </tr>\n",
       "    <tr>\n",
       "      <th>1</th>\n",
       "      <td>0.227395</td>\n",
       "      <td>0.236218</td>\n",
       "    </tr>\n",
       "    <tr>\n",
       "      <th>2</th>\n",
       "      <td>0.049777</td>\n",
       "      <td>0.042658</td>\n",
       "    </tr>\n",
       "    <tr>\n",
       "      <th>3</th>\n",
       "      <td>0.309100</td>\n",
       "      <td>0.262439</td>\n",
       "    </tr>\n",
       "    <tr>\n",
       "      <th>4</th>\n",
       "      <td>0.302872</td>\n",
       "      <td>0.315809</td>\n",
       "    </tr>\n",
       "    <tr>\n",
       "      <th>5</th>\n",
       "      <td>0.238063</td>\n",
       "      <td>0.199672</td>\n",
       "    </tr>\n",
       "    <tr>\n",
       "      <th>6</th>\n",
       "      <td>0.118353</td>\n",
       "      <td>0.121053</td>\n",
       "    </tr>\n",
       "  </tbody>\n",
       "</table>\n",
       "</div>"
      ],
      "text/plain": [
       "   NHITS(FTN)     NHITS\n",
       "0    0.222831  0.215678\n",
       "1    0.227395  0.236218\n",
       "2    0.049777  0.042658\n",
       "3    0.309100  0.262439\n",
       "4    0.302872  0.315809\n",
       "5    0.238063  0.199672\n",
       "6    0.118353  0.121053"
      ]
     },
     "execution_count": 13,
     "metadata": {},
     "output_type": "execute_result"
    }
   ],
   "source": [
    "eval_df = evaluation_df.drop(columns=['metric','unique_id'])\n",
    "\n",
    "eval_df"
   ]
  },
  {
   "cell_type": "code",
   "execution_count": 14,
   "id": "fded64cd-977a-4486-afe2-4a09b2f5bb64",
   "metadata": {
    "scrolled": true
   },
   "outputs": [
    {
     "data": {
      "text/plain": [
       "NHITS         0.199075\n",
       "NHITS(FTN)    0.209770\n",
       "dtype: float64"
      ]
     },
     "execution_count": 14,
     "metadata": {},
     "output_type": "execute_result"
    }
   ],
   "source": [
    "eval_df.mean().sort_values()"
   ]
  }
 ],
 "metadata": {
  "kernelspec": {
   "display_name": "Python 3 (ipykernel)",
   "language": "python",
   "name": "python3"
  },
  "language_info": {
   "codemirror_mode": {
    "name": "ipython",
    "version": 3
   },
   "file_extension": ".py",
   "mimetype": "text/x-python",
   "name": "python",
   "nbconvert_exporter": "python",
   "pygments_lexer": "ipython3",
   "version": "3.9.19"
  }
 },
 "nbformat": 4,
 "nbformat_minor": 5
}
