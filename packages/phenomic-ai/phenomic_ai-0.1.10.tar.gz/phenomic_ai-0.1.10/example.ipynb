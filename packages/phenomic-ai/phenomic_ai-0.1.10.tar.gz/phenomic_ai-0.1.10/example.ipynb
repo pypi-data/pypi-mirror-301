{
 "cells": [
  {
   "cell_type": "code",
   "execution_count": 1,
   "metadata": {},
   "outputs": [],
   "source": [
    "from src.pai.embed import PaiEmbeddings"
   ]
  },
  {
   "cell_type": "code",
   "execution_count": null,
   "metadata": {},
   "outputs": [],
   "source": [
    "tmp_dir = \"/home/ubuntu/tmp/pai/embed\""
   ]
  },
  {
   "cell_type": "code",
   "execution_count": 4,
   "metadata": {},
   "outputs": [],
   "source": [
    "pai_embeddings = PaiEmbeddings(tmp_dir=tmp_dir)"
   ]
  },
  {
   "cell_type": "code",
   "execution_count": 7,
   "metadata": {},
   "outputs": [],
   "source": [
    "h5ad_path=\"/home/ubuntu/tmp/pai/embed/adatas/anndata.h5ad\"\n",
    "tissue_organ=\"adipose\""
   ]
  },
  {
   "cell_type": "code",
   "execution_count": 8,
   "metadata": {},
   "outputs": [
    {
     "name": "stderr",
     "output_type": "stream",
     "text": [
      "08/27/2024 02:45:45 PM Uploading h5ad file...\n",
      "08/27/2024 02:45:46 PM Upload complete, job id: c3ee71b222b440eb87d5ec18507083ee\n",
      "08/27/2024 02:45:46 PM Listening for job status\n",
      "08/27/2024 02:45:46 PM Job status: SUBMITTED\n",
      "08/27/2024 02:45:56 PM Job status: RUNNING\n",
      "08/27/2024 02:46:06 PM Job status: COMPLETED\n",
      "08/27/2024 02:46:06 PM Downloading job\n"
     ]
    }
   ],
   "source": [
    "pai_embeddings.inference(h5ad_path=h5ad_path, tissue_organ=tissue_organ)"
   ]
  },
  {
   "cell_type": "code",
   "execution_count": null,
   "metadata": {},
   "outputs": [],
   "source": []
  }
 ],
 "metadata": {
  "kernelspec": {
   "display_name": "venv",
   "language": "python",
   "name": "python3"
  },
  "language_info": {
   "codemirror_mode": {
    "name": "ipython",
    "version": 3
   },
   "file_extension": ".py",
   "mimetype": "text/x-python",
   "name": "python",
   "nbconvert_exporter": "python",
   "pygments_lexer": "ipython3",
   "version": "3.10.12"
  }
 },
 "nbformat": 4,
 "nbformat_minor": 2
}
