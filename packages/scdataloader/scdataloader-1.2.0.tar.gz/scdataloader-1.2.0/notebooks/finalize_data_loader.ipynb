{
 "cells": [
  {
   "cell_type": "markdown",
   "metadata": {},
   "source": [
    "# one-off preparation of the database"
   ]
  },
  {
   "cell_type": "code",
   "execution_count": 4,
   "metadata": {},
   "outputs": [
    {
     "name": "stdout",
     "output_type": "stream",
     "text": [
      "✅ saved: User(uid='a3keNAVX', handle='jkobject', updated_at=2023-12-08 12:31:42 UTC)\n",
      "✅ saved: Storage(uid='tX3REfAQ', root='/home/ml4ig1/scprint2', type='local', updated_at=2023-12-08 12:31:42 UTC, created_by_id=1)\n",
      "💡 loaded instance: jkobject/scprint2\n",
      "💡 did not register local instance on hub\n"
     ]
    }
   ],
   "source": [
    "!lamin init --storage ~/scprint2 --schema bionty"
   ]
  },
  {
   "cell_type": "code",
   "execution_count": 1,
   "metadata": {},
   "outputs": [
    {
     "name": "stdout",
     "output_type": "stream",
     "text": [
      "💡 lamindb instance: jkobject/scprint\n"
     ]
    }
   ],
   "source": [
    "import bionty as bt\n",
    "import lamindb as ln\n",
    "import lnschema_bionty as lb\n",
    "import pandas as pd\n",
    "from scprint import data_utils\n",
    "\n",
    "%load_ext autoreload\n",
    "%autoreload 2"
   ]
  },
  {
   "cell_type": "code",
   "execution_count": 2,
   "metadata": {},
   "outputs": [],
   "source": [
    "lb.settings.organism = \"human\""
   ]
  },
  {
   "cell_type": "markdown",
   "metadata": {},
   "source": [
    "## prepare lamin database"
   ]
  },
  {
   "cell_type": "code",
   "execution_count": 4,
   "metadata": {},
   "outputs": [
    {
     "data": {
      "text/plain": [
       "Dataset(uid='OirHTWDrudY2TYltvIX1', name='cellxgene-census', version='2023-07-25', hash='pEJ9uvIeTLvHkZW2TBT5', visibility=1, updated_at=2023-11-28 21:46:40 UTC, transform_id=11, run_id=16, created_by_id=1)"
      ]
     },
     "execution_count": 4,
     "metadata": {},
     "output_type": "execute_result"
    }
   ],
   "source": [
    "cx_dataset = ln.Collection.using(\"laminlabs/cellxgene\").one()\n",
    "cx_dataset"
   ]
  },
  {
   "cell_type": "code",
   "execution_count": null,
   "metadata": {},
   "outputs": [],
   "source": [
    "mydataset = data_utils.load_dataset_local(lb, cx_dataset, \"~/scprint/\", name=\"cellxgene-local\", description=\"the full cellxgene database\", only=(229,800), use_cache=True)"
   ]
  },
  {
   "cell_type": "code",
   "execution_count": 5,
   "metadata": {},
   "outputs": [],
   "source": [
    "files = ln.Artifact.filter()\n",
    "#loaded = ! ls ~/scprint/cell-census/2023-07-25/h5ads/"
   ]
  },
  {
   "cell_type": "code",
   "execution_count": 83,
   "metadata": {},
   "outputs": [
    {
     "name": "stdout",
     "output_type": "stream",
     "text": [
      "❗ no run & transform get linked, consider passing a `run` or calling ln.track()\n"
     ]
    },
    {
     "name": "stdout",
     "output_type": "stream",
     "text": [
      "❗ returning existing dataset with same hash: Dataset(uid='JPTWFUdspvbX8OxdO4LL', name='initial dataset', description='directly from cellxgene', hash='luh-kLdfruzsj5K3lbWG', visibility=1, updated_at=2023-12-07 10:18:58 UTC, created_by_id=1)\n"
     ]
    }
   ],
   "source": [
    "name=\"initial dataset\"\n",
    "description=\"directly from cellxgene\"\n",
    "dataset = ln.Collection(mfiles, name=name, description=description)\n",
    "dataset.save()"
   ]
  },
  {
   "cell_type": "code",
   "execution_count": 20,
   "metadata": {},
   "outputs": [
    {
     "data": {
      "text/plain": [
       "506"
      ]
     },
     "execution_count": 20,
     "metadata": {},
     "output_type": "execute_result"
    }
   ],
   "source": [
    "len(mfiles)"
   ]
  },
  {
   "cell_type": "markdown",
   "metadata": {},
   "source": [
    "## load some known ontology names"
   ]
  },
  {
   "cell_type": "code",
   "execution_count": 9,
   "metadata": {},
   "outputs": [],
   "source": [
    "#you can also load it back\n",
    "mydataset = ln.Collection.filter(name=\"cellxgene-local\").one()"
   ]
  },
  {
   "cell_type": "code",
   "execution_count": 1,
   "metadata": {},
   "outputs": [
    {
     "data": {
      "text/plain": [
       "(39055600, 6)"
      ]
     },
     "execution_count": 1,
     "metadata": {},
     "output_type": "execute_result"
    }
   ],
   "source": [
    "import cellxgene_census\n",
    "\n",
    "census = cellxgene_census.open_soma(census_version = \"latest\")\n",
    "val_to_get = ['self_reported_ethnicity_ontology_term_id', 'assay_ontology_term_id', 'development_stage_ontology_term_id', 'disease_ontology_term_id', 'tissue_ontology_term_id']\n",
    "df = census[\"census_data\"][\"homo_sapiens\"].obs.read(column_names=val_to_get, value_filter=\"is_primary_data == True\").concat().to_pandas()\n",
    "df2 = census[\"census_data\"][\"mus_musculus\"].obs.read(column_names=val_to_get, value_filter=\"is_primary_data == True\").concat().to_pandas()\n",
    "df.shape"
   ]
  },
  {
   "cell_type": "code",
   "execution_count": 17,
   "metadata": {},
   "outputs": [
    {
     "name": "stdout",
     "output_type": "stream",
     "text": [
      "❗ ambiguous validation in Bionty for 1 record: 'NCBITaxon:10090'\n"
     ]
    }
   ],
   "source": [
    "records = lb.Organism.from_values([\"NCBITaxon:10090\"], field=lb.Organism.ontology_id)\n",
    "ln.save([records[0]])\n",
    "lb.Organism(name=\"unknown\", ontology_id=\"unknown\").save()"
   ]
  },
  {
   "cell_type": "code",
   "execution_count": 7,
   "metadata": {},
   "outputs": [
    {
     "data": {
      "text/plain": [
       "BiontySource(uid='VTEw', entity='Gene', organism='mouse', currently_used=True, source='ensembl', source_name='Ensembl', version='release-110', url='s3://bionty-assets/df_mouse__ensembl__release-110__Gene.parquet', md5='fa4ce130f2929aefd7ac3bc8eaf0c4de', source_website='https://www.ensembl.org', updated_at=2023-11-22 09:47:07 UTC, created_by_id=1)"
      ]
     },
     "execution_count": 7,
     "metadata": {},
     "output_type": "execute_result"
    }
   ],
   "source": [
    "lb.BiontySource.filter(entity=\"Gene\", organism='mouse').first()"
   ]
  },
  {
   "cell_type": "code",
   "execution_count": 17,
   "metadata": {},
   "outputs": [
    {
     "data": {
      "text/plain": [
       "{1, 2, 4, 5}"
      ]
     },
     "execution_count": 17,
     "metadata": {},
     "output_type": "execute_result"
    }
   ],
   "source": [
    "set(lb.Gene.filter().df()['organism_id'])"
   ]
  },
  {
   "cell_type": "code",
   "execution_count": 81,
   "metadata": {},
   "outputs": [
    {
     "name": "stdout",
     "output_type": "stream",
     "text": [
      "> /home/ml4ig1/Documents code/scPRINT/scprint/dataset/utils.py(204)populate_my_ontology()\n",
      "    202 \n",
      "    203     pdb.set_trace()\n",
      "--> 204     names = bt.CellType().df().index if not celltypes else celltypes\n",
      "    205     records = lb.CellType.from_values(names, field=lb.CellType.ontology_id)\n",
      "    206     ln.save(records)\n",
      "\n",
      "❗ now recursing through parents: this only happens once, but is much slower than bulk saving\n",
      "❗ \u001b[1;91mdid not create\u001b[0m Ethnicity record for \u001b[1;93m1 non-validated\u001b[0m \u001b[3montology_id\u001b[0m: \u001b[1;93m'multiethnic'\u001b[0m\n",
      "❗ now recursing through parents: this only happens once, but is much slower than bulk saving\n",
      "❗ \u001b[1;91mdid not create\u001b[0m DevelopmentalStage record for \u001b[1;93m1 non-validated\u001b[0m \u001b[3montology_id\u001b[0m: \u001b[1;93m'unknown'\u001b[0m\n",
      "❗ now recursing through parents: this only happens once, but is much slower than bulk saving\n",
      "❗ now recursing through parents: this only happens once, but is much slower than bulk saving\n",
      "❗ records with similar names exist! did you mean to load one of them?\n"
     ]
    },
    {
     "data": {
      "text/html": [
       "<div>\n",
       "<style scoped>\n",
       "    .dataframe tbody tr th:only-of-type {\n",
       "        vertical-align: middle;\n",
       "    }\n",
       "\n",
       "    .dataframe tbody tr th {\n",
       "        vertical-align: top;\n",
       "    }\n",
       "\n",
       "    .dataframe thead th {\n",
       "        text-align: right;\n",
       "    }\n",
       "</style>\n",
       "<table border=\"1\" class=\"dataframe\">\n",
       "  <thead>\n",
       "    <tr style=\"text-align: right;\">\n",
       "      <th></th>\n",
       "      <th>uid</th>\n",
       "      <th>synonyms</th>\n",
       "      <th>score</th>\n",
       "    </tr>\n",
       "    <tr>\n",
       "      <th>name</th>\n",
       "      <th></th>\n",
       "      <th></th>\n",
       "      <th></th>\n",
       "    </tr>\n",
       "  </thead>\n",
       "  <tbody>\n",
       "    <tr>\n",
       "      <th>Noonan syndrome</th>\n",
       "      <td>PR8Zk54a</td>\n",
       "      <td>Noonan's syndrome|Turner's phenotype, karyotyp...</td>\n",
       "      <td>90.0</td>\n",
       "    </tr>\n",
       "    <tr>\n",
       "      <th>PLG-related hereditary angioedema with normal C1inh</th>\n",
       "      <td>nWJslCey</td>\n",
       "      <td>PLG-related HAE with normal C1 inhibitor</td>\n",
       "      <td>90.0</td>\n",
       "    </tr>\n",
       "    <tr>\n",
       "      <th>Pacinian tumor</th>\n",
       "      <td>7oJdjev9</td>\n",
       "      <td>Pacinian neurofibroma|Pacinian tumor (morpholo...</td>\n",
       "      <td>90.0</td>\n",
       "    </tr>\n",
       "    <tr>\n",
       "      <th>abnormal pupillary function</th>\n",
       "      <td>OcIbPVkb</td>\n",
       "      <td>abnormal pupillary function (disease)|abnormal...</td>\n",
       "      <td>90.0</td>\n",
       "    </tr>\n",
       "    <tr>\n",
       "      <th>abnormal threshold of rods</th>\n",
       "      <td>FLtCc0CF</td>\n",
       "      <td>abnormal dark adaptation curve</td>\n",
       "      <td>90.0</td>\n",
       "    </tr>\n",
       "    <tr>\n",
       "      <th>acinar cell carcinoma</th>\n",
       "      <td>5eieG3Hz</td>\n",
       "      <td>acinar cell adenocarcinoma|acinar carcinoma|ac...</td>\n",
       "      <td>90.0</td>\n",
       "    </tr>\n",
       "    <tr>\n",
       "      <th>acute myeloid leukemia with 11q23 abnormalities</th>\n",
       "      <td>3esmrKXF</td>\n",
       "      <td>acute myeloid Leukemia with t(9;11)(p21.3;q23....</td>\n",
       "      <td>90.0</td>\n",
       "    </tr>\n",
       "    <tr>\n",
       "      <th>adenocarcinoma</th>\n",
       "      <td>O8eOaxZg</td>\n",
       "      <td>adenocarcinoma, malignant|adenocarcinomas|aden...</td>\n",
       "      <td>90.0</td>\n",
       "    </tr>\n",
       "    <tr>\n",
       "      <th>adenomatoid tumor</th>\n",
       "      <td>pkFcp0xT</td>\n",
       "      <td>adenomatoid tumor|adenomatoid tumor (morpholog...</td>\n",
       "      <td>90.0</td>\n",
       "    </tr>\n",
       "    <tr>\n",
       "      <th>atypical hemolytic uremic syndrome with complement gene abnormality</th>\n",
       "      <td>bcj2cLS1</td>\n",
       "      <td>aHUS with complement gene abnormality|Atypical...</td>\n",
       "      <td>90.0</td>\n",
       "    </tr>\n",
       "    <tr>\n",
       "      <th>benign mesonephroma</th>\n",
       "      <td>EjYBZ0Sh</td>\n",
       "      <td>Mesonephroma, benign|mesonephric neoplasm, ben...</td>\n",
       "      <td>90.0</td>\n",
       "    </tr>\n",
       "    <tr>\n",
       "      <th>corpus callosum agenesis-abnormal genitalia syndrome</th>\n",
       "      <td>toGW7vod</td>\n",
       "      <td>Proud-Levine-Carpenter syndrome|ACC-abnormal g...</td>\n",
       "      <td>90.0</td>\n",
       "    </tr>\n",
       "    <tr>\n",
       "      <th>obsolete acute myeloid leukemia with recurrent genetic anomaly</th>\n",
       "      <td>4xrywWfg</td>\n",
       "      <td>AML with recurrent Genetic abnormalities|acute...</td>\n",
       "      <td>90.0</td>\n",
       "    </tr>\n",
       "    <tr>\n",
       "      <th>obsolete neurological disease with abnormal eye movements</th>\n",
       "      <td>NQ4wuofC</td>\n",
       "      <td>abnormal eye movements</td>\n",
       "      <td>90.0</td>\n",
       "    </tr>\n",
       "    <tr>\n",
       "      <th>olfactory neuroblastoma</th>\n",
       "      <td>NWdV07Tw</td>\n",
       "      <td>paranasal sinus olfactory neuroblastoma|Asthes...</td>\n",
       "      <td>90.0</td>\n",
       "    </tr>\n",
       "    <tr>\n",
       "      <th>pregnancy adenoma</th>\n",
       "      <td>IvBpmbJQ</td>\n",
       "      <td>Lactating adenoma|Lactating adenoma (morpholog...</td>\n",
       "      <td>90.0</td>\n",
       "    </tr>\n",
       "    <tr>\n",
       "      <th>renal coloboma syndrome</th>\n",
       "      <td>rezMDb6e</td>\n",
       "      <td>congenital anomalies of the kidney and urinary...</td>\n",
       "      <td>90.0</td>\n",
       "    </tr>\n",
       "    <tr>\n",
       "      <th>thrombocytopenia 1</th>\n",
       "      <td>CL0yLeK6</td>\n",
       "      <td>thrombocytopenia type 1|X-linked thrombocytope...</td>\n",
       "      <td>90.0</td>\n",
       "    </tr>\n",
       "  </tbody>\n",
       "</table>\n",
       "</div>"
      ],
      "text/plain": [
       "                                                         uid  \\\n",
       "name                                                           \n",
       "Noonan syndrome                                     PR8Zk54a   \n",
       "PLG-related hereditary angioedema with normal C...  nWJslCey   \n",
       "Pacinian tumor                                      7oJdjev9   \n",
       "abnormal pupillary function                         OcIbPVkb   \n",
       "abnormal threshold of rods                          FLtCc0CF   \n",
       "acinar cell carcinoma                               5eieG3Hz   \n",
       "acute myeloid leukemia with 11q23 abnormalities     3esmrKXF   \n",
       "adenocarcinoma                                      O8eOaxZg   \n",
       "adenomatoid tumor                                   pkFcp0xT   \n",
       "atypical hemolytic uremic syndrome with complem...  bcj2cLS1   \n",
       "benign mesonephroma                                 EjYBZ0Sh   \n",
       "corpus callosum agenesis-abnormal genitalia syn...  toGW7vod   \n",
       "obsolete acute myeloid leukemia with recurrent ...  4xrywWfg   \n",
       "obsolete neurological disease with abnormal eye...  NQ4wuofC   \n",
       "olfactory neuroblastoma                             NWdV07Tw   \n",
       "pregnancy adenoma                                   IvBpmbJQ   \n",
       "renal coloboma syndrome                             rezMDb6e   \n",
       "thrombocytopenia 1                                  CL0yLeK6   \n",
       "\n",
       "                                                                                             synonyms  \\\n",
       "name                                                                                                    \n",
       "Noonan syndrome                                     Noonan's syndrome|Turner's phenotype, karyotyp...   \n",
       "PLG-related hereditary angioedema with normal C...           PLG-related HAE with normal C1 inhibitor   \n",
       "Pacinian tumor                                      Pacinian neurofibroma|Pacinian tumor (morpholo...   \n",
       "abnormal pupillary function                         abnormal pupillary function (disease)|abnormal...   \n",
       "abnormal threshold of rods                                             abnormal dark adaptation curve   \n",
       "acinar cell carcinoma                               acinar cell adenocarcinoma|acinar carcinoma|ac...   \n",
       "acute myeloid leukemia with 11q23 abnormalities     acute myeloid Leukemia with t(9;11)(p21.3;q23....   \n",
       "adenocarcinoma                                      adenocarcinoma, malignant|adenocarcinomas|aden...   \n",
       "adenomatoid tumor                                   adenomatoid tumor|adenomatoid tumor (morpholog...   \n",
       "atypical hemolytic uremic syndrome with complem...  aHUS with complement gene abnormality|Atypical...   \n",
       "benign mesonephroma                                 Mesonephroma, benign|mesonephric neoplasm, ben...   \n",
       "corpus callosum agenesis-abnormal genitalia syn...  Proud-Levine-Carpenter syndrome|ACC-abnormal g...   \n",
       "obsolete acute myeloid leukemia with recurrent ...  AML with recurrent Genetic abnormalities|acute...   \n",
       "obsolete neurological disease with abnormal eye...                             abnormal eye movements   \n",
       "olfactory neuroblastoma                             paranasal sinus olfactory neuroblastoma|Asthes...   \n",
       "pregnancy adenoma                                   Lactating adenoma|Lactating adenoma (morpholog...   \n",
       "renal coloboma syndrome                             congenital anomalies of the kidney and urinary...   \n",
       "thrombocytopenia 1                                  thrombocytopenia type 1|X-linked thrombocytope...   \n",
       "\n",
       "                                                    score  \n",
       "name                                                       \n",
       "Noonan syndrome                                      90.0  \n",
       "PLG-related hereditary angioedema with normal C...   90.0  \n",
       "Pacinian tumor                                       90.0  \n",
       "abnormal pupillary function                          90.0  \n",
       "abnormal threshold of rods                           90.0  \n",
       "acinar cell carcinoma                                90.0  \n",
       "acute myeloid leukemia with 11q23 abnormalities      90.0  \n",
       "adenocarcinoma                                       90.0  \n",
       "adenomatoid tumor                                    90.0  \n",
       "atypical hemolytic uremic syndrome with complem...   90.0  \n",
       "benign mesonephroma                                  90.0  \n",
       "corpus callosum agenesis-abnormal genitalia syn...   90.0  \n",
       "obsolete acute myeloid leukemia with recurrent ...   90.0  \n",
       "obsolete neurological disease with abnormal eye...   90.0  \n",
       "olfactory neuroblastoma                              90.0  \n",
       "pregnancy adenoma                                    90.0  \n",
       "renal coloboma syndrome                              90.0  \n",
       "thrombocytopenia 1                                   90.0  "
      ]
     },
     "metadata": {},
     "output_type": "display_data"
    },
    {
     "name": "stdout",
     "output_type": "stream",
     "text": [
      "❗ records with similar names exist! did you mean to load one of them?\n"
     ]
    },
    {
     "data": {
      "text/html": [
       "<div>\n",
       "<style scoped>\n",
       "    .dataframe tbody tr th:only-of-type {\n",
       "        vertical-align: middle;\n",
       "    }\n",
       "\n",
       "    .dataframe tbody tr th {\n",
       "        vertical-align: top;\n",
       "    }\n",
       "\n",
       "    .dataframe thead th {\n",
       "        text-align: right;\n",
       "    }\n",
       "</style>\n",
       "<table border=\"1\" class=\"dataframe\">\n",
       "  <thead>\n",
       "    <tr style=\"text-align: right;\">\n",
       "      <th></th>\n",
       "      <th>uid</th>\n",
       "      <th>synonyms</th>\n",
       "      <th>score</th>\n",
       "    </tr>\n",
       "    <tr>\n",
       "      <th>name</th>\n",
       "      <th></th>\n",
       "      <th></th>\n",
       "      <th></th>\n",
       "    </tr>\n",
       "  </thead>\n",
       "  <tbody>\n",
       "    <tr>\n",
       "      <th>cancer of unknown primary site</th>\n",
       "      <td>wBFcNNtH</td>\n",
       "      <td></td>\n",
       "      <td>90.0</td>\n",
       "    </tr>\n",
       "    <tr>\n",
       "      <th>chronic intervillositis of unknown etiology</th>\n",
       "      <td>d10sK6bb</td>\n",
       "      <td>CIUE</td>\n",
       "      <td>90.0</td>\n",
       "    </tr>\n",
       "    <tr>\n",
       "      <th>monoclonal gammopathy of uncertain significance</th>\n",
       "      <td>RWETMdHi</td>\n",
       "      <td>monoclonal gammopathy, benign|benign monoclona...</td>\n",
       "      <td>90.0</td>\n",
       "    </tr>\n",
       "    <tr>\n",
       "      <th>mucinous adenocarcinoma</th>\n",
       "      <td>uCV8mi51</td>\n",
       "      <td>colloid adenocarcinoma|mucin-producing adenoca...</td>\n",
       "      <td>90.0</td>\n",
       "    </tr>\n",
       "    <tr>\n",
       "      <th>sporadic adult-onset ataxia of unknown etiology</th>\n",
       "      <td>ciICnEgz</td>\n",
       "      <td>SAOA|idiopathic late-onset cerebellar ataxia</td>\n",
       "      <td>90.0</td>\n",
       "    </tr>\n",
       "    <tr>\n",
       "      <th>unknown leukodystrophy</th>\n",
       "      <td>im1dGXZx</td>\n",
       "      <td></td>\n",
       "      <td>90.0</td>\n",
       "    </tr>\n",
       "  </tbody>\n",
       "</table>\n",
       "</div>"
      ],
      "text/plain": [
       "                                                      uid  \\\n",
       "name                                                        \n",
       "cancer of unknown primary site                   wBFcNNtH   \n",
       "chronic intervillositis of unknown etiology      d10sK6bb   \n",
       "monoclonal gammopathy of uncertain significance  RWETMdHi   \n",
       "mucinous adenocarcinoma                          uCV8mi51   \n",
       "sporadic adult-onset ataxia of unknown etiology  ciICnEgz   \n",
       "unknown leukodystrophy                           im1dGXZx   \n",
       "\n",
       "                                                                                          synonyms  \\\n",
       "name                                                                                                 \n",
       "cancer of unknown primary site                                                                       \n",
       "chronic intervillositis of unknown etiology                                                   CIUE   \n",
       "monoclonal gammopathy of uncertain significance  monoclonal gammopathy, benign|benign monoclona...   \n",
       "mucinous adenocarcinoma                          colloid adenocarcinoma|mucin-producing adenoca...   \n",
       "sporadic adult-onset ataxia of unknown etiology       SAOA|idiopathic late-onset cerebellar ataxia   \n",
       "unknown leukodystrophy                                                                               \n",
       "\n",
       "                                                 score  \n",
       "name                                                    \n",
       "cancer of unknown primary site                    90.0  \n",
       "chronic intervillositis of unknown etiology       90.0  \n",
       "monoclonal gammopathy of uncertain significance   90.0  \n",
       "mucinous adenocarcinoma                           90.0  \n",
       "sporadic adult-onset ataxia of unknown etiology   90.0  \n",
       "unknown leukodystrophy                            90.0  "
      ]
     },
     "metadata": {},
     "output_type": "display_data"
    },
    {
     "name": "stdout",
     "output_type": "stream",
     "text": [
      "❗ \u001b[1;91mdid not create\u001b[0m Gene records for \u001b[1;93m56941 non-validated\u001b[0m \u001b[3mensembl_gene_ids\u001b[0m: \u001b[1;93m'ENSMUSG00000000001', 'ENSMUSG00000000003', 'ENSMUSG00000000028', 'ENSMUSG00000000031', 'ENSMUSG00000000037', 'ENSMUSG00000000049', 'ENSMUSG00000000056', 'ENSMUSG00000000058', 'ENSMUSG00000000078', 'ENSMUSG00000000085', 'ENSMUSG00000000088', 'ENSMUSG00000000093', 'ENSMUSG00000000094', 'ENSMUSG00000000103', 'ENSMUSG00000000120', 'ENSMUSG00000000125', 'ENSMUSG00000000126', 'ENSMUSG00000000127', 'ENSMUSG00000000131', 'ENSMUSG00000000134', ...\u001b[0m\n"
     ]
    }
   ],
   "source": [
    "data_utils.populate_my_ontology(lb=lb,\n",
    "    #organisms=[\"NCBITaxon:10090\",],# \"NCBITaxon:9606\"],\n",
    "    sex=[\"PATO:0000384\", \"PATO:0000383\"],\n",
    "    ethnicities=df['self_reported_ethnicity_ontology_term_id'].unique().tolist(),\n",
    "    assays=list(set(df['assay_ontology_term_id'].unique()).union(df2['assay_ontology_term_id'].unique())) + ['EFO:0010961'],\n",
    "    tissues=list(set(df['tissue_ontology_term_id'].unique()).union(df2['tissue_ontology_term_id'].unique())),\n",
    "    # we load all possible diseases. makes it easier\n",
    "    #diseases=list(set(df['disease_ontology_term_id'].unique()).union(df2['disease_ontology_term_id'].unique())),\n",
    "    # we load all possible cell types too.\n",
    "    dev_stages=list(df['development_stage_ontology_term_id'].unique()),)"
   ]
  },
  {
   "cell_type": "code",
   "execution_count": 18,
   "metadata": {},
   "outputs": [
    {
     "ename": "NameError",
     "evalue": "name 'df2' is not defined",
     "output_type": "error",
     "traceback": [
      "\u001b[0;31m---------------------------------------------------------------------------\u001b[0m",
      "\u001b[0;31mNameError\u001b[0m                                 Traceback (most recent call last)",
      "\u001b[1;32m/home/ml4ig1/Documents code/scPRINT/notebooks/assessments/finalize_data_loader.ipynb Cell 18\u001b[0m line \u001b[0;36m4\n\u001b[1;32m      <a href='vscode-notebook-cell://ssh-remote%2Bperso/home/ml4ig1/Documents%20code/scPRINT/notebooks/assessments/finalize_data_loader.ipynb#X21sdnNjb2RlLXJlbW90ZQ%3D%3D?line=0'>1</a>\u001b[0m \u001b[39mimport\u001b[39;00m \u001b[39mbionty\u001b[39;00m \u001b[39mas\u001b[39;00m \u001b[39mbt\u001b[39;00m\n\u001b[1;32m      <a href='vscode-notebook-cell://ssh-remote%2Bperso/home/ml4ig1/Documents%20code/scPRINT/notebooks/assessments/finalize_data_loader.ipynb#X21sdnNjb2RlLXJlbW90ZQ%3D%3D?line=2'>3</a>\u001b[0m bionty_source_ds_mouse \u001b[39m=\u001b[39m lb\u001b[39m.\u001b[39mBiontySource\u001b[39m.\u001b[39mfilter(entity\u001b[39m=\u001b[39m\u001b[39m\"\u001b[39m\u001b[39mDevelopmentalStage\u001b[39m\u001b[39m\"\u001b[39m, organism\u001b[39m=\u001b[39m\u001b[39m\"\u001b[39m\u001b[39mmouse\u001b[39m\u001b[39m\"\u001b[39m)\u001b[39m.\u001b[39mone()\n\u001b[0;32m----> <a href='vscode-notebook-cell://ssh-remote%2Bperso/home/ml4ig1/Documents%20code/scPRINT/notebooks/assessments/finalize_data_loader.ipynb#X21sdnNjb2RlLXJlbW90ZQ%3D%3D?line=3'>4</a>\u001b[0m records \u001b[39m=\u001b[39m lb\u001b[39m.\u001b[39mDevelopmentalStage\u001b[39m.\u001b[39mfrom_values(df2[\u001b[39m'\u001b[39m\u001b[39mdevelopment_stage_ontology_term_id\u001b[39m\u001b[39m'\u001b[39m]\u001b[39m.\u001b[39munique()\u001b[39m.\u001b[39mtolist(), field\u001b[39m=\u001b[39mlb\u001b[39m.\u001b[39mDevelopmentalStage\u001b[39m.\u001b[39montology_id, bionty_source\u001b[39m=\u001b[39mbionty_source_ds_mouse)\n\u001b[1;32m      <a href='vscode-notebook-cell://ssh-remote%2Bperso/home/ml4ig1/Documents%20code/scPRINT/notebooks/assessments/finalize_data_loader.ipynb#X21sdnNjb2RlLXJlbW90ZQ%3D%3D?line=4'>5</a>\u001b[0m ln\u001b[39m.\u001b[39msave(records)\n",
      "\u001b[0;31mNameError\u001b[0m: name 'df2' is not defined"
     ]
    }
   ],
   "source": [
    "\n",
    "bionty_source_ds_mouse = lb.BiontySource.filter(entity=\"DevelopmentalStage\", organism=\"mouse\").one()\n",
    "records = lb.DevelopmentalStage.from_values(df2['development_stage_ontology_term_id'].unique().tolist(), field=lb.DevelopmentalStage.ontology_id, bionty_source=bionty_source_ds_mouse)\n",
    "ln.save(records)"
   ]
  },
  {
   "cell_type": "code",
   "execution_count": 19,
   "metadata": {},
   "outputs": [],
   "source": [
    "assay = ['EFO:0010961']"
   ]
  },
  {
   "cell_type": "code",
   "execution_count": 20,
   "metadata": {},
   "outputs": [],
   "source": [
    "records = lb.ExperimentalFactor.from_values(assay, field=lb.ExperimentalFactor.ontology_id)\n",
    "ln.save(records)"
   ]
  },
  {
   "cell_type": "markdown",
   "metadata": {},
   "source": [
    "## add some missing ontology names"
   ]
  },
  {
   "cell_type": "code",
   "execution_count": 5,
   "metadata": {},
   "outputs": [],
   "source": [
    "from scprint.dataset.utils import get_ancestry_mapping"
   ]
  },
  {
   "cell_type": "code",
   "execution_count": null,
   "metadata": {},
   "outputs": [],
   "source": [
    "additional_tissues = {\n",
    "    \"UBERON:0037144\": \"wall of heart\",\n",
    "    \"UBERON:0003929\": \"digestive tract epithelium\",\n",
    "    \"UBERON:0002020\": \"gray matter\",\n",
    "    \"UBERON:0000200\": \"gyrus\",\n",
    "    \"UBERON:0000101\": \"lobe of lung\",\n",
    "    \"UBERON:0001981\": \"blood vessel\",\n",
    "    \"UBERON:0001474\": \"bone element\",\n",
    "}\n",
    "\n",
    "additional_diseases = {\n",
    "    \"MONDO:0001106\": \"kidney failure\",\n",
    "    \"MONDO:0021166\": \"inflammatory disease\",\n",
    "    \"MONDO:0004992\": \"cancer\",\n",
    "    \"MONDO:0004994\": \"cardiomyopathy\",\n",
    "    \"MONDO:0700065\": \"trisomy\",\n",
    "    \"MONDO:0021042\": \"glioma\",\n",
    "    \"MONDO:0005265\": \"inflammatory bowel disease\",\n",
    "    \"MONDO:0005550\": \"infectious disease\",\n",
    "    \"MONDO:0005059\": \"leukemia\",\n",
    "}\n",
    "\n",
    "additional_assays = {\n",
    "    \"EFO:0010184\": \"Smart-like\",\n",
    "}"
   ]
  },
  {
   "cell_type": "markdown",
   "metadata": {},
   "source": [
    "\n",
    "Did it using the code below to figure out things we might want to add etc.."
   ]
  },
  {
   "cell_type": "code",
   "execution_count": null,
   "metadata": {},
   "outputs": [],
   "source": [
    "mapping, anc, leafs = get_ancestry_mapping(df['tissue_ontology_term_id'].unique(), lb.Tissue.filter().df(include=[\"parents__ontology_id\"]).set_index(\"ontology_id\"))\n",
    "# getting only the leaves for which we don't have a parent\n",
    "leafs = list(leafs - set.union(*[mapping[val] for val in mapping.keys()]))"
   ]
  },
  {
   "cell_type": "code",
   "execution_count": null,
   "metadata": {},
   "outputs": [],
   "source": [
    "lb.Tissue.search(list(leafs)[108], field=\"ontology_id\",return_queryset=True).first().view_parents()"
   ]
  },
  {
   "cell_type": "markdown",
   "metadata": {},
   "source": [
    "## Preprocessing"
   ]
  },
  {
   "cell_type": "code",
   "execution_count": 5,
   "metadata": {},
   "outputs": [],
   "source": [
    "import numpy as np\n",
    "import scanpy as sc\n",
    "from scprint.dataset.preprocess import Preprocessor\n"
   ]
  },
  {
   "cell_type": "code",
   "execution_count": null,
   "metadata": {},
   "outputs": [],
   "source": [
    "adata"
   ]
  },
  {
   "cell_type": "code",
   "execution_count": 21,
   "metadata": {},
   "outputs": [],
   "source": [
    "adata.obs['tissue_ontology_term_id'] = adata.obs['tissue_ontology_term_id'].astype(str)"
   ]
  },
  {
   "cell_type": "code",
   "execution_count": 22,
   "metadata": {},
   "outputs": [],
   "source": [
    "adata.obs.loc[loc, 'tissue_ontology_term_id'] = adata.obs.loc[loc, 'tissue_ontology_term_id'].str.replace(\" (cell culture)\", \"\")"
   ]
  },
  {
   "cell_type": "code",
   "execution_count": 17,
   "metadata": {},
   "outputs": [
    {
     "data": {
      "text/plain": [
       "77650"
      ]
     },
     "execution_count": 17,
     "metadata": {},
     "output_type": "execute_result"
    }
   ],
   "source": [
    "adata.obs['cell_culture'] = False\n",
    "# if cell_type contains the word \"(cell culture)\" then it is a cell culture and we mark it as so and remove this from the cell type\n",
    "loc = adata.obs['tissue_ontology_term_id'].str.contains(\"(cell culture)\")\n",
    "loc.sum()"
   ]
  },
  {
   "cell_type": "code",
   "execution_count": 23,
   "metadata": {},
   "outputs": [],
   "source": [
    "def additional_preprocess(adata):\n",
    "    adata.obs = adata.obs.replace({'self_reported_ethnicity_ontology_term_id':{\n",
    "        'multiethnic':'unknown',\n",
    "        'American':'unknown',\n",
    "        'Jewish Israeli': 'unknown',\n",
    "        'na':'unknown',\n",
    "    }}) #multi ethnic will have to get renamed\n",
    "    adata.obs['cell_culture'] = False\n",
    "    # if cell_type contains the word \"(cell culture)\" then it is a cell culture and we mark it as so and remove this from the cell type\n",
    "    loc = adata.obs['cell_type_ontology_term_id'].str.contains(\"(cell culture)\")\n",
    "    if loc.sum()>0:\n",
    "        adata.obs['cell_type_ontology_term_id'] = adata.obs['cell_type_ontology_term_id'].astype(str)\n",
    "        adata.obs.loc[loc, 'cell_culture'] = True\n",
    "        adata.obs.loc[loc, 'cell_type_ontology_term_id'] = adata.obs.loc[loc, 'cell_type_ontology_term_id'].str.replace(\" (cell culture)\", \"\")\n",
    "    loc = adata.obs['tissue_ontology_term_id'].str.contains(\"(cell culture)\")\n",
    "    if loc.sum()>0:\n",
    "        adata.obs.loc[loc, 'cell_culture'] = True\n",
    "        adata.obs['tissue_ontology_term_id'] = adata.obs['tissue_ontology_term_id'].astype(str)\n",
    "        adata.obs.loc[loc, 'tissue_ontology_term_id'] = adata.obs.loc[loc, 'tissue_ontology_term_id'].str.replace(\" (cell culture)\", \"\")\n",
    "    loc = adata.obs['tissue_ontology_term_id'].str.contains(\"CL:\")\n",
    "    if loc.sum()>0:\n",
    "        adata.obs.loc[loc, 'tissue_ontology_term_id'] = \"unknown\"\n",
    "    return adata\n",
    "\n",
    "def additional_postprocess(adata):\n",
    "    # define the \"up to\" 10 neighbors for each cells and add to obs\n",
    "    # compute neighbors\n",
    "    # need to be connectivities and same labels [cell type, assay, dataset, disease]\n",
    "    # define the \"neighbor\" up to 10(N) cells and add to obs\n",
    "    # define the \"next time point\" up to 5(M) cells and add to obs  # step 1: filter genes\n",
    "    sc.tl.diffmap(adata)\n",
    "    # create a meta group\n",
    "    adata.obs['dpt_group'] = adata.obs['leiden_1'].astype(str) + \"_\" + adata.obs['disease_ontology_term_id'].astype(str) + \"_\" + adata.obs['cell_type_ontology_term_id'].astype(str) + \"_\" + adata.obs['tissue_ontology_term_id'].astype(str) #+ \"_\" + adata.obs['dataset_id'].astype(str)\n",
    "\n",
    "    # if group is too small\n",
    "    okgroup = [i for i, j in adata.obs['dpt_group'].value_counts().items() if j>=10]\n",
    "    not_okgroup = [i for i, j in adata.obs['dpt_group'].value_counts().items() if j<3]\n",
    "    # set the group to empty\n",
    "    adata.obs.loc[adata.obs['dpt_group'].isin(not_okgroup), 'dpt_group'] = ''\n",
    "    adata.obs['heat_diff'] = np.nan\n",
    "    # for each group\n",
    "    for val in set(okgroup):\n",
    "        if val == '':\n",
    "            continue\n",
    "        # get the best root cell\n",
    "        eq = adata.obs.dpt_group==val\n",
    "        loc = np.where(eq)[0]\n",
    "\n",
    "        root_ixs = loc[adata.obsm[\"X_diffmap\"][eq, 0].argmin()]\n",
    "        adata.uns[\"iroot\"] = root_ixs\n",
    "        # compute the diffusion pseudo time from it\n",
    "        sc.tl.dpt(adata)\n",
    "        adata.obs.loc[eq, 'heat_diff'] = adata.obs.loc[eq, 'dpt_pseudotime']\n",
    "        adata.obs.drop(columns=['dpt_pseudotime'], inplace=True)\n",
    "\n",
    "    #sort so that the next time points are aligned for all groups\n",
    "    adata = adata[adata.obs.sort_values(['dpt_group','heat_diff']).index]\n",
    "    #to query N next time points we just get the N elements below and check they are in the group\n",
    "    # to query the N nearest neighbors we just get the N elements above and N below and check they are in the group\n",
    "    return adata\n",
    "\n",
    "do_preprocess = Preprocessor(lb, additional_postprocess=additional_postprocess, additional_preprocess=additional_preprocess, cache=True)\n"
   ]
  },
  {
   "cell_type": "code",
   "execution_count": null,
   "metadata": {},
   "outputs": [],
   "source": [
    "# https://scikit-cuda.readthedocs.io/en/latest/generated/skcuda.linalg.PCA.html"
   ]
  },
  {
   "cell_type": "code",
   "execution_count": 24,
   "metadata": {},
   "outputs": [
    {
     "name": "stdout",
     "output_type": "stream",
     "text": [
      "❗ no run & transform get linked, consider passing a `run` or calling ln.track()\n"
     ]
    },
    {
     "name": "stdout",
     "output_type": "stream",
     "text": [
      "0\n",
      "File(uid='tQaZHQ9Lyy5AE2n5RC2x', key='cell-census/2023-07-25/h5ads/030faa69-ff79-4d85-8630-7c874a114c19.h5ad', suffix='.h5ad', accessor='AnnData', description='Single-cell longitudinal analysis of SARS-CoV-2 infection in human bronchial epithelial cells', size=1090725687, hash='HK6jRnvyiZ4x7ln7InNj-g-131', hash_type='md5-n', visibility=1, key_is_virtual=False, updated_at=2023-11-28 22:44:31 UTC, storage_id=2, transform_id=11, run_id=16, created_by_id=1)\n",
      "AnnData object with n_obs × n_vars = 77650 × 24482\n",
      "    obs: 'n_genes_by_counts', 'log1p_n_genes_by_counts', 'total_counts', 'log1p_total_counts', 'pct_counts_in_top_50_genes', 'pct_counts_in_top_100_genes', 'pct_counts_in_top_200_genes', 'pct_counts_in_top_500_genes', 'pmito', 'n_genes', 'Condition', 'louvain', 'Infected', 'Cell type', 'assay_ontology_term_id', 'disease_ontology_term_id', 'tissue_ontology_term_id', 'cell_type_ontology_term_id', 'development_stage_ontology_term_id', 'self_reported_ethnicity_ontology_term_id', 'sex_ontology_term_id', 'is_primary_data', 'organism_ontology_term_id', 'donor_id', 'suspension_type', 'cell_type', 'assay', 'disease', 'organism', 'sex', 'tissue', 'self_reported_ethnicity', 'development_stage'\n",
      "    var: 'feature_is_filtered', 'feature_name', 'feature_reference', 'feature_biotype'\n",
      "    uns: 'donor_id_colors', 'louvain', 'louvain_colors', 'neighbors', 'pca', 'schema_version', 'title'\n",
      "    obsm: 'X_pca', 'X_phate', 'X_umap'\n",
      "Removed 63 genes.\n",
      "Seeing 33943 outliers (43.71% of total dataset):\n",
      "WARNING: You’re trying to run this on 70116 dimensions of `.X`, if you really want this, set `use_rep='X'`.\n",
      "         Falling back to preprocessing with `sc.pp.pca` and default params.\n",
      "❗ no run & transform get linked, consider passing a `run` or calling ln.track()\n"
     ]
    },
    {
     "ename": "IndexError",
     "evalue": "list index out of range",
     "output_type": "error",
     "traceback": [
      "\u001b[0;31m---------------------------------------------------------------------------\u001b[0m",
      "\u001b[0;31mIndexError\u001b[0m                                Traceback (most recent call last)",
      "\u001b[1;32m/home/ml4ig1/Documents code/scPRINT/notebooks/assessments/finalize_data_loader.ipynb Cell 34\u001b[0m line \u001b[0;36m5\n\u001b[1;32m      <a href='vscode-notebook-cell://ssh-remote%2Bperso/home/ml4ig1/Documents%20code/scPRINT/notebooks/assessments/finalize_data_loader.ipynb#X41sdnNjb2RlLXJlbW90ZQ%3D%3D?line=1'>2</a>\u001b[0m warnings\u001b[39m.\u001b[39mfilterwarnings(\u001b[39m\"\u001b[39m\u001b[39mignore\u001b[39m\u001b[39m\"\u001b[39m, category\u001b[39m=\u001b[39m\u001b[39mResourceWarning\u001b[39;00m)\n\u001b[1;32m      <a href='vscode-notebook-cell://ssh-remote%2Bperso/home/ml4ig1/Documents%20code/scPRINT/notebooks/assessments/finalize_data_loader.ipynb#X41sdnNjb2RlLXJlbW90ZQ%3D%3D?line=2'>3</a>\u001b[0m warnings\u001b[39m.\u001b[39mfilterwarnings(\u001b[39m\"\u001b[39m\u001b[39mignore\u001b[39m\u001b[39m\"\u001b[39m, category\u001b[39m=\u001b[39m\u001b[39mFutureWarning\u001b[39;00m)\n\u001b[0;32m----> <a href='vscode-notebook-cell://ssh-remote%2Bperso/home/ml4ig1/Documents%20code/scPRINT/notebooks/assessments/finalize_data_loader.ipynb#X41sdnNjb2RlLXJlbW90ZQ%3D%3D?line=4'>5</a>\u001b[0m preprocessed_dataset \u001b[39m=\u001b[39m do_preprocess(cx_dataset, start_at\u001b[39m=\u001b[39;49m\u001b[39m8\u001b[39;49m)\n",
      "File \u001b[0;32m~/Documents code/scPRINT/scprint/dataset/preprocess.py:164\u001b[0m, in \u001b[0;36mPreprocessor.__call__\u001b[0;34m(self, data, name, description, start_at)\u001b[0m\n\u001b[1;32m    162\u001b[0m \u001b[39melse\u001b[39;00m:\n\u001b[1;32m    163\u001b[0m     \u001b[39mtry\u001b[39;00m:\n\u001b[0;32m--> 164\u001b[0m         file \u001b[39m=\u001b[39m ln\u001b[39m.\u001b[39;49mFile(\n\u001b[1;32m    165\u001b[0m             adata,\n\u001b[1;32m    166\u001b[0m             is_new_version_of\u001b[39m=\u001b[39;49mfile,\n\u001b[1;32m    167\u001b[0m             description\u001b[39m=\u001b[39;49m\u001b[39m\"\u001b[39;49m\u001b[39mpreprocessed by scprint\u001b[39;49m\u001b[39m\"\u001b[39;49m,\n\u001b[1;32m    168\u001b[0m         )\n\u001b[1;32m    169\u001b[0m     \u001b[39mexcept\u001b[39;00m IntegrityError:\n\u001b[1;32m    170\u001b[0m         \u001b[39mprint\u001b[39m(\u001b[39m\"\u001b[39m\u001b[39mthe old file is already in the local\u001b[39m\u001b[39m\"\u001b[39m)\n",
      "File \u001b[0;32m~/miniconda3/envs/test/lib/python3.10/site-packages/lamindb/_file.py:500\u001b[0m, in \u001b[0;36m__init__\u001b[0;34m(file, *args, **kwargs)\u001b[0m\n\u001b[1;32m    498\u001b[0m \u001b[39mif\u001b[39;00m \u001b[39mnot\u001b[39;00m \u001b[39misinstance\u001b[39m(is_new_version_of, File):\n\u001b[1;32m    499\u001b[0m     \u001b[39mraise\u001b[39;00m \u001b[39mTypeError\u001b[39;00m(\u001b[39m\"\u001b[39m\u001b[39mis_new_version_of has to be of type ln.Artifact\u001b[39m\u001b[39m\"\u001b[39m)\n\u001b[0;32m--> 500\u001b[0m provisional_uid, initial_version_id, version \u001b[39m=\u001b[39m get_ids_from_old_version(\n\u001b[1;32m    501\u001b[0m     is_new_version_of, version, n_full_id\u001b[39m=\u001b[39;49m\u001b[39m20\u001b[39;49m\n\u001b[1;32m    502\u001b[0m )\n\u001b[1;32m    503\u001b[0m \u001b[39mif\u001b[39;00m description \u001b[39mis\u001b[39;00m \u001b[39mNone\u001b[39;00m:\n\u001b[1;32m    504\u001b[0m     description \u001b[39m=\u001b[39m is_new_version_of\u001b[39m.\u001b[39mdescription\n",
      "File \u001b[0;32m~/miniconda3/envs/test/lib/python3.10/site-packages/lamindb/dev/versioning.py:78\u001b[0m, in \u001b[0;36mget_ids_from_old_version\u001b[0;34m(is_new_version_of, version, n_full_id)\u001b[0m\n\u001b[1;32m     76\u001b[0m \u001b[39mif\u001b[39;00m is_new_version_of\u001b[39m.\u001b[39mversion \u001b[39mis\u001b[39;00m \u001b[39mNone\u001b[39;00m:\n\u001b[1;32m     77\u001b[0m     is_new_version_of\u001b[39m.\u001b[39mversion \u001b[39m=\u001b[39m previous_version\n\u001b[0;32m---> 78\u001b[0m     is_new_version_of\u001b[39m.\u001b[39;49msave()\n\u001b[1;32m     79\u001b[0m     \u001b[39mif\u001b[39;00m msg \u001b[39m!=\u001b[39m \u001b[39m\"\u001b[39m\u001b[39m\"\u001b[39m:\n\u001b[1;32m     80\u001b[0m         msg \u001b[39m+\u001b[39m\u001b[39m=\u001b[39m (\n\u001b[1;32m     81\u001b[0m             \u001b[39mf\u001b[39m\u001b[39m\"\u001b[39m\u001b[39m& new version to \u001b[39m\u001b[39m'\u001b[39m\u001b[39m{\u001b[39;00mversion\u001b[39m}\u001b[39;00m\u001b[39m'\u001b[39m\u001b[39m (initial_version_id =\u001b[39m\u001b[39m\"\u001b[39m\n\u001b[1;32m     82\u001b[0m             \u001b[39mf\u001b[39m\u001b[39m\"\u001b[39m\u001b[39m \u001b[39m\u001b[39m'\u001b[39m\u001b[39m{\u001b[39;00minitial_version_id\u001b[39m}\u001b[39;00m\u001b[39m'\u001b[39m\u001b[39m)\u001b[39m\u001b[39m\"\u001b[39m\n\u001b[1;32m     83\u001b[0m         )\n",
      "File \u001b[0;32m~/miniconda3/envs/test/lib/python3.10/site-packages/lamindb/_file.py:922\u001b[0m, in \u001b[0;36msave\u001b[0;34m(self, *args, **kwargs)\u001b[0m\n\u001b[1;32m    921\u001b[0m \u001b[39mdef\u001b[39;00m \u001b[39msave\u001b[39m(\u001b[39mself\u001b[39m, \u001b[39m*\u001b[39margs, \u001b[39m*\u001b[39m\u001b[39m*\u001b[39mkwargs) \u001b[39m-\u001b[39m\u001b[39m>\u001b[39m \u001b[39mNone\u001b[39;00m:\n\u001b[0;32m--> 922\u001b[0m     \u001b[39mself\u001b[39;49m\u001b[39m.\u001b[39;49m_save_skip_storage(\u001b[39m*\u001b[39;49margs, \u001b[39m*\u001b[39;49m\u001b[39m*\u001b[39;49mkwargs)\n\u001b[1;32m    923\u001b[0m     \u001b[39mfrom\u001b[39;00m \u001b[39mlamindb\u001b[39;00m\u001b[39m.\u001b[39;00m\u001b[39m_save\u001b[39;00m \u001b[39mimport\u001b[39;00m check_and_attempt_clearing, check_and_attempt_upload\n\u001b[1;32m    925\u001b[0m     exception \u001b[39m=\u001b[39m check_and_attempt_upload(\u001b[39mself\u001b[39m)\n",
      "File \u001b[0;32m~/miniconda3/envs/test/lib/python3.10/site-packages/lamindb/_file.py:936\u001b[0m, in \u001b[0;36m_save_skip_storage\u001b[0;34m(file, *args, **kwargs)\u001b[0m\n\u001b[1;32m    934\u001b[0m \u001b[39mdef\u001b[39;00m \u001b[39m_save_skip_storage\u001b[39m(file, \u001b[39m*\u001b[39margs, \u001b[39m*\u001b[39m\u001b[39m*\u001b[39mkwargs) \u001b[39m-\u001b[39m\u001b[39m>\u001b[39m \u001b[39mNone\u001b[39;00m:\n\u001b[1;32m    935\u001b[0m     save_feature_sets(file)\n\u001b[0;32m--> 936\u001b[0m     \u001b[39msuper\u001b[39;49m(File, file)\u001b[39m.\u001b[39;49msave(\u001b[39m*\u001b[39;49margs, \u001b[39m*\u001b[39;49m\u001b[39m*\u001b[39;49mkwargs)\n\u001b[1;32m    937\u001b[0m     save_feature_set_links(file)\n",
      "File \u001b[0;32m~/miniconda3/envs/test/lib/python3.10/site-packages/lamindb/_registry.py:476\u001b[0m, in \u001b[0;36msave\u001b[0;34m(self, *args, **kwargs)\u001b[0m\n\u001b[1;32m    474\u001b[0m \u001b[39mself\u001b[39m\u001b[39m.\u001b[39mfeatures\u001b[39m.\u001b[39m_add_from(self_on_db)\n\u001b[1;32m    475\u001b[0m logger\u001b[39m.\u001b[39minfo(\u001b[39m\"\u001b[39m\u001b[39mtransfer labels\u001b[39m\u001b[39m\"\u001b[39m)\n\u001b[0;32m--> 476\u001b[0m \u001b[39mself\u001b[39;49m\u001b[39m.\u001b[39;49mlabels\u001b[39m.\u001b[39;49madd_from(self_on_db)\n",
      "File \u001b[0;32m~/miniconda3/envs/test/lib/python3.10/site-packages/lamindb/dev/_label_manager.py:177\u001b[0m, in \u001b[0;36mLabelManager.add_from\u001b[0;34m(self, data)\u001b[0m\n\u001b[1;32m    173\u001b[0m                 \u001b[39m# labels records from data db\u001b[39;00m\n\u001b[1;32m    174\u001b[0m                 labels \u001b[39m=\u001b[39m data\u001b[39m.\u001b[39mlabels\u001b[39m.\u001b[39mget(\n\u001b[1;32m    175\u001b[0m                     \u001b[39mgetattr\u001b[39m(features_lookup_data, row[\u001b[39m\"\u001b[39m\u001b[39mname\u001b[39m\u001b[39m\"\u001b[39m]), mute\u001b[39m=\u001b[39m\u001b[39mTrue\u001b[39;00m\n\u001b[1;32m    176\u001b[0m                 )\n\u001b[0;32m--> 177\u001b[0m                 transfer_add_labels(labels, features_lookup_self, \u001b[39mself\u001b[39;49m, row)\n\u001b[1;32m    179\u001b[0m \u001b[39m# for now, have this be duplicated, need to disentangle above\u001b[39;00m\n\u001b[1;32m    180\u001b[0m \u001b[39mfor\u001b[39;00m related_name, (_, labels) \u001b[39min\u001b[39;00m get_labels_as_dict(data)\u001b[39m.\u001b[39mitems():\n",
      "File \u001b[0;32m~/miniconda3/envs/test/lib/python3.10/site-packages/lamindb/dev/_label_manager.py:67\u001b[0m, in \u001b[0;36mtransfer_add_labels\u001b[0;34m(labels, features_lookup_self, self, row)\u001b[0m\n\u001b[1;32m     61\u001b[0m     \u001b[39mself\u001b[39m\u001b[39m.\u001b[39m_host\u001b[39m.\u001b[39mlabels\u001b[39m.\u001b[39madd(\n\u001b[1;32m     62\u001b[0m         validated_labels \u001b[39m+\u001b[39m new_labels,\n\u001b[1;32m     63\u001b[0m         feature\u001b[39m=\u001b[39m\u001b[39mgetattr\u001b[39m(features_lookup_self, row[\u001b[39m\"\u001b[39m\u001b[39mname\u001b[39m\u001b[39m\"\u001b[39m]),\n\u001b[1;32m     64\u001b[0m     )\n\u001b[1;32m     66\u001b[0m \u001b[39m# validate labels on the default db\u001b[39;00m\n\u001b[0;32m---> 67\u001b[0m result \u001b[39m=\u001b[39m validate_labels(labels)\n\u001b[1;32m     68\u001b[0m \u001b[39mif\u001b[39;00m \u001b[39misinstance\u001b[39m(result, Dict):\n\u001b[1;32m     69\u001b[0m     \u001b[39mfor\u001b[39;00m _, (validated_labels, new_labels) \u001b[39min\u001b[39;00m result\u001b[39m.\u001b[39mitems():\n",
      "File \u001b[0;32m~/miniconda3/envs/test/lib/python3.10/site-packages/lamindb/dev/_label_manager.py:93\u001b[0m, in \u001b[0;36mvalidate_labels\u001b[0;34m(labels)\u001b[0m\n\u001b[1;32m     91\u001b[0m         result[registry] \u001b[39m=\u001b[39m validate_labels_registry(labels_registry)\n\u001b[1;32m     92\u001b[0m \u001b[39melse\u001b[39;00m:\n\u001b[0;32m---> 93\u001b[0m     \u001b[39mreturn\u001b[39;00m validate_labels_registry(labels)\n",
      "File \u001b[0;32m~/miniconda3/envs/test/lib/python3.10/site-packages/lamindb/dev/_label_manager.py:77\u001b[0m, in \u001b[0;36mvalidate_labels.<locals>.validate_labels_registry\u001b[0;34m(labels)\u001b[0m\n\u001b[1;32m     76\u001b[0m \u001b[39mdef\u001b[39;00m \u001b[39mvalidate_labels_registry\u001b[39m(labels: Union[QuerySet, List, Dict]):\n\u001b[0;32m---> 77\u001b[0m     registry \u001b[39m=\u001b[39m labels[\u001b[39m0\u001b[39;49m]\u001b[39m.\u001b[39m\u001b[39m__class__\u001b[39m\n\u001b[1;32m     78\u001b[0m     field \u001b[39m=\u001b[39m REGISTRY_UNIQUE_FIELD\u001b[39m.\u001b[39mget(registry\u001b[39m.\u001b[39m\u001b[39m__name__\u001b[39m\u001b[39m.\u001b[39mlower(), \u001b[39m\"\u001b[39m\u001b[39muid\u001b[39m\u001b[39m\"\u001b[39m)\n\u001b[1;32m     79\u001b[0m     label_uids \u001b[39m=\u001b[39m np\u001b[39m.\u001b[39marray(\n\u001b[1;32m     80\u001b[0m         [\u001b[39mgetattr\u001b[39m(label, field) \u001b[39mfor\u001b[39;00m label \u001b[39min\u001b[39;00m labels \u001b[39mif\u001b[39;00m label \u001b[39mis\u001b[39;00m \u001b[39mnot\u001b[39;00m \u001b[39mNone\u001b[39;00m]\n\u001b[1;32m     81\u001b[0m     )\n",
      "File \u001b[0;32m~/miniconda3/envs/test/lib/python3.10/site-packages/django/db/models/query.py:450\u001b[0m, in \u001b[0;36mQuerySet.__getitem__\u001b[0;34m(self, k)\u001b[0m\n\u001b[1;32m    448\u001b[0m qs\u001b[39m.\u001b[39mquery\u001b[39m.\u001b[39mset_limits(k, k \u001b[39m+\u001b[39m \u001b[39m1\u001b[39m)\n\u001b[1;32m    449\u001b[0m qs\u001b[39m.\u001b[39m_fetch_all()\n\u001b[0;32m--> 450\u001b[0m \u001b[39mreturn\u001b[39;00m qs\u001b[39m.\u001b[39;49m_result_cache[\u001b[39m0\u001b[39;49m]\n",
      "\u001b[0;31mIndexError\u001b[0m: list index out of range"
     ]
    }
   ],
   "source": [
    "import warnings\n",
    "\n",
    "warnings.filterwarnings(\"ignore\", category=ResourceWarning)\n",
    "warnings.filterwarnings(\"ignore\", category=FutureWarning)\n",
    "\n",
    "preprocessed_dataset = do_preprocess(cx_dataset, start_at=8)"
   ]
  },
  {
   "cell_type": "code",
   "execution_count": null,
   "metadata": {},
   "outputs": [],
   "source": []
  },
  {
   "cell_type": "code",
   "execution_count": 3,
   "metadata": {},
   "outputs": [
    {
     "data": {
      "text/plain": [
       "13"
      ]
     },
     "execution_count": 3,
     "metadata": {},
     "output_type": "execute_result"
    }
   ],
   "source": [
    "#we have processed that many files\n",
    "len(ln.Artifact.filter(version='2', description='preprocessed by scprint'))"
   ]
  },
  {
   "cell_type": "code",
   "execution_count": 3,
   "metadata": {},
   "outputs": [
    {
     "name": "stdout",
     "output_type": "stream",
     "text": [
      "❗ no run & transform get linked, consider passing a `run` or calling ln.track()\n"
     ]
    }
   ],
   "source": [
    "# I need to remake the dataset as it failed for some files and I had to restart at position 11\n",
    "name=\"preprocessed dataset\"\n",
    "description=\"preprocessed dataset using scprint\"\n",
    "dataset = ln.Collection(ln.Artifact.filter(version='2', description='preprocessed by scprint'), name=name, description=description)\n",
    "dataset.save()\n",
    "dataset.files.count()"
   ]
  },
  {
   "cell_type": "markdown",
   "metadata": {},
   "source": [
    "## Gene embeddings"
   ]
  },
  {
   "cell_type": "code",
   "execution_count": 19,
   "metadata": {},
   "outputs": [],
   "source": [
    "from scprint.dataloader.embedder import embed"
   ]
  },
  {
   "cell_type": "code",
   "execution_count": 3,
   "metadata": {},
   "outputs": [],
   "source": [
    "genedf = lb.Gene.filter(organism).df()"
   ]
  },
  {
   "cell_type": "code",
   "execution_count": 16,
   "metadata": {},
   "outputs": [
    {
     "data": {
      "text/plain": [
       "'homo_sapiens'"
      ]
     },
     "execution_count": 16,
     "metadata": {},
     "output_type": "execute_result"
    }
   ],
   "source": [
    "lb.Organism.filter(ontology_id=\"NCBITaxon:9606\").one().scientific_name"
   ]
  },
  {
   "cell_type": "code",
   "execution_count": 12,
   "metadata": {},
   "outputs": [],
   "source": [
    "organism = lb.Organism.filter(ontology_id=\"NCBITaxon:9606\").one()"
   ]
  },
  {
   "cell_type": "code",
   "execution_count": 11,
   "metadata": {},
   "outputs": [
    {
     "data": {
      "text/plain": [
       "'human'"
      ]
     },
     "execution_count": 11,
     "metadata": {},
     "output_type": "execute_result"
    }
   ],
   "source": [
    "organism"
   ]
  },
  {
   "cell_type": "code",
   "execution_count": 4,
   "metadata": {},
   "outputs": [
    {
     "data": {
      "text/html": [
       "<div>\n",
       "<style scoped>\n",
       "    .dataframe tbody tr th:only-of-type {\n",
       "        vertical-align: middle;\n",
       "    }\n",
       "\n",
       "    .dataframe tbody tr th {\n",
       "        vertical-align: top;\n",
       "    }\n",
       "\n",
       "    .dataframe thead th {\n",
       "        text-align: right;\n",
       "    }\n",
       "</style>\n",
       "<table border=\"1\" class=\"dataframe\">\n",
       "  <thead>\n",
       "    <tr style=\"text-align: right;\">\n",
       "      <th></th>\n",
       "      <th>uid</th>\n",
       "      <th>symbol</th>\n",
       "      <th>stable_id</th>\n",
       "      <th>ensembl_gene_id</th>\n",
       "      <th>ncbi_gene_ids</th>\n",
       "      <th>biotype</th>\n",
       "      <th>description</th>\n",
       "      <th>synonyms</th>\n",
       "      <th>organism_id</th>\n",
       "      <th>bionty_source_id</th>\n",
       "      <th>updated_at</th>\n",
       "      <th>created_by_id</th>\n",
       "    </tr>\n",
       "    <tr>\n",
       "      <th>id</th>\n",
       "      <th></th>\n",
       "      <th></th>\n",
       "      <th></th>\n",
       "      <th></th>\n",
       "      <th></th>\n",
       "      <th></th>\n",
       "      <th></th>\n",
       "      <th></th>\n",
       "      <th></th>\n",
       "      <th></th>\n",
       "      <th></th>\n",
       "      <th></th>\n",
       "    </tr>\n",
       "  </thead>\n",
       "  <tbody>\n",
       "    <tr>\n",
       "      <th>53102</th>\n",
       "      <td>a6Xjf000WNY3</td>\n",
       "      <td>LINC01772</td>\n",
       "      <td>None</td>\n",
       "      <td>ENSG00000226029</td>\n",
       "      <td>107984921</td>\n",
       "      <td>lncRNA</td>\n",
       "      <td>long intergenic non-protein coding RNA 1772 [S...</td>\n",
       "      <td>ENSG00000226029</td>\n",
       "      <td>2</td>\n",
       "      <td>9</td>\n",
       "      <td>2023-11-22 13:16:32.368761+00:00</td>\n",
       "      <td>1</td>\n",
       "    </tr>\n",
       "    <tr>\n",
       "      <th>53103</th>\n",
       "      <td>zR8psPjThixh</td>\n",
       "      <td>LINC01772</td>\n",
       "      <td>None</td>\n",
       "      <td>ENSG00000291388</td>\n",
       "      <td>107984921</td>\n",
       "      <td>lncRNA</td>\n",
       "      <td>long intergenic non-protein coding RNA 1772 [S...</td>\n",
       "      <td>ENSG00000226029</td>\n",
       "      <td>2</td>\n",
       "      <td>9</td>\n",
       "      <td>2023-11-22 13:16:32.368797+00:00</td>\n",
       "      <td>1</td>\n",
       "    </tr>\n",
       "    <tr>\n",
       "      <th>53104</th>\n",
       "      <td>mRzSiS7BgReH</td>\n",
       "      <td>TSPAN6</td>\n",
       "      <td>None</td>\n",
       "      <td>ENSG00000000003</td>\n",
       "      <td>7105</td>\n",
       "      <td>protein_coding</td>\n",
       "      <td>tetraspanin 6 [Source:HGNC Symbol;Acc:HGNC:11858]</td>\n",
       "      <td>T245|TSPAN-6|TM4SF6</td>\n",
       "      <td>2</td>\n",
       "      <td>9</td>\n",
       "      <td>2023-11-22 13:16:56.402584+00:00</td>\n",
       "      <td>1</td>\n",
       "    </tr>\n",
       "    <tr>\n",
       "      <th>53105</th>\n",
       "      <td>2wlFrfmHXEzi</td>\n",
       "      <td>TNMD</td>\n",
       "      <td>None</td>\n",
       "      <td>ENSG00000000005</td>\n",
       "      <td>64102</td>\n",
       "      <td>protein_coding</td>\n",
       "      <td>tenomodulin [Source:HGNC Symbol;Acc:HGNC:17757]</td>\n",
       "      <td>TEM|CHM1L|BRICD4|MYODULIN|TENDIN</td>\n",
       "      <td>2</td>\n",
       "      <td>9</td>\n",
       "      <td>2023-11-22 13:16:56.402622+00:00</td>\n",
       "      <td>1</td>\n",
       "    </tr>\n",
       "    <tr>\n",
       "      <th>53106</th>\n",
       "      <td>NQ1m5CzgdgDN</td>\n",
       "      <td>DPM1</td>\n",
       "      <td>None</td>\n",
       "      <td>ENSG00000000419</td>\n",
       "      <td>8813</td>\n",
       "      <td>protein_coding</td>\n",
       "      <td>dolichyl-phosphate mannosyltransferase subunit...</td>\n",
       "      <td>MPDS|CDGIE</td>\n",
       "      <td>2</td>\n",
       "      <td>9</td>\n",
       "      <td>2023-11-22 13:16:56.402654+00:00</td>\n",
       "      <td>1</td>\n",
       "    </tr>\n",
       "    <tr>\n",
       "      <th>...</th>\n",
       "      <td>...</td>\n",
       "      <td>...</td>\n",
       "      <td>...</td>\n",
       "      <td>...</td>\n",
       "      <td>...</td>\n",
       "      <td>...</td>\n",
       "      <td>...</td>\n",
       "      <td>...</td>\n",
       "      <td>...</td>\n",
       "      <td>...</td>\n",
       "      <td>...</td>\n",
       "      <td>...</td>\n",
       "    </tr>\n",
       "    <tr>\n",
       "      <th>180154</th>\n",
       "      <td>hk0qmgaJts9K</td>\n",
       "      <td>Gm56371</td>\n",
       "      <td>None</td>\n",
       "      <td>ENSMUSG00002076988</td>\n",
       "      <td></td>\n",
       "      <td>rRNA</td>\n",
       "      <td>predicted gene, 56371 [Source:MGI Symbol;Acc:M...</td>\n",
       "      <td></td>\n",
       "      <td>1</td>\n",
       "      <td>11</td>\n",
       "      <td>2023-11-28 14:29:52.039397+00:00</td>\n",
       "      <td>1</td>\n",
       "    </tr>\n",
       "    <tr>\n",
       "      <th>180155</th>\n",
       "      <td>jRNdAmsstLGL</td>\n",
       "      <td>Gm23510</td>\n",
       "      <td>None</td>\n",
       "      <td>ENSMUSG00002076989</td>\n",
       "      <td>115490486</td>\n",
       "      <td>snRNA</td>\n",
       "      <td>predicted gene, 23510 [Source:MGI Symbol;Acc:M...</td>\n",
       "      <td></td>\n",
       "      <td>1</td>\n",
       "      <td>11</td>\n",
       "      <td>2023-11-28 14:29:52.039424+00:00</td>\n",
       "      <td>1</td>\n",
       "    </tr>\n",
       "    <tr>\n",
       "      <th>180156</th>\n",
       "      <td>40YbTKFTR0L7</td>\n",
       "      <td>Gm22711</td>\n",
       "      <td>None</td>\n",
       "      <td>ENSMUSG00002076990</td>\n",
       "      <td></td>\n",
       "      <td>snoRNA</td>\n",
       "      <td>predicted gene, 22711 [Source:MGI Symbol;Acc:M...</td>\n",
       "      <td></td>\n",
       "      <td>1</td>\n",
       "      <td>11</td>\n",
       "      <td>2023-11-28 14:29:52.039452+00:00</td>\n",
       "      <td>1</td>\n",
       "    </tr>\n",
       "    <tr>\n",
       "      <th>180157</th>\n",
       "      <td>CljysptLUWv6</td>\n",
       "      <td>Gm55627</td>\n",
       "      <td>None</td>\n",
       "      <td>ENSMUSG00002076991</td>\n",
       "      <td></td>\n",
       "      <td>misc_RNA</td>\n",
       "      <td>predicted gene, 55627 [Source:MGI Symbol;Acc:M...</td>\n",
       "      <td></td>\n",
       "      <td>1</td>\n",
       "      <td>11</td>\n",
       "      <td>2023-11-28 14:29:52.039479+00:00</td>\n",
       "      <td>1</td>\n",
       "    </tr>\n",
       "    <tr>\n",
       "      <th>180158</th>\n",
       "      <td>4ZH0fRE0DSRt</td>\n",
       "      <td>Gm54807</td>\n",
       "      <td>None</td>\n",
       "      <td>ENSMUSG00002076992</td>\n",
       "      <td></td>\n",
       "      <td>misc_RNA</td>\n",
       "      <td>predicted gene, 54807 [Source:MGI Symbol;Acc:M...</td>\n",
       "      <td></td>\n",
       "      <td>1</td>\n",
       "      <td>11</td>\n",
       "      <td>2023-11-28 14:29:52.039506+00:00</td>\n",
       "      <td>1</td>\n",
       "    </tr>\n",
       "  </tbody>\n",
       "</table>\n",
       "<p>127057 rows × 12 columns</p>\n",
       "</div>"
      ],
      "text/plain": [
       "                 uid     symbol stable_id     ensembl_gene_id ncbi_gene_ids  \\\n",
       "id                                                                            \n",
       "53102   a6Xjf000WNY3  LINC01772      None     ENSG00000226029     107984921   \n",
       "53103   zR8psPjThixh  LINC01772      None     ENSG00000291388     107984921   \n",
       "53104   mRzSiS7BgReH     TSPAN6      None     ENSG00000000003          7105   \n",
       "53105   2wlFrfmHXEzi       TNMD      None     ENSG00000000005         64102   \n",
       "53106   NQ1m5CzgdgDN       DPM1      None     ENSG00000000419          8813   \n",
       "...              ...        ...       ...                 ...           ...   \n",
       "180154  hk0qmgaJts9K    Gm56371      None  ENSMUSG00002076988                 \n",
       "180155  jRNdAmsstLGL    Gm23510      None  ENSMUSG00002076989     115490486   \n",
       "180156  40YbTKFTR0L7    Gm22711      None  ENSMUSG00002076990                 \n",
       "180157  CljysptLUWv6    Gm55627      None  ENSMUSG00002076991                 \n",
       "180158  4ZH0fRE0DSRt    Gm54807      None  ENSMUSG00002076992                 \n",
       "\n",
       "               biotype                                        description  \\\n",
       "id                                                                          \n",
       "53102           lncRNA  long intergenic non-protein coding RNA 1772 [S...   \n",
       "53103           lncRNA  long intergenic non-protein coding RNA 1772 [S...   \n",
       "53104   protein_coding  tetraspanin 6 [Source:HGNC Symbol;Acc:HGNC:11858]   \n",
       "53105   protein_coding    tenomodulin [Source:HGNC Symbol;Acc:HGNC:17757]   \n",
       "53106   protein_coding  dolichyl-phosphate mannosyltransferase subunit...   \n",
       "...                ...                                                ...   \n",
       "180154            rRNA  predicted gene, 56371 [Source:MGI Symbol;Acc:M...   \n",
       "180155           snRNA  predicted gene, 23510 [Source:MGI Symbol;Acc:M...   \n",
       "180156          snoRNA  predicted gene, 22711 [Source:MGI Symbol;Acc:M...   \n",
       "180157        misc_RNA  predicted gene, 55627 [Source:MGI Symbol;Acc:M...   \n",
       "180158        misc_RNA  predicted gene, 54807 [Source:MGI Symbol;Acc:M...   \n",
       "\n",
       "                                synonyms  organism_id  bionty_source_id  \\\n",
       "id                                                                        \n",
       "53102                    ENSG00000226029            2                 9   \n",
       "53103                    ENSG00000226029            2                 9   \n",
       "53104                T245|TSPAN-6|TM4SF6            2                 9   \n",
       "53105   TEM|CHM1L|BRICD4|MYODULIN|TENDIN            2                 9   \n",
       "53106                         MPDS|CDGIE            2                 9   \n",
       "...                                  ...          ...               ...   \n",
       "180154                                              1                11   \n",
       "180155                                              1                11   \n",
       "180156                                              1                11   \n",
       "180157                                              1                11   \n",
       "180158                                              1                11   \n",
       "\n",
       "                             updated_at  created_by_id  \n",
       "id                                                      \n",
       "53102  2023-11-22 13:16:32.368761+00:00              1  \n",
       "53103  2023-11-22 13:16:32.368797+00:00              1  \n",
       "53104  2023-11-22 13:16:56.402584+00:00              1  \n",
       "53105  2023-11-22 13:16:56.402622+00:00              1  \n",
       "53106  2023-11-22 13:16:56.402654+00:00              1  \n",
       "...                                 ...            ...  \n",
       "180154 2023-11-28 14:29:52.039397+00:00              1  \n",
       "180155 2023-11-28 14:29:52.039424+00:00              1  \n",
       "180156 2023-11-28 14:29:52.039452+00:00              1  \n",
       "180157 2023-11-28 14:29:52.039479+00:00              1  \n",
       "180158 2023-11-28 14:29:52.039506+00:00              1  \n",
       "\n",
       "[127057 rows x 12 columns]"
      ]
     },
     "execution_count": 4,
     "metadata": {},
     "output_type": "execute_result"
    }
   ],
   "source": [
    "genedf"
   ]
  },
  {
   "cell_type": "code",
   "execution_count": null,
   "metadata": {},
   "outputs": [],
   "source": [
    "genedf = lb.Gene.filter().df()\n",
    "\n",
    "embeddings = embed(genedf=genedf,\n",
    "    organism=\"homo_sapiens\",\n",
    "    cache=True,\n",
    "    fasta_path=\"/tmp/data/fasta/\",\n",
    "    embedding_size=128,)"
   ]
  },
  {
   "cell_type": "code",
   "execution_count": null,
   "metadata": {},
   "outputs": [],
   "source": [
    "genedf = pd.concat([genedf, embeddings], axis=1, join='inner')\n",
    "genesdf.to_parquet('../../data/temp/genesdf.parquet')"
   ]
  },
  {
   "cell_type": "markdown",
   "metadata": {},
   "source": [
    "## data loader"
   ]
  },
  {
   "cell_type": "code",
   "execution_count": 20,
   "metadata": {},
   "outputs": [],
   "source": [
    "from torch.utils.data import WeightedRandomSampler"
   ]
  },
  {
   "cell_type": "code",
   "execution_count": 28,
   "metadata": {},
   "outputs": [
    {
     "data": {
      "text/plain": [
       "False"
      ]
     },
     "execution_count": 28,
     "metadata": {},
     "output_type": "execute_result"
    }
   ],
   "source": [
    "1 in list(WeightedRandomSampler(np.array([0,0,0,0,1,0.1,0.3,4,4])/100000, num_samples=1000, replacement=True))"
   ]
  },
  {
   "cell_type": "code",
   "execution_count": null,
   "metadata": {},
   "outputs": [],
   "source": [
    "dataset = ln.Collection.filter(name='preprocessed dataset').one()\n",
    "genesdf = pd.read_parquet('../../data/temp/genesdf.parquet')"
   ]
  },
  {
   "cell_type": "code",
   "execution_count": null,
   "metadata": {},
   "outputs": [],
   "source": [
    "# TODO: finish the annotation things DONE\n",
    "# TODO: make the dataloader for the model\n",
    "# TODO: add gene length to the preprocessor if needed"
   ]
  },
  {
   "cell_type": "code",
   "execution_count": 41,
   "metadata": {},
   "outputs": [
    {
     "name": "stdout",
     "output_type": "stream",
     "text": [
      "The autoreload extension is already loaded. To reload it, use:\n",
      "  %reload_ext autoreload\n",
      "\n",
      "  %reload_ext autoreload\n"
     ]
    }
   ],
   "source": [
    "from scprint.dataset import mapped\n",
    "\n",
    "%load_ext autoreload\n",
    "%autoreload 2"
   ]
  },
  {
   "cell_type": "code",
   "execution_count": 134,
   "metadata": {},
   "outputs": [
    {
     "name": "stdout",
     "output_type": "stream",
     "text": [
      "❗ no run & transform get linked, consider passing a `run` or calling ln.track()\n"
     ]
    }
   ],
   "source": [
    "mapped_dataset = mapped.mapped(dataset, label_keys=all_labels, encode_labels=labels_weighted_sampling)"
   ]
  },
  {
   "cell_type": "code",
   "execution_count": 53,
   "metadata": {},
   "outputs": [],
   "source": [
    "weights = mapped_dataset.get_label_weights(labels_weighted_sampling)"
   ]
  },
  {
   "cell_type": "code",
   "execution_count": 35,
   "metadata": {},
   "outputs": [],
   "source": [
    "labels_weighted_sampling = [\n",
    "    'self_reported_ethnicity_ontology_term_id',\n",
    "    'assay_ontology_term_id',\n",
    "    'development_stage_ontology_term_id',\n",
    "    'disease_ontology_term_id',\n",
    "    'cell_type_ontology_term_id',\n",
    "    'tissue_ontology_term_id',\n",
    "    'sex_ontology_term_id',\n",
    "]\n",
    "\n",
    "all_labels = [\n",
    "    'self_reported_ethnicity_ontology_term_id',\n",
    "    'assay_ontology_term_id',\n",
    "    'development_stage_ontology_term_id',\n",
    "    'disease_ontology_term_id',\n",
    "    'cell_type_ontology_term_id',\n",
    "    'tissue_ontology_term_id',\n",
    "    'sex_ontology_term_id',\n",
    "    #'dataset_id',\n",
    "    #'cell_culture',\n",
    "    \"dpt_group\",\n",
    "    \"heat_diff\",\n",
    "    \"nnz\",\n",
    "]"
   ]
  },
  {
   "cell_type": "code",
   "execution_count": 37,
   "metadata": {},
   "outputs": [
    {
     "data": {
      "text/plain": [
       "364376"
      ]
     },
     "execution_count": 37,
     "metadata": {},
     "output_type": "execute_result"
    }
   ],
   "source": [
    "len(mapped_dataset)"
   ]
  },
  {
   "cell_type": "code",
   "execution_count": null,
   "metadata": {},
   "outputs": [],
   "source": [
    "# get the N samples DONE\n",
    "# get the unseen info DONE\n",
    "# get the I most expressed genes, add randomly some unexpressed genes that are not unseen\n",
    "# map the genes to the embeddings DONE\n",
    "# create positions from counts (function)\n",
    "# add to embeddings\n",
    "# create / learn special tokens embeddings. <batch> <class> <library_size> <diffpseudotime>\n",
    "# other version, one token per class type <self_reported_ethnicity_ontology_term_id> <assay_ontology_term_id> <development_stage_ontology_term_id> <disease_ontology_term_id> <cell_type_ontology_term_id> <tissue_ontology_term_id> <sex_ontology_term_id>\n",
    "# define positions for these tokens\n",
    "# get all annotations and parental relations and convert to encoding\n",
    "# get the N nearest neighbors if any\n",
    "# get the 3 next time point if any\n",
    "    # do the same for the 3 next time points"
   ]
  },
  {
   "cell_type": "code",
   "execution_count": null,
   "metadata": {},
   "outputs": [],
   "source": []
  }
 ],
 "metadata": {
  "kernelspec": {
   "display_name": "scprint",
   "language": "python",
   "name": "python3"
  },
  "language_info": {
   "codemirror_mode": {
    "name": "ipython",
    "version": 3
   },
   "file_extension": ".py",
   "mimetype": "text/x-python",
   "name": "python",
   "nbconvert_exporter": "python",
   "pygments_lexer": "ipython3",
   "version": "3.10.0"
  }
 },
 "nbformat": 4,
 "nbformat_minor": 2
}
